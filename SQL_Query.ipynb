{
 "cells": [
  {
   "cell_type": "markdown",
   "metadata": {},
   "source": [
    "!pip install google-cloud-bigquery\n",
    "\n",
    "%pip install google-api-core\n",
    "\n",
    "%pip install --upgrade google-cloud-storage\n",
    "\n",
    "%pip install pybigquery\n",
    "\n",
    "!python -m pip install --upgrade pip"
   ]
  },
  {
   "cell_type": "code",
   "execution_count": 2,
   "metadata": {},
   "outputs": [],
   "source": [
    "google.__path__.append('C:\\\\Users\\\\D30001E013\\\\AppData\\\\Local\\\\Google\\\\Cloud SDK\\\\google-cloud-sdk\\\\platform\\\\google_appengine\\\\google')"
   ]
  },
  {
   "cell_type": "code",
   "execution_count": 3,
   "metadata": {},
   "outputs": [],
   "source": [
    "sys.path.insert(0,'C:\\\\Users\\\\D30001E013\\\\AppData\\\\Local\\\\Google\\\\Cloud SDK\\\\google-cloud-sdk\\\\platform\\\\google_appengine\\\\google')"
   ]
  },
  {
   "cell_type": "code",
   "execution_count": 3,
   "metadata": {},
   "outputs": [],
   "source": [
    "import google\n",
    "import sys\n",
    "import google.appengine"
   ]
  },
  {
   "cell_type": "code",
   "execution_count": 4,
   "metadata": {},
   "outputs": [],
   "source": [
    "import pandas as pd\n",
    "from sqlalchemy import text\n",
    "from sqlalchemy import create_engine"
   ]
  },
  {
   "cell_type": "code",
   "execution_count": 11,
   "metadata": {},
   "outputs": [],
   "source": [
    "from sqlalchemy import *\n",
    "from sqlalchemy.schema import *"
   ]
  },
  {
   "cell_type": "markdown",
   "metadata": {},
   "source": [
    "gcloud auth application-default login\n",
    "\n",
    "import os\n",
    "\n",
    "os.environ[\"GOOGLE_APPLICATION_CREDENTIALS\"] = \"path_to_your_.json_credential_file\""
   ]
  },
  {
   "cell_type": "code",
   "execution_count": 5,
   "metadata": {},
   "outputs": [],
   "source": [
    "import os\n",
    "os.environ[\"GOOGLE_APPLICATION_CREDENTIALS\"] = \"C:\\\\Users\\\\D30001E013\\\\AppData\\\\Roaming\\\\gcloud\\\\application_default_credentials.json\""
   ]
  },
  {
   "cell_type": "code",
   "execution_count": null,
   "metadata": {},
   "outputs": [],
   "source": [
    "QUERY = \"\"\"\n",
    "SELECT DISTINCT term from 'big-que\n",
    "\"\"\""
   ]
  },
  {
   "cell_type": "code",
   "execution_count": 12,
   "metadata": {},
   "outputs": [],
   "source": [
    "import subprocess"
   ]
  },
  {
   "cell_type": "code",
   "execution_count": 18,
   "metadata": {},
   "outputs": [],
   "source": [
    "def query_example():\n",
    "\n",
    "    cmd = (\"\"\" bq --format=csv query --use_legacy_sql=false\\\n",
    "        'SELECT DISTINCT term from 'bigquery-public-data.google-trends.top-terms' WHERE refresh_date = DATE_SUB(CURRENT_DATE(),INTERVAL 1 DAY)' > output.csv\"\"\")\n",
    "    subprocess.call(cmd,shell=True)"
   ]
  },
  {
   "cell_type": "code",
   "execution_count": 21,
   "metadata": {},
   "outputs": [
    {
     "data": {
      "text/plain": [
       "'SELECT word, SUM(word_count) AS count FROM `bigquery-public-data`.samples.shakespeare WHERE word LIKE \"%raisin%\" GROUP BY word'"
      ]
     },
     "execution_count": 21,
     "metadata": {},
     "output_type": "execute_result"
    }
   ],
   "source": [
    "#The below query is run using the command palette and use the extension to query Bigquery database\n",
    "SELECT word, SUM(word_count) AS count FRO `bigquery-public-data`.samples.shakespeare WHERE word LIKE \"%raisin%\" GROUP BY word"
   ]
  },
  {
   "cell_type": "markdown",
   "metadata": {},
   "source": [
    "![](2022-02-07-20-32-25.png)"
   ]
  },
  {
   "cell_type": "markdown",
   "metadata": {},
   "source": [
    "Each SchemaField tells us about a specific column (which we also refer to as a field). In order, the information is:\n",
    "\n",
    "The name of the column\n",
    "\n",
    "The field type (or datatype) in the column\n",
    "\n",
    "The mode of the column *('NULLABLE' means that a column allows NULL values, and is the default)*\n",
    "\n",
    "A description of the data in that column\n",
    "\n",
    "The first field has the SchemaField:\n",
    "\n",
    "SchemaField('by', 'string', 'NULLABLE', \"The username of the item's author.\",())"
   ]
  },
  {
   "cell_type": "markdown",
   "metadata": {},
   "source": [
    "1st query simple and easy\n",
    "\n",
    "SELECT city  #city is the column\n",
    "\n",
    "FROM `bigquery-public-data.openaq.global_air_quality` (public data . dataset . table in the dataset)\n",
    "\n",
    "WHERE country = 'US'"
   ]
  },
  {
   "cell_type": "markdown",
   "metadata": {},
   "source": [
    "2nd Query ### Introducing the initial query with SELECT FROM WHERE clauses\n",
    "\n",
    "SELECT city, country ( Select 2 columns mentioned here )\n",
    "\n",
    "FROM `bigquery-public-data.openaq.global_air_quality` ( from the dataset openaq)\n",
    "\n",
    "WHERE country = 'US' (country is US)\n",
    "\n",
    "city  US\n",
    "\n",
    "city  US\n",
    "\n",
    "city  US"
   ]
  },
  {
   "cell_type": "markdown",
   "metadata": {},
   "source": [
    "SELECT * (All columns selected)\n",
    "\n",
    "FROM `bigquery-public-data.openaq.global_air_quality`\n",
    "\n",
    "WHERE country = 'US'"
   ]
  },
  {
   "cell_type": "markdown",
   "metadata": {},
   "source": [
    "# Introducing HAVING instead of WHERE, when GROUPBY is used\n",
    "\n",
    "SELECT parent, COUNT(id) # This will create additional column with the counts. \n",
    "\n",
    "FROM `bigquery-public-data.hacker_news.comments` # database \n",
    "\n",
    "GROUP BY parent # this groups the entire data with the type of parent\n",
    "\n",
    "HAVING COUNT(id) > 10 # pulls out the data where only the count is more than 10\n",
    "\n",
    "\n",
    "SELECT parent, COUNT(1) AS NumPosts # 1 is the id column, since the index column is 0, and it is aliased with AS\n",
    "\n",
    "FROM `bigquery-public-data.hacker_news.comments`\n",
    "\n",
    "GROUP BY parent \n",
    "\n",
    "HAVING COUNT(1) > 10"
   ]
  },
  {
   "cell_type": "markdown",
   "metadata": {},
   "source": [
    "Below won't work as the author is not aggregated\n",
    "\n",
    "SELECT author, parent, COUNT(id)\n",
    "\n",
    "FROM `bigquery-public-data.hacker_news.comments`\n",
    "\n",
    "GROUP BY parent"
   ]
  },
  {
   "cell_type": "markdown",
   "metadata": {},
   "source": [
    "# Introducing Order by\n",
    "\n",
    "SELECT ID, NAME, ANIMAL #Select 3 columns here\n",
    "\n",
    "FROM 'bigquery-public-data.pet_records.pets' # From the database\n",
    "\n",
    "ORDER BY ANIMAL DESC # here there is no condition, only instruction to order a column\n"
   ]
  },
  {
   "cell_type": "markdown",
   "metadata": {},
   "source": [
    "# Introducing Extract\n",
    "\n",
    "Below query finds how many accidents happens on every day of the week\n",
    "\n",
    "SELECT COUNT(consecutive_number) AS num_accidents, #Aggregation\n",
    "\n",
    "EXTRACT(DAYOFWEEK FROM timestamp_of_crash) AS day_of_week\n",
    "\n",
    "FROM `bigquery-public-data.nhtsa_traffic_fatalities.accident_2015`\n",
    "\n",
    "GROUP BY day_of_week\n",
    "\n",
    "ORDER BY num_accidents DESC"
   ]
  },
  {
   "cell_type": "markdown",
   "metadata": {},
   "source": [
    "A common table expression (or CTE) is a temporary table that you return within your query. CTEs are helpful for splitting your queries into readable chunks, and you can write queries against them."
   ]
  },
  {
   "cell_type": "markdown",
   "metadata": {},
   "source": [
    "WITH time AS \n",
    "\n",
    "(\n",
    "\n",
    " SELECT DATE(block_timestamp) AS trans_date\n",
    "\n",
    " FROM `bigquery-public-data.crypto_bitcoin.transactions`\n",
    "\n",
    ") #This is Common table expression\n",
    " \n",
    " SELECT COUNT(1) AS transactions,trans_date #this trans_date is coming from the CTE, and it is aggregated\n",
    " \n",
    " FROM time #is the name of the CTE\n",
    " \n",
    " GROUP BY trans_date\n",
    " \n",
    " ORDER BY trans_date"
   ]
  },
  {
   "cell_type": "markdown",
   "metadata": {},
   "source": [
    "# Introducing the JOINS\n",
    "ON determines which column in each table to use to combine the tables. Notice that since the ID"
   ]
  },
  {
   "cell_type": "markdown",
   "metadata": {},
   "source": [
    "SELECT L.license, COUNT(1) AS number_of_files #Aggregating on the license types and counting from L table joined \n",
    "\n",
    "FROM `bigquery-public-data.github_repos.sample_files` AS sf # with sf table\n",
    "\n",
    "INNER JOIN `bigquery-public-data.github_repos.licenses` AS L # Query to read from the \"Join\" command\n",
    "\n",
    "ON sf.repo_name = L.repo_name #referred down\n",
    "    \n",
    "GROUP BY L.license\n",
    "\n",
    "ORDER BY number_of_files DESC"
   ]
  },
  {
   "cell_type": "code",
   "execution_count": null,
   "metadata": {},
   "outputs": [],
   "source": []
  }
 ],
 "metadata": {
  "interpreter": {
   "hash": "a42c93b5eee6b56421653baa65deacde473063d5c4965d27c7a75f4e31a8d403"
  },
  "kernelspec": {
   "display_name": "Python 3.7.12 64-bit (system)",
   "language": "python",
   "name": "python3"
  },
  "language_info": {
   "codemirror_mode": {
    "name": "ipython",
    "version": 3
   },
   "file_extension": ".py",
   "mimetype": "text/x-python",
   "name": "python",
   "nbconvert_exporter": "python",
   "pygments_lexer": "ipython3",
   "version": "3.7.12"
  },
  "orig_nbformat": 4
 },
 "nbformat": 4,
 "nbformat_minor": 2
}

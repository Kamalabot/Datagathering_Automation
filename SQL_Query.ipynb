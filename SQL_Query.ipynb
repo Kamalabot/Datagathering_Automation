{
 "cells": [
  {
   "cell_type": "markdown",
   "metadata": {},
   "source": [
    "!pip install google-cloud-bigquery\n",
    "\n",
    "%pip install google-api-core\n",
    "\n",
    "%pip install --upgrade google-cloud-storage\n",
    "\n",
    "%pip install pybigquery\n",
    "\n",
    "!python -m pip install --upgrade pip"
   ]
  },
  {
   "cell_type": "code",
   "execution_count": 2,
   "metadata": {},
   "outputs": [],
   "source": [
    "google.__path__.append('C:\\\\Users\\\\D30001E013\\\\AppData\\\\Local\\\\Google\\\\Cloud SDK\\\\google-cloud-sdk\\\\platform\\\\google_appengine\\\\google')"
   ]
  },
  {
   "cell_type": "code",
   "execution_count": 3,
   "metadata": {},
   "outputs": [],
   "source": [
    "sys.path.insert(0,'C:\\\\Users\\\\D30001E013\\\\AppData\\\\Local\\\\Google\\\\Cloud SDK\\\\google-cloud-sdk\\\\platform\\\\google_appengine\\\\google')"
   ]
  },
  {
   "cell_type": "code",
   "execution_count": 3,
   "metadata": {},
   "outputs": [],
   "source": [
    "import google\n",
    "import sys\n",
    "import google.appengine"
   ]
  },
  {
   "cell_type": "code",
   "execution_count": 4,
   "metadata": {},
   "outputs": [],
   "source": [
    "import pandas as pd\n",
    "from sqlalchemy import text\n",
    "from sqlalchemy import create_engine"
   ]
  },
  {
   "cell_type": "code",
   "execution_count": 11,
   "metadata": {},
   "outputs": [],
   "source": [
    "from sqlalchemy import *\n",
    "from sqlalchemy.schema import *"
   ]
  },
  {
   "cell_type": "markdown",
   "metadata": {},
   "source": [
    "gcloud auth application-default login\n",
    "\n",
    "import os\n",
    "\n",
    "os.environ[\"GOOGLE_APPLICATION_CREDENTIALS\"] = \"path_to_your_.json_credential_file\""
   ]
  },
  {
   "cell_type": "code",
   "execution_count": 5,
   "metadata": {},
   "outputs": [],
   "source": [
    "import os\n",
    "os.environ[\"GOOGLE_APPLICATION_CREDENTIALS\"] = \"C:\\\\Users\\\\D30001E013\\\\AppData\\\\Roaming\\\\gcloud\\\\application_default_credentials.json\""
   ]
  },
  {
   "cell_type": "code",
   "execution_count": null,
   "metadata": {},
   "outputs": [],
   "source": [
    "QUERY = \"\"\"\n",
    "SELECT DISTINCT term from 'big-que\n",
    "\"\"\""
   ]
  },
  {
   "cell_type": "code",
   "execution_count": 12,
   "metadata": {},
   "outputs": [],
   "source": [
    "import subprocess"
   ]
  },
  {
   "cell_type": "code",
   "execution_count": 18,
   "metadata": {},
   "outputs": [],
   "source": [
    "def query_example():\n",
    "\n",
    "    cmd = (\"\"\" bq --format=csv query --use_legacy_sql=false\\\n",
    "        'SELECT DISTINCT term from 'bigquery-public-data.google-trends.top-terms' WHERE refresh_date = DATE_SUB(CURRENT_DATE(),INTERVAL 1 DAY)' > output.csv\"\"\")\n",
    "    subprocess.call(cmd,shell=True)"
   ]
  },
  {
   "cell_type": "code",
   "execution_count": 21,
   "metadata": {},
   "outputs": [
    {
     "data": {
      "text/plain": [
       "'SELECT word, SUM(word_count) AS count FROM `bigquery-public-data`.samples.shakespeare WHERE word LIKE \"%raisin%\" GROUP BY word'"
      ]
     },
     "execution_count": 21,
     "metadata": {},
     "output_type": "execute_result"
    }
   ],
   "source": [
    "#The below query is run using the command palette and use the extension to query Bigquery database\n",
    "SELECT word, SUM(word_count) AS count FRO `bigquery-public-data`.samples.shakespeare WHERE word LIKE \"%raisin%\" GROUP BY word"
   ]
  },
  {
   "cell_type": "markdown",
   "metadata": {},
   "source": [
    "![](2022-02-07-20-32-25.png)"
   ]
  },
  {
   "cell_type": "markdown",
   "metadata": {},
   "source": [
    "Each SchemaField tells us about a specific column (which we also refer to as a field). In order, the information is:\n",
    "\n",
    "The name of the column\n",
    "\n",
    "The field type (or datatype) in the column\n",
    "\n",
    "The mode of the column *('NULLABLE' means that a column allows NULL values, and is the default)*\n",
    "\n",
    "A description of the data in that column\n",
    "\n",
    "The first field has the SchemaField:\n",
    "\n",
    "SchemaField('by', 'string', 'NULLABLE', \"The username of the item's author.\",())"
   ]
  },
  {
   "cell_type": "markdown",
   "metadata": {},
   "source": [
    "1st query simple and easy\n",
    "\n",
    "SELECT city  #city is the column\n",
    "\n",
    "FROM `bigquery-public-data.openaq.global_air_quality` (public data . dataset . table in the dataset)\n",
    "\n",
    "WHERE country = 'US'"
   ]
  },
  {
   "cell_type": "markdown",
   "metadata": {},
   "source": [
    "2nd Query ### Introducing the initial query with SELECT FROM WHERE clauses\n",
    "\n",
    "SELECT city, country ( Select 2 columns mentioned here )\n",
    "\n",
    "FROM `bigquery-public-data.openaq.global_air_quality` ( from the dataset openaq)\n",
    "\n",
    "WHERE country = 'US' (country is US)\n",
    "\n",
    "city  US\n",
    "\n",
    "city  US\n",
    "\n",
    "city  US"
   ]
  },
  {
   "cell_type": "markdown",
   "metadata": {},
   "source": [
    "SELECT * (All columns selected)\n",
    "\n",
    "FROM `bigquery-public-data.openaq.global_air_quality`\n",
    "\n",
    "WHERE country = 'US'"
   ]
  },
  {
   "cell_type": "markdown",
   "metadata": {},
   "source": [
    "# Introducing HAVING instead of WHERE, when GROUPBY is used\n",
    "\n",
    "SELECT parent, COUNT(id) # This will create additional column with the counts. \n",
    "\n",
    "FROM `bigquery-public-data.hacker_news.comments` # database \n",
    "\n",
    "GROUP BY parent # this groups the entire data with the type of parent\n",
    "\n",
    "HAVING COUNT(id) > 10 # pulls out the data where only the count is more than 10\n",
    "\n",
    "\n",
    "SELECT parent, COUNT(1) AS NumPosts # 1 is the id column, since the index column is 0, and it is aliased with AS\n",
    "\n",
    "FROM `bigquery-public-data.hacker_news.comments`\n",
    "\n",
    "GROUP BY parent \n",
    "\n",
    "HAVING COUNT(1) > 10"
   ]
  },
  {
   "cell_type": "markdown",
   "metadata": {},
   "source": [
    "Below won't work as the author is not aggregated\n",
    "\n",
    "SELECT author, parent, COUNT(id)\n",
    "\n",
    "FROM `bigquery-public-data.hacker_news.comments`\n",
    "\n",
    "GROUP BY parent"
   ]
  },
  {
   "cell_type": "markdown",
   "metadata": {},
   "source": [
    "# Introducing Order by\n",
    "\n",
    "SELECT ID, NAME, ANIMAL #Select 3 columns here\n",
    "\n",
    "FROM 'bigquery-public-data.pet_records.pets' # From the database\n",
    "\n",
    "ORDER BY ANIMAL DESC # here there is no condition, only instruction to order a column\n"
   ]
  },
  {
   "cell_type": "markdown",
   "metadata": {},
   "source": [
    "# Introducing Extract\n",
    "\n",
    "Below query finds how many accidents happens on every day of the week\n",
    "\n",
    "SELECT COUNT(consecutive_number) AS num_accidents, #Aggregation\n",
    "\n",
    "EXTRACT(DAYOFWEEK FROM timestamp_of_crash) AS day_of_week\n",
    "\n",
    "FROM `bigquery-public-data.nhtsa_traffic_fatalities.accident_2015`\n",
    "\n",
    "GROUP BY day_of_week\n",
    "\n",
    "ORDER BY num_accidents DESC"
   ]
  },
  {
   "cell_type": "markdown",
   "metadata": {},
   "source": [
    "A common table expression (or CTE) is a temporary table that you return within your query. CTEs are helpful for splitting your queries into readable chunks, and you can write queries against them."
   ]
  },
  {
   "cell_type": "markdown",
   "metadata": {},
   "source": [
    "WITH time AS \n",
    "\n",
    "(\n",
    "\n",
    " SELECT DATE(block_timestamp) AS trans_date\n",
    "\n",
    " FROM `bigquery-public-data.crypto_bitcoin.transactions`\n",
    "\n",
    ") #This is Common table expression\n",
    " \n",
    " SELECT COUNT(1) AS transactions,trans_date #this trans_date is coming from the CTE, and it is aggregated\n",
    " \n",
    " FROM time #is the name of the CTE\n",
    " \n",
    " GROUP BY trans_date\n",
    " \n",
    " ORDER BY trans_date"
   ]
  },
  {
   "cell_type": "markdown",
   "metadata": {},
   "source": [
    "# Introducing the JOINS\n",
    "ON determines which column in each table to use to combine the tables. Notice that since the ID"
   ]
  },
  {
   "cell_type": "markdown",
   "metadata": {},
   "source": [
    "SELECT L.license, COUNT(1) AS number_of_files #Aggregating on the license types and counting from L table joined \n",
    "\n",
    "FROM `bigquery-public-data.github_repos.sample_files` AS sf # with sf table\n",
    "\n",
    "INNER JOIN `bigquery-public-data.github_repos.licenses` AS L # Query to read from the \"Join\" command\n",
    "\n",
    "ON sf.repo_name = L.repo_name #referred down\n",
    "    \n",
    "GROUP BY L.license\n",
    "\n",
    "ORDER BY number_of_files DESC"
   ]
  },
  {
   "cell_type": "markdown",
   "metadata": {},
   "source": [
    "![](2022-02-07-22-24-06.png)"
   ]
  },
  {
   "cell_type": "markdown",
   "metadata": {},
   "source": [
    "![](2022-02-08-06-20-58.png)"
   ]
  },
  {
   "cell_type": "markdown",
   "metadata": {},
   "source": [
    "![](2022-02-08-06-21-31.png)"
   ]
  },
  {
   "cell_type": "markdown",
   "metadata": {},
   "source": [
    "JOINs horizontally combine results from different tables. If you instead would like to vertically concatenate columns, you can do so with a UNION.\n",
    "\n",
    " with a UNION, the data types of both columns must be the same, but the column names can be different. (So, for instance, we cannot take the UNION of the Age column from the owners table and the Pet_Name column from the pets table.)\n",
    "\n",
    " UNION ALL to include duplicate values - you'll notice that 9 appears in both the owners table and the pets table, and shows up twice in the concatenated results. If you'd like to drop duplicate values, you need only change UNION ALL in the query to UNION DISTINCT"
   ]
  },
  {
   "cell_type": "markdown",
   "metadata": {},
   "source": []
  },
  {
   "cell_type": "markdown",
   "metadata": {},
   "source": [
    "WITH c AS\n",
    "             (\n",
    "             \n",
    "             SELECT parent, COUNT(*) as num_comments\n",
    "             \n",
    "             FROM `bigquery-public-data.hacker_news.comments` \n",
    "             \n",
    "             GROUP BY parent\n",
    "             \n",
    "             ) # this CTE is 'c' taken from comments table\n",
    "             \n",
    "             SELECT s.id as story_id, s.by, s.title, c.num_comments # joined columns come first\n",
    "             \n",
    "             FROM `bigquery-public-data.hacker_news.stories` AS s # This is 2nd table\n",
    "             \n",
    "             LEFT JOIN c #CTE 'c' is the left table which will be kept\n",
    "             \n",
    "             ON s.id = c.parent # column that is common\n",
    "             \n",
    "             WHERE EXTRACT(DATE FROM s.time_ts) = '2012-01-01'\n",
    "\n",
    "             ORDER BY c.num_comments DESC"
   ]
  },
  {
   "cell_type": "markdown",
   "metadata": {},
   "source": [
    "The below query provides only the names of the story writers in both tables, on 1st Jan\n",
    "\n",
    "[\n",
    "\n",
    "SELECT c.by\n",
    "\n",
    "FROM `bigquery-public-data.hacker_news.comments` AS c\n",
    "\n",
    "WHERE EXTRACT(DATE FROM c.time_ts) = '2014-01-01'\n",
    "\n",
    "]\n",
    "\n",
    "UNION DISTINCT #This keyword informs that only distinct values to be selected\n",
    "\n",
    "[\n",
    "\n",
    "SELECT s.by\n",
    "\n",
    "FROM `bigquery-public-data.hacker_news.stories` AS s\n",
    "\n",
    "WHERE EXTRACT(DATE FROM s.time_ts) = '2014-01-01'\n",
    "\n",
    "]\n"
   ]
  },
  {
   "cell_type": "markdown",
   "metadata": {},
   "source": [
    "# Intro the Analytic Functions \n",
    "\n",
    "![](2022-02-08-06-59-44.png)\n",
    "\n",
    "\n",
    "functions have an OVER clause, which defines the sets of rows used in each calculation. The OVER clause has three (optional) parts:\n",
    "\n",
    "The PARTITION BY clause divides the rows of the table into different groups. In the query above, we divide by id so that the calculations are separated by runner.\n",
    "\n",
    "The ORDER BY clause defines an ordering within each partition. In the sample query, ordering by \n",
    "the date column ensures that earlier training sessions appear first.\n",
    "\n",
    "The final clause (ROWS BETWEEN 1 PRECEDING AND CURRENT ROW) is known as a window frame clause. It identifies the set of rows used in each calculation. We can refer to this group of rows as a window. (Actually, analytic functions are sometimes referred to as analytic window functions or simply window functions!)"
   ]
  },
  {
   "cell_type": "markdown",
   "metadata": {},
   "source": [
    "ROWS BETWEEN 1 PRECEDING AND CURRENT ROW - the previous row and the current row.\n",
    "\n",
    "ROWS BETWEEN 3 PRECEDING AND 1 FOLLOWING - the 3 previous rows, the current row, and the following row.\n",
    "\n",
    "ROWS BETWEEN UNBOUNDED PRECEDING AND UNBOUNDED FOLLOWING - all rows in the partition.\n"
   ]
  },
  {
   "cell_type": "markdown",
   "metadata": {},
   "source": [
    "1) Analytic aggregate functions\n",
    "\n",
    "As you might recall, AVG() (from the example above) is an aggregate function. The OVER clause is what ensures that it's treated as an analytic (aggregate) function. Aggregate functions take all of the values within the window as input and return a single value.\n",
    "\n",
    "MIN() (or MAX()) - Returns the minimum (or maximum) of input values\n",
    "\n",
    "AVG() (or SUM()) - Returns the average (or sum) of input values\n",
    "\n",
    "COUNT() - Returns the number of rows in the input\n",
    "\n",
    "2) Analytic navigation functions\n",
    "Navigation functions assign a value based on the value in a (usually) different row than the current row.\n",
    "\n",
    "FIRST_VALUE() (or LAST_VALUE()) - Returns the first (or last) value in the input\n",
    "\n",
    "LEAD() (and LAG()) - Returns the value on a subsequent (or preceding) row\n",
    "\n",
    "3) Analytic numbering functions\n",
    "Numbering functions assign integer values to each row based on the ordering.\n",
    "\n",
    "ROW_NUMBER() - Returns the order in which rows appear in the input (starting with 1)\n",
    "\n",
    "RANK() - All rows with the same value in the ordering column receive the same rank value, where the next row receives a rank value which increments by the number of rows with the previous rank value.\n"
   ]
  },
  {
   "cell_type": "markdown",
   "metadata": {},
   "source": [
    "WITH trips_by_day AS\n",
    "\n",
    "(  #This query creates the number of trips per day in 2015\n",
    "    \n",
    "SELECT DATE(start_date) AS trip_date,\n",
    "\n",
    "    COUNT(*) as num_trips\n",
    "    \n",
    "FROM `bigquery-public-data.san_francisco.bikeshare_trips`\n",
    "\n",
    "WHERE EXTRACT(YEAR FROM start_date) = 2015 \n",
    "\n",
    "GROUP BY trip_date \n",
    "\n",
    ") #this is CTE trips_by_day\n",
    "\n",
    "SELECT *,\n",
    "\n",
    "    SUM(num_trips) #the trips are adds the cumulative sum as 3rd column\n",
    "    \n",
    "        OVER (\n",
    "            \n",
    "            ORDER BY trip_date \n",
    "            \n",
    "            ROWS BETWEEN UNBOUNDED PRECEDING AND CURRENT ROW\n",
    "            \n",
    "            ) AS cumulative_trips\n",
    "            \n",
    "    FROM trips_by_day\n",
    "    \n",
    "\"\"\"\n",
    "\n",
    "trip_date num_trips cum_trips"
   ]
  },
  {
   "cell_type": "markdown",
   "metadata": {},
   "source": [
    "SELECT bike_number,\n",
    "\n",
    "TIME(start_date) AS trip_time,\n",
    "\n",
    "FIRST_VALUE(start_station_id)\n",
    "\n",
    "    OVER (\n",
    "        \n",
    "        PARTITION BY bike_number\n",
    "        \n",
    "        ORDER BY start_date\n",
    "        \n",
    "        ROWS BETWEEN UNBOUNDED PRECEDING AND UNBOUNDED FOLLOWING\n",
    "        \n",
    "        ) AS first_station_id,\n",
    "        \n",
    "LAST_VALUE(end_station_id)\n",
    "\n",
    "    OVER (\n",
    "        \n",
    "        PARTITION BY bike_number\n",
    "        \n",
    "        ORDER BY start_date\n",
    "        \n",
    "        ROWS BETWEEN UNBOUNDED PRECEDING AND UNBOUNDED FOLLOWING\n",
    "        \n",
    "        ) AS last_station_id,\n",
    "        \n",
    "start_station_id, # Select the columns that are created\n",
    "\n",
    "end_station_id # Select the columns that are created\n",
    "\n",
    "FROM `bigquery-public-data.san_francisco.bikeshare_trips`\n",
    "\n",
    "WHERE DATE(start_date) = '2015-10-25' \n",
    "\n",
    "\"\"\"\n"
   ]
  },
  {
   "cell_type": "markdown",
   "metadata": {},
   "source": [
    "# Introducing RECORD\n",
    "\n",
    "![](2022-02-08-13-06-45.png)\n",
    "\n",
    "This column has nested data as shown below \n",
    "\n",
    "![](2022-02-08-13-07-27.png)\n",
    "\n",
    "Selecting these columns are just a dot away\n",
    "\n",
    "![](2022-02-08-13-08-25.png)\n",
    "\n",
    "# Introducing REPEATED \n",
    "\n",
    "![](2022-02-08-13-09-40.png)\n",
    "\n",
    "the schema looks like this\n",
    "\n",
    "![](2022-02-08-13-10-19.png)\n",
    "\n",
    "to reach these elements the list columns needs to be unnested\n",
    "\n",
    "![](2022-02-08-13-11-58.png)\n",
    "\n"
   ]
  },
  {
   "cell_type": "markdown",
   "metadata": {},
   "source": [
    "# Its get more interesting NESTED and REPEATED\n",
    "\n",
    "![](2022-02-08-13-14-50.png)\n",
    "\n",
    "Look at the schema for RECORD and REPEATED\n",
    "\n",
    "![](2022-02-08-13-13-40.png)\n",
    "\n",
    "You unnest and then use the dot to reach the variable.... "
   ]
  },
  {
   "cell_type": "markdown",
   "metadata": {},
   "source": [
    "# Real Query\n",
    "\n",
    "\"\"\"\n",
    "SELECT device.browser AS device_browser, #under device RECORD there is browser value\n",
    "\n",
    "SUM(totals.transactions) as total_transactions #Sum the transactions unders totals RECORD\n",
    "\n",
    "FROM `bigquery-public-data.google_analytics_sample.ga_sessions_20170801`\n",
    "\n",
    "GROUP BY device_browser #use the alias to group, and sum the transaction\n",
    "\n",
    "ORDER BY total_transactions DESC #use alias of sum to order descending\n"
   ]
  },
  {
   "cell_type": "markdown",
   "metadata": {},
   "source": [
    "\"\"\"\n",
    "\n",
    "SELECT hits.page.pagePath as path, # reach pagepath by 'page' \n",
    "\n",
    "COUNT(hits.page.pagePath) as counts\n",
    "\n",
    "FROM `bigquery-public-data.google_analytics_sample.ga_sessions_20170801`, \n",
    "\n",
    "UNNEST(hits) as hits # Need to start at unnested column, and decide how query is written\n",
    "\n",
    "WHERE hits.type=\"PAGE\" and hits.hitNumber=1 \n",
    "\n",
    "GROUP BY path\n",
    "\n",
    "ORDER BY counts DESC\n",
    "\n",
    "\"\"\"\n"
   ]
  },
  {
   "cell_type": "markdown",
   "metadata": {},
   "source": [
    "1) Only select the columns you want.\n",
    "\n",
    "2) Read less data.\n",
    "\n",
    "3) Avoid N:N JOINs.\n",
    "    \n",
    "    What is 1:1?\n",
    "    \n",
    "    There is one data that is common\n",
    "    \n",
    "    What is N:1?\n",
    "    \n",
    "    There is multiple common row in one of the tables, the other is unique\n",
    "\n",
    "    What is N:N?\n",
    "    \n",
    "    Both table have multiple common rows\n",
    "\n"
   ]
  },
  {
   "cell_type": "markdown",
   "metadata": {},
   "source": [
    "\n",
    "\"\"\"\n",
    "\n",
    "SELECT repo,\n",
    "\n",
    "COUNT(DISTINCT c.committer.name) as num_committers,\n",
    "\n",
    "COUNT(DISTINCT f.id) AS num_files\n",
    "\n",
    "FROM `bigquery-public-data.github_repos.commits` AS c, # 1st table\n",
    "\n",
    "UNNEST(c.repo_name) AS repo # repo_name is unnested \n",
    "\n",
    "INNER JOIN `bigquery-public-data.github_repos.files` AS f # 2nd table\n",
    "\n",
    "ON f.repo_name = repo\n",
    "\n",
    "WHERE f.repo_name IN ( 'tensorflow/tensorflow', 'facebook/react', 'twbs/bootstrap', 'apple/swift', 'Microsoft/vscode', 'torvalds/linux')\n",
    "\n",
    "GROUP BY repo\n",
    "\n",
    "ORDER BY repo\n",
    "\n",
    "\"\"\"\n"
   ]
  },
  {
   "cell_type": "markdown",
   "metadata": {},
   "source": [
    "WITH commits AS\n",
    "\n",
    "(\n",
    "    \n",
    "SELECT COUNT(DISTINCT committer.name) AS num_committers, repo\n",
    "\n",
    "FROM `bigquery-public-data.github_repos.commits`,\n",
    "\n",
    "UNNEST(repo_name) as repo\n",
    "\n",
    "WHERE repo IN ( 'tensorflow/tensorflow', 'facebook/react', 'twbs/bootstrap', 'apple/swift', 'Microsoft/vscode', 'torvalds/linux')\n",
    "\n",
    "GROUP BY repo\n",
    "\n",
    "), # This is 'commits' CTE gives num_committers, repo and grouped by repo \n",
    "\n",
    "files AS \n",
    "\n",
    "(\n",
    "    \n",
    "SELECT COUNT(DISTINCT id) AS num_files, repo_name as repo\n",
    "\n",
    "FROM `bigquery-public-data.github_repos.files`\n",
    "\n",
    "WHERE repo_name IN ( 'tensorflow/tensorflow', 'facebook/react', 'twbs/bootstrap', 'apple/swift', 'Microsoft/vscode', 'torvalds/linux')\n",
    "\n",
    "GROUP BY repo \n",
    "\n",
    ") # This is 'files' CTE gives num_files, repo\n",
    "\n",
    "\n",
    "SELECT commits.repo, commits.num_committers, files.num_files\n",
    "\n",
    "FROM commits \n",
    "\n",
    "INNER JOIN files\n",
    "\n",
    "ON commits.repo = files.repo\n",
    "\n",
    "ORDER BY repo\n"
   ]
  },
  {
   "cell_type": "markdown",
   "metadata": {},
   "source": []
  },
  {
   "cell_type": "code",
   "execution_count": null,
   "metadata": {},
   "outputs": [],
   "source": []
  }
 ],
 "metadata": {
  "interpreter": {
   "hash": "a42c93b5eee6b56421653baa65deacde473063d5c4965d27c7a75f4e31a8d403"
  },
  "kernelspec": {
   "display_name": "Python 3.7.12 64-bit (system)",
   "language": "python",
   "name": "python3"
  },
  "language_info": {
   "codemirror_mode": {
    "name": "ipython",
    "version": 3
   },
   "file_extension": ".py",
   "mimetype": "text/x-python",
   "name": "python",
   "nbconvert_exporter": "python",
   "pygments_lexer": "ipython3",
   "version": "3.7.12"
  },
  "orig_nbformat": 4
 },
 "nbformat": 4,
 "nbformat_minor": 2
}

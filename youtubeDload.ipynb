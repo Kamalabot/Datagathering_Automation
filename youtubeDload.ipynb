{
 "cells": [
  {
   "cell_type": "code",
   "execution_count": 25,
   "id": "0a75fcaa",
   "metadata": {},
   "outputs": [],
   "source": [
    "newLinks = [\"https://www.youtube.com/watch?v=OUzaUJ3gEug\",\"https://youtu.be/rAVhz2Koqms\",\"https://youtu.be/8b3hHKmWdTI\"]"
   ]
  },
  {
   "cell_type": "code",
   "execution_count": 1,
   "id": "3fe25679",
   "metadata": {},
   "outputs": [],
   "source": [
    "from pytube import YouTube\n",
    "from pytube import Channel\n",
    "from pytube import Search\n",
    "from pytube import Playlist"
   ]
  },
  {
   "cell_type": "code",
   "execution_count": 2,
   "id": "8a96fa85",
   "metadata": {},
   "outputs": [],
   "source": [
    "natOfCod = Playlist('https://www.youtube.com/playlist?list=PLRqwX-V7Uu6aFlwukCmDf0-1-uSR7mklK')\n",
    "natOfCodList = list(natOfCod.video_urls)"
   ]
  },
  {
   "cell_type": "code",
   "execution_count": 2,
   "id": "01e0b2e1",
   "metadata": {},
   "outputs": [],
   "source": [
    "powerBiReport = Playlist('https://youtube.com/playlist?list=PLwIcJx1aSL1SeTJgPbFgf1V-5CfsV4l1l')\n",
    "powerBiList = list(powerBiReport.video_urls)"
   ]
  },
  {
   "cell_type": "code",
   "execution_count": 26,
   "id": "5c6d7294",
   "metadata": {},
   "outputs": [],
   "source": [
    "pbList1 = powerBiList[0:7]\n",
    "pbList2 = powerBiList[14:19]\n",
    "newlistForDownload = newLinks + pbList1 + pbList2"
   ]
  },
  {
   "cell_type": "code",
   "execution_count": 3,
   "id": "8e3d817b",
   "metadata": {},
   "outputs": [],
   "source": [
    "dashBoardDes = Playlist('https://www.youtube.com/playlist?list=PLwIcJx1aSL1S0208H1BQXmV0_O6HbuB2S')"
   ]
  },
  {
   "cell_type": "code",
   "execution_count": 4,
   "id": "c253358d",
   "metadata": {},
   "outputs": [],
   "source": [
    "dashBoardDesList = list(dashBoardDes.video_urls)"
   ]
  },
  {
   "cell_type": "code",
   "execution_count": 5,
   "id": "90ca72f8",
   "metadata": {},
   "outputs": [
    {
     "data": {
      "text/plain": [
       "\"Get the full understanding of how to create a sales dashboard in excel, compare sales to company targets in excel.\\nDownload link here: http://www.mediafire.com/file/rx54eg4u34mbg0q/sales+Target+Dashboard.xlsx/file\\n \\nI create a colorful and beautiful excel dashboard that answers the business question in excel to follow along on frequent upload please kindly subscribe to my channel for more excel dashboard, pivot table, excel charts, excel function, and other tech tips.\\n\\nSUBSCRIBE to follow along as I upload the whole STEP BY STEP TUTORIALS.\\n\\nFree Dashboard Course: https://www.youtube.com/playlist?list=PLwIcJx1aSL1S0208H1BQXmV0_O6HbuB2S\\n\\nDragging and dropping values from a pivot table to summarize transactional data and create an excel dashboard is not enough. To bypass some pivot table's limitations I have created these dynamics excel dashboards to show you how to use custom functions in the pivot table to manipulate data and create a nice looking and amazing Microsoft Excel Dashboard from the scratch.\\n\\n\\nIn this tutorial, you will learn how to use excel pivot table and excel custom functions to make your excel pivot table analysis more professional. Know how to use the excel pivot table to summarize data in excel is not enough but with a custom function, you will do better.\\n\\nFormat your dashboard with nice cool colors.\\n\\nTo create dynamic Inventory management or store management in excel (No VBA)\\nClick here: https://www.youtube.com/playlist?list=PLwIcJx1aSL1SsuvtwFabvFVZW14YJQ6ox\\n\\n#excel\\n#exceldashboard\\n#howtocreateexceldashboard\\n#pivottable\\n#exceldashboard\\n#dashboardexcel\\n#excelchartsadvanced\\n#howtocreateadashboardinexcel\""
      ]
     },
     "execution_count": 5,
     "metadata": {},
     "output_type": "execute_result"
    }
   ],
   "source": [
    "YouTube(dashBoardDesList[0]).description"
   ]
  },
  {
   "cell_type": "code",
   "execution_count": 27,
   "id": "3f2d99a7",
   "metadata": {},
   "outputs": [],
   "source": [
    "playlistDesc = []\n",
    "for play in newlistForDownload:\n",
    "    playlistDesc.append(YouTube(play).description)"
   ]
  },
  {
   "cell_type": "code",
   "execution_count": 41,
   "id": "61a0f845",
   "metadata": {},
   "outputs": [
    {
     "data": {
      "text/plain": [
       "'/run/media/solverbot/repoA/gitFolders/Datagathering_Automation/Full Stack Web Development in the Cloud Course - Svelte Postgres Vercel Gitpod.mp4'"
      ]
     },
     "execution_count": 41,
     "metadata": {},
     "output_type": "execute_result"
    }
   ],
   "source": [
    "YouTube('https://www.youtube.com/watch?v=OUzaUJ3gEug').streams.get_highest_resolution().download()"
   ]
  },
  {
   "cell_type": "code",
   "execution_count": 54,
   "id": "db884689",
   "metadata": {},
   "outputs": [],
   "source": [
    "regexls = r\"(https\\S*.xlsx|http\\S*.xlsx)\""
   ]
  },
  {
   "cell_type": "code",
   "execution_count": 57,
   "id": "d9842d35",
   "metadata": {},
   "outputs": [],
   "source": [
    "regeZip = r\"(https?\\S*.zip|http?\\S*.zip)\""
   ]
  },
  {
   "cell_type": "code",
   "execution_count": 62,
   "id": "f40bdc35",
   "metadata": {},
   "outputs": [],
   "source": [
    "regeMid = r\"(http:\\/\\/www\\.media\\S*)\""
   ]
  },
  {
   "cell_type": "code",
   "execution_count": 64,
   "id": "5615391a",
   "metadata": {},
   "outputs": [],
   "source": [
    "regHtmp = r\"(http:\\S*)\\n*|(https:\\S*)\\n*\""
   ]
  },
  {
   "cell_type": "code",
   "execution_count": 13,
   "id": "1a4d049f",
   "metadata": {},
   "outputs": [],
   "source": [
    "import re"
   ]
  },
  {
   "cell_type": "code",
   "execution_count": 61,
   "id": "0ac113c7",
   "metadata": {},
   "outputs": [
    {
     "data": {
      "text/plain": [
       "[\"Get the full understanding of how to create a sales dashboard in excel, compare sales to company targets in excel.\\nDownload link here: http://www.mediafire.com/file/rx54eg4u34mbg0q/sales+Target+Dashboard.xlsx/file\\n \\nI create a colorful and beautiful excel dashboard that answers the business question in excel to follow along on frequent upload please kindly subscribe to my channel for more excel dashboard, pivot table, excel charts, excel function, and other tech tips.\\n\\nSUBSCRIBE to follow along as I upload the whole STEP BY STEP TUTORIALS.\\n\\nFree Dashboard Course: https://www.youtube.com/playlist?list=PLwIcJx1aSL1S0208H1BQXmV0_O6HbuB2S\\n\\nDragging and dropping values from a pivot table to summarize transactional data and create an excel dashboard is not enough. To bypass some pivot table's limitations I have created these dynamics excel dashboards to show you how to use custom functions in the pivot table to manipulate data and create a nice looking and amazing Microsoft Excel Dashboard from the scratch.\\n\\n\\nIn this tutorial, you will learn how to use excel pivot table and excel custom functions to make your excel pivot table analysis more professional. Know how to use the excel pivot table to summarize data in excel is not enough but with a custom function, you will do better.\\n\\nFormat your dashboard with nice cool colors.\\n\\nTo create dynamic Inventory management or store management in excel (No VBA)\\nClick here: https://www.youtube.com/playlist?list=PLwIcJx1aSL1SsuvtwFabvFVZW14YJQ6ox\\n\\n#excel\\n#exceldashboard\\n#howtocreateexceldashboard\\n#pivottable\\n#exceldashboard\\n#dashboardexcel\\n#excelchartsadvanced\\n#howtocreateadashboardinexcel\",\n",
       " \"Colorful, Interactive, and Dynamic Excel Dashboard and Pivot Table. You will learn how to further use custom functions to make your analysis better using even though if you use a pivot table. It is all about a dynamic and interactive excel dashboard.\\n\\n An easy and interactive excel dashboard will give you a good picture of your business or make your clients want to come back for more analytics works from you.\\n\\nDownload the dashboard excel file here: http://www.mediafire.com/file/myqfq7epwnmhlak/Ann+Driks+Dashboard.xlsx/file\\n\\nSUBSCRIBE to follow along as I upload the whole STEP BY STEP TUTORIALS.\\n\\nFree Dashboard Course: https://www.youtube.com/playlist?list=PLwIcJx1aSL1S0208H1BQXmV0_O6HbuB2S\\n\\nDragging and dropping values from a pivot table to summarize transactional data and create an excel dashboard is not enough. To bypass some pivot table's limitations I have created these dynamics excel dashboards to show you how to use custom functions in the pivot table to manipulate data and create a nice looking and amazing Microsoft Excel Dashboard from the scratch.\\n\\n\\nIn this tutorial, you will learn how to use excel pivot table and excel custom functions to make your excel pivot table analysis more professional. Know how to use the excel pivot table to summarize data in excel is not enough but with a custom function, you will do better.\\n\\nFormat your dashboard with nice cool colors.\\n\\nTo create dynamic Inventory management or store management in excel (No VBA)\\nClick here: https://www.youtube.com/playlist?list=PLwIcJx1aSL1SsuvtwFabvFVZW14YJQ6ox\\n\\n#excel\\n#exceldashboard\\n#howtocreateexceldashboard\\n#pivottable\\n#exceldashboard\\n#dashboardexcel\\n#excelchartsadvanced\\n#howtocreateadashboardinexcel\",\n",
       " \"Download the workbook of this Excel Tutorial Dashboard. This dashboard is about a call center, we use excel to analyze the monthly performance of the call center and create a very modern dynamic, and interactive excel dashboard to present our analysis in a more professional way.\\n\\nDownload the workbook here: http://www.mediafire.com/file/h1djcv4dlw9a1r3/Call+Center+KPI+Dashboard.xlsx/file\\n\\nWatch the overview here: https://youtu.be/RNLbNx6xrcY\\n\\nFor Business Inquiry: send Whatsapp message to +234 810 6090 365 or send mail to mumuniomeizaismaila@gmail.com\\n\\nSUBSCRIBE to follow along as I upload the whole STEP BY STEP TUTORIAL.\\n\\nDragging and dropping values from a pivot table to summarize transactional data and create an excel dashboard is not enough. To bypass some pivot table's limitations I have created these dynamics excel dashboards to show you how to use custom functions in a pivot table to manipulate data and create a nice looking and amazing Microsoft Excel Dashboard from the scratch.\\n\\nFormat your dashboard with nice cool colors.\\n\\nTo create dynamic Inventory management or store management in excel (No VBA)\\nClick here: https://www.youtube.com/playlist?list=PLwIcJx1aSL1SsuvtwFabvFVZW14YJQ6ox\\n\\n#excel\\n#exceldashboard\\n#howtocreateexceldashboard\\n#pivottable\\n#excelfunction\\n#excelsumproduct\\n#sumif\\n#sumifs\\n#excelanalysis\\n#msexcel\\n#callcenterexceldashboard\\n#modernexceldashboard\",\n",
       " \"Download  Present Excel Dashboard in PowerPoint workbook and PowerPoint file here: https://www.mediafire.com/file/0vdqjv39pebrqq3/Dasboards.zip/file\\nDon't forget to subscribe for more excel modern and interactive dashboard \\n\\nIn this tutorial, I will show you how to make a very powerful presentation in Microsoft PowerPoint and have it linked to an excel dashboard as a source. \\n\\nThe PowerPoint dashboard will get updated every time you have the excel dashboard updated too or if you actually filtered the data at the backend.\\n\\nIf you missed any steps kindly rewatch them as all the steps are intact to show everything you need to know.\\n\\nI will be coming up with some amazing Excel Dashboard, Powerpoint, Power BI, and SQL plus other tech tips tutorials over and over again please kindly stick to this channel by hitting the subscribe button to get every update as I upload.\\n\\nFor Business Inquiry: send Whatsapp message to +234 810 6090 365 or send mail to mumuniomeizaismaila@gmail.com\\n\\nSUBSCRIBE to follow along as I upload the whole STEP BY STEP TUTORIAL.\\n\\nEnjoy free Excel Dashboard Course here:https://www.youtube.com/playlist?list=PLwIcJx1aSL1S0208H1BQXmV0_O6HbuB2S\\n\\nTo create dynamic Inventory management or store management in excel (No VBA)\\nClick here: https://www.youtube.com/playlist?list=PLwIcJx1aSL1SsuvtwFabvFVZW14YJQ6ox\\n\\n#Powerpoint\\n#Powerpointdashboard\\n#exceltopowerpointdashboard\\n#howtocreatepowerpointpresentaion\\n#excel\\n#exceldashboard\\n#howtocreateexceldashboard\\n#pivottable\\n#excelfunction\\n#excelsumproduct\\n#sumif\\n#sumifs\\n#excelanalysis\\n#msexcel\",\n",
       " \"Let's create this amazing Excel Dashboard together with a search bar feature (No VBA) in excel. An easy and interactive excel dashboard will give you a good picture of your business or make your clients want to come back for more analytics works from you.\\n\\nSUBSCRIBE to follow along as I upload the whole STEP BY STEP TUTORIALS.\\n\\nFree Dashboard Course: https://www.youtube.com/playlist?list=PLwIcJx1aSL1S0208H1BQXmV0_O6HbuB2S\\n\\nDragging and dropping values from a pivot table to summarize transactional data and create an excel dashboard is not enough. To bypass some pivot table's limitations I have created these dynamics excel dashboard to show you how to use custom functions in the pivot table to manipulate data and create nice looking and amazing Microsoft Excel Dashboard from the scratch.\\n\\n\\nIn this tutorial, you will learn how to add a search feature to your dashboard.\\nHow to use custom function make your dashboard more meaningful.\\nOrganize your dashboard.\\nFormat your dashboard with nice cool colors.\\n\\nTo create dynamic Inventory management or store management in excel (No VBA)\\nClick here: https://www.youtube.com/playlist?list=PLwIcJx1aSL1SsuvtwFabvFVZW14YJQ6ox\\n\\n#excel\\n#exceldashboard\\n#howtocreateexceldashboard\\n#pivottable\\n#exceldashboard\\n#dashboardexcel\\n#excelchartsadvanced\\n#howtocreateadashboardinexcel\",\n",
       " 'Download the workbook of how to add Excel KPI to your Dashboard, this KPI Project excel report dashboard will make your excel work stand out and professional.\\n\\nDownload here: https://www.mediafire.com/file/rib993vl6zcv8vq/Product+testing+youtube+lesson.xlsx/file\\n\\nFor Business Inquiry: send Whatsapp message to +234 810 6090 365 or send mail to mumuniomeizaismaila@gmail.com\\n\\nSUBSCRIBE to follow along as I upload the whole STEP BY STEP TUTORIAL.\\n\\nEnjoy free Excel Dashboard Course here:https://www.youtube.com/playlist?list=PLwIcJx1aSL1S0208H1BQXmV0_O6HbuB2S\\n\\nTo create dynamic Inventory management or store management in excel (No VBA)\\nClick here: https://www.youtube.com/playlist?list=PLwIcJx1aSL1SsuvtwFabvFVZW14YJQ6ox\\n\\nKPI Dashboard report goes well with percentage, so use it to show the percentage change in your dashboard.\\n\\nThis will fully show you how to create a KPI Dashboard in Microsoft excel, ask questions if need be. Thanks.\\n\\n#excel\\n#kpiexcelpowerpivot\\n#exceldashboard\\n#howtocreateexceldashboard\\n#pivottable\\n#excelfunction\\n#excelsumproduct\\n#sumif\\n#sumifs\\n#excelanalysis\\n#msexcel',\n",
       " \"How to build amazing dashboard with a search bar (No VBA) in excel. Easy and interactive excel dashboard  will give you good picture about your business or make your clients wonna come back for more analytics works from you.\\n\\nSUBSCRIBE to follow alonge as I upload the whole STEP BY STEP TUTORALS.\\n\\nDraging and dropping values from pivot table to summarize transactional data and create excel dashboard is not enough. To bypass some pivot table's limitations I have created this dynamics excel dashboard to show you how to use custom functions in pivot table to manuplate data and create nice looking and amazing Microsoft Excel Dashboard from the scratch.\\n\\n\\nIn this tutorial you will learn how to add search feature to your dashboard.\\nHow to use custom function make your dashboard more meaningful.\\nOrganize your dashboard.\\nFormart your dashboard with nice cool colors.\\n\\nTo create dynamic Inventory management or store management in excel (No VBA)\\nClick here: https://www.youtube.com/playlist?list=PLwIcJx1aSL1SsuvtwFabvFVZW14YJQ6ox\\n\\n#excel\\n#exceldashboard\\n#howtocreateexceldashboard\\n#pivottable\",\n",
       " \"Download the full dashboard to follow along. Are you ready to start creating this dashboard? let's create a modern dashboard using excel. you must have been searching for how to create a dashboard using excel from the scratch.\\n\\nDownload the excel dashboard here: https://www.mediafire.com/file/53y9kgedaoj3slx/our+compay+made+progress+in+2020.xlsx/file\\n\\nwe will learn how to create a very colorful dashboard that will be appealing to you and your boss or clients.\\n\\nnot only colorful but as well dynamic and interactive. To create a dynamic and interactive excel dashboard there are two ways to it.\\n\\nit is either you use an excel pivot table and add some custom excel function to make it highly dynamic or you can create the whole excel dashboard from the scratch using just a couple of formulas.\\n\\non this channel, you will learn both tricks; using a pivot table and function plus function base analysis and dashboard creation.\\n\\nyou can ask questions if you have any doubts about any of our steps. \\n\\nto start learning how to create a dashboard using excel from the scratch and my other excel dashboard go to my channel at www.youtube.com/datawithdecision\\n\\nthere you will see some good starting points to get your excel and dashboard skills upfront.\\n\\nFor Business Inquiry: send Whatsapp message to +234 810 6090 365 or send mail to mumuniomeizaismaila@gmail.com\\n\\nSUBSCRIBE to follow along as I upload the whole STEP BY STEP TUTORIAL.\\n\\nEnjoy free Excel Dashboard Course here:https://www.youtube.com/playlist?list=PLwIcJx1aSL1S0208H1BQXmV0_O6HbuB2S\\n\\nTo create dynamic Inventory management or store management in excel (No VBA)\\nClick here: https://www.youtube.com/playlist?list=PLwIcJx1aSL1SsuvtwFabvFVZW14YJQ6ox\\n\\n#pivotTable #excel #msexcel #exceldashboard #excelpivottable #excelprojectmanager #excel\\n#kpiexcelpowerpivot\\n#exceldashboard\\n#howtocreateexceldashboard\\n#pivottable\\n#excelfunction\\n#excelsumproduct\\n#sumif\\n#sumifs\\n#excelanalysis\\n#msexcel\",\n",
       " \"let's create a modern dashboard using excel. you must have been searching for how to create a dashboard using excel from the scratch.\\n\\nwe will learn how to create a very colorful dashboard that will be appealing to you and your boss or clients.\\n\\nnot only colorful but as well dynamic and interactive. To create a dynamic and interactive excel dashboard there are two ways to it.\\n\\nit is either you use excel pivot table and add some custom excel function to make it highly dynamic or you can create the whole excel dashboard from the scratch using just a couple of formulas.\\n\\non this channel, you will learn both tricks; using a pivot table and function plus function base analysis and dashboard creation.\\n\\nyou can ask questions if you have any doubts about any of our steps. \\n\\nto start learning how to create a dashboard using excel from the scratch and my other excel dashboard go to my channel at www.youtube.com/datawithdecision\\n\\nthere you will see some good starting points to get your excel and dashboard skills upfront.\\n\\nFor Business Inquiry: send Whatsapp message to +234 810 6090 365 or send mail to mumuniomeizaismaila@gmail.com\\n\\nSUBSCRIBE to follow along as I upload the whole STEP BY STEP TUTORIAL.\\n\\nEnjoy free Excel Dashboard Course here:https://www.youtube.com/playlist?list=PLwIcJx1aSL1S0208H1BQXmV0_O6HbuB2S\\n\\nTo create dynamic Inventory management or store management in excel (No VBA)\\nClick here: https://www.youtube.com/playlist?list=PLwIcJx1aSL1SsuvtwFabvFVZW14YJQ6ox\\n\\n#pivotTable #excel #msexcel #exceldashboard #excelpivottable #excelprojectmanager #excel\\n#kpiexcelpowerpivot\\n#exceldashboard\\n#howtocreateexceldashboard\\n#pivottable\\n#excelfunction\\n#excelsumproduct\\n#sumif\\n#sumifs\\n#excelanalysis\\n#msexcel\",\n",
       " \"Download the workbook and follow along on  INTERACTIVE EXCEL PROJECT MANAGEMENT DASHBOARD This project will help you use to function effectively on any of your excel projects.\\n\\nDownload: https://www.mediafire.com/file/ewm3avg8p9gmbmf/Project+management+in+excel.xlsx/file\\n\\nThe project management is to control how we actually accomplished and completed a particular project, which is pending and overdue, why.\\n\\nThis will give you a very strong way to manipulate function specifically dates.\\n\\nWith the simple way of using functions, we will create this without excel VBA in no time\\n\\nYou might be searching for how to create excel project management for free. Yes, you are in the right place.\\n\\nLet's see how to create this project without excel VBA. Get advance in the excel function to create a powerful application to manage your projects and other tasks.\\n\\nWith this project or task management excel template you will be amazed. control and organize all your tasks in one excel application.\\n\\nHave excel update itself automatically every day as your project proceeds.\\n\\nFor Business Inquiry: send Whatsapp message to +234 810 6090 365 or send mail to mumuniomeizaismaila@gmail.com\\n\\nSUBSCRIBE to follow along as I upload the whole STEP BY STEP TUTORIAL.\\n\\nEnjoy free Excel Dashboard Course here:https://www.youtube.com/playlist?list=PLwIcJx1aSL1S0208H1BQXmV0_O6HbuB2S\\n\\nTo create dynamic Inventory management or store management in excel (No VBA)\\nClick here: https://www.youtube.com/playlist?list=PLwIcJx1aSL1SsuvtwFabvFVZW14YJQ6ox\\n\\n#excelprojectmanagement #excel #msexcel #exceldashboard #projectmanager #excelprojectmanager #excel\\n#kpiexcelpowerpivot\\n#exceldashboard\\n#howtocreateexceldashboard\\n#pivottable\\n#excelfunction\\n#excelsumproduct\\n#sumif\\n#sumifs\\n#excelanalysis\\n#msexcel\",\n",
       " \"How to create a KPI dashboard in excel. Excel KPI dashboard will help you read your business data with ease. Create your own slicers to filter your data without using the pivot table. Think like the logic behind the excel pivot table.\\nDownload the excel file here: http://www.mediafire.com/file/5gfmaa9qg4ygxyq/Tick+Sales+Dashboard.xlsx/file\\n An easy and interactive excel dashboard will give you a good picture of your business or make your clients want to come back for more analytics works from you.\\n\\n\\n\\nSUBSCRIBE to follow along as I upload the whole STEP BY STEP TUTORIALS.\\n\\nFree Dashboard Course: https://www.youtube.com/playlist?list=PLwIcJx1aSL1S0208H1BQXmV0_O6HbuB2S\\n\\nDragging and dropping values from a pivot table to summarize transactional data and create an excel dashboard is not enough. To bypass some pivot table's limitations I have created these dynamics excel dashboards to show you how to use custom functions without a pivot table to manipulate data and create a nice looking and amazing Microsoft Excel Dashboard from the scratch.\\n\\nLet's think like a pivot table by creating our own slicers\\n\\n\\nIn this tutorial, you will learn how to use excel custom functions to make your excel analysis more professional. Know how to use the excel function to summarize data and create your own slicers like that of pivot tables.\\nFormat your dashboard with nice cool colors.\\n\\nTo create dynamic Inventory management or store management in excel (No VBA)\\nClick here: https://www.youtube.com/playlist?list=PLwIcJx1aSL1SsuvtwFabvFVZW14YJQ6ox\\n\\n#excel\\n#exceldashboard\\n#howtocreateexceldashboard\\n#pivottable\\n#exceldashboard\\n#dashboardexcel\\n#excelchartsadvanced\\n#howtocreateadashboardinexcel\",\n",
       " \"How to create a SEARCH BAR in Excel Dashboard. An easy and interactive excel dashboard will give you a good picture of your business or make your clients want to come back for more analytics works from you.\\nUse simple excel functions and a pivot table to create a dynamic excel dashboard that has an excel filter feature called search. This search will help you to pull the full purchase history of a particular customer in our excel dashboard.\\n\\nThis dashboard in excel will give you a good understanding of how to use Index and Match plus other excel functions to create an excel dashboard from the scratch.\\n\\nSUBSCRIBE to follow along as I upload the whole STEP BY STEP TUTORIALS.\\n\\nFree Dashboard Course: https://www.youtube.com/playlist?list=PLwIcJx1aSL1S0208H1BQXmV0_O6HbuB2S\\n\\nDragging and dropping values from a pivot table to summarize transactional data and create an excel dashboard is not enough. To bypass some pivot table's limitations I have created these dynamics excel dashboard to show you how to use custom functions in the pivot table to manipulate data and create nice looking and amazing Microsoft Excel Dashboard from the scratch.\\n\\n\\nIn this tutorial, you will learn how to add a search feature to your dashboard.\\nHow to use custom function make your dashboard more meaningful.\\nOrganize your dashboard.\\nFormat your dashboard with nice cool colors.\\n\\nTo create dynamic Inventory management or store management in excel (No VBA)\\nClick here: https://www.youtube.com/playlist?list=PLwIcJx1aSL1SsuvtwFabvFVZW14YJQ6ox\\n\\n#excel\\n#exceldashboard\\n#howtocreateexceldashboard\\n#pivottable\\n#exceldashboard\\n#dashboardexcel\\n#excelchartsadvanced\\n#howtocreateadashboardinexcel\",\n",
       " 'Have you ever added these features to your excel dashboard design? let me show you simple excel VBA to automate your excel dashboard even though if you have never written macros (VBA) for once. \\n\\nFor Business Inquiry: send Whatsapp message to +234 810 6090 365 or send mail to mumuniomeizaismaila@gmail.com\\n\\njust copy my VBA script and implement it to your excel dashboard projects. The EXCEL Dashboard is available for download.\\n\\nFEATURES OF THE EXCEL DASHBOARD\\n1. Auto notification (if there are changes at the excel backend)\\n2. Auto hide/show\\n3. Dynamic excel charts\\n4. Well formatted slicers\\n5. Dynamic searching feature ( search for a specific customer)\\n6 . Color alignment\\n\\nEXCEL FUNCTIONS USED\\n1. Excel counta function\\n2. Excel if function\\n3. Excel  if  (and) function\\n4. Excel date function\\n5. Excel today functions\\n6. Excel if true function\\n7. Excel max function \\n8. Excel min function\\n9. Excel average function\\n10. Excel vlookup function\\n11.Excel match function\\n12. Excel CONCATENATE function\\n13. Excel name range\\n\\nTYPES OF CHARTS\\n1. Excel bar charts\\n2. Excel line charts\\n3. Excel Area charts\\n4. Excel doughnut charts\\n5. Excel progress charts\\n\\nOTHER EXCEL TOOL\\n1. Excel pivot tables\\n2. Excel pivot charts\\n3. Exel tables\\n\\nEXCEL MACROS VBA USED\\n1. Closs and save \\n2. Show and hide VBA script\\n\\nOBJECTS USED\\n1. Excel shapes\\n2. Excel option button\\n3. Excel radio button\\n\\nSUBSCRIBE to follow along as I upload the whole STEP BY STEP TUTORIAL.\\n\\nEnjoy free Excel Dashboard Course here:https://www.youtube.com/playlist?list=PLwIcJx1aSL1S0208H1BQXmV0_O6HbuB2S\\n\\nTo create dynamic Inventory management or store management in excel (No VBA)\\nClick here: https://www.youtube.com/playlist?list=PLwIcJx1aSL1SsuvtwFabvFVZW14YJQ6ox\\n\\n#pivotTable #excel #msexcel #exceldashboard #excelpivottable #excelprojectmanager #excel\\n#kpiexcelpowerpivot\\n#exceldashboard\\n#howtocreateexceldashboard\\n#pivottable\\n#excelfunction\\n#excelsumproduct\\n#sumif\\n#sumifs\\n#excelanalysis\\n#msexcel',\n",
       " 'Learn how to create this Dynamic and Interactive Excel Dashboard, Beginner to advanced level. Use functions and pivot table plus dynamic charts to tell sales or transaction story that helps business grow.\\n\\nWatch Part-2: https://youtu.be/yjshF64YwFk\\nWatch Part-3: https://youtu.be/n2HhO7gNWU8\\n\\n Download the worksheet and follow along.  \\n\\nExcel file used, download here: http://www.mediafire.com/file/1xku8brqc2s2h49/sales+performance+dashboard+youtube.xlsx/file\\n\\nREMEMBER TO SUBSCRIBE TO MY CHANNEL FOR MORE VIDEO LIKE THIS.\\n\\n\\nDashboard creation is one of the best ways to build a well-designed and interactive excel dashboard in excel. With dashboard reports, you can tell business stories using visual elements like excel pie chart, treemap, sparkline. column chart and more.\\n\\nIn this tutorial, we will delve deep to create this excel dashboard to answer business problems and as well as wao our boss in the office.\\n\\nNow learn with me.\\n\\nTo create dynamic Inventory management or store management in excel (No VBA)\\nClick here: https://www.youtube.com/playlist?list=PLwIcJx1aSL1SsuvtwFabvFVZW14YJQ6ox\\n\\n#excel\\n#exceldashboard\\n#howtocreateexceldashboard\\n#pivottable',\n",
       " \"Download the workbook of how I create an Excel Dashboard here:https://www.mediafire.com/file/9bqtzvsp8tdfo95/Top+2+cars+analysis+dashboard.xlsx/file\\n\\nFor Business Inquiry: send Whatsapp message to +234 810 6090 365 or send mail to mumuniomeizaismaila@gmail.com\\n\\nSUBSCRIBE to follow along as I upload the whole STEP BY STEP TUTORIAL.\\n\\nEnjoy free Excel Dashboard Course here:https://www.youtube.com/playlist?list=PLwIcJx1aSL1S0208H1BQXmV0_O6HbuB2S\\n\\nhow can I create an excel dashboard would be a question I would have answered today in this post. With ease, you will learn how to switch between pictures in excel.\\n\\nDragging and dropping values from a pivot table to summarize transactional data and create an excel dashboard is not enough. To bypass some pivot table's limitations I have created these dynamics excel dashboards to show you how to use custom functions in a pivot table to manipulate data and create a nice looking and amazing Microsoft Excel Dashboard from the scratch.\\n\\nFormat your dashboard with nice cool colors.\\n\\nTo create dynamic Inventory management or store management in excel (No VBA)\\nClick here: https://www.youtube.com/playlist?list=PLwIcJx1aSL1SsuvtwFabvFVZW14YJQ6ox\\n\\n#excel\\n#exceldashboard\\n#howtocreateexceldashboard\\n#pivottable\\n#excelfunction\\n#excelsumproduct\\n#sumif\\n#sumifs\\n#excelanalysis\\n#msexcel\",\n",
       " 'Download  & learn free Dynamic Dashboard in Excel video tutorial. \\n\\n1-Excel Dashboard, 4-Switchable background for your dashboard with excel in and out of the menu to keep things simple.\\n\\nKINDLY SUBSCRIBE MY EXCEL DASHBOARD CHANNEL THANKS!\\n\\nfollow me step by step on how to create and implement all the tricks used in creating this interactive excel dashboard from the scratch.\\n\\nwe will use simple VBA to get things done real quick. if I say simple I mean very simple, no complication codes or VBA script at all.\\n\\nI will break all the steps down with ease.\\n\\nFor Business Inquiry: send Whatsapp message to +234 810 6090 365 or send mail to mumuniomeizaismaila@gmail.com\\n\\nEnjoy free Excel Dashboard Course here:https://www.youtube.com/playlist?list=PLwIcJx1aSL1S0208H1BQXmV0_O6HbuB2S\\n\\nTo create dynamic Inventory management or store management in excel (No VBA)\\nClick here: https://www.youtube.com/playlist?list=PLwIcJx1aSL1SsuvtwFabvFVZW14YJQ6ox\\n\\n#dynamicdashboardinexcel \\n#pivotTable #excel #msexcel #exceldashboard #excelpivottable #excelprojectmanager #excel\\n#kpiexcelpowerpivot\\n#exceldashboard\\n#howtocreateexceldashboard\\n#pivottable\\n#excelfunction\\n#excelsumproduct\\n#sumif\\n#sumifs\\n#excelanalysis\\n#msexcel',\n",
       " 'Full Tutorial on Excel Scenario Analysis Dashboard. This excel interactive dashboard tutorial will help you and your business, clients, or the company you work for make actionable decisions for sessional sales or any related sales using excel.\\n\\nTake your excel skill specifically excel dashboard and excel dynamic and interactive chart to the next level kindly subscribe for more dashboard tutorials in excel.\\n\\nUse excel to make products or sales predictions. In this excel interactive dashboard tutorial, I will show you how to use excel to make sales decisions.\\n\\nDownload the dashboard here: http://www.mediafire.com/file/1qowkp50nz0cvqj/Senario+Dashboard.xlsx/file\\n\\nKindly SUBSCRIBE!\\n\\nFeature of the dashboard: \\nThis excel style of the dashboard will allow you to run scenario analysis on your products for the purpose of sessional sales like  New year, Christmas, Winter sales, or even Black Friday sales. \\n\\nBefore you go ahead and discount some group of products you might need to see what is the possibility of you selling more products to cover for the discount given.\\n\\nWith this type of excel scenario analysis with a dashboard and a lot of flexibility, you will be able to make a prediction on what might be played out if such a scenario is been applied.\\n\\nYou can use this type of excel dashboard to make a price increase decision. Download the template and try it, then follow along as I create it from scratch step by step. This is how to create an excel dashboard with good insights.\\n\\nFree Dashboard Course: https://www.youtube.com/playlist?list=PLwIcJx1aSL1S0208H1BQXmV0_O6HbuB2S\\n\\nPlease do not forget to subscribe to my channel, thanks\\n\\n#howtocreateexceldashboard\\n#excel\\n#exceldashboard\\n#howtocreateexceldashboard\\n#exceldashboardtutorial\\n#excelvisualization\\n#excelcharts\\n#pivottable\\n#exceldashboard\\n#dashboardexcel\\n#excelchartsadvanced\\n#howtocreateadashboardinexcel',\n",
       " 'If you need Excel Dashboard Tutorial you are at the right place. This excel interactive dashboard tutorial will help you and your business, clients, or the company you work for make actionable decisions for sessional sales or any related sales using excel.\\n\\nGo to my channel for more dashboard classes.\\n\\nTake your excel skill specifically excel dashboard and excel dynamic and interactive chart to the next level kindly subscribe for more dashboard tutorial in excel.\\n\\nUse excel to make products or sales predictions. In this excel interactive dashboard tutorial, I will show you how to use excel to make sales decisions.\\n\\nDownload the dashboard here: http://www.mediafire.com/file/1qowkp50nz0cvqj/Senario+Dashboard.xlsx/file\\n\\nKindly SUBSCRIBE!\\n\\nFeature of the dashboard: \\nThis excel style of the dashboard will allow you to run scenario analysis on your products for the purpose of sessional sales like  New year, Christmas, Winter sales, or even Black Friday sales. \\n\\nBefore you go ahead and discount some group of products you might need to see what is the possibility of you selling more products to cover for the discount given.\\n\\nWith this type of excel scenario analysis with a dashboard and a lot of flexibility, you will be able to make a prediction on what might be played out if such a scenario is been applied.\\n\\nYou can use this type of excel dashboard to make a price increase decision. Download the template and try it, then follow along as I create it from scratch step by step. This is how to create an excel dashboard with good insights.\\n\\nFree Dashboard Course: https://www.youtube.com/playlist?list=PLwIcJx1aSL1S0208H1BQXmV0_O6HbuB2S\\n\\nPlease do not forget to subscribe to my channel, thanks\\n\\n#howtocreateexceldashboard\\n#excel\\n#exceldashboard\\n#howtocreateexceldashboard\\n#exceldashboardtutorial\\n#excelvisualization\\n#excelcharts\\n#pivottable\\n#exceldashboard\\n#dashboardexcel\\n#excelchartsadvanced\\n#howtocreateadashboardinexcel',\n",
       " 'Download the worksheet here: https://www.mediafire.com/file/qyizvww5v64yau9/2019+to+2020+Dashboard.xlsx/file You can now zoom in and out in the excel dashboard. This is how to create a full dashboard in excel with examples.\\n\\nIf you are looking for how can I create an excel dashboard from scratch step by step this is the channel. \\n\\nI concentrate more on modern excel dashboard for my viewers and I always bring you industry and company standard.\\n\\nDynamic excel dashboard is what you are looking for and I bet you, you just found one of the excel YoutTube channels that gives everyone full hand on how to create free excel interactive, modern, and dynamic excel dashboard step by step from scratch.\\n\\nYou will learn how to use excel pivot table like a pro even though if you are just an excel beginner.\\n\\nWhat about excel functions? Yes, we will learn the ms excel function as we go along on this dashboard trip.\\n\\nExcel pivot table can not do the dashboard creation alone but with a good hand on excel functions, you will better create a stunning and interactive excel dashboard.\\n\\nYou are learning how to create an excel dashboard for free, and what you are getting is premium classes all for free.\\n\\nWe use powerful excel charts to communicate key metrics of our business.\\n\\nFor Business Inquiry: send Whatsapp message to +234 810 6090 365 or send mail to mumuniomeizaismaila@gmail.com\\n\\nSUBSCRIBE to follow along as I upload the whole STEP BY STEP TUTORIAL.\\n\\nEnjoy free Excel Dashboard Course here:https://www.youtube.com/playlist?list=PLwIcJx1aSL1S0208H1BQXmV0_O6HbuB2S\\n\\nTo create dynamic Inventory management or store management in excel (No VBA)\\nClick here: https://www.youtube.com/playlist?list=PLwIcJx1aSL1SsuvtwFabvFVZW14YJQ6ox\\n\\n#pivotTable #excel #msexcel #exceldashboard #excelpivottable #excelprojectmanager #excel\\n#kpiexcelpowerpivot\\n#exceldashboard\\n#howtocreateexceldashboard\\n#pivottable\\n#excelfunction\\n#excelsumproduct\\n#sumif\\n#sumifs\\n#excelanalysis\\n#msexcel',\n",
       " 'In this part, we will further create our Dynamic and Interactive Excel Dashboard, Beginner to advanced level. Use functions and pivot table plus dynamic charts to tell sales or transaction story that helps business grow.\\n\\nWatch part-1 here: https://youtu.be/qN13WbJ_NK0\\nWatch part-3: https://youtu.be/n2HhO7gNWU8\\n\\n Download the worksheet and follow along.  \\n\\nExcel file used, download here: http://www.mediafire.com/file/1xku8brqc2s2h49/sales+performance+dashboard+youtube.xlsx/file\\n\\nREMEMBER TO SUBSCRIBE TO MY CHANNEL FOR MORE VIDEO LIKE THIS.\\n\\n\\nDashboard creation is one of the best ways to build a well-designed and interactive excel dashboard in excel. With dashboard reports, you can tell business stories using visual elements like excel pie chart, treemap, sparkline. column chart and more.\\n\\nIn this tutorial, we will delve deep to create this excel dashboard to answer business problems and as well as wao our boss in the office.\\n\\nNow learn with me.\\n\\nTo create dynamic Inventory management or store management in excel (No VBA)\\nClick here: https://www.youtube.com/playlist?list=PLwIcJx1aSL1SsuvtwFabvFVZW14YJQ6ox\\n\\n#excel\\n#exceldashboard\\n#howtocreateexceldashboard\\n#pivottable',\n",
       " '',\n",
       " \"Use Excel to extract data from Youtube Channel and create Excel interactive dashboard using PivotTable and charts. \\n\\nWatch the part-2 here: https://youtu.be/9BOCahkf1Ho\\n\\nDownload the workbook here: http://www.mediafire.com/file/yi1551gkbau8brc/YouTube+Analytics+Dashboard.xlsx/file\\n\\nFor Business Inquiry: send Whatsapp message to +234 810 6090 365 or send mail to mumuniomeizaismaila@gmail.com\\n\\nSUBSCRIBE to follow along as I upload the whole STEP BY STEP TUTORIAL.\\n\\nEnjoy free Excel Dashboard Course here:https://www.youtube.com/playlist?list=PLwIcJx1aSL1S0208H1BQXmV0_O6HbuB2S\\n\\nI will walk you through how to quickly extract data from the youtube channel and further analyze the data pulled for youtube in the excel analytics tool. Along the line, you learn how to use PivotTable, use functions to customize your analytics, and make your dashboard very much dynamic.\\n\\nYou can extract the same youtube data on a monthly basis to excel for insights and get the excel dashboard automatically updates.\\n\\nDragging and dropping values from a pivot table to summarize transactional data and create an excel dashboard is not enough. To bypass some pivot table's limitations I have created these dynamics excel dashboards to show you how to use custom functions in a pivot table to manipulate data and create a nice looking and amazing Microsoft Excel Dashboard from the scratch.\\n\\nFormat your dashboard with nice cool colors.\\n\\nTo create dynamic Inventory management or store management in excel (No VBA)\\nClick here: https://www.youtube.com/playlist?list=PLwIcJx1aSL1SsuvtwFabvFVZW14YJQ6ox\\n\\n#excel\\n#exceldashboard\\n#howtocreateexceldashboard\\n#pivottable\\n#excelfunction\\n#excelsumproduct\\n#sumif\\n#sumifs\\n#excelanalysis\\n#msexcel\",\n",
       " \"How to create an Excel Dashboard. Presentable and dynamic excel dashboard, an easy and interactive excel dashboard will give you a good picture of your business or make your clients want to come back for more analytics works from you.\\nUse simple excel functions and a pivot table to create a dynamic excel dashboard that has an excel filter feature called search. This search will help you to pull the full purchase history of a particular customer in our excel dashboard.\\n\\nThis dashboard in excel will give you a good understanding of how to use Index and Match plus other excel functions to create an excel dashboard from the scratch.\\n\\nSUBSCRIBE to follow along as I upload the whole STEP BY STEP TUTORIALS.\\n\\nFree Dashboard Course: https://www.youtube.com/playlist?list=PLwIcJx1aSL1S0208H1BQXmV0_O6HbuB2S\\n\\nDragging and dropping values from a pivot table to summarize transactional data and create an excel dashboard is not enough. To bypass some pivot table's limitations I have created these dynamics excel dashboard to show you how to use custom functions in the pivot table to manipulate data and create nice looking and amazing Microsoft Excel Dashboard from the scratch.\\n\\n\\nIn this tutorial, you will learn how to add a search feature to your dashboard.\\nHow to use custom function make your dashboard more meaningful.\\nOrganize your dashboard.\\nFormat your dashboard with nice cool colors.\\n\\nTo create dynamic Inventory management or store management in excel (No VBA)\\nClick here: https://www.youtube.com/playlist?list=PLwIcJx1aSL1SsuvtwFabvFVZW14YJQ6ox\\n\\n#excel\\n#excelvisualization\\n#exceldashboard\\n#howtocreateexceldashboard\\n#pivottable\\n#exceldashboard\\n#dashboardexcel\\n#excelchartsadvanced\\n#howtocreateadashboardinexcel\",\n",
       " 'Create an excel dashboard that only shows the current day transactions in excel, this dashboard will ignore any other historical data and only show the present day.\\n\\nKINDLY SUBSCRIBE TO OUR YOUTUBE CHANNEL FOR MORE.......\\n\\nThis will help with great ideas on how to create a dynamic dashboard in excel and increase your data visualization skill.\\n\\nLet us know if you have any questions in the comment section.\\n\\n\\nDashboard creation is one of the best ways to build a well-designed and interactive excel dashboard in excel. With dashboard reports, you can tell business stories using visual elements like excel pie chart, treemap, sparkline. column chart and more.\\n\\nIn this tutorial, we will delve deep to create this excel dashboard to answer business problems and as well as wao our boss in the office.\\n\\nNow learn with me.\\n\\nTo create dynamic Inventory management or store management in excel (No VBA)\\nClick here: https://www.youtube.com/playlist?list=PLwIcJx1aSL1SsuvtwFabvFVZW14YJQ6ox\\n\\n#excel\\n#exceldashboard\\n#howtocreateexceldashboard\\n#pivottable\\n#excel \\n#dashboard\\n#exceldashboaard\\n#exceldashboardforbeginner\\n#excepivottable\\n#howtocreatedashboardinexcel\\n#beginnerguidetoexceldashboard',\n",
       " \"Free download: copy my VBA script for interactive EXCEL DASHBOARD. Don't miss this watch now! download the full excel dashboard template here: https://www.mediafire.com/file/usvg3qhoxhjwjlr/vba+dashboard+automated+product+analysis.xlsm/file\\n\\n---- Start creating your excel dashboard step by step, watch every part of this excel tutorial.--\\nwatch part-1 here: https://youtu.be/XB1h7BqJLGA\\nwatch part-2 here: https://youtu.be/vz0Duld5D5M\\nwatch part-3 https://youtu.be/n5a1vOw3FvY\\n\\nFor Business Inquiry: send Whatsapp message to +234 810 6090 365 or send mail to mumuniomeizaismaila@gmail.com\\n\\nwhat do you think about this excel dashboard talk your mind in the comment section?\\nyou might wanna help grow this excel channel by sharing this with your friends and family on your social media.\\n\\nwhat if you subscribe to a more dynamic, interactive, and automated excel dashboard like this?\\n\\nI am here to change the face of dashboard creation in excel. you will get amazing excel modern dashboard designs back to back, just hit that little bell to get notified any time I upload new dashboard contents.\\n\\nwith simple VBA (macros) your excel dashboard will create more impression in the eyes of your clients or your boss in the office.\\n\\nSUBSCRIBE to follow along as I upload the whole STEP BY STEP TUTORIAL.\\n\\nEnjoy free Excel Dashboard Course here:https://www.youtube.com/playlist?list=PLwIcJx1aSL1S0208H1BQXmV0_O6HbuB2S\\n\\nTo create dynamic Inventory management or store management in excel (No VBA)\\nClick here: https://www.youtube.com/playlist?list=PLwIcJx1aSL1SsuvtwFabvFVZW14YJQ6ox\\n\\n#pivotTable #excel #msexcel #exceldashboard #excelpivottable #excelprojectmanager #excel\\n#kpiexcelpowerpivot\\n#exceldashboard\\n#howtocreateexceldashboard\\n#pivottable\\n#excelfunction\\n#excelsumproduct\\n#sumif\\n#sumifs\\n#excelanalysis\\n#msexcel\",\n",
       " 'Download the worksheet here: https://www.mediafire.com/file/qyizvww5v64yau9/2019+to+2020+Dashboard.xlsx/file You can now zoom in and out in the excel dashboard. This is how to create a full dashboard in excel with examples.\\n\\nWatch the part-1 here https://youtu.be/_kPYTLDyo08\\n\\nChapters or content on this video, witch to your choice:\\n\\n00:00 - Intro\\n00:19 - How to create a scrollable excel table\\n19:25 - Add fancy trend  excel KPI chart\\n25:35 - How to add custom progress chart\\n35:38 - How to add dought chat to show top profitable cities\\n38:41 - How to show categories on the chart\\n41:42 - How to add a chart for distributors to show profit contribution\\n42:45 - How to add a chart for the branch to show profit contribution\\n45:52 - Adding and connecting excel slicers\\n\\nIf you are looking for how can I create an excel dashboard from scratch step by step this is the channel. \\n\\nFor Business Inquiry: send Whatsapp message to +234 810 6090 365 or send mail to mumuniomeizaismaila@gmail.com\\n\\nI concentrate more on modern excel dashboard for my viewers and I always bring you industry and company standard.\\n\\nDynamic excel dashboard is what you are looking for and I bet you, you just found one of the excel YoutTube channels that gives everyone full hand on how to create free excel interactive, modern, and dynamic excel dashboard step by step from scratch.\\n\\nYou will learn how to use excel pivot table like a pro even though if you are just an excel beginner.\\n\\nWhat about excel functions? Yes, we will learn the ms excel function as we go along on this dashboard trip.\\n\\nExcel pivot table can not do the dashboard creation alone but with a good hand on excel functions, you will better create a stunning and interactive excel dashboard.\\n\\nYou are learning how to create an excel dashboard for free, and what you are getting is premium classes all for free.\\n\\nWe use powerful excel charts to communicate key metrics of our business.\\n\\n\\n\\nSUBSCRIBE to follow along as I upload the whole STEP BY STEP TUTORIAL.\\n\\nEnjoy free Excel Dashboard Course here:https://www.youtube.com/playlist?list=PLwIcJx1aSL1S0208H1BQXmV0_O6HbuB2S\\n\\nTo create dynamic Inventory management or store management in excel (No VBA)\\nClick here: https://www.youtube.com/playlist?list=PLwIcJx1aSL1SsuvtwFabvFVZW14YJQ6ox\\n\\n#pivotTable #excel #msexcel #exceldashboard #excelpivottable #excelprojectmanager #excel\\n#kpiexcelpowerpivot\\n#exceldashboard\\n#howtocreateexceldashboard\\n#pivottable\\n#excelfunction\\n#excelsumproduct\\n#sumif\\n#sumifs\\n#excelanalysis\\n#msexcel',\n",
       " 'Use excel to make products or sales predictions. In this excel interactive dashboard tutorial, I will show you how to use excel to make sales decisions.\\n\\nDownload the dashboard here: http://www.mediafire.com/file/1qowkp50nz0cvqj/Senario+Dashboard.xlsx/file\\n\\nKindly SUBSCRIBE!\\n\\nFeature of the dashboard: \\nThis excel style of the dashboard will allow you to run scenario analysis on your products for the purpose of sessional sales like  New year, Christmas, Winter sales, or even Black Friday sales. \\n\\nBefore you go ahead and discount some group of products you might need to see what is the possibility of you selling more products to cover for the discount given.\\n\\nWith this type of excel scenario analysis with a dashboard and a lot of flexibility, you will be able to make a prediction on what might be played out if such a scenario is been applied.\\n\\nYou can use this type of excel dashboard to make a price increase decision. Download the template and try it, then follow along as I create it from scratch step by step. This is how to create an excel dashboard with good insights.\\n\\nFree Dashboard Course: https://www.youtube.com/playlist?list=PLwIcJx1aSL1S0208H1BQXmV0_O6HbuB2S\\n\\nPlease do not forget to subscribe to my channel, thanks\\n\\n#howtocreateexceldashboard\\n#excel\\n#exceldashboard\\n#howtocreateexceldashboard\\n#exceldashboardtutorial\\n#excelvisualization\\n#excelcharts\\n#pivottable\\n#exceldashboard\\n#dashboardexcel\\n#excelchartsadvanced\\n#howtocreateadashboardinexcel',\n",
       " 'Make job decisions for a friend self or a client with an excel Whatif analysis scenario manager and build an excel dashboard to present your findings to help make the best job choice.\\n\\nDownload the excel file here: http://www.mediafire.com/file/khespozai9bmg6c/Yusha+job+decision+making+dashboard.xlsx/file\\n\\nFree Dashboard Course: https://www.youtube.com/playlist?list=PLwIcJx1aSL1S0208H1BQXmV0_O6HbuB2S\\n\\nI create an excel dashboard for beginner and an advanced excel dashboard to make you learn excel fast I always share the files.\\n\\nIn this excel dashboard and Whatif analysis using scenario manager, we are going to help a friend to make a job choice from multiple offers.\\n\\nYusha has a current job that pays him $400 and the other 3 companies want to pay him higher than his current employer. The new job offers have different locations in bigger cities than that of the current job.\\n\\nOur work as an analyst is to get some data from Yusha that will help us determine which of the job is the best match.\\n\\nAfter the whole analysis was able to present our data on charts and create a mini excel dashboard to make Yusha understand our analysis and quickly make a good choice.\\n\\nWith this, you will see the power of excel scenario manager under Whatif analysis and as well how easy it is to identify patterns on the dashboard in excel. \\n\\nDO NOT FORGET TO SUBSCRIBE TO MY CHANNEL.\\n\\n#whatif\\n#whatifanalysis\\n#scenariomanager\\n#exceldashboard\\n#exceldashboardforbeginners\\n#howtocreateexceldashboardforbeginner\\n#msexcel\\n#goalseek\\n#excel',\n",
       " \"Download the full dashboard to follow along. Are you ready to start creating this dashboard? let's create a modern dashboard using excel. you must have been searching for how to create a dashboard using excel from the scratch.\\n\\nDownload the excel dashboard here: https://www.mediafire.com/file/53y9kgedaoj3slx/our+compay+made+progress+in+2020.xlsx/file\\n\\nwe will learn how to create a very colorful dashboard that will be appealing to you and your boss or clients.\\n\\nnot only colorful but as well dynamic and interactive. To create a dynamic and interactive excel dashboard there are two ways to it.\\n\\nit is either you use an excel pivot table and add some custom excel function to make it highly dynamic or you can create the whole excel dashboard from the scratch using just a couple of formulas.\\n\\non this channel, you will learn both tricks; using a pivot table and function plus function base analysis and dashboard creation.\\n\\nyou can ask questions if you have any doubts about any of our steps. \\n\\nto start learning how to create a dashboard using excel from the scratch and my other excel dashboard go to my channel at www.youtube.com/datawithdecision\\n\\nthere you will see some good starting points to get your excel and dashboard skills upfront.\\n\\nFor Business Inquiry: send Whatsapp message to +234 810 6090 365 or send mail to mumuniomeizaismaila@gmail.com\\n\\nSUBSCRIBE to follow along as I upload the whole STEP BY STEP TUTORIAL.\\n\\nEnjoy free Excel Dashboard Course here:https://www.youtube.com/playlist?list=PLwIcJx1aSL1S0208H1BQXmV0_O6HbuB2S\\n\\nTo create dynamic Inventory management or store management in excel (No VBA)\\nClick here: https://www.youtube.com/playlist?list=PLwIcJx1aSL1SsuvtwFabvFVZW14YJQ6ox\\n\\n#pivotTable #excel #msexcel #exceldashboard #excelpivottable #excelprojectmanager #excel\\n#kpiexcelpowerpivot\\n#exceldashboard\\n#howtocreateexceldashboard\\n#pivottable\\n#excelfunction\\n#excelsumproduct\\n#sumif\\n#sumifs\\n#excelanalysis\\n#msexcel\",\n",
       " 'You can now zoom in and out in the excel dashboard. This is how to create a full dashboard in excel with examples.\\n\\nIf you are looking for how can I create an excel dashboard from scratch step by step this is the channel. \\n\\nI concentrate more on modern excel dashboard for my viewers and I always bring you industry and company standard.\\n\\nDynamic excel dashboard is what you are looking for and I bet you, you just found one of the excel YoutTube channels that gives everyone full hand on how to create free excel interactive, modern, and dynamic excel dashboard step by step from scratch.\\n\\nYou will learn how to use excel pivot table like a pro even though if you are just an excel beginner.\\n\\nWhat about excel functions? Yes, we will learn the ms excel function as we go along on this dashboard trip.\\n\\nExcel pivot table can not do the dashboard creation alone but with a good hand on excel functions, you will better create a stunning and interactive excel dashboard.\\n\\nYou are learning how to create an excel dashboard for free, and what you are getting is premium classes all for free.\\n\\nWe use powerful excel charts to communicate key metrics of our business.\\n\\nFor Business Inquiry: send Whatsapp message to +234 810 6090 365 or send mail to mumuniomeizaismaila@gmail.com\\n\\nSUBSCRIBE to follow along as I upload the whole STEP BY STEP TUTORIAL.\\n\\nEnjoy free Excel Dashboard Course here:https://www.youtube.com/playlist?list=PLwIcJx1aSL1S0208H1BQXmV0_O6HbuB2S\\n\\nTo create dynamic Inventory management or store management in excel (No VBA)\\nClick here: https://www.youtube.com/playlist?list=PLwIcJx1aSL1SsuvtwFabvFVZW14YJQ6ox\\n\\n#pivotTable #excel #msexcel #exceldashboard #excelpivottable #excelprojectmanager #excel\\n#kpiexcelpowerpivot\\n#exceldashboard\\n#howtocreateexceldashboard\\n#pivottable\\n#excelfunction\\n#excelsumproduct\\n#sumif\\n#sumifs\\n#excelanalysis\\n#msexcel',\n",
       " \"Let's link our mini Dynamic and Interactive Excel Dashboard to the main dashboard. Beginner to advanced level. Use functions and pivot table plus dynamic charts to tell sales or transaction story that helps business grow.\\n\\nWatch part-1: https://youtu.be/qN13WbJ_NK0\\nWatch Part-2: https://youtu.be/yjshF64YwFk\\n\\n Download the worksheet and follow along.  \\n\\nExcel file used, download here: http://www.mediafire.com/file/1xku8brqc2s2h49/sales+performance+dashboard+youtube.xlsx/file\\n\\nREMEMBER TO SUBSCRIBE TO MY CHANNEL FOR MORE VIDEO LIKE THIS.\\n\\n\\nDashboard creation is one of the best ways to build a well-designed and interactive excel dashboard in excel. With dashboard reports, you can tell business stories using visual elements like excel pie chart, treemap, sparkline. column chart and more.\\n\\nIn this tutorial, we will delve deep to create this excel dashboard to answer business problems and as well as wao our boss in the office.\\n\\nNow learn with me.\\n\\nTo create dynamic Inventory management or store management in excel (No VBA)\\nClick here: https://www.youtube.com/playlist?list=PLwIcJx1aSL1SsuvtwFabvFVZW14YJQ6ox\\n\\n#excel\\n#exceldashboard\\n#howtocreateexceldashboard\\n#pivottable\",\n",
       " \"How to create a KPI dashboard in excel part-2 where I show you how to dynamically apply conditions to your cards and charts to display pop-up messages if there are errors. Excel KPI dashboard will help you read your business data with ease. Create your own slicers to filter your data without using the pivot table. Think like the logic behind the excel pivot table.\\nDownload the excel file here: http://www.mediafire.com/file/5gfmaa9qg4ygxyq/Tick+Sales+Dashboard.xlsx/file\\n An easy and interactive excel dashboard will give you a good picture of your business or make your clients want to come back for more analytics works from you.\\n\\n\\n\\nSUBSCRIBE to follow along as I upload the whole STEP BY STEP TUTORIALS.\\n\\nFree Dashboard Course: https://www.youtube.com/playlist?list=PLwIcJx1aSL1S0208H1BQXmV0_O6HbuB2S\\n\\nDragging and dropping values from a pivot table to summarize transactional data and create an excel dashboard is not enough. To bypass some pivot table's limitations I have created these dynamics excel dashboards to show you how to use custom functions without a pivot table to manipulate data and create a nice looking and amazing Microsoft Excel Dashboard from the scratch.\\n\\nLet's think like a pivot table by creating our own slicers\\n\\n\\nIn this tutorial, you will learn how to use excel custom functions to make your excel analysis more professional. Know how to use the excel function to summarize data and create your own slicers like that of pivot tables.\\nFormat your dashboard with nice cool colors.\\n\\nTo create dynamic Inventory management or store management in excel (No VBA)\\nClick here: https://www.youtube.com/playlist?list=PLwIcJx1aSL1SsuvtwFabvFVZW14YJQ6ox\\n\\n#excel\\n#exceldashboard\\n#howtocreateexceldashboard\\n#pivottable\\n#exceldashboard\\n#dashboardexcel\\n#excelchartsadvanced\\n#howtocreateadashboardinexcel\",\n",
       " \"Use Excel to extract data from Youtube Channel and create Excel interactive dashboard using PivotTable and charts. Advance excel pivot table and advanced way of using functions to make your pivot table more interactive on excel dashboard.\\n\\nWatch the part-1 here: https://youtu.be/gFvS30Ti_D8\\n\\nDownload the workbook here: http://www.mediafire.com/file/yi1551gkbau8brc/YouTube+Analytics+Dashboard.xlsx/file\\n\\nFor Business Inquiry: send Whatsapp message to +234 810 6090 365 or send mail to mumuniomeizaismaila@gmail.com\\n\\nSUBSCRIBE to follow along as I upload the whole STEP BY STEP TUTORIAL.\\n\\nEnjoy free Excel Dashboard Course here:https://www.youtube.com/playlist?list=PLwIcJx1aSL1S0208H1BQXmV0_O6HbuB2S\\n\\nI will walk you through how to quickly extract data from the youtube channel and further analyze the data pulled for youtube in the excel analytics tool. Along the line, you learn how to use PivotTable, use functions to customize your analytics, and make your dashboard very much dynamic.\\n\\nYou can extract the same youtube data on a monthly basis to excel for insights and get the excel dashboard automatically updates.\\n\\nDragging and dropping values from a pivot table to summarize transactional data and create an excel dashboard is not enough. To bypass some pivot table's limitations I have created these dynamics excel dashboards to show you how to use custom functions in a pivot table to manipulate data and create a nice looking and amazing Microsoft Excel Dashboard from the scratch.\\n\\nFormat your dashboard with nice cool colors.\\n\\nTo create dynamic Inventory management or store management in excel (No VBA)\\nClick here: https://www.youtube.com/playlist?list=PLwIcJx1aSL1SsuvtwFabvFVZW14YJQ6ox\\n\\n#excel\\n#exceldashboard\\n#howtocreateexceldashboard\\n#pivottable\\n#excelfunction\\n#excelsumproduct\\n#sumif\\n#sumifs\\n#excelanalysis\\n#msexcel\",\n",
       " 'Free download: in this part-3  of  INTERACTIVE EXCEL DASHBOARD  we will take care of the visibility of our slicers. with just 3 lines of  VBA code, we will have that taken care of.\\n\\nFor Business Inquiry: send Whatsapp message to +234 810 6090 365 or send mail to mumuniomeizaismaila@gmail.com\\n\\nwatch part-1 here: https://youtu.be/XB1h7BqJLGA\\nwatch part-2 here: https://youtu.be/vz0Duld5D5M\\n\\nwhat do you think about this excel dashboard talk your mind in the comment section?\\nyou might wanna help grow this excel channel by sharing this with your friends and family on your social media.\\n\\n\\nwhat if you subscribe to a more dynamic, interactive, and automated excel dashboard like this?\\n\\nI am here to change the face of dashboard creation in excel. you will get amazing excel modern dashboard designs back to back, just hit that little bell to get notified any time I upload new dashboard contents.\\n\\n\\nwith simple VBA (macros) your excel dashboard will create more impression in the eyes of your clients or your boss in the office.\\n\\n\\nSUBSCRIBE to follow along as I upload the whole STEP BY STEP TUTORIAL.\\n\\n\\nEnjoy free Excel Dashboard Course here:https://www.youtube.com/playlist?list=PLwIcJx1aSL1S0208H1BQXmV0_O6HbuB2S\\n\\n\\nTo create dynamic Inventory management or store management in excel (No VBA)\\nClick here: https://www.youtube.com/playlist?list=PLwIcJx1aSL1SsuvtwFabvFVZW14YJQ6ox\\n\\n\\n#pivotTable #excel #msexcel #exceldashboard #excelpivottable #excelprojectmanager #excel\\n#kpiexcelpowerpivot\\n#exceldashboard\\n#howtocreateexceldashboard\\n#pivottable\\n#excelfunction\\n#excelsumproduct\\n#sumif\\n#sumifs\\n#excelanalysis\\n#msexcel',\n",
       " \"copy my VBA script for interactive EXCEL DASHBOARD. Don't miss this watch now! download the full excel dashboard template here: https://www.mediafire.com/file/usvg3qhoxhjwjlr/vba+dashboard+automated+product+analysis.xlsm/file\\n\\n\\n\\nFor Business Inquiry: send Whatsapp message to +234 810 6090 365 or send mail to mumuniomeizaismaila@gmail.com\\n\\n\\nwhat do you think about this excel dashboard talk your mind in the comment section?\\nyou might wanna help grow this excel channel by sharing this with your friends and family on your social media.\\n\\n\\nwhat if you subscribe for a more dynamic, interactive, and automated excel dashboard like this?\\n\\n\\nI am here to change the face of dashboard creation in excel. you will get amazing excel modern dashboard designs back to back, just hit that little bell to get notified any time I upload a new dashboard contents.\\n\\n\\nwith simple VBA (macros) your excel dashboard will create more impression in the eyes of your clients or your boss in the office.\\n\\n\\nSUBSCRIBE to follow along as I upload the whole STEP BY STEP TUTORIAL.\\n\\n\\nEnjoy free Excel Dashboard Course here:https://www.youtube.com/playlist?list=PLwIcJx1aSL1S0208H1BQXmV0_O6HbuB2S\\n\\n\\nTo create dynamic Inventory management or store management in excel (No VBA)\\nClick here: https://www.youtube.com/playlist?list=PLwIcJx1aSL1SsuvtwFabvFVZW14YJQ6ox\\n\\n\\n#pivotTable #excel #msexcel #exceldashboard #excelpivottable #excelprojectmanager #excel\\n#kpiexcelpowerpivot\\n#exceldashboard\\n#howtocreateexceldashboard\\n#pivottable\\n#excelfunction\\n#excelsumproduct\\n#sumif\\n#sumifs\\n#excelanalysis\\n#msexcel\",\n",
       " \"I will show you how I create a modern excel dashboard from the scratch in this Excel Tutorial Dashboard. this is just the overview. Check out the full tutorial.\\n\\nFull video on how to create this dashboard: https://youtu.be/xC3-lka89f8\\n\\nFor Business Inquiry: send Whatsapp message to +234 810 6090 365 or send mail to mumuniomeizaismaila@gmail.com\\n\\nFree Dashboard Course: https://www.youtube.com/playlist?list=PLwIcJx1aSL1S0208H1BQXmV0_O6HbuB2S\\n\\nSUBSCRIBE to follow along as I upload the whole STEP BY STEP TUTORIAL.\\n\\nDragging and dropping values from a pivot table to summarize transactional data and create an excel dashboard is not enough. To bypass some pivot table's limitations I have created these dynamics excel dashboards to show you how to use custom functions in a pivot table to manipulate data and create a nice looking and amazing Microsoft Excel Dashboard from the scratch.\\n\\nFormat your dashboard with nice cool colors.\\n\\nTo create dynamic Inventory management or store management in excel (No VBA)\\nClick here: https://www.youtube.com/playlist?list=PLwIcJx1aSL1SsuvtwFabvFVZW14YJQ6ox\\n\\n#excel\\n#exceldashboard\\n#howtocreateexceldashboard\\n#pivottable\\n#excelfunction\\n#excelsumproduct\\n#sumif\\n#sumifs\\n#excelanalysis\\n#msexcel\",\n",
       " 'Download the complete excel dashboard; full last part of interactive excel dashboard with simple excel VBA.\\n\\ndownload the full excel dashboard template here: https://www.mediafire.com/file/usvg3qhoxhjwjlr/vba+dashboard+automated+product+analysis.xlsm/file\\n\\n---- Start creating your excel dashboard step by step, watch every part of this excel tutorial.--\\nwatch part-1 here: https://youtu.be/XB1h7BqJLGA\\nwatch part-2 here: https://youtu.be/vz0Duld5D5M\\nwatch part-3 https://youtu.be/n5a1vOw3FvY\\n\\nFor Business Inquiry: send Whatsapp message to +234 810 6090 365 or send mail to mumuniomeizaismaila@gmail.com\\n\\nwhat do you think about this excel dashboard talk your mind in the comment section?\\nyou might wanna help grow this excel channel by sharing this with your friends and family on your social media.\\n\\nwhat if you subscribe to a more dynamic, interactive, and automated excel dashboard like this?\\n\\nI am here to change the face of dashboard creation in excel. you will get amazing excel modern dashboard designs back to back, just hit that little bell to get notified any time I upload new dashboard contents.\\n\\nwith simple VBA (macros) your excel dashboard will create more impression in the eyes of your clients or your boss in the office.\\n\\nSUBSCRIBE to follow along as I upload the whole STEP BY STEP TUTORIAL.\\n\\nEnjoy free Excel Dashboard Course here:https://www.youtube.com/playlist?list=PLwIcJx1aSL1S0208H1BQXmV0_O6HbuB2S\\n\\nTo create dynamic Inventory management or store management in excel (No VBA)\\nClick here: https://www.youtube.com/playlist?list=PLwIcJx1aSL1SsuvtwFabvFVZW14YJQ6ox\\n\\n#pivotTable #excel #msexcel #exceldashboard #excelpivottable #excelprojectmanager #excel\\n#kpiexcelpowerpivot\\n#exceldashboard\\n#howtocreateexceldashboard\\n#pivottable\\n#excelfunction\\n#excelsumproduct\\n#sumif\\n#sumifs\\n#excelanalysis\\n#msexcel',\n",
       " \"Using Data to Build a Successful Business. We are going to use Excel to help Lana improve her cookie business using unique insights from her historical data, by creating an excel dashboard.\\n\\nSign up for Microsoft Online Internship: https://youtu.be/M7pTAQymutg\\n\\nKINDLY SUBSCRIBE MY CHANNEL.........\\n\\nI got the dataset we are going to use in this illustration from the course. Let see what we are to do in this first task.\\n\\nMicrosoft virtual internship is a global opportunity that has no country restriction.\\n\\nClick here to sign up for free: https://www.insidesherpa.com\\n\\nSign up for Microsoft Initiative Skill, it is free too: https://youtu.be/b7qWUzPO7yM\\n\\nKindly live a comment or ask questions if you need help.\\n\\n\\nIn this scenario, Lana has contacted you and is looking for advice on how to start up a successful cookie business. She has been dreaming of owning a business for years now and she has come up with a great idea. You are an analyst who provides recommendations to small businesses, and you have been tasked with helping Lana out.\\n\\nLana needs to decide on the kinds of customers she should target and the types of cookies to sell. Once she is confident in her decisions, she’ll be able to take out a loan to kick off her first small business!\\n\\n\\nHERE IS YOUR TASK\\nDownload the template presentation in the ‘Additional Resources’ section below. To help you with your presentation to Lana you should make sure you answer each of the questions below.\\n\\n1. What are the demographics? In your own words, provide in a simple explanation.\\n2. What demographic characteristics are provided in the dataset?\\n3. Which demographic group buys the most cookies?\\n4. What is the most popular type of cookie?\\n\\nProvide a recommendation to Lana in your presentation:\\n\\n1. What types of cookie should Lana sell and why?\\n2. Which demographics should she target?\\n\\nLastly, how can you improve the data analytics techniques in this study to make your recommendation to Lana better? (Note: Data analysis means a process of cleaning, transforming, and modeling data to discover useful information for business decision-making.)\\n\\nConnect with me on Linkedin: https://www.linkedin.com/in/datawithd...\\n\\nLet's talk on my Facebook page: https://web.facebook.com/Data-With-De...\\n\\nChat with me on Whatsapp: +234 810 6090 365\\n\\n#Microsoftskill\\n#Internship\\n#Microsoftglobalskill\\n#powerbi\\n#excel\\n#sql\\n#dataanalytics\\n#digitalmarketing\",\n",
       " \"Keep your excel projects safe, NO MORE INTRUDER HIDE EXCEL SHEET  from people. friends and co workers will make changes to your hard working analysis if you don't hide the vital sheets with formulas.\\n\\nI create dashboard a lot at work and every time I am done with the analysis part i always put that very sheet away from intruders.\\n\\nYour backend should be hidden.\\n\\nWe are going to use visual basic to do this, not our usual hide and unhide in excel but much advance than that.\\n\\nEven though if we use vba for this we are not still going to save it as a workbook enable file instead we will still save this as normal excel format xlsx.\\n\\nFor Business Inquiry: send WhatsApp message to +234 810 6090 365 or send mail to mumuniomeizaismaila@gmail.com\\n\\nSUBSCRIBE to follow along as I upload the whole STEP BY STEP TUTORIAL.\\n\\nEnjoy free Excel Dashboard Course here:https://www.youtube.com/playlist?list=PLwIcJx1aSL1S0208H1BQXmV0_O6HbuB2S\\n\\nTo create dynamic Inventory management or store management in excel (No VBA)\\nClick here: https://www.youtube.com/playlist?list=PLwIcJx1aSL1SsuvtwFabvFVZW14YJQ6ox\\n\\n#HIDE #unhide #hideworksheet #hideexcelsheet #iffunction #Excelfunction #excelserialnumber #exceldynamicid #excelprojectmanagement #excel #msexcel #exceldashboard #projectmanager #excelprojectmanager #excel\\n#kpiexcelpowerpivot\\n#exceldashboard\\n#howtocreateexceldashboard\\n#pivottable\\n#excelfunction\\n#excelsumproduct\\n#sumif\\n#sumifs\\n#excelanalysis\\n#msexcel\"]"
      ]
     },
     "execution_count": 61,
     "metadata": {},
     "output_type": "execute_result"
    }
   ],
   "source": [
    "playlistDesc"
   ]
  },
  {
   "cell_type": "code",
   "execution_count": 65,
   "id": "0414bcf8",
   "metadata": {},
   "outputs": [
    {
     "name": "stdout",
     "output_type": "stream",
     "text": [
      "http://www.mediafire.com/file/rx54eg4u34mbg0q/sales+Target+Dashboard.xlsx/file\n",
      "\n",
      "http://www.mediafire.com/file/myqfq7epwnmhlak/Ann+Driks+Dashboard.xlsx/file\n",
      "\n",
      "\n",
      "http://www.mediafire.com/file/h1djcv4dlw9a1r3/Call+Center+KPI+Dashboard.xlsx/file\n",
      "\n",
      "\n",
      "https://www.mediafire.com/file/0vdqjv39pebrqq3/Dasboards.zip/file\n",
      "\n",
      "https://www.youtube.com/playlist?list=PLwIcJx1aSL1S0208H1BQXmV0_O6HbuB2S\n",
      "\n",
      "\n",
      "https://www.mediafire.com/file/rib993vl6zcv8vq/Product+testing+youtube+lesson.xlsx/file\n",
      "\n",
      "\n",
      "https://www.youtube.com/playlist?list=PLwIcJx1aSL1SsuvtwFabvFVZW14YJQ6ox\n",
      "\n",
      "\n",
      "https://www.mediafire.com/file/53y9kgedaoj3slx/our+compay+made+progress+in+2020.xlsx/file\n",
      "\n",
      "\n",
      "https://www.youtube.com/playlist?list=PLwIcJx1aSL1S0208H1BQXmV0_O6HbuB2S\n",
      "\n",
      "\n",
      "https://www.mediafire.com/file/ewm3avg8p9gmbmf/Project+management+in+excel.xlsx/file\n",
      "\n",
      "\n",
      "http://www.mediafire.com/file/5gfmaa9qg4ygxyq/Tick+Sales+Dashboard.xlsx/file\n",
      "\n",
      "https://www.youtube.com/playlist?list=PLwIcJx1aSL1S0208H1BQXmV0_O6HbuB2S\n",
      "\n",
      "\n",
      "https://www.youtube.com/playlist?list=PLwIcJx1aSL1S0208H1BQXmV0_O6HbuB2S\n",
      "\n",
      "\n",
      "https://youtu.be/yjshF64YwFk\n",
      "\n",
      "https://www.mediafire.com/file/9bqtzvsp8tdfo95/Top+2+cars+analysis+dashboard.xlsx/file\n",
      "\n",
      "\n",
      "https://www.youtube.com/playlist?list=PLwIcJx1aSL1S0208H1BQXmV0_O6HbuB2S\n",
      "\n",
      "\n",
      "http://www.mediafire.com/file/1qowkp50nz0cvqj/Senario+Dashboard.xlsx/file\n",
      "\n",
      "\n",
      "http://www.mediafire.com/file/1qowkp50nz0cvqj/Senario+Dashboard.xlsx/file\n",
      "\n",
      "\n",
      "https://www.mediafire.com/file/qyizvww5v64yau9/2019+to+2020+Dashboard.xlsx/file\n",
      "https://youtu.be/qN13WbJ_NK0\n",
      "\n",
      "Nonetype error\n",
      "https://youtu.be/9BOCahkf1Ho\n",
      "\n",
      "\n",
      "https://www.youtube.com/playlist?list=PLwIcJx1aSL1S0208H1BQXmV0_O6HbuB2S\n",
      "\n",
      "\n",
      "https://www.youtube.com/playlist?list=PLwIcJx1aSL1SsuvtwFabvFVZW14YJQ6ox\n",
      "\n",
      "\n",
      "https://www.mediafire.com/file/usvg3qhoxhjwjlr/vba+dashboard+automated+product+analysis.xlsm/file\n",
      "\n",
      "\n",
      "https://www.mediafire.com/file/qyizvww5v64yau9/2019+to+2020+Dashboard.xlsx/file\n",
      "http://www.mediafire.com/file/1qowkp50nz0cvqj/Senario+Dashboard.xlsx/file\n",
      "\n",
      "\n",
      "http://www.mediafire.com/file/khespozai9bmg6c/Yusha+job+decision+making+dashboard.xlsx/file\n",
      "\n",
      "\n",
      "https://www.mediafire.com/file/53y9kgedaoj3slx/our+compay+made+progress+in+2020.xlsx/file\n",
      "\n",
      "\n",
      "https://www.youtube.com/playlist?list=PLwIcJx1aSL1S0208H1BQXmV0_O6HbuB2S\n",
      "\n",
      "\n",
      "https://youtu.be/qN13WbJ_NK0\n",
      "\n",
      "http://www.mediafire.com/file/5gfmaa9qg4ygxyq/Tick+Sales+Dashboard.xlsx/file\n",
      "\n",
      "https://youtu.be/gFvS30Ti_D8\n",
      "\n",
      "\n",
      "https://youtu.be/XB1h7BqJLGA\n",
      "\n",
      "https://www.mediafire.com/file/usvg3qhoxhjwjlr/vba+dashboard+automated+product+analysis.xlsm/file\n",
      "\n",
      "\n",
      "\n",
      "\n",
      "https://youtu.be/xC3-lka89f8\n",
      "\n",
      "\n",
      "https://www.mediafire.com/file/usvg3qhoxhjwjlr/vba+dashboard+automated+product+analysis.xlsm/file\n",
      "\n",
      "\n",
      "https://youtu.be/M7pTAQymutg\n",
      "\n",
      "\n",
      "https://www.youtube.com/playlist?list=PLwIcJx1aSL1S0208H1BQXmV0_O6HbuB2S\n",
      "\n",
      "\n"
     ]
    }
   ],
   "source": [
    "linkDatazip = []\n",
    "for play in playlistDesc:\n",
    "    try:\n",
    "        temp = re.search(regHtmp,play,re.MULTILINE).group()\n",
    "        print(temp)\n",
    "        linkData.append(temp)\n",
    "    except:\n",
    "        print('Nonetype error')"
   ]
  },
  {
   "cell_type": "code",
   "execution_count": 60,
   "id": "da12f892",
   "metadata": {},
   "outputs": [
    {
     "data": {
      "text/plain": [
       "[]"
      ]
     },
     "execution_count": 60,
     "metadata": {},
     "output_type": "execute_result"
    }
   ],
   "source": [
    "linkDatazip"
   ]
  },
  {
   "cell_type": "code",
   "execution_count": 50,
   "id": "110f2b0a",
   "metadata": {},
   "outputs": [
    {
     "data": {
      "text/plain": [
       "\"Get the full understanding of how to create a sales dashboard in excel, compare sales to company targets in excel.\\nDownload link here: http://www.mediafire.com/file/rx54eg4u34mbg0q/sales+Target+Dashboard.xlsx/file\\n \\nI create a colorful and beautiful excel dashboard that answers the business question in excel to follow along on frequent upload please kindly subscribe to my channel for more excel dashboard, pivot table, excel charts, excel function, and other tech tips.\\n\\nSUBSCRIBE to follow along as I upload the whole STEP BY STEP TUTORIALS.\\n\\nFree Dashboard Course: https://www.youtube.com/playlist?list=PLwIcJx1aSL1S0208H1BQXmV0_O6HbuB2S\\n\\nDragging and dropping values from a pivot table to summarize transactional data and create an excel dashboard is not enough. To bypass some pivot table's limitations I have created these dynamics excel dashboards to show you how to use custom functions in the pivot table to manipulate data and create a nice looking and amazing Microsoft Excel Dashboard from the scratch.\\n\\n\\nIn this tutorial, you will learn how to use excel pivot table and excel custom functions to make your excel pivot table analysis more professional. Know how to use the excel pivot table to summarize data in excel is not enough but with a custom function, you will do better.\\n\\nFormat your dashboard with nice cool colors.\\n\\nTo create dynamic Inventory management or store management in excel (No VBA)\\nClick here: https://www.youtube.com/playlist?list=PLwIcJx1aSL1SsuvtwFabvFVZW14YJQ6ox\\n\\n#excel\\n#exceldashboard\\n#howtocreateexceldashboard\\n#pivottable\\n#exceldashboard\\n#dashboardexcel\\n#excelchartsadvanced\\n#howtocreateadashboardinexcel\""
      ]
     },
     "execution_count": 50,
     "metadata": {},
     "output_type": "execute_result"
    }
   ],
   "source": [
    "playlistDesc[0]"
   ]
  },
  {
   "cell_type": "code",
   "execution_count": 2,
   "id": "0af141a2",
   "metadata": {},
   "outputs": [],
   "source": [
    "trazCar = Playlist('https://www.youtube.com/playlist?list=PLDV8ZzQOMxSHKlAWflMPBDi2WVHPeel7h')\n",
    "trazCarList= list(trazCar.video_urls)"
   ]
  },
  {
   "cell_type": "code",
   "execution_count": 2,
   "id": "387ab264",
   "metadata": {},
   "outputs": [],
   "source": [
    "fullCourse = YouTube(\"https://www.youtube.com/watch?v=ujbE0mzX-CU\")"
   ]
  },
  {
   "cell_type": "code",
   "execution_count": 3,
   "id": "f2c23844",
   "metadata": {},
   "outputs": [],
   "source": [
    "introCourse = YouTube(\"https://www.youtube.com/watch?v=vhGiGqZ78Rs\")"
   ]
  },
  {
   "cell_type": "code",
   "execution_count": 6,
   "id": "52b2af9f",
   "metadata": {},
   "outputs": [
    {
     "data": {
      "text/plain": [
       "'/run/media/solverbot/repoA/gitFolders/Datagathering_Automation/Learn the Svelte JavaScript Framework - Full Course.mp4'"
      ]
     },
     "execution_count": 6,
     "metadata": {},
     "output_type": "execute_result"
    }
   ],
   "source": [
    "fullCourse.streams.get_highest_resolution().download()"
   ]
  },
  {
   "cell_type": "code",
   "execution_count": 4,
   "id": "d5c42564",
   "metadata": {},
   "outputs": [
    {
     "data": {
      "text/plain": [
       "'c:\\\\RepoFolder\\\\Datagathering_Automation\\\\Svelte Tutorial - Is it better than React.mp4'"
      ]
     },
     "execution_count": 4,
     "metadata": {},
     "output_type": "execute_result"
    }
   ],
   "source": [
    "introCourse.streams.get_highest_resolution().download()"
   ]
  },
  {
   "cell_type": "code",
   "execution_count": 3,
   "id": "e065cee9",
   "metadata": {},
   "outputs": [],
   "source": [
    "circleCi = Playlist('https://youtube.com/playlist?list=PLRqwX-V7Uu6bLqwFa52YGEHy-L1-D_Ve-')"
   ]
  },
  {
   "cell_type": "code",
   "execution_count": 2,
   "id": "7c241c16",
   "metadata": {},
   "outputs": [],
   "source": [
    "apiMore = Playlist(\"https://youtube.com/playlist?list=PLRqwX-V7Uu6Yyn-fBtGHfN0_xCtBwUkBp\")\n",
    "apiMoreList = list(apiMore.video_urls)"
   ]
  },
  {
   "cell_type": "code",
   "execution_count": 4,
   "id": "83288645",
   "metadata": {},
   "outputs": [],
   "source": [
    "circleCiList = list(circleCi.video_urls)"
   ]
  },
  {
   "cell_type": "code",
   "execution_count": 29,
   "id": "49153747",
   "metadata": {},
   "outputs": [],
   "source": [
    "def downLoadMusicList(musList):\n",
    "    for ind in musList:\n",
    "        vidObj = YouTube(ind)        \n",
    "        if vidObj.length != 0 and vidObj.length < 10000:\n",
    "            print(vidObj.length)\n",
    "            print(vidObj.title)\n",
    "            yt = YouTube(ind)\n",
    "            stream = yt.streams.get_by_itag(140)\n",
    "            stream.download()"
   ]
  },
  {
   "cell_type": "code",
   "execution_count": 30,
   "id": "7ff65eb7",
   "metadata": {},
   "outputs": [],
   "source": [
    "def downLoadVideoList(vidList):\n",
    "    for index, ind in enumerate(vidList):\n",
    "        vidObj = YouTube(ind)        \n",
    "        if vidObj.length != 0 and vidObj.length < 10000:\n",
    "            print(f'{index} vid : {vidObj.title}')\n",
    "            yt = YouTube(ind).streams\n",
    "            get_vid = yt.get_highest_resolution()\n",
    "            get_vid.download()"
   ]
  },
  {
   "cell_type": "code",
   "execution_count": 31,
   "id": "ec86a39c",
   "metadata": {},
   "outputs": [],
   "source": [
    "def comparePlayList(playList, withPlaylist,fileName):\n",
    "    compareFrom =[]\n",
    "    compareWith = []\n",
    "    returnedList = []\n",
    "\n",
    "    for index, ind in enumerate(playList):\n",
    "        vidObj = YouTube(ind)        \n",
    "        if vidObj.length != 0 and vidObj.length < 10000:\n",
    "            compareFrom.append(vidObj.title)\n",
    "\n",
    "    for index, ind in enumerate(withPlaylist):\n",
    "        vidObj = YouTube(ind)        \n",
    "        if vidObj.length != 0 and vidObj.length < 10000:\n",
    "            compareWith.append(vidObj.title)\n",
    "    with open(fileName,'a') as ListyText:            \n",
    "        for elem in compareFrom:\n",
    "            if elem not in compareWith:\n",
    "                reqdVid = f'{index} vid : {elem}'\n",
    "                ListyText.write(reqdVid + '\\n')\n",
    "                returnedList.append(elem)\n",
    "    return returnedList"
   ]
  },
  {
   "cell_type": "code",
   "execution_count": 32,
   "id": "5252cd56",
   "metadata": {},
   "outputs": [],
   "source": [
    "def midInteruptedList(playList, start):\n",
    "    vidList = playList[start:] #We can set the number of videos to download in one go\n",
    "    for index, ind in enumerate(vidList):\n",
    "        vidObj = YouTube(ind)        \n",
    "        if vidObj.length != 0 and vidObj.length < 10000:\n",
    "            print(f'{start + index} vid : {vidObj.title}')\n",
    "            yt = YouTube(ind).streams\n",
    "            get_vid = yt.get_highest_resolution()\n",
    "            get_vid.download()\n",
    "# Idea is if video of idx 9 fails download then function start argument will be that same index.\n",
    "# If the all videos gets downloaded, then start will be plus + 1 of the last of index that was downloaded."
   ]
  },
  {
   "cell_type": "code",
   "execution_count": 34,
   "id": "a85be271",
   "metadata": {},
   "outputs": [
    {
     "name": "stdout",
     "output_type": "stream",
     "text": [
      "13 vid : POWER BI Tutorial from the Scratch to an Advanced Power BI SKILL level\n",
      "14 vid : POWER BI free Training from the Scratch to an Advanced Power BI Skill Level\n"
     ]
    }
   ],
   "source": [
    "midInteruptedList(newlistForDownload,13)"
   ]
  },
  {
   "cell_type": "code",
   "execution_count": 35,
   "id": "a4094bc4",
   "metadata": {},
   "outputs": [
    {
     "data": {
      "text/plain": [
       "['https://www.youtube.com/watch?v=OUzaUJ3gEug',\n",
       " 'https://youtu.be/rAVhz2Koqms',\n",
       " 'https://youtu.be/8b3hHKmWdTI',\n",
       " 'https://www.youtube.com/watch?v=0BKlUySopU4',\n",
       " 'https://www.youtube.com/watch?v=gFKNSmO8oyA',\n",
       " 'https://www.youtube.com/watch?v=eezGwia4gEk',\n",
       " 'https://www.youtube.com/watch?v=2YouR3hO92Q',\n",
       " 'https://www.youtube.com/watch?v=MIhVG4OqMk8',\n",
       " 'https://www.youtube.com/watch?v=KOhx3xfLTiY',\n",
       " 'https://www.youtube.com/watch?v=0XyootjphNw',\n",
       " 'https://www.youtube.com/watch?v=wgs124_AQTI',\n",
       " 'https://www.youtube.com/watch?v=cQWv1i8tc_8',\n",
       " 'https://www.youtube.com/watch?v=9nf2Tj0XVKQ',\n",
       " 'https://www.youtube.com/watch?v=aJLuxIEjE50',\n",
       " 'https://www.youtube.com/watch?v=-_-4RGKdhsc']"
      ]
     },
     "execution_count": 35,
     "metadata": {},
     "output_type": "execute_result"
    }
   ],
   "source": [
    "newlistForDownload"
   ]
  },
  {
   "cell_type": "code",
   "execution_count": null,
   "id": "692787d8",
   "metadata": {},
   "outputs": [],
   "source": [
    "des"
   ]
  },
  {
   "cell_type": "code",
   "execution_count": 8,
   "id": "cf3c3a1c",
   "metadata": {},
   "outputs": [],
   "source": [
    "processing = \"https://youtube.com/playlist?list=PLzJbM9-DyOZyMZzVda3HaWviHqfPiYN7e\"\n",
    "processingList = list(Playlist(processing).video_urls)"
   ]
  },
  {
   "cell_type": "code",
   "execution_count": 11,
   "id": "8ee90b05",
   "metadata": {},
   "outputs": [
    {
     "name": "stdout",
     "output_type": "stream",
     "text": [
      "0 vid : 0.0: Introduction - Processing Tutorial\n",
      "1 vid : 0.1: Who are you? Who am I? - Processing Tutorial\n",
      "2 vid : 0.2: How and why should you learn Programming? - Processing Tutorial\n",
      "3 vid : 0.3: What is programming? - Processing Tutorial\n",
      "4 vid : 0.4: What are some programming languages? - Processing Tutorial\n",
      "5 vid : 0.5: Processing Examples - Processing Tutorial\n",
      "6 vid : 0.6 Overview of Topics - Processing Tutorial\n",
      "7 vid : 1.1: Drawing with Pixels - Processing Tutorial\n",
      "8 vid : 2.1: How to use Processing - Processing Tutorial\n",
      "9 vid : 2.2: RGB Color - Processing Tutorial\n",
      "10 vid : 3.1: Flow (setup and draw) - Processing Tutorial\n",
      "11 vid : 3.2: Built-in Variables (mouseX, mouseY) - Processing Tutorial\n",
      "12 vid : 3.3: Events (mousePressed, keyPressed) - Processing Tutorial\n",
      "13 vid : 4.1: Variables - Processing Tutorial\n",
      "14 vid : 4.2: Incrementing a Variable - Processing Tutorial\n",
      "15 vid : 4.3: Using random() - Processing Tutorial\n",
      "16 vid : 4.4: Using println() - Processing Tutorial\n",
      "17 vid : 5.1: Boolean Expressions - Processing Tutorial\n",
      "18 vid : 5.2: If, Else If, Else - Processing Tutorial\n",
      "19 vid : 5.3: Logical Operators: AND, OR - Processing Tutorial\n",
      "20 vid : 5.4: Boolean Variables - Processing Tutorial\n",
      "21 vid : 5.5: The Bouncing Ball - Processing Tutorial\n",
      "22 vid : 6.1: While Loop - Processing Tutorial\n",
      "23 vid : 6.2: Two Loops / Grid Exercise - Processing Tutorial\n",
      "24 vid : 6.3: For Loop - Processing Tutorial\n",
      "25 vid : 6.4: Variable Scope - Processing Tutorial\n",
      "26 vid : 6.5: Loop vs. Draw - Processing Tutorial\n",
      "27 vid : 6.6: Nested Loops - Processing Tutorial\n",
      "28 vid : 7.1: Introduction to Functions and Objects - Processing Tutorial\n",
      "29 vid : 7.2: Functions Basics - Processing Tutorial\n",
      "30 vid : 7.3: Modularity with Functions - Processing Tutorial\n",
      "31 vid : 7.4: Reusability with Functions - Processing Tutorial\n",
      "32 vid : 8.1: What is Object-Oriented Programming (OOP)? - Processing Tutorial\n",
      "33 vid : 8.2: Defining a Class Part I - Processing Tutorial\n",
      "34 vid : 8.3: Defining a Class Part II - Processing Tutorial\n",
      "35 vid : 8.4: Constructor Arguments - Processing Tutorial\n",
      "36 vid : 8.5: More on Objects - Processing Tutorial\n",
      "37 vid : 8.6: Pass by Value vs. Pass by Reference - Processing Tutorial\n",
      "38 vid : 9.1: What is an Array? - Processing Tutorial\n",
      "39 vid : 9.2: Declare, Initialize, and Use an Array - Processing Tutorial\n",
      "40 vid : 9.3: Arrays of Objects - Processing Tutorial\n",
      "41 vid : 9.4: Arrays and Loops - Processing Tutorial\n",
      "42 vid : 9.5: Arrays of Flexible Size - Processing Tutorial\n",
      "43 vid : 10.1: Intro to Images - Processing Tutorial\n",
      "44 vid : 10.2: Animate an Image - Processing Tutorial\n",
      "45 vid : 10.3: An Array of Images - Processing Tutorial\n",
      "46 vid : 10.4: Pixels! (The Pixels Array) - Processing Tutorial\n",
      "47 vid : 10.5: Image Processing with Pixels - Processing Tutorial\n",
      "48 vid : 10.6: Pixel Neighbors - Processing Tutorial\n",
      "49 vid : 10.7: Painting with Pixels - Processing Tutorial\n",
      "50 vid : 11.1: Capture and Live Video - Processing Tutorial\n",
      "51 vid : 11.2: Using the Movie Object for Displaying Recorded Videos - Processing Tutorial\n",
      "52 vid : 11.3: Slit-Scan Video - Processing Tutorial\n",
      "53 vid : 11.4: Introduction to Computer Vision - Processing Tutorial\n",
      "54 vid : 11.5: Computer Vision: Color Tracking - Processing Tutorial\n",
      "55 vid : 11.6: Computer Vision: Motion Detection - Processing Tutorial\n",
      "56 vid : 11.7: Computer Vision: Blob Detection - Processing Tutorial\n",
      "57 vid : 11.8: Computer Vision: Improved Blob Detection - Processing Tutorial\n",
      "58 vid : 11.9: Computer Vision: Blob Tracking with Persistence - Processing Tutorial\n",
      "59 vid : 11.10: Computer Vision: Adding Lifespan to Blobs - Processing Tutorial\n",
      "60 vid : 12.1: What is the Kinect? - Kinect and Processing Tutorial\n",
      "61 vid : 12.2: The Depth Image - Kinect and Processing Tutorial\n",
      "62 vid : 12.3: Raw Depth Data - Point Clouds and Thresholds - Kinect and Processing Tutorial\n",
      "63 vid : 12.4: Average Point Hand Tracking - Kinect and Processing Tutorial\n",
      "64 vid : 12.5: Closest or Highest Point Tracking - Kinect and Processing Tutorial\n"
     ]
    }
   ],
   "source": [
    "midInteruptedList(processingList,0)"
   ]
  },
  {
   "cell_type": "code",
   "execution_count": 2,
   "id": "03a1e8f8",
   "metadata": {},
   "outputs": [],
   "source": [
    "def downSingleVid(vid):\n",
    "    yt = YouTube(vid).streams\n",
    "    get_vid = yt.get_highest_resolution()\n",
    "    get_vid.download()"
   ]
  },
  {
   "cell_type": "code",
   "execution_count": 5,
   "id": "6421da01",
   "metadata": {},
   "outputs": [],
   "source": [
    "fourPrj = \"https://www.youtube.com/watch?v=qwfE7fSVaZM\"\n",
    "nodexpress = \"https://www.youtube.com/watch?v=Oe421EPjeBE&t=0s\""
   ]
  },
  {
   "cell_type": "code",
   "execution_count": 6,
   "id": "f94dddaa",
   "metadata": {},
   "outputs": [],
   "source": [
    "downSingleVid(nodexpress)"
   ]
  },
  {
   "cell_type": "code",
   "execution_count": 9,
   "id": "566d8e15",
   "metadata": {},
   "outputs": [],
   "source": [
    "def writePlayList(playList, fileName):\n",
    "    tempPlayList = []\n",
    "    print(fileName.count != 0)\n",
    "    with open(fileName,'a') as ListyText:\n",
    "        for ind in playList:\n",
    "            vidObj = YouTube(ind).title        \n",
    "            ListyText.write(vidObj + '\\n')        \n",
    "            tempPlayList.append(vidObj)\n",
    "\n",
    "    return tempPlayList"
   ]
  },
  {
   "cell_type": "code",
   "execution_count": 5,
   "id": "7fa122ec",
   "metadata": {},
   "outputs": [],
   "source": [
    "textPrgm = Playlist(\"https://www.youtube.com/playlist?list=PLRqwX-V7Uu6YrbSJBg32eTzUU50E2B8Ch\")\n",
    "textPrgmList = list(textPrgm.video_urls)"
   ]
  },
  {
   "cell_type": "code",
   "execution_count": 6,
   "id": "ef0866b3",
   "metadata": {},
   "outputs": [],
   "source": [
    "promised = Playlist(\"https://youtube.com/playlist?list=PLRqwX-V7Uu6bKLPQvPRNNE65kBL62mVfx\")\n",
    "promisedList = list(promised.video_urls)"
   ]
  },
  {
   "cell_type": "code",
   "execution_count": 7,
   "id": "7af69219",
   "metadata": {},
   "outputs": [],
   "source": [
    "datapi = Playlist(\"https://www.youtube.com/playlist?list=PLRqwX-V7Uu6YxDKpFzf_2D84p0cyk4T7X\")\n",
    "dataAPIList = list(datapi.video_urls)"
   ]
  },
  {
   "cell_type": "code",
   "execution_count": 8,
   "id": "0d2f25d2",
   "metadata": {},
   "outputs": [],
   "source": [
    "p5code = Playlist(\"https://www.youtube.com/playlist?list=PLRqwX-V7Uu6Zy51Q-x9tMWIv9cueOFTFA\")\n",
    "p5codeList = list(p5code.video_urls)"
   ]
  },
  {
   "cell_type": "code",
   "execution_count": 9,
   "id": "b6a57612",
   "metadata": {},
   "outputs": [],
   "source": [
    "ml5 = Playlist(\"https://www.youtube.com/playlist?list=PLRqwX-V7Uu6YPSwT06y_AEYTqIwbeam3y\")\n",
    "ml5List = list(ml5.video_urls)"
   ]
  },
  {
   "cell_type": "code",
   "execution_count": 10,
   "id": "a250f0a3",
   "metadata": {},
   "outputs": [],
   "source": [
    "addP5Code = Playlist(\"https://youtube.com/playlist?list=PLRqwX-V7Uu6ZmA-d3D0iFIvgrB5_7kB8H\")\n",
    "addP5CodeList = list(addP5Code.video_urls)"
   ]
  },
  {
   "cell_type": "code",
   "execution_count": 37,
   "id": "49108284",
   "metadata": {},
   "outputs": [],
   "source": [
    "consolidateList = addP5CodeList + ml5List +dataAPIList + promisedList + textPrgmList + apiMoreList + p5codeList"
   ]
  },
  {
   "cell_type": "code",
   "execution_count": 72,
   "id": "cfb67b10",
   "metadata": {},
   "outputs": [],
   "source": [
    "playReq = ['8','9','11','12','17']\n",
    "reqdPlayUrl = []\n",
    "for elem in introP5List:\n",
    "    vidTitle = YouTube(elem).title\n",
    "    if vidTitle.split('.')[0] in playReq:\n",
    "        reqdPlayUrl.append(elem)"
   ]
  },
  {
   "cell_type": "code",
   "execution_count": 5,
   "id": "812df58d",
   "metadata": {},
   "outputs": [],
   "source": [
    "threejs = Playlist(\"https://www.youtube.com/playlist?list=PL0lNJEnwfVVO4sNO2WDq_h73w-eHQStCB\")\n",
    "threeJsList = list(threejs.video_urls)"
   ]
  }
 ],
 "metadata": {
  "kernelspec": {
   "display_name": "Python 3 (ipykernel)",
   "language": "python",
   "name": "python3"
  },
  "language_info": {
   "codemirror_mode": {
    "name": "ipython",
    "version": 3
   },
   "file_extension": ".py",
   "mimetype": "text/x-python",
   "name": "python",
   "nbconvert_exporter": "python",
   "pygments_lexer": "ipython3",
   "version": "3.10.7"
  }
 },
 "nbformat": 4,
 "nbformat_minor": 5
}

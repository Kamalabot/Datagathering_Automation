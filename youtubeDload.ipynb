{
 "cells": [
  {
   "cell_type": "code",
   "execution_count": 1,
   "id": "3fe25679",
   "metadata": {},
   "outputs": [],
   "source": [
    "from pytube import YouTube\n",
    "from pytube import Channel\n",
    "from pytube import Search\n",
    "from pytube import Playlist"
   ]
  },
  {
   "cell_type": "code",
   "execution_count": 3,
   "id": "e065cee9",
   "metadata": {},
   "outputs": [],
   "source": [
    "musicChannel = Channel(\"https://www.youtube.com/channel/UC__sGZ_MvAFJM4YRXqqDZlw/videos\")"
   ]
  },
  {
   "cell_type": "code",
   "execution_count": 6,
   "id": "0d11a753",
   "metadata": {},
   "outputs": [
    {
     "data": {
      "text/plain": [
       "49"
      ]
     },
     "execution_count": 6,
     "metadata": {},
     "output_type": "execute_result"
    }
   ],
   "source": [
    "musChaList = list(musicChannel.video_urls)\n",
    "len(musChaList)"
   ]
  },
  {
   "cell_type": "code",
   "execution_count": 2,
   "id": "7c241c16",
   "metadata": {},
   "outputs": [],
   "source": [
    "apiMore = Playlist(\"https://youtube.com/playlist?list=PLRqwX-V7Uu6Yyn-fBtGHfN0_xCtBwUkBp\")\n",
    "apiMoreList = list(apiMore.video_urls)"
   ]
  },
  {
   "cell_type": "code",
   "execution_count": 3,
   "id": "49153747",
   "metadata": {},
   "outputs": [],
   "source": [
    "def downLoadMusicList(musList):\n",
    "    for ind in musList:\n",
    "        vidObj = YouTube(ind)        \n",
    "        if vidObj.length != 0 and vidObj.length < 10000:\n",
    "            print(vidObj.length)\n",
    "            print(vidObj.title)\n",
    "            yt = YouTube(ind)\n",
    "            stream = yt.streams.get_by_itag(140)\n",
    "            stream.download()"
   ]
  },
  {
   "cell_type": "code",
   "execution_count": 4,
   "id": "7ff65eb7",
   "metadata": {},
   "outputs": [],
   "source": [
    "def downLoadVideoList(vidList):\n",
    "    for index, ind in enumerate(vidList):\n",
    "        vidObj = YouTube(ind)        \n",
    "        if vidObj.length != 0 and vidObj.length < 10000:\n",
    "            print(f'{index} vid : {vidObj.title}')\n",
    "            yt = YouTube(ind).streams\n",
    "            get_vid = yt.get_highest_resolution()\n",
    "            get_vid.download()"
   ]
  },
  {
   "cell_type": "code",
   "execution_count": 5,
   "id": "7fa122ec",
   "metadata": {},
   "outputs": [],
   "source": [
    "textPrgm = Playlist(\"https://www.youtube.com/playlist?list=PLRqwX-V7Uu6YrbSJBg32eTzUU50E2B8Ch\")\n",
    "textPrgmList = list(textPrgm.video_urls)"
   ]
  },
  {
   "cell_type": "code",
   "execution_count": 6,
   "id": "ef0866b3",
   "metadata": {},
   "outputs": [],
   "source": [
    "promised = Playlist(\"https://youtube.com/playlist?list=PLRqwX-V7Uu6bKLPQvPRNNE65kBL62mVfx\")\n",
    "promisedList = list(promised.video_urls)"
   ]
  },
  {
   "cell_type": "code",
   "execution_count": 7,
   "id": "ef0866b3",
   "metadata": {},
   "outputs": [],
   "source": [
    "datapi = Playlist(\"https://www.youtube.com/playlist?list=PLRqwX-V7Uu6YxDKpFzf_2D84p0cyk4T7X\")\n",
    "dataAPIList = list(datapi.video_urls)"
   ]
  },
  {
   "cell_type": "code",
   "execution_count": 8,
   "id": "0d2f25d2",
   "metadata": {},
   "outputs": [],
   "source": [
    "p5code = Playlist(\"https://www.youtube.com/playlist?list=PLRqwX-V7Uu6Zy51Q-x9tMWIv9cueOFTFA\")\n",
    "p5codeList = list(p5code.video_urls)"
   ]
  },
  {
   "cell_type": "code",
   "execution_count": 9,
   "id": "b6a57612",
   "metadata": {},
   "outputs": [],
   "source": [
    "ml5 = Playlist(\"https://www.youtube.com/playlist?list=PLRqwX-V7Uu6YPSwT06y_AEYTqIwbeam3y\")\n",
    "ml5List = list(ml5.video_urls)"
   ]
  },
  {
   "cell_type": "code",
   "execution_count": 10,
   "id": "a250f0a3",
   "metadata": {},
   "outputs": [],
   "source": [
    "addP5Code = Playlist(\"https://youtube.com/playlist?list=PLRqwX-V7Uu6ZmA-d3D0iFIvgrB5_7kB8H\")\n",
    "addP5CodeList = list(addP5Code.video_urls)"
   ]
  },
  {
   "cell_type": "code",
   "execution_count": 37,
   "id": "49108284",
   "metadata": {},
   "outputs": [],
   "source": [
    "consolidateList = addP5CodeList + ml5List +dataAPIList + promisedList + textPrgmList + apiMoreList + p5codeList"
   ]
  },
  {
   "cell_type": "code",
   "execution_count": 54,
   "id": "ec86a39c",
   "metadata": {},
   "outputs": [],
   "source": [
    "def comparePlayList(playList, withPlaylist,fileName):\n",
    "    compareFrom =[]\n",
    "    compareWith = []\n",
    "    returnedList = []\n",
    "\n",
    "    for index, ind in enumerate(playList):\n",
    "        vidObj = YouTube(ind)        \n",
    "        if vidObj.length != 0 and vidObj.length < 10000:\n",
    "            compareFrom.append(vidObj.title)\n",
    "\n",
    "    for index, ind in enumerate(withPlaylist):\n",
    "        vidObj = YouTube(ind)        \n",
    "        if vidObj.length != 0 and vidObj.length < 10000:\n",
    "            compareWith.append(vidObj.title)\n",
    "    with open(fileName,'a') as ListyText:            \n",
    "        for elem in compareFrom:\n",
    "            if elem not in compareWith:\n",
    "                reqdVid = f'{index} vid : {elem}'\n",
    "                ListyText.write(reqdVid + '\\n')\n",
    "                returnedList.append(elem)\n",
    "    return returnedList"
   ]
  },
  {
   "cell_type": "code",
   "execution_count": 79,
   "id": "5252cd56",
   "metadata": {},
   "outputs": [],
   "source": [
    "def midInteruptedList(playList, start):\n",
    "    vidList = playList[start:] #We can set the number of videos to download in one go\n",
    "    for index, ind in enumerate(vidList):\n",
    "        vidObj = YouTube(ind)        \n",
    "        if vidObj.length != 0 and vidObj.length < 10000:\n",
    "            print(f'{start + index} vid : {vidObj.title}')\n",
    "            yt = YouTube(ind).streams\n",
    "            get_vid = yt.get_highest_resolution()\n",
    "            get_vid.download()\n",
    "# Idea is if video of idx 9 fails download then function start argument will be that same index.\n",
    "# If the all videos gets downloaded, then start will be plus + 1 of the last of index that was downloaded."
   ]
  },
  {
   "cell_type": "code",
   "execution_count": 78,
   "id": "03a1e8f8",
   "metadata": {},
   "outputs": [],
   "source": [
    "def downSingleVid(vid):\n",
    "    yt = YouTube(vid).streams\n",
    "    get_vid = yt.get_highest_resolution()\n",
    "    get_vid.download()"
   ]
  },
  {
   "cell_type": "code",
   "execution_count": 55,
   "id": "566d8e15",
   "metadata": {},
   "outputs": [],
   "source": [
    "def writePlayList(playList, fileName):\n",
    "    tempPlayList = []\n",
    "    print(fileName.count != 0)\n",
    "    with open(fileName,'a') as ListyText:\n",
    "        for ind in playList:\n",
    "            vidObj = YouTube(ind).title        \n",
    "            ListyText.write(vidObj + '\\n')        \n",
    "            tempPlayList.append(vidObj)\n",
    "\n",
    "    return tempPlayList"
   ]
  },
  {
   "cell_type": "code",
   "execution_count": 36,
   "id": "878fef49",
   "metadata": {},
   "outputs": [],
   "source": [
    "compareTo = writePlayList(consolidateList,'consolidate.txt')"
   ]
  },
  {
   "cell_type": "code",
   "execution_count": 70,
   "id": "7149eb1d",
   "metadata": {},
   "outputs": [
    {
     "data": {
      "text/plain": [
       "'9'"
      ]
     },
     "execution_count": 70,
     "metadata": {},
     "output_type": "execute_result"
    }
   ],
   "source": [
    "compareWith[60].split('.')[0]"
   ]
  },
  {
   "cell_type": "code",
   "execution_count": 72,
   "id": "cfb67b10",
   "metadata": {},
   "outputs": [],
   "source": [
    "playReq = ['8','9','11','12','17']\n",
    "reqdPlayUrl = []\n",
    "for elem in introP5List:\n",
    "    vidTitle = YouTube(elem).title\n",
    "    if vidTitle.split('.')[0] in playReq:\n",
    "        reqdPlayUrl.append(elem)"
   ]
  },
  {
   "cell_type": "code",
   "execution_count": 77,
   "id": "1882c174",
   "metadata": {},
   "outputs": [
    {
     "name": "stdout",
     "output_type": "stream",
     "text": [
      "True\n"
     ]
    },
    {
     "data": {
      "text/plain": [
       "['8.1: What is HTML? - p5.js Tutorial',\n",
       " '8.2: Creating HTML Elements with JavaScript - p5.js Tutorial',\n",
       " '8.3: Manipulating DOM Elements with html() and position() - p5.js Tutorial',\n",
       " '8.4: Handling DOM Events with Callbacks - p5.js Tutorial',\n",
       " '8.5: Interacting with the DOM using Sliders, Buttons and Text Inputs - p5.js Tutorial',\n",
       " '8.6: Other Events and Inputs - p5.js Tutorial',\n",
       " '8.7: The Basics of CSS - p5.js Tutorial',\n",
       " '8.8: Events \"changed\" and \"input\" - p5.js Tutorial',\n",
       " '8.9: CSS Selectors - p5.js Tutorial',\n",
       " '8.10: select() and selectAll() with CSS Selectors - p5.js Tutorial',\n",
       " '8.11: Callbacks on Multiple DOM Elements - p5.js Tutorial',\n",
       " '8.12: parent() and child() - p5.js Tutorial',\n",
       " '8.13: Assigning a CSS Class Dynamically - p5.js Tutorial',\n",
       " '8.14: parent() and child() again with Variables - p5.js Tutorial',\n",
       " '8.15: Drag and Drop a File - p5.js Tutorial',\n",
       " '8.16: The Slider Dance - p5.js Tutorial',\n",
       " '9.4: JavaScript setTimeout() Function - p5.js Tutorial',\n",
       " '9.5: JavaScript setInterval() Function - p5.js Tutorial',\n",
       " '9.6: JavaScript Closure - p5.js Tutorial',\n",
       " '9.7: Drawing Object Trails - p5.js Tutorial',\n",
       " '9.8: Random Circles with No Overlap - p5.js Tutorial',\n",
       " \"9.9: Minimum Spanning Tree (Prim's Algorithm) - p5.js Tutorial\",\n",
       " '9.10: Reset a Sketch with Button Click - p5.js Tutorial',\n",
       " '9.11: Instance Mode (aka \"namespacing\") - p5.js Tutorial',\n",
       " '9.12: Local Server, Text Editor, JavaScript Console - p5.js Tutorial',\n",
       " '9.13: GitHub Pages for Hosting p5.js Sketches - p5.js Tutorial',\n",
       " '9.14: Loading Animation - p5.js Tutorial',\n",
       " '9.15: 2D Arrays in JavaScript - p5.js Tutorial',\n",
       " '9.16: CodePen in p5.js - p5.js Tutorial',\n",
       " '9.17: Arguments Array in JavaScript - p5.js Tutorial',\n",
       " '11.1: Live Video and createCapture() - p5.js Tutorial',\n",
       " '11.2: Video Photobooth / Muybridge Style Animation - p5.js Tutorial',\n",
       " '11.3: The Pixel Array - p5.js Tutorial',\n",
       " '11.4: Brightness Mirror - p5.js Tutorial',\n",
       " '11.5: Checkbox Mirror - p5.js Tutorial',\n",
       " '11.6: Painting with Pixels - p5.js Tutorial',\n",
       " '11.7: Slit-Scan Video - p5.js Tutorial',\n",
       " '11.8: Video Effects with Seriously.js - p5.js Tutorial',\n",
       " '17.1: Loading and Playing - p5.js Sound Tutorial',\n",
       " '17.2: Play and Pause Button - p5.js Sound Tutorial',\n",
       " '17.3: Timing, Jumps and Cues - p5.js Sound Tutorial',\n",
       " '17.4: Amplitude Analysis - p5.js Sound Tutorial',\n",
       " '17.5: Adding Sound Effects - p5.js Sound Tutorial',\n",
       " '17.6: Sound Synthesis - p5.js Sound Tutorial',\n",
       " '17.7: ADSR Envelope - p5.js Sound Tutorial',\n",
       " '17.8: Microphone Input - p5.js Sound Tutorial',\n",
       " '17.9: Sound Visualization: Graphing Amplitude - p5.js Sound Tutorial',\n",
       " '17.10: Sound Visualization: Radial Graph - p5.js Sound Tutorial',\n",
       " '17.11: Sound Visualization: Frequency Analysis with FFT - p5.js Sound Tutorial',\n",
       " '12.1: Introduction to Node - WebSockets and p5.js Tutorial',\n",
       " '12.2: Using Express with Node - WebSockets and p5.js Tutorial',\n",
       " '12.3: Connecting Client to Server with Socket.io - WebSockets and p5.js Tutorial',\n",
       " '12.4: Shared Drawing Canvas - WebSockets and p5.js Tutorial']"
      ]
     },
     "execution_count": 77,
     "metadata": {},
     "output_type": "execute_result"
    }
   ],
   "source": []
  },
  {
   "cell_type": "code",
   "execution_count": 74,
   "id": "1292cc8b",
   "metadata": {},
   "outputs": [
    {
     "data": {
      "text/plain": [
       "53"
      ]
     },
     "execution_count": 74,
     "metadata": {},
     "output_type": "execute_result"
    }
   ],
   "source": [
    "len(reqdPlayUrl)"
   ]
  },
  {
   "cell_type": "code",
   "execution_count": 5,
   "id": "812df58d",
   "metadata": {},
   "outputs": [],
   "source": [
    "threejs = Playlist(\"https://www.youtube.com/playlist?list=PL0lNJEnwfVVO4sNO2WDq_h73w-eHQStCB\")\n",
    "threeJsList = list(threejs.video_urls)"
   ]
  }
 ],
 "metadata": {
  "kernelspec": {
   "display_name": "Python 3 (ipykernel)",
   "language": "python",
   "name": "python3"
  },
  "language_info": {
   "codemirror_mode": {
    "name": "ipython",
    "version": 3
   },
   "file_extension": ".py",
   "mimetype": "text/x-python",
   "name": "python",
   "nbconvert_exporter": "python",
   "pygments_lexer": "ipython3",
   "version": "3.7.10"
  }
 },
 "nbformat": 4,
 "nbformat_minor": 5
}

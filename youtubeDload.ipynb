{
 "cells": [
  {
   "cell_type": "code",
   "execution_count": 10,
   "id": "3fe25679",
   "metadata": {},
   "outputs": [],
   "source": [
    "from pytube import YouTube\n",
    "from pytube import Channel\n",
    "from pytube import Search\n",
    "from pytube import Playlist"
   ]
  },
  {
   "cell_type": "code",
   "execution_count": 11,
   "id": "8a96fa85",
   "metadata": {},
   "outputs": [],
   "source": [
    "natOfCod = Playlist('https://www.youtube.com/playlist?list=PLRqwX-V7Uu6aFlwukCmDf0-1-uSR7mklK')\n",
    "natOfCodList = list(natOfCod.video_urls)"
   ]
  },
  {
   "cell_type": "code",
   "execution_count": 3,
   "id": "e065cee9",
   "metadata": {},
   "outputs": [],
   "source": [
    "circleCi = Playlist('https://youtube.com/playlist?list=PLRqwX-V7Uu6bLqwFa52YGEHy-L1-D_Ve-')"
   ]
  },
  {
   "cell_type": "code",
   "execution_count": 2,
   "id": "7c241c16",
   "metadata": {},
   "outputs": [],
   "source": [
    "apiMore = Playlist(\"https://youtube.com/playlist?list=PLRqwX-V7Uu6Yyn-fBtGHfN0_xCtBwUkBp\")\n",
    "apiMoreList = list(apiMore.video_urls)"
   ]
  },
  {
   "cell_type": "code",
   "execution_count": 4,
   "id": "7c241c16",
   "metadata": {},
   "outputs": [],
   "source": [
    "circleCiList = list(circleCi.video_urls)"
   ]
  },
  {
   "cell_type": "code",
   "execution_count": 3,
   "id": "49153747",
   "metadata": {},
   "outputs": [],
   "source": [
    "def downLoadMusicList(musList):\n",
    "    for ind in musList:\n",
    "        vidObj = YouTube(ind)        \n",
    "        if vidObj.length != 0 and vidObj.length < 10000:\n",
    "            print(vidObj.length)\n",
    "            print(vidObj.title)\n",
    "            yt = YouTube(ind)\n",
    "            stream = yt.streams.get_by_itag(140)\n",
    "            stream.download()"
   ]
  },
  {
   "cell_type": "code",
   "execution_count": 4,
   "id": "7ff65eb7",
   "metadata": {},
   "outputs": [],
   "source": [
    "def downLoadVideoList(vidList):\n",
    "    for index, ind in enumerate(vidList):\n",
    "        vidObj = YouTube(ind)        \n",
    "        if vidObj.length != 0 and vidObj.length < 10000:\n",
    "            print(f'{index} vid : {vidObj.title}')\n",
    "            yt = YouTube(ind).streams\n",
    "            get_vid = yt.get_highest_resolution()\n",
    "            get_vid.download()"
   ]
  },
  {
   "cell_type": "code",
   "execution_count": 5,
   "id": "7fa122ec",
   "metadata": {},
   "outputs": [],
   "source": [
    "textPrgm = Playlist(\"https://www.youtube.com/playlist?list=PLRqwX-V7Uu6YrbSJBg32eTzUU50E2B8Ch\")\n",
    "textPrgmList = list(textPrgm.video_urls)"
   ]
  },
  {
   "cell_type": "code",
   "execution_count": 6,
   "id": "ef0866b3",
   "metadata": {},
   "outputs": [],
   "source": [
    "promised = Playlist(\"https://youtube.com/playlist?list=PLRqwX-V7Uu6bKLPQvPRNNE65kBL62mVfx\")\n",
    "promisedList = list(promised.video_urls)"
   ]
  },
  {
   "cell_type": "code",
   "execution_count": 7,
   "id": "ef0866b3",
   "metadata": {},
   "outputs": [],
   "source": [
    "datapi = Playlist(\"https://www.youtube.com/playlist?list=PLRqwX-V7Uu6YxDKpFzf_2D84p0cyk4T7X\")\n",
    "dataAPIList = list(datapi.video_urls)"
   ]
  },
  {
   "cell_type": "code",
   "execution_count": 8,
   "id": "0d2f25d2",
   "metadata": {},
   "outputs": [],
   "source": [
    "p5code = Playlist(\"https://www.youtube.com/playlist?list=PLRqwX-V7Uu6Zy51Q-x9tMWIv9cueOFTFA\")\n",
    "p5codeList = list(p5code.video_urls)"
   ]
  },
  {
   "cell_type": "code",
   "execution_count": 9,
   "id": "b6a57612",
   "metadata": {},
   "outputs": [],
   "source": [
    "ml5 = Playlist(\"https://www.youtube.com/playlist?list=PLRqwX-V7Uu6YPSwT06y_AEYTqIwbeam3y\")\n",
    "ml5List = list(ml5.video_urls)"
   ]
  },
  {
   "cell_type": "code",
   "execution_count": 10,
   "id": "a250f0a3",
   "metadata": {},
   "outputs": [],
   "source": [
    "addP5Code = Playlist(\"https://youtube.com/playlist?list=PLRqwX-V7Uu6ZmA-d3D0iFIvgrB5_7kB8H\")\n",
    "addP5CodeList = list(addP5Code.video_urls)"
   ]
  },
  {
   "cell_type": "code",
   "execution_count": 37,
   "id": "49108284",
   "metadata": {},
   "outputs": [],
   "source": [
    "consolidateList = addP5CodeList + ml5List +dataAPIList + promisedList + textPrgmList + apiMoreList + p5codeList"
   ]
  },
  {
   "cell_type": "code",
   "execution_count": 5,
   "id": "ec86a39c",
   "metadata": {},
   "outputs": [],
   "source": [
    "def comparePlayList(playList, withPlaylist,fileName):\n",
    "    compareFrom =[]\n",
    "    compareWith = []\n",
    "    returnedList = []\n",
    "\n",
    "    for index, ind in enumerate(playList):\n",
    "        vidObj = YouTube(ind)        \n",
    "        if vidObj.length != 0 and vidObj.length < 10000:\n",
    "            compareFrom.append(vidObj.title)\n",
    "\n",
    "    for index, ind in enumerate(withPlaylist):\n",
    "        vidObj = YouTube(ind)        \n",
    "        if vidObj.length != 0 and vidObj.length < 10000:\n",
    "            compareWith.append(vidObj.title)\n",
    "    with open(fileName,'a') as ListyText:            \n",
    "        for elem in compareFrom:\n",
    "            if elem not in compareWith:\n",
    "                reqdVid = f'{index} vid : {elem}'\n",
    "                ListyText.write(reqdVid + '\\n')\n",
    "                returnedList.append(elem)\n",
    "    return returnedList"
   ]
  },
  {
   "cell_type": "code",
   "execution_count": 6,
   "id": "5252cd56",
   "metadata": {},
   "outputs": [],
   "source": [
    "def midInteruptedList(playList, start):\n",
    "    vidList = playList[start:] #We can set the number of videos to download in one go\n",
    "    for index, ind in enumerate(vidList):\n",
    "        vidObj = YouTube(ind)        \n",
    "        if vidObj.length != 0 and vidObj.length < 10000:\n",
    "            print(f'{start + index} vid : {vidObj.title}')\n",
    "            yt = YouTube(ind).streams\n",
    "            get_vid = yt.get_highest_resolution()\n",
    "            get_vid.download()\n",
    "# Idea is if video of idx 9 fails download then function start argument will be that same index.\n",
    "# If the all videos gets downloaded, then start will be plus + 1 of the last of index that was downloaded."
   ]
  },
  {
   "cell_type": "code",
   "execution_count": 7,
   "id": "03a1e8f8",
   "metadata": {},
   "outputs": [],
   "source": [
    "def downSingleVid(vid):\n",
    "    yt = YouTube(vid).streams\n",
    "    get_vid = yt.get_highest_resolution()\n",
    "    get_vid.download()"
   ]
  },
  {
   "cell_type": "code",
   "execution_count": 8,
   "id": "566d8e15",
   "metadata": {},
   "outputs": [],
   "source": [
    "def writePlayList(playList, fileName):\n",
    "    tempPlayList = []\n",
    "    print(fileName.count != 0)\n",
    "    with open(fileName,'a') as ListyText:\n",
    "        for ind in playList:\n",
    "            vidObj = YouTube(ind).title        \n",
    "            ListyText.write(vidObj + '\\n')        \n",
    "            tempPlayList.append(vidObj)\n",
    "\n",
    "    return tempPlayList"
   ]
  },
  {
   "cell_type": "code",
   "execution_count": 9,
   "id": "8ea819cb",
   "metadata": {},
   "outputs": [
    {
     "ename": "NameError",
     "evalue": "name 'natOfCodList' is not defined",
     "output_type": "error",
     "traceback": [
      "\u001b[1;31m---------------------------------------------------------------------------\u001b[0m",
      "\u001b[1;31mNameError\u001b[0m                                 Traceback (most recent call last)",
      "\u001b[1;32m<ipython-input-9-567ac9ca6cb8>\u001b[0m in \u001b[0;36m<module>\u001b[1;34m\u001b[0m\n\u001b[1;32m----> 1\u001b[1;33m \u001b[0mtype\u001b[0m\u001b[1;33m(\u001b[0m\u001b[0mnatOfCodList\u001b[0m\u001b[1;33m)\u001b[0m\u001b[1;33m\u001b[0m\u001b[1;33m\u001b[0m\u001b[0m\n\u001b[0m",
      "\u001b[1;31mNameError\u001b[0m: name 'natOfCodList' is not defined"
     ]
    }
   ],
   "source": [
    "type(natOfCodList)"
   ]
  },
  {
   "cell_type": "code",
   "execution_count": 12,
   "id": "5ae06be2",
   "metadata": {},
   "outputs": [
    {
     "name": "stdout",
     "output_type": "stream",
     "text": [
      "9 vid : 1.4: Vector Math II - The Nature of Code\n",
      "10 vid : 1.5: Acceleration - The Nature of Code\n",
      "11 vid : 1.6: Vectors: Acceleration towards Mouse - The Nature of Code\n",
      "12 vid : 2.1: What is a Force? - The Nature of Code\n",
      "13 vid : 2.2: Applying a Force - The Nature of Code\n",
      "14 vid : 2.3: Simulating with Mass - The Nature of Code\n",
      "15 vid : 2.4: Friction Force - The Nature of Code\n",
      "16 vid : 2.5: Drag Force - The Nature of Code\n",
      "17 vid : 2.6: Gravitational Attraction - The Nature of Code\n",
      "18 vid : 3.1: Angles and Angular Motion - The Nature of Code\n",
      "19 vid : 3.2: Trigonometry and Polar Coordinates - The Nature of Code\n",
      "20 vid : 3.3: Simple Harmonic Motion - The Nature of Code\n",
      "21 vid : 3.4: Pendulum Simulation - The Nature of Code\n",
      "22 vid : 3.5: Springs - The Nature of Code\n",
      "23 vid : 4.1: Particle Systems - The Nature of Code\n",
      "24 vid : 4.2: ArrayLists in Processing - The Nature of Code\n",
      "25 vid : 4.3: Deleting objects from ArrayList - The Nature of Code\n",
      "26 vid : 4.4: Particle System Class - The Nature of Code\n",
      "27 vid : 4.5: Introduction to Inheritance Part I - The Nature of Code\n",
      "28 vid : 4.6: Introduction to Inheritance Part II - The Nature of Code\n",
      "29 vid : 4.7: Introduction to Polymorphism - The Nature of Code\n",
      "30 vid : 4.8: Applying forces to a Particle System - The Nature of Code\n",
      "31 vid : 4.9: Using Image Textures with Particles - The Nature of Code\n",
      "32 vid : 5.0a: Introduction to Physics Engines Part 1 - The Nature of Code\n",
      "33 vid : 5.0b: Introduction to Physics Engines Part 2 - The Nature of Code\n",
      "34 vid : 5.1: Introduction to Box2D - The Nature of Code\n",
      "35 vid : 5.2: What makes up a Box2D world? - The Nature of Code\n",
      "36 vid : 5.3: Box2D Coordinates and Vectors - The Nature of Code\n",
      "37 vid : 5.4: Adding Box2D to Processing Sketch Part 1 - The Nature of Code\n",
      "38 vid : 5.5: Adding Box2D to Processing Sketch Part 2 - The Nature of Code\n",
      "39 vid : 5.6: Static Bodies and Chain Shapes in Box2D - The Nature of Code\n",
      "40 vid : 5.7: Complex Shapes in Box2D - The Nature of Code\n",
      "41 vid : 5.8: Box2D Joints: Distance Joint - The Nature of Code\n",
      "42 vid : 5.9: Box2D Joints: Revolute Joint - The Nature of Code\n",
      "43 vid : 5.10: User Controlled Objects: Mouse Joint and Kinematic Type - The Nature of Code\n",
      "44 vid : 5.11: Applying forces in Box2D - The Nature of Code\n",
      "45 vid : 5.12: Collision Events in Box2D - The Nature of Code\n",
      "46 vid : 5.13: What is Toxiclibs Verlet Physics? - The Nature of Code\n",
      "47 vid : 5.14: Toxiclibs Verlet Physics Basics: Particles and Springs - The Nature of Code\n",
      "48 vid : 5.15: Connected Systems with Toxiclibs VerletPhysics - The Nature of Code\n",
      "49 vid : 5.16: Attraction Behaviors in Toxiclibs VerletPhysics - The Nature of Code\n",
      "50 vid : 5.17: Introduction to Matter.js - The Nature of Code\n",
      "51 vid : 5.18: Introduction to Matter.js Continued - The Nature of Code\n",
      "52 vid : 5.19: Matter.js: Deleting Bodies - The Nature of Code\n",
      "53 vid : 5.20: Matter.js: Constraints - The Nature of Code\n",
      "54 vid : 5.21: Matter.js: Mouse Constraints - The Nature of Code\n",
      "55 vid : 6.1: Autonomous Agents and Steering - The Nature of Code\n",
      "56 vid : 6.2: Steering Behaviors: Seek - The Nature of Code\n",
      "57 vid : 6.3: Steering Behaviors: Arrive - The Nature of Code\n",
      "58 vid : 6.4: Steering Behaviors: Flow FIeld Following - The Nature of Code\n"
     ]
    }
   ],
   "source": [
    "midInteruptedList(natOfCodList,9)"
   ]
  },
  {
   "cell_type": "code",
   "execution_count": 72,
   "id": "cfb67b10",
   "metadata": {},
   "outputs": [],
   "source": [
    "playReq = ['8','9','11','12','17']\n",
    "reqdPlayUrl = []\n",
    "for elem in introP5List:\n",
    "    vidTitle = YouTube(elem).title\n",
    "    if vidTitle.split('.')[0] in playReq:\n",
    "        reqdPlayUrl.append(elem)"
   ]
  },
  {
   "cell_type": "code",
   "execution_count": 80,
   "id": "1882c174",
   "metadata": {},
   "outputs": [
    {
     "name": "stdout",
     "output_type": "stream",
     "text": [
      "0 vid : 8.1: What is HTML? - p5.js Tutorial\n",
      "1 vid : 8.2: Creating HTML Elements with JavaScript - p5.js Tutorial\n",
      "2 vid : 8.3: Manipulating DOM Elements with html() and position() - p5.js Tutorial\n",
      "3 vid : 8.4: Handling DOM Events with Callbacks - p5.js Tutorial\n",
      "4 vid : 8.5: Interacting with the DOM using Sliders, Buttons and Text Inputs - p5.js Tutorial\n",
      "5 vid : 8.6: Other Events and Inputs - p5.js Tutorial\n",
      "6 vid : 8.7: The Basics of CSS - p5.js Tutorial\n",
      "7 vid : 8.8: Events \"changed\" and \"input\" - p5.js Tutorial\n",
      "8 vid : 8.9: CSS Selectors - p5.js Tutorial\n",
      "9 vid : 8.10: select() and selectAll() with CSS Selectors - p5.js Tutorial\n",
      "10 vid : 8.11: Callbacks on Multiple DOM Elements - p5.js Tutorial\n",
      "11 vid : 8.12: parent() and child() - p5.js Tutorial\n",
      "12 vid : 8.13: Assigning a CSS Class Dynamically - p5.js Tutorial\n",
      "13 vid : 8.14: parent() and child() again with Variables - p5.js Tutorial\n",
      "14 vid : 8.15: Drag and Drop a File - p5.js Tutorial\n",
      "15 vid : 8.16: The Slider Dance - p5.js Tutorial\n",
      "16 vid : 9.4: JavaScript setTimeout() Function - p5.js Tutorial\n",
      "17 vid : 9.5: JavaScript setInterval() Function - p5.js Tutorial\n",
      "18 vid : 9.6: JavaScript Closure - p5.js Tutorial\n",
      "19 vid : 9.7: Drawing Object Trails - p5.js Tutorial\n",
      "20 vid : 9.8: Random Circles with No Overlap - p5.js Tutorial\n",
      "21 vid : 9.9: Minimum Spanning Tree (Prim's Algorithm) - p5.js Tutorial\n",
      "22 vid : 9.10: Reset a Sketch with Button Click - p5.js Tutorial\n",
      "23 vid : 9.11: Instance Mode (aka \"namespacing\") - p5.js Tutorial\n",
      "24 vid : 9.12: Local Server, Text Editor, JavaScript Console - p5.js Tutorial\n",
      "25 vid : 9.13: GitHub Pages for Hosting p5.js Sketches - p5.js Tutorial\n",
      "26 vid : 9.14: Loading Animation - p5.js Tutorial\n",
      "27 vid : 9.15: 2D Arrays in JavaScript - p5.js Tutorial\n",
      "28 vid : 9.16: CodePen in p5.js - p5.js Tutorial\n",
      "29 vid : 9.17: Arguments Array in JavaScript - p5.js Tutorial\n",
      "30 vid : 11.1: Live Video and createCapture() - p5.js Tutorial\n",
      "31 vid : 11.2: Video Photobooth / Muybridge Style Animation - p5.js Tutorial\n",
      "32 vid : 11.3: The Pixel Array - p5.js Tutorial\n",
      "33 vid : 11.4: Brightness Mirror - p5.js Tutorial\n",
      "34 vid : 11.5: Checkbox Mirror - p5.js Tutorial\n",
      "35 vid : 11.6: Painting with Pixels - p5.js Tutorial\n",
      "36 vid : 11.7: Slit-Scan Video - p5.js Tutorial\n",
      "37 vid : 11.8: Video Effects with Seriously.js - p5.js Tutorial\n",
      "38 vid : 17.1: Loading and Playing - p5.js Sound Tutorial\n",
      "39 vid : 17.2: Play and Pause Button - p5.js Sound Tutorial\n",
      "40 vid : 17.3: Timing, Jumps and Cues - p5.js Sound Tutorial\n",
      "41 vid : 17.4: Amplitude Analysis - p5.js Sound Tutorial\n",
      "42 vid : 17.5: Adding Sound Effects - p5.js Sound Tutorial\n",
      "43 vid : 17.6: Sound Synthesis - p5.js Sound Tutorial\n",
      "44 vid : 17.7: ADSR Envelope - p5.js Sound Tutorial\n",
      "45 vid : 17.8: Microphone Input - p5.js Sound Tutorial\n",
      "46 vid : 17.9: Sound Visualization: Graphing Amplitude - p5.js Sound Tutorial\n",
      "47 vid : 17.10: Sound Visualization: Radial Graph - p5.js Sound Tutorial\n",
      "48 vid : 17.11: Sound Visualization: Frequency Analysis with FFT - p5.js Sound Tutorial\n",
      "49 vid : 12.1: Introduction to Node - WebSockets and p5.js Tutorial\n",
      "50 vid : 12.2: Using Express with Node - WebSockets and p5.js Tutorial\n",
      "51 vid : 12.3: Connecting Client to Server with Socket.io - WebSockets and p5.js Tutorial\n",
      "52 vid : 12.4: Shared Drawing Canvas - WebSockets and p5.js Tutorial\n"
     ]
    }
   ],
   "source": [
    "midInteruptedList(reqdPlayUrl,0)"
   ]
  },
  {
   "cell_type": "code",
   "execution_count": 74,
   "id": "1292cc8b",
   "metadata": {},
   "outputs": [
    {
     "data": {
      "text/plain": [
       "53"
      ]
     },
     "execution_count": 74,
     "metadata": {},
     "output_type": "execute_result"
    }
   ],
   "source": [
    "len(reqdPlayUrl)"
   ]
  },
  {
   "cell_type": "code",
   "execution_count": 5,
   "id": "812df58d",
   "metadata": {},
   "outputs": [],
   "source": [
    "threejs = Playlist(\"https://www.youtube.com/playlist?list=PL0lNJEnwfVVO4sNO2WDq_h73w-eHQStCB\")\n",
    "threeJsList = list(threejs.video_urls)"
   ]
  }
 ],
 "metadata": {
  "kernelspec": {
   "display_name": "Python 3 (ipykernel)",
   "language": "python",
   "name": "python3"
  },
  "language_info": {
   "codemirror_mode": {
    "name": "ipython",
    "version": 3
   },
   "file_extension": ".py",
   "mimetype": "text/x-python",
   "name": "python",
   "nbconvert_exporter": "python",
   "pygments_lexer": "ipython3",
   "version": "3.7.10"
  }
 },
 "nbformat": 4,
 "nbformat_minor": 5
}

{
 "cells": [
  {
   "cell_type": "code",
   "execution_count": 1,
   "id": "3fe25679",
   "metadata": {},
   "outputs": [],
   "source": [
    "from pytube import YouTube\n",
    "from pytube import Channel\n",
    "from pytube import Search\n",
    "from pytube import Playlist"
   ]
  },
  {
   "cell_type": "code",
   "execution_count": 11,
   "id": "8a96fa85",
   "metadata": {},
   "outputs": [],
   "source": [
    "natOfCod = Playlist('https://www.youtube.com/playlist?list=PLRqwX-V7Uu6aFlwukCmDf0-1-uSR7mklK')\n",
    "natOfCodList = list(natOfCod.video_urls)"
   ]
  },
  {
   "cell_type": "code",
   "execution_count": 2,
   "id": "8a96fa85",
   "metadata": {},
   "outputs": [],
   "source": [
    "trazCar = Playlist('https://www.youtube.com/playlist?list=PLDV8ZzQOMxSHKlAWflMPBDi2WVHPeel7h')\n",
    "trazCarList= list(trazCar.video_urls)"
   ]
  },
  {
   "cell_type": "code",
   "execution_count": 10,
   "id": "52b2af9f",
   "metadata": {},
   "outputs": [
    {
     "name": "stdout",
     "output_type": "stream",
     "text": [
      "0 vid : Post Malone - Rockstar (Soner Karaca Remix) | The Transporter Refueled [Chase Scene]\n",
      "1 vid : Masked Wolf - Astronaut In The Ocean (Soner Karaca Remix) | Captain America: Civil War\n",
      "2 vid : Serhat Durmus - My Feelings (feat. Georgia Ku) | TRANSFORMERS [Chase Scene]\n",
      "3 vid : Balti - Ya Lili feat. Hamouda (Starix & XZEEZ Remix) | FAST & FURIOUS [Minefield Car Chase]\n",
      "4 vid : Tiësto & Ava Max - The Motto (NewRoad x DVNIAR Remix) | FAST & FURIOUS [Chase Scene]\n",
      "5 vid : XXXTENTACION - MOONLIGHT (Scott Rill Remix) | FAST & FURIOUS [Chase Scene]\n",
      "6 vid : Rihanna - Diamonds (Trato Remix) | FAST & FURIOUS [Chase Scene]\n",
      "7 vid : ERA - AMENO (Scott Rill Remix) | FAST & FURIOUS [Chase Scene]\n",
      "8 vid : Stromae - Alors On Danse (ERS REMIX) | Need For Speed [Chase Scene]\n",
      "9 vid : PAKA POKA Remix By FanEOne | TRANSFORMERS [Chase Scene] 4K\n",
      "10 vid : Lost Frequencies & Calum Scott - Where Are You Now (XZEEZ Remix) | MISSION IMPOSSIBLE [Chase Scene]\n",
      "11 vid : Farruko - Pepas (XZEEZ & OTASH Remix) | FAST & FURIOUS [Chase Scene]\n",
      "12 vid : SQUID GAME: Pink Soldiers (Emre Kabak & Barış Çakır Remix)\n",
      "13 vid : Serhat Durmus - Hislerim (feat. Zerrin) | FAST & FURIOUS [Chase Scene]\n",
      "14 vid : Charlie Puth - Attention (HAYASA G & Valerie Baltaeva Remix) | LIMMA\n",
      "15 vid : Habibi - XZEEZ Remix (Arabic Remix) | FAST & FURIOUS [Race Scene]\n",
      "16 vid : Reynmen ft. Zeynep Bastık - Yalan (VOLB3X Remix)\n",
      "17 vid : A$AP Ferg ft. Nicki Minaj - Plain Jane (Armağan Oruç Remix)\n",
      "18 vid : CKay - Love Nwantiti (XZEEZ & Emre Kabak Remix) | FAST & FURIOUS [Chase Scene]\n"
     ]
    }
   ],
   "source": [
    "midInteruptedList(trazCarList,0)"
   ]
  },
  {
   "cell_type": "code",
   "execution_count": 3,
   "id": "e065cee9",
   "metadata": {},
   "outputs": [],
   "source": [
    "circleCi = Playlist('https://youtube.com/playlist?list=PLRqwX-V7Uu6bLqwFa52YGEHy-L1-D_Ve-')"
   ]
  },
  {
   "cell_type": "code",
   "execution_count": 2,
   "id": "7c241c16",
   "metadata": {},
   "outputs": [],
   "source": [
    "apiMore = Playlist(\"https://youtube.com/playlist?list=PLRqwX-V7Uu6Yyn-fBtGHfN0_xCtBwUkBp\")\n",
    "apiMoreList = list(apiMore.video_urls)"
   ]
  },
  {
   "cell_type": "code",
   "execution_count": 4,
   "id": "7c241c16",
   "metadata": {},
   "outputs": [],
   "source": [
    "circleCiList = list(circleCi.video_urls)"
   ]
  },
  {
   "cell_type": "code",
   "execution_count": null,
   "id": "49153747",
   "metadata": {},
   "outputs": [],
   "source": [
    "def downLoadMusicList(musList):\n",
    "    for ind in musList:\n",
    "        vidObj = YouTube(ind)        \n",
    "        if vidObj.length != 0 and vidObj.length < 10000:\n",
    "            print(vidObj.length)\n",
    "            print(vidObj.title)\n",
    "            yt = YouTube(ind)\n",
    "            stream = yt.streams.get_by_itag(140)\n",
    "            stream.download()"
   ]
  },
  {
   "cell_type": "code",
   "execution_count": null,
   "id": "7ff65eb7",
   "metadata": {},
   "outputs": [],
   "source": [
    "def downLoadVideoList(vidList):\n",
    "    for index, ind in enumerate(vidList):\n",
    "        vidObj = YouTube(ind)        \n",
    "        if vidObj.length != 0 and vidObj.length < 10000:\n",
    "            print(f'{index} vid : {vidObj.title}')\n",
    "            yt = YouTube(ind).streams\n",
    "            get_vid = yt.get_highest_resolution()\n",
    "            get_vid.download()"
   ]
  },
  {
   "cell_type": "code",
   "execution_count": null,
   "id": "ec86a39c",
   "metadata": {},
   "outputs": [],
   "source": [
    "def comparePlayList(playList, withPlaylist,fileName):\n",
    "    compareFrom =[]\n",
    "    compareWith = []\n",
    "    returnedList = []\n",
    "\n",
    "    for index, ind in enumerate(playList):\n",
    "        vidObj = YouTube(ind)        \n",
    "        if vidObj.length != 0 and vidObj.length < 10000:\n",
    "            compareFrom.append(vidObj.title)\n",
    "\n",
    "    for index, ind in enumerate(withPlaylist):\n",
    "        vidObj = YouTube(ind)        \n",
    "        if vidObj.length != 0 and vidObj.length < 10000:\n",
    "            compareWith.append(vidObj.title)\n",
    "    with open(fileName,'a') as ListyText:            \n",
    "        for elem in compareFrom:\n",
    "            if elem not in compareWith:\n",
    "                reqdVid = f'{index} vid : {elem}'\n",
    "                ListyText.write(reqdVid + '\\n')\n",
    "                returnedList.append(elem)\n",
    "    return returnedList"
   ]
  },
  {
   "cell_type": "code",
   "execution_count": 10,
   "id": "5252cd56",
   "metadata": {},
   "outputs": [],
   "source": [
    "def midInteruptedList(playList, start):\n",
    "    vidList = playList[start:] #We can set the number of videos to download in one go\n",
    "    for index, ind in enumerate(vidList):\n",
    "        vidObj = YouTube(ind)        \n",
    "        if vidObj.length != 0 and vidObj.length < 10000:\n",
    "            print(f'{start + index} vid : {vidObj.title}')\n",
    "            yt = YouTube(ind).streams\n",
    "            get_vid = yt.get_highest_resolution()\n",
    "            get_vid.download()\n",
    "# Idea is if video of idx 9 fails download then function start argument will be that same index.\n",
    "# If the all videos gets downloaded, then start will be plus + 1 of the last of index that was downloaded."
   ]
  },
  {
   "cell_type": "code",
   "execution_count": 8,
   "id": "cf3c3a1c",
   "metadata": {},
   "outputs": [],
   "source": [
    "processing = \"https://youtube.com/playlist?list=PLzJbM9-DyOZyMZzVda3HaWviHqfPiYN7e\"\n",
    "processingList = list(Playlist(processing).video_urls)"
   ]
  },
  {
   "cell_type": "code",
   "execution_count": 11,
   "id": "8ee90b05",
   "metadata": {},
   "outputs": [
    {
     "name": "stdout",
     "output_type": "stream",
     "text": [
      "0 vid : 0.0: Introduction - Processing Tutorial\n",
      "1 vid : 0.1: Who are you? Who am I? - Processing Tutorial\n",
      "2 vid : 0.2: How and why should you learn Programming? - Processing Tutorial\n",
      "3 vid : 0.3: What is programming? - Processing Tutorial\n",
      "4 vid : 0.4: What are some programming languages? - Processing Tutorial\n",
      "5 vid : 0.5: Processing Examples - Processing Tutorial\n",
      "6 vid : 0.6 Overview of Topics - Processing Tutorial\n",
      "7 vid : 1.1: Drawing with Pixels - Processing Tutorial\n",
      "8 vid : 2.1: How to use Processing - Processing Tutorial\n",
      "9 vid : 2.2: RGB Color - Processing Tutorial\n",
      "10 vid : 3.1: Flow (setup and draw) - Processing Tutorial\n",
      "11 vid : 3.2: Built-in Variables (mouseX, mouseY) - Processing Tutorial\n",
      "12 vid : 3.3: Events (mousePressed, keyPressed) - Processing Tutorial\n",
      "13 vid : 4.1: Variables - Processing Tutorial\n",
      "14 vid : 4.2: Incrementing a Variable - Processing Tutorial\n",
      "15 vid : 4.3: Using random() - Processing Tutorial\n",
      "16 vid : 4.4: Using println() - Processing Tutorial\n",
      "17 vid : 5.1: Boolean Expressions - Processing Tutorial\n",
      "18 vid : 5.2: If, Else If, Else - Processing Tutorial\n",
      "19 vid : 5.3: Logical Operators: AND, OR - Processing Tutorial\n",
      "20 vid : 5.4: Boolean Variables - Processing Tutorial\n",
      "21 vid : 5.5: The Bouncing Ball - Processing Tutorial\n",
      "22 vid : 6.1: While Loop - Processing Tutorial\n",
      "23 vid : 6.2: Two Loops / Grid Exercise - Processing Tutorial\n",
      "24 vid : 6.3: For Loop - Processing Tutorial\n",
      "25 vid : 6.4: Variable Scope - Processing Tutorial\n",
      "26 vid : 6.5: Loop vs. Draw - Processing Tutorial\n",
      "27 vid : 6.6: Nested Loops - Processing Tutorial\n",
      "28 vid : 7.1: Introduction to Functions and Objects - Processing Tutorial\n",
      "29 vid : 7.2: Functions Basics - Processing Tutorial\n",
      "30 vid : 7.3: Modularity with Functions - Processing Tutorial\n",
      "31 vid : 7.4: Reusability with Functions - Processing Tutorial\n",
      "32 vid : 8.1: What is Object-Oriented Programming (OOP)? - Processing Tutorial\n",
      "33 vid : 8.2: Defining a Class Part I - Processing Tutorial\n",
      "34 vid : 8.3: Defining a Class Part II - Processing Tutorial\n",
      "35 vid : 8.4: Constructor Arguments - Processing Tutorial\n",
      "36 vid : 8.5: More on Objects - Processing Tutorial\n",
      "37 vid : 8.6: Pass by Value vs. Pass by Reference - Processing Tutorial\n",
      "38 vid : 9.1: What is an Array? - Processing Tutorial\n",
      "39 vid : 9.2: Declare, Initialize, and Use an Array - Processing Tutorial\n",
      "40 vid : 9.3: Arrays of Objects - Processing Tutorial\n",
      "41 vid : 9.4: Arrays and Loops - Processing Tutorial\n",
      "42 vid : 9.5: Arrays of Flexible Size - Processing Tutorial\n",
      "43 vid : 10.1: Intro to Images - Processing Tutorial\n",
      "44 vid : 10.2: Animate an Image - Processing Tutorial\n",
      "45 vid : 10.3: An Array of Images - Processing Tutorial\n",
      "46 vid : 10.4: Pixels! (The Pixels Array) - Processing Tutorial\n",
      "47 vid : 10.5: Image Processing with Pixels - Processing Tutorial\n",
      "48 vid : 10.6: Pixel Neighbors - Processing Tutorial\n",
      "49 vid : 10.7: Painting with Pixels - Processing Tutorial\n",
      "50 vid : 11.1: Capture and Live Video - Processing Tutorial\n",
      "51 vid : 11.2: Using the Movie Object for Displaying Recorded Videos - Processing Tutorial\n",
      "52 vid : 11.3: Slit-Scan Video - Processing Tutorial\n",
      "53 vid : 11.4: Introduction to Computer Vision - Processing Tutorial\n",
      "54 vid : 11.5: Computer Vision: Color Tracking - Processing Tutorial\n",
      "55 vid : 11.6: Computer Vision: Motion Detection - Processing Tutorial\n",
      "56 vid : 11.7: Computer Vision: Blob Detection - Processing Tutorial\n",
      "57 vid : 11.8: Computer Vision: Improved Blob Detection - Processing Tutorial\n",
      "58 vid : 11.9: Computer Vision: Blob Tracking with Persistence - Processing Tutorial\n",
      "59 vid : 11.10: Computer Vision: Adding Lifespan to Blobs - Processing Tutorial\n",
      "60 vid : 12.1: What is the Kinect? - Kinect and Processing Tutorial\n",
      "61 vid : 12.2: The Depth Image - Kinect and Processing Tutorial\n",
      "62 vid : 12.3: Raw Depth Data - Point Clouds and Thresholds - Kinect and Processing Tutorial\n",
      "63 vid : 12.4: Average Point Hand Tracking - Kinect and Processing Tutorial\n",
      "64 vid : 12.5: Closest or Highest Point Tracking - Kinect and Processing Tutorial\n"
     ]
    }
   ],
   "source": [
    "midInteruptedList(processingList,0)"
   ]
  },
  {
   "cell_type": "code",
   "execution_count": 2,
   "id": "03a1e8f8",
   "metadata": {},
   "outputs": [],
   "source": [
    "def downSingleVid(vid):\n",
    "    yt = YouTube(vid).streams\n",
    "    get_vid = yt.get_highest_resolution()\n",
    "    get_vid.download()"
   ]
  },
  {
   "cell_type": "code",
   "execution_count": 5,
   "id": "6421da01",
   "metadata": {},
   "outputs": [],
   "source": [
    "fourPrj = \"https://www.youtube.com/watch?v=qwfE7fSVaZM\"\n",
    "nodexpress = \"https://www.youtube.com/watch?v=Oe421EPjeBE&t=0s\""
   ]
  },
  {
   "cell_type": "code",
   "execution_count": 6,
   "id": "f94dddaa",
   "metadata": {},
   "outputs": [],
   "source": [
    "downSingleVid(nodexpress)"
   ]
  },
  {
   "cell_type": "code",
   "execution_count": 9,
   "id": "566d8e15",
   "metadata": {},
   "outputs": [],
   "source": [
    "def writePlayList(playList, fileName):\n",
    "    tempPlayList = []\n",
    "    print(fileName.count != 0)\n",
    "    with open(fileName,'a') as ListyText:\n",
    "        for ind in playList:\n",
    "            vidObj = YouTube(ind).title        \n",
    "            ListyText.write(vidObj + '\\n')        \n",
    "            tempPlayList.append(vidObj)\n",
    "\n",
    "    return tempPlayList"
   ]
  },
  {
   "cell_type": "code",
   "execution_count": 5,
   "id": "7fa122ec",
   "metadata": {},
   "outputs": [],
   "source": [
    "textPrgm = Playlist(\"https://www.youtube.com/playlist?list=PLRqwX-V7Uu6YrbSJBg32eTzUU50E2B8Ch\")\n",
    "textPrgmList = list(textPrgm.video_urls)"
   ]
  },
  {
   "cell_type": "code",
   "execution_count": 6,
   "id": "ef0866b3",
   "metadata": {},
   "outputs": [],
   "source": [
    "promised = Playlist(\"https://youtube.com/playlist?list=PLRqwX-V7Uu6bKLPQvPRNNE65kBL62mVfx\")\n",
    "promisedList = list(promised.video_urls)"
   ]
  },
  {
   "cell_type": "code",
   "execution_count": 7,
   "id": "ef0866b3",
   "metadata": {},
   "outputs": [],
   "source": [
    "datapi = Playlist(\"https://www.youtube.com/playlist?list=PLRqwX-V7Uu6YxDKpFzf_2D84p0cyk4T7X\")\n",
    "dataAPIList = list(datapi.video_urls)"
   ]
  },
  {
   "cell_type": "code",
   "execution_count": 8,
   "id": "0d2f25d2",
   "metadata": {},
   "outputs": [],
   "source": [
    "p5code = Playlist(\"https://www.youtube.com/playlist?list=PLRqwX-V7Uu6Zy51Q-x9tMWIv9cueOFTFA\")\n",
    "p5codeList = list(p5code.video_urls)"
   ]
  },
  {
   "cell_type": "code",
   "execution_count": 9,
   "id": "b6a57612",
   "metadata": {},
   "outputs": [],
   "source": [
    "ml5 = Playlist(\"https://www.youtube.com/playlist?list=PLRqwX-V7Uu6YPSwT06y_AEYTqIwbeam3y\")\n",
    "ml5List = list(ml5.video_urls)"
   ]
  },
  {
   "cell_type": "code",
   "execution_count": 10,
   "id": "a250f0a3",
   "metadata": {},
   "outputs": [],
   "source": [
    "addP5Code = Playlist(\"https://youtube.com/playlist?list=PLRqwX-V7Uu6ZmA-d3D0iFIvgrB5_7kB8H\")\n",
    "addP5CodeList = list(addP5Code.video_urls)"
   ]
  },
  {
   "cell_type": "code",
   "execution_count": 37,
   "id": "49108284",
   "metadata": {},
   "outputs": [],
   "source": [
    "consolidateList = addP5CodeList + ml5List +dataAPIList + promisedList + textPrgmList + apiMoreList + p5codeList"
   ]
  },
  {
   "cell_type": "code",
   "execution_count": 72,
   "id": "cfb67b10",
   "metadata": {},
   "outputs": [],
   "source": [
    "playReq = ['8','9','11','12','17']\n",
    "reqdPlayUrl = []\n",
    "for elem in introP5List:\n",
    "    vidTitle = YouTube(elem).title\n",
    "    if vidTitle.split('.')[0] in playReq:\n",
    "        reqdPlayUrl.append(elem)"
   ]
  },
  {
   "cell_type": "code",
   "execution_count": 5,
   "id": "812df58d",
   "metadata": {},
   "outputs": [],
   "source": [
    "threejs = Playlist(\"https://www.youtube.com/playlist?list=PL0lNJEnwfVVO4sNO2WDq_h73w-eHQStCB\")\n",
    "threeJsList = list(threejs.video_urls)"
   ]
  }
 ],
 "metadata": {
  "kernelspec": {
   "display_name": "Python 3 (ipykernel)",
   "language": "python",
   "name": "python3"
  },
  "language_info": {
   "codemirror_mode": {
    "name": "ipython",
    "version": 3
   },
   "file_extension": ".py",
   "mimetype": "text/x-python",
   "name": "python",
   "nbconvert_exporter": "python",
   "pygments_lexer": "ipython3",
   "version": "3.7.10"
  }
 },
 "nbformat": 4,
 "nbformat_minor": 5
}

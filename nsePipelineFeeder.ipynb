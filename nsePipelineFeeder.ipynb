{
 "cells": [
  {
   "cell_type": "markdown",
   "id": "f754f759",
   "metadata": {},
   "source": [
    "Nothing complicated. Just take the complete table from the https://www.nseindia.com/market-data/live-equity-market page"
   ]
  },
  {
   "cell_type": "code",
   "execution_count": 7,
   "id": "603d24e0",
   "metadata": {},
   "outputs": [],
   "source": [
    "import pandas as pd\n",
    "import numpy as np\n",
    "import plotly.express as px\n",
    "import plotly.graph_objects as go\n",
    "from bs4 import BeautifulSoup \n",
    "import requests\n",
    "from urllib.parse import unquote\n",
    "from urllib.parse import urljoin\n",
    "from urllib.parse import urlparse\n",
    "from urllib import request\n",
    "import time\n",
    "from lxml import html"
   ]
  },
  {
   "cell_type": "code",
   "execution_count": 2,
   "id": "73299361",
   "metadata": {},
   "outputs": [],
   "source": [
    "import nsepy as nse"
   ]
  },
  {
   "cell_type": "code",
   "execution_count": 3,
   "id": "9c1e58e4",
   "metadata": {},
   "outputs": [
    {
     "data": {
      "text/plain": [
       "{'tradedDate': '05DEC2022',\n",
       " 'data': [{'pricebandupper': '668.30',\n",
       "   'symbol': 'SBIN',\n",
       "   'applicableMargin': '14.90',\n",
       "   'bcEndDate': '31-MAY-22',\n",
       "   'totalSellQuantity': '2,080',\n",
       "   'adhocMargin': '-',\n",
       "   'companyName': 'State Bank of India',\n",
       "   'marketType': 'N',\n",
       "   'exDate': '25-MAY-22',\n",
       "   'bcStartDate': '27-MAY-22',\n",
       "   'css_status_desc': 'Listed',\n",
       "   'dayHigh': '618.00',\n",
       "   'basePrice': '607.55',\n",
       "   'securityVar': '11.40',\n",
       "   'pricebandlower': '546.80',\n",
       "   'sellQuantity5': '-',\n",
       "   'sellQuantity4': '-',\n",
       "   'sellQuantity3': '-',\n",
       "   'cm_adj_high_dt': '07-NOV-22',\n",
       "   'sellQuantity2': '-',\n",
       "   'dayLow': '607.55',\n",
       "   'sellQuantity1': '2,080',\n",
       "   'quantityTraded': '1,15,85,602',\n",
       "   'pChange': '1.51',\n",
       "   'totalTradedValue': '71,141.39',\n",
       "   'deliveryToTradedQuantity': '49.46',\n",
       "   'totalBuyQuantity': '-',\n",
       "   'averagePrice': '614.05',\n",
       "   'indexVar': '-',\n",
       "   'cm_ffm': '2,36,894.00',\n",
       "   'purpose': 'DIVIDEND - RS 7.10 PER SHARE',\n",
       "   'buyPrice2': '-',\n",
       "   'secDate': '05-Dec-2022 00:00:00',\n",
       "   'buyPrice1': '-',\n",
       "   'high52': '622.70',\n",
       "   'previousClose': '607.55',\n",
       "   'ndEndDate': '-',\n",
       "   'low52': '425.00',\n",
       "   'buyPrice4': '-',\n",
       "   'buyPrice3': '-',\n",
       "   'recordDate': '-',\n",
       "   'deliveryQuantity': '57,30,406',\n",
       "   'buyPrice5': '-',\n",
       "   'priceBand': 'No Band',\n",
       "   'extremeLossMargin': '3.50',\n",
       "   'cm_adj_low_dt': '08-MAR-22',\n",
       "   'varMargin': '11.40',\n",
       "   'sellPrice1': '617.30',\n",
       "   'sellPrice2': '-',\n",
       "   'totalTradedVolume': '1,15,85,602',\n",
       "   'sellPrice3': '-',\n",
       "   'sellPrice4': '-',\n",
       "   'sellPrice5': '-',\n",
       "   'change': '9.15',\n",
       "   'surv_indicator': '-',\n",
       "   'ndStartDate': '-',\n",
       "   'buyQuantity4': '-',\n",
       "   'isExDateFlag': False,\n",
       "   'buyQuantity3': '-',\n",
       "   'buyQuantity2': '-',\n",
       "   'buyQuantity1': '-',\n",
       "   'series': 'EQ',\n",
       "   'faceValue': '1.00',\n",
       "   'buyQuantity5': '-',\n",
       "   'closePrice': '617.30',\n",
       "   'open': '608.50',\n",
       "   'isinCode': 'INE062A01020',\n",
       "   'lastPrice': '616.70'}],\n",
       " 'optLink': '/marketinfo/sym_map/symbolMapping.jsp?symbol=SBIN&instrument=-&date=-&segmentLink=17&symbolCount=2',\n",
       " 'otherSeries': ['EQ'],\n",
       " 'futLink': '/live_market/dynaContent/live_watch/get_quote/GetQuoteFO.jsp?underlying=SBIN&instrument=FUTSTK&expiry=06DEC2022&type=-&strike=-',\n",
       " 'lastUpdateTime': '05-DEC-2022 16:00:18'}"
      ]
     },
     "execution_count": 3,
     "metadata": {},
     "output_type": "execute_result"
    }
   ],
   "source": [
    "nse.live.get_quote('SBIN')"
   ]
  },
  {
   "cell_type": "code",
   "execution_count": 14,
   "id": "d63ec7c3",
   "metadata": {},
   "outputs": [
    {
     "data": {
      "text/html": [
       "<div>\n",
       "<style scoped>\n",
       "    .dataframe tbody tr th:only-of-type {\n",
       "        vertical-align: middle;\n",
       "    }\n",
       "\n",
       "    .dataframe tbody tr th {\n",
       "        vertical-align: top;\n",
       "    }\n",
       "\n",
       "    .dataframe thead th {\n",
       "        text-align: right;\n",
       "    }\n",
       "</style>\n",
       "<table border=\"1\" class=\"dataframe\">\n",
       "  <thead>\n",
       "    <tr style=\"text-align: right;\">\n",
       "      <th></th>\n",
       "      <th>Symbol</th>\n",
       "      <th>Series</th>\n",
       "      <th>Prev Close</th>\n",
       "      <th>Open</th>\n",
       "      <th>High</th>\n",
       "      <th>Low</th>\n",
       "      <th>Last</th>\n",
       "      <th>Close</th>\n",
       "      <th>VWAP</th>\n",
       "      <th>Volume</th>\n",
       "      <th>Turnover</th>\n",
       "      <th>Trades</th>\n",
       "      <th>Deliverable Volume</th>\n",
       "      <th>%Deliverble</th>\n",
       "    </tr>\n",
       "    <tr>\n",
       "      <th>Date</th>\n",
       "      <th></th>\n",
       "      <th></th>\n",
       "      <th></th>\n",
       "      <th></th>\n",
       "      <th></th>\n",
       "      <th></th>\n",
       "      <th></th>\n",
       "      <th></th>\n",
       "      <th></th>\n",
       "      <th></th>\n",
       "      <th></th>\n",
       "      <th></th>\n",
       "      <th></th>\n",
       "      <th></th>\n",
       "    </tr>\n",
       "  </thead>\n",
       "  <tbody>\n",
       "    <tr>\n",
       "      <th>2022-11-14</th>\n",
       "      <td>SBIN</td>\n",
       "      <td>EQ</td>\n",
       "      <td>601.30</td>\n",
       "      <td>603.95</td>\n",
       "      <td>603.95</td>\n",
       "      <td>591.65</td>\n",
       "      <td>592.50</td>\n",
       "      <td>592.55</td>\n",
       "      <td>596.08</td>\n",
       "      <td>12957268</td>\n",
       "      <td>7.723573e+14</td>\n",
       "      <td>227415</td>\n",
       "      <td>6081635</td>\n",
       "      <td>0.4694</td>\n",
       "    </tr>\n",
       "    <tr>\n",
       "      <th>2022-11-15</th>\n",
       "      <td>SBIN</td>\n",
       "      <td>EQ</td>\n",
       "      <td>592.55</td>\n",
       "      <td>594.30</td>\n",
       "      <td>602.10</td>\n",
       "      <td>592.65</td>\n",
       "      <td>601.50</td>\n",
       "      <td>600.85</td>\n",
       "      <td>597.70</td>\n",
       "      <td>10286417</td>\n",
       "      <td>6.148170e+14</td>\n",
       "      <td>153811</td>\n",
       "      <td>3348965</td>\n",
       "      <td>0.3256</td>\n",
       "    </tr>\n",
       "    <tr>\n",
       "      <th>2022-11-16</th>\n",
       "      <td>SBIN</td>\n",
       "      <td>EQ</td>\n",
       "      <td>600.85</td>\n",
       "      <td>599.95</td>\n",
       "      <td>603.50</td>\n",
       "      <td>596.00</td>\n",
       "      <td>599.00</td>\n",
       "      <td>599.75</td>\n",
       "      <td>600.52</td>\n",
       "      <td>11555749</td>\n",
       "      <td>6.939490e+14</td>\n",
       "      <td>168811</td>\n",
       "      <td>4295399</td>\n",
       "      <td>0.4271</td>\n",
       "    </tr>\n",
       "    <tr>\n",
       "      <th>2022-11-17</th>\n",
       "      <td>SBIN</td>\n",
       "      <td>EQ</td>\n",
       "      <td>599.75</td>\n",
       "      <td>599.10</td>\n",
       "      <td>602.75</td>\n",
       "      <td>596.15</td>\n",
       "      <td>598.45</td>\n",
       "      <td>599.05</td>\n",
       "      <td>599.41</td>\n",
       "      <td>8167131</td>\n",
       "      <td>4.895433e+14</td>\n",
       "      <td>114824</td>\n",
       "      <td>2948861</td>\n",
       "      <td>0.3611</td>\n",
       "    </tr>\n",
       "    <tr>\n",
       "      <th>2022-11-18</th>\n",
       "      <td>SBIN</td>\n",
       "      <td>EQ</td>\n",
       "      <td>599.05</td>\n",
       "      <td>601.00</td>\n",
       "      <td>605.75</td>\n",
       "      <td>597.15</td>\n",
       "      <td>602.05</td>\n",
       "      <td>602.70</td>\n",
       "      <td>601.12</td>\n",
       "      <td>12933675</td>\n",
       "      <td>7.774746e+14</td>\n",
       "      <td>155935</td>\n",
       "      <td>5077955</td>\n",
       "      <td>0.3926</td>\n",
       "    </tr>\n",
       "  </tbody>\n",
       "</table>\n",
       "</div>"
      ],
      "text/plain": [
       "           Symbol Series  Prev Close    Open    High     Low    Last   Close  \\\n",
       "Date                                                                           \n",
       "2022-11-14   SBIN     EQ      601.30  603.95  603.95  591.65  592.50  592.55   \n",
       "2022-11-15   SBIN     EQ      592.55  594.30  602.10  592.65  601.50  600.85   \n",
       "2022-11-16   SBIN     EQ      600.85  599.95  603.50  596.00  599.00  599.75   \n",
       "2022-11-17   SBIN     EQ      599.75  599.10  602.75  596.15  598.45  599.05   \n",
       "2022-11-18   SBIN     EQ      599.05  601.00  605.75  597.15  602.05  602.70   \n",
       "\n",
       "              VWAP    Volume      Turnover  Trades  Deliverable Volume  \\\n",
       "Date                                                                     \n",
       "2022-11-14  596.08  12957268  7.723573e+14  227415             6081635   \n",
       "2022-11-15  597.70  10286417  6.148170e+14  153811             3348965   \n",
       "2022-11-16  600.52  11555749  6.939490e+14  168811             4295399   \n",
       "2022-11-17  599.41   8167131  4.895433e+14  114824             2948861   \n",
       "2022-11-18  601.12  12933675  7.774746e+14  155935             5077955   \n",
       "\n",
       "            %Deliverble  \n",
       "Date                     \n",
       "2022-11-14       0.4694  \n",
       "2022-11-15       0.3256  \n",
       "2022-11-16       0.4271  \n",
       "2022-11-17       0.3611  \n",
       "2022-11-18       0.3926  "
      ]
     },
     "execution_count": 14,
     "metadata": {},
     "output_type": "execute_result"
    }
   ],
   "source": [
    "from datetime import date\n",
    "\n",
    "nse.get_history('SBIN',start=date(2022,11,12),end=date(2022,11,20))"
   ]
  },
  {
   "cell_type": "code",
   "execution_count": 10,
   "id": "139eff3a",
   "metadata": {},
   "outputs": [],
   "source": [
    "link= \"https://www.nseindia.com/api/equity-master\""
   ]
  },
  {
   "cell_type": "code",
   "execution_count": 22,
   "id": "0db0fbcf",
   "metadata": {},
   "outputs": [],
   "source": [
    "nse = \"www.nseindia.com/api/equity-stockIndices\""
   ]
  },
  {
   "cell_type": "code",
   "execution_count": 21,
   "id": "f2625ff5",
   "metadata": {},
   "outputs": [
    {
     "name": "stderr",
     "output_type": "stream",
     "text": [
      "sh: line 1: !curl: command not found\n"
     ]
    },
    {
     "ename": "CalledProcessError",
     "evalue": "Command 'b'!curl https://www.nseindia.com/api/equity-stockIndices\\n'' returned non-zero exit status 127.",
     "output_type": "error",
     "traceback": [
      "\u001b[0;31m---------------------------------------------------------------------------\u001b[0m",
      "\u001b[0;31mCalledProcessError\u001b[0m                        Traceback (most recent call last)",
      "Cell \u001b[0;32mIn [21], line 1\u001b[0m\n\u001b[0;32m----> 1\u001b[0m \u001b[43mget_ipython\u001b[49m\u001b[43m(\u001b[49m\u001b[43m)\u001b[49m\u001b[38;5;241;43m.\u001b[39;49m\u001b[43mrun_cell_magic\u001b[49m\u001b[43m(\u001b[49m\u001b[38;5;124;43m'\u001b[39;49m\u001b[38;5;124;43msh\u001b[39;49m\u001b[38;5;124;43m'\u001b[39;49m\u001b[43m,\u001b[49m\u001b[43m \u001b[49m\u001b[38;5;124;43m'\u001b[39;49m\u001b[38;5;124;43m'\u001b[39;49m\u001b[43m,\u001b[49m\u001b[43m \u001b[49m\u001b[38;5;124;43m'\u001b[39;49m\u001b[38;5;124;43m!curl https://www.nseindia.com/api/equity-stockIndices\u001b[39;49m\u001b[38;5;130;43;01m\\n\u001b[39;49;00m\u001b[38;5;124;43m'\u001b[39;49m\u001b[43m)\u001b[49m\n",
      "File \u001b[0;32m/usr/lib/python3.10/site-packages/IPython/core/interactiveshell.py:2417\u001b[0m, in \u001b[0;36mInteractiveShell.run_cell_magic\u001b[0;34m(self, magic_name, line, cell)\u001b[0m\n\u001b[1;32m   2415\u001b[0m \u001b[38;5;28;01mwith\u001b[39;00m \u001b[38;5;28mself\u001b[39m\u001b[38;5;241m.\u001b[39mbuiltin_trap:\n\u001b[1;32m   2416\u001b[0m     args \u001b[38;5;241m=\u001b[39m (magic_arg_s, cell)\n\u001b[0;32m-> 2417\u001b[0m     result \u001b[38;5;241m=\u001b[39m \u001b[43mfn\u001b[49m\u001b[43m(\u001b[49m\u001b[38;5;241;43m*\u001b[39;49m\u001b[43margs\u001b[49m\u001b[43m,\u001b[49m\u001b[43m \u001b[49m\u001b[38;5;241;43m*\u001b[39;49m\u001b[38;5;241;43m*\u001b[39;49m\u001b[43mkwargs\u001b[49m\u001b[43m)\u001b[49m\n\u001b[1;32m   2418\u001b[0m \u001b[38;5;28;01mreturn\u001b[39;00m result\n",
      "File \u001b[0;32m/usr/lib/python3.10/site-packages/IPython/core/magics/script.py:153\u001b[0m, in \u001b[0;36mScriptMagics._make_script_magic.<locals>.named_script_magic\u001b[0;34m(line, cell)\u001b[0m\n\u001b[1;32m    151\u001b[0m \u001b[38;5;28;01melse\u001b[39;00m:\n\u001b[1;32m    152\u001b[0m     line \u001b[38;5;241m=\u001b[39m script\n\u001b[0;32m--> 153\u001b[0m \u001b[38;5;28;01mreturn\u001b[39;00m \u001b[38;5;28;43mself\u001b[39;49m\u001b[38;5;241;43m.\u001b[39;49m\u001b[43mshebang\u001b[49m\u001b[43m(\u001b[49m\u001b[43mline\u001b[49m\u001b[43m,\u001b[49m\u001b[43m \u001b[49m\u001b[43mcell\u001b[49m\u001b[43m)\u001b[49m\n",
      "File \u001b[0;32m/usr/lib/python3.10/site-packages/IPython/core/magics/script.py:305\u001b[0m, in \u001b[0;36mScriptMagics.shebang\u001b[0;34m(self, line, cell)\u001b[0m\n\u001b[1;32m    300\u001b[0m \u001b[38;5;28;01mif\u001b[39;00m args\u001b[38;5;241m.\u001b[39mraise_error \u001b[38;5;129;01mand\u001b[39;00m p\u001b[38;5;241m.\u001b[39mreturncode \u001b[38;5;241m!=\u001b[39m \u001b[38;5;241m0\u001b[39m:\n\u001b[1;32m    301\u001b[0m     \u001b[38;5;66;03m# If we get here and p.returncode is still None, we must have\u001b[39;00m\n\u001b[1;32m    302\u001b[0m     \u001b[38;5;66;03m# killed it but not yet seen its return code. We don't wait for it,\u001b[39;00m\n\u001b[1;32m    303\u001b[0m     \u001b[38;5;66;03m# in case it's stuck in uninterruptible sleep. -9 = SIGKILL\u001b[39;00m\n\u001b[1;32m    304\u001b[0m     rc \u001b[38;5;241m=\u001b[39m p\u001b[38;5;241m.\u001b[39mreturncode \u001b[38;5;129;01mor\u001b[39;00m \u001b[38;5;241m-\u001b[39m\u001b[38;5;241m9\u001b[39m\n\u001b[0;32m--> 305\u001b[0m     \u001b[38;5;28;01mraise\u001b[39;00m CalledProcessError(rc, cell)\n",
      "\u001b[0;31mCalledProcessError\u001b[0m: Command 'b'!curl https://www.nseindia.com/api/equity-stockIndices\\n'' returned non-zero exit status 127."
     ]
    }
   ],
   "source": [
    "%%sh\n",
    "!curl https://www.nseindia.com/api/equity-stockIndices"
   ]
  },
  {
   "cell_type": "code",
   "execution_count": 24,
   "id": "efa9d280",
   "metadata": {},
   "outputs": [
    {
     "ename": "gaierror",
     "evalue": "[Errno -2] Name or service not known",
     "output_type": "error",
     "traceback": [
      "\u001b[0;31m---------------------------------------------------------------------------\u001b[0m",
      "\u001b[0;31mgaierror\u001b[0m                                  Traceback (most recent call last)",
      "Cell \u001b[0;32mIn [24], line 3\u001b[0m\n\u001b[1;32m      1\u001b[0m \u001b[38;5;28;01mimport\u001b[39;00m \u001b[38;5;21;01mhttp\u001b[39;00m\u001b[38;5;21;01m.\u001b[39;00m\u001b[38;5;21;01mclient\u001b[39;00m\n\u001b[1;32m      2\u001b[0m conn \u001b[38;5;241m=\u001b[39m http\u001b[38;5;241m.\u001b[39mclient\u001b[38;5;241m.\u001b[39mHTTPSConnection(nse,\u001b[38;5;241m443\u001b[39m)\n\u001b[0;32m----> 3\u001b[0m \u001b[43mconn\u001b[49m\u001b[38;5;241;43m.\u001b[39;49m\u001b[43mrequest\u001b[49m\u001b[43m(\u001b[49m\u001b[38;5;124;43m'\u001b[39;49m\u001b[38;5;124;43mGET\u001b[39;49m\u001b[38;5;124;43m'\u001b[39;49m\u001b[43m,\u001b[49m\u001b[43m \u001b[49m\u001b[38;5;124;43m'\u001b[39;49m\u001b[38;5;124;43m/?index=NIFTY\u001b[39;49m\u001b[38;5;124;43m%\u001b[39;49m\u001b[38;5;124;43m2050\u001b[39;49m\u001b[38;5;124;43m'\u001b[39;49m\u001b[43m)\u001b[49m \u001b[38;5;66;03m# <---\u001b[39;00m\n\u001b[1;32m      4\u001b[0m r \u001b[38;5;241m=\u001b[39m conn\u001b[38;5;241m.\u001b[39mgetresponse()\n\u001b[1;32m      5\u001b[0m \u001b[38;5;28mprint\u001b[39m(r\u001b[38;5;241m.\u001b[39mread())\n",
      "File \u001b[0;32m/usr/lib/python3.10/http/client.py:1282\u001b[0m, in \u001b[0;36mHTTPConnection.request\u001b[0;34m(self, method, url, body, headers, encode_chunked)\u001b[0m\n\u001b[1;32m   1279\u001b[0m \u001b[38;5;28;01mdef\u001b[39;00m \u001b[38;5;21mrequest\u001b[39m(\u001b[38;5;28mself\u001b[39m, method, url, body\u001b[38;5;241m=\u001b[39m\u001b[38;5;28;01mNone\u001b[39;00m, headers\u001b[38;5;241m=\u001b[39m{}, \u001b[38;5;241m*\u001b[39m,\n\u001b[1;32m   1280\u001b[0m             encode_chunked\u001b[38;5;241m=\u001b[39m\u001b[38;5;28;01mFalse\u001b[39;00m):\n\u001b[1;32m   1281\u001b[0m     \u001b[38;5;124;03m\"\"\"Send a complete request to the server.\"\"\"\u001b[39;00m\n\u001b[0;32m-> 1282\u001b[0m     \u001b[38;5;28;43mself\u001b[39;49m\u001b[38;5;241;43m.\u001b[39;49m\u001b[43m_send_request\u001b[49m\u001b[43m(\u001b[49m\u001b[43mmethod\u001b[49m\u001b[43m,\u001b[49m\u001b[43m \u001b[49m\u001b[43murl\u001b[49m\u001b[43m,\u001b[49m\u001b[43m \u001b[49m\u001b[43mbody\u001b[49m\u001b[43m,\u001b[49m\u001b[43m \u001b[49m\u001b[43mheaders\u001b[49m\u001b[43m,\u001b[49m\u001b[43m \u001b[49m\u001b[43mencode_chunked\u001b[49m\u001b[43m)\u001b[49m\n",
      "File \u001b[0;32m/usr/lib/python3.10/http/client.py:1328\u001b[0m, in \u001b[0;36mHTTPConnection._send_request\u001b[0;34m(self, method, url, body, headers, encode_chunked)\u001b[0m\n\u001b[1;32m   1324\u001b[0m \u001b[38;5;28;01mif\u001b[39;00m \u001b[38;5;28misinstance\u001b[39m(body, \u001b[38;5;28mstr\u001b[39m):\n\u001b[1;32m   1325\u001b[0m     \u001b[38;5;66;03m# RFC 2616 Section 3.7.1 says that text default has a\u001b[39;00m\n\u001b[1;32m   1326\u001b[0m     \u001b[38;5;66;03m# default charset of iso-8859-1.\u001b[39;00m\n\u001b[1;32m   1327\u001b[0m     body \u001b[38;5;241m=\u001b[39m _encode(body, \u001b[38;5;124m'\u001b[39m\u001b[38;5;124mbody\u001b[39m\u001b[38;5;124m'\u001b[39m)\n\u001b[0;32m-> 1328\u001b[0m \u001b[38;5;28;43mself\u001b[39;49m\u001b[38;5;241;43m.\u001b[39;49m\u001b[43mendheaders\u001b[49m\u001b[43m(\u001b[49m\u001b[43mbody\u001b[49m\u001b[43m,\u001b[49m\u001b[43m \u001b[49m\u001b[43mencode_chunked\u001b[49m\u001b[38;5;241;43m=\u001b[39;49m\u001b[43mencode_chunked\u001b[49m\u001b[43m)\u001b[49m\n",
      "File \u001b[0;32m/usr/lib/python3.10/http/client.py:1277\u001b[0m, in \u001b[0;36mHTTPConnection.endheaders\u001b[0;34m(self, message_body, encode_chunked)\u001b[0m\n\u001b[1;32m   1275\u001b[0m \u001b[38;5;28;01melse\u001b[39;00m:\n\u001b[1;32m   1276\u001b[0m     \u001b[38;5;28;01mraise\u001b[39;00m CannotSendHeader()\n\u001b[0;32m-> 1277\u001b[0m \u001b[38;5;28;43mself\u001b[39;49m\u001b[38;5;241;43m.\u001b[39;49m\u001b[43m_send_output\u001b[49m\u001b[43m(\u001b[49m\u001b[43mmessage_body\u001b[49m\u001b[43m,\u001b[49m\u001b[43m \u001b[49m\u001b[43mencode_chunked\u001b[49m\u001b[38;5;241;43m=\u001b[39;49m\u001b[43mencode_chunked\u001b[49m\u001b[43m)\u001b[49m\n",
      "File \u001b[0;32m/usr/lib/python3.10/http/client.py:1037\u001b[0m, in \u001b[0;36mHTTPConnection._send_output\u001b[0;34m(self, message_body, encode_chunked)\u001b[0m\n\u001b[1;32m   1035\u001b[0m msg \u001b[38;5;241m=\u001b[39m \u001b[38;5;124mb\u001b[39m\u001b[38;5;124m\"\u001b[39m\u001b[38;5;130;01m\\r\u001b[39;00m\u001b[38;5;130;01m\\n\u001b[39;00m\u001b[38;5;124m\"\u001b[39m\u001b[38;5;241m.\u001b[39mjoin(\u001b[38;5;28mself\u001b[39m\u001b[38;5;241m.\u001b[39m_buffer)\n\u001b[1;32m   1036\u001b[0m \u001b[38;5;28;01mdel\u001b[39;00m \u001b[38;5;28mself\u001b[39m\u001b[38;5;241m.\u001b[39m_buffer[:]\n\u001b[0;32m-> 1037\u001b[0m \u001b[38;5;28;43mself\u001b[39;49m\u001b[38;5;241;43m.\u001b[39;49m\u001b[43msend\u001b[49m\u001b[43m(\u001b[49m\u001b[43mmsg\u001b[49m\u001b[43m)\u001b[49m\n\u001b[1;32m   1039\u001b[0m \u001b[38;5;28;01mif\u001b[39;00m message_body \u001b[38;5;129;01mis\u001b[39;00m \u001b[38;5;129;01mnot\u001b[39;00m \u001b[38;5;28;01mNone\u001b[39;00m:\n\u001b[1;32m   1040\u001b[0m \n\u001b[1;32m   1041\u001b[0m     \u001b[38;5;66;03m# create a consistent interface to message_body\u001b[39;00m\n\u001b[1;32m   1042\u001b[0m     \u001b[38;5;28;01mif\u001b[39;00m \u001b[38;5;28mhasattr\u001b[39m(message_body, \u001b[38;5;124m'\u001b[39m\u001b[38;5;124mread\u001b[39m\u001b[38;5;124m'\u001b[39m):\n\u001b[1;32m   1043\u001b[0m         \u001b[38;5;66;03m# Let file-like take precedence over byte-like.  This\u001b[39;00m\n\u001b[1;32m   1044\u001b[0m         \u001b[38;5;66;03m# is needed to allow the current position of mmap'ed\u001b[39;00m\n\u001b[1;32m   1045\u001b[0m         \u001b[38;5;66;03m# files to be taken into account.\u001b[39;00m\n",
      "File \u001b[0;32m/usr/lib/python3.10/http/client.py:975\u001b[0m, in \u001b[0;36mHTTPConnection.send\u001b[0;34m(self, data)\u001b[0m\n\u001b[1;32m    973\u001b[0m \u001b[38;5;28;01mif\u001b[39;00m \u001b[38;5;28mself\u001b[39m\u001b[38;5;241m.\u001b[39msock \u001b[38;5;129;01mis\u001b[39;00m \u001b[38;5;28;01mNone\u001b[39;00m:\n\u001b[1;32m    974\u001b[0m     \u001b[38;5;28;01mif\u001b[39;00m \u001b[38;5;28mself\u001b[39m\u001b[38;5;241m.\u001b[39mauto_open:\n\u001b[0;32m--> 975\u001b[0m         \u001b[38;5;28;43mself\u001b[39;49m\u001b[38;5;241;43m.\u001b[39;49m\u001b[43mconnect\u001b[49m\u001b[43m(\u001b[49m\u001b[43m)\u001b[49m\n\u001b[1;32m    976\u001b[0m     \u001b[38;5;28;01melse\u001b[39;00m:\n\u001b[1;32m    977\u001b[0m         \u001b[38;5;28;01mraise\u001b[39;00m NotConnected()\n",
      "File \u001b[0;32m/usr/lib/python3.10/http/client.py:1447\u001b[0m, in \u001b[0;36mHTTPSConnection.connect\u001b[0;34m(self)\u001b[0m\n\u001b[1;32m   1444\u001b[0m \u001b[38;5;28;01mdef\u001b[39;00m \u001b[38;5;21mconnect\u001b[39m(\u001b[38;5;28mself\u001b[39m):\n\u001b[1;32m   1445\u001b[0m     \u001b[38;5;124m\"\u001b[39m\u001b[38;5;124mConnect to a host on a given (SSL) port.\u001b[39m\u001b[38;5;124m\"\u001b[39m\n\u001b[0;32m-> 1447\u001b[0m     \u001b[38;5;28;43msuper\u001b[39;49m\u001b[43m(\u001b[49m\u001b[43m)\u001b[49m\u001b[38;5;241;43m.\u001b[39;49m\u001b[43mconnect\u001b[49m\u001b[43m(\u001b[49m\u001b[43m)\u001b[49m\n\u001b[1;32m   1449\u001b[0m     \u001b[38;5;28;01mif\u001b[39;00m \u001b[38;5;28mself\u001b[39m\u001b[38;5;241m.\u001b[39m_tunnel_host:\n\u001b[1;32m   1450\u001b[0m         server_hostname \u001b[38;5;241m=\u001b[39m \u001b[38;5;28mself\u001b[39m\u001b[38;5;241m.\u001b[39m_tunnel_host\n",
      "File \u001b[0;32m/usr/lib/python3.10/http/client.py:941\u001b[0m, in \u001b[0;36mHTTPConnection.connect\u001b[0;34m(self)\u001b[0m\n\u001b[1;32m    939\u001b[0m \u001b[38;5;124;03m\"\"\"Connect to the host and port specified in __init__.\"\"\"\u001b[39;00m\n\u001b[1;32m    940\u001b[0m sys\u001b[38;5;241m.\u001b[39maudit(\u001b[38;5;124m\"\u001b[39m\u001b[38;5;124mhttp.client.connect\u001b[39m\u001b[38;5;124m\"\u001b[39m, \u001b[38;5;28mself\u001b[39m, \u001b[38;5;28mself\u001b[39m\u001b[38;5;241m.\u001b[39mhost, \u001b[38;5;28mself\u001b[39m\u001b[38;5;241m.\u001b[39mport)\n\u001b[0;32m--> 941\u001b[0m \u001b[38;5;28mself\u001b[39m\u001b[38;5;241m.\u001b[39msock \u001b[38;5;241m=\u001b[39m \u001b[38;5;28;43mself\u001b[39;49m\u001b[38;5;241;43m.\u001b[39;49m\u001b[43m_create_connection\u001b[49m\u001b[43m(\u001b[49m\n\u001b[1;32m    942\u001b[0m \u001b[43m    \u001b[49m\u001b[43m(\u001b[49m\u001b[38;5;28;43mself\u001b[39;49m\u001b[38;5;241;43m.\u001b[39;49m\u001b[43mhost\u001b[49m\u001b[43m,\u001b[49m\u001b[38;5;28;43mself\u001b[39;49m\u001b[38;5;241;43m.\u001b[39;49m\u001b[43mport\u001b[49m\u001b[43m)\u001b[49m\u001b[43m,\u001b[49m\u001b[43m \u001b[49m\u001b[38;5;28;43mself\u001b[39;49m\u001b[38;5;241;43m.\u001b[39;49m\u001b[43mtimeout\u001b[49m\u001b[43m,\u001b[49m\u001b[43m \u001b[49m\u001b[38;5;28;43mself\u001b[39;49m\u001b[38;5;241;43m.\u001b[39;49m\u001b[43msource_address\u001b[49m\u001b[43m)\u001b[49m\n\u001b[1;32m    943\u001b[0m \u001b[38;5;66;03m# Might fail in OSs that don't implement TCP_NODELAY\u001b[39;00m\n\u001b[1;32m    944\u001b[0m \u001b[38;5;28;01mtry\u001b[39;00m:\n",
      "File \u001b[0;32m/usr/lib/python3.10/socket.py:824\u001b[0m, in \u001b[0;36mcreate_connection\u001b[0;34m(address, timeout, source_address)\u001b[0m\n\u001b[1;32m    822\u001b[0m host, port \u001b[38;5;241m=\u001b[39m address\n\u001b[1;32m    823\u001b[0m err \u001b[38;5;241m=\u001b[39m \u001b[38;5;28;01mNone\u001b[39;00m\n\u001b[0;32m--> 824\u001b[0m \u001b[38;5;28;01mfor\u001b[39;00m res \u001b[38;5;129;01min\u001b[39;00m \u001b[43mgetaddrinfo\u001b[49m\u001b[43m(\u001b[49m\u001b[43mhost\u001b[49m\u001b[43m,\u001b[49m\u001b[43m \u001b[49m\u001b[43mport\u001b[49m\u001b[43m,\u001b[49m\u001b[43m \u001b[49m\u001b[38;5;241;43m0\u001b[39;49m\u001b[43m,\u001b[49m\u001b[43m \u001b[49m\u001b[43mSOCK_STREAM\u001b[49m\u001b[43m)\u001b[49m:\n\u001b[1;32m    825\u001b[0m     af, socktype, proto, canonname, sa \u001b[38;5;241m=\u001b[39m res\n\u001b[1;32m    826\u001b[0m     sock \u001b[38;5;241m=\u001b[39m \u001b[38;5;28;01mNone\u001b[39;00m\n",
      "File \u001b[0;32m/usr/lib/python3.10/socket.py:955\u001b[0m, in \u001b[0;36mgetaddrinfo\u001b[0;34m(host, port, family, type, proto, flags)\u001b[0m\n\u001b[1;32m    952\u001b[0m \u001b[38;5;66;03m# We override this function since we want to translate the numeric family\u001b[39;00m\n\u001b[1;32m    953\u001b[0m \u001b[38;5;66;03m# and socket type values to enum constants.\u001b[39;00m\n\u001b[1;32m    954\u001b[0m addrlist \u001b[38;5;241m=\u001b[39m []\n\u001b[0;32m--> 955\u001b[0m \u001b[38;5;28;01mfor\u001b[39;00m res \u001b[38;5;129;01min\u001b[39;00m \u001b[43m_socket\u001b[49m\u001b[38;5;241;43m.\u001b[39;49m\u001b[43mgetaddrinfo\u001b[49m\u001b[43m(\u001b[49m\u001b[43mhost\u001b[49m\u001b[43m,\u001b[49m\u001b[43m \u001b[49m\u001b[43mport\u001b[49m\u001b[43m,\u001b[49m\u001b[43m \u001b[49m\u001b[43mfamily\u001b[49m\u001b[43m,\u001b[49m\u001b[43m \u001b[49m\u001b[38;5;28;43mtype\u001b[39;49m\u001b[43m,\u001b[49m\u001b[43m \u001b[49m\u001b[43mproto\u001b[49m\u001b[43m,\u001b[49m\u001b[43m \u001b[49m\u001b[43mflags\u001b[49m\u001b[43m)\u001b[49m:\n\u001b[1;32m    956\u001b[0m     af, socktype, proto, canonname, sa \u001b[38;5;241m=\u001b[39m res\n\u001b[1;32m    957\u001b[0m     addrlist\u001b[38;5;241m.\u001b[39mappend((_intenum_converter(af, AddressFamily),\n\u001b[1;32m    958\u001b[0m                      _intenum_converter(socktype, SocketKind),\n\u001b[1;32m    959\u001b[0m                      proto, canonname, sa))\n",
      "\u001b[0;31mgaierror\u001b[0m: [Errno -2] Name or service not known"
     ]
    }
   ],
   "source": [
    "import json\n",
    "json.dump()"
   ]
  },
  {
   "cell_type": "code",
   "execution_count": null,
   "id": "1b5bdfff",
   "metadata": {},
   "outputs": [],
   "source": [
    "tree = html.fromstring(scrape.content)"
   ]
  },
  {
   "cell_type": "code",
   "execution_count": null,
   "id": "b505e09d",
   "metadata": {},
   "outputs": [],
   "source": [
    "def load_site(link):\n",
    "    #Initiating the session\n",
    "    link = link.replace(' ','+')\n",
    "    scrape = requests.Session()\n",
    "    #Getting the first URL\n",
    "    entry = 'https://www.google.com/search?ie=ISO-8859-1&hl=en-IN&source=hp&biw=&bih=&q='+link\n",
    "    e = scrape.get(entry)\n",
    "    tree = html.fromstring(e.content)\n",
    "    return tree"
   ]
  },
  {
   "cell_type": "code",
   "execution_count": null,
   "id": "d966027f",
   "metadata": {},
   "outputs": [],
   "source": [
    "#Extract the top 10 links in the page\n",
    "def extract_link(tree):    \n",
    "    link = []\n",
    "    text = []\n",
    "    \n",
    "    temp = tree.xpath('//div[@class]/a/@href')[8:17]\n",
    "    if len(temp) > 0:\n",
    "        for t in temp:\n",
    "            if ('q=') in t: # check if there is q= character\n",
    "                link.append(t.split('q=')[1])\n",
    "            else:\n",
    "                link.append(t)\n",
    "    else:\n",
    "        print('no link data')\n",
    "                \n",
    "    heading = tree.xpath('//h3')\n",
    "    if len(heading) > 0:    \n",
    "        for x in heading:\n",
    "            text.append(x.text_content())\n",
    "    else:\n",
    "        print('No heading data')\n",
    "    return link, text"
   ]
  },
  {
   "cell_type": "code",
   "execution_count": null,
   "id": "a5b5ab0a",
   "metadata": {},
   "outputs": [],
   "source": [
    "#Extract the top 10 raw links in the page\n",
    "def extract_raw(tree):    \n",
    "    link = []\n",
    "    text = []\n",
    "    \n",
    "    temp = tree.xpath('//div[@class]/a/@href')[8:17]\n",
    "    if len(temp) > 0:\n",
    "        for t in temp:\n",
    "            link.append(t)\n",
    "    else:\n",
    "        print('No search data')\n",
    "    heading = tree.xpath('//h3')\n",
    "    if len(heading) > 0:    \n",
    "        for x in heading:\n",
    "            text.append(x.text_content())\n",
    "    else:\n",
    "        print('No heading data')\n",
    "    return link, text"
   ]
  },
  {
   "cell_type": "code",
   "execution_count": null,
   "id": "9f903791",
   "metadata": {},
   "outputs": [],
   "source": [
    "#if there is a top list return it\n",
    "def top_list(tree):    \n",
    "    top = []\n",
    "    listing = tree.xpath('//ol/li') \n",
    "    if len(listing) > 0:    \n",
    "        for i in listing:\n",
    "            top.append(i.text_content())\n",
    "    else:\n",
    "        print('No top list')\n",
    "    return top"
   ]
  },
  {
   "cell_type": "code",
   "execution_count": null,
   "id": "e2b5911f",
   "metadata": {},
   "outputs": [],
   "source": [
    "search_list = ['top solar robots', 'top solar cleaners in India','Solar cleaning Robots',\n",
    "               'Working of of Solar Cleaning Robots']"
   ]
  },
  {
   "cell_type": "code",
   "execution_count": null,
   "id": "6fe20c7d",
   "metadata": {},
   "outputs": [],
   "source": [
    "search_new = ['Alphabet Fundamentals', 'Alphabet Analysis','Google Alphabet',\n",
    "               'Deep mind']"
   ]
  },
  {
   "cell_type": "code",
   "execution_count": null,
   "id": "ed9c3d99",
   "metadata": {},
   "outputs": [],
   "source": [
    "#Instantiate 3 lists for storing your collection\n",
    "found_link =[]\n",
    "found_text =[]\n",
    "google_list = []"
   ]
  },
  {
   "cell_type": "code",
   "execution_count": null,
   "id": "f542f976",
   "metadata": {},
   "outputs": [],
   "source": [
    "for words in search_new:\n",
    "    tree = load_site(words) #load the google search, and get tree\n",
    "    #send the tree into extract_link() function\n",
    "    found_link.append(extract_link(tree)[0])\n",
    "    #print('collected links')\n",
    "    found_text.append(extract_link(tree)[1])\n",
    "    #print('collected texts')\n",
    "    #send the tree through top_list() function\n",
    "    google_list.append(top_list(tree))\n",
    "    #print('collected top lists')"
   ]
  },
  {
   "cell_type": "code",
   "execution_count": null,
   "id": "a8f0abec",
   "metadata": {},
   "outputs": [],
   "source": [
    "('q=') in found_link[0][1] #Checking if the loop has worked properly"
   ]
  },
  {
   "cell_type": "code",
   "execution_count": null,
   "id": "b50589f1",
   "metadata": {},
   "outputs": [],
   "source": [
    "#Check how many links were extracted\n",
    "for extract in found_link:\n",
    "    print(len(extract))"
   ]
  },
  {
   "cell_type": "markdown",
   "id": "cc7df61d",
   "metadata": {},
   "source": [
    "Each of these links will open the website, which contain the data that I was talking about...before that, need to ensure there are no duplicate links. "
   ]
  },
  {
   "cell_type": "code",
   "execution_count": null,
   "id": "26a9452a",
   "metadata": {},
   "outputs": [],
   "source": [
    "#Links for website scraping\n",
    "scrap_link = []\n",
    "for extract in found_link:\n",
    "    for e in extract:\n",
    "        if e not in scrap_link:\n",
    "            scrap_link.append(e)\n",
    "        else:\n",
    "            continue"
   ]
  },
  {
   "cell_type": "code",
   "execution_count": null,
   "id": "ebf9837d",
   "metadata": {},
   "outputs": [],
   "source": [
    "#based on the links, the dataframe can be created.\n",
    "data_collector = pd.DataFrame()"
   ]
  },
  {
   "cell_type": "code",
   "execution_count": null,
   "id": "7b6327bf",
   "metadata": {},
   "outputs": [],
   "source": [
    "data_collector['links'] = scrap_link #Sending the links into the dataframe "
   ]
  },
  {
   "cell_type": "code",
   "execution_count": null,
   "id": "8a7929ab",
   "metadata": {},
   "outputs": [],
   "source": [
    "data_collector.loc[:,'website'] = data_collector.links.apply(lambda x: urlparse(x).netloc)"
   ]
  },
  {
   "cell_type": "code",
   "execution_count": null,
   "id": "8d71df0a",
   "metadata": {},
   "outputs": [],
   "source": [
    "data_collector.head()"
   ]
  },
  {
   "cell_type": "code",
   "execution_count": null,
   "id": "0bac1fdf",
   "metadata": {},
   "outputs": [],
   "source": [
    "data_collector.website.unique()"
   ]
  },
  {
   "cell_type": "code",
   "execution_count": null,
   "id": "51f25e65",
   "metadata": {},
   "outputs": [],
   "source": [
    "data_collector.links = data_collector.links.apply(lambda x : x.split('&')[0])\n",
    "data_collector.links[0]"
   ]
  },
  {
   "cell_type": "code",
   "execution_count": null,
   "id": "473fe509",
   "metadata": {},
   "outputs": [],
   "source": [
    "#Converting the amazon links to the format chrome can open\n",
    "data_collector.links = data_collector.links.apply(lambda x: unquote(x))"
   ]
  },
  {
   "cell_type": "code",
   "execution_count": null,
   "id": "9ac29ae0",
   "metadata": {},
   "outputs": [],
   "source": [
    "#Converting the amazon links to the format chrome can open\n",
    "data_collector.loc[data_collector.website=='www.amazon.in','links'] = data_collector[data_collector.website == 'www.amazon.in'].links.apply(lambda x: unquote(x))"
   ]
  },
  {
   "cell_type": "code",
   "execution_count": null,
   "id": "252cb5d6",
   "metadata": {},
   "outputs": [],
   "source": [
    "#Converting the youtube links to the format chrome can open\n",
    "data_collector.loc[data_collector.website=='www.youtube.com','links'] = data_collector[data_collector.website == 'www.youtube.com'].links.apply(lambda x: unquote(x))"
   ]
  },
  {
   "cell_type": "code",
   "execution_count": null,
   "id": "54fe3c41",
   "metadata": {},
   "outputs": [],
   "source": [
    "data_collector.links[2] # we have take out the last part of the path"
   ]
  },
  {
   "cell_type": "code",
   "execution_count": null,
   "id": "f6464773",
   "metadata": {},
   "outputs": [],
   "source": [
    "unquote(data_collector.links[1])"
   ]
  },
  {
   "cell_type": "code",
   "execution_count": null,
   "id": "e87a079d",
   "metadata": {},
   "outputs": [],
   "source": [
    "#Create seperate dataframe for both these websites\n",
    "youtube = data_collector.loc[data_collector.website=='www.youtube.com'].reset_index()\n",
    "amazon = data_collector.loc[data_collector.website=='www.amazon.in'].reset_index()"
   ]
  },
  {
   "cell_type": "code",
   "execution_count": null,
   "id": "04b42ab0",
   "metadata": {},
   "outputs": [],
   "source": [
    "for i,link in enumerate(youtube.links):\n",
    "    yt = YouTube(link)\n",
    "    youtube.loc[i,'author'] = yt.author\n",
    "    youtube.loc[i,'description'] = yt.description\n",
    "    #youtube.loc[i,'keyword'] = yt.keywords #Need to understand the issue in using this "
   ]
  },
  {
   "cell_type": "code",
   "execution_count": null,
   "id": "f2e58f7b",
   "metadata": {},
   "outputs": [],
   "source": [
    "amazon"
   ]
  },
  {
   "cell_type": "code",
   "execution_count": null,
   "id": "4b25b580",
   "metadata": {},
   "outputs": [],
   "source": [
    "#Initiating the Selenium Drivers\n",
    "from selenium import webdriver\n",
    "import time as time\n",
    "from selenium.common.exceptions import NoSuchElementException\n",
    "from selenium.common.exceptions import ElementNotInteractableException\n",
    "from selenium.webdriver.chrome.options import Options\n",
    "import warnings\n",
    "warnings.filterwarnings('ignore')\n",
    "import time"
   ]
  },
  {
   "cell_type": "code",
   "execution_count": null,
   "id": "3e15ee63",
   "metadata": {},
   "outputs": [],
   "source": [
    "from selenium import webdriver\n",
    "from webdriver_manager.chrome import ChromeDriverManager\n",
    "\n",
    "#driver = webdriver.Chrome(ChromeDriverManager().install())"
   ]
  },
  {
   "cell_type": "code",
   "execution_count": null,
   "id": "600f1ab6",
   "metadata": {},
   "outputs": [],
   "source": [
    "#This brings us the tree\n",
    "def selenium_loader(link):\n",
    "    driver = webdriver.Chrome()\n",
    "    driver.get(link)\n",
    "    driver.maximize_window()\n",
    "    driver.refresh()\n",
    "    time.sleep(5)\n",
    "    html_source = driver.page_source\n",
    "    tree = html.fromstring(html_source)\n",
    "    driver.quit()\n",
    "    return tree"
   ]
  },
  {
   "cell_type": "code",
   "execution_count": null,
   "id": "f177dd8b",
   "metadata": {},
   "outputs": [],
   "source": [
    "product_links=[]\n",
    "product_prices=[]\n",
    "product_names=[]\n",
    "for i,links in enumerate(amazon.links):\n",
    "    ama_tree = selenium_loader(links)\n",
    "    product_links.append(ama_tree.xpath('//h2[@class]/a/@href'))\n",
    "    product_prices.append(ama_tree.xpath('//span[contains(@class,\"a-price-whole\")]/text()'))\n",
    "    product_names.append(ama_tree.xpath('//h2[@class]/a/span/text()'))"
   ]
  },
  {
   "cell_type": "code",
   "execution_count": null,
   "id": "5414e461",
   "metadata": {},
   "outputs": [],
   "source": [
    "research_links = []\n",
    "tabs = []"
   ]
  },
  {
   "cell_type": "code",
   "execution_count": null,
   "id": "c24f8059",
   "metadata": {},
   "outputs": [],
   "source": [
    "data_tree = selenium_loader(data_collector.links[0])"
   ]
  },
  {
   "cell_type": "code",
   "execution_count": null,
   "id": "5638fd11",
   "metadata": {},
   "outputs": [],
   "source": [
    "#heading\n",
    "data_tree.xpath('//h1/text()')"
   ]
  },
  {
   "cell_type": "code",
   "execution_count": null,
   "id": "6c27fa4e",
   "metadata": {},
   "outputs": [],
   "source": [
    "#tabs\n",
    "data_tree.xpath('//ul/li/a/text()')"
   ]
  },
  {
   "cell_type": "code",
   "execution_count": null,
   "id": "34d7d0c1",
   "metadata": {},
   "outputs": [],
   "source": [
    "#tabs\n",
    "data_tree.xpath('//ul/li/a/@href')"
   ]
  },
  {
   "cell_type": "code",
   "execution_count": null,
   "id": "874177e8",
   "metadata": {},
   "outputs": [],
   "source": [
    "data_tree.xpath('//span[contains(@class,\"quote\")]/text()')"
   ]
  },
  {
   "cell_type": "code",
   "execution_count": null,
   "id": "e8767168",
   "metadata": {},
   "outputs": [],
   "source": [
    "data_tree.xpath('//span[@class=\"title\"]/text()')"
   ]
  },
  {
   "cell_type": "code",
   "execution_count": null,
   "id": "bebf4a95",
   "metadata": {},
   "outputs": [],
   "source": [
    "data_tree.xpath('//tr/td/text()')"
   ]
  },
  {
   "cell_type": "code",
   "execution_count": null,
   "id": "6064ba11",
   "metadata": {},
   "outputs": [],
   "source": [
    "price_data = selenium_loader('https://research.tradeking.com/research/quotes/price-quote.asp?mcsymbol=GOOGL')"
   ]
  },
  {
   "cell_type": "code",
   "execution_count": null,
   "id": "105dffc5",
   "metadata": {},
   "outputs": [],
   "source": [
    "price_data.xpath('//tr/td/text()')"
   ]
  },
  {
   "cell_type": "code",
   "execution_count": null,
   "id": "cfc5a6df",
   "metadata": {},
   "outputs": [],
   "source": [
    "csi = selenium_loader(data_collector.links[3])"
   ]
  },
  {
   "cell_type": "code",
   "execution_count": null,
   "id": "aa6c9cd9",
   "metadata": {},
   "outputs": [],
   "source": [
    "temp = csi.text_content().split('\\n')"
   ]
  },
  {
   "cell_type": "code",
   "execution_count": null,
   "id": "4f97928c",
   "metadata": {},
   "outputs": [],
   "source": [
    "dat = []\n",
    "for text in temp:\n",
    "    if text != '':\n",
    "        dat.append(text)"
   ]
  },
  {
   "cell_type": "code",
   "execution_count": null,
   "id": "c5879cbb",
   "metadata": {},
   "outputs": [],
   "source": [
    "for text in dat:\n",
    "    if text == '':\n",
    "        print(text)"
   ]
  },
  {
   "cell_type": "markdown",
   "id": "801dac8a",
   "metadata": {},
   "source": [
    "Starting to work on the youtube scraping project...\n",
    "\n",
    "The videos in the youtube are all kept inside the channel. So any channel will have lot of videos under them and their URL can be taken out. Then the URL can be used to collect the description, likes and other details.\n",
    "\n",
    "Channels \n",
    "\n",
    "    Videos will have links\n",
    "\n",
    "        Will have description, comments, reviews etc\n",
    "        Also will have individual tracks for audio and video\n",
    "\n",
    "\n",
    "Idea is to simply scarpe the top page of youtube for channels, then drill down from there into each of channels and collect the information shown below.\n",
    "\n",
    "Channel   Video Name Desciption likes comments genere keywords views"
   ]
  },
  {
   "cell_type": "code",
   "execution_count": null,
   "id": "0feee238",
   "metadata": {},
   "outputs": [],
   "source": [
    "#Let me start with the favorite channel that I usually listen... \n",
    "c = Channel('https://www.youtube.com/c/MusicLabChill')"
   ]
  },
  {
   "cell_type": "code",
   "execution_count": null,
   "id": "fcea8af1",
   "metadata": {},
   "outputs": [],
   "source": [
    "def channelData(link):\n",
    "    cha = Channel(link) #instantiate the channel\n",
    "    data = cha.video_urls #get the list of video links\n",
    "    print('Sending the {} video list'.format(cha.channel_name))\n",
    "    return data #return the values"
   ]
  },
  {
   "cell_type": "code",
   "execution_count": null,
   "id": "4e14f1f3",
   "metadata": {},
   "outputs": [],
   "source": [
    "chill_list = channelData('https://www.youtube.com/c/MusicLabChill')"
   ]
  },
  {
   "cell_type": "code",
   "execution_count": null,
   "id": "8bca423d",
   "metadata": {},
   "outputs": [],
   "source": [
    "def get_vid_data(link):\n",
    "    vid_t = YouTube(link)\n",
    "    keys = ','.join(vid_t.keywords)\n",
    "    cha = Channel(vid_t.channel_url)\n",
    "    data = {'Author':vid_t.author,'title':vid_t.title, 'Age_restriction':vid_t.age_restricted,'description':vid_t.description,\n",
    "                'keywords':keys, 'length':vid_t.length,'publish_date':vid_t.publish_date,'views':vid_t.views,'about':cha.about_url}\n",
    "    vid_df = pd.DataFrame(data,index=[0])\n",
    "    return vid_df"
   ]
  },
  {
   "cell_type": "code",
   "execution_count": null,
   "id": "f2f2ab1e",
   "metadata": {},
   "outputs": [],
   "source": [
    "vid_collector = pd.DataFrame()\n",
    "for link in chill_list:\n",
    "    c_data = get_vid_data(link)\n",
    "    vid_collector = vid_collector.append(c_data)"
   ]
  },
  {
   "cell_type": "code",
   "execution_count": null,
   "id": "4724f410",
   "metadata": {},
   "outputs": [],
   "source": [
    "def dataframe_collector(linklist):\n",
    "    vid_collector = pd.DataFrame()\n",
    "    x = len(linklist)\n",
    "    for link in linklist:\n",
    "        c_data = get_vid_data(link)\n",
    "        vid_collector = vid_collector.append(c_data)\n",
    "        if vid_collector.shape[0]//10 == 0:\n",
    "            print('Completing {} % of list'.format((vid_collector.shape[0]/x)*100))\n",
    "    return vid_collector"
   ]
  },
  {
   "cell_type": "code",
   "execution_count": null,
   "id": "6445f2ec",
   "metadata": {},
   "outputs": [],
   "source": [
    "vid_collector.shape"
   ]
  },
  {
   "cell_type": "code",
   "execution_count": null,
   "id": "96a3c2cf",
   "metadata": {},
   "outputs": [],
   "source": [
    "# seems there is a api key that needs to provided. It might kickin anytime...\n",
    "c.yt_api_key"
   ]
  },
  {
   "cell_type": "code",
   "execution_count": null,
   "id": "38fe7de1",
   "metadata": {},
   "outputs": [],
   "source": [
    "def dload_vid(link):\n",
    "    vid = YouTube(link)\n",
    "    stream = vid.streams\n",
    "    get_vid = stream.get_highest_resolution()\n",
    "    get_vid.download()"
   ]
  },
  {
   "cell_type": "code",
   "execution_count": null,
   "id": "779031c8",
   "metadata": {},
   "outputs": [],
   "source": [
    "def dload_aud(link):\n",
    "    vid = YouTube(link)\n",
    "    stream = vid.streams\n",
    "    get_aud = stream.get_by_itag(140)\n",
    "    get_aud.download()"
   ]
  },
  {
   "cell_type": "code",
   "execution_count": null,
   "id": "b115d76c",
   "metadata": {},
   "outputs": [],
   "source": [
    "#Collecting the channels using the search option of youtube\n",
    "search = Search('Using Python to scrape')\n",
    "live_res = search.results\n",
    "live_res_next = search.get_next_results()"
   ]
  },
  {
   "cell_type": "code",
   "execution_count": null,
   "id": "b9ab167b",
   "metadata": {},
   "outputs": [],
   "source": [
    "import snoop"
   ]
  },
  {
   "cell_type": "code",
   "execution_count": null,
   "id": "3bb4203c",
   "metadata": {},
   "outputs": [],
   "source": [
    "my_search = 'Solar panel cleaning bots'\n",
    "s = Search(my_search)\n",
    "related_term = s.completion_suggestions\n",
    "related_term.append(my_search)\n",
    "print(len(related_term))"
   ]
  },
  {
   "cell_type": "code",
   "execution_count": null,
   "id": "b7a50cb9",
   "metadata": {},
   "outputs": [],
   "source": [
    "print('Length of related term {}'.format(len(related_term)))"
   ]
  },
  {
   "cell_type": "code",
   "execution_count": null,
   "id": "496c8145",
   "metadata": {},
   "outputs": [],
   "source": [
    "def get_youtube(search_term):\n",
    "    get_result = Search(search_term)\n",
    "    ini_res = get_result.results\n",
    "    while True: #collect fifty youtube videos\n",
    "        get_result.get_next_results()\n",
    "        ini_res = get_result.results\n",
    "        if len(ini_res) > 50:\n",
    "            break\n",
    "    return ini_res"
   ]
  },
  {
   "cell_type": "code",
   "execution_count": null,
   "id": "3b7f26c7",
   "metadata": {},
   "outputs": [],
   "source": [
    "def videoSearch(search_list): #provide the search.results list as input\n",
    "    vidlist = []\n",
    "    for result in search_list:\n",
    "        result = str(result)\n",
    "        temp = result.replace(\"<pytube.__main__.YouTube object: videoId=\", \"\")\n",
    "        temp = temp.split(',')[0] #get the correct video id\n",
    "        vidLink = (\"https://www.youtube.com/watch?v=\" + temp)\n",
    "        vidlist.append(vidLink)\n",
    "    return vidlist"
   ]
  },
  {
   "cell_type": "code",
   "execution_count": null,
   "id": "a4a7cb65",
   "metadata": {},
   "outputs": [],
   "source": [
    "import icecream\n",
    "you_tube_links = []\n",
    "for search_term in related_term:\n",
    "    #get the raw links from get_youtube function\n",
    "    temp_list = (get_youtube(search_term))\n",
    "    #print('temp list length {}'.format(len(temp_list)))\n",
    "    #temp list of each term is parsed into youtube links\n",
    "    for link in videoSearch(temp_list):\n",
    "        you_tube_links.append(link)\n",
    "    #print('link list length {}'.format(len(you_tube_links)))"
   ]
  },
  {
   "cell_type": "code",
   "execution_count": null,
   "id": "66e37080",
   "metadata": {},
   "outputs": [],
   "source": [
    "set_link = set(you_tube_links)\n",
    "len(set_link)"
   ]
  },
  {
   "cell_type": "code",
   "execution_count": null,
   "id": "f77036fd",
   "metadata": {},
   "outputs": [],
   "source": [
    "final_dataframe = pd.DataFrame()\n",
    "x = len(set_link)\n",
    "for collected_links in set_link:\n",
    "    print(collected_links)\n",
    "    final_dataframe = final_dataframe.append(get_vid_data(collected_links))\n",
    "    check = round((final_dataframe.shape[0]/x)*100)\n",
    "    if np.mod(check,10) == 0:\n",
    "            print('Completing {} % of list'.format(check))"
   ]
  },
  {
   "cell_type": "code",
   "execution_count": null,
   "id": "8514b5cb",
   "metadata": {},
   "outputs": [],
   "source": [
    "final_dataframe.head()"
   ]
  },
  {
   "cell_type": "code",
   "execution_count": null,
   "id": "9d2e5959",
   "metadata": {},
   "outputs": [],
   "source": [
    "#getting channel data...\n",
    "def get_chnl_name(link):\n",
    "    ch = YouTube(link)\n",
    "    temp = ch.channel_url\n",
    "    cha_temp = Channel(temp)\n",
    "    time.sleep(5)\n",
    "    return cha_temp.channel_name"
   ]
  },
  {
   "cell_type": "code",
   "execution_count": null,
   "id": "640abe48",
   "metadata": {},
   "outputs": [],
   "source": [
    "#getting channel data...\n",
    "def get_chnl_vids(link):\n",
    "    ch = Channel(link)\n",
    "    num_url = len(ch.video_urls)\n",
    "    time.sleep(5)\n",
    "    return num_url"
   ]
  },
  {
   "cell_type": "code",
   "execution_count": null,
   "id": "efa63d2b",
   "metadata": {},
   "outputs": [],
   "source": [
    "#Attach the links to final dataframe\n",
    "final_dataframe['link'] = you_tube_links\n",
    "final_dataframe['channel_name'] = final_dataframe.link.apply(lambda x: get_chnl_name(x))"
   ]
  },
  {
   "cell_type": "code",
   "execution_count": null,
   "id": "48237012",
   "metadata": {},
   "outputs": [],
   "source": [
    "final_dataframe.reset_index(inplace=True)\n",
    "final_dataframe.to_csv('Solar_panel_cleaning_robot.csv')"
   ]
  },
  {
   "cell_type": "markdown",
   "id": "344dc65d",
   "metadata": {},
   "source": [
    "### What insights can we get from the searched results?"
   ]
  },
  {
   "cell_type": "code",
   "execution_count": null,
   "id": "cf9f44a8",
   "metadata": {},
   "outputs": [],
   "source": [
    "#How many unique channels are covering the solar panel cleaners\n",
    "analy_channel = final_dataframe.groupby(['channel_name','about'])['length'].count().reset_index()\n",
    "analy_channel.sort_values('length',inplace=True,ascending=False)"
   ]
  },
  {
   "cell_type": "code",
   "execution_count": null,
   "id": "1ca0fe28",
   "metadata": {},
   "outputs": [],
   "source": [
    "import plotly.express as px\n",
    "import plotly.graph_objects as go\n",
    "#Which channels have more videos in this search?\n",
    "cha = px.bar(data_frame=analy_channel[:20],y='channel_name',x='length',color='channel_name')\n",
    "cha.update_layout(title='Channel and their distribution',height = 1000, width = 1000)\n",
    "cha.show()"
   ]
  },
  {
   "cell_type": "code",
   "execution_count": null,
   "id": "7972ceff",
   "metadata": {},
   "outputs": [],
   "source": []
  },
  {
   "cell_type": "code",
   "execution_count": null,
   "id": "4f3a1dbd",
   "metadata": {},
   "outputs": [],
   "source": [
    "my_channels = []\n",
    "for channels in channel_yout:\n",
    "    if '\\n' in channels:\n",
    "        continue\n",
    "    else:\n",
    "        my_channels.append(channels)"
   ]
  },
  {
   "cell_type": "code",
   "execution_count": null,
   "id": "1661ca90",
   "metadata": {},
   "outputs": [],
   "source": [
    "my_chn_link = yout.xpath('//a[@spellcheck]/@href')"
   ]
  },
  {
   "cell_type": "code",
   "execution_count": null,
   "id": "8d626b32",
   "metadata": {},
   "outputs": [],
   "source": [
    "channel_p = []\n",
    "for link in my_chn_link:\n",
    "    temp = urljoin('https://www.youtube.com/',link)\n",
    "    channel_p.append(temp)"
   ]
  },
  {
   "cell_type": "code",
   "execution_count": null,
   "id": "4b8d3924",
   "metadata": {},
   "outputs": [],
   "source": [
    "channel_p[:5]"
   ]
  },
  {
   "cell_type": "code",
   "execution_count": null,
   "id": "19fddb88",
   "metadata": {},
   "outputs": [],
   "source": [
    "c = Channel(channel_p[0])"
   ]
  },
  {
   "cell_type": "code",
   "execution_count": null,
   "id": "9fe983f2",
   "metadata": {},
   "outputs": [],
   "source": [
    "#every channel will have a list of videos \n",
    "homelink_df = pd.DataFrame()\n",
    "for homelinks in channel_p:\n",
    "    #get the list of videos in each channel\n",
    "    channel_list = channelData(homelinks)\n",
    "    print('Working on {} channel data...'.format(Channel(homelinks).channel_name))\n",
    "    homelink_df = homelink_df.append(dataframe_collector(channel_list[:5]))\n",
    "    #print('Number of Videos in the channel is {}'.format(len(channel_list)))\n",
    "    print('{} data is collected'.format(Channel(homelinks).channel_name))\n",
    "    "
   ]
  },
  {
   "cell_type": "code",
   "execution_count": null,
   "id": "ba5754a4",
   "metadata": {},
   "outputs": [],
   "source": [
    "homelink_df.shape"
   ]
  },
  {
   "cell_type": "code",
   "execution_count": null,
   "id": "1546e855",
   "metadata": {},
   "outputs": [],
   "source": [
    "for video in search.get_next_results():\n",
    "    print(video)"
   ]
  },
  {
   "cell_type": "code",
   "execution_count": null,
   "id": "69ce11a1",
   "metadata": {},
   "outputs": [],
   "source": []
  },
  {
   "cell_type": "code",
   "execution_count": null,
   "id": "24919bf2",
   "metadata": {},
   "outputs": [],
   "source": []
  }
 ],
 "metadata": {
  "kernelspec": {
   "display_name": "Python 3 (ipykernel)",
   "language": "python",
   "name": "python3"
  },
  "language_info": {
   "codemirror_mode": {
    "name": "ipython",
    "version": 3
   },
   "file_extension": ".py",
   "mimetype": "text/x-python",
   "name": "python",
   "nbconvert_exporter": "python",
   "pygments_lexer": "ipython3",
   "version": "3.10.8"
  }
 },
 "nbformat": 4,
 "nbformat_minor": 5
}

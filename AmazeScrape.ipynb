{
 "cells": [
  {
   "cell_type": "code",
   "execution_count": 8,
   "id": "b99e6fc7",
   "metadata": {},
   "outputs": [],
   "source": [
    "import pandas as pd\n",
    "import numpy as np\n",
    "import plotly.express as px\n",
    "import plotly.graph_objects as go\n",
    "import dataset\n",
    "from bs4 import BeautifulSoup \n",
    "import requests\n",
    "from urllib.parse import unquote\n",
    "from urllib.parse import urljoin"
   ]
  },
  {
   "cell_type": "code",
   "execution_count": 2,
   "id": "80c638c2",
   "metadata": {},
   "outputs": [],
   "source": [
    "#Initiating the session\n",
    "scrape = requests.Session()\n",
    "#Getting the first URL\n",
    "entry = 'https://www.amazon.in/'"
   ]
  },
  {
   "attachments": {
    "image.png": {
     "image/png": "[encoded data removed]"
    }
   },
   "cell_type": "markdown",
   "id": "04f3a3a1",
   "metadata": {},
   "source": [
    "![image.png](attachment:image.png)"
   ]
  },
  {
   "cell_type": "code",
   "execution_count": 3,
   "id": "a8f73fa2",
   "metadata": {},
   "outputs": [],
   "source": [
    "                                e = scrape.get(entry)\n",
    "soup_main = BeautifulSoup(e.text,'html.parser')"
   ]
  },
  {
   "cell_type": "code",
   "execution_count": 4,
   "id": "4de1cc77",
   "metadata": {},
   "outputs": [],
   "source": [
    "#get the links\n",
    "main_link = soup_main.find_all('a',class_='nav-a')"
   ]
  },
  {
   "cell_type": "code",
   "execution_count": 5,
   "id": "cb22aec5",
   "metadata": {},
   "outputs": [],
   "source": [
    "links=[]\n",
    "for main in main_link:\n",
    "    links.append(main.get('href'))"
   ]
  },
  {
   "cell_type": "code",
   "execution_count": 6,
   "id": "8bf76721",
   "metadata": {},
   "outputs": [
    {
     "name": "stdout",
     "output_type": "stream",
     "text": [
      "There are total 32 links collected from amazon main page\n"
     ]
    }
   ],
   "source": [
    "#select those links that start with '/'\n",
    "collected = []\n",
    "for link in links[3:]:\n",
    "    temp = urljoin(entry,link)\n",
    "    collected.append(temp)\n",
    "        \n",
    "print('There are total {} links collected from amazon main page'.format(len(collected)))"
   ]
  },
  {
   "cell_type": "code",
   "execution_count": 7,
   "id": "786b0422",
   "metadata": {},
   "outputs": [],
   "source": [
    "#There is a pattern to the links. End of every link is having the clue to where the link is heading.\n",
    "main_dict = {}\n",
    "for links in collected:\n",
    "    temp = links.split('=')\n",
    "    #split the link, take the heading\n",
    "    main_dict[temp[-1]] = links"
   ]
  },
  {
   "cell_type": "code",
   "execution_count": 8,
   "id": "2400fd83",
   "metadata": {},
   "outputs": [
    {
     "data": {
      "text/plain": [
       "dict_keys(['nav_orders_first', 'nav_cart', 'nav_cs_bestsellers', 'nav_cs_mobiles', 'nav_cs_gb', 'nav_cs_help', 'nav_cs_electronics', 'nav_cs_books', 'nav_cs_primelink_nonmember', 'nav_cs_fashion', 'nav_cs_newreleases', 'nav_cs_home', 'nav_cs_apay', 'nav_cs_pc', 'nav_cs_coupons', 'nav_cs_toys', 'nav_cs_sell', 'nav_cs_gc', 'nav_cs_automotive', 'nav_cs_video_games', 'nav_cs_grocery', 'nav_cs_beauty', 'nav_cs_sports', 'nav_cs_hpc', 'nav_cs_baby', 'nav_cs_pets', 'nav_cs_kindle_books', 'nav_cs_hi', 'nav_cs_giftfinder', 'nav_cs_amazonbasics', 'nav_cs_audible', 'nav_cs_sns'])"
      ]
     },
     "execution_count": 8,
     "metadata": {},
     "output_type": "execute_result"
    }
   ],
   "source": [
    "main_dict.keys()"
   ]
  },
  {
   "attachments": {
    "image.png": {
     "image/png": "[encoded data removed]"
    }
   },
   "cell_type": "markdown",
   "id": "c026a2fc",
   "metadata": {},
   "source": [
    "![image.png](attachment:image.png)"
   ]
  },
  {
   "cell_type": "code",
   "execution_count": 9,
   "id": "6db4988c",
   "metadata": {},
   "outputs": [
    {
     "data": {
      "text/plain": [
       "'https://www.amazon.in/gp/sva/dashboard?ref_=nav_cs_apay'"
      ]
     },
     "execution_count": 9,
     "metadata": {},
     "output_type": "execute_result"
    }
   ],
   "source": [
    "#There are couple of links that lead to personal areas, that require sign-in. Poping them from the dict\n",
    "main_dict.pop('nav_orders_first')\n",
    "main_dict.pop('nav_cart')\n",
    "main_dict.pop('nav_cs_primelink_nonmember')\n",
    "main_dict.pop('nav_cs_help')\n",
    "main_dict.pop('nav_cs_sns')\n",
    "main_dict.pop('nav_cs_apay')"
   ]
  },
  {
   "cell_type": "code",
   "execution_count": 10,
   "id": "c2090a28",
   "metadata": {
    "scrolled": true
   },
   "outputs": [],
   "source": [
    "link_collector = pd.DataFrame(list(main_dict.items()),columns=['topics','links'])"
   ]
  },
  {
   "cell_type": "code",
   "execution_count": 11,
   "id": "15bbf90a",
   "metadata": {},
   "outputs": [],
   "source": [
    "my_headers = {\n",
    "'User-Agent': 'Mozilla/5.0 (Windows NT 10.0; Win64; x64) AppleWebKit/537.36 ' + ' (KHTML, like Gecko) Chrome/61.0.3163.100 Safari/537.36',\n",
    "'referer':'http://localhost:8888/'    \n",
    "}"
   ]
  },
  {
   "cell_type": "code",
   "execution_count": 12,
   "id": "fbbd85ca",
   "metadata": {},
   "outputs": [
    {
     "data": {
      "text/plain": [
       "'https://www.amazon.in/gp/bestsellers/?ref_=nav_cs_bestsellers'"
      ]
     },
     "execution_count": 12,
     "metadata": {},
     "output_type": "execute_result"
    }
   ],
   "source": [
    "link_collector.links[0]"
   ]
  },
  {
   "cell_type": "code",
   "execution_count": 13,
   "id": "16d835a9",
   "metadata": {},
   "outputs": [
    {
     "name": "stdout",
     "output_type": "stream",
     "text": [
      "0 https://www.amazon.in/gp/bestsellers/?ref_=nav_cs_bestsellers\n",
      "1 https://www.amazon.in/mobile-phones/b/?ie=UTF8&node=1389401031&ref_=nav_cs_mobiles\n",
      "2 https://www.amazon.in/deals?ref_=nav_cs_gb\n",
      "3 https://www.amazon.in/electronics/b/?ie=UTF8&node=976419031&ref_=nav_cs_electronics\n",
      "4 https://www.amazon.in/Books/b/?ie=UTF8&node=976389031&ref_=nav_cs_books\n",
      "5 https://www.amazon.in/gp/browse.html?node=6648217031&ref_=nav_cs_fashion\n",
      "6 https://www.amazon.in/gp/new-releases/?ref_=nav_cs_newreleases\n",
      "7 https://www.amazon.in/Home-Kitchen/b/?ie=UTF8&node=976442031&ref_=nav_cs_home\n",
      "8 https://www.amazon.in/computers-and-accessories/b/?ie=UTF8&node=976392031&ref_=nav_cs_pc\n",
      "9 https://www.amazon.in/amazon-coupons/b/?_encoding=UTF8&node=10465704031&ref_=nav_cs_coupons\n",
      "10 https://www.amazon.in/Toys-Games/b/?ie=UTF8&node=1350380031&ref_=nav_cs_toys\n",
      "11 https://www.amazon.in/b/?node=2838698031&ld=AZINSOANavDesktop&ref_=nav_cs_sell\n",
      "12 https://www.amazon.in/gift-card-store/b/?ie=UTF8&node=3704982031&ref_=nav_cs_gc\n",
      "13 https://www.amazon.in/Car-Motorbike-Store/b/?ie=UTF8&node=4772060031&ref_=nav_cs_automotive\n",
      "14 https://www.amazon.in/video-games/b/?ie=UTF8&node=976460031&ref_=nav_cs_video_games\n",
      "15 https://www.amazon.in/Gourmet-Specialty-Foods/b/?ie=UTF8&node=2454178031&ref_=nav_cs_grocery\n",
      "16 https://www.amazon.in/beauty/b/?ie=UTF8&node=1355016031&ref_=nav_cs_beauty\n",
      "17 https://www.amazon.in/Sports/b/?ie=UTF8&node=1984443031&ref_=nav_cs_sports\n",
      "18 https://www.amazon.in/health-and-personal-care/b/?ie=UTF8&node=1350384031&ref_=nav_cs_hpc\n",
      "19 https://www.amazon.in/Baby/b/?ie=UTF8&node=1571274031&ref_=nav_cs_baby\n",
      "20 https://www.amazon.in/Pet-Supplies/b/?ie=UTF8&node=2454181031&ref_=nav_cs_pets\n",
      "21 https://www.amazon.in/Kindle-Store/b/?ie=UTF8&node=1571277031&ref_=nav_cs_kindle_books\n",
      "22 https://www.amazon.in/gp/browse.html?node=3704992031&ref_=nav_cs_hi\n",
      "23 https://www.amazon.in/gcx/-/gfhz/?ref_=nav_cs_giftfinder\n",
      "24 https://www.amazon.in/b/?node=6637738031&ref_=nav_cs_amazonbasics\n",
      "25 https://www.amazon.in/Audible-Books-and-Originals/b/?ie=UTF8&node=17941593031&ref_=nav_cs_audible\n"
     ]
    }
   ],
   "source": [
    "link_collector_dict = {} #dict to hold the list of links collected from each links\n",
    "\n",
    "\n",
    "for index, crawl in enumerate(link_collector.links):\n",
    "    link_hrf = []\n",
    "    print(index,crawl)\n",
    "    lev = scrape.get(crawl,headers=my_headers)\n",
    "    lev_soup = BeautifulSoup(lev.text,'html.parser')\n",
    "    for hrf in lev_soup.find_all('a', attrs={'class':'a-link-normal'}):     \n",
    "        temp = hrf.get('href')\n",
    "        link_hrf.append(temp)\n",
    "\n",
    "    link_collector_dict[link_collector.topics[index]] = link_hrf"
   ]
  },
  {
   "cell_type": "code",
   "execution_count": 14,
   "id": "a10bfcba",
   "metadata": {},
   "outputs": [],
   "source": [
    "link_list_df = pd.DataFrame(list(link_collector_dict.items()),columns=['topics','links_list'])\n",
    "link_list_df['link_len'] = link_list_df.links_list.apply(lambda x: len(x))\n",
    "link_list_df = link_list_df[link_list_df.link_len > 60]"
   ]
  },
  {
   "cell_type": "code",
   "execution_count": 15,
   "id": "dc74c053",
   "metadata": {},
   "outputs": [
    {
     "data": {
      "text/html": [
       "<div>\n",
       "<style scoped>\n",
       "    .dataframe tbody tr th:only-of-type {\n",
       "        vertical-align: middle;\n",
       "    }\n",
       "\n",
       "    .dataframe tbody tr th {\n",
       "        vertical-align: top;\n",
       "    }\n",
       "\n",
       "    .dataframe thead th {\n",
       "        text-align: right;\n",
       "    }\n",
       "</style>\n",
       "<table border=\"1\" class=\"dataframe\">\n",
       "  <thead>\n",
       "    <tr style=\"text-align: right;\">\n",
       "      <th></th>\n",
       "      <th>topics</th>\n",
       "      <th>links_list</th>\n",
       "      <th>link_len</th>\n",
       "    </tr>\n",
       "  </thead>\n",
       "  <tbody>\n",
       "    <tr>\n",
       "      <th>0</th>\n",
       "      <td>nav_cs_bestsellers</td>\n",
       "      <td>[/gp/bestsellers/luggage, /WILDHORN%C2%AE-Cart...</td>\n",
       "      <td>149</td>\n",
       "    </tr>\n",
       "    <tr>\n",
       "      <th>6</th>\n",
       "      <td>nav_cs_newreleases</td>\n",
       "      <td>[/gp/new-releases/luggage, /QURATRIX-Silver-Ou...</td>\n",
       "      <td>146</td>\n",
       "    </tr>\n",
       "  </tbody>\n",
       "</table>\n",
       "</div>"
      ],
      "text/plain": [
       "               topics                                         links_list  \\\n",
       "0  nav_cs_bestsellers  [/gp/bestsellers/luggage, /WILDHORN%C2%AE-Cart...   \n",
       "6  nav_cs_newreleases  [/gp/new-releases/luggage, /QURATRIX-Silver-Ou...   \n",
       "\n",
       "   link_len  \n",
       "0       149  \n",
       "6       146  "
      ]
     },
     "execution_count": 15,
     "metadata": {},
     "output_type": "execute_result"
    }
   ],
   "source": [
    "link_list_df"
   ]
  },
  {
   "cell_type": "markdown",
   "id": "37658581",
   "metadata": {},
   "source": [
    "Out of 28 links only 3 pages loaded with default referer and settings. Rest of page needs more info. \n",
    "I am planning to go ahead scrape the links under bestsellers first\n",
    "\n",
    "1) Start by making the list of links under best sellers as full links and see if they provide the content\n",
    "\n",
    "2) If it provides the content, then check the tags, class, id that can be used to get the data.\n",
    "\n",
    "3) Create the dataframe and store the data directly in the dataframe."
   ]
  },
  {
   "cell_type": "markdown",
   "id": "22c7c799",
   "metadata": {},
   "source": [
    "learn more about the usage\n",
    "\n",
    "driver.execute_script(\"window.scrollBy(0, document.body.scrollHeight-400)\")"
   ]
  },
  {
   "cell_type": "code",
   "execution_count": 2,
   "id": "0ae76629",
   "metadata": {},
   "outputs": [],
   "source": [
    "from selenium import webdriver\n",
    "import time as time\n",
    "from selenium.common.exceptions import NoSuchElementException\n",
    "from selenium.common.exceptions import ElementNotInteractableException"
   ]
  },
  {
   "cell_type": "code",
   "execution_count": null,
   "id": "7445fa9b",
   "metadata": {},
   "outputs": [],
   "source": []
  },
  {
   "cell_type": "code",
   "execution_count": 3,
   "id": "b983162e",
   "metadata": {},
   "outputs": [],
   "source": [
    "def get_pagelevel_data(beauty_soup, df):\n",
    "    trial_L1 = beauty_soup.find_all('div',attrs={'id':'gridItemRoot'})\n",
    "    start = len(df)\n",
    "    for index,trial in enumerate(trial_L1):\n",
    "        df.loc[start+index,'Name'] = trial.select('span')[1].get_text()\n",
    "        df.loc[start+index,'reviews'] = trial.select('span')[3].get_text()\n",
    "        df.loc[start+index,'stars'] = trial.select('span')[2].get_text()\n",
    "        df.loc[start+index,'price'] = trial.select('span')[4].get_text()\n",
    "        df.loc[start+index,'link_in'] = trial.find('a',attrs={'class':'a-link-normal'}).get('href')\n",
    "    end = len(df)\n",
    "    print('Total data got is {}'.format(end-start))"
   ]
  },
  {
   "cell_type": "code",
   "execution_count": 4,
   "id": "a5eea481",
   "metadata": {},
   "outputs": [],
   "source": [
    "#Creating a subroutine to get page\n",
    "def get_page(main_driver):\n",
    "    element = main_driver.find_element_by_class_name('a-last')\n",
    "    main_driver.execute_script(\"arguments[0].scrollIntoView();\",element)\n",
    "    time.sleep(5)\n",
    "    soup = main_driver.page_source\n",
    "    trial = BeautifulSoup(soup,'html.parser')\n",
    "    return trial"
   ]
  },
  {
   "cell_type": "code",
   "execution_count": 5,
   "id": "05256ea5",
   "metadata": {},
   "outputs": [],
   "source": [
    "#get the pages that are still un-selected. These many clicks will be required to traverse the site\n",
    "def get_page_avbl(page_soup):\n",
    "    return len(page_soup.find_all('li',attrs={'class':'a-normal'}))"
   ]
  },
  {
   "cell_type": "code",
   "execution_count": 6,
   "id": "09d00e7a",
   "metadata": {},
   "outputs": [],
   "source": [
    "def crawler(page_url):\n",
    "    driver = webdriver.Chrome()\n",
    "    driver.get(page_url)\n",
    "    driver.maximize_window()\n",
    "    stor_dataframe = pd.DataFrame()\n",
    "    #Above code initialises the selenium driver and opens the browser\n",
    "    \n",
    "    firstpage = get_page(driver) #gets the first page\n",
    "    get_pagelevel_data(firstpage,stor_dataframe) # gets the data in the first page\n",
    "    page_avbl = get_page_avbl(firstpage) #gets the number of pages\n",
    "    print('This url contains {} pages'.format(page_avbl+1))\n",
    "    for page in range(page_avbl):#looping the pages available\n",
    "        print('Moving to {} page for scraping'.format(page+2))\n",
    "        try:\n",
    "            driver.find_element_by_class_name('a-last').click() #moving to the next page\n",
    "            page_next = get_page(driver) #getting next page data\n",
    "            get_pagelevel_data(page_next,stor_dataframe) # collecting the next page data\n",
    "        except NoSuchElementException as nse:\n",
    "            print('Element not found, breaking')\n",
    "    print('ending crawler for {} and returning payload'.format(page_url))\n",
    "    print('Links collected is {} and quitting driver'.format(stor_dataframe.shape[0]))\n",
    "    driver.quit()\n",
    "    return stor_dataframe #returning the dataframe"
   ]
  },
  {
   "cell_type": "code",
   "execution_count": 1,
   "id": "89108247",
   "metadata": {},
   "outputs": [],
   "source": [
    "vid_url = 'https://www.amazon.in/gp/bestsellers/videogames'"
   ]
  },
  {
   "cell_type": "code",
   "execution_count": 14,
   "id": "2222aa84",
   "metadata": {},
   "outputs": [],
   "source": [
    "driver = webdriver.Chrome()\n",
    "driver.get(vid_url)\n",
    "driver.maximize_window()"
   ]
  },
  {
   "cell_type": "code",
   "execution_count": 15,
   "id": "2722ff0d",
   "metadata": {},
   "outputs": [
    {
     "name": "stderr",
     "output_type": "stream",
     "text": [
      "C:\\WorkFiles\\WPy64-37120\\pypy3.7-v7.3.7-win64\\site-packages\\ipykernel_launcher.py:3: DeprecationWarning: find_element_by_* commands are deprecated. Please use find_element() instead\n",
      "  This is separate from the ipykernel package so we can avoid doing imports until\n"
     ]
    }
   ],
   "source": [
    "firstpage = get_page(driver)"
   ]
  },
  {
   "cell_type": "code",
   "execution_count": 30,
   "id": "252ec840",
   "metadata": {},
   "outputs": [],
   "source": [
    "data = firstpage.find_all('li',attrs={'role':'gridcell'})"
   ]
  },
  {
   "cell_type": "code",
   "execution_count": 44,
   "id": "8b14b257",
   "metadata": {},
   "outputs": [
    {
     "data": {
      "text/plain": [
       "[<span class=\"a-size-small aok-float-left zg-badge-body zg-badge-color\"><span class=\"zg-badge-text\">#2</span></span>,\n",
       " <span class=\"zg-badge-text\">#2</span>,\n",
       " <span class=\"aok-float-left zg-badge-triangle zg-badge-color\"></span>,\n",
       " <span class=\"aok-inline-block zg-item\"><a class=\"a-link-normal\" href=\"/Sony-PlayStation-Network-Delivery-Digital/dp/B07K6PVXJZ/ref=zg_bs_videogames_2/259-2952639-3601935?_encoding=UTF8&amp;psc=1&amp;refRID=H99TBA73694K1VH7EZGB\"><span class=\"zg-text-center-align\"><div class=\"a-section a-spacing-small\"><img alt=\"Rs.500 Sony PlayStation Network Wallet Top-Up (Email Delivery in 1 hour- Digital Voucher Code)\" height=\"200\" src=\"https://images-eu.ssl-images-amazon.com/images/I/410erw8EwMS._AC_UL200_SR200,200_.jpg\" width=\"200\"/></div></span>\n",
       " <div aria-hidden=\"true\" class=\"p13n-sc-truncated\" data-rows=\"1\" title=\"Rs.500 Sony PlayStation Network Wallet Top-Up (Email Delivery in 1 hour- Digital Voucher Code)\">Rs.500 Sony PlayStation Network Wallet Top…</div>\n",
       " </a><div class=\"a-row a-size-small\"><span class=\"a-size-small a-color-base\">Sony Interactive Entertainment…</span></div>\n",
       " <div class=\"a-icon-row a-spacing-none\">\n",
       " <a class=\"a-link-normal\" href=\"/product-reviews/B07K6PVXJZ/ref=zg_bs_videogames_cr_2/259-2952639-3601935?ie=UTF8&amp;refRID=H99TBA73694K1VH7EZGB\" title=\"4.7 out of 5 stars\">\n",
       " <i class=\"a-icon a-icon-star a-star-4-5 aok-align-top\"><span class=\"a-icon-alt\">4.7 out of 5 stars</span></i>\n",
       " </a>\n",
       " <a class=\"a-size-small a-link-normal\" href=\"/product-reviews/B07K6PVXJZ/ref=zg_bs_videogames_cr_2/259-2952639-3601935?ie=UTF8&amp;refRID=H99TBA73694K1VH7EZGB\">3,064</a>\n",
       " </div>\n",
       " <div class=\"a-row a-size-small\"><span class=\"a-size-small a-color-secondary\">PlayStation 4</span></div><div class=\"a-row\"><a class=\"a-link-normal a-text-normal\" href=\"/Sony-PlayStation-Network-Delivery-Digital/dp/B07K6PVXJZ/ref=zg_bs_videogames_2/259-2952639-3601935?_encoding=UTF8&amp;psc=1&amp;refRID=H99TBA73694K1VH7EZGB\"><span class=\"a-size-base a-color-price\"><span class=\"p13n-sc-price\">₹500.00</span></span></a> </div></span>,\n",
       " <span class=\"zg-text-center-align\"><div class=\"a-section a-spacing-small\"><img alt=\"Rs.500 Sony PlayStation Network Wallet Top-Up (Email Delivery in 1 hour- Digital Voucher Code)\" height=\"200\" src=\"https://images-eu.ssl-images-amazon.com/images/I/410erw8EwMS._AC_UL200_SR200,200_.jpg\" width=\"200\"/></div></span>,\n",
       " <span class=\"a-size-small a-color-base\">Sony Interactive Entertainment…</span>,\n",
       " <span class=\"a-icon-alt\">4.7 out of 5 stars</span>,\n",
       " <span class=\"a-size-small a-color-secondary\">PlayStation 4</span>,\n",
       " <span class=\"a-size-base a-color-price\"><span class=\"p13n-sc-price\">₹500.00</span></span>,\n",
       " <span class=\"p13n-sc-price\">₹500.00</span>]"
      ]
     },
     "execution_count": 44,
     "metadata": {},
     "output_type": "execute_result"
    }
   ],
   "source": [
    "data[1].select('span')[0].select('span')"
   ]
  },
  {
   "cell_type": "code",
   "execution_count": 34,
   "id": "24b8f267",
   "metadata": {},
   "outputs": [],
   "source": [
    "df = pd.DataFrame()\n",
    "start = len(df)\n",
    "for index,trial in enumerate(data):\n",
    "    df.loc[start+index,'Name'] = trial.select('span')[1].get_text()\n",
    "    df.loc[start+index,'reviews'] = trial.select('span')[3].get_text()\n",
    "    df.loc[start+index,'stars'] = trial.select('span')[2].get_text()\n",
    "    df.loc[start+index,'price'] = trial.select('span')[4].get_text()\n",
    "    df.loc[start+index,'link_in'] = trial.find('a',attrs={'class':'a-link-normal'}).get('href')\n",
    "end = len(df)"
   ]
  },
  {
   "cell_type": "code",
   "execution_count": 35,
   "id": "b2fcce6c",
   "metadata": {},
   "outputs": [
    {
     "data": {
      "text/html": [
       "<div>\n",
       "<style scoped>\n",
       "    .dataframe tbody tr th:only-of-type {\n",
       "        vertical-align: middle;\n",
       "    }\n",
       "\n",
       "    .dataframe tbody tr th {\n",
       "        vertical-align: top;\n",
       "    }\n",
       "\n",
       "    .dataframe thead th {\n",
       "        text-align: right;\n",
       "    }\n",
       "</style>\n",
       "<table border=\"1\" class=\"dataframe\">\n",
       "  <thead>\n",
       "    <tr style=\"text-align: right;\">\n",
       "      <th></th>\n",
       "      <th>Name</th>\n",
       "      <th>reviews</th>\n",
       "      <th>stars</th>\n",
       "      <th>price</th>\n",
       "      <th>link_in</th>\n",
       "    </tr>\n",
       "  </thead>\n",
       "  <tbody>\n",
       "    <tr>\n",
       "      <th>0</th>\n",
       "      <td>#1</td>\n",
       "      <td></td>\n",
       "      <td>#1</td>\n",
       "      <td>\\nAmazonBasics Extended Gaming Mouse Pad,Black...</td>\n",
       "      <td>/AmazonBasics-Extended-Gaming-Mouse-Black/dp/B...</td>\n",
       "    </tr>\n",
       "    <tr>\n",
       "      <th>1</th>\n",
       "      <td>#2</td>\n",
       "      <td></td>\n",
       "      <td>#2</td>\n",
       "      <td>\\nRs.500 Sony PlayStation Network Wallet Top…\\...</td>\n",
       "      <td>/Sony-PlayStation-Network-Delivery-Digital/dp/...</td>\n",
       "    </tr>\n",
       "    <tr>\n",
       "      <th>2</th>\n",
       "      <td>#3</td>\n",
       "      <td></td>\n",
       "      <td>#3</td>\n",
       "      <td>\\nRs.1000 Sony PlayStation Network Wallet Top…...</td>\n",
       "      <td>/Rs-1000-Sony-PlayStation-Network-Delivery/dp/...</td>\n",
       "    </tr>\n",
       "    <tr>\n",
       "      <th>3</th>\n",
       "      <td>#4</td>\n",
       "      <td></td>\n",
       "      <td>#4</td>\n",
       "      <td>\\nINR 250 Steam Wallet Code (Digital Code…\\nVa...</td>\n",
       "      <td>/Steam-Wallet-Digital-Delivery-within/dp/B0874...</td>\n",
       "    </tr>\n",
       "    <tr>\n",
       "      <th>4</th>\n",
       "      <td>#5</td>\n",
       "      <td></td>\n",
       "      <td>#5</td>\n",
       "      <td>\\nJBL Quantum 100, Wired Over Ear Gaming Headp...</td>\n",
       "      <td>/JBL-Quantum-Over-Ear-Headset-Detachable/dp/B0...</td>\n",
       "    </tr>\n",
       "    <tr>\n",
       "      <th>5</th>\n",
       "      <td>#6</td>\n",
       "      <td></td>\n",
       "      <td>#6</td>\n",
       "      <td>\\nCosmic Byte GS410 Wired Over-ear…\\nCosmic By...</td>\n",
       "      <td>/Cosmic-Byte-Headphones-Laptop-Android/dp/B074...</td>\n",
       "    </tr>\n",
       "    <tr>\n",
       "      <th>6</th>\n",
       "      <td>#7</td>\n",
       "      <td></td>\n",
       "      <td>#7</td>\n",
       "      <td>\\nRs.2000 Sony PlayStation Network Wallet Top…...</td>\n",
       "      <td>/Rs-2000-Sony-PlayStation-Network-Delivery/dp/...</td>\n",
       "    </tr>\n",
       "    <tr>\n",
       "      <th>7</th>\n",
       "      <td>#8</td>\n",
       "      <td></td>\n",
       "      <td>#8</td>\n",
       "      <td>\\nRs.1500 Sony PlayStation Network Wallet Top…...</td>\n",
       "      <td>/Rs-1500-Sony-PlayStation-Network-Delivery/dp/...</td>\n",
       "    </tr>\n",
       "    <tr>\n",
       "      <th>8</th>\n",
       "      <td>#9</td>\n",
       "      <td></td>\n",
       "      <td>#9</td>\n",
       "      <td>\\nFIFA 22 (PS4)\\nElectronic Arts\\n\\n\\n4.6 out ...</td>\n",
       "      <td>/Electronic-Arts-FIFA-22-PS4/dp/B0999ZP8G6/ref...</td>\n",
       "    </tr>\n",
       "    <tr>\n",
       "      <th>9</th>\n",
       "      <td>#10</td>\n",
       "      <td></td>\n",
       "      <td>#10</td>\n",
       "      <td>\\nXbox One Series S\\nXbox\\n\\n\\n4.8 out of 5 st...</td>\n",
       "      <td>/Xbox-Series-S/dp/B08J89D6BW/ref=zg_bs_videoga...</td>\n",
       "    </tr>\n",
       "    <tr>\n",
       "      <th>10</th>\n",
       "      <td>#11</td>\n",
       "      <td></td>\n",
       "      <td>#11</td>\n",
       "      <td>\\nGrand Theft Auto V - Premium Edition (PS4)\\n...</td>\n",
       "      <td>/Grand-Theft-V-Premium-PS4/dp/B07D381RDJ/ref=z...</td>\n",
       "    </tr>\n",
       "    <tr>\n",
       "      <th>11</th>\n",
       "      <td>#12</td>\n",
       "      <td></td>\n",
       "      <td>#12</td>\n",
       "      <td>\\nSony Marvel's Spider-Man G.O.T.Y Ps4\\nSony\\n...</td>\n",
       "      <td>/Marvels-Spider-Man-PS4-Game/dp/B07X23YRCS/ref...</td>\n",
       "    </tr>\n",
       "    <tr>\n",
       "      <th>12</th>\n",
       "      <td>#13</td>\n",
       "      <td></td>\n",
       "      <td>#13</td>\n",
       "      <td>\\nRs.4000 Sony PlayStation Network Wallet Top…...</td>\n",
       "      <td>/Rs-4000-Sony-PlayStation-Network-Delivery/dp/...</td>\n",
       "    </tr>\n",
       "    <tr>\n",
       "      <th>13</th>\n",
       "      <td>#14</td>\n",
       "      <td></td>\n",
       "      <td>#14</td>\n",
       "      <td>\\nJBL Quantum 100, Wired Over Ear Gaming Heads...</td>\n",
       "      <td>/JBL-Quantum-Over-Ear-Headset-Detachable/dp/B0...</td>\n",
       "    </tr>\n",
       "    <tr>\n",
       "      <th>14</th>\n",
       "      <td>#15</td>\n",
       "      <td></td>\n",
       "      <td>#15</td>\n",
       "      <td>\\nSony Uncharted Collection Hits (PS4)\\nSony\\n...</td>\n",
       "      <td>/Sony-Uncharted-Collection-Hits-PS4/dp/B07M5V1...</td>\n",
       "    </tr>\n",
       "    <tr>\n",
       "      <th>15</th>\n",
       "      <td>#16</td>\n",
       "      <td></td>\n",
       "      <td>#16</td>\n",
       "      <td>\\nUncharted: The Lost Legacy (PS4)\\nSony\\n\\n\\n...</td>\n",
       "      <td>/Uncharted-The-Lost-Legacy-PS4/dp/B01LTI9IEA/r...</td>\n",
       "    </tr>\n",
       "    <tr>\n",
       "      <th>16</th>\n",
       "      <td>#17</td>\n",
       "      <td></td>\n",
       "      <td>#17</td>\n",
       "      <td>\\nPlayStation Wallet Top Up INR 670 (PS4)\\nSon...</td>\n",
       "      <td>/Sony-PlayStation-Network-Wallet-Top-Up/dp/B08...</td>\n",
       "    </tr>\n",
       "    <tr>\n",
       "      <th>17</th>\n",
       "      <td>#18</td>\n",
       "      <td></td>\n",
       "      <td>#18</td>\n",
       "      <td>\\nSony PS4 God of War (Playstation 4)\\nSony\\n\\...</td>\n",
       "      <td>/PS4-God-of-War/dp/B07YQ73Y8T/ref=zg_bs_videog...</td>\n",
       "    </tr>\n",
       "    <tr>\n",
       "      <th>18</th>\n",
       "      <td>#19</td>\n",
       "      <td></td>\n",
       "      <td>#19</td>\n",
       "      <td>\\nINR 500 Steam Wallet Code (Digital Code- Ema...</td>\n",
       "      <td>/Steam-Wallet-Digital-Delivery-within/dp/B0874...</td>\n",
       "    </tr>\n",
       "    <tr>\n",
       "      <th>19</th>\n",
       "      <td>#20</td>\n",
       "      <td></td>\n",
       "      <td>#20</td>\n",
       "      <td>\\nHyperX Cloud Stinger Core - Gaming Headset f...</td>\n",
       "      <td>/HyperX-HX-HSCSC-BK-Stinger-Gaming-Headset/dp/...</td>\n",
       "    </tr>\n",
       "    <tr>\n",
       "      <th>20</th>\n",
       "      <td>#21</td>\n",
       "      <td></td>\n",
       "      <td>#21</td>\n",
       "      <td>\\nRs.3000 Sony PlayStation Network Wallet Top…...</td>\n",
       "      <td>/Rs-3000-Sony-PlayStation-Network-Delivery/dp/...</td>\n",
       "    </tr>\n",
       "    <tr>\n",
       "      <th>21</th>\n",
       "      <td>#22</td>\n",
       "      <td></td>\n",
       "      <td>#22</td>\n",
       "      <td>\\nRs.2500 Sony PlayStation Network Wallet Top…...</td>\n",
       "      <td>/Rs-2500-Sony-PlayStation-Network-Delivery/dp/...</td>\n",
       "    </tr>\n",
       "    <tr>\n",
       "      <th>22</th>\n",
       "      <td>#23</td>\n",
       "      <td></td>\n",
       "      <td>#23</td>\n",
       "      <td>\\nEKSA T8 PS4 Headset Gaming Headphone with No...</td>\n",
       "      <td>/EKSA-T8-Headphones-Controller-Cancelling/dp/B...</td>\n",
       "    </tr>\n",
       "    <tr>\n",
       "      <th>23</th>\n",
       "      <td>#24</td>\n",
       "      <td></td>\n",
       "      <td>#24</td>\n",
       "      <td>\\nCall of Duty: Infinite Warfare (PS4)\\nACTIVI...</td>\n",
       "      <td>/Call-Duty-Infinite-Warfare-PS4/dp/B01JG2VZFQ/...</td>\n",
       "    </tr>\n",
       "    <tr>\n",
       "      <th>24</th>\n",
       "      <td>#25</td>\n",
       "      <td></td>\n",
       "      <td>#25</td>\n",
       "      <td>\\nAmazonBasics Gaming Mouse Pad,Black\\n\\n\\n\\n4...</td>\n",
       "      <td>/AmazonBasics-Gaming-Mouse-Pad-Black/dp/B06X3W...</td>\n",
       "    </tr>\n",
       "    <tr>\n",
       "      <th>25</th>\n",
       "      <td>#26</td>\n",
       "      <td></td>\n",
       "      <td>#26</td>\n",
       "      <td>\\nSony Uncharted 4 TE Hit (PS4)\\nSony\\n\\n\\n4.7...</td>\n",
       "      <td>/Uncharted-Thiefs-Playstation-Newer-Version/dp...</td>\n",
       "    </tr>\n",
       "    <tr>\n",
       "      <th>26</th>\n",
       "      <td>#27</td>\n",
       "      <td></td>\n",
       "      <td>#27</td>\n",
       "      <td>\\nRed Dead Redemption - 2 (PS4)\\nROCKSTAR GAME...</td>\n",
       "      <td>/Red-Dead-Redemption-2-PS4/dp/B07BFGGNT9/ref=z...</td>\n",
       "    </tr>\n",
       "    <tr>\n",
       "      <th>27</th>\n",
       "      <td>#28</td>\n",
       "      <td></td>\n",
       "      <td>#28</td>\n",
       "      <td>\\nMinecraft Java Edition PC Gift Redeem Code…\\...</td>\n",
       "      <td>/Minecraft-Java-Download-Code-Only/dp/B07VMXV8...</td>\n",
       "    </tr>\n",
       "    <tr>\n",
       "      <th>28</th>\n",
       "      <td>#29</td>\n",
       "      <td></td>\n",
       "      <td>#29</td>\n",
       "      <td>\\nPS4 Marvel's Spider-Man: Miles Morales (PS4)...</td>\n",
       "      <td>/PS4-Marvels-Spider-Man-Miles-Morales/dp/B08LF...</td>\n",
       "    </tr>\n",
       "    <tr>\n",
       "      <th>29</th>\n",
       "      <td>#30</td>\n",
       "      <td></td>\n",
       "      <td>#30</td>\n",
       "      <td>\\nHyperX Cloud Stinger Wired Over Ear Gamming ...</td>\n",
       "      <td>/HyperX-Cloud-Stinger-Gaming-Headset/dp/B01LWN...</td>\n",
       "    </tr>\n",
       "    <tr>\n",
       "      <th>30</th>\n",
       "      <td>#31</td>\n",
       "      <td></td>\n",
       "      <td>#31</td>\n",
       "      <td>\\nFIFA 21 Standard Edition (Free PS5 Upgrade)\\...</td>\n",
       "      <td>/FIFA-21-Standard-Edition-PS4/dp/B08BJ6LMMN/re...</td>\n",
       "    </tr>\n",
       "    <tr>\n",
       "      <th>31</th>\n",
       "      <td>#32</td>\n",
       "      <td></td>\n",
       "      <td>#32</td>\n",
       "      <td>\\nRs.4500 Sony PlayStation Network Wallet Top…...</td>\n",
       "      <td>/Rs-4500-Sony-PlayStation-Network-Delivery/dp/...</td>\n",
       "    </tr>\n",
       "    <tr>\n",
       "      <th>32</th>\n",
       "      <td>#33</td>\n",
       "      <td></td>\n",
       "      <td>#33</td>\n",
       "      <td>\\nApple - App Store Code - For India - Deliver...</td>\n",
       "      <td>/Apple-App-Store-Code-Delivered/dp/B09JNZQDKT/...</td>\n",
       "    </tr>\n",
       "    <tr>\n",
       "      <th>33</th>\n",
       "      <td>#34</td>\n",
       "      <td></td>\n",
       "      <td>#34</td>\n",
       "      <td>\\nRs.3500 Sony PlayStation Network Wallet Top…...</td>\n",
       "      <td>/Rs-3500-Sony-PlayStation-Network-Delivery/dp/...</td>\n",
       "    </tr>\n",
       "    <tr>\n",
       "      <th>34</th>\n",
       "      <td>#35</td>\n",
       "      <td></td>\n",
       "      <td>#35</td>\n",
       "      <td>\\nPS4 Horizon Forbidden West standard (PS4)\\nS...</td>\n",
       "      <td>/PS4-Horizon-Forbidden-West-standard/dp/B09FJY...</td>\n",
       "    </tr>\n",
       "    <tr>\n",
       "      <th>35</th>\n",
       "      <td>#36</td>\n",
       "      <td></td>\n",
       "      <td>#36</td>\n",
       "      <td>\\nRoblox Gift Card - 800 Robux Or 10$ Roblox…\\...</td>\n",
       "      <td>/Roblox-Gift-Card-Robux-Credit/dp/B09DCWHB7Q/r...</td>\n",
       "    </tr>\n",
       "    <tr>\n",
       "      <th>36</th>\n",
       "      <td>#37</td>\n",
       "      <td></td>\n",
       "      <td>#37</td>\n",
       "      <td>\\nRazer Kraken X Multi-Platform Wired Gaming H...</td>\n",
       "      <td>/Razer-Kraken-Ultralight-Gaming-Headset/dp/B07...</td>\n",
       "    </tr>\n",
       "    <tr>\n",
       "      <th>37</th>\n",
       "      <td>#38</td>\n",
       "      <td></td>\n",
       "      <td>#38</td>\n",
       "      <td>\\nSony PS4 Ghost of Tsushima (PS4)\\nSony\\n\\n\\n...</td>\n",
       "      <td>/PS4-Ghost-of-Tsushima/dp/B085LZSG6F/ref=zg_bs...</td>\n",
       "    </tr>\n",
       "    <tr>\n",
       "      <th>38</th>\n",
       "      <td>#39</td>\n",
       "      <td></td>\n",
       "      <td>#39</td>\n",
       "      <td>\\nSony The Last of Us Part II (PS4)\\nSony\\n\\n\\...</td>\n",
       "      <td>/PS4-Last-Us-Part-II/dp/B07YQ8JMSH/ref=zg_bs_v...</td>\n",
       "    </tr>\n",
       "    <tr>\n",
       "      <th>39</th>\n",
       "      <td>#40</td>\n",
       "      <td></td>\n",
       "      <td>#40</td>\n",
       "      <td>\\nNitho Drive Pro V16 Racing Wheel &amp; Pedal…\\nN...</td>\n",
       "      <td>/Nitho-Racing-MLT-DP16-K-Compatible-Switch/dp/...</td>\n",
       "    </tr>\n",
       "    <tr>\n",
       "      <th>40</th>\n",
       "      <td>#41</td>\n",
       "      <td></td>\n",
       "      <td>#41</td>\n",
       "      <td>\\nMicrosoft Xbox X/S Wireless Controller Robot...</td>\n",
       "      <td>/Xbox-Wireless-Controller-Robot-White/dp/B08K3...</td>\n",
       "    </tr>\n",
       "    <tr>\n",
       "      <th>41</th>\n",
       "      <td>#42</td>\n",
       "      <td></td>\n",
       "      <td>#42</td>\n",
       "      <td>\\nSony PS5 Marvel's Spiderman Miles Morales…\\n...</td>\n",
       "      <td>/PS5-Marvels-Spiderman-Miles-Morales/dp/B08RFC...</td>\n",
       "    </tr>\n",
       "    <tr>\n",
       "      <th>42</th>\n",
       "      <td>#43</td>\n",
       "      <td></td>\n",
       "      <td>#43</td>\n",
       "      <td>\\nPlayStation Plus: 12 Month Membership Card…\\...</td>\n",
       "      <td>/PlayStation-Plus-Membership-Delivery-Digital/...</td>\n",
       "    </tr>\n",
       "    <tr>\n",
       "      <th>43</th>\n",
       "      <td>#44</td>\n",
       "      <td></td>\n",
       "      <td>#44</td>\n",
       "      <td>\\nSony PS5 RATCHET &amp; CLANK: RIFT APART\\nSony\\n...</td>\n",
       "      <td>/PS5-RATCHET-CLANK-RIFT-APART/dp/B08WK5T3HY/re...</td>\n",
       "    </tr>\n",
       "    <tr>\n",
       "      <th>44</th>\n",
       "      <td>#45</td>\n",
       "      <td></td>\n",
       "      <td>#45</td>\n",
       "      <td>\\nPlayStation Plus: 1 Month Membership Card…\\n...</td>\n",
       "      <td>/PlayStation-Plus-Membership-Delivery-Digital/...</td>\n",
       "    </tr>\n",
       "    <tr>\n",
       "      <th>45</th>\n",
       "      <td>#46</td>\n",
       "      <td></td>\n",
       "      <td>#46</td>\n",
       "      <td>\\nPlayStation -PS4 WALLET TOP- UP 2000 IND…\\nS...</td>\n",
       "      <td>/PlayStation-PS4-WALLET-TOP-2000/dp/B082Y8STLL...</td>\n",
       "    </tr>\n",
       "    <tr>\n",
       "      <th>46</th>\n",
       "      <td>#47</td>\n",
       "      <td></td>\n",
       "      <td>#47</td>\n",
       "      <td>\\nMinecraft Java Edition PC Gift Card Code (No...</td>\n",
       "      <td>/Minecraft-Java-Gift-Card-Code/dp/B00FGFWBN8/r...</td>\n",
       "    </tr>\n",
       "    <tr>\n",
       "      <th>47</th>\n",
       "      <td>#48</td>\n",
       "      <td></td>\n",
       "      <td>#48</td>\n",
       "      <td>\\nSony The Last of US Hit (PS4)\\nSony\\n\\n\\n4.6...</td>\n",
       "      <td>/Last-US-Hit-PS4/dp/B07FXTHTNY/ref=zg_bs_video...</td>\n",
       "    </tr>\n",
       "    <tr>\n",
       "      <th>48</th>\n",
       "      <td>#49</td>\n",
       "      <td></td>\n",
       "      <td>#49</td>\n",
       "      <td>\\nTizum Z57 Large Felt Desk Mat Mouse Pad for ...</td>\n",
       "      <td>/Tizum-Z57-Office-Gaming-Pockets/dp/B07STCCX8J...</td>\n",
       "    </tr>\n",
       "    <tr>\n",
       "      <th>49</th>\n",
       "      <td>#50</td>\n",
       "      <td></td>\n",
       "      <td>#50</td>\n",
       "      <td>\\nPS4 Ghost of Tsushima Director's Cut (PS4)\\n...</td>\n",
       "      <td>/PS4-Ghost-Tsushima-Directors-Cut/dp/B099B7JN4...</td>\n",
       "    </tr>\n",
       "  </tbody>\n",
       "</table>\n",
       "</div>"
      ],
      "text/plain": [
       "   Name reviews stars                                              price  \\\n",
       "0    #1            #1  \\nAmazonBasics Extended Gaming Mouse Pad,Black...   \n",
       "1    #2            #2  \\nRs.500 Sony PlayStation Network Wallet Top…\\...   \n",
       "2    #3            #3  \\nRs.1000 Sony PlayStation Network Wallet Top…...   \n",
       "3    #4            #4  \\nINR 250 Steam Wallet Code (Digital Code…\\nVa...   \n",
       "4    #5            #5  \\nJBL Quantum 100, Wired Over Ear Gaming Headp...   \n",
       "5    #6            #6  \\nCosmic Byte GS410 Wired Over-ear…\\nCosmic By...   \n",
       "6    #7            #7  \\nRs.2000 Sony PlayStation Network Wallet Top…...   \n",
       "7    #8            #8  \\nRs.1500 Sony PlayStation Network Wallet Top…...   \n",
       "8    #9            #9  \\nFIFA 22 (PS4)\\nElectronic Arts\\n\\n\\n4.6 out ...   \n",
       "9   #10           #10  \\nXbox One Series S\\nXbox\\n\\n\\n4.8 out of 5 st...   \n",
       "10  #11           #11  \\nGrand Theft Auto V - Premium Edition (PS4)\\n...   \n",
       "11  #12           #12  \\nSony Marvel's Spider-Man G.O.T.Y Ps4\\nSony\\n...   \n",
       "12  #13           #13  \\nRs.4000 Sony PlayStation Network Wallet Top…...   \n",
       "13  #14           #14  \\nJBL Quantum 100, Wired Over Ear Gaming Heads...   \n",
       "14  #15           #15  \\nSony Uncharted Collection Hits (PS4)\\nSony\\n...   \n",
       "15  #16           #16  \\nUncharted: The Lost Legacy (PS4)\\nSony\\n\\n\\n...   \n",
       "16  #17           #17  \\nPlayStation Wallet Top Up INR 670 (PS4)\\nSon...   \n",
       "17  #18           #18  \\nSony PS4 God of War (Playstation 4)\\nSony\\n\\...   \n",
       "18  #19           #19  \\nINR 500 Steam Wallet Code (Digital Code- Ema...   \n",
       "19  #20           #20  \\nHyperX Cloud Stinger Core - Gaming Headset f...   \n",
       "20  #21           #21  \\nRs.3000 Sony PlayStation Network Wallet Top…...   \n",
       "21  #22           #22  \\nRs.2500 Sony PlayStation Network Wallet Top…...   \n",
       "22  #23           #23  \\nEKSA T8 PS4 Headset Gaming Headphone with No...   \n",
       "23  #24           #24  \\nCall of Duty: Infinite Warfare (PS4)\\nACTIVI...   \n",
       "24  #25           #25  \\nAmazonBasics Gaming Mouse Pad,Black\\n\\n\\n\\n4...   \n",
       "25  #26           #26  \\nSony Uncharted 4 TE Hit (PS4)\\nSony\\n\\n\\n4.7...   \n",
       "26  #27           #27  \\nRed Dead Redemption - 2 (PS4)\\nROCKSTAR GAME...   \n",
       "27  #28           #28  \\nMinecraft Java Edition PC Gift Redeem Code…\\...   \n",
       "28  #29           #29  \\nPS4 Marvel's Spider-Man: Miles Morales (PS4)...   \n",
       "29  #30           #30  \\nHyperX Cloud Stinger Wired Over Ear Gamming ...   \n",
       "30  #31           #31  \\nFIFA 21 Standard Edition (Free PS5 Upgrade)\\...   \n",
       "31  #32           #32  \\nRs.4500 Sony PlayStation Network Wallet Top…...   \n",
       "32  #33           #33  \\nApple - App Store Code - For India - Deliver...   \n",
       "33  #34           #34  \\nRs.3500 Sony PlayStation Network Wallet Top…...   \n",
       "34  #35           #35  \\nPS4 Horizon Forbidden West standard (PS4)\\nS...   \n",
       "35  #36           #36  \\nRoblox Gift Card - 800 Robux Or 10$ Roblox…\\...   \n",
       "36  #37           #37  \\nRazer Kraken X Multi-Platform Wired Gaming H...   \n",
       "37  #38           #38  \\nSony PS4 Ghost of Tsushima (PS4)\\nSony\\n\\n\\n...   \n",
       "38  #39           #39  \\nSony The Last of Us Part II (PS4)\\nSony\\n\\n\\...   \n",
       "39  #40           #40  \\nNitho Drive Pro V16 Racing Wheel & Pedal…\\nN...   \n",
       "40  #41           #41  \\nMicrosoft Xbox X/S Wireless Controller Robot...   \n",
       "41  #42           #42  \\nSony PS5 Marvel's Spiderman Miles Morales…\\n...   \n",
       "42  #43           #43  \\nPlayStation Plus: 12 Month Membership Card…\\...   \n",
       "43  #44           #44  \\nSony PS5 RATCHET & CLANK: RIFT APART\\nSony\\n...   \n",
       "44  #45           #45  \\nPlayStation Plus: 1 Month Membership Card…\\n...   \n",
       "45  #46           #46  \\nPlayStation -PS4 WALLET TOP- UP 2000 IND…\\nS...   \n",
       "46  #47           #47  \\nMinecraft Java Edition PC Gift Card Code (No...   \n",
       "47  #48           #48  \\nSony The Last of US Hit (PS4)\\nSony\\n\\n\\n4.6...   \n",
       "48  #49           #49  \\nTizum Z57 Large Felt Desk Mat Mouse Pad for ...   \n",
       "49  #50           #50  \\nPS4 Ghost of Tsushima Director's Cut (PS4)\\n...   \n",
       "\n",
       "                                              link_in  \n",
       "0   /AmazonBasics-Extended-Gaming-Mouse-Black/dp/B...  \n",
       "1   /Sony-PlayStation-Network-Delivery-Digital/dp/...  \n",
       "2   /Rs-1000-Sony-PlayStation-Network-Delivery/dp/...  \n",
       "3   /Steam-Wallet-Digital-Delivery-within/dp/B0874...  \n",
       "4   /JBL-Quantum-Over-Ear-Headset-Detachable/dp/B0...  \n",
       "5   /Cosmic-Byte-Headphones-Laptop-Android/dp/B074...  \n",
       "6   /Rs-2000-Sony-PlayStation-Network-Delivery/dp/...  \n",
       "7   /Rs-1500-Sony-PlayStation-Network-Delivery/dp/...  \n",
       "8   /Electronic-Arts-FIFA-22-PS4/dp/B0999ZP8G6/ref...  \n",
       "9   /Xbox-Series-S/dp/B08J89D6BW/ref=zg_bs_videoga...  \n",
       "10  /Grand-Theft-V-Premium-PS4/dp/B07D381RDJ/ref=z...  \n",
       "11  /Marvels-Spider-Man-PS4-Game/dp/B07X23YRCS/ref...  \n",
       "12  /Rs-4000-Sony-PlayStation-Network-Delivery/dp/...  \n",
       "13  /JBL-Quantum-Over-Ear-Headset-Detachable/dp/B0...  \n",
       "14  /Sony-Uncharted-Collection-Hits-PS4/dp/B07M5V1...  \n",
       "15  /Uncharted-The-Lost-Legacy-PS4/dp/B01LTI9IEA/r...  \n",
       "16  /Sony-PlayStation-Network-Wallet-Top-Up/dp/B08...  \n",
       "17  /PS4-God-of-War/dp/B07YQ73Y8T/ref=zg_bs_videog...  \n",
       "18  /Steam-Wallet-Digital-Delivery-within/dp/B0874...  \n",
       "19  /HyperX-HX-HSCSC-BK-Stinger-Gaming-Headset/dp/...  \n",
       "20  /Rs-3000-Sony-PlayStation-Network-Delivery/dp/...  \n",
       "21  /Rs-2500-Sony-PlayStation-Network-Delivery/dp/...  \n",
       "22  /EKSA-T8-Headphones-Controller-Cancelling/dp/B...  \n",
       "23  /Call-Duty-Infinite-Warfare-PS4/dp/B01JG2VZFQ/...  \n",
       "24  /AmazonBasics-Gaming-Mouse-Pad-Black/dp/B06X3W...  \n",
       "25  /Uncharted-Thiefs-Playstation-Newer-Version/dp...  \n",
       "26  /Red-Dead-Redemption-2-PS4/dp/B07BFGGNT9/ref=z...  \n",
       "27  /Minecraft-Java-Download-Code-Only/dp/B07VMXV8...  \n",
       "28  /PS4-Marvels-Spider-Man-Miles-Morales/dp/B08LF...  \n",
       "29  /HyperX-Cloud-Stinger-Gaming-Headset/dp/B01LWN...  \n",
       "30  /FIFA-21-Standard-Edition-PS4/dp/B08BJ6LMMN/re...  \n",
       "31  /Rs-4500-Sony-PlayStation-Network-Delivery/dp/...  \n",
       "32  /Apple-App-Store-Code-Delivered/dp/B09JNZQDKT/...  \n",
       "33  /Rs-3500-Sony-PlayStation-Network-Delivery/dp/...  \n",
       "34  /PS4-Horizon-Forbidden-West-standard/dp/B09FJY...  \n",
       "35  /Roblox-Gift-Card-Robux-Credit/dp/B09DCWHB7Q/r...  \n",
       "36  /Razer-Kraken-Ultralight-Gaming-Headset/dp/B07...  \n",
       "37  /PS4-Ghost-of-Tsushima/dp/B085LZSG6F/ref=zg_bs...  \n",
       "38  /PS4-Last-Us-Part-II/dp/B07YQ8JMSH/ref=zg_bs_v...  \n",
       "39  /Nitho-Racing-MLT-DP16-K-Compatible-Switch/dp/...  \n",
       "40  /Xbox-Wireless-Controller-Robot-White/dp/B08K3...  \n",
       "41  /PS5-Marvels-Spiderman-Miles-Morales/dp/B08RFC...  \n",
       "42  /PlayStation-Plus-Membership-Delivery-Digital/...  \n",
       "43  /PS5-RATCHET-CLANK-RIFT-APART/dp/B08WK5T3HY/re...  \n",
       "44  /PlayStation-Plus-Membership-Delivery-Digital/...  \n",
       "45  /PlayStation-PS4-WALLET-TOP-2000/dp/B082Y8STLL...  \n",
       "46  /Minecraft-Java-Gift-Card-Code/dp/B00FGFWBN8/r...  \n",
       "47  /Last-US-Hit-PS4/dp/B07FXTHTNY/ref=zg_bs_video...  \n",
       "48  /Tizum-Z57-Office-Gaming-Pockets/dp/B07STCCX8J...  \n",
       "49  /PS4-Ghost-Tsushima-Directors-Cut/dp/B099B7JN4...  "
      ]
     },
     "execution_count": 35,
     "metadata": {},
     "output_type": "execute_result"
    }
   ],
   "source": [
    "df"
   ]
  },
  {
   "cell_type": "code",
   "execution_count": 17,
   "id": "f76e17a4",
   "metadata": {},
   "outputs": [
    {
     "name": "stdout",
     "output_type": "stream",
     "text": [
      "Total data got is 0\n"
     ]
    }
   ],
   "source": [
    "stor_dataframe = pd.DataFrame()\n",
    "get_pagelevel_data(firstpage,stor_dataframe)"
   ]
  },
  {
   "cell_type": "code",
   "execution_count": 13,
   "id": "ee838379",
   "metadata": {},
   "outputs": [
    {
     "name": "stderr",
     "output_type": "stream",
     "text": [
      "C:\\WorkFiles\\WPy64-37120\\pypy3.7-v7.3.7-win64\\site-packages\\ipykernel_launcher.py:3: DeprecationWarning: find_element_by_* commands are deprecated. Please use find_element() instead\n",
      "  This is separate from the ipykernel package so we can avoid doing imports until\n"
     ]
    },
    {
     "name": "stdout",
     "output_type": "stream",
     "text": [
      "Total data got is 0\n",
      "This url contains 2 pages\n",
      "Moving to 2 page for scraping\n"
     ]
    },
    {
     "name": "stderr",
     "output_type": "stream",
     "text": [
      "C:\\WorkFiles\\WPy64-37120\\pypy3.7-v7.3.7-win64\\site-packages\\ipykernel_launcher.py:15: DeprecationWarning: find_element_by_* commands are deprecated. Please use find_element() instead\n",
      "  from ipykernel import kernelapp as app\n"
     ]
    },
    {
     "name": "stdout",
     "output_type": "stream",
     "text": [
      "Total data got is 0\n",
      "ending crawler for https://www.amazon.in/gp/bestsellers/videogames and returning payload\n",
      "Links collected is 0 and quitting driver\n"
     ]
    }
   ],
   "source": [
    "vid_games = crawler(vid_url)"
   ]
  },
  {
   "cell_type": "code",
   "execution_count": 10,
   "id": "1ee1f8b7",
   "metadata": {},
   "outputs": [
    {
     "data": {
      "text/html": [
       "<div>\n",
       "<style scoped>\n",
       "    .dataframe tbody tr th:only-of-type {\n",
       "        vertical-align: middle;\n",
       "    }\n",
       "\n",
       "    .dataframe tbody tr th {\n",
       "        vertical-align: top;\n",
       "    }\n",
       "\n",
       "    .dataframe thead th {\n",
       "        text-align: right;\n",
       "    }\n",
       "</style>\n",
       "<table border=\"1\" class=\"dataframe\">\n",
       "  <thead>\n",
       "    <tr style=\"text-align: right;\">\n",
       "      <th></th>\n",
       "    </tr>\n",
       "  </thead>\n",
       "  <tbody>\n",
       "  </tbody>\n",
       "</table>\n",
       "</div>"
      ],
      "text/plain": [
       "Empty DataFrame\n",
       "Columns: []\n",
       "Index: []"
      ]
     },
     "execution_count": 10,
     "metadata": {},
     "output_type": "execute_result"
    }
   ],
   "source": [
    "vid_games.head()"
   ]
  },
  {
   "cell_type": "markdown",
   "id": "6a31d193",
   "metadata": {},
   "source": [
    "Next step is to join the URLs and get the product level details. \n",
    "\n",
    "Join the link of each product, by creating the function for that purpose and send the created dataframe\n",
    "\n",
    "scrape the product page of the information\n",
    "\n",
    "store it back in the initial dataframe itself"
   ]
  },
  {
   "cell_type": "code",
   "execution_count": 11,
   "id": "939d746b",
   "metadata": {},
   "outputs": [],
   "source": [
    "#creating full_linkins for products\n",
    "def f_link_create(df):\n",
    "    for index,links in enumerate(df.link_in):\n",
    "        #print(links)\n",
    "        df.loc[index,'f_link'] = urljoin('https://www.amazon.in/',links)\n",
    "\n",
    "    return df"
   ]
  },
  {
   "cell_type": "code",
   "execution_count": 12,
   "id": "ccb714ef",
   "metadata": {},
   "outputs": [
    {
     "ename": "AttributeError",
     "evalue": "'DataFrame' object has no attribute 'link_in'",
     "output_type": "error",
     "traceback": [
      "\u001b[1;31m---------------------------------------------------------------------------\u001b[0m",
      "\u001b[1;31mAttributeError\u001b[0m                            Traceback (most recent call last)",
      "\u001b[1;32mC:\\Users\\D30001~1\\AppData\\Local\\Temp/ipykernel_15132/163071742.py\u001b[0m in \u001b[0;36m<module>\u001b[1;34m\u001b[0m\n\u001b[1;32m----> 1\u001b[1;33m \u001b[0mvid_games\u001b[0m \u001b[1;33m=\u001b[0m \u001b[0mf_link_create\u001b[0m\u001b[1;33m(\u001b[0m\u001b[0mvid_games\u001b[0m\u001b[1;33m)\u001b[0m\u001b[1;33m\u001b[0m\u001b[1;33m\u001b[0m\u001b[0m\n\u001b[0m",
      "\u001b[1;32mC:\\Users\\D30001~1\\AppData\\Local\\Temp/ipykernel_15132/3133996171.py\u001b[0m in \u001b[0;36mf_link_create\u001b[1;34m(df)\u001b[0m\n\u001b[0;32m      1\u001b[0m \u001b[1;31m#creating full_linkins for products\u001b[0m\u001b[1;33m\u001b[0m\u001b[1;33m\u001b[0m\u001b[1;33m\u001b[0m\u001b[0m\n\u001b[0;32m      2\u001b[0m \u001b[1;32mdef\u001b[0m \u001b[0mf_link_create\u001b[0m\u001b[1;33m(\u001b[0m\u001b[0mdf\u001b[0m\u001b[1;33m)\u001b[0m\u001b[1;33m:\u001b[0m\u001b[1;33m\u001b[0m\u001b[1;33m\u001b[0m\u001b[0m\n\u001b[1;32m----> 3\u001b[1;33m     \u001b[1;32mfor\u001b[0m \u001b[0mindex\u001b[0m\u001b[1;33m,\u001b[0m\u001b[0mlinks\u001b[0m \u001b[1;32min\u001b[0m \u001b[0menumerate\u001b[0m\u001b[1;33m(\u001b[0m\u001b[0mdf\u001b[0m\u001b[1;33m.\u001b[0m\u001b[0mlink_in\u001b[0m\u001b[1;33m)\u001b[0m\u001b[1;33m:\u001b[0m\u001b[1;33m\u001b[0m\u001b[1;33m\u001b[0m\u001b[0m\n\u001b[0m\u001b[0;32m      4\u001b[0m         \u001b[1;31m#print(links)\u001b[0m\u001b[1;33m\u001b[0m\u001b[1;33m\u001b[0m\u001b[1;33m\u001b[0m\u001b[0m\n\u001b[0;32m      5\u001b[0m         \u001b[0mdf\u001b[0m\u001b[1;33m.\u001b[0m\u001b[0mloc\u001b[0m\u001b[1;33m[\u001b[0m\u001b[0mindex\u001b[0m\u001b[1;33m,\u001b[0m\u001b[1;34m'f_link'\u001b[0m\u001b[1;33m]\u001b[0m \u001b[1;33m=\u001b[0m \u001b[0murljoin\u001b[0m\u001b[1;33m(\u001b[0m\u001b[1;34m'https://www.amazon.in/'\u001b[0m\u001b[1;33m,\u001b[0m\u001b[0mlinks\u001b[0m\u001b[1;33m)\u001b[0m\u001b[1;33m\u001b[0m\u001b[1;33m\u001b[0m\u001b[0m\n",
      "\u001b[1;32mC:\\WorkFiles\\WPy64-37120\\pypy3.7-v7.3.7-win64\\site-packages\\pandas\\core\\generic.py\u001b[0m in \u001b[0;36m__getattr__\u001b[1;34m(self, name)\u001b[0m\n\u001b[0;32m   5463\u001b[0m             \u001b[1;32mif\u001b[0m \u001b[0mself\u001b[0m\u001b[1;33m.\u001b[0m\u001b[0m_info_axis\u001b[0m\u001b[1;33m.\u001b[0m\u001b[0m_can_hold_identifiers_and_holds_name\u001b[0m\u001b[1;33m(\u001b[0m\u001b[0mname\u001b[0m\u001b[1;33m)\u001b[0m\u001b[1;33m:\u001b[0m\u001b[1;33m\u001b[0m\u001b[1;33m\u001b[0m\u001b[0m\n\u001b[0;32m   5464\u001b[0m                 \u001b[1;32mreturn\u001b[0m \u001b[0mself\u001b[0m\u001b[1;33m[\u001b[0m\u001b[0mname\u001b[0m\u001b[1;33m]\u001b[0m\u001b[1;33m\u001b[0m\u001b[1;33m\u001b[0m\u001b[0m\n\u001b[1;32m-> 5465\u001b[1;33m             \u001b[1;32mreturn\u001b[0m \u001b[0mobject\u001b[0m\u001b[1;33m.\u001b[0m\u001b[0m__getattribute__\u001b[0m\u001b[1;33m(\u001b[0m\u001b[0mself\u001b[0m\u001b[1;33m,\u001b[0m \u001b[0mname\u001b[0m\u001b[1;33m)\u001b[0m\u001b[1;33m\u001b[0m\u001b[1;33m\u001b[0m\u001b[0m\n\u001b[0m\u001b[0;32m   5466\u001b[0m \u001b[1;33m\u001b[0m\u001b[0m\n\u001b[0;32m   5467\u001b[0m     \u001b[1;32mdef\u001b[0m \u001b[0m__setattr__\u001b[0m\u001b[1;33m(\u001b[0m\u001b[0mself\u001b[0m\u001b[1;33m,\u001b[0m \u001b[0mname\u001b[0m\u001b[1;33m:\u001b[0m \u001b[0mstr\u001b[0m\u001b[1;33m,\u001b[0m \u001b[0mvalue\u001b[0m\u001b[1;33m)\u001b[0m \u001b[1;33m->\u001b[0m \u001b[1;32mNone\u001b[0m\u001b[1;33m:\u001b[0m\u001b[1;33m\u001b[0m\u001b[1;33m\u001b[0m\u001b[0m\n",
      "\u001b[1;31mAttributeError\u001b[0m: 'DataFrame' object has no attribute 'link_in'"
     ]
    }
   ],
   "source": [
    "vid_games = f_link_create(vid_games)"
   ]
  },
  {
   "cell_type": "code",
   "execution_count": 192,
   "id": "6a84fa9b",
   "metadata": {},
   "outputs": [],
   "source": [
    "def crawler_product(page_url,df,indexF):\n",
    "    driver = webdriver.Chrome()\n",
    "    driver.get(page_url)\n",
    "    driver.maximize_window()\n",
    "    prod_soup = driver.page_source\n",
    "    prod_nugs = BeautifulSoup(prod_soup,'html.parser')\n",
    "   \n",
    "    #Populating the dataframe directly with the below commands. The details were found using \n",
    "    table_prod_1 = prod_nugs.find('table',attrs={'id':'productDetails_techSpec_section_1'})\n",
    "    table_prod_2 = prod_nugs.find('table',attrs={'id':'productDetails_detailBullets_sections1'})\n",
    "    review_table = prod_nugs.find_all('table',attrs={'id':'histogramTable'})[1]\n",
    "    if table_prod_1 == None or table_prod_2 == None :\n",
    "        review_table = prod_nugs.find_all('table',attrs={'id':'histogramTable'})[1]\n",
    "            #Scraping of the data from the tables\n",
    "        df.loc[indexF,'brand'] = 'voucher_or_program'\n",
    "        df.loc[indexF,'color'] = 'voucher_or_program'\n",
    "        df.loc[indexF,'Pdt_dimension'] = 'voucher_or_program'\n",
    "        df.loc[indexF,'Weight'] = 'voucher_or_program'\n",
    "        df.loc[indexF,'origin'] = 'voucher_or_program'\n",
    "        df.loc[indexF,'ASIN'] = 'voucher_or_program'\n",
    "        df.loc[indexF,'category'] = 'voucher_or_program'\n",
    "        df.loc[indexF,'5Star'] = review_table.find_all('tr')[0].find_all('span',attrs={'class':'a-size-base'})[1].get_text().strip()\n",
    "        df.loc[indexF,'4Star'] = review_table.find_all('tr')[1].find_all('span',attrs={'class':'a-size-base'})[1].get_text().strip()\n",
    "        df.loc[indexF,'3Star'] = review_table.find_all('tr')[2].find_all('span',attrs={'class':'a-size-base'})[1].get_text().strip()\n",
    "        df.loc[indexF,'2Star'] = review_table.find_all('tr')[3].find_all('span',attrs={'class':'a-size-base'})[1].get_text().strip()\n",
    "        df.loc[indexF,'1Star'] = review_table.find_all('tr')[4].find_all('span',attrs={'class':'a-size-base'})[1].get_text().strip()\n",
    "    else:\n",
    "        #Scraping of the data from the tables\n",
    "        df.loc[indexF,'brand'] = table_prod_1.find_all('td')[0].get_text().strip()\n",
    "        df.loc[indexF,'color'] = table_prod_1.find_all('td')[2].get_text().strip()\n",
    "        df.loc[indexF,'Pdt_dimension'] = table_prod_2.find_all('td')[-2].get_text().strip()\n",
    "        df.loc[indexF,'Weight'] = table_prod_2.find_all('td')[-1].get_text().strip()\n",
    "        df.loc[indexF,'origin'] = table_prod_1.find_all('td')[-1].get_text().strip()\n",
    "        df.loc[indexF,'ASIN'] = table_prod_2.find_all('td')[0].get_text().strip()\n",
    "        df.loc[indexF,'category'] = table_prod_2.find_all('td')[-1].get_text().strip()\n",
    "        df.loc[indexF,'5Star'] = review_table.find_all('tr')[0].find_all('span',attrs={'class':'a-size-base'})[1].get_text().strip()\n",
    "        df.loc[indexF,'4Star'] = review_table.find_all('tr')[1].find_all('span',attrs={'class':'a-size-base'})[1].get_text().strip()\n",
    "        df.loc[indexF,'3Star'] = review_table.find_all('tr')[2].find_all('span',attrs={'class':'a-size-base'})[1].get_text().strip()\n",
    "        df.loc[indexF,'2Star'] = review_table.find_all('tr')[3].find_all('span',attrs={'class':'a-size-base'})[1].get_text().strip()\n",
    "        df.loc[indexF,'1Star'] = review_table.find_all('tr')[4].find_all('span',attrs={'class':'a-size-base'})[1].get_text().strip()\n",
    "    \n",
    "    print('Completed the data collection')\n",
    "    driver.quit()"
   ]
  },
  {
   "cell_type": "code",
   "execution_count": 200,
   "id": "140faeaa",
   "metadata": {},
   "outputs": [
    {
     "name": "stdout",
     "output_type": "stream",
     "text": [
      "Completed the data collection\n",
      "Completed the data collection\n",
      "Completed the data collection\n",
      "Completed the data collection\n",
      "Completed the data collection\n",
      "Completed the data collection\n"
     ]
    }
   ],
   "source": [
    "for indexF,prod_link in enumerate(vid_games.f_link[94:]):\n",
    "    crawler_product(prod_link,vid_games,indexF)"
   ]
  },
  {
   "cell_type": "code",
   "execution_count": 187,
   "id": "95d76b00",
   "metadata": {},
   "outputs": [
    {
     "data": {
      "text/plain": [
       "'66%'"
      ]
     },
     "execution_count": 187,
     "metadata": {},
     "output_type": "execute_result"
    }
   ],
   "source": [
    "review_table.find_all('tr')[0].find_all('span',attrs={'class':'a-size-base'})[1].get_text().strip()"
   ]
  },
  {
   "cell_type": "code",
   "execution_count": 201,
   "id": "124d3ef2",
   "metadata": {},
   "outputs": [
    {
     "data": {
      "text/html": [
       "<div>\n",
       "<style scoped>\n",
       "    .dataframe tbody tr th:only-of-type {\n",
       "        vertical-align: middle;\n",
       "    }\n",
       "\n",
       "    .dataframe tbody tr th {\n",
       "        vertical-align: top;\n",
       "    }\n",
       "\n",
       "    .dataframe thead th {\n",
       "        text-align: right;\n",
       "    }\n",
       "</style>\n",
       "<table border=\"1\" class=\"dataframe\">\n",
       "  <thead>\n",
       "    <tr style=\"text-align: right;\">\n",
       "      <th></th>\n",
       "      <th>Name</th>\n",
       "      <th>reviews</th>\n",
       "      <th>stars</th>\n",
       "      <th>price</th>\n",
       "      <th>link_in</th>\n",
       "      <th>f_link</th>\n",
       "      <th>brand</th>\n",
       "      <th>color</th>\n",
       "      <th>Pdt_dimension</th>\n",
       "      <th>Weight</th>\n",
       "      <th>origin</th>\n",
       "      <th>ASIN</th>\n",
       "      <th>category</th>\n",
       "      <th>5Star</th>\n",
       "      <th>4Star</th>\n",
       "      <th>3Star</th>\n",
       "      <th>2Star</th>\n",
       "      <th>1Star</th>\n",
       "    </tr>\n",
       "  </thead>\n",
       "  <tbody>\n",
       "    <tr>\n",
       "      <th>94</th>\n",
       "      <td>Sony Horizon: Zero Dawn - Complete Edition (Pl...</td>\n",
       "      <td>4.5 out of 5 stars</td>\n",
       "      <td>Sony</td>\n",
       "      <td>1,528</td>\n",
       "      <td>/Horizon-Zero-Dawn-Complete-PS4/dp/B07D2NY7RW/...</td>\n",
       "      <td>https://www.amazon.in/Horizon-Zero-Dawn-Comple...</td>\n",
       "      <td>NaN</td>\n",
       "      <td>NaN</td>\n",
       "      <td>NaN</td>\n",
       "      <td>NaN</td>\n",
       "      <td>NaN</td>\n",
       "      <td>NaN</td>\n",
       "      <td>NaN</td>\n",
       "      <td>NaN</td>\n",
       "      <td>NaN</td>\n",
       "      <td>NaN</td>\n",
       "      <td>NaN</td>\n",
       "      <td>NaN</td>\n",
       "    </tr>\n",
       "    <tr>\n",
       "      <th>95</th>\n",
       "      <td>Cosmic Byte GS410 Headphones with Mic and for ...</td>\n",
       "      <td>4.1 out of 5 stars</td>\n",
       "      <td>Cosmic Byte</td>\n",
       "      <td>18,705</td>\n",
       "      <td>/Cosmic-Byte-GS410-Headphones-Grey/dp/B07K7XRJ...</td>\n",
       "      <td>https://www.amazon.in/Cosmic-Byte-GS410-Headph...</td>\n",
       "      <td>NaN</td>\n",
       "      <td>NaN</td>\n",
       "      <td>NaN</td>\n",
       "      <td>NaN</td>\n",
       "      <td>NaN</td>\n",
       "      <td>NaN</td>\n",
       "      <td>NaN</td>\n",
       "      <td>NaN</td>\n",
       "      <td>NaN</td>\n",
       "      <td>NaN</td>\n",
       "      <td>NaN</td>\n",
       "      <td>NaN</td>\n",
       "    </tr>\n",
       "    <tr>\n",
       "      <th>96</th>\n",
       "      <td>Microsoft Xbox Series X/S Wireless Controller ...</td>\n",
       "      <td>4.3 out of 5 stars</td>\n",
       "      <td>Microsoft</td>\n",
       "      <td>255</td>\n",
       "      <td>/Microsoft-Wireless-Controller-USB-C-Cable/dp/...</td>\n",
       "      <td>https://www.amazon.in/Microsoft-Wireless-Contr...</td>\n",
       "      <td>NaN</td>\n",
       "      <td>NaN</td>\n",
       "      <td>NaN</td>\n",
       "      <td>NaN</td>\n",
       "      <td>NaN</td>\n",
       "      <td>NaN</td>\n",
       "      <td>NaN</td>\n",
       "      <td>NaN</td>\n",
       "      <td>NaN</td>\n",
       "      <td>NaN</td>\n",
       "      <td>NaN</td>\n",
       "      <td>NaN</td>\n",
       "    </tr>\n",
       "    <tr>\n",
       "      <th>97</th>\n",
       "      <td>Nitho Switch Armour Case Lite for Nintendo Swi...</td>\n",
       "      <td>4.5 out of 5 stars</td>\n",
       "      <td>Nitho</td>\n",
       "      <td>19</td>\n",
       "      <td>/Nitho-NITHO-NSW-ACLT-K-Switch-Armour-Case/dp/...</td>\n",
       "      <td>https://www.amazon.in/Nitho-NITHO-NSW-ACLT-K-S...</td>\n",
       "      <td>NaN</td>\n",
       "      <td>NaN</td>\n",
       "      <td>NaN</td>\n",
       "      <td>NaN</td>\n",
       "      <td>NaN</td>\n",
       "      <td>NaN</td>\n",
       "      <td>NaN</td>\n",
       "      <td>NaN</td>\n",
       "      <td>NaN</td>\n",
       "      <td>NaN</td>\n",
       "      <td>NaN</td>\n",
       "      <td>NaN</td>\n",
       "    </tr>\n",
       "    <tr>\n",
       "      <th>98</th>\n",
       "      <td>Blue Yeti USB Microphone for Recording, Stream...</td>\n",
       "      <td>15,241</td>\n",
       "      <td>4.3 out of 5 stars</td>\n",
       "      <td>₹10,995.00</td>\n",
       "      <td>/Blue-Yeti-USB-Microphone-Midnight/dp/B01LY6Z2...</td>\n",
       "      <td>https://www.amazon.in/Blue-Yeti-USB-Microphone...</td>\n",
       "      <td>NaN</td>\n",
       "      <td>NaN</td>\n",
       "      <td>NaN</td>\n",
       "      <td>NaN</td>\n",
       "      <td>NaN</td>\n",
       "      <td>NaN</td>\n",
       "      <td>NaN</td>\n",
       "      <td>NaN</td>\n",
       "      <td>NaN</td>\n",
       "      <td>NaN</td>\n",
       "      <td>NaN</td>\n",
       "      <td>NaN</td>\n",
       "    </tr>\n",
       "    <tr>\n",
       "      <th>99</th>\n",
       "      <td>Marvel's Spider Man (PS4)</td>\n",
       "      <td>4.6 out of 5 stars</td>\n",
       "      <td>Sony</td>\n",
       "      <td>2,837</td>\n",
       "      <td>/Sony-195229-Marvels-Spider-Man/dp/B07CR4GQD3/...</td>\n",
       "      <td>https://www.amazon.in/Sony-195229-Marvels-Spid...</td>\n",
       "      <td>NaN</td>\n",
       "      <td>NaN</td>\n",
       "      <td>NaN</td>\n",
       "      <td>NaN</td>\n",
       "      <td>NaN</td>\n",
       "      <td>NaN</td>\n",
       "      <td>NaN</td>\n",
       "      <td>NaN</td>\n",
       "      <td>NaN</td>\n",
       "      <td>NaN</td>\n",
       "      <td>NaN</td>\n",
       "      <td>NaN</td>\n",
       "    </tr>\n",
       "  </tbody>\n",
       "</table>\n",
       "</div>"
      ],
      "text/plain": [
       "                                                 Name             reviews  \\\n",
       "94  Sony Horizon: Zero Dawn - Complete Edition (Pl...  4.5 out of 5 stars   \n",
       "95  Cosmic Byte GS410 Headphones with Mic and for ...  4.1 out of 5 stars   \n",
       "96  Microsoft Xbox Series X/S Wireless Controller ...  4.3 out of 5 stars   \n",
       "97  Nitho Switch Armour Case Lite for Nintendo Swi...  4.5 out of 5 stars   \n",
       "98  Blue Yeti USB Microphone for Recording, Stream...              15,241   \n",
       "99                          Marvel's Spider Man (PS4)  4.6 out of 5 stars   \n",
       "\n",
       "                 stars       price  \\\n",
       "94                Sony       1,528   \n",
       "95         Cosmic Byte      18,705   \n",
       "96           Microsoft         255   \n",
       "97               Nitho          19   \n",
       "98  4.3 out of 5 stars  ₹10,995.00   \n",
       "99                Sony       2,837   \n",
       "\n",
       "                                              link_in  \\\n",
       "94  /Horizon-Zero-Dawn-Complete-PS4/dp/B07D2NY7RW/...   \n",
       "95  /Cosmic-Byte-GS410-Headphones-Grey/dp/B07K7XRJ...   \n",
       "96  /Microsoft-Wireless-Controller-USB-C-Cable/dp/...   \n",
       "97  /Nitho-NITHO-NSW-ACLT-K-Switch-Armour-Case/dp/...   \n",
       "98  /Blue-Yeti-USB-Microphone-Midnight/dp/B01LY6Z2...   \n",
       "99  /Sony-195229-Marvels-Spider-Man/dp/B07CR4GQD3/...   \n",
       "\n",
       "                                               f_link brand color  \\\n",
       "94  https://www.amazon.in/Horizon-Zero-Dawn-Comple...   NaN   NaN   \n",
       "95  https://www.amazon.in/Cosmic-Byte-GS410-Headph...   NaN   NaN   \n",
       "96  https://www.amazon.in/Microsoft-Wireless-Contr...   NaN   NaN   \n",
       "97  https://www.amazon.in/Nitho-NITHO-NSW-ACLT-K-S...   NaN   NaN   \n",
       "98  https://www.amazon.in/Blue-Yeti-USB-Microphone...   NaN   NaN   \n",
       "99  https://www.amazon.in/Sony-195229-Marvels-Spid...   NaN   NaN   \n",
       "\n",
       "   Pdt_dimension Weight origin ASIN category 5Star 4Star 3Star 2Star 1Star  \n",
       "94           NaN    NaN    NaN  NaN      NaN   NaN   NaN   NaN   NaN   NaN  \n",
       "95           NaN    NaN    NaN  NaN      NaN   NaN   NaN   NaN   NaN   NaN  \n",
       "96           NaN    NaN    NaN  NaN      NaN   NaN   NaN   NaN   NaN   NaN  \n",
       "97           NaN    NaN    NaN  NaN      NaN   NaN   NaN   NaN   NaN   NaN  \n",
       "98           NaN    NaN    NaN  NaN      NaN   NaN   NaN   NaN   NaN   NaN  \n",
       "99           NaN    NaN    NaN  NaN      NaN   NaN   NaN   NaN   NaN   NaN  "
      ]
     },
     "execution_count": 201,
     "metadata": {},
     "output_type": "execute_result"
    }
   ],
   "source": [
    "vid_games[vid_games.brand.isna()]"
   ]
  },
  {
   "cell_type": "code",
   "execution_count": 194,
   "id": "da8180ae",
   "metadata": {},
   "outputs": [
    {
     "data": {
      "text/html": [
       "<div>\n",
       "<style scoped>\n",
       "    .dataframe tbody tr th:only-of-type {\n",
       "        vertical-align: middle;\n",
       "    }\n",
       "\n",
       "    .dataframe tbody tr th {\n",
       "        vertical-align: top;\n",
       "    }\n",
       "\n",
       "    .dataframe thead th {\n",
       "        text-align: right;\n",
       "    }\n",
       "</style>\n",
       "<table border=\"1\" class=\"dataframe\">\n",
       "  <thead>\n",
       "    <tr style=\"text-align: right;\">\n",
       "      <th></th>\n",
       "      <th>Name</th>\n",
       "      <th>reviews</th>\n",
       "      <th>stars</th>\n",
       "      <th>price</th>\n",
       "      <th>link_in</th>\n",
       "      <th>f_link</th>\n",
       "      <th>brand</th>\n",
       "      <th>color</th>\n",
       "      <th>Pdt_dimension</th>\n",
       "      <th>Weight</th>\n",
       "      <th>origin</th>\n",
       "      <th>ASIN</th>\n",
       "      <th>category</th>\n",
       "      <th>5Star</th>\n",
       "      <th>4Star</th>\n",
       "      <th>3Star</th>\n",
       "      <th>2Star</th>\n",
       "      <th>1Star</th>\n",
       "    </tr>\n",
       "  </thead>\n",
       "  <tbody>\n",
       "    <tr>\n",
       "      <th>57</th>\n",
       "      <td>Call of Duty: Infinite Warfare (PS4)</td>\n",
       "      <td>4.2 out of 5 stars</td>\n",
       "      <td>ACTIVISION</td>\n",
       "      <td>1,876</td>\n",
       "      <td>/Call-Duty-Infinite-Warfare-PS4/dp/B01JG2VZFQ/...</td>\n",
       "      <td>https://www.amazon.in/Call-Duty-Infinite-Warfa...</td>\n",
       "      <td>diff_product</td>\n",
       "      <td>diff_product</td>\n",
       "      <td>diff_product</td>\n",
       "      <td>diff_product</td>\n",
       "      <td>diff_product</td>\n",
       "      <td>diff_product</td>\n",
       "      <td>diff_product</td>\n",
       "      <td>57%</td>\n",
       "      <td>21%</td>\n",
       "      <td>10%</td>\n",
       "      <td>5%</td>\n",
       "      <td>7%</td>\n",
       "    </tr>\n",
       "  </tbody>\n",
       "</table>\n",
       "</div>"
      ],
      "text/plain": [
       "                                    Name             reviews       stars  \\\n",
       "57  Call of Duty: Infinite Warfare (PS4)  4.2 out of 5 stars  ACTIVISION   \n",
       "\n",
       "    price                                            link_in  \\\n",
       "57  1,876  /Call-Duty-Infinite-Warfare-PS4/dp/B01JG2VZFQ/...   \n",
       "\n",
       "                                               f_link         brand  \\\n",
       "57  https://www.amazon.in/Call-Duty-Infinite-Warfa...  diff_product   \n",
       "\n",
       "           color Pdt_dimension        Weight        origin          ASIN  \\\n",
       "57  diff_product  diff_product  diff_product  diff_product  diff_product   \n",
       "\n",
       "        category 5Star 4Star 3Star 2Star 1Star  \n",
       "57  diff_product   57%   21%   10%    5%    7%  "
      ]
     },
     "execution_count": 194,
     "metadata": {},
     "output_type": "execute_result"
    }
   ],
   "source": [
    "vid_games[vid_games.f_link == 'https://www.amazon.in/Call-Duty-Infinite-Warfare-PS4/dp/B01JG2VZFQ/ref=zg_bs_videogames_58/260-6571345-4071009?pd_rd_i=B01JG2VZFQ&psc=1']"
   ]
  },
  {
   "cell_type": "code",
   "execution_count": 45,
   "id": "f4d76934",
   "metadata": {},
   "outputs": [],
   "source": [
    "driver.quit()"
   ]
  },
  {
   "cell_type": "code",
   "execution_count": null,
   "id": "e8d481bf",
   "metadata": {},
   "outputs": [],
   "source": []
  },
  {
   "cell_type": "code",
   "execution_count": null,
   "id": "def5a5eb",
   "metadata": {},
   "outputs": [],
   "source": []
  },
  {
   "cell_type": "code",
   "execution_count": 65,
   "id": "c70df1c6",
   "metadata": {},
   "outputs": [
    {
     "data": {
      "text/plain": [
       "1203"
      ]
     },
     "execution_count": 65,
     "metadata": {},
     "output_type": "execute_result"
    }
   ],
   "source": [
    "len(prod_nugs.find_all('span'))"
   ]
  },
  {
   "cell_type": "code",
   "execution_count": 66,
   "id": "6d8bd344",
   "metadata": {},
   "outputs": [
    {
     "data": {
      "text/plain": [
       "118"
      ]
     },
     "execution_count": 66,
     "metadata": {},
     "output_type": "execute_result"
    }
   ],
   "source": [
    "len(prod_nugs.find_all('li'))"
   ]
  },
  {
   "cell_type": "code",
   "execution_count": 67,
   "id": "3173b2e3",
   "metadata": {},
   "outputs": [
    {
     "data": {
      "text/plain": [
       "479"
      ]
     },
     "execution_count": 67,
     "metadata": {},
     "output_type": "execute_result"
    }
   ],
   "source": [
    "len(prod_nugs.find_all('a'))"
   ]
  },
  {
   "cell_type": "code",
   "execution_count": null,
   "id": "4cb87484",
   "metadata": {},
   "outputs": [],
   "source": [
    "for d in soup.findAll('div', attrs={'class':'a-section a-spacing-none aok-relative'}):\n",
    "        #print(d)\n",
    "        name = d.find('span', attrs={'class':'zg-text-center-align'})\n",
    "        n = name.find_all('img', alt=True)\n",
    "        #print(n[0]['alt'])\n",
    "        author = d.find('a', attrs={'class':'a-size-small a-link-child'})\n",
    "        rating = d.find('span', attrs={'class':'a-icon-alt'})\n",
    "        users_rated = d.find('a', attrs={'class':'a-size-small a-link-normal'})\n",
    "        price = d.find('span', attrs={'class':'p13n-sc-price'})\n",
    "\n",
    "        all1=[]\n",
    "\n",
    "        if name is not None:\n",
    "            #print(n[0]['alt'])\n",
    "            all1.append(n[0]['alt'])\n",
    "        else:\n",
    "            all1.append(\"unknown-product\")\n",
    "\n",
    "        if author is not None:\n",
    "            #print(author.text)\n",
    "            all1.append(author.text)\n",
    "        elif author is None:\n",
    "            author = d.find('span', attrs={'class':'a-size-small a-color-base'})\n",
    "            if author is not None:\n",
    "                all1.append(author.text)\n",
    "            else:    \n",
    "                all1.append('0')\n",
    "\n",
    "        if rating is not None:\n",
    "            #print(rating.text)\n",
    "            all1.append(rating.text)\n",
    "        else:\n",
    "            all1.append('-1')\n",
    "\n",
    "        if users_rated is not None:\n",
    "            #print(price.text)\n",
    "            all1.append(users_rated.text)\n",
    "        else:\n",
    "            all1.append('0')     \n",
    "\n",
    "        if price is not None:\n",
    "            #print(price.text)\n",
    "            all1.append(price.text)\n",
    "        else:\n",
    "            all1.append('0')\n",
    "        alls.append(all1)    \n",
    "    return alls"
   ]
  },
  {
   "cell_type": "code",
   "execution_count": 1,
   "id": "535b6ea2",
   "metadata": {
    "collapsed": true
   },
   "outputs": [
    {
     "name": "stdout",
     "output_type": "stream",
     "text": [
      "Collecting pytesseract\n",
      "  Downloading pytesseract-0.3.8.tar.gz (14 kB)\n",
      "  Preparing metadata (setup.py): started\n",
      "  Preparing metadata (setup.py): finished with status 'done'\n",
      "Requirement already satisfied: Pillow in c:\\workfiles\\wpy64-37120\\pypy3.7-v7.3.7-win64\\site-packages (from pytesseract) (8.4.0)\n",
      "Building wheels for collected packages: pytesseract\n",
      "  Building wheel for pytesseract (setup.py): started\n",
      "  Building wheel for pytesseract (setup.py): finished with status 'done'\n",
      "  Created wheel for pytesseract: filename=pytesseract-0.3.8-py2.py3-none-any.whl size=14072 sha256=2a275861992e29f4028c01341d2884cb884a0b21f14d421949b26b9db89f9420\n",
      "  Stored in directory: c:\\users\\d30001e013\\appdata\\local\\pip\\cache\\wheels\\3c\\87\\5e\\394d2e92270af924b348066ce11abbf82ee997868b83fade1b\n",
      "Successfully built pytesseract\n",
      "Installing collected packages: pytesseract\n",
      "Successfully installed pytesseract-0.3.8\n"
     ]
    },
    {
     "name": "stderr",
     "output_type": "stream",
     "text": [
      "WARNING: You are using pip version 21.3.1; however, version 22.0.3 is available.\n",
      "You should consider upgrading via the 'C:\\WorkFiles\\WPy64-37120\\pypy3.7-v7.3.7-win64\\python.exe -m pip install --upgrade pip' command.\n"
     ]
    }
   ],
   "source": [
    "# product title\n",
    "title = soup.find(id='productTitle').get_text().strip()\n",
    "\n",
    "# to prevent script from crashing when there isn't a price for the product\n",
    "try:\n",
    "    price = float(soup.find(id='priceblock_ourprice').get_text().replace('.', '').replace('€', '').replace(',', '.').strip())\n",
    "except:\n",
    "    price = ''\n",
    "\n",
    "# review score\n",
    "review_score = float(soup.select('.a-star-4-5')[0].get_text().split(' ')[0].replace(\",\", \".\"))\n",
    "\n",
    "# how many reviews\n",
    "review_count = int(soup.select('#acrCustomerReviewText')[0].get_text().split(' ')[0].replace(\".\", \"\"))\n",
    "\n",
    "# checking if there is \"Out of stock\" and if not, it means the product is available\n",
    "try:\n",
    "    soup.select('#availability .a-color-state')[0].get_text().strip()\n",
    "    stock = 'Out of Stock'\n",
    "except:\n",
    "    stock = 'Available'"
   ]
  },
  {
   "cell_type": "code",
   "execution_count": null,
   "id": "d5d5f8cb",
   "metadata": {},
   "outputs": [],
   "source": [
    "try:\n",
    "\t\ttitle = soup.find(\"span\",\n",
    "\t\t\t\t\t\tattrs={\"id\": 'productTitle'})\n",
    "\ttitle_value = title.string\n",
    "\n",
    "\t\ttitle_string = title_value\n",
    "\t\t\t\t\t.strip().replace(',', '')\n",
    "\t\t\n",
    "except AttributeError:\n",
    "\n",
    "\t\ttitle_string = \"NA\"\n",
    "\n",
    "\t\tprint(\"product Title = \", title_string)\n"
   ]
  },
  {
   "cell_type": "code",
   "execution_count": null,
   "id": "0447e0cb",
   "metadata": {},
   "outputs": [],
   "source": []
  },
  {
   "cell_type": "code",
   "execution_count": null,
   "id": "3cd7b910",
   "metadata": {},
   "outputs": [],
   "source": []
  },
  {
   "cell_type": "code",
   "execution_count": null,
   "id": "9413833e",
   "metadata": {},
   "outputs": [],
   "source": []
  },
  {
   "cell_type": "code",
   "execution_count": null,
   "id": "0ff65bc4",
   "metadata": {},
   "outputs": [],
   "source": []
  },
  {
   "cell_type": "code",
   "execution_count": null,
   "id": "4f01ec92",
   "metadata": {},
   "outputs": [],
   "source": []
  },
  {
   "cell_type": "code",
   "execution_count": null,
   "id": "99568c6a",
   "metadata": {},
   "outputs": [],
   "source": []
  },
  {
   "cell_type": "code",
   "execution_count": null,
   "id": "d29312ce",
   "metadata": {},
   "outputs": [],
   "source": []
  }
 ],
 "metadata": {
  "kernelspec": {
   "display_name": "Python 3 (ipykernel)",
   "language": "python",
   "name": "python3"
  },
  "language_info": {
   "codemirror_mode": {
    "name": "ipython",
    "version": 3
   },
   "file_extension": ".py",
   "mimetype": "text/x-python",
   "name": "python",
   "nbconvert_exporter": "python",
   "pygments_lexer": "ipython3",
   "version": "3.7.12"
  }
 },
 "nbformat": 4,
 "nbformat_minor": 5
}

{
 "cells": [
  {
   "cell_type": "code",
   "execution_count": 21,
   "metadata": {},
   "outputs": [
    {
     "data": {
      "text/plain": [
       "215"
      ]
     },
     "execution_count": 21,
     "metadata": {},
     "output_type": "execute_result"
    }
   ],
   "source": [
    "th = 'To-support-technicians-in-setting-up-a-particle-accelerator-I-would-like-to-develop-a-machine-learning-based-system-giving-hints-on-next-steps-to-take-What-would-be-the-best-approach-and-software-to-get-started-with'\n",
    "len(th)"
   ]
  },
  {
   "cell_type": "code",
   "execution_count": 1,
   "metadata": {},
   "outputs": [],
   "source": [
    "#The notebook goes through the process of scraping the answer that one has written to in the past\n",
    "\n",
    "#It collects the answers in seperate file and assigns the question as the file name\n",
    "\n",
    "#Once the file are created, then they are uploaded to git hub repo (Explore python way)\n",
    "\n",
    "#There the simple website is created for the questions and the answers are displayed.\n",
    "\n",
    "#The NLP analysis is done on the answers and shown in the github website"
   ]
  },
  {
   "cell_type": "code",
   "execution_count": 2,
   "metadata": {},
   "outputs": [],
   "source": [
    "import requests\n",
    "import selenium\n",
    "import os\n",
    "import pandas\n",
    "import warnings\n",
    "warnings.filterwarnings('ignore')"
   ]
  },
  {
   "cell_type": "code",
   "execution_count": 3,
   "metadata": {},
   "outputs": [],
   "source": [
    "from selenium import webdriver\n",
    "import time as time\n",
    "from selenium.common.exceptions import NoSuchElementException\n",
    "from selenium.common.exceptions import ElementNotInteractableException\n",
    "from selenium.webdriver.chrome.options import Options"
   ]
  },
  {
   "cell_type": "code",
   "execution_count": 4,
   "metadata": {},
   "outputs": [],
   "source": [
    "import plotly.express as px\n",
    "import plotly.graph_objects as go\n",
    "from bs4 import BeautifulSoup \n",
    "from lxml import html\n",
    "from urllib.parse import unquote\n",
    "from urllib.parse import urljoin\n",
    "import time"
   ]
  },
  {
   "cell_type": "code",
   "execution_count": 5,
   "metadata": {},
   "outputs": [],
   "source": [
    "import pandas as pd\n",
    "import numpy as np"
   ]
  },
  {
   "cell_type": "code",
   "execution_count": 9,
   "metadata": {},
   "outputs": [],
   "source": [
    "#mglearn module had some issue in loading the memory from joblib module\n",
    "import six\n",
    "import sys\n",
    "sys.modules['sklearn.externals.six'] = six\n",
    "import sklearn.externals\n",
    "from joblib import Memory as Memory"
   ]
  },
  {
   "cell_type": "code",
   "execution_count": 22,
   "metadata": {},
   "outputs": [],
   "source": [
    "#words and language processing\n",
    "\n",
    "from sklearn.feature_extraction.text import CountVectorizer,TfidfVectorizer\n",
    "from sklearn.decomposition import LatentDirichletAllocation\n",
    "from sklearn.feature_extraction._stop_words import ENGLISH_STOP_WORDS #stopword is private\n",
    "import mglearn"
   ]
  },
  {
   "cell_type": "code",
   "execution_count": 6,
   "metadata": {},
   "outputs": [],
   "source": [
    "quora_login = 'https://www.quora.com/'\n",
    "\n",
    "#Lets login first\n",
    "\n",
    "def live_driver(link):\n",
    "    \n",
    "    options = Options()\n",
    "\n",
    "    options.headless = True #making this driver headless so it can work in the background\n",
    "    \n",
    "    driver = webdriver.Chrome(options=options, executable_path=r'chromedriver.exe')\n",
    "    \n",
    "    driver.get(link)\n",
    "    driver.maximize_window()\n",
    "    driver.refresh()\n",
    "    return driver"
   ]
  },
  {
   "cell_type": "code",
   "execution_count": 5,
   "metadata": {},
   "outputs": [],
   "source": [
    "from collections import namedtuple\n",
    "from typing import NamedTuple"
   ]
  },
  {
   "cell_type": "code",
   "execution_count": 7,
   "metadata": {},
   "outputs": [],
   "source": [
    "\n",
    "def user_page(link: str, uname: str, passd: str):\n",
    "    \"\"\"Return the User's main page with all statistics\"\"\"\n",
    "\n",
    "    options = Options()\n",
    "\n",
    "    options.headless = True #making this driver headless so it can work in the background\n",
    "    \n",
    "    driver = webdriver.Chrome(options=options, executable_path=r'chromedriver.exe')\n",
    "\n",
    "    driver.get(link)\n",
    "\n",
    "    driver.maximize_window()\n",
    "\n",
    "    driver.refresh()\n",
    "\n",
    "    driver.find_element_by_id('email').send_keys(uname)\n",
    "\n",
    "    driver.find_element_by_id('password').send_keys(passd)\n",
    "\n",
    "    driver.find_element_by_xpath('//*[@id=\"root\"]/div[2]/div/div/div/div/div[2]/div[2]/div[4]/button').click()\n",
    "\n",
    "    return driver"
   ]
  },
  {
   "cell_type": "code",
   "execution_count": 11,
   "metadata": {},
   "outputs": [],
   "source": [
    "from typing import List\n",
    "\n",
    "def stats_prepare(driver) ->List[str]:\n",
    "    \"\"\"Populates the question so the scraper can collect them next\"\"\"\n",
    "\n",
    "    driver.execute_script(\"window.open('https://www.quora.com/stats', 'new_window')\")\n",
    "\n",
    "    stwd = driver.window_handles\n",
    "\n",
    "    driver.switch_to.window(stwd[1])\n",
    "\n",
    "    SCROLL_PAUSE_TIME = 0.5\n",
    "    \n",
    "    # Get scroll height\n",
    "    last_height = driver.execute_script(\"return document.body.scrollHeight\")\n",
    "\n",
    "    for _ in range(1000):\n",
    "        # Scroll down to bottom\n",
    "        driver.execute_script(\"window.scrollTo(0, document.body.scrollHeight);\")\n",
    "\n",
    "        # Wait to load page\n",
    "        time.sleep(SCROLL_PAUSE_TIME)\n",
    "\n",
    "        # Calculate new scroll height and compare with last scroll height\n",
    "        new_height = driver.execute_script(\"return document.body.scrollHeight\")\n",
    "\n",
    "    return driver"
   ]
  },
  {
   "cell_type": "code",
   "execution_count": 12,
   "metadata": {},
   "outputs": [],
   "source": [
    "from typing import List\n",
    "\n",
    "def view_count(driver) ->List[str]:\n",
    "    \"\"\"Get the view count from the driver that is ready\"\"\"\n",
    "    \n",
    "    views = driver.find_elements_by_xpath('//*[@role=\"listitem\"]/div/div/div/div/div[2]/div[1]/div[2]')\n",
    "\n",
    "    view_count = []\n",
    "\n",
    "    for v in views:\n",
    "\n",
    "        view_count.append(v.text)\n",
    "\n",
    "    return view_count"
   ]
  },
  {
   "cell_type": "code",
   "execution_count": 13,
   "metadata": {},
   "outputs": [],
   "source": [
    "from typing import List\n",
    "\n",
    "def question_collector(driver) ->List[str]:\n",
    "    \"\"\"Populates the question so the scraper can collect them next\"\"\"\n",
    "    \n",
    "    quest_links = driver.find_elements_by_xpath('//*[@role=\"listitem\"]/div/div/div/div/div[1]/div[2]/div/a')\n",
    "\n",
    "    links_to_questions= []\n",
    "    \n",
    "    for ql in quest_links:\n",
    "    \n",
    "        links_to_questions.append(ql.get_attribute('href'))\n",
    "\n",
    "    return links_to_questions"
   ]
  },
  {
   "cell_type": "code",
   "execution_count": 14,
   "metadata": {},
   "outputs": [],
   "source": [
    "from typing import List\n",
    "\n",
    "def upvotes(driver) ->List[str]:\n",
    "    \"\"\"Populates the question so the scraper can collect them next\"\"\"\n",
    "    \n",
    "    upvotes = driver.find_elements_by_xpath('//*[@role=\"listitem\"]/div/div/div/div/div[2]/div[2]/div[2]')\n",
    "\n",
    "    up_count = []\n",
    " \n",
    "    for v in upvotes:\n",
    "        \n",
    "        up_count.append(v.text)\n",
    "\n",
    "    return up_count"
   ]
  },
  {
   "cell_type": "code",
   "execution_count": 15,
   "metadata": {},
   "outputs": [],
   "source": [
    "def clean_join(q_text :str) -> str:\n",
    "\n",
    "    local_q = q_text\n",
    "    \n",
    "    forbid = ['<', '>' ,':' ,'\"', '/','?','*']\n",
    "\n",
    "    for spl in forbid:\n",
    "\n",
    "        if spl in local_q:\n",
    "\n",
    "            local_q = local_q.replace(spl, '')\n",
    "\n",
    "    local_q = '_'.join(local_q.split(' '))\n",
    "\n",
    "    return local_q"
   ]
  },
  {
   "cell_type": "code",
   "execution_count": 8,
   "metadata": {},
   "outputs": [],
   "source": [
    "pass_loc = 'C:\\\\WorkFiles\\\\WPy64-37120\\\\notebooks\\\\creds.txt'\n",
    "with open(pass_loc) as p:\n",
    "    reader = p.readlines()\n",
    "\n",
    "uname = reader[0].strip('\\n')\n",
    "passd = reader[1]"
   ]
  },
  {
   "cell_type": "code",
   "execution_count": 16,
   "metadata": {},
   "outputs": [],
   "source": [
    "my_driver = user_page(quora_login, uname, passd)"
   ]
  },
  {
   "cell_type": "code",
   "execution_count": 85,
   "metadata": {},
   "outputs": [
    {
     "ename": "TypeError",
     "evalue": "'list' object is not callable",
     "output_type": "error",
     "traceback": [
      "\u001b[1;31m---------------------------------------------------------------------------\u001b[0m",
      "\u001b[1;31mTypeError\u001b[0m                                 Traceback (most recent call last)",
      "\u001b[1;32mC:\\Users\\D30001~1\\AppData\\Local\\Temp/ipykernel_13208/3107087205.py\u001b[0m in \u001b[0;36m<module>\u001b[1;34m\u001b[0m\n\u001b[0;32m      2\u001b[0m \u001b[0mviews\u001b[0m \u001b[1;33m=\u001b[0m \u001b[0mview_count\u001b[0m\u001b[1;33m(\u001b[0m\u001b[0mmy_driver\u001b[0m\u001b[1;33m)\u001b[0m\u001b[1;33m\u001b[0m\u001b[1;33m\u001b[0m\u001b[0m\n\u001b[0;32m      3\u001b[0m \u001b[0mlinks_questions\u001b[0m \u001b[1;33m=\u001b[0m \u001b[0mquestion_collector\u001b[0m\u001b[1;33m(\u001b[0m\u001b[0mmy_driver\u001b[0m\u001b[1;33m)\u001b[0m\u001b[1;33m\u001b[0m\u001b[1;33m\u001b[0m\u001b[0m\n\u001b[1;32m----> 4\u001b[1;33m \u001b[0mupvote_list\u001b[0m \u001b[1;33m=\u001b[0m \u001b[0mupvotes\u001b[0m\u001b[1;33m(\u001b[0m\u001b[0mmy_driver\u001b[0m\u001b[1;33m)\u001b[0m\u001b[1;33m\u001b[0m\u001b[1;33m\u001b[0m\u001b[0m\n\u001b[0m",
      "\u001b[1;31mTypeError\u001b[0m: 'list' object is not callable"
     ]
    }
   ],
   "source": [
    "stats_prepare(my_driver)\n",
    "views = view_count(my_driver)\n",
    "links_questions = question_collector(my_driver)\n",
    "upvote_list = upvotes(my_driver)"
   ]
  },
  {
   "cell_type": "code",
   "execution_count": 113,
   "metadata": {},
   "outputs": [],
   "source": [
    "#removing the repeated questions\n",
    "links_questions = [x for x in links_questions if 'Kamal' not in x or 'answer' not in x]\n"
   ]
  },
  {
   "cell_type": "code",
   "execution_count": 114,
   "metadata": {},
   "outputs": [],
   "source": [
    "quest_names = [x.split('/')[3] for x in links_questions]"
   ]
  },
  {
   "cell_type": "code",
   "execution_count": 89,
   "metadata": {},
   "outputs": [],
   "source": [
    "my_driver.quit()"
   ]
  },
  {
   "cell_type": "code",
   "execution_count": 115,
   "metadata": {},
   "outputs": [
    {
     "name": "stdout",
     "output_type": "stream",
     "text": [
      "660\n",
      "146\n",
      "611\n"
     ]
    }
   ],
   "source": [
    "print(len(upvote_list))\n",
    "print(len(links_questions))\n",
    "print(len(views))"
   ]
  },
  {
   "cell_type": "code",
   "execution_count": 116,
   "metadata": {},
   "outputs": [
    {
     "data": {
      "text/plain": [
       "146"
      ]
     },
     "execution_count": 116,
     "metadata": {},
     "output_type": "execute_result"
    }
   ],
   "source": [
    "len(quest_names)"
   ]
  },
  {
   "cell_type": "code",
   "execution_count": 51,
   "metadata": {},
   "outputs": [],
   "source": [
    "\n",
    "def answer_collector(link):\n",
    "    options = Options()\n",
    "\n",
    "    options.headless = True #making this driver headless so it can work in the background\n",
    "    \n",
    "    driver = webdriver.Chrome(options=options, executable_path=r'chromedriver.exe')\n",
    "    \n",
    "    driver.get(link)\n",
    "    \n",
    "    driver.maximize_window()\n",
    "    \n",
    "    driver.refresh()\n",
    "    \n",
    "    answer = []\n",
    "\n",
    "    paras =  driver.find_elements_by_xpath(\"//div[@class = 'q-text']/span/span/p\")\n",
    "    \n",
    "    for p in paras:\n",
    "\n",
    "        answer.append(p.text)\n",
    "\n",
    "    driver.quit()\n",
    "\n",
    "    print(f\"{link} done\")\n",
    "\n",
    "    return '\\n'.join(answer)"
   ]
  },
  {
   "cell_type": "code",
   "execution_count": 100,
   "metadata": {},
   "outputs": [],
   "source": [
    "#Only for checking\n",
    "get_answer = answer_collector(links_questions[0])"
   ]
  },
  {
   "cell_type": "code",
   "execution_count": 111,
   "metadata": {},
   "outputs": [
    {
     "data": {
      "text/plain": [
       "'Query_1 a list of CITY names from STATION for cities that have an even ID number. Print the results in any order, but exclude duplicates from the answer.\\n'"
      ]
     },
     "execution_count": 111,
     "metadata": {},
     "output_type": "execute_result"
    }
   ],
   "source": [
    "#Only for checking\n",
    "with open('./temp/Hacker_RankSQL.txt','r') as tr:\n",
    "    wr = tr.readline()\n",
    "\n",
    "wr"
   ]
  },
  {
   "cell_type": "code",
   "execution_count": 117,
   "metadata": {},
   "outputs": [
    {
     "name": "stdout",
     "output_type": "stream",
     "text": [
      "Got the ans for I-am-going-to-get-started-with-competitive-and-robotics-programming-Which-is-a-better-option-to-commence-with-C-or-P-1\n",
      "Got the ans for Can-someone-help-me-learn-Python-programming-in-his-her-free-time-1\n",
      "Got the ans for https-www-quora-com-Can-video-analytics-and-machine-learning-solutions-help-achieve-zero-defects-in-manufacturing-Why\n",
      "Got the ans for Which-is-the-best-YouTube-tutorial-to-learn-Python-2\n",
      "Got the ans for https-www-quora-com-Why-is-machine-learning-useful-for-making-predictions-but-not-for-finding-causal-relationships-ans\n",
      "Got the ans for https-www-quora-com-Which-skill-do-I-have-to-learn-first-and-why-artificial-intelligence-or-data-science-I-dont-have-a\n",
      "Got the ans for How-to-switch-my-career-to-IT-after-working-for-5-years-in-core-mechanical-industry-How-do-I-choose-the-domain-what-a-1\n",
      "Got the ans for https-www-quora-com-Is-it-normal-for-beginners-to-get-stuck-on-a-problem-in-coding-for-more-than-2hrs-Would-you-recomm\n",
      "Got the ans for I-am-in-10th-and-I-want-to-learn-coding-and-business-How-can-I-manage-it-with-my-school-and-3-hours-of-coaching-and-sel-1\n",
      "Got the ans for Even-after-so-many-wars-calamities-and-epidemics-why-do-humans-still-mindlessly-reproduce\n",
      "Got the ans for How-we-can-learn-program-effectively-1\n",
      "Got the ans for https-www-quora-com-I-have-a-theoretical-knowledge-of-Java-and-I-just-got-a-job-as-a-Java-developer-based-on-theoretic\n",
      "Got the ans for https-www-quora-com-What-does-state-of-the-art-mean-in-machine-learning-Is-it-the-best-or-one-of-the-best-answer-Kam\n",
      "Got the ans for https-www-quora-com-How-do-we-study-artificial-intelligence-in-Germany-When-should-we-apply-for-it-after-12th-or-do-we\n",
      "Got the ans for Nowadays-I-am-getting-attracted-towards-my-chemistry-teacher-who-is-triple-of-my-age-but-this-is-affecting-my-studies-2\n",
      "Got the ans for profile\n",
      "Got the ans for https-www-quora-com-Do-I-need-to-have-a-prior-knowledge-of-data-analysis-before-I-can-learn-machine-learning-for-web-a\n",
      "Got the ans for https-www-quora-com-What-areas-of-artificial-intelligence-are-being-implemented-in-the-diagnosis-of-respiratory-infect\n",
      "Got the ans for https-www-quora-com-I-have-to-write-a-program-as-a-part-of-my-undergraduate-studies-and-Im-really-interested-in-machin\n",
      "Got the ans for https-www-quora-com-Its-been-1-year-that-I-have-been-working-as-a-software-engineer-I-work-on-developing-Python-code-a\n",
      "Got the ans for https-www-quora-com-CBSE-has-introduced-AI-artificial-intelligence-as-part-of-its-curriculum-in-standard-9-What-could\n",
      "Got the ans for https-www-quora-com-Im-16-and-don-t-know-what-career-I-want-My-dad-wants-me-to-do-trades-but-I-m-not-sure-I-want-to-do\n",
      "Got the ans for https-www-quora-com-As-a-beginner-with-a-commerce-background-where-do-I-start-from-in-order-to-learn-Artificial-Intell\n",
      "Got the ans for Now-that-the-schools-have-reopened-including-8-hours-of-sleep-7-hours-of-school-and-1-2-hours-of-leisure-activities-1\n",
      "Got the ans for I-started-learning-Python-due-to-my-interest-but-after-a-few-days-I-lost-the-interest-once-it-got-tougher-to-learn-How-1\n",
      "Got the ans for https-www-quora-com-Is-Machine-learning-used-in-medicine-Feeding-the-model-1000s-of-images-of-cancer-and-tumors-The-ma\n",
      "Got the ans for https-www-quora-com-How-do-you-get-into-Deep-Learning-in-practice-Im-18-but-Im-afraid-books-and-online-courses-wont-be\n",
      "Got the ans for https-www-quora-com-How-can-I-pursue-my-career-in-artificial-intelligence-and-machine-learning-after-doing-a-B-Sc-in-P\n",
      "Got the ans for https-www-quora-com-What-are-some-project-ideas-for-a-final-year-data-science-student-Beginner-to-intermediate-level-a\n",
      "Got the ans for How-the-Data-and-Science-behing-the-free-computing-is-changing-the-landscape-https-www-quora-com-What-are-the-featur\n",
      "Got the ans for Metaverse-Land-of-Algorithms-Being-a-avid-fan-of-videogames-I-got-smitten-by-Metaverse-Take-any-game-you-play-you\n",
      "Got the ans for Learning-to-Let-the-Data-Speak-Gapminder-dataset-and-its-visualisation-TED-talk-got-me-smitten-with-the-ideas-of-f\n",
      "Got the ans for Impact-of-Data-Analysis-and-AI-in-Online-Education-https-www-quora-com-How-is-artificial-intelligence-being-used-in-e\n",
      "Got the ans for https-www-quora-com-Can-I-learn-AI-or-robotics-through-an-online-course-and-make-it-as-a-career-as-I-am-30-years-old-a\n",
      "Got the ans for How-do-you-know-if-you-love-someone-Memory-of-someone-you-love-can-instantly-heal-you-give-you-energy-and-wake-you\n",
      "Got the ans for Why-collect-Fond-Memories-The-importance-of-memories-time-spent-with-loving-family-caring-friends-and-spectacular\n",
      "Got the ans for Why-is-nothing-going-viral-recently\n",
      "Got the ans for https-www-quora-com-What-is-the-best-path-as-a-career-among-Cyber-Security-Machine-learning-and-AI-software-developmen\n",
      "Got the ans for https-www-quora-com-What-is-the-difference-between-supervised-and-unsupervised-learning-and-how-can-we-tell-the-differ\n",
      "Got the ans for What-are-your-thoughts-on-philosophers-like-Ayn-Ring-who-say-that-if-minds-are-really-just-brains-then-cognition-is-just-1\n",
      "Got the ans for How-Objectivism-of-Rands-philosophy-helps-to-navigate-the-reality-easier-Having-read-a-bit-of-Ayn-the-feeling-she-cr\n",
      "Got the ans for What-are-the-best-examples-of-advanced-AI-technology\n",
      "Got the ans for https-www-quora-com-Should-I-pursue-my-career-in-AI-I-have-a-great-interest-in-design-and-creativity-What-other-career\n",
      "Got the ans for https-www-quora-com-I-want-to-do-an-MS-in-artificial-Emotional-Intelligence-Which-countries-have-the-most-research-for\n",
      "Got the ans for https-www-quora-com-Can-you-suggest-a-topic-for-PhD-research-combining-artificial-intelligence-and-consumer-behaviour\n",
      "Got the ans for As-a-16-year-old-boy-my-mind-is-bursting-overwhelmed-with-thoughts-emotions-and-music-At-the-same-time-I-feel-so-man-1\n",
      "Got the ans for What-is-the-best-and-fastest-programming-language-for-competitive-programming-2\n",
      "Got the ans for unanswered\n",
      "Got the ans for https-www-quora-com-Is-there-an-upper-limit-to-a-future-computer-s-processing-speed-or-is-it-bounded-only-by-human-ing\n",
      "Got the ans for https-www-quora-com-Im-from-commerce-background-How-should-I-start-learning-AI-Should-I-start-learning-Data-analysis-f\n",
      "Got the ans for https-www-quora-com-Shall-the-artificial-intelligent-occupy-the-design-industry-and-designers-lose-their-work-Is-there\n",
      "Got the ans for profile\n",
      "Got the ans for What-are-you-learning-right-now-2\n",
      "Got the ans for https-www-quora-com-Will-researchers-want-to-imbue-A-I-with-human-characteristics-and-personality-to-make-it-more-appe\n",
      "Got the ans for https-www-quora-com-What-programming-language-is-really-necessary-Or-would-be-necessary-in-the-upcoming-future-of-robo\n",
      "Got the ans for https-www-quora-com-How-high-in-impact-does-the-2016-victory-of-AlphaGo-AI-over-the-best-GO-player-on-Earth-in-Seoul-r\n",
      "Got the ans for https-www-quora-com-Is-reinforcement-learning-the-only-viable-way-to-achieve-artificial-general-intelligence-answer-Ka\n",
      "Got the ans for https-www-quora-com-Can-I-become-a-data-scientist-by-learning-on-my-own-from-Coursera-and-will-I-have-a-job-for-that-a\n",
      "Got the ans for https-www-quora-com-What-would-an-AI-that-can-program-other-AIs-do-if-it-can-rewrite-its-own-code-What-would-it-do-wit\n",
      "Got the ans for Does-Elon-Musk-Going-To-Rule-The-Robot-2\n",
      "Got the ans for I-am-lazy-at-studying-because-of-YouTube-and-video-games-I-am-so-lazy-that-my-notes-arent-even-complete-What-should-I-2\n",
      "Got the ans for Having-Rich-Life-starts-with-thinking-how-the-Rich-Think-https-www-quora-com-Will-artificial-intelligence-be-a-threa\n",
      "Got the ans for profile\n",
      "Got the ans for How-is-Learning-different-from-remembering-https-www-quora-com-How-do-I-make-nemonics-for-effective-learning-answer-K\n",
      "Got the ans for profile\n",
      "Got the ans for How-do-I-activate-the-ICICI-FASTag-account-that-is-frozen\n",
      "Got the ans for If-your-daily-job-is-to-be-happy-what-will-be-your-tasks\n",
      "Got the ans for unanswered\n",
      "Got the ans for unanswered\n",
      "Got the ans for Whatre-the-skills-people-need-to-learn-for-the-future\n",
      "Got the ans for Which-language-should-I-learn-JavaScript-Python-or-C-at-this-age-13-2\n",
      "Got the ans for profile\n",
      "Got the ans for How-do-you-cope-with-Slow-Progress-Progress-is-best-when-it-is-slow-Whether-it-is-writing-a-report-or-making-bread-A\n",
      "Got the ans for Which-programming-languages-do-I-need-to-learn-for-cyber-security-2\n",
      "Got the ans for How-do-I-learn-to-write-smart-contracts-as-a-beginner-since-I-have-no-prior-technical-coding-language-programming-know\n",
      "Got the ans for Why-is-it-important-to-do-your-work-with-a-plan-12\n",
      "Got the ans for How-can-we-manage-our-studies-with-5-30-hours-teaching-time-and-household-works-1\n",
      "Got the ans for How-do-you-combine-a-non-tech-job-that-takes-all-of-your-time-and-learning-to-code-2\n",
      "Got the ans for profile\n",
      "Got the ans for profile\n",
      "Got the ans for HELLO-DEVELOPER-I-take-a-decision-not-to-take-college-instead-of-that-I-want-to-learn-programming-on-my-own-to-become-a-1\n",
      "Got the ans for Im-looking-for-material-book-that-teaches-me-all-the-programming-pre-requisites-preferrably-in-Java-or-any-language-Thi-1\n",
      "Got the ans for Can-I-learn-coding-from-scratch-at-28-years-old-7\n"
     ]
    },
    {
     "ename": "UnicodeEncodeError",
     "evalue": "'charmap' codec can't encode character '\\U0001f60a' in position 1458: character maps to <undefined>",
     "output_type": "error",
     "traceback": [
      "\u001b[1;31m---------------------------------------------------------------------------\u001b[0m",
      "\u001b[1;31mUnicodeEncodeError\u001b[0m                        Traceback (most recent call last)",
      "\u001b[1;32mC:\\Users\\D30001~1\\AppData\\Local\\Temp/ipykernel_13208/3497970407.py\u001b[0m in \u001b[0;36m<module>\u001b[1;34m\u001b[0m\n\u001b[0;32m     10\u001b[0m     \u001b[1;32mwith\u001b[0m \u001b[0mopen\u001b[0m\u001b[1;33m(\u001b[0m\u001b[1;34mf'./temp/{file_name}'\u001b[0m\u001b[1;33m,\u001b[0m \u001b[1;34m'w'\u001b[0m\u001b[1;33m)\u001b[0m \u001b[1;32mas\u001b[0m \u001b[0mans\u001b[0m\u001b[1;33m:\u001b[0m\u001b[1;33m\u001b[0m\u001b[1;33m\u001b[0m\u001b[0m\n\u001b[0;32m     11\u001b[0m \u001b[1;33m\u001b[0m\u001b[0m\n\u001b[1;32m---> 12\u001b[1;33m         \u001b[0mans\u001b[0m\u001b[1;33m.\u001b[0m\u001b[0mwrite\u001b[0m\u001b[1;33m(\u001b[0m\u001b[0mget_answer\u001b[0m\u001b[1;33m)\u001b[0m\u001b[1;33m\u001b[0m\u001b[1;33m\u001b[0m\u001b[0m\n\u001b[0m\u001b[0;32m     13\u001b[0m \u001b[1;33m\u001b[0m\u001b[0m\n\u001b[0;32m     14\u001b[0m     \u001b[0mprint\u001b[0m\u001b[1;33m(\u001b[0m\u001b[1;34mf'Got the ans for {quest_names[idex]}'\u001b[0m\u001b[1;33m)\u001b[0m\u001b[1;33m\u001b[0m\u001b[1;33m\u001b[0m\u001b[0m\n",
      "\u001b[1;32mC:\\WorkFiles\\WPy64-37120\\pypy3.7-v7.3.7-win64\\lib-python\\3\\encodings\\cp1252.py\u001b[0m in \u001b[0;36mencode\u001b[1;34m(self, input, final)\u001b[0m\n\u001b[0;32m     17\u001b[0m \u001b[1;32mclass\u001b[0m \u001b[0mIncrementalEncoder\u001b[0m\u001b[1;33m(\u001b[0m\u001b[0mcodecs\u001b[0m\u001b[1;33m.\u001b[0m\u001b[0mIncrementalEncoder\u001b[0m\u001b[1;33m)\u001b[0m\u001b[1;33m:\u001b[0m\u001b[1;33m\u001b[0m\u001b[1;33m\u001b[0m\u001b[0m\n\u001b[0;32m     18\u001b[0m     \u001b[1;32mdef\u001b[0m \u001b[0mencode\u001b[0m\u001b[1;33m(\u001b[0m\u001b[0mself\u001b[0m\u001b[1;33m,\u001b[0m \u001b[0minput\u001b[0m\u001b[1;33m,\u001b[0m \u001b[0mfinal\u001b[0m\u001b[1;33m=\u001b[0m\u001b[1;32mFalse\u001b[0m\u001b[1;33m)\u001b[0m\u001b[1;33m:\u001b[0m\u001b[1;33m\u001b[0m\u001b[1;33m\u001b[0m\u001b[0m\n\u001b[1;32m---> 19\u001b[1;33m         \u001b[1;32mreturn\u001b[0m \u001b[0mcodecs\u001b[0m\u001b[1;33m.\u001b[0m\u001b[0mcharmap_encode\u001b[0m\u001b[1;33m(\u001b[0m\u001b[0minput\u001b[0m\u001b[1;33m,\u001b[0m\u001b[0mself\u001b[0m\u001b[1;33m.\u001b[0m\u001b[0merrors\u001b[0m\u001b[1;33m,\u001b[0m\u001b[0mencoding_table\u001b[0m\u001b[1;33m)\u001b[0m\u001b[1;33m[\u001b[0m\u001b[1;36m0\u001b[0m\u001b[1;33m]\u001b[0m\u001b[1;33m\u001b[0m\u001b[1;33m\u001b[0m\u001b[0m\n\u001b[0m\u001b[0;32m     20\u001b[0m \u001b[1;33m\u001b[0m\u001b[0m\n\u001b[0;32m     21\u001b[0m \u001b[1;32mclass\u001b[0m \u001b[0mIncrementalDecoder\u001b[0m\u001b[1;33m(\u001b[0m\u001b[0mcodecs\u001b[0m\u001b[1;33m.\u001b[0m\u001b[0mIncrementalDecoder\u001b[0m\u001b[1;33m)\u001b[0m\u001b[1;33m:\u001b[0m\u001b[1;33m\u001b[0m\u001b[1;33m\u001b[0m\u001b[0m\n",
      "\u001b[1;31mUnicodeEncodeError\u001b[0m: 'charmap' codec can't encode character '\\U0001f60a' in position 1458: character maps to <undefined>"
     ]
    }
   ],
   "source": [
    "#We have the question links, we use tht to extract answers from the links. Idea is open a new tab, with the link, \n",
    "#scrape the page and close the tab\n",
    "\n",
    "for idex, link in enumerate(links_questions):\n",
    "\n",
    "    get_answer = answer_collector(link) \n",
    "\n",
    "    file_name = '_'.join(quest_names[idex].split(' ')) + '.txt'\n",
    "\n",
    "    with open(f'./temp/{file_name}', 'w') as ans:\n",
    "\n",
    "        ans.write(get_answer)\n",
    "\n",
    "    print(f'Got the ans for {quest_names[idex]}')"
   ]
  },
  {
   "cell_type": "markdown",
   "metadata": {},
   "source": [
    "I want to create a solution for the above using a Class implementation.\n",
    "\n",
    "I am viewing thinking of following steps\n",
    "\n",
    "1) Create User class that will log into his account. How does the returned driver work? \n",
    "    Once logged in, I am thinking of using the driver connection without breaking. Got this. The driver is handed over\n",
    "    after the connection was established. \n",
    "\n",
    "    Need to understand what happens to the driver once connection is opened in headless mode. I am quitting the driver at the exit to avoid memory consumption. With huge number of threads opening, can cause the memory issues\n",
    "\n",
    "2) Instead of using the methods under the class, I have created external functions. Since the driver is returned, the external functions can be used. Need to learn bit more about this\n"
   ]
  },
  {
   "cell_type": "code",
   "execution_count": 18,
   "metadata": {},
   "outputs": [],
   "source": [
    "from typing import Any"
   ]
  },
  {
   "cell_type": "code",
   "execution_count": 19,
   "metadata": {},
   "outputs": [],
   "source": [
    "class User():\n",
    "\n",
    "    def __init__(self, name, uname, passwd):\n",
    "\n",
    "        self.name = name\n",
    "        self.uname = uname\n",
    "        self.passwd = passwd\n",
    "\n",
    "    def login(self, quora_link: str) -> Any:\n",
    "\n",
    "        print(f\"Taking the credentials of {self.name}\")\n",
    "        options = Options()\n",
    "\n",
    "        options.headless = True #making this driver headless so it can work in the background\n",
    "        \n",
    "        driver = webdriver.Chrome(options=options, executable_path=r'chromedriver.exe')\n",
    "    \n",
    "        driver.get(quora_link)\n",
    "\n",
    "        driver.maximize_window()\n",
    "\n",
    "        driver.refresh()\n",
    "\n",
    "        driver.find_element_by_id('email').send_keys(self.uname)\n",
    "\n",
    "        driver.find_element_by_id('password').send_keys(self.passwd)\n",
    "\n",
    "        driver.find_element_by_xpath('//*[@id=\"root\"]/div[2]/div/div/div/div/div[2]/div[2]/div[4]/button').click()\n",
    "\n",
    "        driver.execute_script(\"window.open('https://www.quora.com/stats', 'new_window')\")\n",
    "\n",
    "        return driver \n"
   ]
  },
  {
   "cell_type": "code",
   "execution_count": 20,
   "metadata": {},
   "outputs": [],
   "source": [
    "pass_loc = 'C:\\\\WorkFiles\\\\WPy64-37120\\\\notebooks\\\\creds.txt'\n",
    "with open(pass_loc) as p:\n",
    "    reader = p.readlines()\n",
    "\n",
    "uname = reader[0].strip('\\n')\n",
    "passd = reader[1]"
   ]
  },
  {
   "cell_type": "code",
   "execution_count": 21,
   "metadata": {},
   "outputs": [
    {
     "name": "stdout",
     "output_type": "stream",
     "text": [
      "Taking the credentials of Kamal\n"
     ]
    }
   ],
   "source": [
    "first_User = User('Kamal', uname= uname, passwd= passd)\n",
    "\n",
    "my_driver = first_User.login(quora_link= quora_login)"
   ]
  },
  {
   "cell_type": "code",
   "execution_count": 22,
   "metadata": {},
   "outputs": [
    {
     "data": {
      "text/plain": [
       "<selenium.webdriver.chrome.webdriver.WebDriver (session=\"f7321491300c3f35e28003a9fdac55cd\")>"
      ]
     },
     "execution_count": 22,
     "metadata": {},
     "output_type": "execute_result"
    }
   ],
   "source": [
    "stats_prepare(my_driver)"
   ]
  },
  {
   "cell_type": "code",
   "execution_count": 23,
   "metadata": {},
   "outputs": [],
   "source": [
    "upvote_list = upvotes(driver= my_driver)\n",
    "view_list = view_count(my_driver)\n",
    "quest_links = question_collector(my_driver)\n",
    "\n",
    "quora_frame = pd.DataFrame({'Question_Links':quest_links, 'Views':view_list, 'Upvotes': upvote_list})"
   ]
  },
  {
   "cell_type": "code",
   "execution_count": 24,
   "metadata": {},
   "outputs": [
    {
     "data": {
      "text/plain": [
       "'I-am-trying-to-get-into-data-science-I-completed-graduation-from-physics-I-have-some-basic-idea-about-Python-coding-I-know-there-are-many-courses-but-I-dont-know-where-to-start'"
      ]
     },
     "execution_count": 24,
     "metadata": {},
     "output_type": "execute_result"
    }
   ],
   "source": [
    "quora_frame.Question_Links[2].split('/')[3]"
   ]
  },
  {
   "cell_type": "code",
   "execution_count": 25,
   "metadata": {},
   "outputs": [
    {
     "data": {
      "text/plain": [
       "'https-www-quora-com-Im-a-high-school-student-and-Im-interested-in-AI-Where-do-I-start-looking-into-it-answer-Kamal-Raj'"
      ]
     },
     "execution_count": 25,
     "metadata": {},
     "output_type": "execute_result"
    }
   ],
   "source": [
    "quora_frame.Question_Links[5].split('/')[3]"
   ]
  },
  {
   "cell_type": "code",
   "execution_count": 26,
   "metadata": {},
   "outputs": [
    {
     "data": {
      "text/plain": [
       "'Why-do-you-wiggle-the-shifter'"
      ]
     },
     "execution_count": 26,
     "metadata": {},
     "output_type": "execute_result"
    }
   ],
   "source": [
    "quora_frame.Question_Links[1].split('/')[3]"
   ]
  },
  {
   "cell_type": "code",
   "execution_count": 27,
   "metadata": {},
   "outputs": [
    {
     "data": {
      "text/plain": [
       "array(['lovablerichlife.quora.com', 'www.quora.com', 'tsmm.quora.com',\n",
       "       'clcoding.quora.com', 'algorithm.quora.com',\n",
       "       'discussaboutanything.quora.com', 'ourinterestingworld.quora.com',\n",
       "       'algomart2.quora.com', 'elonmusk.quora.com',\n",
       "       'motivationcentre.quora.com', 'codelogically.quora.com',\n",
       "       'studentsstudies.quora.com', 'mentalhealthandhappiness.quora.com',\n",
       "       'ask-about-investments.quora.com', 'powerofpositivity1.quora.com',\n",
       "       'techowish.quora.com', 'technologynextgeneration.quora.com',\n",
       "       'fintechshot.quora.com', 'anythingusefulatall.quora.com',\n",
       "       'iwish.quora.com', 'diversethoughts.quora.com',\n",
       "       'worldsnews.quora.com', 'fjifvgzzeqknjsam.quora.com',\n",
       "       'bigbrotheriswatching.quora.com', 'indianwebseries.quora.com',\n",
       "       'notebook.quora.com', 'humanspsychology.quora.com',\n",
       "       'healthyhabits.quora.com', 'besolutionorientded.quora.com',\n",
       "       'lifeisbeautiful.quora.com'], dtype=object)"
      ]
     },
     "execution_count": 27,
     "metadata": {},
     "output_type": "execute_result"
    }
   ],
   "source": [
    "quora_frame['Spaces'] = quora_frame.Question_Links.apply(lambda x : x.split('/')[2])\n",
    "quora_frame.Spaces.unique()"
   ]
  },
  {
   "cell_type": "code",
   "execution_count": 28,
   "metadata": {},
   "outputs": [
    {
     "data": {
      "text/html": [
       "<div>\n",
       "<style scoped>\n",
       "    .dataframe tbody tr th:only-of-type {\n",
       "        vertical-align: middle;\n",
       "    }\n",
       "\n",
       "    .dataframe tbody tr th {\n",
       "        vertical-align: top;\n",
       "    }\n",
       "\n",
       "    .dataframe thead th {\n",
       "        text-align: right;\n",
       "    }\n",
       "</style>\n",
       "<table border=\"1\" class=\"dataframe\">\n",
       "  <thead>\n",
       "    <tr style=\"text-align: right;\">\n",
       "      <th></th>\n",
       "      <th>Question_Links</th>\n",
       "      <th>Views</th>\n",
       "      <th>Upvotes</th>\n",
       "      <th>Spaces</th>\n",
       "    </tr>\n",
       "  </thead>\n",
       "  <tbody>\n",
       "    <tr>\n",
       "      <th>658</th>\n",
       "      <td>https://www.quora.com/Is-someone-who-has-trave...</td>\n",
       "      <td>99</td>\n",
       "      <td>–</td>\n",
       "      <td>www.quora.com</td>\n",
       "    </tr>\n",
       "    <tr>\n",
       "      <th>68</th>\n",
       "      <td>https://www.quora.com/How-does-a-machine-learn...</td>\n",
       "      <td>99</td>\n",
       "      <td>–</td>\n",
       "      <td>www.quora.com</td>\n",
       "    </tr>\n",
       "    <tr>\n",
       "      <th>709</th>\n",
       "      <td>https://www.quora.com/Which-skill-have-you-lea...</td>\n",
       "      <td>98</td>\n",
       "      <td>–</td>\n",
       "      <td>www.quora.com</td>\n",
       "    </tr>\n",
       "    <tr>\n",
       "      <th>681</th>\n",
       "      <td>https://www.quora.com/What-is-the-logic-behind...</td>\n",
       "      <td>97</td>\n",
       "      <td>–</td>\n",
       "      <td>www.quora.com</td>\n",
       "    </tr>\n",
       "    <tr>\n",
       "      <th>846</th>\n",
       "      <td>https://www.quora.com/What-is-the-best-way-to-...</td>\n",
       "      <td>96</td>\n",
       "      <td>–</td>\n",
       "      <td>www.quora.com</td>\n",
       "    </tr>\n",
       "    <tr>\n",
       "      <th>...</th>\n",
       "      <td>...</td>\n",
       "      <td>...</td>\n",
       "      <td>...</td>\n",
       "      <td>...</td>\n",
       "    </tr>\n",
       "    <tr>\n",
       "      <th>935</th>\n",
       "      <td>https://www.quora.com/How-can-you-tell-that-a-...</td>\n",
       "      <td>1.3K</td>\n",
       "      <td>2</td>\n",
       "      <td>www.quora.com</td>\n",
       "    </tr>\n",
       "    <tr>\n",
       "      <th>372</th>\n",
       "      <td>https://www.quora.com/unanswered/How-do-you-pl...</td>\n",
       "      <td>1.1K</td>\n",
       "      <td>N/A</td>\n",
       "      <td>www.quora.com</td>\n",
       "    </tr>\n",
       "    <tr>\n",
       "      <th>983</th>\n",
       "      <td>https://www.quora.com/What-do-you-feel-like-re...</td>\n",
       "      <td>1</td>\n",
       "      <td>–</td>\n",
       "      <td>www.quora.com</td>\n",
       "    </tr>\n",
       "    <tr>\n",
       "      <th>988</th>\n",
       "      <td>https://www.quora.com/What-is-not-an-expert/an...</td>\n",
       "      <td>1</td>\n",
       "      <td>–</td>\n",
       "      <td>www.quora.com</td>\n",
       "    </tr>\n",
       "    <tr>\n",
       "      <th>999</th>\n",
       "      <td>https://www.quora.com/How-do-I-get-better-in-t...</td>\n",
       "      <td>1</td>\n",
       "      <td>–</td>\n",
       "      <td>www.quora.com</td>\n",
       "    </tr>\n",
       "  </tbody>\n",
       "</table>\n",
       "<p>847 rows × 4 columns</p>\n",
       "</div>"
      ],
      "text/plain": [
       "                                        Question_Links Views Upvotes  \\\n",
       "658  https://www.quora.com/Is-someone-who-has-trave...    99       –   \n",
       "68   https://www.quora.com/How-does-a-machine-learn...    99       –   \n",
       "709  https://www.quora.com/Which-skill-have-you-lea...    98       –   \n",
       "681  https://www.quora.com/What-is-the-logic-behind...    97       –   \n",
       "846  https://www.quora.com/What-is-the-best-way-to-...    96       –   \n",
       "..                                                 ...   ...     ...   \n",
       "935  https://www.quora.com/How-can-you-tell-that-a-...  1.3K       2   \n",
       "372  https://www.quora.com/unanswered/How-do-you-pl...  1.1K     N/A   \n",
       "983  https://www.quora.com/What-do-you-feel-like-re...     1       –   \n",
       "988  https://www.quora.com/What-is-not-an-expert/an...     1       –   \n",
       "999  https://www.quora.com/How-do-I-get-better-in-t...     1       –   \n",
       "\n",
       "            Spaces  \n",
       "658  www.quora.com  \n",
       "68   www.quora.com  \n",
       "709  www.quora.com  \n",
       "681  www.quora.com  \n",
       "846  www.quora.com  \n",
       "..             ...  \n",
       "935  www.quora.com  \n",
       "372  www.quora.com  \n",
       "983  www.quora.com  \n",
       "988  www.quora.com  \n",
       "999  www.quora.com  \n",
       "\n",
       "[847 rows x 4 columns]"
      ]
     },
     "execution_count": 28,
     "metadata": {},
     "output_type": "execute_result"
    }
   ],
   "source": [
    "main_frame = quora_frame[quora_frame.Spaces == 'www.quora.com']\n",
    "main_frame.sort_values('Views', ascending = False)"
   ]
  },
  {
   "cell_type": "code",
   "execution_count": 29,
   "metadata": {},
   "outputs": [],
   "source": [
    "main_frame['Questions'] = main_frame.Question_Links.apply(lambda x : x.split('/')[3])"
   ]
  },
  {
   "cell_type": "code",
   "execution_count": 30,
   "metadata": {},
   "outputs": [],
   "source": [
    "main_frame = main_frame[main_frame.Questions != 'unanswered']"
   ]
  },
  {
   "cell_type": "code",
   "execution_count": 31,
   "metadata": {},
   "outputs": [
    {
     "data": {
      "text/html": [
       "<div>\n",
       "<style scoped>\n",
       "    .dataframe tbody tr th:only-of-type {\n",
       "        vertical-align: middle;\n",
       "    }\n",
       "\n",
       "    .dataframe tbody tr th {\n",
       "        vertical-align: top;\n",
       "    }\n",
       "\n",
       "    .dataframe thead th {\n",
       "        text-align: right;\n",
       "    }\n",
       "</style>\n",
       "<table border=\"1\" class=\"dataframe\">\n",
       "  <thead>\n",
       "    <tr style=\"text-align: right;\">\n",
       "      <th></th>\n",
       "      <th>Question_Links</th>\n",
       "      <th>Views</th>\n",
       "      <th>Upvotes</th>\n",
       "      <th>Spaces</th>\n",
       "      <th>Questions</th>\n",
       "    </tr>\n",
       "  </thead>\n",
       "  <tbody>\n",
       "    <tr>\n",
       "      <th>999</th>\n",
       "      <td>https://www.quora.com/How-do-I-get-better-in-t...</td>\n",
       "      <td>1</td>\n",
       "      <td>–</td>\n",
       "      <td>www.quora.com</td>\n",
       "      <td>How-do-I-get-better-in-typing-in-a-very-short-...</td>\n",
       "    </tr>\n",
       "    <tr>\n",
       "      <th>988</th>\n",
       "      <td>https://www.quora.com/What-is-not-an-expert/an...</td>\n",
       "      <td>1</td>\n",
       "      <td>–</td>\n",
       "      <td>www.quora.com</td>\n",
       "      <td>What-is-not-an-expert</td>\n",
       "    </tr>\n",
       "    <tr>\n",
       "      <th>983</th>\n",
       "      <td>https://www.quora.com/What-do-you-feel-like-re...</td>\n",
       "      <td>1</td>\n",
       "      <td>–</td>\n",
       "      <td>www.quora.com</td>\n",
       "      <td>What-do-you-feel-like-reading-today</td>\n",
       "    </tr>\n",
       "    <tr>\n",
       "      <th>935</th>\n",
       "      <td>https://www.quora.com/How-can-you-tell-that-a-...</td>\n",
       "      <td>1.3K</td>\n",
       "      <td>2</td>\n",
       "      <td>www.quora.com</td>\n",
       "      <td>How-can-you-tell-that-a-guy-likes-you-1</td>\n",
       "    </tr>\n",
       "    <tr>\n",
       "      <th>722</th>\n",
       "      <td>https://www.quora.com/Should-I-major-in-busine...</td>\n",
       "      <td>1.5K</td>\n",
       "      <td>–</td>\n",
       "      <td>www.quora.com</td>\n",
       "      <td>Should-I-major-in-business-or-engineering</td>\n",
       "    </tr>\n",
       "  </tbody>\n",
       "</table>\n",
       "</div>"
      ],
      "text/plain": [
       "                                        Question_Links Views Upvotes  \\\n",
       "999  https://www.quora.com/How-do-I-get-better-in-t...     1       –   \n",
       "988  https://www.quora.com/What-is-not-an-expert/an...     1       –   \n",
       "983  https://www.quora.com/What-do-you-feel-like-re...     1       –   \n",
       "935  https://www.quora.com/How-can-you-tell-that-a-...  1.3K       2   \n",
       "722  https://www.quora.com/Should-I-major-in-busine...  1.5K       –   \n",
       "\n",
       "            Spaces                                          Questions  \n",
       "999  www.quora.com  How-do-I-get-better-in-typing-in-a-very-short-...  \n",
       "988  www.quora.com                              What-is-not-an-expert  \n",
       "983  www.quora.com                What-do-you-feel-like-reading-today  \n",
       "935  www.quora.com            How-can-you-tell-that-a-guy-likes-you-1  \n",
       "722  www.quora.com          Should-I-major-in-business-or-engineering  "
      ]
     },
     "execution_count": 31,
     "metadata": {},
     "output_type": "execute_result"
    }
   ],
   "source": [
    "main_frame.sort_values('Views').head()"
   ]
  },
  {
   "cell_type": "code",
   "execution_count": 32,
   "metadata": {},
   "outputs": [
    {
     "data": {
      "text/plain": [
       "(818, 5)"
      ]
     },
     "execution_count": 32,
     "metadata": {},
     "output_type": "execute_result"
    }
   ],
   "source": [
    "main_frame.shape"
   ]
  },
  {
   "cell_type": "markdown",
   "metadata": {},
   "source": [
    "This command asks for the answer\n",
    "\n",
    "main_frame['Answers'] = main_frame.Question_Links.apply(lambda x: answer_collector(x))"
   ]
  },
  {
   "cell_type": "code",
   "execution_count": 76,
   "metadata": {},
   "outputs": [],
   "source": [
    "main_frame.to_csv('Quora_My_Answers.csv')"
   ]
  },
  {
   "cell_type": "code",
   "execution_count": 33,
   "metadata": {},
   "outputs": [],
   "source": [
    "load_answers = pd.read_csv('Quora_My_Answers.csv')"
   ]
  },
  {
   "cell_type": "code",
   "execution_count": 34,
   "metadata": {},
   "outputs": [
    {
     "data": {
      "text/html": [
       "<div>\n",
       "<style scoped>\n",
       "    .dataframe tbody tr th:only-of-type {\n",
       "        vertical-align: middle;\n",
       "    }\n",
       "\n",
       "    .dataframe tbody tr th {\n",
       "        vertical-align: top;\n",
       "    }\n",
       "\n",
       "    .dataframe thead th {\n",
       "        text-align: right;\n",
       "    }\n",
       "</style>\n",
       "<table border=\"1\" class=\"dataframe\">\n",
       "  <thead>\n",
       "    <tr style=\"text-align: right;\">\n",
       "      <th></th>\n",
       "      <th>index</th>\n",
       "      <th>Unnamed: 0</th>\n",
       "      <th>Question_Links</th>\n",
       "      <th>Views</th>\n",
       "      <th>Upvotes</th>\n",
       "      <th>Spaces</th>\n",
       "      <th>Questions</th>\n",
       "      <th>Answers</th>\n",
       "    </tr>\n",
       "  </thead>\n",
       "  <tbody>\n",
       "    <tr>\n",
       "      <th>0</th>\n",
       "      <td>0</td>\n",
       "      <td>1</td>\n",
       "      <td>https://www.quora.com/Im-a-high-school-student...</td>\n",
       "      <td>205</td>\n",
       "      <td>–</td>\n",
       "      <td>www.quora.com</td>\n",
       "      <td>Im-a-high-school-student-and-Im-interested-in-...</td>\n",
       "      <td>Start by learning to program and problem solvi...</td>\n",
       "    </tr>\n",
       "    <tr>\n",
       "      <th>1</th>\n",
       "      <td>1</td>\n",
       "      <td>3</td>\n",
       "      <td>https://www.quora.com/How-can-learning-to-prog...</td>\n",
       "      <td>20</td>\n",
       "      <td>–</td>\n",
       "      <td>www.quora.com</td>\n",
       "      <td>How-can-learning-to-program-make-a-difference-...</td>\n",
       "      <td>Try coding one simplest program on a competiti...</td>\n",
       "    </tr>\n",
       "    <tr>\n",
       "      <th>2</th>\n",
       "      <td>2</td>\n",
       "      <td>4</td>\n",
       "      <td>https://www.quora.com/Why-is-Google-s-YouTube-...</td>\n",
       "      <td>80</td>\n",
       "      <td>–</td>\n",
       "      <td>www.quora.com</td>\n",
       "      <td>Why-is-Google-s-YouTube-increasing-a-number-of...</td>\n",
       "      <td>The services provided are slowly trending towa...</td>\n",
       "    </tr>\n",
       "    <tr>\n",
       "      <th>3</th>\n",
       "      <td>3</td>\n",
       "      <td>6</td>\n",
       "      <td>https://www.quora.com/How-much-mathematics-is-...</td>\n",
       "      <td>32</td>\n",
       "      <td>–</td>\n",
       "      <td>www.quora.com</td>\n",
       "      <td>How-much-mathematics-is-enough-to-start-learni...</td>\n",
       "      <td>ML algorithms are conceptually simple, and the...</td>\n",
       "    </tr>\n",
       "    <tr>\n",
       "      <th>4</th>\n",
       "      <td>4</td>\n",
       "      <td>11</td>\n",
       "      <td>https://www.quora.com/How-can-I-learn-problem-...</td>\n",
       "      <td>17</td>\n",
       "      <td>–</td>\n",
       "      <td>www.quora.com</td>\n",
       "      <td>How-can-I-learn-problem-solving-techniques-for...</td>\n",
       "      <td>This secret is not even considered as a secret...</td>\n",
       "    </tr>\n",
       "  </tbody>\n",
       "</table>\n",
       "</div>"
      ],
      "text/plain": [
       "   index  Unnamed: 0                                     Question_Links Views  \\\n",
       "0      0           1  https://www.quora.com/Im-a-high-school-student...   205   \n",
       "1      1           3  https://www.quora.com/How-can-learning-to-prog...    20   \n",
       "2      2           4  https://www.quora.com/Why-is-Google-s-YouTube-...    80   \n",
       "3      3           6  https://www.quora.com/How-much-mathematics-is-...    32   \n",
       "4      4          11  https://www.quora.com/How-can-I-learn-problem-...    17   \n",
       "\n",
       "  Upvotes         Spaces                                          Questions  \\\n",
       "0       –  www.quora.com  Im-a-high-school-student-and-Im-interested-in-...   \n",
       "1       –  www.quora.com  How-can-learning-to-program-make-a-difference-...   \n",
       "2       –  www.quora.com  Why-is-Google-s-YouTube-increasing-a-number-of...   \n",
       "3       –  www.quora.com  How-much-mathematics-is-enough-to-start-learni...   \n",
       "4       –  www.quora.com  How-can-I-learn-problem-solving-techniques-for...   \n",
       "\n",
       "                                             Answers  \n",
       "0  Start by learning to program and problem solvi...  \n",
       "1  Try coding one simplest program on a competiti...  \n",
       "2  The services provided are slowly trending towa...  \n",
       "3  ML algorithms are conceptually simple, and the...  \n",
       "4  This secret is not even considered as a secret...  "
      ]
     },
     "execution_count": 34,
     "metadata": {},
     "output_type": "execute_result"
    }
   ],
   "source": [
    "load_answers = load_answers[~load_answers.Answers.isna()].reset_index()\n",
    "load_answers.head()"
   ]
  },
  {
   "cell_type": "code",
   "execution_count": 35,
   "metadata": {},
   "outputs": [],
   "source": [
    "load_answers.drop(['index', 'Unnamed: 0'], inplace= True, axis = 1)"
   ]
  },
  {
   "cell_type": "code",
   "execution_count": 38,
   "metadata": {},
   "outputs": [
    {
     "data": {
      "text/plain": [
       "387"
      ]
     },
     "execution_count": 38,
     "metadata": {},
     "output_type": "execute_result"
    }
   ],
   "source": [
    "main_frame.shape[0] - load_answers.shape[0]"
   ]
  },
  {
   "cell_type": "code",
   "execution_count": 41,
   "metadata": {},
   "outputs": [],
   "source": [
    "filter_frame = pd.merge(right=load_answers, left= main_frame, right_on= 'Question_Links', left_on='Question_Links', how='left')"
   ]
  },
  {
   "cell_type": "code",
   "execution_count": 46,
   "metadata": {},
   "outputs": [],
   "source": [
    "filter_frame = filter_frame[filter_frame.Answers.isna()]\n",
    "filter_frame.drop(['Questions_y', 'Spaces_y', 'Upvotes_y', 'Views_y'], axis= 1, inplace= True)\n",
    "filter_frame.columns = ['Question_Links','Views', 'Upvotes','Spaces','Questions','Answers']"
   ]
  },
  {
   "cell_type": "code",
   "execution_count": 50,
   "metadata": {},
   "outputs": [],
   "source": [
    "updated_answers = load_answers.append(filter_frame)"
   ]
  },
  {
   "cell_type": "code",
   "execution_count": 53,
   "metadata": {},
   "outputs": [
    {
     "data": {
      "text/plain": [
       "0      https://www.quora.com/Why-do-you-wiggle-the-sh...\n",
       "1      https://www.quora.com/I-am-trying-to-get-into-...\n",
       "2      https://www.quora.com/In-the-NLP-problem-if-th...\n",
       "4      https://www.quora.com/Why-can-learning-to-code...\n",
       "19     https://www.quora.com/profile/Kamal-Raj-17/htt...\n",
       "                             ...                        \n",
       "813    https://www.quora.com/How-do-you-pass-your-day...\n",
       "814    https://www.quora.com/Is-it-important-to-learn...\n",
       "815    https://www.quora.com/What-are-some-signs-that...\n",
       "816    https://www.quora.com/What-would-you-say-to-a-...\n",
       "817    https://www.quora.com/How-do-I-get-better-in-t...\n",
       "Name: Question_Links, Length: 388, dtype: object"
      ]
     },
     "execution_count": 53,
     "metadata": {},
     "output_type": "execute_result"
    }
   ],
   "source": [
    "updated_answers.loc[updated_answers.Answers.isna(),'Question_Links']"
   ]
  },
  {
   "cell_type": "code",
   "execution_count": 54,
   "metadata": {},
   "outputs": [
    {
     "name": "stdout",
     "output_type": "stream",
     "text": [
      "https://www.quora.com/Why-do-you-wiggle-the-shifter/answer/Kamal-Raj-17 done\n",
      "https://www.quora.com/I-am-trying-to-get-into-data-science-I-completed-graduation-from-physics-I-have-some-basic-idea-about-Python-coding-I-know-there-are-many-courses-but-I-dont-know-where-to-start/answer/Kamal-Raj-17 done\n",
      "https://www.quora.com/In-the-NLP-problem-if-the-training-accuracy-is-94-and-the-test-is-85-is-it-considered-overfitting/answer/Kamal-Raj-17 done\n",
      "https://www.quora.com/Why-can-learning-to-code-change-your-life/answer/Kamal-Raj-17 done\n",
      "https://www.quora.com/profile/Kamal-Raj-17/https-www-quora-com-Im-15-years-old-and-I-want-to-pursue-CS-in-the-future-How-do-I-get-started-with-it-answer-Kamal-Ra done\n",
      "https://www.quora.com/profile/Kamal-Raj-17/https-clcoding-quora-com-10-coding-truth done\n",
      "https://www.quora.com/profile/Kamal-Raj-17/https-www-quora-com-Is-it-worth-attending-TNABC-Miami-for-a-deep-learning-of-crypto-and-blockchain-answer-Kamal-Raj-17 done\n",
      "https://www.quora.com/profile/Kamal-Raj-17/https-www-quora-com-Does-reinforcement-learning-need-a-lot-of-data-like-supervised-or-deep-learning-does-answer-Kamal done\n",
      "https://www.quora.com/profile/Kamal-Raj-17/https-www-quora-com-Which-branch-should-I-choose-in-a-B-Tech-for-artificial-intelligence-and-machine-learning-answer-K done\n",
      "https://www.quora.com/profile/Kamal-Raj-17/https-www-quora-com-How-do-you-make-an-ML-model-robust-to-Simpsons-paradox-machine-learning-neural-networks-categorica done\n",
      "https://www.quora.com/profile/Kamal-Raj-17/https-www-quora-com-Do-those-creating-AI-not-worry-about-it-becoming-self-aware-answer-Kamal-Raj-17-3 done\n",
      "https://www.quora.com/profile/Kamal-Raj-17/https-www-quora-com-How-long-does-it-take-to-learn-AI-and-machine-learning-development-answer-Kamal-Raj-17 done\n",
      "https://www.quora.com/profile/Kamal-Raj-17/https-www-quora-com-Which-programming-language-should-I-learn-now-Im-12-years-old-to-get-a-job-in-Google-or-Microsoft done\n",
      "https://www.quora.com/profile/Kamal-Raj-17/https-www-quora-com-What-are-the-things-one-should-learn-in-their-corporate-career-before-its-too-late-answer-Kamal-Ra done\n",
      "https://www.quora.com/profile/Kamal-Raj-17/Very-inspiring-Indians-are-right-around-the-corner-https-www-quora-com-What-are-the-things-which-make-every-Indian-pr done\n",
      "https://www.quora.com/profile/Kamal-Raj-17/Every-day-there-is-so-much-to-learn-and-share-This-space-is-about-multiple-dimensions-of-life-and-how-each-contributes done\n",
      "https://www.quora.com/profile/Kamal-Raj-17/When-Failure-comes-knocking-you-show-the-Success-to-it-https-www-quora-com-Failure-demand-reset-but-how-to-shift-foc done\n",
      "https://www.quora.com/profile/Kamal-Raj-17/Where-will-I-find-my-way-to-success-We-all-ask-this-question-when-how-to-find-successis-what-we-must-be-asking done\n",
      "https://www.quora.com/I-know-nothing-about-politics-How-can-I-start-to-know-about-it/answer/Kamal-Raj-17 done\n",
      "https://www.quora.com/profile/Kamal-Raj-17/Many-come-to-the-situation-where-the-underlying-feeling-of-disappointed-lurks-How-to-get-out-of-it-and-have-a-great-lif done\n",
      "https://www.quora.com/profile/Kamal-Raj-17/Becoming-passionate-can-be-a-challenge-which-can-be-broken-simply-Find-out-how-https-www-quora-com-How-can-I-beg done\n",
      "https://www.quora.com/profile/Kamal-Raj-17/https-www-quora-com-Should-I-focus-on-generating-new-ideas-and-questions-or-be-better-start-learning-skills-for-jobs-I done\n",
      "https://www.quora.com/profile/Kamal-Raj-17/Interesting-challenge-that-many-of-us-face-Right-https-www-quora-com-How-do-you-sustain-your-passion-as-you-make done\n",
      "https://www.quora.com/profile/Kamal-Raj-17/https-www-quora-com-Where-do-you-see-content-creators-five-years-from-now-answer-Kamal-Raj-17 done\n",
      "https://www.quora.com/profile/Kamal-Raj-17/KAMALRAJ-M-M-on-LinkedIn-blockchain-cryptocurrency-engineering done\n",
      "https://www.quora.com/profile/Kamal-Raj-17/KAMALRAJ-M-M-on-LinkedIn-Why-autonomous-robots-are-still-not-fully-penetrated-our-reality-like done\n",
      "https://www.quora.com/profile/Kamal-Raj-17/KAMALRAJ-M-M-on-LinkedIn-Can-the-Memes-be-the-deciding-factor-of-our-Future-and-Civilisation done\n",
      "https://www.quora.com/Is-it-possible-to-work-in-one-hand/answer/Kamal-Raj-17 done\n",
      "https://www.quora.com/How-do-I-set-goals-for-myself/answer/Kamal-Raj-17 done\n",
      "https://www.quora.com/What-do-you-want-to-achieve-1-year-from-now/answer/Kamal-Raj-17 done\n",
      "https://www.quora.com/What-skill-can-a-34-year-old-learn-that-will-get-them-a-good-job/answers/263957185 done\n",
      "https://www.quora.com/What-advice-can-you-give-to-a-beginner-artist-I-am-currently-in-10th-and-I-love-to-illustrate-and-I-would-love-to-hear-some-of-your-tips/answer/Kamal-Raj-17 done\n",
      "https://www.quora.com/Which-motor-skill-you-enjoyed-the-most-and-why/answer/Kamal-Raj-17 done\n",
      "https://www.quora.com/I-have-lost-my-hobbies-and-interests-or-maybe-I-dont-have-any-What-are-some-suggestions-for-a-new-hobbies-list-What-can-I-do/answer/Kamal-Raj-17 done\n",
      "https://www.quora.com/What-do-you-use-to-play-with-yourself-in-your-free-time/answer/Kamal-Raj-17 done\n",
      "https://www.quora.com/What-is-the-best-way-to-master-a-skill/answer/Kamal-Raj-17 done\n",
      "https://www.quora.com/For-a-better-future-or-career-should-I-focus-in-my-studies-or-in-my-interests/answer/Kamal-Raj-17 done\n",
      "https://www.quora.com/Does-joining-an-expensive-gym-help-you-to-achieve-your-goal/answer/Kamal-Raj-17 done\n",
      "https://www.quora.com/If-you-have-a-friend-who-wants-to-start-a-business-with-you-but-already-expects-a-high-pre-revenue-salary-similar-to-his-present-job-in-order-to-maintain-his-lifestyle-should-you-tell-him-to-stick-to-his-day-job-and/answer/Kamal-Raj-17 done\n",
      "https://www.quora.com/What-are-your-goals-for-February-2021/answer/Kamal-Raj-17 done\n",
      "https://www.quora.com/Under-whose-responsibility-is-a-ship-working/answer/Kamal-Raj-17 done\n",
      "https://www.quora.com/How-do-you-keep-motivated-when-the-course-you-are-studying-and-your-interest-is-very-different-Also-to-keep-in-mind-that-my-interested-subject-has-low-career-options-than-other-subjects/answer/Kamal-Raj-17 done\n",
      "https://www.quora.com/How-do-I-learn-business-rules-without-doing-an-MBA/answer/Kamal-Raj-17 done\n",
      "https://www.quora.com/If-what-we-experience-is-just-planning-what-is-beyond-the-mask-of-planning-Should-magic-be-thought-of-as-our-self-concept-that-unites-the-ego-with-another-form-of-stability/answer/Kamal-Raj-17 done\n",
      "https://www.quora.com/What-is-the-difference-between-those-who-can-start-a-business-and-grow-the-company-and-those-who-cannot/answer/Kamal-Raj-17 done\n",
      "https://www.quora.com/What-is-the-meaning-of-the-following-Japanese-word-Genki-desu-ka/answer/Kamal-Raj-17 done\n",
      "https://www.quora.com/What-happens-when-we-only-prioritize-one-outcome/answer/Kamal-Raj-17 done\n",
      "https://www.quora.com/What-are-practical-and-specific-ways-one-can-expand-ones-horizons-to-see-opportunities-earlier-than-one-normally-does-not-just-general-advice-to-read-a-book/answer/Kamal-Raj-17 done\n",
      "https://www.quora.com/What-are-some-really-creative-and-quick-ways-to-fill-your-sketchbook/answer/Kamal-Raj-17 done\n",
      "https://www.quora.com/Which-foreign-language-course-should-I-study-from-JNU-If-I-get-selected-and-also-why-More-people-are-saying-go-for-Japanese-but-why-not-Korean/answer/Kamal-Raj-17 done\n",
      "https://www.quora.com/Why-does-our-logical-mind-almost-stop-functioning-when-hijacked-by-strong-emotions/answer/Kamal-Raj-17 done\n",
      "https://www.quora.com/How-do-I-become-a-product-manager-in-2021/answer/Kamal-Raj-17 done\n",
      "https://www.quora.com/In-every-decision-you-make-regarding-your-life-how-do-you-make-choices-What-are-the-things-you-always-consider-before-choosing/answer/Kamal-Raj-17 done\n",
      "https://www.quora.com/Is-it-hard-to-learn-Japanese-in-2021/answer/Kamal-Raj-17 done\n",
      "https://www.quora.com/I-am-stuck-in-a-career-I-dont-want-what-should-I-do/answer/Kamal-Raj-17 done\n",
      "https://www.quora.com/How-can-you-decide-the-best-startup/answer/Kamal-Raj-17 done\n",
      "https://www.quora.com/What-do-you-do-in-the-morning-to-mentally-prepare-yourself-to-go-to-work-and-why/answer/Kamal-Raj-17 done\n",
      "https://www.quora.com/Should-I-take-some-time-away-from-the-Internet/answer/Kamal-Raj-17 done\n",
      "https://www.quora.com/How-can-a-person-break-the-cycle-of-needing-a-job-to-gain-experience-and-needing-experience-to-gain-a-job/answer/Kamal-Raj-17 done\n",
      "https://www.quora.com/How-long-does-it-take-for-someone-to-become-an-expert-in-a-particular-field/answer/Kamal-Raj-17 done\n",
      "https://www.quora.com/What-do-you-think-every-person-needs-to-do-in-order-to-be-called-a-human/answer/Kamal-Raj-17 done\n",
      "https://www.quora.com/What-is-a-good-daily-schedule-plan/answer/Kamal-Raj-17 done\n",
      "https://www.quora.com/How-can-I-motivate-myself-to-study-when-Im-fully-tired-after-doing-a-9-to-5-job-and-5-to-6-km-walking/answer/Kamal-Raj-17 done\n",
      "https://www.quora.com/Is-someone-who-has-traveled-a-lot-better-as-a-person-than-someone-who-hasnt/answer/Kamal-Raj-17 done\n",
      "https://www.quora.com/What-would-you-say-to-people-who-read-too-many-books/answer/Kamal-Raj-17 done\n",
      "https://www.quora.com/What-is-the-Japanese-word-for-Sunday/answer/Kamal-Raj-17 done\n",
      "https://www.quora.com/As-a-teenager-I-have-a-doubt-successful-pepole-say-work-day-and-night-but-most-industries-just-have-to-make-stuff-and-sell-them-so-why-should-we-work-day-and-night-I-am-confused/answer/Kamal-Raj-17 done\n",
      "https://www.quora.com/Can-we-become-an-expert-in-multiple-skills/answer/Kamal-Raj-17 done\n",
      "https://www.quora.com/What-are-some-effective-ways-to-work-on-my-goals-so-that-I-can-put-my-maximum-efforts-to-achieve-them-in-a-minimum-time-period-that-what-I-have-decided-earlier/answer/Kamal-Raj-17 done\n",
      "https://www.quora.com/Skill-attainment-decides-the-inclination-of-humans-in-being-stable-in-professions-When-opportunities-are-unavailable-how-could-youth-from-rural-areas-attain-skills/answer/Kamal-Raj-17 done\n",
      "https://www.quora.com/How-do-I-make-kids-learn-tables/answer/Kamal-Raj-17 done\n",
      "https://www.quora.com/What-are-the-four-guidelines-to-keep-in-mind-when-connecting-with-your-leads-over-the-phone/answer/Kamal-Raj-17 done\n",
      "https://www.quora.com/Which-approach-to-CS-is-better-either-on-basics-like-algorithms-math-or-more-fancy-things-like-web-ML-latest-frameworks-Formar-has-potential-for-long-term-value-over-short-term-and-instinctively-feels-right-while/answer/Kamal-Raj-17 done\n",
      "https://www.quora.com/Can-an-excuse-to-love-myself-more-be-used-to-leave-and-stay-away-from-someone/answer/Kamal-Raj-17 done\n",
      "https://www.quora.com/If-a-kid-will-be-a-CEO-how-can-they-attend-the-CEO-meetings/answer/Kamal-Raj-17 done\n",
      "https://www.quora.com/If-you-could-read-one-book-100-times-again-what-would-it-be/answer/Kamal-Raj-17 done\n",
      "https://www.quora.com/What-do-you-want-to-build-What-are-you-doing-about-it/answer/Kamal-Raj-17 done\n",
      "https://www.quora.com/How-do-I-stop-thinking-about-a-guy-whom-I-had-a-crush-on-for-the-past-5-years-Nowadays-I-only-think-about-him-This-is-affecting-my-studies-a-lot-My-thoughts-seem-to-have-no-control/answer/Kamal-Raj-17 done\n",
      "https://www.quora.com/Which-topic-should-I-have-to-choose-for-a-motivational-speech-in-my-college-republic-day-function/answer/Kamal-Raj-17 done\n",
      "https://www.quora.com/Why-is-the-habit-to-do-work-hurriedly-not-good/answer/Kamal-Raj-17 done\n",
      "https://www.quora.com/I-am-pursuing-a-BTech-in-electronics-engineering-Which-foreign-language-is-best-for-me-Japanese-or-German-in-order-to-do-a-job-purely-and-not-any-master-s/answer/Kamal-Raj-17 done\n",
      "https://www.quora.com/How-do-I-get-the-best-out-of-2021/answer/Kamal-Raj-17 done\n",
      "https://www.quora.com/Which-are-all-the-top-5-technical-skills-nowadays-mechanical-engineers-should-know-to-get-a-good-salary/answer/Kamal-Raj-17 done\n",
      "https://www.quora.com/What-is-the-most-consistent-thing-that-you-have-been-doing-for-the-last-3-years/answer/Kamal-Raj-17 done\n",
      "https://www.quora.com/What-are-the-motivations-to-learn-Japanese/answer/Kamal-Raj-17 done\n",
      "https://www.quora.com/Whats-the-difference-between-resolutions-and-goals/answer/Kamal-Raj-17 done\n",
      "https://www.quora.com/What-is-the-logic-behind-Your-profile-has-been-viewed-by-X-people-in-Y-days-in-LinkedIn/answer/Kamal-Raj-17 done\n",
      "https://www.quora.com/What-makes-good-minutes-in-a-meeting/answer/Kamal-Raj-17 done\n",
      "https://www.quora.com/Is-there-a-limit-to-the-maximum-number-of-members-in-a-Toastmasters-club/answer/Kamal-Raj-17 done\n",
      "https://www.quora.com/Why-do-I-feel-like-my-boyfriend-doesnt-love-me-even-when-he-loves-me-the-most/answer/Kamal-Raj-17 done\n",
      "https://www.quora.com/Is-there-any-other-way-to-force-yourself-to-study-other-than-mentioned-on-the-internet-like-rewarding-yourself-etc/answer/Kamal-Raj-17 done\n",
      "https://www.quora.com/How-do-I-approach-sick-patients-as-potential-business-clients-if-Im-selling-health-products/answer/Kamal-Raj-17 done\n",
      "https://www.quora.com/What-people-skills-are-useful-during-remote-working/answer/Kamal-Raj-17 done\n",
      "https://www.quora.com/I-feel-mental-pain-and-confusion-without-any-reason-It-hurts-like-something-is-burning-in-my-psyche-and-I-dont-get-the-relaxation-I-watch-movies-and-study-but-theres-is-no-peace-What-should-I-do/answer/Kamal-Raj-17 done\n",
      "https://www.quora.com/Do-you-think-the-guy-is-desperate-when-you-never-met-him-early-but-he-asked-you-to-be-his-girlfriend-online/answer/Kamal-Raj-17 done\n",
      "https://www.quora.com/What-would-you-do-if-you-have-not-graduated/answer/Kamal-Raj-17 done\n",
      "https://www.quora.com/What-can-I-do-when-an-ex-doesnt-want-to-be-friends-I-no-longer-have-feelings-for-him-and-have-moved-on-with-someone-else-The-last-I-heard-from-him-was-late-November-2020-I-wish-I-could-understand-what-hes-thinking/answer/Kamal-Raj-17 done\n",
      "https://www.quora.com/Why-do-I-feel-like-crying-my-eyes-out-for-weeks-because-somebody-told-me-I-m-not-good-enough/answer/Kamal-Raj-17 done\n",
      "https://www.quora.com/What-skills-should-I-learn-to-get-a-good-job/answer/Kamal-Raj-17 done\n",
      "https://www.quora.com/WHAT-ARE-THE-TECHNICAL-SKILLS-REQUIRED-BY-THE-COGNIZANT-TECHNOLOGY-SOLUTIONS-OR-ON-WHAT-FIELDS-OR-AREAS-CTS-IS-WORKING/answer/Kamal-Raj-17 done\n",
      "https://www.quora.com/Im-lost-career-wise-How-do-I-figure-out-the-right-career-job-for-me/answer/Kamal-Raj-17 done\n",
      "https://www.quora.com/How-do-I-decide-which-business-to-start-What-skills-are-required-for-it-like-MBA/answer/Kamal-Raj-17 done\n",
      "https://www.quora.com/What-skill-should-I-learn-online-that-can-be-helpful-for-getting-a-job/answer/Kamal-Raj-17 done\n",
      "https://www.quora.com/What-is-the-best-novel-based-on-responsibility/answer/Kamal-Raj-17 done\n",
      "https://www.quora.com/What-if-Google-were-to-dissapear/answer/Kamal-Raj-17 done\n",
      "https://www.quora.com/Ive-dropped-out-of-university-at-23-years-old-Ive-worked-for-a-while-Now-Im-26-and-Id-like-to-go-back-is-it-worth-it-and-does-it-help-to-find-a-better-career/answer/Kamal-Raj-17 done\n",
      "https://www.quora.com/When-was-the-time-you-tried-something-new/answer/Kamal-Raj-17 done\n",
      "https://www.quora.com/Does-working-from-home-eventually-result-in-overworking-Why/answer/Kamal-Raj-17 done\n",
      "https://www.quora.com/My-boyfriend-is-20-years-old-and-says-that-he-has-never-liked-or-had-a-crush-on-any-girl-but-had-1-ex-Should-I-trust-him-on-this/answer/Kamal-Raj-17 done\n",
      "https://www.quora.com/My-boyfriend-asks-me-if-he-s-my-taste-in-guys-Personally-I-do-love-him-but-he-isnt-my-type-and-I-cant-just-lie-I-hurt-his-feelings-by-telling-him-no-What-should-I-do/answer/Kamal-Raj-17 done\n",
      "https://www.quora.com/What-kind-of-business-can-be-started-after-completing-MBA/answer/Kamal-Raj-17 done\n",
      "https://www.quora.com/Which-skills-should-I-learn-for-a-job-in-2021/answer/Kamal-Raj-17 done\n",
      "https://www.quora.com/Which-skill-have-you-learned-without-practice/answer/Kamal-Raj-17 done\n",
      "https://www.quora.com/When-it-comes-to-trading-what-is-the-skill-that-is-seemingly-simple-but-very-hard-to-master-practically/answer/Kamal-Raj-17 done\n",
      "https://www.quora.com/How-can-a-student-ensure-that-time-spent-on-learning-is-directly-proportional-to-the-amount-of-knowledge-gained/answer/Kamal-Raj-17 done\n",
      "https://www.quora.com/I-cant-stand-being-lonely-anymore-but-Im-really-bad-in-love-or-friendly-relationships-What-should-I-do/answer/Kamal-Raj-17 done\n",
      "https://www.quora.com/Is-it-easy-to-learn-Japanese/answer/Kamal-Raj-17 done\n",
      "https://www.quora.com/How-do-I-get-quickly-50-if-I-know-how-to-code/answer/Kamal-Raj-17 done\n",
      "https://www.quora.com/Which-is-the-best-business-to-start-nowadays/answer/Kamal-Raj-17 done\n",
      "https://www.quora.com/How-long-can-a-company-thrive-doing-just-one-thing-1/answer/Kamal-Raj-17 done\n",
      "https://www.quora.com/Is-it-profitable-today-to-open-your-own-business/answer/Kamal-Raj-17 done\n",
      "https://www.quora.com/What-are-must-read-novels-for-students/answer/Kamal-Raj-17 done\n",
      "https://www.quora.com/What-are-some-must-read-books-for-an-18-year-old/answer/Kamal-Raj-17 done\n",
      "https://www.quora.com/What-is-the-benefit-of-learning-new-things-each-day/answer/Kamal-Raj-17 done\n",
      "https://www.quora.com/How-can-I-study-and-have-more-discipline/answer/Kamal-Raj-17 done\n",
      "https://www.quora.com/Should-I-major-in-business-or-engineering/answer/Kamal-Raj-17 done\n",
      "https://www.quora.com/How-can-I-communicate-effectively-when-remote-working/answer/Kamal-Raj-17 done\n",
      "https://www.quora.com/How-can-one-develop-a-habit-of-learning/answer/Kamal-Raj-17 done\n",
      "https://www.quora.com/What-are-the-most-interesting-books-that-you-have-read/answer/Kamal-Raj-17 done\n",
      "https://www.quora.com/I-am-freshman-in-college-with-goals-of-becoming-a-Google-Level-3-engineer-at-the-end-of-my-undergrad-Any-tips-or-suggestions-on-how-I-could-reach-my-goal/answer/Kamal-Raj-17 done\n",
      "https://www.quora.com/What-is-your-one-main-skill-or-method-that-makes-you-a-good-manager-I-use-mind-mapping-for-everything-and-you/answer/Kamal-Raj-17 done\n",
      "https://www.quora.com/How-do-businesses-track-customers/answer/Kamal-Raj-17 done\n",
      "https://www.quora.com/What-business-or-career-is-best-if-the-only-goal-is-to-make-as-much-money-as-possible-businesses-to-start-jobs-to-pursue-skills-to-learn/answer/Kamal-Raj-17 done\n",
      "https://www.quora.com/What-are-some-ways-to-help-you-convey-your-ideas-forcefully-and-persuasively-in-any-public-speaking-situation/answer/Kamal-Raj-17 done\n",
      "https://www.quora.com/What-are-some-tips-for-excellent-communication-and-for-excelling-in-everything-you-do/answer/Kamal-Raj-17 done\n",
      "https://www.quora.com/How-did-people-memorise-the-Upanishads-in-the-early-days/answer/Kamal-Raj-17 done\n",
      "https://www.quora.com/What-are-some-of-the-interesting-techniques-that-can-help-me-increase-my-daily-reading-capacity/answer/Kamal-Raj-17 done\n",
      "https://www.quora.com/What-does-good-team-communication-look-like/answer/Kamal-Raj-17 done\n",
      "https://www.quora.com/How-long-do-you-typically-workout-in-the-gym-Do-you-keep-it-to-one-hour-Is-going-over-an-hour-considered-bad-or-good/answer/Kamal-Raj-17 done\n",
      "https://www.quora.com/Which-novels-did-you-read-in-2020-and-what-learnings-did-you-take-from-them/answer/Kamal-Raj-17 done\n",
      "https://www.quora.com/How-do-you-feel-if-you-reach-27-years-old/answer/Kamal-Raj-17 done\n",
      "https://www.quora.com/Is-it-better-to-remain-single-alone-and-happy-forever-from-age-27-till-death-without-being-married-or-even-without-any-social-connection/answer/Kamal-Raj-17 done\n",
      "https://www.quora.com/How-do-you-improve-your-work-ethic-fast/answer/Kamal-Raj-17 done\n",
      "https://www.quora.com/You-are-going-to-be-stuck-on-an-island-for-a-year-but-can-have-one-celebrity-one-book-and-a-song-with-you-What-do-you-choose/answer/Kamal-Raj-17 done\n",
      "https://www.quora.com/Can-you-suggest-your-own-project-to-your-company-if-it-aligns-with-its-work-and-goals/answer/Kamal-Raj-17 done\n",
      "https://www.quora.com/Should-I-tell-my-boyfriend-that-I-like-girls-too-or-should-I-not-tell-him/answer/Kamal-Raj-17 done\n",
      "https://www.quora.com/How-is-Elan-toastmasters-club-Hyderabad-quality/answer/Kamal-Raj-17 done\n",
      "https://www.quora.com/Is-there-a-way-to-get-free-books-not-ebooks-but-real-books/answer/Kamal-Raj-17 done\n",
      "https://www.quora.com/If-you-could-experience-the-first-kiss-again-would-it-be-with-the-same-person-What-would-you-do-differently-What-were-your-thoughts-after-the-kiss/answer/Kamal-Raj-17 done\n",
      "https://www.quora.com/How-does-one-find-freedom-and-happiness-Are-these-goals-attainable-or-figments-of-our-imagination/answer/Kamal-Raj-17 done\n",
      "https://www.quora.com/Which-is-better-Toastmasters-or-Rotary/answer/Kamal-Raj-17 done\n",
      "https://www.quora.com/What-is-the-easiest-way-of-overcoming-stage-fright/answer/Kamal-Raj-17 done\n",
      "https://www.quora.com/Is-it-better-to-read-philosophy-as-compared-to-fiction/answer/Kamal-Raj-17 done\n",
      "https://www.quora.com/Why-do-robots-need-to-learn-language/answer/Kamal-Raj-17 done\n",
      "https://www.quora.com/I-lose-focus-alot-how-i-can-stop-losing-it/answer/Kamal-Raj-17 done\n",
      "https://www.quora.com/Why-does-Warren-Buffett-say-that-The-Intelligent-Investor-is-the-best-book-for-long-term-investment/answer/Kamal-Raj-17 done\n",
      "https://www.quora.com/What-is-the-name-of-a-book-that-you-read-every-day-as-it-brought-a-big-change-in-you/answer/Kamal-Raj-17 done\n",
      "https://www.quora.com/How-do-I-check-the-sales-performance-of-any-business/answer/Kamal-Raj-17 done\n",
      "https://www.quora.com/I-m-having-a-hard-time-dealing-with-being-alone-I-ve-dated-but-can-t-find-anyone-What-should-I-do/answer/Kamal-Raj-17 done\n",
      "https://www.quora.com/What-are-the-books-for-technical-chart-analysis-of-the-stock-market/answer/Kamal-Raj-17 done\n",
      "https://www.quora.com/What-is-important-to-run-a-business-money-or-connections/answer/Kamal-Raj-17 done\n",
      "https://www.quora.com/What-is-the-longest-book-you-have-ever-read-How-long-did-it-take-you-to-read-it-1/answer/Kamal-Raj-17 done\n",
      "https://www.quora.com/How-can-I-improve-my-focus-10/answer/Kamal-Raj-17 done\n",
      "https://www.quora.com/How-do-I-manage-follow-up-sales-calls-and-call-backs/answer/Kamal-Raj-17 done\n",
      "https://www.quora.com/What-are-the-best-science-fiction-novels/answer/Kamal-Raj-17 done\n",
      "https://www.quora.com/Does-Anata-mean-darling/answer/Kamal-Raj-17 done\n",
      "https://www.quora.com/What-is-the-cheapest-way-to-bulk-and-build-muscle/answer/Kamal-Raj-17 done\n",
      "https://www.quora.com/How-can-I-remember-all-the-things-which-I-have-read-before/answer/Kamal-Raj-17 done\n",
      "https://www.quora.com/What-are-some-nice-books-to-study-and-understand-Donald-Trumps-military-tactics-and-strategies/answer/Kamal-Raj-17 done\n",
      "https://www.quora.com/How-alone-have-you-started-to-become-on-your-way-to-the-top/answer/Kamal-Raj-17 done\n",
      "https://www.quora.com/How-can-I-learn-to-be-nicer-to-people/answer/Kamal-Raj-17 done\n",
      "https://www.quora.com/I-quit-smoking-after-4-years-I-started-at-16-and-am-20-now-how-much-damage-could-have-I-possibly-done-to-myself/answer/Kamal-Raj-17 done\n",
      "https://www.quora.com/How-many-pages-of-a-book-should-I-read-at-once-to-remember-its-insights-for-lifelong/answer/Kamal-Raj-17 done\n",
      "https://www.quora.com/Is-it-possible-to-carve-out-a-girl-from-my-meditative-imaginative-power-so-that-I-can-spend-good-time-with-her/answer/Kamal-Raj-17 done\n",
      "https://www.quora.com/What-is-a-book-to-cope-with-feeling-inferior-on-things-I-am-good-at/answer/Kamal-Raj-17 done\n",
      "https://www.quora.com/Is-it-possible-to-control-the-mind-to-stop-thinking-and-think-whenever-I-want/answer/Kamal-Raj-17 done\n",
      "https://www.quora.com/I-m-a-BSc-student-and-I-want-to-read-more-and-more-but-cant-read-Im-married-do-housework-and-I-also-read-What-should-I-do/answer/Kamal-Raj-17 done\n",
      "https://www.quora.com/How-can-I-win-her-heart-through-chatting/answer/Kamal-Raj-17 done\n",
      "https://www.quora.com/What-advice-would-you-give-someone-who-feels-stuck-with-grief-I-feel-so-alone-and-stuck-in-a-constant-battle-of-sadness/answer/Kamal-Raj-17 done\n",
      "https://www.quora.com/What-must-I-do-when-my-crush-tells-me-we-are-just-friends-from-the-net-Does-it-mean-he-doesnt-love-me/answer/Kamal-Raj-17 done\n",
      "https://www.quora.com/What-coding-to-learn-for-machine-learning/answer/Kamal-Raj-17 done\n",
      "https://www.quora.com/What-is-best-Reason-to-start-Learning-Japanese/answer/Kamal-Raj-17 done\n",
      "https://www.quora.com/Which-is-the-best-book-on-the-mind-and-its-applications/answer/Kamal-Raj-17 done\n",
      "https://www.quora.com/Which-technical-analysis-book-is-the-best/answer/Kamal-Raj-17 done\n",
      "https://www.quora.com/What-are-some-tips-in-order-to-increase-ones-algorithm-skills/answer/Kamal-Raj-17 done\n",
      "https://www.quora.com/I-tend-to-have-a-lazy-thinking-process-I-know-I-can-do-better-in-certain-situations-but-Im-too-lazy-to-use-all-my-brainpower-What-are-some-ways-I-can-motivate-train-myself-to-put-my-brain-to-full-use/answer/Kamal-Raj-17 done\n",
      "https://www.quora.com/How-do-you-make-someone-think-you-can-read-their-mind/answer/Kamal-Raj-17 done\n",
      "https://www.quora.com/What-is-a-good-book-to-learn-about-investments-in-the-stock-market/answer/Kamal-Raj-17 done\n",
      "https://www.quora.com/Can-movies-influence-us-to-be-a-better-person/answer/Kamal-Raj-17 done\n",
      "https://www.quora.com/How-do-I-become-a-fast-typer-like-a-pro/answer/Kamal-Raj-17 done\n",
      "https://www.quora.com/In-what-area-can-a-small-business-create-an-advantage-over-larger-competitors/answer/Kamal-Raj-17 done\n",
      "https://www.quora.com/What-do-you-do-when-an-opportunity-presents-itself-too-late-to-prepare/answer/Kamal-Raj-17 done\n",
      "https://www.quora.com/What-type-of-small-businesses-make-the-most-money/answer/Kamal-Raj-17 done\n",
      "https://www.quora.com/What-are-some-good-reasons-to-reschedule-a-business-appointment/answer/Kamal-Raj-17 done\n",
      "https://www.quora.com/At-18-years-old-is-it-too-late-to-become-a-prolific-reader-and-gain-the-benefits-of-doing-so-like-Bill-Gates-Elon-etc/answer/Kamal-Raj-17 done\n",
      "https://www.quora.com/How-long-did-it-take-you-to-learn-to-love-yourself/answer/Kamal-Raj-17 done\n",
      "https://www.quora.com/Is-life-worth-living-without-being-passionate-or-aspirational/answer/Kamal-Raj-17 done\n",
      "https://www.quora.com/Which-audiobook-should-a-bachelor-listen-to-to-improve-his-life-and-career/answer/Kamal-Raj-17 done\n",
      "https://www.quora.com/What-are-some-tips-that-can-help-me-maintain-a-strong-level-of-focus-while-reading/answer/Kamal-Raj-17 done\n",
      "https://www.quora.com/How-do-you-decide-if-you-want-to-stay-in-a-relationship/answer/Kamal-Raj-17 done\n",
      "https://www.quora.com/Would-you-consider-your-significant-other-to-be-talkingto-other-people-if-she-text-a-coworker-and-said-theres-food-cooked-at-office-if-you-want-any-and-said-I-know-your-partner-is-out-today-if-you-need-any-help-let/answer/Kamal-Raj-17 done\n",
      "https://www.quora.com/Where-should-I-start-reading-about-moral-philosophy/answer/Kamal-Raj-17 done\n",
      "https://www.quora.com/Does-love-get-faded-over-time-Can-we-love-the-same-person-throughout-life/answer/Kamal-Raj-17 done\n",
      "https://www.quora.com/How-do-I-utilize-my-2-hours-of-job-travelling-time-on-a-two-wheeler/answer/Kamal-Raj-17 done\n",
      "https://www.quora.com/How-can-I-improve-my-decision-making-skills/answer/Kamal-Raj-17 done\n",
      "https://www.quora.com/Would-you-take-advice-from-a-robot-8/answer/Kamal-Raj-17 done\n",
      "https://www.quora.com/What-is-some-career-advice-so-that-I-can-move-out-abroad-and-spend-my-life-there/answer/Kamal-Raj-17 done\n",
      "https://www.quora.com/How-do-you-train-your-subconscious-mind-to-get-what-you-want/answer/Kamal-Raj-17 done\n",
      "https://www.quora.com/How-do-I-get-a-constant-mind/answer/Kamal-Raj-17 done\n",
      "https://www.quora.com/What-are-some-top-ideas-in-your-mind/answer/Kamal-Raj-17 done\n",
      "https://www.quora.com/How-should-one-cope-with-hatred/answer/Kamal-Raj-17 done\n",
      "https://www.quora.com/Do-you-read-physical-newspapers-and-magazines/answer/Kamal-Raj-17 done\n",
      "https://www.quora.com/I-feel-like-my-girlfriend-is-becoming-less-and-less-interested-in-me-What-can-I-do-to-stop-this-How-can-I-make-her-interested/answer/Kamal-Raj-17 done\n",
      "https://www.quora.com/How-do-I-stop-feeling-like-my-breakup-was-a-mistake/answer/Kamal-Raj-17 done\n",
      "https://www.quora.com/I-like-this-guy-He-s-28-He-calls-me-and-texts-me-every-day-but-he-says-he-is-not-good-for-me-and-that-he-doesn-t-want-a-relationship-right-now-What-do-I-do/answer/Kamal-Raj-17 done\n",
      "https://www.quora.com/Is-there-an-online-course-you-can-take-to-learn-mind-reading/answer/Kamal-Raj-17 done\n",
      "https://www.quora.com/When-can-you-say-that-you-have-finally-learned-car-driving/answer/Kamal-Raj-17 done\n",
      "https://www.quora.com/What-does-it-mean-when-you-keep-remembering-the-past/answer/Kamal-Raj-17 done\n",
      "https://www.quora.com/Do-you-read-a-book-more-than-5-times-If-yes-why/answer/Kamal-Raj-17 done\n",
      "https://www.quora.com/Is-there-a-link-between-genius-and-flow/answer/Kamal-Raj-17 done\n",
      "https://www.quora.com/How-do-you-say-when-a-conversation-gets-boring-with-a-guy/answer/Kamal-Raj-17 done\n",
      "https://www.quora.com/What-are-some-tips-on-love/answer/Kamal-Raj-17 done\n",
      "https://www.quora.com/Should-we-read-Chanakyas-book-on-economics/answer/Kamal-Raj-17 done\n",
      "https://www.quora.com/How-do-big-businesses-affect-small-businesses/answer/Kamal-Raj-17 done\n",
      "https://www.quora.com/I-have-very-little-spare-time-in-a-day-I-have-a-long-list-of-podcasts-and-books-that-I-want-to-listen-read-but-I-dont-have-time-for-both-What-do-you-suggest-I-dont-like-audiobooks/answer/Kamal-Raj-17 done\n",
      "https://www.quora.com/A-boy-runs-one-km-in-12-minutes-How-long-will-he-take-to-run-44-meters/answer/Kamal-Raj-17 done\n",
      "https://www.quora.com/If-I-join-a-gym-will-I-have-to-go-to-the-gym-my-whole-life/answer/Kamal-Raj-17 done\n",
      "https://www.quora.com/Why-did-big-businesses-come-to-be-in-the-US/answer/Kamal-Raj-17 done\n",
      "https://www.quora.com/I-met-a-girl-online-and-she-wants-me-to-impress-her-How-can-I-impress-her-in-one-line/answer/Kamal-Raj-17 done\n",
      "https://www.quora.com/How-can-a-small-business-be-most-successful/answers/253554651 done\n",
      "https://www.quora.com/What-is-the-difference-between-goal-and-plan/answer/Kamal-Raj-17 done\n",
      "https://www.quora.com/Am-I-wrong-for-going-on-a-date-with-someone-else-after-two-months-of-no-contact-with-my-ex/answer/Kamal-Raj-17 done\n",
      "https://www.quora.com/How-do-you-become-more-assertive-and-learn-to-ask-for-what-you-want/answer/Kamal-Raj-17 done\n",
      "https://www.quora.com/What-unusual-but-effective-business-and-sales-tactics-do-you-know/answer/Kamal-Raj-17 done\n",
      "https://www.quora.com/What-is-the-one-book-that-changed-the-way-you-thought-about-life/answer/Kamal-Raj-17 done\n",
      "https://www.quora.com/How-long-does-it-take-you-to-read-a-work-of-philosophy/answer/Kamal-Raj-17 done\n",
      "https://www.quora.com/Whom-can-we-trust-more-in-any-relationship/answer/Kamal-Raj-17 done\n",
      "https://www.quora.com/Which-are-some-good-books-to-understand-different-governing-methods-like-democracy-communism-anarchy-etc/answer/Kamal-Raj-17 done\n",
      "https://www.quora.com/How-do-you-introduce-yourself-to-an-important-person/answer/Kamal-Raj-17 done\n",
      "https://www.quora.com/How-do-you-motivate-an-older-person-to-get-out-of-bed/answer/Kamal-Raj-17 done\n",
      "https://www.quora.com/What-are-the-decisions-that-a-manager-has-to-make/answer/Kamal-Raj-17 done\n",
      "https://www.quora.com/What-is-the-best-way-to-waste-time-on-the-Internet/answer/Kamal-Raj-17 done\n",
      "https://www.quora.com/How-do-you-read-philosophy/answer/Kamal-Raj-17 done\n",
      "https://www.quora.com/What-does-without-you-I-am-nothing-mean/answer/Kamal-Raj-17 done\n",
      "https://www.quora.com/What-is-the-modern-programmed-technique-of-decision-making/answer/Kamal-Raj-17 done\n",
      "https://www.quora.com/How-do-you-move-on-from-someone-who-doesnt-love-you-back/answer/Kamal-Raj-17 done\n",
      "https://www.quora.com/What-is-something-you-are-looking-forward-to-repeating-in-the-next-year-2021/answer/Kamal-Raj-17 done\n",
      "https://www.quora.com/I-am-not-allowed-for-a-job-What-should-I-do-Explaining-to-them-doesn-t-work-Shall-I-run-away-and-do-what-I-want-or-just-sit-and-do-nothing/answer/Kamal-Raj-17 done\n",
      "https://www.quora.com/How-do-I-add-what-I-read-in-my-personality/answer/Kamal-Raj-17 done\n",
      "https://www.quora.com/What-is-the-better-way-to-develop-my-creativity/answer/Kamal-Raj-17 done\n",
      "https://www.quora.com/If-you-love-a-person-but-you-already-know-she-does-not-love-you-would-you-still-tell-that-person-you-love-her/answer/Kamal-Raj-17 done\n",
      "https://www.quora.com/How-do-I-motivate-myself-to-exercise/answer/Kamal-Raj-17 done\n",
      "https://www.quora.com/Which-book-should-I-read-for-my-brain-and-personality-development-in-order-to-become-smart/answer/Kamal-Raj-17 done\n",
      "https://www.quora.com/How-do-I-start-a-conversation-like-a-pro-for-a-long-talk/answer/Kamal-Raj-17 done\n",
      "https://www.quora.com/What-happens-if-I-run-20-minutes-a-day/answer/Kamal-Raj-17 done\n",
      "https://www.quora.com/What-are-some-easy-reading-very-interesting-novels-or-books-that-you-just-cant-stop-reading/answer/Kamal-Raj-17 done\n",
      "https://www.quora.com/How-has-computer-programming-changed-in-the-last-decade/answer/Kamal-Raj-17 done\n",
      "https://www.quora.com/What-has-gone-right-for-you-in-2020/answer/Kamal-Raj-17 done\n",
      "https://www.quora.com/Is-it-possible-for-the-internet-and-all-the-information-on-it-to-go-down-and-be-lost-forever/answer/Kamal-Raj-17 done\n",
      "https://www.quora.com/I-told-my-mom-that-I-hate-her-What-am-I-supposed-to-do-now/answer/Kamal-Raj-17 done\n",
      "https://www.quora.com/What-does-a-girl-really-want-in-a-guy/answer/Kamal-Raj-17 done\n",
      "https://www.quora.com/How-risky-is-it-to-rely-only-on-a-job/answer/Kamal-Raj-17 done\n",
      "https://www.quora.com/She-is-not-communicating-after-a-breakup-of-14-years-Does-she-still-miss-me-or-love-me/answer/Kamal-Raj-17 done\n",
      "https://www.quora.com/What-do-women-want-in-relationships/answer/Kamal-Raj-17 done\n",
      "https://www.quora.com/What-is-your-favorite-programming-language/answer/Kamal-Raj-17 done\n",
      "https://www.quora.com/Why-am-I-missing-someone-I-like-Is-she-thinking-about-me/answer/Kamal-Raj-17 done\n",
      "https://www.quora.com/Are-communication-skills-becoming-increasingly-important-in-the-21st-century/answer/Kamal-Raj-17 done\n",
      "https://www.quora.com/Why-and-when-do-you-automate/answer/Kamal-Raj-17 done\n",
      "https://www.quora.com/Is-27-years-and-7-months-equal-to-28-years-or-27-years/answer/Kamal-Raj-17 done\n",
      "https://www.quora.com/How-can-we-leverage-the-power-of-the-internet-to-increase-massive-employment-for-people/answer/Kamal-Raj-17 done\n",
      "https://www.quora.com/My-boyfriend-came-over-today-When-he-left-I-cried-because-I-missed-him-Is-this-normal/answer/Kamal-Raj-17 done\n",
      "https://www.quora.com/How-do-I-remain-happy-in-times-of-adversity/answer/Kamal-Raj-17 done\n",
      "https://www.quora.com/Do-common-men-not-understand-politics/answer/Kamal-Raj-17 done\n",
      "https://www.quora.com/How-can-a-small-business-be-most-successful/answers/253044293 done\n",
      "https://www.quora.com/How-can-you-quickly-change-your-attitude-to-the-opposite-side-from-learning-one-fact-from-that-side/answer/Kamal-Raj-17 done\n",
      "https://www.quora.com/How-much-should-we-pay-for-a-small-business/answer/Kamal-Raj-17 done\n",
      "https://www.quora.com/What-do-I-do-if-my-brother-won-t-tell-the-truth-on-a-lie-he-told-about-me-I-trusted-him-and-he-makes-me-look-like-I-m-lying-and-I-dislike-it/answer/Kamal-Raj-17 done\n",
      "https://www.quora.com/Is-it-okay-to-hate-Muslim-people/answer/Kamal-Raj-17 done\n",
      "https://www.quora.com/What-would-you-do-if-your-boyfriend-never-wanted-to-cuddle-even-though-you-always-begged-him-to/answer/Kamal-Raj-17 done\n",
      "https://www.quora.com/Can-life-be-planned-or-is-no-plan-a-better-plan/answer/Kamal-Raj-17 done\n",
      "https://www.quora.com/What-are-the-best-examples-for-B2B-ecommerce/answer/Kamal-Raj-17 done\n",
      "https://www.quora.com/I-am-19-I-have-never-had-and-never-felt-the-need-to-have-a-girlfriend-but-I-feel-lonely-Should-I-get-a-girlfriend-How-do-I-do-it/answer/Kamal-Raj-17 done\n",
      "https://www.quora.com/Why-do-companies-encourage-their-employees-to-be-entrepreneurial/answer/Kamal-Raj-17 done\n",
      "https://www.quora.com/How-can-I-advertise-a-product-without-investing/answer/Kamal-Raj-17 done\n",
      "https://www.quora.com/When-does-a-guy-say-I-promise-on-my-life-to-marry-you/answer/Kamal-Raj-17 done\n",
      "https://www.quora.com/What-is-the-easiest-way-to-succeed-in-India-without-any-investment/answer/Kamal-Raj-17 done\n",
      "https://www.quora.com/Where-should-I-begin-I-feel-lost-and-unsecured/answer/Kamal-Raj-17 done\n",
      "https://www.quora.com/What-is-your-favorite-book-series/answer/Kamal-Raj-17 done\n",
      "https://www.quora.com/Do-you-feel-lazy-unmotivated-or-disengaged-when-you-walk-into-your-workspace/answer/Kamal-Raj-17 done\n",
      "https://www.quora.com/Why-is-my-learning-capability-decreasing-with-time-Im-just-20/answer/Kamal-Raj-17 done\n",
      "https://www.quora.com/Isnt-dressing-up-sort-of-like-covering-up-your-original-self-and-portraying-a-person-that-you-arent-If-so-then-why-do-we-do-it/answer/Kamal-Raj-17 done\n",
      "https://www.quora.com/How-do-I-prevent-academic-professional-stress-from-interfering-with-daily-chores-and-vice-versa/answer/Kamal-Raj-17 done\n",
      "https://www.quora.com/How-can-I-transform-myself-mentally/answer/Kamal-Raj-17 done\n",
      "https://www.quora.com/Is-there-a-material-which-can-become-cloud-gas-and-solid-vice-versa-and-it-can-be-used-in-day-to-day-life/answer/Kamal-Raj-17 done\n",
      "https://www.quora.com/What-are-the-disadvantages-of-typing-very-fast/answer/Kamal-Raj-17 done\n",
      "https://www.quora.com/What-technology-should-one-learn-for-the-year-2021/answer/Kamal-Raj-17 done\n",
      "https://www.quora.com/Is-it-worth-to-spend-only-2-hours-per-day-in-the-morning-cooking-for-breakfast-and-dinner-having-breakfast-and-going-to-the-washroom-till-8-AM-from-6-AM-and-work-from-8-AM-till-12-AM-continuously-daily-without-any/answer/Kamal-Raj-17 done\n",
      "https://www.quora.com/How-would-a-lock-down-affect-your-life-right-now/answer/Kamal-Raj-17 done\n",
      "https://www.quora.com/How-do-I-talk-to-my-wife-that-meeting-my-ex-who-is-now-friends-with-me-is-okay/answer/Kamal-Raj-17 done\n",
      "https://www.quora.com/How-do-I-start-learning-programming-without-money-when-Im-only-14/answer/Kamal-Raj-17 done\n",
      "https://www.quora.com/How-do-I-find-out-the-best-business-in-a-particular-area/answer/Kamal-Raj-17 done\n",
      "https://www.quora.com/What-is-an-example-of-a-performance-goal/answer/Kamal-Raj-17 done\n",
      "https://www.quora.com/What-is-a-good-profit-margin-for-a-small-business/answer/Kamal-Raj-17 done\n",
      "https://www.quora.com/Before-I-start-to-learn-programming-what-should-I-learn-first/answer/Kamal-Raj-17 done\n",
      "https://www.quora.com/How-many-goals-can-you-work-on-at-once/answer/Kamal-Raj-17 done\n",
      "https://www.quora.com/How-do-I-not-be-a-workaholic-and-find-a-work-life-balance/answer/Kamal-Raj-17 done\n",
      "https://www.quora.com/What-do-you-do-if-you-have-lost-your-ability-to-focus-on-a-task/answer/Kamal-Raj-17 done\n",
      "https://www.quora.com/I-m-only-20-and-I-married-an-older-guy-and-I-feel-like-I-ve-doomed-the-rest-of-my-life-What-should-I-do/answer/Kamal-Raj-17 done\n",
      "https://www.quora.com/How-do-you-handle-someone-who-keeps-waking-you-up/answer/Kamal-Raj-17 done\n",
      "https://www.quora.com/What-is-the-word-for-agreeing-with-someone/answer/Kamal-Raj-17 done\n",
      "https://www.quora.com/What-makes-you-feel-like-a-failure-in-business/answer/Kamal-Raj-17 done\n",
      "https://www.quora.com/What-is-the-key-to-a-successful-business-in-this-day-and-age/answer/Kamal-Raj-17 done\n",
      "https://www.quora.com/So-Im-16-y-o-just-about-to-be-17-and-have-never-had-any-gf-or-have-even-dated-anyone-Neither-have-I-ever-received-any-kind-of-compliment-from-girls-Im-pretty-athletic-and-most-of-the-time-stay-out-of-trouble-Am-I/answer/Kamal-Raj-17 done\n",
      "https://www.quora.com/What-books-do-you-recommend-2/answer/Kamal-Raj-17 done\n",
      "https://www.quora.com/Am-I-toxic-for-being-blunt-towards-everyone/answer/Kamal-Raj-17 done\n",
      "https://www.quora.com/My-18-year-old-daughter-has-recently-opened-up-that-she-loves-a-guy-sincerely-a-family-friend-s-son-but-I-have-had-past-verbal-tiffs-with-their-family-How-do-I-tell-her-to-leave-her-love/answer/Kamal-Raj-17 done\n",
      "https://www.quora.com/What-is-the-fastest-way-to-beat-queues-at-toll-plazas/answer/Kamal-Raj-17 done\n",
      "https://www.quora.com/Doesnt-Communism-inherently-provide-no-motivation-for-working-very-very-hard/answer/Kamal-Raj-17 done\n",
      "https://www.quora.com/How-do-you-utilize-the-time-while-you-travel-for-your-job/answer/Kamal-Raj-17 done\n",
      "https://www.quora.com/Is-discipline-a-skill/answer/Kamal-Raj-17 done\n",
      "https://www.quora.com/What-should-I-start-doing-immediately-that-will-help-me-in-the-future/answer/Kamal-Raj-17 done\n",
      "https://www.quora.com/Can-people-mistake-extreme-sadness-or-loneliness-as-depression/answer/Kamal-Raj-17 done\n",
      "https://www.quora.com/What-do-you-understand-by-setting-a-realistic-goal/answer/Kamal-Raj-17 done\n",
      "https://www.quora.com/What-have-you-spent-most-of-your-life-doing-apart-from-the-basic-daily-routines/answer/Kamal-Raj-17 done\n",
      "https://www.quora.com/How-can-we-achieve-life-goals/answer/Kamal-Raj-17 done\n",
      "https://www.quora.com/How-do-I-think-as-well-as-learn-new-things-to-do/answer/Kamal-Raj-17 done\n",
      "https://www.quora.com/How-can-you-tell-that-a-guy-likes-you-1/answer/Kamal-Raj-17 done\n",
      "https://www.quora.com/How-do-you-live-a-healthy-fruitful-peaceful-and-happy-life/answer/Kamal-Raj-17 done\n",
      "https://www.quora.com/What-do-you-do-when-you-are-bored-1/answer/Kamal-Raj-17 done\n",
      "https://www.quora.com/Which-are-the-most-selfish-countries-in-the-world-currently/answer/Kamal-Raj-17 done\n",
      "https://www.quora.com/Do-you-recall-a-compliment-just-when-you-needed-it-the-most/answer/Kamal-Raj-17 done\n",
      "https://www.quora.com/Can-you-just-request-people-to-get-involved-in-your-thing-and-request-the-others-to-be-out-of-it-How-is-that-only-the-wrong-people-came-in-to-do-their-wrong-thing/answer/Kamal-Raj-17 done\n",
      "https://www.quora.com/Did-you-have-a-period-with-low-productivity-concentration-and-will-after-which-everything-got-back-to-normal/answer/Kamal-Raj-17 done\n",
      "https://www.quora.com/Whats-the-best-way-to-give-up-being-negative/answer/Kamal-Raj-17 done\n",
      "https://www.quora.com/What-will-you-do-if-no-one-in-the-world-expects-you/answer/Kamal-Raj-17 done\n",
      "https://www.quora.com/When-talking-to-someone-youre-interested-in-is-it-a-good-idea-to-mention-other-women/answer/Kamal-Raj-17 done\n",
      "https://www.quora.com/Do-you-believe-happiness-isnt-found-its-created-within-us/answer/Kamal-Raj-17 done\n",
      "https://www.quora.com/How-should-you-deal-with-an-ex-who-guilts-you-for-contacting-them-out-of-loneliness-boredom/answer/Kamal-Raj-17 done\n",
      "https://www.quora.com/What-is-the-best-thing-to-do-when-you-have-free-time/answer/Kamal-Raj-17 done\n",
      "https://www.quora.com/How-do-I-record-and-edit-a-podcast-in-GarageBand/answer/Kamal-Raj-17 done\n",
      "https://www.quora.com/What-is-10k-hours-of-practice-rule-Is-it-just-a-myth-and-propaganda-promoted-by-some-self-help-genre/answer/Kamal-Raj-17 done\n",
      "https://www.quora.com/Initial-Lockdown-has-made-me-lose-interest-in-everything-and-I-don-t-feel-like-doing-anything-What-do-I-do/answer/Kamal-Raj-17 done\n",
      "https://www.quora.com/What-is-your-productivity-hack-which-is-easy-to-follow-but-its-impact-is-profound/answer/Kamal-Raj-17 done\n",
      "https://www.quora.com/What-are-the-maximum-hours-you-spent-in-the-office-in-a-day-to-finish-work/answer/Kamal-Raj-17 done\n",
      "https://www.quora.com/How-do-you-stay-focused-when-you-feel-overwhelmed/answer/Kamal-Raj-17 done\n",
      "https://www.quora.com/How-do-I-know-if-the-guy-I-m-talking-to-is-pretending-to-be-a-good-guy/answer/Kamal-Raj-17 done\n",
      "https://www.quora.com/What-should-I-do-now-I-want-to-be-back-on-her-side-but-I-ruined-it-and-I-guess-I-ve-disappointed-her/answer/Kamal-Raj-17 done\n",
      "https://www.quora.com/Which-is-better-being-king-of-one-trade-or-jack-of-all-trades/answer/Kamal-Raj-17 done\n",
      "https://www.quora.com/Is-loneliness-unavoidable/answer/Kamal-Raj-17 done\n",
      "https://www.quora.com/Can-you-marry-or-make-people-depend-on-you-when-you-have-consulting-jobs/answer/Kamal-Raj-17 done\n",
      "https://www.quora.com/Have-you-ever-started-feeling-even-more-bored-after-reading-a-list-of-suggestions-of-what-to-do-when-bored/answer/Kamal-Raj-17 done\n",
      "https://www.quora.com/How-can-I-get-rid-of-overthinking-1/answer/Kamal-Raj-17 done\n",
      "https://www.quora.com/Whats-a-simple-skill-that-everybody-should-know-how-to-do/answer/Kamal-Raj-17 done\n",
      "https://www.quora.com/What-is-the-relationship-between-creating-a-growth-mindset-and-the-Pareto-principle/answer/Kamal-Raj-17 done\n",
      "https://www.quora.com/Hi-sir-I-am-study-arts-group-I-want-to-become-a-piolet-this-is-my-dream-aim-desir-etc-Plzz-give-me-some-idea-for-me-plzz-deeply-say-how-To-become-a-piolet-plzzzzz-kindly-asked-Help/answer/Kamal-Raj-17 done\n",
      "https://www.quora.com/If-lockdown-happens-again-what-would-you-do-differently/answer/Kamal-Raj-17 done\n",
      "https://www.quora.com/Whatre-the-skills-people-need-to-learn-for-the-future/answers/251080375 done\n",
      "https://www.quora.com/Is-it-true-that-a-major-population-of-people-are-mostly-wasting-time-in-thinking-about-the-past-and-future-without-attaching-with-present-to-make-it-more-productive/answer/Kamal-Raj-17 done\n",
      "https://www.quora.com/Aside-from-using-the-phone-what-can-I-do-if-my-mind-always-says-I-am-wasting-my-time/answer/Kamal-Raj-17 done\n",
      "https://www.quora.com/After-months-of-practice-I-learned-one-hand-pull-up-When-I-happily-showed-my-friends-they-asked-me-why-I-was-behaving-like-a-monkey-I-felt-so-bad-Why-are-people-like-this/answer/Kamal-Raj-17 done\n",
      "https://www.quora.com/Does-being-happy-make-you-a-worse-person/answer/Kamal-Raj-17 done\n",
      "https://www.quora.com/What-are-some-tips-of-learning-how-to-love-yourself-while-you-re-in-a-relationship/answer/Kamal-Raj-17 done\n",
      "https://www.quora.com/What-tools-of-persuasion-are-used/answer/Kamal-Raj-17 done\n",
      "https://www.quora.com/Why-cant-CEOs-like-Sundar-Pichai-and-Satya-Nadella-start-their-own-startup-instead-of-working-in-other-companies/answer/Kamal-Raj-17 done\n",
      "https://www.quora.com/Which-books-did-you-read-during-the-lockdown-and-what-did-you-learn/answer/Kamal-Raj-17 done\n",
      "https://www.quora.com/What-are-some-tips-and-tricks-for-reaching-work-on-time-in-Bengaluru/answer/Kamal-Raj-17 done\n",
      "https://www.quora.com/Have-you-ever-come-to-terms-with-your-insecurity-and-managed-to-work-it-out-of-your-system/answer/Kamal-Raj-17 done\n",
      "https://www.quora.com/Does-being-jack-of-all-trades-help-How/answer/Kamal-Raj-17 done\n",
      "https://www.quora.com/Do-you-think-the-CEO-of-a-company-actually-controls-the-company/answer/Kamal-Raj-17 done\n",
      "https://www.quora.com/What-is-a-good-hosting-site-with-a-minimum-investment/answer/Kamal-Raj-17 done\n",
      "https://www.quora.com/What-are-some-ways-to-change-our-thought-process/answer/Kamal-Raj-17 done\n",
      "https://www.quora.com/What-lifestyle-changes-have-you-made-during-the-lockdown/answer/Kamal-Raj-17 done\n",
      "https://www.quora.com/What-do-you-feel-like-reading-today/answer/Kamal-Raj-17 done\n",
      "https://www.quora.com/How-can-we-read-other-peoples-minds-without-being-an-expert/answer/Kamal-Raj-17 done\n",
      "https://www.quora.com/What-was-the-first-thing-I-should-do-in-the-morning-to-keep-my-day-week-year-good/answer/Kamal-Raj-17 done\n",
      "https://www.quora.com/What-kind-of-podcast-books-and-websites-do-you-use-in-daily-life-to-stay-away-from-feeling-low-moments/answer/Kamal-Raj-17 done\n",
      "https://www.quora.com/What-is-not-an-expert/answer/Kamal-Raj-17 done\n",
      "https://www.quora.com/What-should-I-do-if-I-found-out-that-my-girlfriend-has-not-been-loyal-to-me/answer/Kamal-Raj-17 done\n",
      "https://www.quora.com/Should-I-invest-my-time-on-YouTube-or-other-employment/answer/Kamal-Raj-17 done\n",
      "https://www.quora.com/How-do-I-get-rid-of-jealousy-1/answer/Kamal-Raj-17 done\n",
      "https://www.quora.com/How-do-you-make-guys-run-after-you/answer/Kamal-Raj-17 done\n",
      "https://www.quora.com/My-girlfriend-got-married-to-some-other-guy-after-breaking-up-with-me-after-two-years-but-I-still-think-about-her-Is-there-any-chance-to-fall-in-love-for-a-second-time-and-forget-her/answer/Kamal-Raj-17 done\n",
      "https://www.quora.com/How-do-I-know-if-an-interest-is-genuinely-mine-or-if-its-only-apparent-and-is-mostly-influenced-by-everything-around-me/answer/Kamal-Raj-17 done\n",
      "https://www.quora.com/How-do-you-pass-your-day-daily/answer/Kamal-Raj-17 done\n",
      "https://www.quora.com/Is-it-important-to-learn-and-enhance-your-skills-in-the-technological-age/answer/Kamal-Raj-17 done\n",
      "https://www.quora.com/What-are-some-signs-that-you-are-wasting-your-life-as-a-developer/answer/Kamal-Raj-17 done\n",
      "https://www.quora.com/What-would-you-say-to-a-student-who-is-wasting-his-her-time-on-unnecessary-things/answer/Kamal-Raj-17 done\n",
      "https://www.quora.com/How-do-I-get-better-in-typing-in-a-very-short-time/answer/Kamal-Raj-17 done\n"
     ]
    }
   ],
   "source": [
    "updated_answers.loc[updated_answers.Answers.isna(),'Answers'] = updated_answers.loc[updated_answers.Answers.isna(),'Question_Links'].apply(lambda x: answer_collector(x))"
   ]
  },
  {
   "cell_type": "code",
   "execution_count": 55,
   "metadata": {},
   "outputs": [],
   "source": [
    "updated_answers.to_csv('Updated_answers_29thApr.csv')"
   ]
  },
  {
   "cell_type": "code",
   "execution_count": 23,
   "metadata": {},
   "outputs": [],
   "source": [
    "for idex, link in enumerate(load_answers.Questions):\n",
    "\n",
    "    get_answer =  load_answers.Answers[idex]\n",
    "    #print(get_answer)\n",
    "    \n",
    "    file_name = link + '.md'\n",
    "\n",
    "    if len(file_name) >= 150:\n",
    "\n",
    "        file_name = file_name[:150]\n",
    "    \n",
    "    with open(f'./temp/df_file/{file_name}', 'w', encoding=\"utf-8\") as ans:\n",
    "\n",
    "        ans.write(get_answer)"
   ]
  },
  {
   "cell_type": "code",
   "execution_count": 27,
   "metadata": {},
   "outputs": [],
   "source": [
    "#Creating the contents file with list of questions and the links to them\n",
    "#I am thinking if by looking at the answers that I have, can it suggest those fully\n",
    "#or partly to another question? \n",
    "\n",
    "updated_answers = pd.read_csv('Updated_answers_29thApr.csv')"
   ]
  },
  {
   "cell_type": "markdown",
   "metadata": {},
   "source": [
    "Find what the question a particular question is about. \n",
    "\n",
    "Questions are asked about a particular topic, while the answers are (usually) expansions on those topics. \n",
    "\n",
    "Here is one idea. I take the questions that I have answered, and count the nouns and verbs after removing the stop words."
   ]
  },
  {
   "cell_type": "code",
   "execution_count": 10,
   "metadata": {},
   "outputs": [],
   "source": [
    "import nltk\n",
    "from nltk import PorterStemmer"
   ]
  },
  {
   "cell_type": "code",
   "execution_count": 19,
   "metadata": {},
   "outputs": [],
   "source": [
    "import spacy\n",
    "from spacy import tokenizer"
   ]
  },
  {
   "cell_type": "code",
   "execution_count": 29,
   "metadata": {},
   "outputs": [
    {
     "data": {
      "text/plain": [
       "['Im',\n",
       " 'high',\n",
       " 'school',\n",
       " 'student',\n",
       " 'Im',\n",
       " 'interested',\n",
       " 'AI',\n",
       " 'Where',\n",
       " 'I',\n",
       " 'start',\n",
       " 'looking']"
      ]
     },
     "execution_count": 29,
     "metadata": {},
     "output_type": "execute_result"
    }
   ],
   "source": [
    "from nltk.corpus import stopwords\n",
    "\n",
    "cached_stopwords = stopwords.words('english')\n",
    "\n",
    "[word for word in updated_answers.Questions[0].split('-') if word not in cached_stopwords]"
   ]
  },
  {
   "cell_type": "code",
   "execution_count": 33,
   "metadata": {},
   "outputs": [
    {
     "data": {
      "text/plain": [
       "7316"
      ]
     },
     "execution_count": 33,
     "metadata": {},
     "output_type": "execute_result"
    }
   ],
   "source": [
    "#I have a hypothesis that less a word is used in questions, the higher the probability that it is what is being asked about\n",
    "\n",
    "glob_question = [word for question in updated_answers.Questions.values for word in question.split('-') if word not in cached_stopwords]\n",
    "len(glob_question)"
   ]
  },
  {
   "cell_type": "code",
   "execution_count": 41,
   "metadata": {},
   "outputs": [],
   "source": [
    "from collections import Counter\n",
    "\n",
    "word_counts = Counter(glob_question)\n",
    "selected_word = [word for word, cont in word_counts.items() if cont < 40]"
   ]
  },
  {
   "cell_type": "code",
   "execution_count": 43,
   "metadata": {},
   "outputs": [
    {
     "data": {
      "text/plain": [
       "819"
      ]
     },
     "execution_count": 43,
     "metadata": {},
     "output_type": "execute_result"
    }
   ],
   "source": [
    "#Btw, how many questions are there?\n",
    "\n",
    "len(updated_answers.Questions)"
   ]
  },
  {
   "cell_type": "code",
   "execution_count": 26,
   "metadata": {},
   "outputs": [
    {
     "data": {
      "text/plain": [
       "'crawling'"
      ]
     },
     "execution_count": 26,
     "metadata": {},
     "output_type": "execute_result"
    }
   ],
   "source": [
    "from nltk.stem import WordNetLemmatizer\n",
    "from nltk import word_tokenize, pos_tag\n",
    "lemmer = WordNetLemmatizer()\n",
    "lemmer.lemmatize('crawling')"
   ]
  },
  {
   "cell_type": "code",
   "execution_count": 56,
   "metadata": {},
   "outputs": [
    {
     "data": {
      "text/plain": [
       "['ads', 'opinion', 'maths', 'analytics', 'solutions']"
      ]
     },
     "execution_count": 56,
     "metadata": {},
     "output_type": "execute_result"
    }
   ],
   "source": [
    "#I can take these selected words and run through the various questions I have and check in how many questions these words have come\n",
    "tagged = pos_tag([word for word, cont in word_counts.items() if cont < 2])\n",
    "tagged[:25]\n",
    "nouns = [ntag for ntag,pos in tagged if pos == 'NN' or pos == 'NNS']\n",
    "nouns[:5]"
   ]
  },
  {
   "cell_type": "code",
   "execution_count": 59,
   "metadata": {},
   "outputs": [
    {
     "data": {
      "text/plain": [
       "['Can-video-analytics-and-machine-learning-solutions-help-achieve-zero-defects-in-manufacturing-Why']"
      ]
     },
     "execution_count": 59,
     "metadata": {},
     "output_type": "execute_result"
    }
   ],
   "source": [
    "#there are 513 nouns, so these words have to come in more than one question. So lets find out.\n",
    "exm = nouns[3]\n",
    "[locate for locate in updated_answers.Questions.values if exm in locate]"
   ]
  },
  {
   "cell_type": "code",
   "execution_count": 60,
   "metadata": {},
   "outputs": [
    {
     "data": {
      "text/plain": [
       "['What-brands-and-companies-fail-because-they-dont-improve']"
      ]
     },
     "execution_count": 60,
     "metadata": {},
     "output_type": "execute_result"
    }
   ],
   "source": [
    "#there are 513 nouns, so these words have to come in more than one question. So lets find out.\n",
    "exm = nouns[10]\n",
    "[locate for locate in updated_answers.Questions.values if exm in locate]"
   ]
  },
  {
   "cell_type": "code",
   "execution_count": 61,
   "metadata": {},
   "outputs": [
    {
     "data": {
      "text/plain": [
       "['Im-confused-between-machine-learning-and-penetration-testing-even-though-I-love-both-careers-quite-much-but-I-cant-learn-more-than-one-skill-What-should-I-do-1']"
      ]
     },
     "execution_count": 61,
     "metadata": {},
     "output_type": "execute_result"
    }
   ],
   "source": [
    "exm = nouns[12]\n",
    "[locate for locate in updated_answers.Questions.values if exm in locate]"
   ]
  },
  {
   "cell_type": "code",
   "execution_count": 74,
   "metadata": {},
   "outputs": [
    {
     "data": {
      "text/html": [
       "<div>\n",
       "<style scoped>\n",
       "    .dataframe tbody tr th:only-of-type {\n",
       "        vertical-align: middle;\n",
       "    }\n",
       "\n",
       "    .dataframe tbody tr th {\n",
       "        vertical-align: top;\n",
       "    }\n",
       "\n",
       "    .dataframe thead th {\n",
       "        text-align: right;\n",
       "    }\n",
       "</style>\n",
       "<table border=\"1\" class=\"dataframe\">\n",
       "  <thead>\n",
       "    <tr style=\"text-align: right;\">\n",
       "      <th></th>\n",
       "      <th>Unnamed: 0</th>\n",
       "      <th>Question_Links</th>\n",
       "      <th>Views</th>\n",
       "      <th>Upvotes</th>\n",
       "      <th>Spaces</th>\n",
       "      <th>Questions</th>\n",
       "      <th>Answers</th>\n",
       "      <th>nouns_topics</th>\n",
       "    </tr>\n",
       "  </thead>\n",
       "  <tbody>\n",
       "    <tr>\n",
       "      <th>0</th>\n",
       "      <td>0</td>\n",
       "      <td>https://www.quora.com/Im-a-high-school-student...</td>\n",
       "      <td>205</td>\n",
       "      <td>–</td>\n",
       "      <td>www.quora.com</td>\n",
       "      <td>Im-a-high-school-student-and-Im-interested-in-...</td>\n",
       "      <td>Start by learning to program and problem solvi...</td>\n",
       "      <td>[Im, Im, AI, Where]</td>\n",
       "    </tr>\n",
       "    <tr>\n",
       "      <th>1</th>\n",
       "      <td>1</td>\n",
       "      <td>https://www.quora.com/How-can-learning-to-prog...</td>\n",
       "      <td>20</td>\n",
       "      <td>–</td>\n",
       "      <td>www.quora.com</td>\n",
       "      <td>How-can-learning-to-program-make-a-difference-...</td>\n",
       "      <td>Try coding one simplest program on a competiti...</td>\n",
       "      <td>[]</td>\n",
       "    </tr>\n",
       "    <tr>\n",
       "      <th>2</th>\n",
       "      <td>2</td>\n",
       "      <td>https://www.quora.com/Why-is-Google-s-YouTube-...</td>\n",
       "      <td>80</td>\n",
       "      <td>–</td>\n",
       "      <td>www.quora.com</td>\n",
       "      <td>Why-is-Google-s-YouTube-increasing-a-number-of...</td>\n",
       "      <td>The services provided are slowly trending towa...</td>\n",
       "      <td>[Google, YouTube, ads]</td>\n",
       "    </tr>\n",
       "    <tr>\n",
       "      <th>3</th>\n",
       "      <td>3</td>\n",
       "      <td>https://www.quora.com/How-much-mathematics-is-...</td>\n",
       "      <td>32</td>\n",
       "      <td>–</td>\n",
       "      <td>www.quora.com</td>\n",
       "      <td>How-much-mathematics-is-enough-to-start-learni...</td>\n",
       "      <td>ML algorithms are conceptually simple, and the...</td>\n",
       "      <td>[mathematics]</td>\n",
       "    </tr>\n",
       "    <tr>\n",
       "      <th>4</th>\n",
       "      <td>4</td>\n",
       "      <td>https://www.quora.com/How-can-I-learn-problem-...</td>\n",
       "      <td>17</td>\n",
       "      <td>–</td>\n",
       "      <td>www.quora.com</td>\n",
       "      <td>How-can-I-learn-problem-solving-techniques-for...</td>\n",
       "      <td>This secret is not even considered as a secret...</td>\n",
       "      <td>[techniques]</td>\n",
       "    </tr>\n",
       "  </tbody>\n",
       "</table>\n",
       "</div>"
      ],
      "text/plain": [
       "   Unnamed: 0                                     Question_Links Views  \\\n",
       "0           0  https://www.quora.com/Im-a-high-school-student...   205   \n",
       "1           1  https://www.quora.com/How-can-learning-to-prog...    20   \n",
       "2           2  https://www.quora.com/Why-is-Google-s-YouTube-...    80   \n",
       "3           3  https://www.quora.com/How-much-mathematics-is-...    32   \n",
       "4           4  https://www.quora.com/How-can-I-learn-problem-...    17   \n",
       "\n",
       "  Upvotes         Spaces                                          Questions  \\\n",
       "0       –  www.quora.com  Im-a-high-school-student-and-Im-interested-in-...   \n",
       "1       –  www.quora.com  How-can-learning-to-program-make-a-difference-...   \n",
       "2       –  www.quora.com  Why-is-Google-s-YouTube-increasing-a-number-of...   \n",
       "3       –  www.quora.com  How-much-mathematics-is-enough-to-start-learni...   \n",
       "4       –  www.quora.com  How-can-I-learn-problem-solving-techniques-for...   \n",
       "\n",
       "                                             Answers            nouns_topics  \n",
       "0  Start by learning to program and problem solvi...     [Im, Im, AI, Where]  \n",
       "1  Try coding one simplest program on a competiti...                      []  \n",
       "2  The services provided are slowly trending towa...  [Google, YouTube, ads]  \n",
       "3  ML algorithms are conceptually simple, and the...           [mathematics]  \n",
       "4  This secret is not even considered as a secret...            [techniques]  "
      ]
     },
     "execution_count": 74,
     "metadata": {},
     "output_type": "execute_result"
    }
   ],
   "source": [
    "updated_answers['nouns_topics'] = updated_answers.Questions.apply(lambda x: [word for word, pos in pos_tag(x.split('-')) if pos == 'NNP' or pos == 'NNS'])"
   ]
  },
  {
   "cell_type": "code",
   "execution_count": 28,
   "metadata": {},
   "outputs": [
    {
     "ename": "AttributeError",
     "evalue": "'DataFrame' object has no attribute 'topic_len'",
     "output_type": "error",
     "traceback": [
      "\u001b[1;31m---------------------------------------------------------------------------\u001b[0m",
      "\u001b[1;31mAttributeError\u001b[0m                            Traceback (most recent call last)",
      "\u001b[1;32mC:\\Users\\D30001~1\\AppData\\Local\\Temp/ipykernel_11408/718126868.py\u001b[0m in \u001b[0;36m<module>\u001b[1;34m\u001b[0m\n\u001b[1;32m----> 1\u001b[1;33m \u001b[0mupdated_answers\u001b[0m\u001b[1;33m.\u001b[0m\u001b[0mloc\u001b[0m\u001b[1;33m[\u001b[0m\u001b[0mupdated_answers\u001b[0m\u001b[1;33m.\u001b[0m\u001b[0mtopic_len\u001b[0m \u001b[1;33m==\u001b[0m \u001b[1;36m0\u001b[0m\u001b[1;33m,\u001b[0m \u001b[1;34m'nouns_topics'\u001b[0m\u001b[1;33m]\u001b[0m \u001b[1;33m=\u001b[0m \u001b[0mupdated_answers\u001b[0m\u001b[1;33m.\u001b[0m\u001b[0mloc\u001b[0m\u001b[1;33m[\u001b[0m\u001b[0mupdated_answers\u001b[0m\u001b[1;33m.\u001b[0m\u001b[0mtopic_len\u001b[0m \u001b[1;33m==\u001b[0m \u001b[1;36m0\u001b[0m\u001b[1;33m,\u001b[0m \u001b[1;34m'Questions'\u001b[0m\u001b[1;33m]\u001b[0m\u001b[1;33m.\u001b[0m\u001b[0mapply\u001b[0m\u001b[1;33m(\u001b[0m\u001b[1;32mlambda\u001b[0m \u001b[0mx\u001b[0m\u001b[1;33m:\u001b[0m \u001b[1;33m[\u001b[0m\u001b[0mword\u001b[0m \u001b[1;32mfor\u001b[0m \u001b[0mword\u001b[0m\u001b[1;33m,\u001b[0m \u001b[0mpos\u001b[0m \u001b[1;32min\u001b[0m \u001b[0mpos_tag\u001b[0m\u001b[1;33m(\u001b[0m\u001b[0mx\u001b[0m\u001b[1;33m.\u001b[0m\u001b[0msplit\u001b[0m\u001b[1;33m(\u001b[0m\u001b[1;34m'-'\u001b[0m\u001b[1;33m)\u001b[0m\u001b[1;33m)\u001b[0m \u001b[1;32mif\u001b[0m \u001b[0mpos\u001b[0m \u001b[1;33m==\u001b[0m \u001b[1;34m'NN'\u001b[0m\u001b[1;33m]\u001b[0m\u001b[1;33m)\u001b[0m\u001b[1;33m\u001b[0m\u001b[1;33m\u001b[0m\u001b[0m\n\u001b[0m",
      "\u001b[1;32mC:\\WorkFiles\\WPy64-37120\\pypy3.7-v7.3.7-win64\\site-packages\\pandas\\core\\generic.py\u001b[0m in \u001b[0;36m__getattr__\u001b[1;34m(self, name)\u001b[0m\n\u001b[0;32m   5463\u001b[0m             \u001b[1;32mif\u001b[0m \u001b[0mself\u001b[0m\u001b[1;33m.\u001b[0m\u001b[0m_info_axis\u001b[0m\u001b[1;33m.\u001b[0m\u001b[0m_can_hold_identifiers_and_holds_name\u001b[0m\u001b[1;33m(\u001b[0m\u001b[0mname\u001b[0m\u001b[1;33m)\u001b[0m\u001b[1;33m:\u001b[0m\u001b[1;33m\u001b[0m\u001b[1;33m\u001b[0m\u001b[0m\n\u001b[0;32m   5464\u001b[0m                 \u001b[1;32mreturn\u001b[0m \u001b[0mself\u001b[0m\u001b[1;33m[\u001b[0m\u001b[0mname\u001b[0m\u001b[1;33m]\u001b[0m\u001b[1;33m\u001b[0m\u001b[1;33m\u001b[0m\u001b[0m\n\u001b[1;32m-> 5465\u001b[1;33m             \u001b[1;32mreturn\u001b[0m \u001b[0mobject\u001b[0m\u001b[1;33m.\u001b[0m\u001b[0m__getattribute__\u001b[0m\u001b[1;33m(\u001b[0m\u001b[0mself\u001b[0m\u001b[1;33m,\u001b[0m \u001b[0mname\u001b[0m\u001b[1;33m)\u001b[0m\u001b[1;33m\u001b[0m\u001b[1;33m\u001b[0m\u001b[0m\n\u001b[0m\u001b[0;32m   5466\u001b[0m \u001b[1;33m\u001b[0m\u001b[0m\n\u001b[0;32m   5467\u001b[0m     \u001b[1;32mdef\u001b[0m \u001b[0m__setattr__\u001b[0m\u001b[1;33m(\u001b[0m\u001b[0mself\u001b[0m\u001b[1;33m,\u001b[0m \u001b[0mname\u001b[0m\u001b[1;33m:\u001b[0m \u001b[0mstr\u001b[0m\u001b[1;33m,\u001b[0m \u001b[0mvalue\u001b[0m\u001b[1;33m)\u001b[0m \u001b[1;33m->\u001b[0m \u001b[1;32mNone\u001b[0m\u001b[1;33m:\u001b[0m\u001b[1;33m\u001b[0m\u001b[1;33m\u001b[0m\u001b[0m\n",
      "\u001b[1;31mAttributeError\u001b[0m: 'DataFrame' object has no attribute 'topic_len'"
     ]
    }
   ],
   "source": [
    "updated_answers.loc[updated_answers.topic_len == 0, 'nouns_topics'] = updated_answers.loc[updated_answers.topic_len == 0, 'Questions'].apply(lambda x: [word for word, pos in pos_tag(x.split('-')) if pos == 'NN']) "
   ]
  },
  {
   "cell_type": "code",
   "execution_count": 25,
   "metadata": {},
   "outputs": [
    {
     "ename": "AttributeError",
     "evalue": "'DataFrame' object has no attribute 'nouns_topics'",
     "output_type": "error",
     "traceback": [
      "\u001b[1;31m---------------------------------------------------------------------------\u001b[0m",
      "\u001b[1;31mAttributeError\u001b[0m                            Traceback (most recent call last)",
      "\u001b[1;32mC:\\Users\\D30001~1\\AppData\\Local\\Temp/ipykernel_11408/1275006599.py\u001b[0m in \u001b[0;36m<module>\u001b[1;34m\u001b[0m\n\u001b[1;32m----> 1\u001b[1;33m \u001b[0mupdated_answers\u001b[0m\u001b[1;33m[\u001b[0m\u001b[1;34m'topic_len'\u001b[0m\u001b[1;33m]\u001b[0m \u001b[1;33m=\u001b[0m \u001b[0mupdated_answers\u001b[0m\u001b[1;33m.\u001b[0m\u001b[0mnouns_topics\u001b[0m\u001b[1;33m.\u001b[0m\u001b[0mapply\u001b[0m\u001b[1;33m(\u001b[0m\u001b[1;32mlambda\u001b[0m \u001b[0mx\u001b[0m\u001b[1;33m:\u001b[0m \u001b[0mlen\u001b[0m\u001b[1;33m(\u001b[0m\u001b[0mx\u001b[0m\u001b[1;33m)\u001b[0m\u001b[1;33m)\u001b[0m\u001b[1;33m\u001b[0m\u001b[1;33m\u001b[0m\u001b[0m\n\u001b[0m",
      "\u001b[1;32mC:\\WorkFiles\\WPy64-37120\\pypy3.7-v7.3.7-win64\\site-packages\\pandas\\core\\generic.py\u001b[0m in \u001b[0;36m__getattr__\u001b[1;34m(self, name)\u001b[0m\n\u001b[0;32m   5463\u001b[0m             \u001b[1;32mif\u001b[0m \u001b[0mself\u001b[0m\u001b[1;33m.\u001b[0m\u001b[0m_info_axis\u001b[0m\u001b[1;33m.\u001b[0m\u001b[0m_can_hold_identifiers_and_holds_name\u001b[0m\u001b[1;33m(\u001b[0m\u001b[0mname\u001b[0m\u001b[1;33m)\u001b[0m\u001b[1;33m:\u001b[0m\u001b[1;33m\u001b[0m\u001b[1;33m\u001b[0m\u001b[0m\n\u001b[0;32m   5464\u001b[0m                 \u001b[1;32mreturn\u001b[0m \u001b[0mself\u001b[0m\u001b[1;33m[\u001b[0m\u001b[0mname\u001b[0m\u001b[1;33m]\u001b[0m\u001b[1;33m\u001b[0m\u001b[1;33m\u001b[0m\u001b[0m\n\u001b[1;32m-> 5465\u001b[1;33m             \u001b[1;32mreturn\u001b[0m \u001b[0mobject\u001b[0m\u001b[1;33m.\u001b[0m\u001b[0m__getattribute__\u001b[0m\u001b[1;33m(\u001b[0m\u001b[0mself\u001b[0m\u001b[1;33m,\u001b[0m \u001b[0mname\u001b[0m\u001b[1;33m)\u001b[0m\u001b[1;33m\u001b[0m\u001b[1;33m\u001b[0m\u001b[0m\n\u001b[0m\u001b[0;32m   5466\u001b[0m \u001b[1;33m\u001b[0m\u001b[0m\n\u001b[0;32m   5467\u001b[0m     \u001b[1;32mdef\u001b[0m \u001b[0m__setattr__\u001b[0m\u001b[1;33m(\u001b[0m\u001b[0mself\u001b[0m\u001b[1;33m,\u001b[0m \u001b[0mname\u001b[0m\u001b[1;33m:\u001b[0m \u001b[0mstr\u001b[0m\u001b[1;33m,\u001b[0m \u001b[0mvalue\u001b[0m\u001b[1;33m)\u001b[0m \u001b[1;33m->\u001b[0m \u001b[1;32mNone\u001b[0m\u001b[1;33m:\u001b[0m\u001b[1;33m\u001b[0m\u001b[1;33m\u001b[0m\u001b[0m\n",
      "\u001b[1;31mAttributeError\u001b[0m: 'DataFrame' object has no attribute 'nouns_topics'"
     ]
    }
   ],
   "source": [
    "updated_answers['topic_len'] = updated_answers.nouns_topics.apply(lambda x: len(x))"
   ]
  },
  {
   "cell_type": "code",
   "execution_count": 29,
   "metadata": {},
   "outputs": [
    {
     "ename": "AttributeError",
     "evalue": "'DataFrame' object has no attribute 'nouns_topics'",
     "output_type": "error",
     "traceback": [
      "\u001b[1;31m---------------------------------------------------------------------------\u001b[0m",
      "\u001b[1;31mAttributeError\u001b[0m                            Traceback (most recent call last)",
      "\u001b[1;32mC:\\Users\\D30001~1\\AppData\\Local\\Temp/ipykernel_11408/1301530716.py\u001b[0m in \u001b[0;36m<module>\u001b[1;34m\u001b[0m\n\u001b[0;32m      1\u001b[0m \u001b[1;31m#Take one noun topic and see if any of the nouns match with another question\u001b[0m\u001b[1;33m\u001b[0m\u001b[1;33m\u001b[0m\u001b[1;33m\u001b[0m\u001b[0m\n\u001b[1;32m----> 2\u001b[1;33m \u001b[0mnonu\u001b[0m \u001b[1;33m=\u001b[0m \u001b[0mupdated_answers\u001b[0m\u001b[1;33m.\u001b[0m\u001b[0mnouns_topics\u001b[0m\u001b[1;33m[\u001b[0m\u001b[1;36m0\u001b[0m\u001b[1;33m]\u001b[0m\u001b[1;33m\u001b[0m\u001b[1;33m\u001b[0m\u001b[0m\n\u001b[0m\u001b[0;32m      3\u001b[0m \u001b[1;33m\u001b[0m\u001b[0m\n\u001b[0;32m      4\u001b[0m \u001b[1;33m[\u001b[0m\u001b[1;32mTrue\u001b[0m \u001b[1;32mfor\u001b[0m \u001b[0mn\u001b[0m \u001b[1;32min\u001b[0m \u001b[0mnonu\u001b[0m \u001b[1;32mif\u001b[0m \u001b[0mn\u001b[0m \u001b[1;32min\u001b[0m \u001b[0mupdated_answers\u001b[0m\u001b[1;33m.\u001b[0m\u001b[0mQuestions\u001b[0m\u001b[1;33m[\u001b[0m\u001b[1;36m0\u001b[0m\u001b[1;33m]\u001b[0m\u001b[1;33m]\u001b[0m\u001b[1;33m\u001b[0m\u001b[1;33m\u001b[0m\u001b[0m\n",
      "\u001b[1;32mC:\\WorkFiles\\WPy64-37120\\pypy3.7-v7.3.7-win64\\site-packages\\pandas\\core\\generic.py\u001b[0m in \u001b[0;36m__getattr__\u001b[1;34m(self, name)\u001b[0m\n\u001b[0;32m   5463\u001b[0m             \u001b[1;32mif\u001b[0m \u001b[0mself\u001b[0m\u001b[1;33m.\u001b[0m\u001b[0m_info_axis\u001b[0m\u001b[1;33m.\u001b[0m\u001b[0m_can_hold_identifiers_and_holds_name\u001b[0m\u001b[1;33m(\u001b[0m\u001b[0mname\u001b[0m\u001b[1;33m)\u001b[0m\u001b[1;33m:\u001b[0m\u001b[1;33m\u001b[0m\u001b[1;33m\u001b[0m\u001b[0m\n\u001b[0;32m   5464\u001b[0m                 \u001b[1;32mreturn\u001b[0m \u001b[0mself\u001b[0m\u001b[1;33m[\u001b[0m\u001b[0mname\u001b[0m\u001b[1;33m]\u001b[0m\u001b[1;33m\u001b[0m\u001b[1;33m\u001b[0m\u001b[0m\n\u001b[1;32m-> 5465\u001b[1;33m             \u001b[1;32mreturn\u001b[0m \u001b[0mobject\u001b[0m\u001b[1;33m.\u001b[0m\u001b[0m__getattribute__\u001b[0m\u001b[1;33m(\u001b[0m\u001b[0mself\u001b[0m\u001b[1;33m,\u001b[0m \u001b[0mname\u001b[0m\u001b[1;33m)\u001b[0m\u001b[1;33m\u001b[0m\u001b[1;33m\u001b[0m\u001b[0m\n\u001b[0m\u001b[0;32m   5466\u001b[0m \u001b[1;33m\u001b[0m\u001b[0m\n\u001b[0;32m   5467\u001b[0m     \u001b[1;32mdef\u001b[0m \u001b[0m__setattr__\u001b[0m\u001b[1;33m(\u001b[0m\u001b[0mself\u001b[0m\u001b[1;33m,\u001b[0m \u001b[0mname\u001b[0m\u001b[1;33m:\u001b[0m \u001b[0mstr\u001b[0m\u001b[1;33m,\u001b[0m \u001b[0mvalue\u001b[0m\u001b[1;33m)\u001b[0m \u001b[1;33m->\u001b[0m \u001b[1;32mNone\u001b[0m\u001b[1;33m:\u001b[0m\u001b[1;33m\u001b[0m\u001b[1;33m\u001b[0m\u001b[0m\n",
      "\u001b[1;31mAttributeError\u001b[0m: 'DataFrame' object has no attribute 'nouns_topics'"
     ]
    }
   ],
   "source": [
    "#Take one noun topic and see if any of the nouns match with another question\n",
    "nonu = updated_answers.nouns_topics[0]\n",
    "\n",
    "[True for n in nonu if n in updated_answers.Questions[0]]"
   ]
  },
  {
   "cell_type": "code",
   "execution_count": 53,
   "metadata": {},
   "outputs": [],
   "source": [
    "def convert_to_features(text_data, topics):\n",
    "    \"\"\"Returns the topic list in the text data.\n",
    "    The number of topic is provided in the topics\"\"\"\n",
    "    \n",
    "    vect = CountVectorizer(ngram_range=(1, 1), stop_words= 'english')\n",
    "    \n",
    "    if '-' in text_data:\n",
    "\n",
    "        fin = vect.fit_transform(text_data.split('-'))\n",
    "\n",
    "    else:\n",
    "\n",
    "        fin = vect.fit_transform(text_data.split(' '))\n",
    "    \n",
    "    lda = LatentDirichletAllocation(n_components= 5)\n",
    "    lda.fit_transform(fin)\n",
    "    lda_dtf = lda.fit_transform(fin)\n",
    "\n",
    "    sorting = np.argsort(lda.components_)[:, ::-1]\n",
    "    features = np.array(vect.get_feature_names())\n",
    "\n",
    "    three_major = [features[sor] for sor in sorting[:topics]]\n",
    "    \n",
    "    return three_major\n",
    "    "
   ]
  },
  {
   "cell_type": "code",
   "execution_count": 54,
   "metadata": {},
   "outputs": [
    {
     "data": {
      "text/plain": [
       "[array(['interested', 'school', 'start', 'im', 'looking', 'ai', 'student',\n",
       "        'high'], dtype='<U10'),\n",
       " array(['student', 'start', 'im', 'looking', 'ai', 'interested', 'school',\n",
       "        'high'], dtype='<U10'),\n",
       " array(['high', 'start', 'im', 'looking', 'school', 'ai', 'interested',\n",
       "        'student'], dtype='<U10')]"
      ]
     },
     "execution_count": 54,
     "metadata": {},
     "output_type": "execute_result"
    }
   ],
   "source": [
    "convert_to_features(updated_answers.Questions[0], 3)"
   ]
  },
  {
   "cell_type": "code",
   "execution_count": 56,
   "metadata": {},
   "outputs": [
    {
     "data": {
      "text/plain": [
       "[array(['ai', 'online', 'correctly', 'check', 'popular', 'jump', 'human',\n",
       "        'languages', 'question', 'relevant', 'currently', 'learnin',\n",
       "        'comes', 'know', 'model', 'time', 'computer', 'data', 'search',\n",
       "        'need', 'using', 'error', 'master', 'think', 'learning',\n",
       "        'programming', 'programmed', 'written', 'python', 'behaviour',\n",
       "        'good', 'problem', 'program', 'solving', 'correct', 'self',\n",
       "        'posting', 'judges', 'recently', 'julia', 'easiest', 'solve',\n",
       "        'pickup', 'start', 'language', 'code', 'idea', 'learn'],\n",
       "       dtype='<U11')]"
      ]
     },
     "execution_count": 56,
     "metadata": {},
     "output_type": "execute_result"
    }
   ],
   "source": [
    "convert_to_features(updated_answers.Answers[0], 1)"
   ]
  },
  {
   "cell_type": "code",
   "execution_count": 57,
   "metadata": {},
   "outputs": [
    {
     "data": {
      "text/plain": [
       "[array(['solution', 'time', 'logical', 'excellent', 'hours', 'fail',\n",
       "        'responsible', 'sure', 'jobs', 'blame', 'inside', 'point',\n",
       "        'overthinking', 'haunts', 'prefect', 'platform', 'thoroughness',\n",
       "        'undergo', 'force', 'expert', 'care', 'programmers', 'actually',\n",
       "        'struggle', 'credibility', 'compartmentalises', 'progress',\n",
       "        'valid', 'question', 'skills', 'programs', 'useful', 'good',\n",
       "        'profitable', 'friends', 'fact', 'rare', 'persevering', 'solely',\n",
       "        'brain', 'dmoj', 'ask', 'automatically', 'changing', 'training',\n",
       "        'syntax', 'spent', 'experienced', 'slowdown', 'come', 'try',\n",
       "        'understand', 'gaining', 'spend', 'coding', 'thinks', 'means',\n",
       "        'simplest', 'demoted', 'failure', 'thinkers', 'competitive',\n",
       "        'learn', 'nature', 'fails', 'laziness', 'comes', 'programmer',\n",
       "        'faster', 'great', 'missed', 'hold', 'realise', 'imagine',\n",
       "        'easily', 'seldom', 'intuitive', 'knowledge', 'negative',\n",
       "        'unwanted', 'downsides', 'like', 'life', 'solve', 'family', 'lead',\n",
       "        'written', 'create', 'code', 'illogic', 'muh', 'happens',\n",
       "        'kitchen', 'typed', 'level', 'leaders', 'know', 'intuitively',\n",
       "        'working', 'mode', 'new', 'extremely', 'solving', 'work', 'cases',\n",
       "        'think', 'thinking', 'real', 'world', 'test', 'programming',\n",
       "        'important', 'logic', 'logically', 'program', 'biases', 'subject',\n",
       "        'places', 'loose', 'correct', 'problems', 'problem'], dtype='<U17')]"
      ]
     },
     "execution_count": 57,
     "metadata": {},
     "output_type": "execute_result"
    }
   ],
   "source": [
    "convert_to_features(updated_answers.Answers[1],1)"
   ]
  },
  {
   "cell_type": "code",
   "execution_count": 31,
   "metadata": {},
   "outputs": [
    {
     "data": {
      "text/plain": [
       "<17x8 sparse matrix of type '<class 'numpy.int64'>'\n",
       "\twith 9 stored elements in Compressed Sparse Row format>"
      ]
     },
     "execution_count": 31,
     "metadata": {},
     "output_type": "execute_result"
    }
   ],
   "source": [
    "vect = CountVectorizer(ngram_range=(1, 1), stop_words= 'english')\n",
    "fin = vect.fit_transform(updated_answers.Questions[0].split('-'))\n",
    "fin"
   ]
  },
  {
   "cell_type": "code",
   "execution_count": 32,
   "metadata": {},
   "outputs": [],
   "source": [
    "lda = LatentDirichletAllocation(n_components= 5)\n",
    "lda.fit_transform(fin)\n",
    "lda_dtf = lda.fit_transform(fin)"
   ]
  },
  {
   "cell_type": "code",
   "execution_count": 34,
   "metadata": {},
   "outputs": [],
   "source": [
    "sorting = np.argsort(lda.components_)[:, ::-1]\n",
    "features = np.array(vect.get_feature_names())"
   ]
  },
  {
   "cell_type": "code",
   "execution_count": 52,
   "metadata": {},
   "outputs": [
    {
     "data": {
      "text/plain": [
       "array(['im', 'high', 'student', 'interested', 'school', 'ai', 'looking',\n",
       "       'start'], dtype='<U10')"
      ]
     },
     "execution_count": 52,
     "metadata": {},
     "output_type": "execute_result"
    }
   ],
   "source": [
    "features[sorting[0]]"
   ]
  },
  {
   "cell_type": "code",
   "execution_count": 48,
   "metadata": {},
   "outputs": [
    {
     "data": {
      "text/plain": [
       "array([[2, 1, 7, 3, 5, 0, 4, 6],\n",
       "       [5, 3, 7, 1, 2, 0, 4, 6],\n",
       "       [6, 1, 7, 3, 5, 2, 0, 4],\n",
       "       [0, 1, 7, 5, 3, 2, 6, 4],\n",
       "       [4, 1, 7, 3, 5, 2, 0, 6]], dtype=int64)"
      ]
     },
     "execution_count": 48,
     "metadata": {},
     "output_type": "execute_result"
    }
   ],
   "source": [
    "sorting"
   ]
  },
  {
   "cell_type": "code",
   "execution_count": 45,
   "metadata": {},
   "outputs": [
    {
     "name": "stdout",
     "output_type": "stream",
     "text": [
      "topic 0       topic 1       topic 2       topic 3       \n",
      "--------      --------      --------      --------      \n",
      "im            school        start         ai            \n",
      "high          interested    high          high          \n",
      "student       student       student       student       \n",
      "\n",
      "\n"
     ]
    }
   ],
   "source": [
    "#going to use the topic builders that I learnt in the Finance modeling book.\n",
    "\n",
    "#For questions I am taking 3 topics and for answers I will try 5 \n",
    "mglearn.tools.print_topics(topics=range(4), feature_names=features,\n",
    "                            sorting= sorting, topics_per_chunk= 5, n_words= 3)"
   ]
  },
  {
   "cell_type": "code",
   "execution_count": 60,
   "metadata": {},
   "outputs": [],
   "source": [
    "#bring the chat bot alive. Idea is to train the chatbot on the questions I have answered and then use chatbot to get answers by asking it questions.\n",
    "#Even Automate answer creation to chat bot\n",
    "from chatterbot import ChatBot\n",
    "from chatterbot.logic import LogicAdapter\n",
    "from chatterbot.trainers import ChatterBotCorpusTrainer\n",
    "from chatterbot.trainers import ListTrainer\n",
    "import random\n",
    "from itertools import product"
   ]
  }
 ],
 "metadata": {
  "interpreter": {
   "hash": "a42c93b5eee6b56421653baa65deacde473063d5c4965d27c7a75f4e31a8d403"
  },
  "kernelspec": {
   "display_name": "Python 3.7.12 64-bit (system)",
   "language": "python",
   "name": "python3"
  },
  "language_info": {
   "codemirror_mode": {
    "name": "ipython",
    "version": 3
   },
   "file_extension": ".py",
   "mimetype": "text/x-python",
   "name": "python",
   "nbconvert_exporter": "python",
   "pygments_lexer": "ipython3",
   "version": "3.7.12"
  },
  "orig_nbformat": 4
 },
 "nbformat": 4,
 "nbformat_minor": 2
}

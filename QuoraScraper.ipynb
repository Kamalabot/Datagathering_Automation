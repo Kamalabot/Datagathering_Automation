{
 "cells": [
  {
   "cell_type": "code",
   "execution_count": 1,
   "metadata": {},
   "outputs": [],
   "source": [
    "#The notebook goes through the process of scraping the answer that one has written to in the past\n",
    "\n",
    "#It collects the answers in seperate file and assigns the question as the file name\n",
    "\n",
    "#Once the file are created, then they are uploaded to git hub repo (Explore python way)\n",
    "\n",
    "#There the simple website is created for the questions and the answers are displayed.\n",
    "\n",
    "#The NLP analysis is done on the answers and shown in the github website"
   ]
  },
  {
   "cell_type": "code",
   "execution_count": 2,
   "metadata": {},
   "outputs": [],
   "source": [
    "import requests\n",
    "import selenium\n",
    "import os\n",
    "import pandas\n",
    "import warnings\n",
    "warnings.filterwarnings('ignore')"
   ]
  },
  {
   "cell_type": "code",
   "execution_count": 3,
   "metadata": {},
   "outputs": [],
   "source": [
    "from selenium import webdriver\n",
    "import time as time\n",
    "from selenium.common.exceptions import NoSuchElementException\n",
    "from selenium.common.exceptions import ElementNotInteractableException\n",
    "from selenium.webdriver.chrome.options import Options"
   ]
  },
  {
   "cell_type": "code",
   "execution_count": 5,
   "metadata": {},
   "outputs": [],
   "source": [
    "import plotly.express as px\n",
    "import plotly.graph_objects as go\n",
    "from bs4 import BeautifulSoup \n",
    "from lxml import html\n",
    "from urllib.parse import unquote\n",
    "from urllib.parse import urljoin"
   ]
  },
  {
   "cell_type": "code",
   "execution_count": 10,
   "metadata": {},
   "outputs": [
    {
     "data": {
      "text/plain": [
       "'X,uT+&4d&$.&amG'"
      ]
     },
     "execution_count": 10,
     "metadata": {},
     "output_type": "execute_result"
    }
   ],
   "source": [
    "pass_loc = 'C:\\\\WorkFiles\\\\WPy64-37120\\\\notebooks\\\\creds.txt'\n",
    "with open(pass_loc) as p:\n",
    "    reader = p.readlines()\n",
    "\n",
    "uname = reader[0].strip('\\n')\n",
    "passd = reader[1]"
   ]
  },
  {
   "cell_type": "code",
   "execution_count": 12,
   "metadata": {},
   "outputs": [],
   "source": [
    "quora_login = 'https://www.quora.com/'\n",
    "\n",
    "#Lets login first\n",
    "\n",
    "def live_driver(link):\n",
    "    driver = webdriver.Chrome()\n",
    "    driver.get(link)\n",
    "    driver.maximize_window()\n",
    "    driver.refresh()\n",
    "    return driver"
   ]
  },
  {
   "cell_type": "code",
   "execution_count": 13,
   "metadata": {},
   "outputs": [],
   "source": [
    "my_driver = live_driver(quora_login)"
   ]
  },
  {
   "cell_type": "code",
   "execution_count": 18,
   "metadata": {},
   "outputs": [],
   "source": [
    "my_driver.find_element_by_id('email').send_keys(uname)\n",
    "my_driver.find_element_by_id('password').send_keys(passd)"
   ]
  },
  {
   "cell_type": "code",
   "execution_count": 19,
   "metadata": {},
   "outputs": [],
   "source": [
    "my_driver.find_element_by_xpath('//*[@id=\"root\"]/div[2]/div/div/div/div/div[2]/div[2]/div[4]/button').click()"
   ]
  },
  {
   "cell_type": "code",
   "execution_count": 20,
   "metadata": {},
   "outputs": [],
   "source": [
    "my_driver.execute_script(\"window.open('https://www.quora.com/stats', 'new_window')\")"
   ]
  },
  {
   "cell_type": "code",
   "execution_count": 35,
   "metadata": {},
   "outputs": [
    {
     "data": {
      "text/plain": [
       "'(1) Quora'"
      ]
     },
     "execution_count": 35,
     "metadata": {},
     "output_type": "execute_result"
    }
   ],
   "source": [
    "my_driver.title"
   ]
  },
  {
   "cell_type": "code",
   "execution_count": 36,
   "metadata": {},
   "outputs": [
    {
     "data": {
      "text/plain": [
       "'CDwindow-A55F2FB6AF179848C31123DF403904D8'"
      ]
     },
     "execution_count": 36,
     "metadata": {},
     "output_type": "execute_result"
    }
   ],
   "source": [
    "p = my_driver.current_window_handle\n",
    "p"
   ]
  },
  {
   "cell_type": "code",
   "execution_count": 37,
   "metadata": {},
   "outputs": [],
   "source": [
    "stwd = my_driver.window_handles"
   ]
  },
  {
   "cell_type": "code",
   "execution_count": 39,
   "metadata": {},
   "outputs": [],
   "source": [
    "my_driver.switch_to.window(stwd[1])"
   ]
  },
  {
   "cell_type": "code",
   "execution_count": 40,
   "metadata": {},
   "outputs": [
    {
     "data": {
      "text/plain": [
       "'(1) Your content & stats'"
      ]
     },
     "execution_count": 40,
     "metadata": {},
     "output_type": "execute_result"
    }
   ],
   "source": [
    "my_driver.title"
   ]
  },
  {
   "cell_type": "code",
   "execution_count": 55,
   "metadata": {},
   "outputs": [],
   "source": [
    "SCROLL_PAUSE_TIME = 0.5\n",
    "import time\n",
    "# Get scroll height\n",
    "last_height = my_driver.execute_script(\"return document.body.scrollHeight\")\n",
    "\n",
    "for _ in range(100):\n",
    "    # Scroll down to bottom\n",
    "    my_driver.execute_script(\"window.scrollTo(0, document.body.scrollHeight);\")\n",
    "\n",
    "    # Wait to load page\n",
    "    time.sleep(SCROLL_PAUSE_TIME)\n",
    "\n",
    "    # Calculate new scroll height and compare with last scroll height\n",
    "    new_height = my_driver.execute_script(\"return document.body.scrollHeight\")"
   ]
  },
  {
   "cell_type": "code",
   "execution_count": 58,
   "metadata": {},
   "outputs": [],
   "source": [
    "questions = my_driver.find_elements_by_xpath('//a/div/span/span/div/div/div')\n",
    "q_text = []\n",
    "\n",
    "for q in questions:\n",
    "    q_text.append(q.text)"
   ]
  },
  {
   "cell_type": "code",
   "execution_count": 59,
   "metadata": {},
   "outputs": [
    {
     "data": {
      "text/plain": [
       "'Why is Google’s YouTube increasing a number of ads shown per each video and what is your opinion?'"
      ]
     },
     "execution_count": 59,
     "metadata": {},
     "output_type": "execute_result"
    }
   ],
   "source": [
    "q_text[0]"
   ]
  },
  {
   "cell_type": "code",
   "execution_count": 75,
   "metadata": {},
   "outputs": [
    {
     "data": {
      "text/plain": [
       "'Why_is_Google’s_YouTube_increasing_a_number_of_ads_shown_per_each_video_and_what_is_your_opinion?'"
      ]
     },
     "execution_count": 75,
     "metadata": {},
     "output_type": "execute_result"
    }
   ],
   "source": [
    "'_'.join(q_text[0].split(' '))"
   ]
  },
  {
   "cell_type": "code",
   "execution_count": 71,
   "metadata": {},
   "outputs": [
    {
     "data": {
      "text/plain": [
       "735"
      ]
     },
     "execution_count": 71,
     "metadata": {},
     "output_type": "execute_result"
    }
   ],
   "source": [
    "quest_links = my_driver.find_elements_by_xpath('//*[@role=\"listitem\"]/div/div/div/div/div[1]/div[2]/div/a')\n",
    "len(quest_links)"
   ]
  },
  {
   "cell_type": "code",
   "execution_count": 72,
   "metadata": {},
   "outputs": [],
   "source": [
    "links_to_questions= []\n",
    "for ql in quest_links:\n",
    "    links_to_questions.append(ql.get_attribute('href'))"
   ]
  },
  {
   "cell_type": "code",
   "execution_count": 73,
   "metadata": {},
   "outputs": [
    {
     "data": {
      "text/plain": [
       "'https://www.quora.com/Why-is-Google-s-YouTube-increasing-a-number-of-ads-shown-per-each-video-and-what-is-your-opinion/answer/Kamal-Raj-17'"
      ]
     },
     "execution_count": 73,
     "metadata": {},
     "output_type": "execute_result"
    }
   ],
   "source": [
    "links_to_questions[0]"
   ]
  },
  {
   "cell_type": "code",
   "execution_count": 62,
   "metadata": {},
   "outputs": [],
   "source": [
    "views = my_driver.find_elements_by_xpath('//*[@role=\"listitem\"]/div/div/div/div/div[2]/div[1]/div[2]')\n",
    "view_count = []\n",
    "\n",
    "for v in views:\n",
    "    view_count.append(v.text)"
   ]
  },
  {
   "cell_type": "code",
   "execution_count": 63,
   "metadata": {},
   "outputs": [
    {
     "data": {
      "text/plain": [
       "'73'"
      ]
     },
     "execution_count": 63,
     "metadata": {},
     "output_type": "execute_result"
    }
   ],
   "source": [
    "view_count[0]"
   ]
  },
  {
   "cell_type": "code",
   "execution_count": 64,
   "metadata": {},
   "outputs": [],
   "source": [
    "upvotes = my_driver.find_elements_by_xpath('//*[@role=\"listitem\"]/div/div/div/div/div[2]/div[2]/div[2]')\n",
    "up_count = []"
   ]
  },
  {
   "cell_type": "code",
   "execution_count": 68,
   "metadata": {},
   "outputs": [],
   "source": [
    "for v in upvotes:\n",
    "    up_count.append(v.text)"
   ]
  },
  {
   "cell_type": "code",
   "execution_count": 100,
   "metadata": {},
   "outputs": [],
   "source": [
    "my_driver.quit()"
   ]
  },
  {
   "cell_type": "code",
   "execution_count": 103,
   "metadata": {},
   "outputs": [],
   "source": [
    "\n",
    "def answer_collector(link):\n",
    "    options = Options()\n",
    "\n",
    "    options.headless = True #making this driver headless so it can work in the background\n",
    "    \n",
    "    driver = webdriver.Chrome(options=options, executable_path=r'chromedriver.exe')\n",
    "    \n",
    "    driver.get(link)\n",
    "    \n",
    "    driver.maximize_window()\n",
    "    \n",
    "    driver.refresh()\n",
    "    \n",
    "    answer = []\n",
    "\n",
    "    paras =  driver.find_elements_by_xpath(\"//div[@class = 'q-text']/span/span/p\")\n",
    "    \n",
    "    for p in paras:\n",
    "\n",
    "        answer.append(p.text)\n",
    "\n",
    "    driver.quit()\n",
    "\n",
    "    return '\\n'.join(answer)"
   ]
  },
  {
   "cell_type": "code",
   "execution_count": 104,
   "metadata": {},
   "outputs": [],
   "source": [
    "get_answer = answer_collector(links_to_questions[0])"
   ]
  },
  {
   "cell_type": "code",
   "execution_count": 115,
   "metadata": {},
   "outputs": [
    {
     "data": {
      "text/plain": [
       "'Why_is_Google’s_YouTube_increasing_a_number_of_ads_shown_per_each_video_and_what_is_your_opinion?.txt'"
      ]
     },
     "execution_count": 115,
     "metadata": {},
     "output_type": "execute_result"
    }
   ],
   "source": [
    "file_name = '_'.join(q_text[0].split(' ')) + '.txt'\n",
    "file_name"
   ]
  },
  {
   "cell_type": "code",
   "execution_count": 118,
   "metadata": {},
   "outputs": [],
   "source": [
    "file_name = file_name.replace('?','')"
   ]
  },
  {
   "cell_type": "code",
   "execution_count": 119,
   "metadata": {},
   "outputs": [],
   "source": [
    "with open(f'./temp/{file_name}', 'w') as wr:\n",
    "    wr.write(get_answer)"
   ]
  },
  {
   "cell_type": "code",
   "execution_count": 111,
   "metadata": {},
   "outputs": [
    {
     "data": {
      "text/plain": [
       "'Query_1 a list of CITY names from STATION for cities that have an even ID number. Print the results in any order, but exclude duplicates from the answer.\\n'"
      ]
     },
     "execution_count": 111,
     "metadata": {},
     "output_type": "execute_result"
    }
   ],
   "source": [
    "with open('./temp/Hacker_RankSQL.txt','r') as tr:\n",
    "    wr = tr.readline()\n",
    "\n",
    "wr"
   ]
  },
  {
   "cell_type": "code",
   "execution_count": 126,
   "metadata": {},
   "outputs": [],
   "source": [
    "forbid = ['<', '>' ,':' ,'\"', '/','?','*'] "
   ]
  },
  {
   "cell_type": "code",
   "execution_count": 127,
   "metadata": {},
   "outputs": [
    {
     "ename": "TypeError",
     "evalue": "decoding to str: a bytes-like object is required, not list",
     "output_type": "error",
     "traceback": [
      "\u001b[1;31m---------------------------------------------------------------------------\u001b[0m",
      "\u001b[1;31mTypeError\u001b[0m                                 Traceback (most recent call last)",
      "\u001b[1;32mC:\\Users\\D30001~1\\AppData\\Local\\Temp/ipykernel_7204/3583089609.py\u001b[0m in \u001b[0;36m<module>\u001b[1;34m\u001b[0m\n\u001b[0;32m      1\u001b[0m \u001b[0meu\u001b[0m \u001b[1;33m=\u001b[0m \u001b[1;34m'Can_someone_help_me_learn_Python_programming_in_his/her_free_tim'\u001b[0m\u001b[1;33m\u001b[0m\u001b[1;33m\u001b[0m\u001b[0m\n\u001b[0;32m      2\u001b[0m \u001b[1;33m\u001b[0m\u001b[0m\n\u001b[1;32m----> 3\u001b[1;33m \u001b[0meu\u001b[0m\u001b[1;33m.\u001b[0m\u001b[0mreplace\u001b[0m\u001b[1;33m(\u001b[0m\u001b[0mforbid\u001b[0m\u001b[1;33m,\u001b[0m\u001b[1;34m''\u001b[0m\u001b[1;33m)\u001b[0m\u001b[1;33m\u001b[0m\u001b[1;33m\u001b[0m\u001b[0m\n\u001b[0m",
      "\u001b[1;31mTypeError\u001b[0m: decoding to str: a bytes-like object is required, not list"
     ]
    }
   ],
   "source": [
    "eu = 'Can_someone_help_me_learn_Python_programming_in_his/her_free_tim'\n",
    "\n",
    "for fb in forbid:"
   ]
  },
  {
   "cell_type": "code",
   "execution_count": 121,
   "metadata": {},
   "outputs": [
    {
     "name": "stdout",
     "output_type": "stream",
     "text": [
      "Got the ans for Why is Google’s YouTube increasing a number of ads shown per each video and what is your opinion?\n",
      "Got the ans for How much mathematics is enough to start learning how machine learning algorithms work?\n",
      "Got the ans for I am going to get started with competitive and robotics programming. Which is a better option to commence with, C++ or Python? I have no programming experience.\n"
     ]
    },
    {
     "ename": "FileNotFoundError",
     "evalue": "[Errno 2] No such file or directory: './temp/Can_someone_help_me_learn_Python_programming_in_his/her_free_time.txt'",
     "output_type": "error",
     "traceback": [
      "\u001b[1;31m---------------------------------------------------------------------------\u001b[0m",
      "\u001b[1;31mFileNotFoundError\u001b[0m                         Traceback (most recent call last)",
      "\u001b[1;32mC:\\Users\\D30001~1\\AppData\\Local\\Temp/ipykernel_7204/2323779929.py\u001b[0m in \u001b[0;36m<module>\u001b[1;34m\u001b[0m\n\u001b[0;32m     12\u001b[0m         \u001b[0mfile_name\u001b[0m \u001b[1;33m=\u001b[0m \u001b[0mfile_name\u001b[0m\u001b[1;33m.\u001b[0m\u001b[0mreplace\u001b[0m\u001b[1;33m(\u001b[0m\u001b[1;34m'?'\u001b[0m\u001b[1;33m,\u001b[0m\u001b[1;34m''\u001b[0m\u001b[1;33m)\u001b[0m\u001b[1;33m\u001b[0m\u001b[1;33m\u001b[0m\u001b[0m\n\u001b[0;32m     13\u001b[0m \u001b[1;33m\u001b[0m\u001b[0m\n\u001b[1;32m---> 14\u001b[1;33m     \u001b[1;32mwith\u001b[0m \u001b[0mopen\u001b[0m\u001b[1;33m(\u001b[0m\u001b[1;34mf'./temp/{file_name}'\u001b[0m\u001b[1;33m,\u001b[0m \u001b[1;34m'w'\u001b[0m\u001b[1;33m)\u001b[0m \u001b[1;32mas\u001b[0m \u001b[0mans\u001b[0m\u001b[1;33m:\u001b[0m\u001b[1;33m\u001b[0m\u001b[1;33m\u001b[0m\u001b[0m\n\u001b[0m\u001b[0;32m     15\u001b[0m \u001b[1;33m\u001b[0m\u001b[0m\n\u001b[0;32m     16\u001b[0m         \u001b[0mans\u001b[0m\u001b[1;33m.\u001b[0m\u001b[0mwrite\u001b[0m\u001b[1;33m(\u001b[0m\u001b[0mget_answer\u001b[0m\u001b[1;33m)\u001b[0m\u001b[1;33m\u001b[0m\u001b[1;33m\u001b[0m\u001b[0m\n",
      "\u001b[1;31mFileNotFoundError\u001b[0m: [Errno 2] No such file or directory: './temp/Can_someone_help_me_learn_Python_programming_in_his/her_free_time.txt'"
     ]
    }
   ],
   "source": [
    "#We have the question links, we use tht to extract answers from the links. Idea is open a new tab, with the link, \n",
    "#scrape the page and close the tab\n",
    "\n",
    "for idex, link in enumerate(links_to_questions[:5]):\n",
    "\n",
    "    get_answer = answer_collector(link) \n",
    "\n",
    "    file_name = '_'.join(q_text[idex].split(' ')) + '.txt'\n",
    "\n",
    "    if '?' in file_name:\n",
    "\n",
    "        file_name = file_name.replace('?','')\n",
    "\n",
    "    if '/' in file_name:\n",
    "\n",
    "        file_name = file_name.replace('/','_')\n",
    "\n",
    "    with open(f'./temp/{file_name}', 'w') as ans:\n",
    "\n",
    "        ans.write(get_answer)\n",
    "\n",
    "    print(f'Got the ans for {q_text[idex]}')"
   ]
  },
  {
   "cell_type": "code",
   "execution_count": null,
   "metadata": {},
   "outputs": [],
   "source": []
  }
 ],
 "metadata": {
  "interpreter": {
   "hash": "a42c93b5eee6b56421653baa65deacde473063d5c4965d27c7a75f4e31a8d403"
  },
  "kernelspec": {
   "display_name": "Python 3.7.12 64-bit (system)",
   "language": "python",
   "name": "python3"
  },
  "language_info": {
   "codemirror_mode": {
    "name": "ipython",
    "version": 3
   },
   "file_extension": ".py",
   "mimetype": "text/x-python",
   "name": "python",
   "nbconvert_exporter": "python",
   "pygments_lexer": "ipython3",
   "version": "3.7.12"
  },
  "orig_nbformat": 4
 },
 "nbformat": 4,
 "nbformat_minor": 2
}

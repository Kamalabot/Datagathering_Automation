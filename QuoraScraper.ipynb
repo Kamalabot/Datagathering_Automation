{
 "cells": [
  {
   "cell_type": "code",
   "execution_count": 21,
   "metadata": {},
   "outputs": [
    {
     "data": {
      "text/plain": [
       "215"
      ]
     },
     "execution_count": 21,
     "metadata": {},
     "output_type": "execute_result"
    }
   ],
   "source": [
    "th = 'To-support-technicians-in-setting-up-a-particle-accelerator-I-would-like-to-develop-a-machine-learning-based-system-giving-hints-on-next-steps-to-take-What-would-be-the-best-approach-and-software-to-get-started-with'\n",
    "len(th)"
   ]
  },
  {
   "cell_type": "code",
   "execution_count": 1,
   "metadata": {},
   "outputs": [],
   "source": [
    "#The notebook goes through the process of scraping the answer that one has written to in the past\n",
    "\n",
    "#It collects the answers in seperate file and assigns the question as the file name\n",
    "\n",
    "#Once the file are created, then they are uploaded to git hub repo (Explore python way)\n",
    "\n",
    "#There the simple website is created for the questions and the answers are displayed.\n",
    "\n",
    "#The NLP analysis is done on the answers and shown in the github website"
   ]
  },
  {
   "cell_type": "code",
   "execution_count": 1,
   "metadata": {},
   "outputs": [],
   "source": [
    "import requests\n",
    "import selenium\n",
    "import os\n",
    "import pandas\n",
    "import warnings\n",
    "warnings.filterwarnings('ignore')"
   ]
  },
  {
   "cell_type": "code",
   "execution_count": 2,
   "metadata": {},
   "outputs": [],
   "source": [
    "from selenium import webdriver\n",
    "import time as time\n",
    "from selenium.common.exceptions import NoSuchElementException\n",
    "from selenium.common.exceptions import ElementNotInteractableException\n",
    "from selenium.webdriver.chrome.options import Options"
   ]
  },
  {
   "cell_type": "code",
   "execution_count": 3,
   "metadata": {},
   "outputs": [],
   "source": [
    "import plotly.express as px\n",
    "import plotly.graph_objects as go\n",
    "from bs4 import BeautifulSoup \n",
    "from lxml import html\n",
    "from urllib.parse import unquote\n",
    "from urllib.parse import urljoin\n",
    "import time"
   ]
  },
  {
   "cell_type": "code",
   "execution_count": 4,
   "metadata": {},
   "outputs": [],
   "source": [
    "import pandas as pd\n",
    "import numpy as np"
   ]
  },
  {
   "cell_type": "code",
   "execution_count": 6,
   "metadata": {},
   "outputs": [],
   "source": [
    "quora_login = 'https://www.quora.com/'\n",
    "\n",
    "#Lets login first\n",
    "\n",
    "def live_driver(link):\n",
    "    \n",
    "    options = Options()\n",
    "\n",
    "    options.headless = True #making this driver headless so it can work in the background\n",
    "    \n",
    "    driver = webdriver.Chrome(options=options, executable_path=r'chromedriver.exe')\n",
    "    \n",
    "    driver.get(link)\n",
    "    driver.maximize_window()\n",
    "    driver.refresh()\n",
    "    return driver"
   ]
  },
  {
   "cell_type": "code",
   "execution_count": 5,
   "metadata": {},
   "outputs": [],
   "source": [
    "from collections import namedtuple\n",
    "from typing import NamedTuple"
   ]
  },
  {
   "cell_type": "code",
   "execution_count": 7,
   "metadata": {},
   "outputs": [],
   "source": [
    "\n",
    "def user_page(link: str, uname: str, passd: str):\n",
    "    \"\"\"Return the User's main page with all statistics\"\"\"\n",
    "\n",
    "    options = Options()\n",
    "\n",
    "    options.headless = True #making this driver headless so it can work in the background\n",
    "    \n",
    "    driver = webdriver.Chrome(options=options, executable_path=r'chromedriver.exe')\n",
    "\n",
    "    driver.get(link)\n",
    "\n",
    "    driver.maximize_window()\n",
    "\n",
    "    driver.refresh()\n",
    "\n",
    "    driver.find_element_by_id('email').send_keys(uname)\n",
    "\n",
    "    driver.find_element_by_id('password').send_keys(passd)\n",
    "\n",
    "    driver.find_element_by_xpath('//*[@id=\"root\"]/div[2]/div/div/div/div/div[2]/div[2]/div[4]/button').click()\n",
    "\n",
    "    return driver"
   ]
  },
  {
   "cell_type": "code",
   "execution_count": 11,
   "metadata": {},
   "outputs": [],
   "source": [
    "from typing import List\n",
    "\n",
    "def stats_prepare(driver) ->List[str]:\n",
    "    \"\"\"Populates the question so the scraper can collect them next\"\"\"\n",
    "\n",
    "    driver.execute_script(\"window.open('https://www.quora.com/stats', 'new_window')\")\n",
    "\n",
    "    stwd = driver.window_handles\n",
    "\n",
    "    driver.switch_to.window(stwd[1])\n",
    "\n",
    "    SCROLL_PAUSE_TIME = 0.5\n",
    "    \n",
    "    # Get scroll height\n",
    "    last_height = driver.execute_script(\"return document.body.scrollHeight\")\n",
    "\n",
    "    for _ in range(1000):\n",
    "        # Scroll down to bottom\n",
    "        driver.execute_script(\"window.scrollTo(0, document.body.scrollHeight);\")\n",
    "\n",
    "        # Wait to load page\n",
    "        time.sleep(SCROLL_PAUSE_TIME)\n",
    "\n",
    "        # Calculate new scroll height and compare with last scroll height\n",
    "        new_height = driver.execute_script(\"return document.body.scrollHeight\")\n",
    "\n",
    "    return driver"
   ]
  },
  {
   "cell_type": "code",
   "execution_count": 12,
   "metadata": {},
   "outputs": [],
   "source": [
    "from typing import List\n",
    "\n",
    "def view_count(driver) ->List[str]:\n",
    "    \"\"\"Get the view count from the driver that is ready\"\"\"\n",
    "    \n",
    "    views = driver.find_elements_by_xpath('//*[@role=\"listitem\"]/div/div/div/div/div[2]/div[1]/div[2]')\n",
    "\n",
    "    view_count = []\n",
    "\n",
    "    for v in views:\n",
    "\n",
    "        view_count.append(v.text)\n",
    "\n",
    "    return view_count"
   ]
  },
  {
   "cell_type": "code",
   "execution_count": 13,
   "metadata": {},
   "outputs": [],
   "source": [
    "from typing import List\n",
    "\n",
    "def question_collector(driver) ->List[str]:\n",
    "    \"\"\"Populates the question so the scraper can collect them next\"\"\"\n",
    "    \n",
    "    quest_links = driver.find_elements_by_xpath('//*[@role=\"listitem\"]/div/div/div/div/div[1]/div[2]/div/a')\n",
    "\n",
    "    links_to_questions= []\n",
    "    \n",
    "    for ql in quest_links:\n",
    "    \n",
    "        links_to_questions.append(ql.get_attribute('href'))\n",
    "\n",
    "    return links_to_questions"
   ]
  },
  {
   "cell_type": "code",
   "execution_count": 14,
   "metadata": {},
   "outputs": [],
   "source": [
    "from typing import List\n",
    "\n",
    "def upvotes(driver) ->List[str]:\n",
    "    \"\"\"Populates the question so the scraper can collect them next\"\"\"\n",
    "    \n",
    "    upvotes = driver.find_elements_by_xpath('//*[@role=\"listitem\"]/div/div/div/div/div[2]/div[2]/div[2]')\n",
    "\n",
    "    up_count = []\n",
    " \n",
    "    for v in upvotes:\n",
    "        \n",
    "        up_count.append(v.text)\n",
    "\n",
    "    return up_count"
   ]
  },
  {
   "cell_type": "code",
   "execution_count": 15,
   "metadata": {},
   "outputs": [],
   "source": [
    "def clean_join(q_text :str) -> str:\n",
    "\n",
    "    local_q = q_text\n",
    "    \n",
    "    forbid = ['<', '>' ,':' ,'\"', '/','?','*']\n",
    "\n",
    "    for spl in forbid:\n",
    "\n",
    "        if spl in local_q:\n",
    "\n",
    "            local_q = local_q.replace(spl, '')\n",
    "\n",
    "    local_q = '_'.join(local_q.split(' '))\n",
    "\n",
    "    return local_q"
   ]
  },
  {
   "cell_type": "code",
   "execution_count": 8,
   "metadata": {},
   "outputs": [],
   "source": [
    "pass_loc = 'C:\\\\WorkFiles\\\\WPy64-37120\\\\notebooks\\\\creds.txt'\n",
    "with open(pass_loc) as p:\n",
    "    reader = p.readlines()\n",
    "\n",
    "uname = reader[0].strip('\\n')\n",
    "passd = reader[1]"
   ]
  },
  {
   "cell_type": "code",
   "execution_count": 16,
   "metadata": {},
   "outputs": [],
   "source": [
    "my_driver = user_page(quora_login, uname, passd)"
   ]
  },
  {
   "cell_type": "code",
   "execution_count": 85,
   "metadata": {},
   "outputs": [
    {
     "ename": "TypeError",
     "evalue": "'list' object is not callable",
     "output_type": "error",
     "traceback": [
      "\u001b[1;31m---------------------------------------------------------------------------\u001b[0m",
      "\u001b[1;31mTypeError\u001b[0m                                 Traceback (most recent call last)",
      "\u001b[1;32mC:\\Users\\D30001~1\\AppData\\Local\\Temp/ipykernel_13208/3107087205.py\u001b[0m in \u001b[0;36m<module>\u001b[1;34m\u001b[0m\n\u001b[0;32m      2\u001b[0m \u001b[0mviews\u001b[0m \u001b[1;33m=\u001b[0m \u001b[0mview_count\u001b[0m\u001b[1;33m(\u001b[0m\u001b[0mmy_driver\u001b[0m\u001b[1;33m)\u001b[0m\u001b[1;33m\u001b[0m\u001b[1;33m\u001b[0m\u001b[0m\n\u001b[0;32m      3\u001b[0m \u001b[0mlinks_questions\u001b[0m \u001b[1;33m=\u001b[0m \u001b[0mquestion_collector\u001b[0m\u001b[1;33m(\u001b[0m\u001b[0mmy_driver\u001b[0m\u001b[1;33m)\u001b[0m\u001b[1;33m\u001b[0m\u001b[1;33m\u001b[0m\u001b[0m\n\u001b[1;32m----> 4\u001b[1;33m \u001b[0mupvote_list\u001b[0m \u001b[1;33m=\u001b[0m \u001b[0mupvotes\u001b[0m\u001b[1;33m(\u001b[0m\u001b[0mmy_driver\u001b[0m\u001b[1;33m)\u001b[0m\u001b[1;33m\u001b[0m\u001b[1;33m\u001b[0m\u001b[0m\n\u001b[0m",
      "\u001b[1;31mTypeError\u001b[0m: 'list' object is not callable"
     ]
    }
   ],
   "source": [
    "stats_prepare(my_driver)\n",
    "views = view_count(my_driver)\n",
    "links_questions = question_collector(my_driver)\n",
    "upvote_list = upvotes(my_driver)"
   ]
  },
  {
   "cell_type": "code",
   "execution_count": 113,
   "metadata": {},
   "outputs": [],
   "source": [
    "#removing the repeated questions\n",
    "links_questions = [x for x in links_questions if 'Kamal' not in x or 'answer' not in x]\n"
   ]
  },
  {
   "cell_type": "code",
   "execution_count": 114,
   "metadata": {},
   "outputs": [],
   "source": [
    "quest_names = [x.split('/')[3] for x in links_questions]"
   ]
  },
  {
   "cell_type": "code",
   "execution_count": 89,
   "metadata": {},
   "outputs": [],
   "source": [
    "my_driver.quit()"
   ]
  },
  {
   "cell_type": "code",
   "execution_count": 115,
   "metadata": {},
   "outputs": [
    {
     "name": "stdout",
     "output_type": "stream",
     "text": [
      "660\n",
      "146\n",
      "611\n"
     ]
    }
   ],
   "source": [
    "print(len(upvote_list))\n",
    "print(len(links_questions))\n",
    "print(len(views))"
   ]
  },
  {
   "cell_type": "code",
   "execution_count": 116,
   "metadata": {},
   "outputs": [
    {
     "data": {
      "text/plain": [
       "146"
      ]
     },
     "execution_count": 116,
     "metadata": {},
     "output_type": "execute_result"
    }
   ],
   "source": [
    "len(quest_names)"
   ]
  },
  {
   "cell_type": "code",
   "execution_count": 70,
   "metadata": {},
   "outputs": [],
   "source": [
    "\n",
    "def answer_collector(link):\n",
    "    options = Options()\n",
    "\n",
    "    options.headless = True #making this driver headless so it can work in the background\n",
    "    \n",
    "    driver = webdriver.Chrome(options=options, executable_path=r'chromedriver.exe')\n",
    "    \n",
    "    driver.get(link)\n",
    "    \n",
    "    driver.maximize_window()\n",
    "    \n",
    "    driver.refresh()\n",
    "    \n",
    "    answer = []\n",
    "\n",
    "    paras =  driver.find_elements_by_xpath(\"//div[@class = 'q-text']/span/span/p\")\n",
    "    \n",
    "    for p in paras:\n",
    "\n",
    "        answer.append(p.text)\n",
    "\n",
    "    driver.quit()\n",
    "\n",
    "    print(f\"{link} done\")\n",
    "\n",
    "    return '\\n'.join(answer)"
   ]
  },
  {
   "cell_type": "code",
   "execution_count": 100,
   "metadata": {},
   "outputs": [],
   "source": [
    "#Only for checking\n",
    "get_answer = answer_collector(links_questions[0])"
   ]
  },
  {
   "cell_type": "code",
   "execution_count": 111,
   "metadata": {},
   "outputs": [
    {
     "data": {
      "text/plain": [
       "'Query_1 a list of CITY names from STATION for cities that have an even ID number. Print the results in any order, but exclude duplicates from the answer.\\n'"
      ]
     },
     "execution_count": 111,
     "metadata": {},
     "output_type": "execute_result"
    }
   ],
   "source": [
    "#Only for checking\n",
    "with open('./temp/Hacker_RankSQL.txt','r') as tr:\n",
    "    wr = tr.readline()\n",
    "\n",
    "wr"
   ]
  },
  {
   "cell_type": "code",
   "execution_count": 117,
   "metadata": {},
   "outputs": [
    {
     "name": "stdout",
     "output_type": "stream",
     "text": [
      "Got the ans for I-am-going-to-get-started-with-competitive-and-robotics-programming-Which-is-a-better-option-to-commence-with-C-or-P-1\n",
      "Got the ans for Can-someone-help-me-learn-Python-programming-in-his-her-free-time-1\n",
      "Got the ans for https-www-quora-com-Can-video-analytics-and-machine-learning-solutions-help-achieve-zero-defects-in-manufacturing-Why\n",
      "Got the ans for Which-is-the-best-YouTube-tutorial-to-learn-Python-2\n",
      "Got the ans for https-www-quora-com-Why-is-machine-learning-useful-for-making-predictions-but-not-for-finding-causal-relationships-ans\n",
      "Got the ans for https-www-quora-com-Which-skill-do-I-have-to-learn-first-and-why-artificial-intelligence-or-data-science-I-dont-have-a\n",
      "Got the ans for How-to-switch-my-career-to-IT-after-working-for-5-years-in-core-mechanical-industry-How-do-I-choose-the-domain-what-a-1\n",
      "Got the ans for https-www-quora-com-Is-it-normal-for-beginners-to-get-stuck-on-a-problem-in-coding-for-more-than-2hrs-Would-you-recomm\n",
      "Got the ans for I-am-in-10th-and-I-want-to-learn-coding-and-business-How-can-I-manage-it-with-my-school-and-3-hours-of-coaching-and-sel-1\n",
      "Got the ans for Even-after-so-many-wars-calamities-and-epidemics-why-do-humans-still-mindlessly-reproduce\n",
      "Got the ans for How-we-can-learn-program-effectively-1\n",
      "Got the ans for https-www-quora-com-I-have-a-theoretical-knowledge-of-Java-and-I-just-got-a-job-as-a-Java-developer-based-on-theoretic\n",
      "Got the ans for https-www-quora-com-What-does-state-of-the-art-mean-in-machine-learning-Is-it-the-best-or-one-of-the-best-answer-Kam\n",
      "Got the ans for https-www-quora-com-How-do-we-study-artificial-intelligence-in-Germany-When-should-we-apply-for-it-after-12th-or-do-we\n",
      "Got the ans for Nowadays-I-am-getting-attracted-towards-my-chemistry-teacher-who-is-triple-of-my-age-but-this-is-affecting-my-studies-2\n",
      "Got the ans for profile\n",
      "Got the ans for https-www-quora-com-Do-I-need-to-have-a-prior-knowledge-of-data-analysis-before-I-can-learn-machine-learning-for-web-a\n",
      "Got the ans for https-www-quora-com-What-areas-of-artificial-intelligence-are-being-implemented-in-the-diagnosis-of-respiratory-infect\n",
      "Got the ans for https-www-quora-com-I-have-to-write-a-program-as-a-part-of-my-undergraduate-studies-and-Im-really-interested-in-machin\n",
      "Got the ans for https-www-quora-com-Its-been-1-year-that-I-have-been-working-as-a-software-engineer-I-work-on-developing-Python-code-a\n",
      "Got the ans for https-www-quora-com-CBSE-has-introduced-AI-artificial-intelligence-as-part-of-its-curriculum-in-standard-9-What-could\n",
      "Got the ans for https-www-quora-com-Im-16-and-don-t-know-what-career-I-want-My-dad-wants-me-to-do-trades-but-I-m-not-sure-I-want-to-do\n",
      "Got the ans for https-www-quora-com-As-a-beginner-with-a-commerce-background-where-do-I-start-from-in-order-to-learn-Artificial-Intell\n",
      "Got the ans for Now-that-the-schools-have-reopened-including-8-hours-of-sleep-7-hours-of-school-and-1-2-hours-of-leisure-activities-1\n",
      "Got the ans for I-started-learning-Python-due-to-my-interest-but-after-a-few-days-I-lost-the-interest-once-it-got-tougher-to-learn-How-1\n",
      "Got the ans for https-www-quora-com-Is-Machine-learning-used-in-medicine-Feeding-the-model-1000s-of-images-of-cancer-and-tumors-The-ma\n",
      "Got the ans for https-www-quora-com-How-do-you-get-into-Deep-Learning-in-practice-Im-18-but-Im-afraid-books-and-online-courses-wont-be\n",
      "Got the ans for https-www-quora-com-How-can-I-pursue-my-career-in-artificial-intelligence-and-machine-learning-after-doing-a-B-Sc-in-P\n",
      "Got the ans for https-www-quora-com-What-are-some-project-ideas-for-a-final-year-data-science-student-Beginner-to-intermediate-level-a\n",
      "Got the ans for How-the-Data-and-Science-behing-the-free-computing-is-changing-the-landscape-https-www-quora-com-What-are-the-featur\n",
      "Got the ans for Metaverse-Land-of-Algorithms-Being-a-avid-fan-of-videogames-I-got-smitten-by-Metaverse-Take-any-game-you-play-you\n",
      "Got the ans for Learning-to-Let-the-Data-Speak-Gapminder-dataset-and-its-visualisation-TED-talk-got-me-smitten-with-the-ideas-of-f\n",
      "Got the ans for Impact-of-Data-Analysis-and-AI-in-Online-Education-https-www-quora-com-How-is-artificial-intelligence-being-used-in-e\n",
      "Got the ans for https-www-quora-com-Can-I-learn-AI-or-robotics-through-an-online-course-and-make-it-as-a-career-as-I-am-30-years-old-a\n",
      "Got the ans for How-do-you-know-if-you-love-someone-Memory-of-someone-you-love-can-instantly-heal-you-give-you-energy-and-wake-you\n",
      "Got the ans for Why-collect-Fond-Memories-The-importance-of-memories-time-spent-with-loving-family-caring-friends-and-spectacular\n",
      "Got the ans for Why-is-nothing-going-viral-recently\n",
      "Got the ans for https-www-quora-com-What-is-the-best-path-as-a-career-among-Cyber-Security-Machine-learning-and-AI-software-developmen\n",
      "Got the ans for https-www-quora-com-What-is-the-difference-between-supervised-and-unsupervised-learning-and-how-can-we-tell-the-differ\n",
      "Got the ans for What-are-your-thoughts-on-philosophers-like-Ayn-Ring-who-say-that-if-minds-are-really-just-brains-then-cognition-is-just-1\n",
      "Got the ans for How-Objectivism-of-Rands-philosophy-helps-to-navigate-the-reality-easier-Having-read-a-bit-of-Ayn-the-feeling-she-cr\n",
      "Got the ans for What-are-the-best-examples-of-advanced-AI-technology\n",
      "Got the ans for https-www-quora-com-Should-I-pursue-my-career-in-AI-I-have-a-great-interest-in-design-and-creativity-What-other-career\n",
      "Got the ans for https-www-quora-com-I-want-to-do-an-MS-in-artificial-Emotional-Intelligence-Which-countries-have-the-most-research-for\n",
      "Got the ans for https-www-quora-com-Can-you-suggest-a-topic-for-PhD-research-combining-artificial-intelligence-and-consumer-behaviour\n",
      "Got the ans for As-a-16-year-old-boy-my-mind-is-bursting-overwhelmed-with-thoughts-emotions-and-music-At-the-same-time-I-feel-so-man-1\n",
      "Got the ans for What-is-the-best-and-fastest-programming-language-for-competitive-programming-2\n",
      "Got the ans for unanswered\n",
      "Got the ans for https-www-quora-com-Is-there-an-upper-limit-to-a-future-computer-s-processing-speed-or-is-it-bounded-only-by-human-ing\n",
      "Got the ans for https-www-quora-com-Im-from-commerce-background-How-should-I-start-learning-AI-Should-I-start-learning-Data-analysis-f\n",
      "Got the ans for https-www-quora-com-Shall-the-artificial-intelligent-occupy-the-design-industry-and-designers-lose-their-work-Is-there\n",
      "Got the ans for profile\n",
      "Got the ans for What-are-you-learning-right-now-2\n",
      "Got the ans for https-www-quora-com-Will-researchers-want-to-imbue-A-I-with-human-characteristics-and-personality-to-make-it-more-appe\n",
      "Got the ans for https-www-quora-com-What-programming-language-is-really-necessary-Or-would-be-necessary-in-the-upcoming-future-of-robo\n",
      "Got the ans for https-www-quora-com-How-high-in-impact-does-the-2016-victory-of-AlphaGo-AI-over-the-best-GO-player-on-Earth-in-Seoul-r\n",
      "Got the ans for https-www-quora-com-Is-reinforcement-learning-the-only-viable-way-to-achieve-artificial-general-intelligence-answer-Ka\n",
      "Got the ans for https-www-quora-com-Can-I-become-a-data-scientist-by-learning-on-my-own-from-Coursera-and-will-I-have-a-job-for-that-a\n",
      "Got the ans for https-www-quora-com-What-would-an-AI-that-can-program-other-AIs-do-if-it-can-rewrite-its-own-code-What-would-it-do-wit\n",
      "Got the ans for Does-Elon-Musk-Going-To-Rule-The-Robot-2\n",
      "Got the ans for I-am-lazy-at-studying-because-of-YouTube-and-video-games-I-am-so-lazy-that-my-notes-arent-even-complete-What-should-I-2\n",
      "Got the ans for Having-Rich-Life-starts-with-thinking-how-the-Rich-Think-https-www-quora-com-Will-artificial-intelligence-be-a-threa\n",
      "Got the ans for profile\n",
      "Got the ans for How-is-Learning-different-from-remembering-https-www-quora-com-How-do-I-make-nemonics-for-effective-learning-answer-K\n",
      "Got the ans for profile\n",
      "Got the ans for How-do-I-activate-the-ICICI-FASTag-account-that-is-frozen\n",
      "Got the ans for If-your-daily-job-is-to-be-happy-what-will-be-your-tasks\n",
      "Got the ans for unanswered\n",
      "Got the ans for unanswered\n",
      "Got the ans for Whatre-the-skills-people-need-to-learn-for-the-future\n",
      "Got the ans for Which-language-should-I-learn-JavaScript-Python-or-C-at-this-age-13-2\n",
      "Got the ans for profile\n",
      "Got the ans for How-do-you-cope-with-Slow-Progress-Progress-is-best-when-it-is-slow-Whether-it-is-writing-a-report-or-making-bread-A\n",
      "Got the ans for Which-programming-languages-do-I-need-to-learn-for-cyber-security-2\n",
      "Got the ans for How-do-I-learn-to-write-smart-contracts-as-a-beginner-since-I-have-no-prior-technical-coding-language-programming-know\n",
      "Got the ans for Why-is-it-important-to-do-your-work-with-a-plan-12\n",
      "Got the ans for How-can-we-manage-our-studies-with-5-30-hours-teaching-time-and-household-works-1\n",
      "Got the ans for How-do-you-combine-a-non-tech-job-that-takes-all-of-your-time-and-learning-to-code-2\n",
      "Got the ans for profile\n",
      "Got the ans for profile\n",
      "Got the ans for HELLO-DEVELOPER-I-take-a-decision-not-to-take-college-instead-of-that-I-want-to-learn-programming-on-my-own-to-become-a-1\n",
      "Got the ans for Im-looking-for-material-book-that-teaches-me-all-the-programming-pre-requisites-preferrably-in-Java-or-any-language-Thi-1\n",
      "Got the ans for Can-I-learn-coding-from-scratch-at-28-years-old-7\n"
     ]
    },
    {
     "ename": "UnicodeEncodeError",
     "evalue": "'charmap' codec can't encode character '\\U0001f60a' in position 1458: character maps to <undefined>",
     "output_type": "error",
     "traceback": [
      "\u001b[1;31m---------------------------------------------------------------------------\u001b[0m",
      "\u001b[1;31mUnicodeEncodeError\u001b[0m                        Traceback (most recent call last)",
      "\u001b[1;32mC:\\Users\\D30001~1\\AppData\\Local\\Temp/ipykernel_13208/3497970407.py\u001b[0m in \u001b[0;36m<module>\u001b[1;34m\u001b[0m\n\u001b[0;32m     10\u001b[0m     \u001b[1;32mwith\u001b[0m \u001b[0mopen\u001b[0m\u001b[1;33m(\u001b[0m\u001b[1;34mf'./temp/{file_name}'\u001b[0m\u001b[1;33m,\u001b[0m \u001b[1;34m'w'\u001b[0m\u001b[1;33m)\u001b[0m \u001b[1;32mas\u001b[0m \u001b[0mans\u001b[0m\u001b[1;33m:\u001b[0m\u001b[1;33m\u001b[0m\u001b[1;33m\u001b[0m\u001b[0m\n\u001b[0;32m     11\u001b[0m \u001b[1;33m\u001b[0m\u001b[0m\n\u001b[1;32m---> 12\u001b[1;33m         \u001b[0mans\u001b[0m\u001b[1;33m.\u001b[0m\u001b[0mwrite\u001b[0m\u001b[1;33m(\u001b[0m\u001b[0mget_answer\u001b[0m\u001b[1;33m)\u001b[0m\u001b[1;33m\u001b[0m\u001b[1;33m\u001b[0m\u001b[0m\n\u001b[0m\u001b[0;32m     13\u001b[0m \u001b[1;33m\u001b[0m\u001b[0m\n\u001b[0;32m     14\u001b[0m     \u001b[0mprint\u001b[0m\u001b[1;33m(\u001b[0m\u001b[1;34mf'Got the ans for {quest_names[idex]}'\u001b[0m\u001b[1;33m)\u001b[0m\u001b[1;33m\u001b[0m\u001b[1;33m\u001b[0m\u001b[0m\n",
      "\u001b[1;32mC:\\WorkFiles\\WPy64-37120\\pypy3.7-v7.3.7-win64\\lib-python\\3\\encodings\\cp1252.py\u001b[0m in \u001b[0;36mencode\u001b[1;34m(self, input, final)\u001b[0m\n\u001b[0;32m     17\u001b[0m \u001b[1;32mclass\u001b[0m \u001b[0mIncrementalEncoder\u001b[0m\u001b[1;33m(\u001b[0m\u001b[0mcodecs\u001b[0m\u001b[1;33m.\u001b[0m\u001b[0mIncrementalEncoder\u001b[0m\u001b[1;33m)\u001b[0m\u001b[1;33m:\u001b[0m\u001b[1;33m\u001b[0m\u001b[1;33m\u001b[0m\u001b[0m\n\u001b[0;32m     18\u001b[0m     \u001b[1;32mdef\u001b[0m \u001b[0mencode\u001b[0m\u001b[1;33m(\u001b[0m\u001b[0mself\u001b[0m\u001b[1;33m,\u001b[0m \u001b[0minput\u001b[0m\u001b[1;33m,\u001b[0m \u001b[0mfinal\u001b[0m\u001b[1;33m=\u001b[0m\u001b[1;32mFalse\u001b[0m\u001b[1;33m)\u001b[0m\u001b[1;33m:\u001b[0m\u001b[1;33m\u001b[0m\u001b[1;33m\u001b[0m\u001b[0m\n\u001b[1;32m---> 19\u001b[1;33m         \u001b[1;32mreturn\u001b[0m \u001b[0mcodecs\u001b[0m\u001b[1;33m.\u001b[0m\u001b[0mcharmap_encode\u001b[0m\u001b[1;33m(\u001b[0m\u001b[0minput\u001b[0m\u001b[1;33m,\u001b[0m\u001b[0mself\u001b[0m\u001b[1;33m.\u001b[0m\u001b[0merrors\u001b[0m\u001b[1;33m,\u001b[0m\u001b[0mencoding_table\u001b[0m\u001b[1;33m)\u001b[0m\u001b[1;33m[\u001b[0m\u001b[1;36m0\u001b[0m\u001b[1;33m]\u001b[0m\u001b[1;33m\u001b[0m\u001b[1;33m\u001b[0m\u001b[0m\n\u001b[0m\u001b[0;32m     20\u001b[0m \u001b[1;33m\u001b[0m\u001b[0m\n\u001b[0;32m     21\u001b[0m \u001b[1;32mclass\u001b[0m \u001b[0mIncrementalDecoder\u001b[0m\u001b[1;33m(\u001b[0m\u001b[0mcodecs\u001b[0m\u001b[1;33m.\u001b[0m\u001b[0mIncrementalDecoder\u001b[0m\u001b[1;33m)\u001b[0m\u001b[1;33m:\u001b[0m\u001b[1;33m\u001b[0m\u001b[1;33m\u001b[0m\u001b[0m\n",
      "\u001b[1;31mUnicodeEncodeError\u001b[0m: 'charmap' codec can't encode character '\\U0001f60a' in position 1458: character maps to <undefined>"
     ]
    }
   ],
   "source": [
    "#We have the question links, we use tht to extract answers from the links. Idea is open a new tab, with the link, \n",
    "#scrape the page and close the tab\n",
    "\n",
    "for idex, link in enumerate(links_questions):\n",
    "\n",
    "    get_answer = answer_collector(link) \n",
    "\n",
    "    file_name = '_'.join(quest_names[idex].split(' ')) + '.txt'\n",
    "\n",
    "    with open(f'./temp/{file_name}', 'w') as ans:\n",
    "\n",
    "        ans.write(get_answer)\n",
    "\n",
    "    print(f'Got the ans for {quest_names[idex]}')"
   ]
  },
  {
   "cell_type": "markdown",
   "metadata": {},
   "source": [
    "I want to create a solution for the above using a Class implementation.\n",
    "\n",
    "I am viewing thinking of following steps\n",
    "\n",
    "1) Create User class that will log into his account. How does the returned driver work? \n",
    "    Once logged in, I am thinking of using the driver connection without breaking. Got this. The driver is handed over\n",
    "    after the connection was established. \n",
    "\n",
    "    Need to understand what happens to the driver once connection is opened in headless mode. I am quitting the driver at the exit to avoid memory consumption. With huge number of threads opening, can cause the memory issues\n",
    "\n",
    "2) Instead of using the methods under the class, I have created external functions. Since the driver is returned, the external functions can be used. Need to learn bit more about this\n"
   ]
  },
  {
   "cell_type": "code",
   "execution_count": 18,
   "metadata": {},
   "outputs": [],
   "source": [
    "from typing import Any"
   ]
  },
  {
   "cell_type": "code",
   "execution_count": 19,
   "metadata": {},
   "outputs": [],
   "source": [
    "class User():\n",
    "\n",
    "    def __init__(self, name, uname, passwd):\n",
    "\n",
    "        self.name = name\n",
    "        self.uname = uname\n",
    "        self.passwd = passwd\n",
    "\n",
    "    def login(self, quora_link: str) -> Any:\n",
    "\n",
    "        print(f\"Taking the credentials of {self.name}\")\n",
    "        options = Options()\n",
    "\n",
    "        options.headless = True #making this driver headless so it can work in the background\n",
    "        \n",
    "        driver = webdriver.Chrome(options=options, executable_path=r'chromedriver.exe')\n",
    "    \n",
    "        driver.get(quora_link)\n",
    "\n",
    "        driver.maximize_window()\n",
    "\n",
    "        driver.refresh()\n",
    "\n",
    "        driver.find_element_by_id('email').send_keys(self.uname)\n",
    "\n",
    "        driver.find_element_by_id('password').send_keys(self.passwd)\n",
    "\n",
    "        driver.find_element_by_xpath('//*[@id=\"root\"]/div[2]/div/div/div/div/div[2]/div[2]/div[4]/button').click()\n",
    "\n",
    "        driver.execute_script(\"window.open('https://www.quora.com/stats', 'new_window')\")\n",
    "\n",
    "        return driver \n"
   ]
  },
  {
   "cell_type": "code",
   "execution_count": 20,
   "metadata": {},
   "outputs": [],
   "source": [
    "pass_loc = 'C:\\\\WorkFiles\\\\WPy64-37120\\\\notebooks\\\\creds.txt'\n",
    "with open(pass_loc) as p:\n",
    "    reader = p.readlines()\n",
    "\n",
    "uname = reader[0].strip('\\n')\n",
    "passd = reader[1]"
   ]
  },
  {
   "cell_type": "code",
   "execution_count": 21,
   "metadata": {},
   "outputs": [
    {
     "name": "stdout",
     "output_type": "stream",
     "text": [
      "Taking the credentials of Kamal\n"
     ]
    }
   ],
   "source": [
    "first_User = User('Kamal', uname= uname, passwd= passd)\n",
    "\n",
    "my_driver = first_User.login(quora_link= quora_login)"
   ]
  },
  {
   "cell_type": "code",
   "execution_count": 22,
   "metadata": {},
   "outputs": [
    {
     "data": {
      "text/plain": [
       "<selenium.webdriver.chrome.webdriver.WebDriver (session=\"f7321491300c3f35e28003a9fdac55cd\")>"
      ]
     },
     "execution_count": 22,
     "metadata": {},
     "output_type": "execute_result"
    }
   ],
   "source": [
    "stats_prepare(my_driver)"
   ]
  },
  {
   "cell_type": "code",
   "execution_count": 23,
   "metadata": {},
   "outputs": [],
   "source": [
    "upvote_list = upvotes(driver= my_driver)\n",
    "view_list = view_count(my_driver)\n",
    "quest_links = question_collector(my_driver)\n",
    "\n",
    "quora_frame = pd.DataFrame({'Question_Links':quest_links, 'Views':view_list, 'Upvotes': upvote_list})"
   ]
  },
  {
   "cell_type": "code",
   "execution_count": 24,
   "metadata": {},
   "outputs": [
    {
     "data": {
      "text/plain": [
       "'I-am-trying-to-get-into-data-science-I-completed-graduation-from-physics-I-have-some-basic-idea-about-Python-coding-I-know-there-are-many-courses-but-I-dont-know-where-to-start'"
      ]
     },
     "execution_count": 24,
     "metadata": {},
     "output_type": "execute_result"
    }
   ],
   "source": [
    "quora_frame.Question_Links[2].split('/')[3]"
   ]
  },
  {
   "cell_type": "code",
   "execution_count": 25,
   "metadata": {},
   "outputs": [
    {
     "data": {
      "text/plain": [
       "'https-www-quora-com-Im-a-high-school-student-and-Im-interested-in-AI-Where-do-I-start-looking-into-it-answer-Kamal-Raj'"
      ]
     },
     "execution_count": 25,
     "metadata": {},
     "output_type": "execute_result"
    }
   ],
   "source": [
    "quora_frame.Question_Links[5].split('/')[3]"
   ]
  },
  {
   "cell_type": "code",
   "execution_count": 26,
   "metadata": {},
   "outputs": [
    {
     "data": {
      "text/plain": [
       "'Why-do-you-wiggle-the-shifter'"
      ]
     },
     "execution_count": 26,
     "metadata": {},
     "output_type": "execute_result"
    }
   ],
   "source": [
    "quora_frame.Question_Links[1].split('/')[3]"
   ]
  },
  {
   "cell_type": "code",
   "execution_count": 27,
   "metadata": {},
   "outputs": [
    {
     "data": {
      "text/plain": [
       "array(['lovablerichlife.quora.com', 'www.quora.com', 'tsmm.quora.com',\n",
       "       'clcoding.quora.com', 'algorithm.quora.com',\n",
       "       'discussaboutanything.quora.com', 'ourinterestingworld.quora.com',\n",
       "       'algomart2.quora.com', 'elonmusk.quora.com',\n",
       "       'motivationcentre.quora.com', 'codelogically.quora.com',\n",
       "       'studentsstudies.quora.com', 'mentalhealthandhappiness.quora.com',\n",
       "       'ask-about-investments.quora.com', 'powerofpositivity1.quora.com',\n",
       "       'techowish.quora.com', 'technologynextgeneration.quora.com',\n",
       "       'fintechshot.quora.com', 'anythingusefulatall.quora.com',\n",
       "       'iwish.quora.com', 'diversethoughts.quora.com',\n",
       "       'worldsnews.quora.com', 'fjifvgzzeqknjsam.quora.com',\n",
       "       'bigbrotheriswatching.quora.com', 'indianwebseries.quora.com',\n",
       "       'notebook.quora.com', 'humanspsychology.quora.com',\n",
       "       'healthyhabits.quora.com', 'besolutionorientded.quora.com',\n",
       "       'lifeisbeautiful.quora.com'], dtype=object)"
      ]
     },
     "execution_count": 27,
     "metadata": {},
     "output_type": "execute_result"
    }
   ],
   "source": [
    "quora_frame['Spaces'] = quora_frame.Question_Links.apply(lambda x : x.split('/')[2])\n",
    "quora_frame.Spaces.unique()"
   ]
  },
  {
   "cell_type": "code",
   "execution_count": 28,
   "metadata": {},
   "outputs": [
    {
     "data": {
      "text/html": [
       "<div>\n",
       "<style scoped>\n",
       "    .dataframe tbody tr th:only-of-type {\n",
       "        vertical-align: middle;\n",
       "    }\n",
       "\n",
       "    .dataframe tbody tr th {\n",
       "        vertical-align: top;\n",
       "    }\n",
       "\n",
       "    .dataframe thead th {\n",
       "        text-align: right;\n",
       "    }\n",
       "</style>\n",
       "<table border=\"1\" class=\"dataframe\">\n",
       "  <thead>\n",
       "    <tr style=\"text-align: right;\">\n",
       "      <th></th>\n",
       "      <th>Question_Links</th>\n",
       "      <th>Views</th>\n",
       "      <th>Upvotes</th>\n",
       "      <th>Spaces</th>\n",
       "    </tr>\n",
       "  </thead>\n",
       "  <tbody>\n",
       "    <tr>\n",
       "      <th>658</th>\n",
       "      <td>https://www.quora.com/Is-someone-who-has-trave...</td>\n",
       "      <td>99</td>\n",
       "      <td>–</td>\n",
       "      <td>www.quora.com</td>\n",
       "    </tr>\n",
       "    <tr>\n",
       "      <th>68</th>\n",
       "      <td>https://www.quora.com/How-does-a-machine-learn...</td>\n",
       "      <td>99</td>\n",
       "      <td>–</td>\n",
       "      <td>www.quora.com</td>\n",
       "    </tr>\n",
       "    <tr>\n",
       "      <th>709</th>\n",
       "      <td>https://www.quora.com/Which-skill-have-you-lea...</td>\n",
       "      <td>98</td>\n",
       "      <td>–</td>\n",
       "      <td>www.quora.com</td>\n",
       "    </tr>\n",
       "    <tr>\n",
       "      <th>681</th>\n",
       "      <td>https://www.quora.com/What-is-the-logic-behind...</td>\n",
       "      <td>97</td>\n",
       "      <td>–</td>\n",
       "      <td>www.quora.com</td>\n",
       "    </tr>\n",
       "    <tr>\n",
       "      <th>846</th>\n",
       "      <td>https://www.quora.com/What-is-the-best-way-to-...</td>\n",
       "      <td>96</td>\n",
       "      <td>–</td>\n",
       "      <td>www.quora.com</td>\n",
       "    </tr>\n",
       "    <tr>\n",
       "      <th>...</th>\n",
       "      <td>...</td>\n",
       "      <td>...</td>\n",
       "      <td>...</td>\n",
       "      <td>...</td>\n",
       "    </tr>\n",
       "    <tr>\n",
       "      <th>935</th>\n",
       "      <td>https://www.quora.com/How-can-you-tell-that-a-...</td>\n",
       "      <td>1.3K</td>\n",
       "      <td>2</td>\n",
       "      <td>www.quora.com</td>\n",
       "    </tr>\n",
       "    <tr>\n",
       "      <th>372</th>\n",
       "      <td>https://www.quora.com/unanswered/How-do-you-pl...</td>\n",
       "      <td>1.1K</td>\n",
       "      <td>N/A</td>\n",
       "      <td>www.quora.com</td>\n",
       "    </tr>\n",
       "    <tr>\n",
       "      <th>983</th>\n",
       "      <td>https://www.quora.com/What-do-you-feel-like-re...</td>\n",
       "      <td>1</td>\n",
       "      <td>–</td>\n",
       "      <td>www.quora.com</td>\n",
       "    </tr>\n",
       "    <tr>\n",
       "      <th>988</th>\n",
       "      <td>https://www.quora.com/What-is-not-an-expert/an...</td>\n",
       "      <td>1</td>\n",
       "      <td>–</td>\n",
       "      <td>www.quora.com</td>\n",
       "    </tr>\n",
       "    <tr>\n",
       "      <th>999</th>\n",
       "      <td>https://www.quora.com/How-do-I-get-better-in-t...</td>\n",
       "      <td>1</td>\n",
       "      <td>–</td>\n",
       "      <td>www.quora.com</td>\n",
       "    </tr>\n",
       "  </tbody>\n",
       "</table>\n",
       "<p>847 rows × 4 columns</p>\n",
       "</div>"
      ],
      "text/plain": [
       "                                        Question_Links Views Upvotes  \\\n",
       "658  https://www.quora.com/Is-someone-who-has-trave...    99       –   \n",
       "68   https://www.quora.com/How-does-a-machine-learn...    99       –   \n",
       "709  https://www.quora.com/Which-skill-have-you-lea...    98       –   \n",
       "681  https://www.quora.com/What-is-the-logic-behind...    97       –   \n",
       "846  https://www.quora.com/What-is-the-best-way-to-...    96       –   \n",
       "..                                                 ...   ...     ...   \n",
       "935  https://www.quora.com/How-can-you-tell-that-a-...  1.3K       2   \n",
       "372  https://www.quora.com/unanswered/How-do-you-pl...  1.1K     N/A   \n",
       "983  https://www.quora.com/What-do-you-feel-like-re...     1       –   \n",
       "988  https://www.quora.com/What-is-not-an-expert/an...     1       –   \n",
       "999  https://www.quora.com/How-do-I-get-better-in-t...     1       –   \n",
       "\n",
       "            Spaces  \n",
       "658  www.quora.com  \n",
       "68   www.quora.com  \n",
       "709  www.quora.com  \n",
       "681  www.quora.com  \n",
       "846  www.quora.com  \n",
       "..             ...  \n",
       "935  www.quora.com  \n",
       "372  www.quora.com  \n",
       "983  www.quora.com  \n",
       "988  www.quora.com  \n",
       "999  www.quora.com  \n",
       "\n",
       "[847 rows x 4 columns]"
      ]
     },
     "execution_count": 28,
     "metadata": {},
     "output_type": "execute_result"
    }
   ],
   "source": [
    "main_frame = quora_frame[quora_frame.Spaces == 'www.quora.com']\n",
    "main_frame.sort_values('Views', ascending = False)"
   ]
  },
  {
   "cell_type": "code",
   "execution_count": 29,
   "metadata": {},
   "outputs": [],
   "source": [
    "main_frame['Questions'] = main_frame.Question_Links.apply(lambda x : x.split('/')[3])"
   ]
  },
  {
   "cell_type": "code",
   "execution_count": 30,
   "metadata": {},
   "outputs": [],
   "source": [
    "main_frame = main_frame[main_frame.Questions != 'unanswered']"
   ]
  },
  {
   "cell_type": "code",
   "execution_count": 31,
   "metadata": {},
   "outputs": [
    {
     "data": {
      "text/html": [
       "<div>\n",
       "<style scoped>\n",
       "    .dataframe tbody tr th:only-of-type {\n",
       "        vertical-align: middle;\n",
       "    }\n",
       "\n",
       "    .dataframe tbody tr th {\n",
       "        vertical-align: top;\n",
       "    }\n",
       "\n",
       "    .dataframe thead th {\n",
       "        text-align: right;\n",
       "    }\n",
       "</style>\n",
       "<table border=\"1\" class=\"dataframe\">\n",
       "  <thead>\n",
       "    <tr style=\"text-align: right;\">\n",
       "      <th></th>\n",
       "      <th>Question_Links</th>\n",
       "      <th>Views</th>\n",
       "      <th>Upvotes</th>\n",
       "      <th>Spaces</th>\n",
       "      <th>Questions</th>\n",
       "    </tr>\n",
       "  </thead>\n",
       "  <tbody>\n",
       "    <tr>\n",
       "      <th>999</th>\n",
       "      <td>https://www.quora.com/How-do-I-get-better-in-t...</td>\n",
       "      <td>1</td>\n",
       "      <td>–</td>\n",
       "      <td>www.quora.com</td>\n",
       "      <td>How-do-I-get-better-in-typing-in-a-very-short-...</td>\n",
       "    </tr>\n",
       "    <tr>\n",
       "      <th>988</th>\n",
       "      <td>https://www.quora.com/What-is-not-an-expert/an...</td>\n",
       "      <td>1</td>\n",
       "      <td>–</td>\n",
       "      <td>www.quora.com</td>\n",
       "      <td>What-is-not-an-expert</td>\n",
       "    </tr>\n",
       "    <tr>\n",
       "      <th>983</th>\n",
       "      <td>https://www.quora.com/What-do-you-feel-like-re...</td>\n",
       "      <td>1</td>\n",
       "      <td>–</td>\n",
       "      <td>www.quora.com</td>\n",
       "      <td>What-do-you-feel-like-reading-today</td>\n",
       "    </tr>\n",
       "    <tr>\n",
       "      <th>935</th>\n",
       "      <td>https://www.quora.com/How-can-you-tell-that-a-...</td>\n",
       "      <td>1.3K</td>\n",
       "      <td>2</td>\n",
       "      <td>www.quora.com</td>\n",
       "      <td>How-can-you-tell-that-a-guy-likes-you-1</td>\n",
       "    </tr>\n",
       "    <tr>\n",
       "      <th>722</th>\n",
       "      <td>https://www.quora.com/Should-I-major-in-busine...</td>\n",
       "      <td>1.5K</td>\n",
       "      <td>–</td>\n",
       "      <td>www.quora.com</td>\n",
       "      <td>Should-I-major-in-business-or-engineering</td>\n",
       "    </tr>\n",
       "  </tbody>\n",
       "</table>\n",
       "</div>"
      ],
      "text/plain": [
       "                                        Question_Links Views Upvotes  \\\n",
       "999  https://www.quora.com/How-do-I-get-better-in-t...     1       –   \n",
       "988  https://www.quora.com/What-is-not-an-expert/an...     1       –   \n",
       "983  https://www.quora.com/What-do-you-feel-like-re...     1       –   \n",
       "935  https://www.quora.com/How-can-you-tell-that-a-...  1.3K       2   \n",
       "722  https://www.quora.com/Should-I-major-in-busine...  1.5K       –   \n",
       "\n",
       "            Spaces                                          Questions  \n",
       "999  www.quora.com  How-do-I-get-better-in-typing-in-a-very-short-...  \n",
       "988  www.quora.com                              What-is-not-an-expert  \n",
       "983  www.quora.com                What-do-you-feel-like-reading-today  \n",
       "935  www.quora.com            How-can-you-tell-that-a-guy-likes-you-1  \n",
       "722  www.quora.com          Should-I-major-in-business-or-engineering  "
      ]
     },
     "execution_count": 31,
     "metadata": {},
     "output_type": "execute_result"
    }
   ],
   "source": [
    "main_frame.sort_values('Views').head()"
   ]
  },
  {
   "cell_type": "code",
   "execution_count": 32,
   "metadata": {},
   "outputs": [
    {
     "data": {
      "text/plain": [
       "(818, 5)"
      ]
     },
     "execution_count": 32,
     "metadata": {},
     "output_type": "execute_result"
    }
   ],
   "source": [
    "main_frame.shape"
   ]
  },
  {
   "cell_type": "markdown",
   "metadata": {},
   "source": [
    "This command asks for the answer\n",
    "\n",
    "main_frame['Answers'] = main_frame.Question_Links.apply(lambda x: answer_collector(x))"
   ]
  },
  {
   "cell_type": "code",
   "execution_count": 76,
   "metadata": {},
   "outputs": [],
   "source": [
    "main_frame.to_csv('Quora_My_Answers.csv')"
   ]
  },
  {
   "cell_type": "code",
   "execution_count": 33,
   "metadata": {},
   "outputs": [],
   "source": [
    "load_answers = pd.read_csv('Quora_My_Answers.csv')"
   ]
  },
  {
   "cell_type": "code",
   "execution_count": 34,
   "metadata": {},
   "outputs": [
    {
     "data": {
      "text/html": [
       "<div>\n",
       "<style scoped>\n",
       "    .dataframe tbody tr th:only-of-type {\n",
       "        vertical-align: middle;\n",
       "    }\n",
       "\n",
       "    .dataframe tbody tr th {\n",
       "        vertical-align: top;\n",
       "    }\n",
       "\n",
       "    .dataframe thead th {\n",
       "        text-align: right;\n",
       "    }\n",
       "</style>\n",
       "<table border=\"1\" class=\"dataframe\">\n",
       "  <thead>\n",
       "    <tr style=\"text-align: right;\">\n",
       "      <th></th>\n",
       "      <th>index</th>\n",
       "      <th>Unnamed: 0</th>\n",
       "      <th>Question_Links</th>\n",
       "      <th>Views</th>\n",
       "      <th>Upvotes</th>\n",
       "      <th>Spaces</th>\n",
       "      <th>Questions</th>\n",
       "      <th>Answers</th>\n",
       "    </tr>\n",
       "  </thead>\n",
       "  <tbody>\n",
       "    <tr>\n",
       "      <th>0</th>\n",
       "      <td>0</td>\n",
       "      <td>1</td>\n",
       "      <td>https://www.quora.com/Im-a-high-school-student...</td>\n",
       "      <td>205</td>\n",
       "      <td>–</td>\n",
       "      <td>www.quora.com</td>\n",
       "      <td>Im-a-high-school-student-and-Im-interested-in-...</td>\n",
       "      <td>Start by learning to program and problem solvi...</td>\n",
       "    </tr>\n",
       "    <tr>\n",
       "      <th>1</th>\n",
       "      <td>1</td>\n",
       "      <td>3</td>\n",
       "      <td>https://www.quora.com/How-can-learning-to-prog...</td>\n",
       "      <td>20</td>\n",
       "      <td>–</td>\n",
       "      <td>www.quora.com</td>\n",
       "      <td>How-can-learning-to-program-make-a-difference-...</td>\n",
       "      <td>Try coding one simplest program on a competiti...</td>\n",
       "    </tr>\n",
       "    <tr>\n",
       "      <th>2</th>\n",
       "      <td>2</td>\n",
       "      <td>4</td>\n",
       "      <td>https://www.quora.com/Why-is-Google-s-YouTube-...</td>\n",
       "      <td>80</td>\n",
       "      <td>–</td>\n",
       "      <td>www.quora.com</td>\n",
       "      <td>Why-is-Google-s-YouTube-increasing-a-number-of...</td>\n",
       "      <td>The services provided are slowly trending towa...</td>\n",
       "    </tr>\n",
       "    <tr>\n",
       "      <th>3</th>\n",
       "      <td>3</td>\n",
       "      <td>6</td>\n",
       "      <td>https://www.quora.com/How-much-mathematics-is-...</td>\n",
       "      <td>32</td>\n",
       "      <td>–</td>\n",
       "      <td>www.quora.com</td>\n",
       "      <td>How-much-mathematics-is-enough-to-start-learni...</td>\n",
       "      <td>ML algorithms are conceptually simple, and the...</td>\n",
       "    </tr>\n",
       "    <tr>\n",
       "      <th>4</th>\n",
       "      <td>4</td>\n",
       "      <td>11</td>\n",
       "      <td>https://www.quora.com/How-can-I-learn-problem-...</td>\n",
       "      <td>17</td>\n",
       "      <td>–</td>\n",
       "      <td>www.quora.com</td>\n",
       "      <td>How-can-I-learn-problem-solving-techniques-for...</td>\n",
       "      <td>This secret is not even considered as a secret...</td>\n",
       "    </tr>\n",
       "  </tbody>\n",
       "</table>\n",
       "</div>"
      ],
      "text/plain": [
       "   index  Unnamed: 0                                     Question_Links Views  \\\n",
       "0      0           1  https://www.quora.com/Im-a-high-school-student...   205   \n",
       "1      1           3  https://www.quora.com/How-can-learning-to-prog...    20   \n",
       "2      2           4  https://www.quora.com/Why-is-Google-s-YouTube-...    80   \n",
       "3      3           6  https://www.quora.com/How-much-mathematics-is-...    32   \n",
       "4      4          11  https://www.quora.com/How-can-I-learn-problem-...    17   \n",
       "\n",
       "  Upvotes         Spaces                                          Questions  \\\n",
       "0       –  www.quora.com  Im-a-high-school-student-and-Im-interested-in-...   \n",
       "1       –  www.quora.com  How-can-learning-to-program-make-a-difference-...   \n",
       "2       –  www.quora.com  Why-is-Google-s-YouTube-increasing-a-number-of...   \n",
       "3       –  www.quora.com  How-much-mathematics-is-enough-to-start-learni...   \n",
       "4       –  www.quora.com  How-can-I-learn-problem-solving-techniques-for...   \n",
       "\n",
       "                                             Answers  \n",
       "0  Start by learning to program and problem solvi...  \n",
       "1  Try coding one simplest program on a competiti...  \n",
       "2  The services provided are slowly trending towa...  \n",
       "3  ML algorithms are conceptually simple, and the...  \n",
       "4  This secret is not even considered as a secret...  "
      ]
     },
     "execution_count": 34,
     "metadata": {},
     "output_type": "execute_result"
    }
   ],
   "source": [
    "load_answers = load_answers[~load_answers.Answers.isna()].reset_index()\n",
    "load_answers.head()"
   ]
  },
  {
   "cell_type": "code",
   "execution_count": 35,
   "metadata": {},
   "outputs": [],
   "source": [
    "load_answers.drop(['index', 'Unnamed: 0'], inplace= True, axis = 1)"
   ]
  },
  {
   "cell_type": "code",
   "execution_count": 38,
   "metadata": {},
   "outputs": [
    {
     "data": {
      "text/plain": [
       "387"
      ]
     },
     "execution_count": 38,
     "metadata": {},
     "output_type": "execute_result"
    }
   ],
   "source": [
    "main_frame.shape[0] - load_answers.shape[0]"
   ]
  },
  {
   "cell_type": "code",
   "execution_count": null,
   "metadata": {},
   "outputs": [],
   "source": [
    "pd.merge(right=load_answers, left= main_frame, right_on= '')"
   ]
  },
  {
   "cell_type": "code",
   "execution_count": 23,
   "metadata": {},
   "outputs": [],
   "source": [
    "for idex, link in enumerate(load_answers.Questions):\n",
    "\n",
    "    get_answer =  load_answers.Answers[idex]\n",
    "    #print(get_answer)\n",
    "    \n",
    "    file_name = link + '.md'\n",
    "\n",
    "    if len(file_name) >= 150:\n",
    "\n",
    "        file_name = file_name[:150]\n",
    "    \n",
    "    with open(f'./temp/df_file/{file_name}', 'w', encoding=\"utf-8\") as ans:\n",
    "\n",
    "        ans.write(get_answer)"
   ]
  },
  {
   "cell_type": "code",
   "execution_count": null,
   "metadata": {},
   "outputs": [],
   "source": [
    "#Creating the contents file with list of questions and the links to them"
   ]
  }
 ],
 "metadata": {
  "interpreter": {
   "hash": "a42c93b5eee6b56421653baa65deacde473063d5c4965d27c7a75f4e31a8d403"
  },
  "kernelspec": {
   "display_name": "Python 3.7.12 64-bit (system)",
   "language": "python",
   "name": "python3"
  },
  "language_info": {
   "codemirror_mode": {
    "name": "ipython",
    "version": 3
   },
   "file_extension": ".py",
   "mimetype": "text/x-python",
   "name": "python",
   "nbconvert_exporter": "python",
   "pygments_lexer": "ipython3",
   "version": "3.7.12"
  },
  "orig_nbformat": 4
 },
 "nbformat": 4,
 "nbformat_minor": 2
}

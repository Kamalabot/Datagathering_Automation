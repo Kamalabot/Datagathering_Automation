{
 "cells": [
  {
   "cell_type": "markdown",
   "metadata": {},
   "source": [
    " # DO NOT RUN ALL THE CELLS. THE DATABASE TABLES WILL GET AFFECTED"
   ]
  },
  {
   "cell_type": "markdown",
   "metadata": {},
   "source": [
    "Master the SQL Queries to the fullest extent. The code snippets that follow are based on the data tables from the Orielly Book \"SQL Cookbook_ Query Solutions and Techniques for All SQL Users\"\n",
    "\n",
    "Tables used in their examples are created by another programmer, which I have taken for using it in the examples provided in the book. Idea is to use this note book as a reference. Since it is following a cook book that is practical, there will be many lessons to be learnt and remembered. "
   ]
  },
  {
   "cell_type": "markdown",
   "metadata": {},
   "source": [
    "Tables are created inside the database.\n",
    "\n",
    "a) EMP\n",
    "b) DEPT\n",
    "\n",
    "Pivot Tables\n",
    "\n",
    "T1, T10 and T100"
   ]
  },
  {
   "cell_type": "code",
   "execution_count": 2,
   "metadata": {},
   "outputs": [],
   "source": [
    "# To setup the sql server with the database having the tables mentioned by the book. \n",
    "import sqlite3\n",
    "from sqlite3 import Error\n",
    "\n",
    "\n",
    "def create_connection(db_file):\n",
    "    \"\"\" create a database connection to a SQLite database \"\"\"\n",
    "    conn = None\n",
    "    try:\n",
    "        conn = sqlite3.connect(db_file)\n",
    "        print(sqlite3.version)\n",
    "    except Error as e:\n",
    "        print(e)\n",
    "    finally:\n",
    "        if conn:\n",
    "            conn.close()"
   ]
  },
  {
   "cell_type": "code",
   "execution_count": 2,
   "metadata": {},
   "outputs": [
    {
     "name": "stdout",
     "output_type": "stream",
     "text": [
      "2.6.0\n"
     ]
    }
   ],
   "source": [
    "create_connection(r\"C:\\WorkFiles\\WPy64-37120\\notebooks\\Datagathering_Automation\\master-sql\\Orielly_database.db\")"
   ]
  },
  {
   "cell_type": "markdown",
   "metadata": {},
   "source": [
    "!pip install ipython-sql\n",
    "\n",
    "The activities done with the SQL can be done with the dataset library itself. In order to learn the process and know another way if dataset library doesnt work. "
   ]
  },
  {
   "cell_type": "code",
   "execution_count": 3,
   "metadata": {},
   "outputs": [
    {
     "data": {
      "text/plain": [
       "Engine(sqlite:///Orielly_database.db)"
      ]
     },
     "execution_count": 3,
     "metadata": {},
     "output_type": "execute_result"
    }
   ],
   "source": [
    "import sqlalchemy\n",
    "sqlalchemy.create_engine('sqlite:///Orielly_database.db')"
   ]
  },
  {
   "cell_type": "code",
   "execution_count": 6,
   "metadata": {},
   "outputs": [],
   "source": [
    "%load_ext sql"
   ]
  },
  {
   "cell_type": "code",
   "execution_count": 7,
   "metadata": {},
   "outputs": [],
   "source": [
    "%sql sqlite:///Orielly_database.db"
   ]
  },
  {
   "cell_type": "code",
   "execution_count": 9,
   "metadata": {},
   "outputs": [
    {
     "name": "stdout",
     "output_type": "stream",
     "text": [
      " * sqlite:///Orielly_database.db\n",
      "Done.\n"
     ]
    },
    {
     "data": {
      "text/html": [
       "<table>\n",
       "    <thead>\n",
       "        <tr>\n",
       "            <th>EMPNO</th>\n",
       "            <th>ENAME</th>\n",
       "            <th>JOB</th>\n",
       "            <th>MGR</th>\n",
       "            <th>HIREDATE</th>\n",
       "            <th>SAL</th>\n",
       "            <th>COMM</th>\n",
       "            <th>DEPTNO</th>\n",
       "        </tr>\n",
       "    </thead>\n",
       "    <tbody>\n",
       "        <tr>\n",
       "            <td>7369</td>\n",
       "            <td>SMITH</td>\n",
       "            <td>CLERK</td>\n",
       "            <td>7902</td>\n",
       "            <td>1980-12-17</td>\n",
       "            <td>800</td>\n",
       "            <td>None</td>\n",
       "            <td>20</td>\n",
       "        </tr>\n",
       "        <tr>\n",
       "            <td>7499</td>\n",
       "            <td>ALLEN</td>\n",
       "            <td>SALESMAN</td>\n",
       "            <td>7698</td>\n",
       "            <td>1981-2-20</td>\n",
       "            <td>1600</td>\n",
       "            <td>300</td>\n",
       "            <td>30</td>\n",
       "        </tr>\n",
       "        <tr>\n",
       "            <td>7521</td>\n",
       "            <td>WARD</td>\n",
       "            <td>SALESMAN</td>\n",
       "            <td>7698</td>\n",
       "            <td>1981-2-22</td>\n",
       "            <td>1250</td>\n",
       "            <td>500</td>\n",
       "            <td>30</td>\n",
       "        </tr>\n",
       "        <tr>\n",
       "            <td>7566</td>\n",
       "            <td>JONES</td>\n",
       "            <td>MANAGER</td>\n",
       "            <td>7839</td>\n",
       "            <td>1981-4-2</td>\n",
       "            <td>2975</td>\n",
       "            <td>None</td>\n",
       "            <td>20</td>\n",
       "        </tr>\n",
       "        <tr>\n",
       "            <td>7654</td>\n",
       "            <td>MARTIN</td>\n",
       "            <td>SALESMAN</td>\n",
       "            <td>7698</td>\n",
       "            <td>1981-9-28</td>\n",
       "            <td>1250</td>\n",
       "            <td>1400</td>\n",
       "            <td>30</td>\n",
       "        </tr>\n",
       "        <tr>\n",
       "            <td>7698</td>\n",
       "            <td>BLAKE</td>\n",
       "            <td>MANAGER</td>\n",
       "            <td>7839</td>\n",
       "            <td>1981-5-1</td>\n",
       "            <td>2850</td>\n",
       "            <td>None</td>\n",
       "            <td>30</td>\n",
       "        </tr>\n",
       "        <tr>\n",
       "            <td>7782</td>\n",
       "            <td>CLARK</td>\n",
       "            <td>MANAGER</td>\n",
       "            <td>7839</td>\n",
       "            <td>1981-6-9</td>\n",
       "            <td>2450</td>\n",
       "            <td>None</td>\n",
       "            <td>10</td>\n",
       "        </tr>\n",
       "        <tr>\n",
       "            <td>7698</td>\n",
       "            <td>BLAKE</td>\n",
       "            <td>MANAGER</td>\n",
       "            <td>7839</td>\n",
       "            <td>1981-5-1</td>\n",
       "            <td>2850</td>\n",
       "            <td>None</td>\n",
       "            <td>30</td>\n",
       "        </tr>\n",
       "        <tr>\n",
       "            <td>7782</td>\n",
       "            <td>CLARK</td>\n",
       "            <td>MANAGER</td>\n",
       "            <td>7839</td>\n",
       "            <td>1981-6-9</td>\n",
       "            <td>2450</td>\n",
       "            <td>None</td>\n",
       "            <td>10</td>\n",
       "        </tr>\n",
       "        <tr>\n",
       "            <td>7839</td>\n",
       "            <td>KING</td>\n",
       "            <td>PRESIDENT</td>\n",
       "            <td>None</td>\n",
       "            <td>1981-11-17</td>\n",
       "            <td>5000</td>\n",
       "            <td>None</td>\n",
       "            <td>10</td>\n",
       "        </tr>\n",
       "        <tr>\n",
       "            <td>7844</td>\n",
       "            <td>TURNER</td>\n",
       "            <td>SALESMAN</td>\n",
       "            <td>7698</td>\n",
       "            <td>1981-9-8</td>\n",
       "            <td>1500</td>\n",
       "            <td>0</td>\n",
       "            <td>30</td>\n",
       "        </tr>\n",
       "        <tr>\n",
       "            <td>7876</td>\n",
       "            <td>ADAMS</td>\n",
       "            <td>CLERK</td>\n",
       "            <td>7788</td>\n",
       "            <td>1983-1-12</td>\n",
       "            <td>1100</td>\n",
       "            <td>None</td>\n",
       "            <td>20</td>\n",
       "        </tr>\n",
       "        <tr>\n",
       "            <td>7876</td>\n",
       "            <td>ADAMS</td>\n",
       "            <td>CLERK</td>\n",
       "            <td>7788</td>\n",
       "            <td>1983-1-12</td>\n",
       "            <td>1100</td>\n",
       "            <td>None</td>\n",
       "            <td>20</td>\n",
       "        </tr>\n",
       "        <tr>\n",
       "            <td>7934</td>\n",
       "            <td>MILLER</td>\n",
       "            <td>CLERK</td>\n",
       "            <td>7782</td>\n",
       "            <td>1982-1-23</td>\n",
       "            <td>1300</td>\n",
       "            <td>None</td>\n",
       "            <td>10</td>\n",
       "        </tr>\n",
       "        <tr>\n",
       "            <td>7900</td>\n",
       "            <td>JAMES</td>\n",
       "            <td>CLERK</td>\n",
       "            <td>7698</td>\n",
       "            <td>1981-12-3</td>\n",
       "            <td>950</td>\n",
       "            <td>None</td>\n",
       "            <td>30</td>\n",
       "        </tr>\n",
       "        <tr>\n",
       "            <td>7902</td>\n",
       "            <td>FORD</td>\n",
       "            <td>ANALYST</td>\n",
       "            <td>7566</td>\n",
       "            <td>1981-12-3</td>\n",
       "            <td>3000</td>\n",
       "            <td>None</td>\n",
       "            <td>20</td>\n",
       "        </tr>\n",
       "    </tbody>\n",
       "</table>"
      ],
      "text/plain": [
       "[(7369, 'SMITH', 'CLERK', 7902, '1980-12-17', 800, None, 20),\n",
       " (7499, 'ALLEN', 'SALESMAN', 7698, '1981-2-20', 1600, 300, 30),\n",
       " (7521, 'WARD', 'SALESMAN', 7698, '1981-2-22', 1250, 500, 30),\n",
       " (7566, 'JONES', 'MANAGER', 7839, '1981-4-2', 2975, None, 20),\n",
       " (7654, 'MARTIN', 'SALESMAN', 7698, '1981-9-28', 1250, 1400, 30),\n",
       " (7698, 'BLAKE', 'MANAGER', 7839, '1981-5-1', 2850, None, 30),\n",
       " (7782, 'CLARK', 'MANAGER', 7839, '1981-6-9', 2450, None, 10),\n",
       " (7698, 'BLAKE', 'MANAGER', 7839, '1981-5-1', 2850, None, 30),\n",
       " (7782, 'CLARK', 'MANAGER', 7839, '1981-6-9', 2450, None, 10),\n",
       " (7839, 'KING', 'PRESIDENT', None, '1981-11-17', 5000, None, 10),\n",
       " (7844, 'TURNER', 'SALESMAN', 7698, '1981-9-8', 1500, 0, 30),\n",
       " (7876, 'ADAMS', 'CLERK', 7788, '1983-1-12', 1100, None, 20),\n",
       " (7876, 'ADAMS', 'CLERK', 7788, '1983-1-12', 1100, None, 20),\n",
       " (7934, 'MILLER', 'CLERK', 7782, '1982-1-23', 1300, None, 10),\n",
       " (7900, 'JAMES', 'CLERK', 7698, '1981-12-3', 950, None, 30),\n",
       " (7902, 'FORD', 'ANALYST', 7566, '1981-12-3', 3000, None, 20)]"
      ]
     },
     "execution_count": 9,
     "metadata": {},
     "output_type": "execute_result"
    }
   ],
   "source": [
    "%%sql \n",
    "\n",
    "SELECT *\n",
    "FROM EMP\n"
   ]
  },
  {
   "cell_type": "code",
   "execution_count": 10,
   "metadata": {},
   "outputs": [
    {
     "name": "stdout",
     "output_type": "stream",
     "text": [
      " * sqlite:///Orielly_database.db\n",
      "Done.\n"
     ]
    },
    {
     "data": {
      "text/plain": [
       "sql.run.ResultSet"
      ]
     },
     "execution_count": 10,
     "metadata": {},
     "output_type": "execute_result"
    }
   ],
   "source": [
    "result = %sql SELECT * FROM EMP \n",
    "type(result)"
   ]
  },
  {
   "cell_type": "code",
   "execution_count": 11,
   "metadata": {},
   "outputs": [],
   "source": [
    "df = result.DataFrame()"
   ]
  },
  {
   "cell_type": "code",
   "execution_count": 17,
   "metadata": {},
   "outputs": [
    {
     "data": {
      "text/html": [
       "<div>\n",
       "<style scoped>\n",
       "    .dataframe tbody tr th:only-of-type {\n",
       "        vertical-align: middle;\n",
       "    }\n",
       "\n",
       "    .dataframe tbody tr th {\n",
       "        vertical-align: top;\n",
       "    }\n",
       "\n",
       "    .dataframe thead th {\n",
       "        text-align: right;\n",
       "    }\n",
       "</style>\n",
       "<table border=\"1\" class=\"dataframe\">\n",
       "  <thead>\n",
       "    <tr style=\"text-align: right;\">\n",
       "      <th></th>\n",
       "      <th>EMPNO</th>\n",
       "      <th>ENAME</th>\n",
       "      <th>JOB</th>\n",
       "      <th>MGR</th>\n",
       "      <th>HIREDATE</th>\n",
       "      <th>SAL</th>\n",
       "      <th>COMM</th>\n",
       "      <th>DEPTNO</th>\n",
       "    </tr>\n",
       "  </thead>\n",
       "  <tbody>\n",
       "    <tr>\n",
       "      <th>0</th>\n",
       "      <td>7369</td>\n",
       "      <td>SMITH</td>\n",
       "      <td>CLERK</td>\n",
       "      <td>7902</td>\n",
       "      <td>1980-12-17</td>\n",
       "      <td>800</td>\n",
       "      <td>NaN</td>\n",
       "      <td>20</td>\n",
       "    </tr>\n",
       "    <tr>\n",
       "      <th>1</th>\n",
       "      <td>7499</td>\n",
       "      <td>ALLEN</td>\n",
       "      <td>SALESMAN</td>\n",
       "      <td>7698</td>\n",
       "      <td>1981-2-20</td>\n",
       "      <td>1600</td>\n",
       "      <td>300.0</td>\n",
       "      <td>30</td>\n",
       "    </tr>\n",
       "    <tr>\n",
       "      <th>2</th>\n",
       "      <td>7521</td>\n",
       "      <td>WARD</td>\n",
       "      <td>SALESMAN</td>\n",
       "      <td>7698</td>\n",
       "      <td>1981-2-22</td>\n",
       "      <td>1250</td>\n",
       "      <td>500.0</td>\n",
       "      <td>30</td>\n",
       "    </tr>\n",
       "    <tr>\n",
       "      <th>3</th>\n",
       "      <td>7566</td>\n",
       "      <td>JONES</td>\n",
       "      <td>MANAGER</td>\n",
       "      <td>7839</td>\n",
       "      <td>1981-4-2</td>\n",
       "      <td>2975</td>\n",
       "      <td>NaN</td>\n",
       "      <td>20</td>\n",
       "    </tr>\n",
       "    <tr>\n",
       "      <th>4</th>\n",
       "      <td>7654</td>\n",
       "      <td>MARTIN</td>\n",
       "      <td>SALESMAN</td>\n",
       "      <td>7698</td>\n",
       "      <td>1981-9-28</td>\n",
       "      <td>1250</td>\n",
       "      <td>1400.0</td>\n",
       "      <td>30</td>\n",
       "    </tr>\n",
       "  </tbody>\n",
       "</table>\n",
       "</div>"
      ],
      "text/plain": [
       "   EMPNO   ENAME       JOB   MGR    HIREDATE   SAL    COMM  DEPTNO\n",
       "0   7369   SMITH     CLERK  7902  1980-12-17   800     NaN      20\n",
       "1   7499   ALLEN  SALESMAN  7698   1981-2-20  1600   300.0      30\n",
       "2   7521    WARD  SALESMAN  7698   1981-2-22  1250   500.0      30\n",
       "3   7566   JONES   MANAGER  7839    1981-4-2  2975     NaN      20\n",
       "4   7654  MARTIN  SALESMAN  7698   1981-9-28  1250  1400.0      30"
      ]
     },
     "execution_count": 17,
     "metadata": {},
     "output_type": "execute_result"
    }
   ],
   "source": [
    "df.head()"
   ]
  },
  {
   "cell_type": "code",
   "execution_count": 19,
   "metadata": {},
   "outputs": [
    {
     "name": "stdout",
     "output_type": "stream",
     "text": [
      " * sqlite:///Orielly_database.db\n",
      "1 rows affected.\n"
     ]
    },
    {
     "data": {
      "text/plain": [
       "[]"
      ]
     },
     "execution_count": 19,
     "metadata": {},
     "output_type": "execute_result"
    }
   ],
   "source": [
    "%%sql #Multiple data needs to be inserted. However the INSERT will work only one per query\n",
    "INSERT INTO EMP (EMPNO, ENAME, JOB, MGR, HIREDATE, SAL, COMM, DEPTNO) \n",
    "VALUES (7698, 'BLAKE',  'MANAGER',   7839,\n",
    "        '1981-5-1',  2850, NULL, 30)"
   ]
  },
  {
   "cell_type": "code",
   "execution_count": 32,
   "metadata": {},
   "outputs": [
    {
     "name": "stdout",
     "output_type": "stream",
     "text": [
      " * sqlite:///Orielly_database.db\n",
      "Done.\n"
     ]
    },
    {
     "data": {
      "text/html": [
       "<table>\n",
       "    <thead>\n",
       "        <tr>\n",
       "        </tr>\n",
       "    </thead>\n",
       "    <tbody>\n",
       "    </tbody>\n",
       "</table>"
      ],
      "text/plain": [
       "[]"
      ]
     },
     "execution_count": 32,
     "metadata": {},
     "output_type": "execute_result"
    }
   ],
   "source": [
    "%%sql #Table creation\n",
    "CREATE TABLE DEPT\n",
    "       (DEPTNO integer,\n",
    "        DNAME VARCHAR(14),\n",
    "        LOC VARCHAR(13) )"
   ]
  },
  {
   "cell_type": "code",
   "execution_count": 33,
   "metadata": {},
   "outputs": [
    {
     "name": "stdout",
     "output_type": "stream",
     "text": [
      " * sqlite:///Orielly_database.db\n",
      "1 rows affected.\n"
     ]
    },
    {
     "data": {
      "text/plain": [
       "[]"
      ]
     },
     "execution_count": 33,
     "metadata": {},
     "output_type": "execute_result"
    }
   ],
   "source": [
    "%%sql #Adding data to the tables\n",
    "INSERT INTO DEPT VALUES (10, 'ACCOUNTING', 'NEW YORK')"
   ]
  },
  {
   "cell_type": "code",
   "execution_count": 37,
   "metadata": {},
   "outputs": [
    {
     "name": "stdout",
     "output_type": "stream",
     "text": [
      " * sqlite:///Orielly_database.db\n",
      "Done.\n"
     ]
    },
    {
     "data": {
      "text/html": [
       "<table>\n",
       "    <thead>\n",
       "        <tr>\n",
       "            <th>DEPTNO</th>\n",
       "            <th>DNAME</th>\n",
       "            <th>LOC</th>\n",
       "        </tr>\n",
       "    </thead>\n",
       "    <tbody>\n",
       "        <tr>\n",
       "            <td>10</td>\n",
       "            <td>ACCOUNTING</td>\n",
       "            <td>NEW YORK</td>\n",
       "        </tr>\n",
       "        <tr>\n",
       "            <td>40</td>\n",
       "            <td>OPERATIONS</td>\n",
       "            <td>BOSTON</td>\n",
       "        </tr>\n",
       "        <tr>\n",
       "            <td>30</td>\n",
       "            <td>SALES</td>\n",
       "            <td>CHICAGO</td>\n",
       "        </tr>\n",
       "        <tr>\n",
       "            <td>20</td>\n",
       "            <td>RESEARCH</td>\n",
       "            <td>DALLAS</td>\n",
       "        </tr>\n",
       "    </tbody>\n",
       "</table>"
      ],
      "text/plain": [
       "[(10, 'ACCOUNTING', 'NEW YORK'),\n",
       " (40, 'OPERATIONS', 'BOSTON'),\n",
       " (30, 'SALES', 'CHICAGO'),\n",
       " (20, 'RESEARCH', 'DALLAS')]"
      ]
     },
     "execution_count": 37,
     "metadata": {},
     "output_type": "execute_result"
    }
   ],
   "source": [
    "%%sql\n",
    "\n",
    "SELECT *\n",
    "FROM DEPT\n"
   ]
  },
  {
   "cell_type": "code",
   "execution_count": 41,
   "metadata": {},
   "outputs": [
    {
     "name": "stdout",
     "output_type": "stream",
     "text": [
      " * sqlite:///Orielly_database.db\n",
      "Done.\n"
     ]
    },
    {
     "data": {
      "text/html": [
       "<table>\n",
       "    <thead>\n",
       "        <tr>\n",
       "        </tr>\n",
       "    </thead>\n",
       "    <tbody>\n",
       "    </tbody>\n",
       "</table>"
      ],
      "text/plain": [
       "[]"
      ]
     },
     "execution_count": 41,
     "metadata": {},
     "output_type": "execute_result"
    }
   ],
   "source": [
    "%%sql\n",
    "CREATE TABLE T100 (ID INTEGER)"
   ]
  },
  {
   "cell_type": "code",
   "execution_count": null,
   "metadata": {},
   "outputs": [],
   "source": [
    "INSERT INTO T1 VALUES (1) #Inserting one value to the ID"
   ]
  },
  {
   "cell_type": "code",
   "execution_count": 45,
   "metadata": {},
   "outputs": [],
   "source": [
    "import dataset # Bringing in the dataset library\n",
    "\n",
    "db = dataset.connect('sqlite:///Orielly_database.db') # COnnecting "
   ]
  },
  {
   "cell_type": "code",
   "execution_count": 70,
   "metadata": {},
   "outputs": [
    {
     "data": {
      "text/plain": [
       "[1, 2, 3, 4, 5, 6, 7, 8, 9, 10]"
      ]
     },
     "execution_count": 70,
     "metadata": {},
     "output_type": "execute_result"
    }
   ],
   "source": [
    "[x for x in range(1,11)]"
   ]
  },
  {
   "cell_type": "code",
   "execution_count": 76,
   "metadata": {},
   "outputs": [],
   "source": [
    "for item in range(1,11):\n",
    "    db['T10'].insert({'ID':item}) #Once the table schema is created, then the data add can be done"
   ]
  },
  {
   "cell_type": "code",
   "execution_count": 77,
   "metadata": {},
   "outputs": [],
   "source": [
    "for item in range(1,101):\n",
    "    db['T100'].insert({'ID':item}) #Here it is done for 100 rows"
   ]
  },
  {
   "cell_type": "markdown",
   "metadata": {},
   "source": [
    "### Even though dataset library can be used for accessing the database and entering the data into it, the following codes will all be SQL query languge only. "
   ]
  },
  {
   "cell_type": "code",
   "execution_count": 12,
   "metadata": {},
   "outputs": [
    {
     "name": "stdout",
     "output_type": "stream",
     "text": [
      " * sqlite:///Orielly_database.db\n",
      "Done.\n"
     ]
    },
    {
     "data": {
      "text/plain": [
       "[(21,)]"
      ]
     },
     "execution_count": 12,
     "metadata": {},
     "output_type": "execute_result"
    }
   ],
   "source": [
    "trial = %sql SELECT ID FROM T100 WHERE ID > 20\n",
    "trial[:1] #Using the single % magic is more convenient to check the results"
   ]
  },
  {
   "cell_type": "code",
   "execution_count": 13,
   "metadata": {},
   "outputs": [],
   "source": [
    "def create_table():\n",
    "    c.execute('CREATE TABLE IF NOT EXISTS RecordONE (Number REAL, Name TEXT)')\n",
    " \n",
    "def data_entry():\n",
    "    number = 1234\n",
    "    name = \"GeeksforGeeks\"\n",
    "    c.execute(\"INSERT INTO RecordONE (Number, Name) VALUES(?, ?)\", (number, name))\n",
    "    conn.commit()\n",
    "\n",
    "def query_table():\n",
    "    return c.execute(\"SELECT EMPNO, ENAME FROM EMP WHERE JOB = 'MANAGER'\").fetchall()\n",
    "\n",
    "def query_gen(query_input):\n",
    "    return c.execute(query_input).fetchall() #Each row is a list inside a list\n",
    "\n",
    "def ret_byRow(query_input): #This method ensures the memory is not used heavily by loading by the row\n",
    "    cursor = c.execute(query_input)\n",
    "    for row in cursor:\n",
    "              print(row) # each row is a seperate list"
   ]
  },
  {
   "cell_type": "code",
   "execution_count": 111,
   "metadata": {},
   "outputs": [],
   "source": [
    "c.close()\n",
    "conn.close()"
   ]
  },
  {
   "cell_type": "code",
   "execution_count": 14,
   "metadata": {},
   "outputs": [],
   "source": [
    "conn_orielly = sqlite3.connect('Orielly_database.db')\n",
    "c = conn_orielly.cursor()"
   ]
  },
  {
   "cell_type": "code",
   "execution_count": 15,
   "metadata": {},
   "outputs": [
    {
     "data": {
      "text/plain": [
       "[(7566, 'JONES'),\n",
       " (7698, 'BLAKE'),\n",
       " (7782, 'CLARK'),\n",
       " (7698, 'BLAKE'),\n",
       " (7782, 'CLARK')]"
      ]
     },
     "execution_count": 15,
     "metadata": {},
     "output_type": "execute_result"
    }
   ],
   "source": [
    "query_table()"
   ]
  },
  {
   "cell_type": "code",
   "execution_count": 18,
   "metadata": {},
   "outputs": [
    {
     "data": {
      "text/plain": [
       "[(7782, 'CLARK', 'MANAGER', 7839, '1981-6-9', 2450, None, 10),\n",
       " (7782, 'CLARK', 'MANAGER', 7839, '1981-6-9', 2450, None, 10),\n",
       " (7839, 'KING', 'PRESIDENT', None, '1981-11-17', 5000, None, 10),\n",
       " (7934, 'MILLER', 'CLERK', 7782, '1982-1-23', 1300, None, 10)]"
      ]
     },
     "execution_count": 18,
     "metadata": {},
     "output_type": "execute_result"
    }
   ],
   "source": [
    "q2 = \"select * from emp where deptno = 10\"\n",
    "query_gen(q2)"
   ]
  },
  {
   "cell_type": "markdown",
   "metadata": {},
   "source": [
    "The WHERE clause allows you to retrieve only rows you are interested in. If the\n",
    "expression in the WHERE clause is true for any row, then that row is returned."
   ]
  },
  {
   "cell_type": "code",
   "execution_count": 19,
   "metadata": {},
   "outputs": [
    {
     "data": {
      "text/plain": [
       "[(7369, 'SMITH', 'CLERK', 7902, '1980-12-17', 800, None, 20),\n",
       " (7499, 'ALLEN', 'SALESMAN', 7698, '1981-2-20', 1600, 300, 30),\n",
       " (7521, 'WARD', 'SALESMAN', 7698, '1981-2-22', 1250, 500, 30),\n",
       " (7654, 'MARTIN', 'SALESMAN', 7698, '1981-9-28', 1250, 1400, 30),\n",
       " (7782, 'CLARK', 'MANAGER', 7839, '1981-6-9', 2450, None, 10),\n",
       " (7782, 'CLARK', 'MANAGER', 7839, '1981-6-9', 2450, None, 10),\n",
       " (7839, 'KING', 'PRESIDENT', None, '1981-11-17', 5000, None, 10),\n",
       " (7844, 'TURNER', 'SALESMAN', 7698, '1981-9-8', 1500, 0, 30),\n",
       " (7876, 'ADAMS', 'CLERK', 7788, '1983-1-12', 1100, None, 20),\n",
       " (7876, 'ADAMS', 'CLERK', 7788, '1983-1-12', 1100, None, 20),\n",
       " (7934, 'MILLER', 'CLERK', 7782, '1982-1-23', 1300, None, 10)]"
      ]
     },
     "execution_count": 19,
     "metadata": {},
     "output_type": "execute_result"
    }
   ],
   "source": [
    "q3 = \"select * from emp where deptno = 10 or comm is not null or sal <= 2000 AND deptno = 20\"\n",
    "query_gen(q3)"
   ]
  },
  {
   "cell_type": "code",
   "execution_count": 20,
   "metadata": {},
   "outputs": [
    {
     "data": {
      "text/plain": [
       "[(7369, 'SMITH', 'CLERK', 7902, '1980-12-17', 800, None, 20),\n",
       " (7876, 'ADAMS', 'CLERK', 7788, '1983-1-12', 1100, None, 20),\n",
       " (7876, 'ADAMS', 'CLERK', 7788, '1983-1-12', 1100, None, 20)]"
      ]
     },
     "execution_count": 20,
     "metadata": {},
     "output_type": "execute_result"
    }
   ],
   "source": [
    "q1 = \"select * from emp where (deptno = 10 or comm is not null or sal <= 2000) AND deptno = 20\"\n",
    "query_gen(q1)\n",
    "#Presence of paranthesis changes the entire outcome. Since it takes subset of the data "
   ]
  },
  {
   "cell_type": "code",
   "execution_count": 140,
   "metadata": {},
   "outputs": [
    {
     "data": {
      "text/plain": [
       "[('SMITH', 800),\n",
       " ('JONES', 2975),\n",
       " ('BLAKE', 2850),\n",
       " ('CLARK', 2450),\n",
       " ('BLAKE', 2850),\n",
       " ('CLARK', 2450),\n",
       " ('KING', 5000),\n",
       " ('ADAMS', 1100),\n",
       " ('ADAMS', 1100),\n",
       " ('MILLER', 1300),\n",
       " ('JAMES', 950),\n",
       " ('FORD', 3000)]"
      ]
     },
     "execution_count": 140,
     "metadata": {},
     "output_type": "execute_result"
    }
   ],
   "source": [
    "q4 = \"SELECT ENAME AS EMPLOYEENAME, SAL as SALARY FROM EMP WHERE COMM IS NULL\"\n",
    "query_gen(q4)"
   ]
  },
  {
   "cell_type": "code",
   "execution_count": 21,
   "metadata": {},
   "outputs": [
    {
     "data": {
      "text/plain": [
       "[('SMITH', 800),\n",
       " ('JONES', 2975),\n",
       " ('BLAKE', 2850),\n",
       " ('CLARK', 2450),\n",
       " ('BLAKE', 2850),\n",
       " ('CLARK', 2450),\n",
       " ('KING', 5000),\n",
       " ('ADAMS', 1100),\n",
       " ('ADAMS', 1100),\n",
       " ('MILLER', 1300),\n",
       " ('JAMES', 950),\n",
       " ('FORD', 3000)]"
      ]
     },
     "execution_count": 21,
     "metadata": {},
     "output_type": "execute_result"
    }
   ],
   "source": [
    "\n",
    "q5= \"SELECT ENAME AS EMPLOYEENAME, SAL as SALARY FROM EMP WHERE COMM IS NULL\"\n",
    "query_gen(q5) #The alias heading is not returned by the execute function"
   ]
  },
  {
   "cell_type": "code",
   "execution_count": 151,
   "metadata": {},
   "outputs": [
    {
     "data": {
      "text/plain": [
       "[(800, None),\n",
       " (1600, 300),\n",
       " (1250, 500),\n",
       " (2975, None),\n",
       " (1250, 1400),\n",
       " (2850, None),\n",
       " (2450, None),\n",
       " (2850, None),\n",
       " (2450, None),\n",
       " (1500, 0),\n",
       " (1100, None),\n",
       " (1100, None),\n",
       " (1300, None),\n",
       " (950, None),\n",
       " (3000, None)]"
      ]
     },
     "execution_count": 151,
     "metadata": {},
     "output_type": "execute_result"
    }
   ],
   "source": [
    "#Aliasing cannot be used in condition before the alias is created, so creating \n",
    "\n",
    "q6 = \"select * from (select sal as salary, comm as commission from emp) x where salary < 5000\"\n",
    "query_gen(q6)"
   ]
  },
  {
   "cell_type": "code",
   "execution_count": 22,
   "metadata": {},
   "outputs": [
    {
     "name": "stdout",
     "output_type": "stream",
     "text": [
      "('CLARK WORKS AS A MANAGER',)\n",
      "('CLARK WORKS AS A MANAGER',)\n",
      "('KING WORKS AS A PRESIDENT',)\n",
      "('MILLER WORKS AS A CLERK',)\n"
     ]
    }
   ],
   "source": [
    "q8 = \"select ename || ' WORKS AS A ' || job as msg from emp where deptno=10\"\n",
    "ret_byRow(q8)"
   ]
  },
  {
   "cell_type": "code",
   "execution_count": 23,
   "metadata": {},
   "outputs": [],
   "source": [
    "q9 = \"\"\"\n",
    "select ename,sal,\n",
    "    case when sal <= 2000 then 'UNDERPAID'\n",
    "        when sal >= 4000 then 'OVERPAID'\n",
    "        else 'OK'\n",
    "        end as status\n",
    "from emp\n",
    "\"\"\""
   ]
  },
  {
   "cell_type": "code",
   "execution_count": 158,
   "metadata": {},
   "outputs": [
    {
     "name": "stdout",
     "output_type": "stream",
     "text": [
      "('SMITH', 800, 'UNDERPAID')\n",
      "('ALLEN', 1600, 'UNDERPAID')\n",
      "('WARD', 1250, 'UNDERPAID')\n",
      "('JONES', 2975, 'OK')\n",
      "('MARTIN', 1250, 'UNDERPAID')\n",
      "('BLAKE', 2850, 'OK')\n",
      "('CLARK', 2450, 'OK')\n",
      "('BLAKE', 2850, 'OK')\n",
      "('CLARK', 2450, 'OK')\n",
      "('KING', 5000, 'OVERPAID')\n",
      "('TURNER', 1500, 'UNDERPAID')\n",
      "('ADAMS', 1100, 'UNDERPAID')\n",
      "('ADAMS', 1100, 'UNDERPAID')\n",
      "('MILLER', 1300, 'UNDERPAID')\n",
      "('JAMES', 950, 'UNDERPAID')\n",
      "('FORD', 3000, 'OK')\n"
     ]
    }
   ],
   "source": [
    "ret_byRow(q9) #Interesting case of SWITCH"
   ]
  },
  {
   "cell_type": "code",
   "execution_count": 24,
   "metadata": {},
   "outputs": [
    {
     "data": {
      "text/plain": [
       "[(7369, 'SMITH', 'CLERK', 7902, '1980-12-17', 800, None, 20),\n",
       " (7499, 'ALLEN', 'SALESMAN', 7698, '1981-2-20', 1600, 300, 30),\n",
       " (7521, 'WARD', 'SALESMAN', 7698, '1981-2-22', 1250, 500, 30),\n",
       " (7566, 'JONES', 'MANAGER', 7839, '1981-4-2', 2975, None, 20),\n",
       " (7654, 'MARTIN', 'SALESMAN', 7698, '1981-9-28', 1250, 1400, 30)]"
      ]
     },
     "execution_count": 24,
     "metadata": {},
     "output_type": "execute_result"
    }
   ],
   "source": [
    "q10 = \"select * from emp limit 5\"\n",
    "query_gen(q10)"
   ]
  },
  {
   "cell_type": "code",
   "execution_count": 27,
   "metadata": {},
   "outputs": [
    {
     "data": {
      "text/plain": [
       "[('WARD', 'SALESMAN'),\n",
       " ('JAMES', 'CLERK'),\n",
       " ('BLAKE', 'MANAGER'),\n",
       " ('TURNER', 'SALESMAN'),\n",
       " ('BLAKE', 'MANAGER')]"
      ]
     },
     "execution_count": 27,
     "metadata": {},
     "output_type": "execute_result"
    }
   ],
   "source": [
    "q11 = \"select ename,job from emp order by random() limit 5\"\n",
    "#getting random rows, remember to use 'random()'\n",
    "query_gen(q11)"
   ]
  },
  {
   "cell_type": "code",
   "execution_count": 28,
   "metadata": {},
   "outputs": [
    {
     "data": {
      "text/plain": [
       "[(0,),\n",
       " (300,),\n",
       " (500,),\n",
       " (0,),\n",
       " (1400,),\n",
       " (0,),\n",
       " (0,),\n",
       " (0,),\n",
       " (0,),\n",
       " (0,),\n",
       " (0,),\n",
       " (0,),\n",
       " (0,),\n",
       " (0,),\n",
       " (0,),\n",
       " (0,)]"
      ]
     },
     "execution_count": 28,
     "metadata": {},
     "output_type": "execute_result"
    }
   ],
   "source": [
    "q12 = \"select case when comm is not null then comm else 0 end from emp\"\n",
    "query_gen(q12) #Easier option is to use COALSCE"
   ]
  },
  {
   "cell_type": "code",
   "execution_count": 30,
   "metadata": {},
   "outputs": [
    {
     "data": {
      "text/plain": [
       "[(0,),\n",
       " (300,),\n",
       " (500,),\n",
       " (0,),\n",
       " (1400,),\n",
       " (0,),\n",
       " (0,),\n",
       " (0,),\n",
       " (0,),\n",
       " (0,),\n",
       " (0,),\n",
       " (0,),\n",
       " (0,),\n",
       " (0,),\n",
       " (0,),\n",
       " (0,)]"
      ]
     },
     "execution_count": 30,
     "metadata": {},
     "output_type": "execute_result"
    }
   ],
   "source": [
    "q_co = \"SELECT COALESCE(COMM,0) FROM EMP\"\n",
    "query_gen(q_co)"
   ]
  },
  {
   "cell_type": "code",
   "execution_count": 31,
   "metadata": {},
   "outputs": [
    {
     "data": {
      "text/plain": [
       "[('SMITH', 'CLERK'),\n",
       " ('JONES', 'MANAGER'),\n",
       " ('CLARK', 'MANAGER'),\n",
       " ('CLARK', 'MANAGER'),\n",
       " ('KING', 'PRESIDENT'),\n",
       " ('MILLER', 'CLERK')]"
      ]
     },
     "execution_count": 31,
     "metadata": {},
     "output_type": "execute_result"
    }
   ],
   "source": [
    "#selecting the values with some strings. T\n",
    "\n",
    "q13 = \"SELECT ename, job FROM emp WHERE deptno IN (10,20) AND (ename like '%I%' or job like '%ER')\"\n",
    "query_gen(q13)"
   ]
  },
  {
   "cell_type": "code",
   "execution_count": 34,
   "metadata": {},
   "outputs": [
    {
     "data": {
      "text/plain": [
       "[('KING', 'PRESIDENT', 5000),\n",
       " ('CLARK', 'MANAGER', 2450),\n",
       " ('CLARK', 'MANAGER', 2450),\n",
       " ('MILLER', 'CLERK', 1300)]"
      ]
     },
     "execution_count": 34,
     "metadata": {},
     "output_type": "execute_result"
    }
   ],
   "source": [
    "q14=\"select ename,job,sal from emp where deptno = 10 order by sal desc\"\n",
    "q15=\"select ename,job,sal,deptno from emp order by deptno,sal desc\"\n",
    "query_gen(q14)"
   ]
  },
  {
   "cell_type": "code",
   "execution_count": 35,
   "metadata": {},
   "outputs": [
    {
     "data": {
      "text/plain": [
       "[('KING', 'PRESIDENT', 5000, 10),\n",
       " ('CLARK', 'MANAGER', 2450, 10),\n",
       " ('CLARK', 'MANAGER', 2450, 10),\n",
       " ('MILLER', 'CLERK', 1300, 10),\n",
       " ('FORD', 'ANALYST', 3000, 20),\n",
       " ('JONES', 'MANAGER', 2975, 20),\n",
       " ('ADAMS', 'CLERK', 1100, 20),\n",
       " ('ADAMS', 'CLERK', 1100, 20),\n",
       " ('SMITH', 'CLERK', 800, 20),\n",
       " ('BLAKE', 'MANAGER', 2850, 30),\n",
       " ('BLAKE', 'MANAGER', 2850, 30),\n",
       " ('ALLEN', 'SALESMAN', 1600, 30),\n",
       " ('TURNER', 'SALESMAN', 1500, 30),\n",
       " ('WARD', 'SALESMAN', 1250, 30),\n",
       " ('MARTIN', 'SALESMAN', 1250, 30),\n",
       " ('JAMES', 'CLERK', 950, 30)]"
      ]
     },
     "execution_count": 35,
     "metadata": {},
     "output_type": "execute_result"
    }
   ],
   "source": [
    "query_gen(q15)"
   ]
  },
  {
   "cell_type": "code",
   "execution_count": 36,
   "metadata": {},
   "outputs": [
    {
     "data": {
      "text/plain": [
       "[('ALLEN', 'SALESMAN'),\n",
       " ('WARD', 'SALESMAN'),\n",
       " ('MARTIN', 'SALESMAN'),\n",
       " ('TURNER', 'SALESMAN'),\n",
       " ('JONES', 'MANAGER'),\n",
       " ('BLAKE', 'MANAGER'),\n",
       " ('CLARK', 'MANAGER'),\n",
       " ('BLAKE', 'MANAGER'),\n",
       " ('CLARK', 'MANAGER'),\n",
       " ('KING', 'PRESIDENT'),\n",
       " ('SMITH', 'CLERK'),\n",
       " ('ADAMS', 'CLERK'),\n",
       " ('ADAMS', 'CLERK'),\n",
       " ('MILLER', 'CLERK'),\n",
       " ('JAMES', 'CLERK'),\n",
       " ('FORD', 'ANALYST')]"
      ]
     },
     "execution_count": 36,
     "metadata": {},
     "output_type": "execute_result"
    }
   ],
   "source": [
    "#sorting based on the substrings\n",
    "q16 = \"select ename,job from emp order by substr(job,length(job)-1)\"\n",
    "query_gen(q16)"
   ]
  },
  {
   "cell_type": "code",
   "execution_count": 52,
   "metadata": {},
   "outputs": [
    {
     "name": "stdout",
     "output_type": "stream",
     "text": [
      " * sqlite:///Orielly_database.db\n",
      "Done.\n"
     ]
    },
    {
     "data": {
      "text/html": [
       "<table>\n",
       "    <thead>\n",
       "        <tr>\n",
       "        </tr>\n",
       "    </thead>\n",
       "    <tbody>\n",
       "    </tbody>\n",
       "</table>"
      ],
      "text/plain": [
       "[]"
      ]
     },
     "execution_count": 52,
     "metadata": {},
     "output_type": "execute_result"
    }
   ],
   "source": [
    "%%sql\n",
    "CREATE VIEW V AS select ename||' '||deptno as data from emp"
   ]
  },
  {
   "cell_type": "code",
   "execution_count": 53,
   "metadata": {},
   "outputs": [
    {
     "name": "stdout",
     "output_type": "stream",
     "text": [
      " * sqlite:///Orielly_database.db\n",
      "Done.\n"
     ]
    },
    {
     "data": {
      "text/html": [
       "<table>\n",
       "    <thead>\n",
       "        <tr>\n",
       "            <th>data</th>\n",
       "        </tr>\n",
       "    </thead>\n",
       "    <tbody>\n",
       "        <tr>\n",
       "            <td>SMITH 20</td>\n",
       "        </tr>\n",
       "        <tr>\n",
       "            <td>ALLEN 30</td>\n",
       "        </tr>\n",
       "        <tr>\n",
       "            <td>WARD 30</td>\n",
       "        </tr>\n",
       "        <tr>\n",
       "            <td>JONES 20</td>\n",
       "        </tr>\n",
       "        <tr>\n",
       "            <td>MARTIN 30</td>\n",
       "        </tr>\n",
       "        <tr>\n",
       "            <td>BLAKE 30</td>\n",
       "        </tr>\n",
       "        <tr>\n",
       "            <td>CLARK 10</td>\n",
       "        </tr>\n",
       "        <tr>\n",
       "            <td>BLAKE 30</td>\n",
       "        </tr>\n",
       "        <tr>\n",
       "            <td>CLARK 10</td>\n",
       "        </tr>\n",
       "        <tr>\n",
       "            <td>KING 10</td>\n",
       "        </tr>\n",
       "        <tr>\n",
       "            <td>TURNER 30</td>\n",
       "        </tr>\n",
       "        <tr>\n",
       "            <td>ADAMS 20</td>\n",
       "        </tr>\n",
       "        <tr>\n",
       "            <td>ADAMS 20</td>\n",
       "        </tr>\n",
       "        <tr>\n",
       "            <td>MILLER 10</td>\n",
       "        </tr>\n",
       "        <tr>\n",
       "            <td>JAMES 30</td>\n",
       "        </tr>\n",
       "        <tr>\n",
       "            <td>FORD 20</td>\n",
       "        </tr>\n",
       "    </tbody>\n",
       "</table>"
      ],
      "text/plain": [
       "[('SMITH 20',),\n",
       " ('ALLEN 30',),\n",
       " ('WARD 30',),\n",
       " ('JONES 20',),\n",
       " ('MARTIN 30',),\n",
       " ('BLAKE 30',),\n",
       " ('CLARK 10',),\n",
       " ('BLAKE 30',),\n",
       " ('CLARK 10',),\n",
       " ('KING 10',),\n",
       " ('TURNER 30',),\n",
       " ('ADAMS 20',),\n",
       " ('ADAMS 20',),\n",
       " ('MILLER 10',),\n",
       " ('JAMES 30',),\n",
       " ('FORD 20',)]"
      ]
     },
     "execution_count": 53,
     "metadata": {},
     "output_type": "execute_result"
    }
   ],
   "source": [
    "%%sql\n",
    "SELECT * \n",
    "FROM V"
   ]
  },
  {
   "cell_type": "markdown",
   "metadata": {},
   "source": [
    "Above view creates a new table itself in the database, with name \"V\". Then that table can be queried as a regular table.\n",
    "Important point is, if the table already exists then it will throw error. Drop View deletes the tables"
   ]
  },
  {
   "cell_type": "code",
   "execution_count": 51,
   "metadata": {},
   "outputs": [
    {
     "name": "stdout",
     "output_type": "stream",
     "text": [
      " * sqlite:///Orielly_database.db\n",
      "Done.\n"
     ]
    },
    {
     "data": {
      "text/html": [
       "<table>\n",
       "    <thead>\n",
       "        <tr>\n",
       "        </tr>\n",
       "    </thead>\n",
       "    <tbody>\n",
       "    </tbody>\n",
       "</table>"
      ],
      "text/plain": [
       "[]"
      ]
     },
     "execution_count": 51,
     "metadata": {},
     "output_type": "execute_result"
    }
   ],
   "source": [
    "%%sql\n",
    "DROP VIEW V;"
   ]
  },
  {
   "cell_type": "code",
   "execution_count": 55,
   "metadata": {},
   "outputs": [],
   "source": [
    "q17 = \"select data from V order by replace(translate(data,'0123456789','##########'),'#','')\"\n",
    "#The above query will not work with SQLite since Replace and Translate are not supported"
   ]
  },
  {
   "cell_type": "code",
   "execution_count": 56,
   "metadata": {},
   "outputs": [],
   "source": [
    "#THis query uses the column with null values to order the output\n",
    "\n",
    "q19  = \"select ename,sal,comm from (select ename,sal,comm, case when comm is null then 0 else 1 end as is_null from emp) x order by is_null,comm\""
   ]
  },
  {
   "cell_type": "code",
   "execution_count": 57,
   "metadata": {},
   "outputs": [
    {
     "data": {
      "text/plain": [
       "[('SMITH', 800, None),\n",
       " ('JONES', 2975, None),\n",
       " ('BLAKE', 2850, None),\n",
       " ('CLARK', 2450, None),\n",
       " ('BLAKE', 2850, None),\n",
       " ('CLARK', 2450, None),\n",
       " ('KING', 5000, None),\n",
       " ('ADAMS', 1100, None),\n",
       " ('ADAMS', 1100, None),\n",
       " ('MILLER', 1300, None),\n",
       " ('JAMES', 950, None),\n",
       " ('FORD', 3000, None),\n",
       " ('TURNER', 1500, 0),\n",
       " ('ALLEN', 1600, 300),\n",
       " ('WARD', 1250, 500),\n",
       " ('MARTIN', 1250, 1400)]"
      ]
     },
     "execution_count": 57,
     "metadata": {},
     "output_type": "execute_result"
    }
   ],
   "source": [
    "query_gen(q19)"
   ]
  },
  {
   "cell_type": "code",
   "execution_count": 58,
   "metadata": {},
   "outputs": [
    {
     "data": {
      "text/plain": [
       "[('SMITH', 800, 'CLERK', None, 800),\n",
       " ('JAMES', 950, 'CLERK', None, 950),\n",
       " ('ADAMS', 1100, 'CLERK', None, 1100),\n",
       " ('ADAMS', 1100, 'CLERK', None, 1100),\n",
       " ('MILLER', 1300, 'CLERK', None, 1300),\n",
       " ('TURNER', 1500, 'SALESMAN', 0, 1500),\n",
       " ('WARD', 1250, 'SALESMAN', 500, 1750),\n",
       " ('ALLEN', 1600, 'SALESMAN', 300, 1900),\n",
       " ('CLARK', 2450, 'MANAGER', None, 2450),\n",
       " ('CLARK', 2450, 'MANAGER', None, 2450),\n",
       " ('MARTIN', 1250, 'SALESMAN', 1400, 2650),\n",
       " ('BLAKE', 2850, 'MANAGER', None, 2850),\n",
       " ('BLAKE', 2850, 'MANAGER', None, 2850),\n",
       " ('JONES', 2975, 'MANAGER', None, 2975),\n",
       " ('FORD', 3000, 'ANALYST', None, 3000),\n",
       " ('KING', 5000, 'PRESIDENT', None, 5000)]"
      ]
     },
     "execution_count": 58,
     "metadata": {},
     "output_type": "execute_result"
    }
   ],
   "source": [
    "q20= \"select ename,sal,job,comm, case when job = 'SALESMAN' then comm+sal else sal end as ordered from emp order by 5\"\n",
    "query_gen(q20)\n",
    "\n",
    "#The case clause can be used conditionally create a new column in the query. The table is not touched "
   ]
  },
  {
   "cell_type": "code",
   "execution_count": 67,
   "metadata": {},
   "outputs": [
    {
     "name": "stdout",
     "output_type": "stream",
     "text": [
      " * sqlite:///Orielly_database.db\n",
      "(_sqlite3.OperationalError) near \"\"select ename, deptno from emp where deptno = 10\"\": syntax error\n",
      "[SQL: \"select ename, deptno from emp where deptno = 10\"]\n",
      "(Background on this error at: http://sqlalche.me/e/13/e3q8)\n"
     ]
    }
   ],
   "source": [
    "%%sql\n",
    "\"select ename, deptno from emp where deptno = 10\""
   ]
  },
  {
   "cell_type": "code",
   "execution_count": 74,
   "metadata": {},
   "outputs": [
    {
     "name": "stdout",
     "output_type": "stream",
     "text": [
      " * sqlite:///Orielly_database.db\n",
      "Done.\n"
     ]
    },
    {
     "data": {
      "text/html": [
       "<table>\n",
       "    <thead>\n",
       "        <tr>\n",
       "            <th>ename_and_dname</th>\n",
       "            <th>DEPTNO</th>\n",
       "        </tr>\n",
       "    </thead>\n",
       "    <tbody>\n",
       "        <tr>\n",
       "            <td>CLARK</td>\n",
       "            <td>10</td>\n",
       "        </tr>\n",
       "        <tr>\n",
       "            <td>CLARK</td>\n",
       "            <td>10</td>\n",
       "        </tr>\n",
       "        <tr>\n",
       "            <td>KING</td>\n",
       "            <td>10</td>\n",
       "        </tr>\n",
       "        <tr>\n",
       "            <td>MILLER</td>\n",
       "            <td>10</td>\n",
       "        </tr>\n",
       "        <tr>\n",
       "            <td>------------</td>\n",
       "            <td>None</td>\n",
       "        </tr>\n",
       "        <tr>\n",
       "            <td>ACCOUNTING</td>\n",
       "            <td>10</td>\n",
       "        </tr>\n",
       "        <tr>\n",
       "            <td>OPERATIONS</td>\n",
       "            <td>40</td>\n",
       "        </tr>\n",
       "        <tr>\n",
       "            <td>SALES</td>\n",
       "            <td>30</td>\n",
       "        </tr>\n",
       "        <tr>\n",
       "            <td>RESEARCH</td>\n",
       "            <td>20</td>\n",
       "        </tr>\n",
       "    </tbody>\n",
       "</table>"
      ],
      "text/plain": [
       "[('CLARK', 10),\n",
       " ('CLARK', 10),\n",
       " ('KING', 10),\n",
       " ('MILLER', 10),\n",
       " ('------------', None),\n",
       " ('ACCOUNTING', 10),\n",
       " ('OPERATIONS', 40),\n",
       " ('SALES', 30),\n",
       " ('RESEARCH', 20)]"
      ]
     },
     "execution_count": 74,
     "metadata": {},
     "output_type": "execute_result"
    }
   ],
   "source": [
    "%%sql\n",
    "\n",
    "select ename as ename_and_dname, deptno from emp where deptno = 10 union all select '------------',null from T1 union all select dname,deptno from dept"
   ]
  },
  {
   "cell_type": "code",
   "execution_count": 71,
   "metadata": {},
   "outputs": [
    {
     "data": {
      "text/plain": [
       "[('CLARK', 10),\n",
       " ('CLARK', 10),\n",
       " ('KING', 10),\n",
       " ('MILLER', 10),\n",
       " ('-----', None),\n",
       " ('ACCOUNTING', 10),\n",
       " ('OPERATIONS', 40),\n",
       " ('SALES', 30),\n",
       " ('RESEARCH', 20)]"
      ]
     },
     "execution_count": 71,
     "metadata": {},
     "output_type": "execute_result"
    }
   ],
   "source": [
    "q21 = \"select ename as ename_and_dname, deptno from emp where deptno = 10 union all select '-----',null from T1 union all select dname,deptno from dept\"\n",
    "query_gen(q21)\n",
    "\n",
    "#The number of columns and the data types should match, else UNION will fail\n",
    "#You wouldn’t use DISTINCT in a query unless you had to, and the same rule applies for UNION:"
   ]
  },
  {
   "cell_type": "code",
   "execution_count": null,
   "metadata": {},
   "outputs": [],
   "source": []
  },
  {
   "cell_type": "code",
   "execution_count": null,
   "metadata": {},
   "outputs": [],
   "source": []
  },
  {
   "cell_type": "code",
   "execution_count": null,
   "metadata": {},
   "outputs": [],
   "source": []
  }
 ],
 "metadata": {
  "interpreter": {
   "hash": "a42c93b5eee6b56421653baa65deacde473063d5c4965d27c7a75f4e31a8d403"
  },
  "kernelspec": {
   "display_name": "Python 3.7.12 64-bit (system)",
   "language": "python",
   "name": "python3"
  },
  "language_info": {
   "codemirror_mode": {
    "name": "ipython",
    "version": 3
   },
   "file_extension": ".py",
   "mimetype": "text/x-python",
   "name": "python",
   "nbconvert_exporter": "python",
   "pygments_lexer": "ipython3",
   "version": "3.7.12"
  },
  "orig_nbformat": 4
 },
 "nbformat": 4,
 "nbformat_minor": 2
}

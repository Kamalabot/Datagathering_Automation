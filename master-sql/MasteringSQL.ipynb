{
 "cells": [
  {
   "cell_type": "markdown",
   "metadata": {},
   "source": [
    "# DO NOT RUN ALL THE CELLS. THE DATABASE TABLES WILL GET AFFECTED"
   ]
  },
  {
   "cell_type": "markdown",
   "metadata": {},
   "source": [
    "Master the SQL Queries to the fullest extent. The code snippets that follow are based on the data tables from the Orielly Book \"SQL Cookbook_ Query Solutions and Techniques for All SQL Users\"\n",
    "\n",
    "Tables used in their examples are created by another programmer, which I have taken for using it in the examples provided in the book. Idea is to use this note book as a reference. Since it is following a cook book that is practical, there will be many lessons to be learnt and remembered. "
   ]
  },
  {
   "cell_type": "markdown",
   "metadata": {},
   "source": [
    "Tables are created inside the database.\n",
    "\n",
    "a) EMP\n",
    "b) DEPT\n",
    "\n",
    "Pivot Tables\n",
    "\n",
    "T1, T10 and T100"
   ]
  },
  {
   "cell_type": "code",
   "execution_count": 1,
   "metadata": {},
   "outputs": [],
   "source": [
    "# To setup the sql server with the database having the tables mentioned by the book. \n",
    "import sqlite3\n",
    "from sqlite3 import Error\n",
    "\n",
    "\n",
    "def create_connection(db_file):\n",
    "    \"\"\" create a database connection to a SQLite database \"\"\"\n",
    "    conn = None\n",
    "    try:\n",
    "        conn = sqlite3.connect(db_file)\n",
    "        print(sqlite3.version)\n",
    "    except Error as e:\n",
    "        print(e)\n",
    "    finally:\n",
    "        if conn:\n",
    "            conn.close()"
   ]
  },
  {
   "cell_type": "code",
   "execution_count": 2,
   "metadata": {},
   "outputs": [
    {
     "name": "stdout",
     "output_type": "stream",
     "text": [
      "2.6.0\n"
     ]
    }
   ],
   "source": [
    "create_connection(r\"C:\\WorkFiles\\WPy64-37120\\notebooks\\Datagathering_Automation\\master-sql\\Orielly_database.db\")"
   ]
  },
  {
   "cell_type": "markdown",
   "metadata": {},
   "source": [
    "!pip install ipython-sql"
   ]
  },
  {
   "cell_type": "code",
   "execution_count": 4,
   "metadata": {},
   "outputs": [
    {
     "data": {
      "text/plain": [
       "Engine(sqlite:///Orielly_database.db)"
      ]
     },
     "execution_count": 4,
     "metadata": {},
     "output_type": "execute_result"
    }
   ],
   "source": [
    "import sqlalchemy\n",
    "sqlalchemy.create_engine('sqlite:///Orielly_database.db')"
   ]
  },
  {
   "cell_type": "code",
   "execution_count": 7,
   "metadata": {},
   "outputs": [],
   "source": [
    "%load_ext sql"
   ]
  },
  {
   "cell_type": "code",
   "execution_count": 9,
   "metadata": {},
   "outputs": [],
   "source": [
    "%sql sqlite:///Orielly_database.db"
   ]
  },
  {
   "cell_type": "code",
   "execution_count": 31,
   "metadata": {},
   "outputs": [
    {
     "name": "stdout",
     "output_type": "stream",
     "text": [
      " * sqlite:///Orielly_database.db\n",
      "Done.\n"
     ]
    },
    {
     "data": {
      "text/html": [
       "<table>\n",
       "    <thead>\n",
       "        <tr>\n",
       "            <th>EMPNO</th>\n",
       "            <th>ENAME</th>\n",
       "            <th>JOB</th>\n",
       "            <th>MGR</th>\n",
       "            <th>HIREDATE</th>\n",
       "            <th>SAL</th>\n",
       "            <th>COMM</th>\n",
       "            <th>DEPTNO</th>\n",
       "        </tr>\n",
       "    </thead>\n",
       "    <tbody>\n",
       "        <tr>\n",
       "            <td>7369</td>\n",
       "            <td>SMITH</td>\n",
       "            <td>CLERK</td>\n",
       "            <td>7902</td>\n",
       "            <td>1980-12-17</td>\n",
       "            <td>800</td>\n",
       "            <td>None</td>\n",
       "            <td>20</td>\n",
       "        </tr>\n",
       "        <tr>\n",
       "            <td>7499</td>\n",
       "            <td>ALLEN</td>\n",
       "            <td>SALESMAN</td>\n",
       "            <td>7698</td>\n",
       "            <td>1981-2-20</td>\n",
       "            <td>1600</td>\n",
       "            <td>300</td>\n",
       "            <td>30</td>\n",
       "        </tr>\n",
       "        <tr>\n",
       "            <td>7521</td>\n",
       "            <td>WARD</td>\n",
       "            <td>SALESMAN</td>\n",
       "            <td>7698</td>\n",
       "            <td>1981-2-22</td>\n",
       "            <td>1250</td>\n",
       "            <td>500</td>\n",
       "            <td>30</td>\n",
       "        </tr>\n",
       "        <tr>\n",
       "            <td>7566</td>\n",
       "            <td>JONES</td>\n",
       "            <td>MANAGER</td>\n",
       "            <td>7839</td>\n",
       "            <td>1981-4-2</td>\n",
       "            <td>2975</td>\n",
       "            <td>None</td>\n",
       "            <td>20</td>\n",
       "        </tr>\n",
       "        <tr>\n",
       "            <td>7654</td>\n",
       "            <td>MARTIN</td>\n",
       "            <td>SALESMAN</td>\n",
       "            <td>7698</td>\n",
       "            <td>1981-9-28</td>\n",
       "            <td>1250</td>\n",
       "            <td>1400</td>\n",
       "            <td>30</td>\n",
       "        </tr>\n",
       "        <tr>\n",
       "            <td>7698</td>\n",
       "            <td>BLAKE</td>\n",
       "            <td>MANAGER</td>\n",
       "            <td>7839</td>\n",
       "            <td>1981-5-1</td>\n",
       "            <td>2850</td>\n",
       "            <td>None</td>\n",
       "            <td>30</td>\n",
       "        </tr>\n",
       "        <tr>\n",
       "            <td>7782</td>\n",
       "            <td>CLARK</td>\n",
       "            <td>MANAGER</td>\n",
       "            <td>7839</td>\n",
       "            <td>1981-6-9</td>\n",
       "            <td>2450</td>\n",
       "            <td>None</td>\n",
       "            <td>10</td>\n",
       "        </tr>\n",
       "        <tr>\n",
       "            <td>7698</td>\n",
       "            <td>BLAKE</td>\n",
       "            <td>MANAGER</td>\n",
       "            <td>7839</td>\n",
       "            <td>1981-5-1</td>\n",
       "            <td>2850</td>\n",
       "            <td>None</td>\n",
       "            <td>30</td>\n",
       "        </tr>\n",
       "        <tr>\n",
       "            <td>7782</td>\n",
       "            <td>CLARK</td>\n",
       "            <td>MANAGER</td>\n",
       "            <td>7839</td>\n",
       "            <td>1981-6-9</td>\n",
       "            <td>2450</td>\n",
       "            <td>None</td>\n",
       "            <td>10</td>\n",
       "        </tr>\n",
       "        <tr>\n",
       "            <td>7839</td>\n",
       "            <td>KING</td>\n",
       "            <td>PRESIDENT</td>\n",
       "            <td>None</td>\n",
       "            <td>1981-11-17</td>\n",
       "            <td>5000</td>\n",
       "            <td>None</td>\n",
       "            <td>10</td>\n",
       "        </tr>\n",
       "        <tr>\n",
       "            <td>7844</td>\n",
       "            <td>TURNER</td>\n",
       "            <td>SALESMAN</td>\n",
       "            <td>7698</td>\n",
       "            <td>1981-9-8</td>\n",
       "            <td>1500</td>\n",
       "            <td>0</td>\n",
       "            <td>30</td>\n",
       "        </tr>\n",
       "        <tr>\n",
       "            <td>7876</td>\n",
       "            <td>ADAMS</td>\n",
       "            <td>CLERK</td>\n",
       "            <td>7788</td>\n",
       "            <td>1983-1-12</td>\n",
       "            <td>1100</td>\n",
       "            <td>None</td>\n",
       "            <td>20</td>\n",
       "        </tr>\n",
       "        <tr>\n",
       "            <td>7876</td>\n",
       "            <td>ADAMS</td>\n",
       "            <td>CLERK</td>\n",
       "            <td>7788</td>\n",
       "            <td>1983-1-12</td>\n",
       "            <td>1100</td>\n",
       "            <td>None</td>\n",
       "            <td>20</td>\n",
       "        </tr>\n",
       "        <tr>\n",
       "            <td>7934</td>\n",
       "            <td>MILLER</td>\n",
       "            <td>CLERK</td>\n",
       "            <td>7782</td>\n",
       "            <td>1982-1-23</td>\n",
       "            <td>1300</td>\n",
       "            <td>None</td>\n",
       "            <td>10</td>\n",
       "        </tr>\n",
       "        <tr>\n",
       "            <td>7900</td>\n",
       "            <td>JAMES</td>\n",
       "            <td>CLERK</td>\n",
       "            <td>7698</td>\n",
       "            <td>1981-12-3</td>\n",
       "            <td>950</td>\n",
       "            <td>None</td>\n",
       "            <td>30</td>\n",
       "        </tr>\n",
       "        <tr>\n",
       "            <td>7902</td>\n",
       "            <td>FORD</td>\n",
       "            <td>ANALYST</td>\n",
       "            <td>7566</td>\n",
       "            <td>1981-12-3</td>\n",
       "            <td>3000</td>\n",
       "            <td>None</td>\n",
       "            <td>20</td>\n",
       "        </tr>\n",
       "    </tbody>\n",
       "</table>"
      ],
      "text/plain": [
       "[(7369, 'SMITH', 'CLERK', 7902, '1980-12-17', 800, None, 20),\n",
       " (7499, 'ALLEN', 'SALESMAN', 7698, '1981-2-20', 1600, 300, 30),\n",
       " (7521, 'WARD', 'SALESMAN', 7698, '1981-2-22', 1250, 500, 30),\n",
       " (7566, 'JONES', 'MANAGER', 7839, '1981-4-2', 2975, None, 20),\n",
       " (7654, 'MARTIN', 'SALESMAN', 7698, '1981-9-28', 1250, 1400, 30),\n",
       " (7698, 'BLAKE', 'MANAGER', 7839, '1981-5-1', 2850, None, 30),\n",
       " (7782, 'CLARK', 'MANAGER', 7839, '1981-6-9', 2450, None, 10),\n",
       " (7698, 'BLAKE', 'MANAGER', 7839, '1981-5-1', 2850, None, 30),\n",
       " (7782, 'CLARK', 'MANAGER', 7839, '1981-6-9', 2450, None, 10),\n",
       " (7839, 'KING', 'PRESIDENT', None, '1981-11-17', 5000, None, 10),\n",
       " (7844, 'TURNER', 'SALESMAN', 7698, '1981-9-8', 1500, 0, 30),\n",
       " (7876, 'ADAMS', 'CLERK', 7788, '1983-1-12', 1100, None, 20),\n",
       " (7876, 'ADAMS', 'CLERK', 7788, '1983-1-12', 1100, None, 20),\n",
       " (7934, 'MILLER', 'CLERK', 7782, '1982-1-23', 1300, None, 10),\n",
       " (7900, 'JAMES', 'CLERK', 7698, '1981-12-3', 950, None, 30),\n",
       " (7902, 'FORD', 'ANALYST', 7566, '1981-12-3', 3000, None, 20)]"
      ]
     },
     "execution_count": 31,
     "metadata": {},
     "output_type": "execute_result"
    }
   ],
   "source": [
    "%%sql\n",
    "\n",
    "SELECT *\n",
    "FROM EMP\n"
   ]
  },
  {
   "cell_type": "code",
   "execution_count": 12,
   "metadata": {},
   "outputs": [
    {
     "name": "stdout",
     "output_type": "stream",
     "text": [
      " * sqlite:///Orielly_database.db\n",
      "Done.\n"
     ]
    },
    {
     "data": {
      "text/plain": [
       "sql.run.ResultSet"
      ]
     },
     "execution_count": 12,
     "metadata": {},
     "output_type": "execute_result"
    }
   ],
   "source": [
    "result = %sql SELECT * FROM EMP \n",
    "type(result)"
   ]
  },
  {
   "cell_type": "code",
   "execution_count": 16,
   "metadata": {},
   "outputs": [],
   "source": [
    "df = result.DataFrame()"
   ]
  },
  {
   "cell_type": "code",
   "execution_count": 17,
   "metadata": {},
   "outputs": [
    {
     "data": {
      "text/html": [
       "<div>\n",
       "<style scoped>\n",
       "    .dataframe tbody tr th:only-of-type {\n",
       "        vertical-align: middle;\n",
       "    }\n",
       "\n",
       "    .dataframe tbody tr th {\n",
       "        vertical-align: top;\n",
       "    }\n",
       "\n",
       "    .dataframe thead th {\n",
       "        text-align: right;\n",
       "    }\n",
       "</style>\n",
       "<table border=\"1\" class=\"dataframe\">\n",
       "  <thead>\n",
       "    <tr style=\"text-align: right;\">\n",
       "      <th></th>\n",
       "      <th>EMPNO</th>\n",
       "      <th>ENAME</th>\n",
       "      <th>JOB</th>\n",
       "      <th>MGR</th>\n",
       "      <th>HIREDATE</th>\n",
       "      <th>SAL</th>\n",
       "      <th>COMM</th>\n",
       "      <th>DEPTNO</th>\n",
       "    </tr>\n",
       "  </thead>\n",
       "  <tbody>\n",
       "    <tr>\n",
       "      <th>0</th>\n",
       "      <td>7369</td>\n",
       "      <td>SMITH</td>\n",
       "      <td>CLERK</td>\n",
       "      <td>7902</td>\n",
       "      <td>1980-12-17</td>\n",
       "      <td>800</td>\n",
       "      <td>NaN</td>\n",
       "      <td>20</td>\n",
       "    </tr>\n",
       "    <tr>\n",
       "      <th>1</th>\n",
       "      <td>7499</td>\n",
       "      <td>ALLEN</td>\n",
       "      <td>SALESMAN</td>\n",
       "      <td>7698</td>\n",
       "      <td>1981-2-20</td>\n",
       "      <td>1600</td>\n",
       "      <td>300.0</td>\n",
       "      <td>30</td>\n",
       "    </tr>\n",
       "    <tr>\n",
       "      <th>2</th>\n",
       "      <td>7521</td>\n",
       "      <td>WARD</td>\n",
       "      <td>SALESMAN</td>\n",
       "      <td>7698</td>\n",
       "      <td>1981-2-22</td>\n",
       "      <td>1250</td>\n",
       "      <td>500.0</td>\n",
       "      <td>30</td>\n",
       "    </tr>\n",
       "    <tr>\n",
       "      <th>3</th>\n",
       "      <td>7566</td>\n",
       "      <td>JONES</td>\n",
       "      <td>MANAGER</td>\n",
       "      <td>7839</td>\n",
       "      <td>1981-4-2</td>\n",
       "      <td>2975</td>\n",
       "      <td>NaN</td>\n",
       "      <td>20</td>\n",
       "    </tr>\n",
       "    <tr>\n",
       "      <th>4</th>\n",
       "      <td>7654</td>\n",
       "      <td>MARTIN</td>\n",
       "      <td>SALESMAN</td>\n",
       "      <td>7698</td>\n",
       "      <td>1981-9-28</td>\n",
       "      <td>1250</td>\n",
       "      <td>1400.0</td>\n",
       "      <td>30</td>\n",
       "    </tr>\n",
       "  </tbody>\n",
       "</table>\n",
       "</div>"
      ],
      "text/plain": [
       "   EMPNO   ENAME       JOB   MGR    HIREDATE   SAL    COMM  DEPTNO\n",
       "0   7369   SMITH     CLERK  7902  1980-12-17   800     NaN      20\n",
       "1   7499   ALLEN  SALESMAN  7698   1981-2-20  1600   300.0      30\n",
       "2   7521    WARD  SALESMAN  7698   1981-2-22  1250   500.0      30\n",
       "3   7566   JONES   MANAGER  7839    1981-4-2  2975     NaN      20\n",
       "4   7654  MARTIN  SALESMAN  7698   1981-9-28  1250  1400.0      30"
      ]
     },
     "execution_count": 17,
     "metadata": {},
     "output_type": "execute_result"
    }
   ],
   "source": [
    "df.head()"
   ]
  },
  {
   "cell_type": "code",
   "execution_count": 19,
   "metadata": {},
   "outputs": [
    {
     "name": "stdout",
     "output_type": "stream",
     "text": [
      " * sqlite:///Orielly_database.db\n",
      "1 rows affected.\n"
     ]
    },
    {
     "data": {
      "text/plain": [
       "[]"
      ]
     },
     "execution_count": 19,
     "metadata": {},
     "output_type": "execute_result"
    }
   ],
   "source": [
    "%%sql\n",
    "INSERT INTO EMP (EMPNO, ENAME, JOB, MGR, HIREDATE, SAL, COMM, DEPTNO) \n",
    "VALUES (7698, 'BLAKE',  'MANAGER',   7839,\n",
    "        '1981-5-1',  2850, NULL, 30)"
   ]
  },
  {
   "cell_type": "code",
   "execution_count": 32,
   "metadata": {},
   "outputs": [
    {
     "name": "stdout",
     "output_type": "stream",
     "text": [
      " * sqlite:///Orielly_database.db\n",
      "Done.\n"
     ]
    },
    {
     "data": {
      "text/html": [
       "<table>\n",
       "    <thead>\n",
       "        <tr>\n",
       "        </tr>\n",
       "    </thead>\n",
       "    <tbody>\n",
       "    </tbody>\n",
       "</table>"
      ],
      "text/plain": [
       "[]"
      ]
     },
     "execution_count": 32,
     "metadata": {},
     "output_type": "execute_result"
    }
   ],
   "source": [
    "%%sql\n",
    "CREATE TABLE DEPT\n",
    "       (DEPTNO integer,\n",
    "        DNAME VARCHAR(14),\n",
    "        LOC VARCHAR(13) )"
   ]
  },
  {
   "cell_type": "code",
   "execution_count": 33,
   "metadata": {},
   "outputs": [
    {
     "name": "stdout",
     "output_type": "stream",
     "text": [
      " * sqlite:///Orielly_database.db\n",
      "1 rows affected.\n"
     ]
    },
    {
     "data": {
      "text/plain": [
       "[]"
      ]
     },
     "execution_count": 33,
     "metadata": {},
     "output_type": "execute_result"
    }
   ],
   "source": [
    "%%sql\n",
    "INSERT INTO DEPT VALUES (10, 'ACCOUNTING', 'NEW YORK')"
   ]
  },
  {
   "cell_type": "code",
   "execution_count": 36,
   "metadata": {},
   "outputs": [
    {
     "name": "stdout",
     "output_type": "stream",
     "text": [
      " * sqlite:///Orielly_database.db\n",
      "1 rows affected.\n"
     ]
    },
    {
     "data": {
      "text/plain": [
       "[]"
      ]
     },
     "execution_count": 36,
     "metadata": {},
     "output_type": "execute_result"
    }
   ],
   "source": [
    "%%sql\n",
    "INSERT INTO DEPT VALUES (20, 'RESEARCH',   'DALLAS')"
   ]
  },
  {
   "cell_type": "code",
   "execution_count": 37,
   "metadata": {},
   "outputs": [
    {
     "name": "stdout",
     "output_type": "stream",
     "text": [
      " * sqlite:///Orielly_database.db\n",
      "Done.\n"
     ]
    },
    {
     "data": {
      "text/html": [
       "<table>\n",
       "    <thead>\n",
       "        <tr>\n",
       "            <th>DEPTNO</th>\n",
       "            <th>DNAME</th>\n",
       "            <th>LOC</th>\n",
       "        </tr>\n",
       "    </thead>\n",
       "    <tbody>\n",
       "        <tr>\n",
       "            <td>10</td>\n",
       "            <td>ACCOUNTING</td>\n",
       "            <td>NEW YORK</td>\n",
       "        </tr>\n",
       "        <tr>\n",
       "            <td>40</td>\n",
       "            <td>OPERATIONS</td>\n",
       "            <td>BOSTON</td>\n",
       "        </tr>\n",
       "        <tr>\n",
       "            <td>30</td>\n",
       "            <td>SALES</td>\n",
       "            <td>CHICAGO</td>\n",
       "        </tr>\n",
       "        <tr>\n",
       "            <td>20</td>\n",
       "            <td>RESEARCH</td>\n",
       "            <td>DALLAS</td>\n",
       "        </tr>\n",
       "    </tbody>\n",
       "</table>"
      ],
      "text/plain": [
       "[(10, 'ACCOUNTING', 'NEW YORK'),\n",
       " (40, 'OPERATIONS', 'BOSTON'),\n",
       " (30, 'SALES', 'CHICAGO'),\n",
       " (20, 'RESEARCH', 'DALLAS')]"
      ]
     },
     "execution_count": 37,
     "metadata": {},
     "output_type": "execute_result"
    }
   ],
   "source": [
    "%%sql\n",
    "\n",
    "SELECT *\n",
    "FROM DEPT\n"
   ]
  },
  {
   "cell_type": "code",
   "execution_count": 41,
   "metadata": {},
   "outputs": [
    {
     "name": "stdout",
     "output_type": "stream",
     "text": [
      " * sqlite:///Orielly_database.db\n",
      "Done.\n"
     ]
    },
    {
     "data": {
      "text/html": [
       "<table>\n",
       "    <thead>\n",
       "        <tr>\n",
       "        </tr>\n",
       "    </thead>\n",
       "    <tbody>\n",
       "    </tbody>\n",
       "</table>"
      ],
      "text/plain": [
       "[]"
      ]
     },
     "execution_count": 41,
     "metadata": {},
     "output_type": "execute_result"
    }
   ],
   "source": [
    "%%sql\n",
    "CREATE TABLE T100 (ID INTEGER)"
   ]
  },
  {
   "cell_type": "code",
   "execution_count": null,
   "metadata": {},
   "outputs": [],
   "source": [
    "INSERT INTO T1 VALUES (1)"
   ]
  },
  {
   "cell_type": "code",
   "execution_count": 45,
   "metadata": {},
   "outputs": [],
   "source": [
    "import dataset\n",
    "\n",
    "db = dataset.connect('sqlite:///Orielly_database.db')"
   ]
  },
  {
   "cell_type": "code",
   "execution_count": 70,
   "metadata": {},
   "outputs": [
    {
     "data": {
      "text/plain": [
       "[1, 2, 3, 4, 5, 6, 7, 8, 9, 10]"
      ]
     },
     "execution_count": 70,
     "metadata": {},
     "output_type": "execute_result"
    }
   ],
   "source": [
    "[x for x in range(1,11)]"
   ]
  },
  {
   "cell_type": "code",
   "execution_count": 76,
   "metadata": {},
   "outputs": [],
   "source": [
    "for item in range(1,11):\n",
    "    db['T10'].insert({'ID':item})"
   ]
  },
  {
   "cell_type": "code",
   "execution_count": 77,
   "metadata": {},
   "outputs": [],
   "source": [
    "for item in range(1,101):\n",
    "    db['T100'].insert({'ID':item})"
   ]
  },
  {
   "cell_type": "markdown",
   "metadata": {},
   "source": []
  }
 ],
 "metadata": {
  "interpreter": {
   "hash": "a42c93b5eee6b56421653baa65deacde473063d5c4965d27c7a75f4e31a8d403"
  },
  "kernelspec": {
   "display_name": "Python 3.7.12 64-bit (system)",
   "language": "python",
   "name": "python3"
  },
  "language_info": {
   "codemirror_mode": {
    "name": "ipython",
    "version": 3
   },
   "file_extension": ".py",
   "mimetype": "text/x-python",
   "name": "python",
   "nbconvert_exporter": "python",
   "pygments_lexer": "ipython3",
   "version": "3.7.12"
  },
  "orig_nbformat": 4
 },
 "nbformat": 4,
 "nbformat_minor": 2
}

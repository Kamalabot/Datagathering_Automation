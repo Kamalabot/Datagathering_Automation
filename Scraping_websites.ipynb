{
 "cells": [
  {
   "cell_type": "markdown",
   "id": "ba85af32",
   "metadata": {},
   "source": [
    "Regularly I look for information about a particular industry, product, and some concepts. I visit the websites and read the contents in them, make copy of the data into an excel sheet and later collate into a file. \n",
    "\n",
    "I want thinking to automate the data gathering from various websites that come up in the google search. Pseudocode would be something like the following\n",
    "\n",
    "* Get a list of items you want to search, the list can be of same item worded differently \n",
    "\n",
    "* Initialise a request object to Google search with the item in the list\n",
    "\n",
    "* Collect the list of links that come on the top of the google search\n",
    "\n",
    "    + There are  different outcomes possible depending on the words searched.\n",
    "    \n",
    "    Most probably, additional work might be required at this point to get the main links\n",
    "    \n",
    "* Loop through the list of words, and collect the links\n",
    "\n",
    "After collecting the links, \n",
    "\n",
    "* Call each websites \n",
    "\n",
    "* Get the top page completely\n",
    "\n",
    "* store the page corresponding to the website link\n",
    "\n",
    "There could be multiple data types available in the website\n",
    "   + Text\n",
    "       - Headings\n",
    "       - body containing many para\n",
    "       - tables\n",
    "       - list\n",
    "   + Images\n",
    "   + Links\n",
    "   + Videos(can be links too)"
   ]
  },
  {
   "cell_type": "code",
   "execution_count": 1,
   "id": "22b9cc5f",
   "metadata": {},
   "outputs": [],
   "source": [
    "import pandas as pd\n",
    "import numpy as np\n",
    "import plotly.express as px\n",
    "import plotly.graph_objects as go\n",
    "import dataset\n",
    "from bs4 import BeautifulSoup \n",
    "import requests\n",
    "from urllib.parse import unquote\n",
    "from urllib.parse import urljoin"
   ]
  },
  {
   "cell_type": "code",
   "execution_count": 7,
   "id": "a32f796c",
   "metadata": {},
   "outputs": [],
   "source": [
    "import dataset\n",
    "from bs4 import BeautifulSoup \n",
    "from lxml import html"
   ]
  },
  {
   "cell_type": "code",
   "execution_count": 134,
   "id": "cf52e727",
   "metadata": {},
   "outputs": [
    {
     "data": {
      "text/plain": [
       "'Top+10+solar'"
      ]
     },
     "execution_count": 134,
     "metadata": {},
     "output_type": "execute_result"
    }
   ],
   "source": [
    "'Top 10 solar'."
   ]
  },
  {
   "cell_type": "code",
   "execution_count": 137,
   "id": "de22d8ec",
   "metadata": {},
   "outputs": [],
   "source": [
    "def load_site(link):\n",
    "    #Initiating the session\n",
    "    link = link.replace(' ','+')\n",
    "    scrape = requests.Session()\n",
    "    #Getting the first URL\n",
    "    entry = 'https://www.google.com/search?ie=ISO-8859-1&hl=en-IN&source=hp&biw=&bih=&q='+link\n",
    "    e = scrape.get(entry)\n",
    "    tree = html.fromstring(e.content)\n",
    "    return tree"
   ]
  },
  {
   "cell_type": "code",
   "execution_count": 3,
   "id": "c0816698",
   "metadata": {},
   "outputs": [],
   "source": [
    "#Initiating the session\n",
    "scrape = requests.Session()\n",
    "#Getting the first URL\n",
    "entry = 'https://www.google.com/search?ie=ISO-8859-1&hl=en-IN&source=hp&biw=&bih=&q=solar+power'"
   ]
  },
  {
   "cell_type": "code",
   "execution_count": 4,
   "id": "bb4bf85a",
   "metadata": {},
   "outputs": [],
   "source": [
    "e = scrape.get(entry)"
   ]
  },
  {
   "cell_type": "code",
   "execution_count": 5,
   "id": "d3cecf4a",
   "metadata": {},
   "outputs": [],
   "source": [
    "soup_search = BeautifulSoup(e.text,'html.parser')"
   ]
  },
  {
   "cell_type": "code",
   "execution_count": 13,
   "id": "621cb533",
   "metadata": {},
   "outputs": [],
   "source": [
    "tree = html.fromstring(e.content) #use the source directly in case of Selenium else content"
   ]
  },
  {
   "cell_type": "markdown",
   "id": "5bd285da",
   "metadata": {},
   "source": [
    "div = tree.xpath('//div')"
   ]
  },
  {
   "cell_type": "markdown",
   "id": "f6ddd50f",
   "metadata": {},
   "source": [
    "links = tree.xpath('//div/a/@href')"
   ]
  },
  {
   "cell_type": "markdown",
   "id": "4d48b075",
   "metadata": {},
   "source": [
    "len(links)"
   ]
  },
  {
   "cell_type": "code",
   "execution_count": 88,
   "id": "ef2896a6",
   "metadata": {},
   "outputs": [],
   "source": [
    "filter_text = tree.xpath('//div[contains(@class,\"egMi0 kCrYT\")]')"
   ]
  },
  {
   "cell_type": "code",
   "execution_count": 121,
   "id": "17031214",
   "metadata": {},
   "outputs": [],
   "source": [
    "#Initialize the dataframe\n",
    "link_dataframe = pd.DataFrame()"
   ]
  },
  {
   "cell_type": "code",
   "execution_count": 124,
   "id": "5f981936",
   "metadata": {},
   "outputs": [],
   "source": [
    "for index, link in enumerate(filter_text):\n",
    "    link_dataframe.loc[index,'Site_heading'] = link.text_content().split('›')[0]"
   ]
  },
  {
   "cell_type": "code",
   "execution_count": 96,
   "id": "a3cc1b99",
   "metadata": {},
   "outputs": [],
   "source": [
    "filter_link = tree.xpath('//div[contains(@class,\"egMi0 kCrYT\")]/a')"
   ]
  },
  {
   "cell_type": "code",
   "execution_count": 127,
   "id": "81f83ae2",
   "metadata": {},
   "outputs": [],
   "source": [
    "for index,link in enumerate(filter_link):\n",
    "    temp = link.get('href').split('=')[1]\n",
    "    link_dataframe.loc[index,'Site_link'] = temp.split('&')[0]"
   ]
  },
  {
   "cell_type": "markdown",
   "id": "51c3b84a",
   "metadata": {},
   "source": [
    "The above links works... Yaaahoo"
   ]
  },
  {
   "cell_type": "code",
   "execution_count": 106,
   "id": "8a56075d",
   "metadata": {},
   "outputs": [
    {
     "name": "stdout",
     "output_type": "stream",
     "text": [
      "['/url?q=https://www.energy.gov/eere/solar/how-does-solar-work&sa=U&ved=2ahUKEwjb2o64rsj2AhVeppUCHWNPAgsQFnoECAcQAg&usg=AOvVaw2g9ARQAPDzZXnfOYInWkus']\n",
      "['/url?q=https://en.wikipedia.org/wiki/Solar_power&sa=U&ved=2ahUKEwjb2o64rsj2AhVeppUCHWNPAgsQFnoECAoQAg&usg=AOvVaw18Zewc5k2Cr8GnmRJHiR2S']\n",
      "['/url?q=https://www.nationalgeographic.com/environment/article/solar-power&sa=U&ved=2ahUKEwjb2o64rsj2AhVeppUCHWNPAgsQFnoECAgQAg&usg=AOvVaw0rLZxc5nlP5d8Gqkg0NO8z']\n",
      "['/url?q=https://www.seia.org/initiatives/about-solar-energy&sa=U&ved=2ahUKEwjb2o64rsj2AhVeppUCHWNPAgsQFnoECAYQAg&usg=AOvVaw2Zg61RxemREXKPlLJKcAGa']\n",
      "['/url?q=https://mnre.gov.in/solar/current-status/&sa=U&ved=2ahUKEwjb2o64rsj2AhVeppUCHWNPAgsQFnoECAQQAg&usg=AOvVaw0VbNaIrxXYJeJ4UHb0pf0i']\n",
      "['/url?q=https://www.irena.org/solar&sa=U&ved=2ahUKEwjb2o64rsj2AhVeppUCHWNPAgsQFnoECA0QAg&usg=AOvVaw16EpXR-j0BXYPVhmxtrZMC']\n",
      "['/url?q=https://www.nrel.gov/research/re-solar.html&sa=U&ved=2ahUKEwjb2o64rsj2AhVeppUCHWNPAgsQtwJ6BAgMEAE&usg=AOvVaw1MmLsPisQnSf-T6qNujRC6']\n",
      "['/url?q=https://www.britannica.com/science/solar-energy&sa=U&ved=2ahUKEwjb2o64rsj2AhVeppUCHWNPAgsQFnoECAkQAg&usg=AOvVaw1PLw880pFCXlBzSrzM2HW5']\n",
      "['/url?q=https://www.eia.gov/energyexplained/solar/&sa=U&ved=2ahUKEwjb2o64rsj2AhVeppUCHWNPAgsQFnoECAsQAg&usg=AOvVaw2FuDEXwsfJL0QEzUrzto3j']\n"
     ]
    }
   ],
   "source": [
    "for link in filter_link:\n",
    "    print(link.attrib.values())"
   ]
  },
  {
   "cell_type": "code",
   "execution_count": 138,
   "id": "dd9a03f7",
   "metadata": {},
   "outputs": [],
   "source": [
    "texts = load_site('top 10 solar')"
   ]
  },
  {
   "cell_type": "code",
   "execution_count": 170,
   "id": "50db862e",
   "metadata": {},
   "outputs": [],
   "source": [
    "def extract_link(tree):    \n",
    "    link = []\n",
    "    text = []\n",
    "    \n",
    "    temp = tree.xpath('//div[@class]/a/@href')[8:17]\n",
    "    for t in temp:\n",
    "        link.append(t.split('q=')[1])\n",
    "    \n",
    "    heading = texts.xpath('//h3')\n",
    "    for x in heading:\n",
    "        text.append(x.text_content())\n",
    "    \n",
    "    return link, text"
   ]
  },
  {
   "cell_type": "code",
   "execution_count": 170,
   "id": "da8e29e7",
   "metadata": {},
   "outputs": [],
   "source": [
    "def top_list(tree):    \n",
    "    top = []\n",
    "    \n",
    "    temp = tree.xpath('//div[@class]/a/@href')[8:17]\n",
    "    for t in temp:\n",
    "        link.append(t.split('q=')[1])\n",
    "    \n",
    "    heading = texts.xpath('//h3')\n",
    "    for x in heading:\n",
    "        text.append(x.text_content())\n",
    "    \n",
    "    return link, text"
   ]
  },
  {
   "cell_type": "code",
   "execution_count": 57,
   "id": "8b7b54f2",
   "metadata": {},
   "outputs": [],
   "source": [
    "link_texts = tree.xpath('//a/@href/text()')"
   ]
  },
  {
   "cell_type": "code",
   "execution_count": 171,
   "id": "5468bd0c",
   "metadata": {},
   "outputs": [
    {
     "data": {
      "text/plain": [
       "(['http://www.electronicsandyou.com/top-10-best-solar-companies-in-india.html&sa=U&ved=2ahUKEwiE9YrtyMj2AhWYzjgGHebPAJsQFXoECAkQBA&usg=AOvVaw0upA4EvEsSq7OyRm2HZg9u',\n",
       "  'https://www.loomsolar.com/blogs/reviews/top-10-solar-companies-in-india&sa=U&ved=2ahUKEwiE9YrtyMj2AhWYzjgGHebPAJsQtwJ6BAgAEAE&usg=AOvVaw1wHjyvEbhhMRApyIAabRxP',\n",
       "  'https://www.loomsolar.com/blogs/reviews/top-ten-solar-panel-manufactures-in-the-world&sa=U&ved=2ahUKEwiE9YrtyMj2AhWYzjgGHebPAJsQFnoECAYQAg&usg=AOvVaw0MUctXaKx1QorgEOlg7ppO',\n",
       "  'https://climatebiz.com/best-solar-panel-manufacturers/&sa=U&ved=2ahUKEwiE9YrtyMj2AhWYzjgGHebPAJsQFnoECAcQAg&usg=AOvVaw1XPG8EdcAWkTXEpygZyj6b',\n",
       "  'https://news.energysage.com/best-solar-panel-manufacturers-usa/&sa=U&ved=2ahUKEwiE9YrtyMj2AhWYzjgGHebPAJsQFnoECAgQAg&usg=AOvVaw3VNltZ5s3RPBvW1HxvN3WJ',\n",
       "  'https://www.waaree.com/blog/top-10-solar-companies-in-India-in-2021&sa=U&ved=2ahUKEwiE9YrtyMj2AhWYzjgGHebPAJsQFnoECAEQAg&usg=AOvVaw1FTYheVCCzpEchkUYZRf0c',\n",
       "  'https://www.waaree.com/blog/top-10-solar-panel-manufacturers-in-the-world-2021-expert-reviews&sa=U&ved=2ahUKEwiE9YrtyMj2AhWYzjgGHebPAJsQFnoECAQQAg&usg=AOvVaw3EeQLfnJKJzVBMot-1VBLF',\n",
       "  'https://www.jakson.com/businesses/solar&sa=U&ved=2ahUKEwiE9YrtyMj2AhWYzjgGHebPAJsQFnoECAIQAg&usg=AOvVaw2krXe4O_fOn1fpjWs8mN1c',\n",
       "  'https://www.solstrom.in/top-10-solar-panel-manufacturers-in-india/&sa=U&ved=2ahUKEwiE9YrtyMj2AhWYzjgGHebPAJsQFnoECAMQAg&usg=AOvVaw2ZGyzEY5x79vGj0EdjxiPG'],\n",
       " ['Top 10 Solar Companies in India, 2022',\n",
       "  'Top 10 Solar Panel Manufacturers in the World, 2021 - Expert Reviews',\n",
       "  '10 Best Solar Panel Manufacturers In The World - Climatebiz',\n",
       "  'Top 10 Solar Panel Companies & Manufacturers in 2022',\n",
       "  'Top 10 Solar Companies in India [2022] - Waaree',\n",
       "  'Top 10 Solar Panel Manufacturers in The World (2022) - Waaree',\n",
       "  'Top Solar PV Panel Manufacturers in India - Jakson Group',\n",
       "  'Top 10 Solar Panel Manufacturers in India - Chennai-Tamil Nadu ...'])"
      ]
     },
     "execution_count": 171,
     "metadata": {},
     "output_type": "execute_result"
    }
   ],
   "source": [
    "extract_link(texts)"
   ]
  },
  {
   "cell_type": "code",
   "execution_count": 157,
   "id": "b673f192",
   "metadata": {},
   "outputs": [
    {
     "name": "stdout",
     "output_type": "stream",
     "text": [
      "Top 10 Solar Companies in India, 2022\n",
      "Top 10 Solar Panel Manufacturers in the World, 2021 - Expert Reviews\n",
      "10 Best Solar Panel Manufacturers In The World - Climatebiz\n",
      "Top 10 Solar Panel Companies & Manufacturers in 2022\n",
      "Top 10 Solar Companies in India [2022] - Waaree\n",
      "Top 10 Solar Panel Manufacturers in The World (2022) - Waaree\n",
      "Top Solar PV Panel Manufacturers in India - Jakson Group\n",
      "Top 10 Solar Panel Manufacturers in India - Chennai-Tamil Nadu ...\n"
     ]
    }
   ],
   "source": [
    "heading = texts.xpath('//h3')\n",
    "for x in heading:\n",
    "    print(x.text_content())"
   ]
  },
  {
   "cell_type": "code",
   "execution_count": 169,
   "id": "6195bc39",
   "metadata": {},
   "outputs": [
    {
     "name": "stdout",
     "output_type": "stream",
     "text": [
      "['zBAuLc l97dzf']\n",
      "['zBAuLc l97dzf']\n",
      "['zBAuLc l97dzf']\n",
      "['zBAuLc l97dzf']\n",
      "['zBAuLc l97dzf']\n",
      "['zBAuLc l97dzf']\n",
      "['zBAuLc l97dzf']\n",
      "['zBAuLc l97dzf']\n"
     ]
    }
   ],
   "source": [
    "heading = texts.xpath('//h3')\n",
    "for x in heading:\n",
    "    print(x.)"
   ]
  },
  {
   "cell_type": "code",
   "execution_count": null,
   "id": "e5d1264e",
   "metadata": {},
   "outputs": [],
   "source": []
  }
 ],
 "metadata": {
  "kernelspec": {
   "display_name": "Python 3 (ipykernel)",
   "language": "python",
   "name": "python3"
  },
  "language_info": {
   "codemirror_mode": {
    "name": "ipython",
    "version": 3
   },
   "file_extension": ".py",
   "mimetype": "text/x-python",
   "name": "python",
   "nbconvert_exporter": "python",
   "pygments_lexer": "ipython3",
   "version": "3.7.12"
  }
 },
 "nbformat": 4,
 "nbformat_minor": 5
}

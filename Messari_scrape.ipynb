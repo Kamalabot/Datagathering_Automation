{
 "cells": [
  {
   "cell_type": "markdown",
   "metadata": {},
   "source": [
    "There were lessons learnt from Amazon, Sourashtramatrimoni, Linkedin websites. There were unique challenges in each cases and the scraping was not exactly very successful. \n",
    "\n",
    "There are couple of ideas still not fully explored, \n",
    "\n",
    "    Using XSLT or XML libraries to scrape the sources\n",
    "\n",
    "    Using Xpath to pinpoint the text required\n",
    "\n",
    "The challenge is only in locating a reliable reference point to the texts in the website sources. It is about time I used the X_path and X_query effectively for my next project. \n",
    "\n",
    "The above ideas has been made real in this notebook. The Xpath usage has been greatly streamlined and understood. Following that, much of the ReactJS based website has been scraped with help of Xpath methods\n",
    "\n",
    "Then extend that to earlier implementations..."
   ]
  },
  {
   "cell_type": "code",
   "execution_count": 1,
   "metadata": {},
   "outputs": [],
   "source": [
    "#Initiating the Selenium Drivers\n",
    "from selenium import webdriver\n",
    "import time as time\n",
    "from selenium.common.exceptions import NoSuchElementException\n",
    "from selenium.common.exceptions import ElementNotInteractableException\n",
    "from selenium.webdriver.chrome.options import Options\n",
    "import warnings\n",
    "warnings.filterwarnings('ignore')"
   ]
  },
  {
   "cell_type": "code",
   "execution_count": 2,
   "metadata": {},
   "outputs": [],
   "source": [
    "import pandas as pd\n",
    "import numpy as np\n",
    "import plotly.express as px\n",
    "import plotly.graph_objects as go\n",
    "import dataset\n",
    "from bs4 import BeautifulSoup \n",
    "from lxml import html\n",
    "import requests\n",
    "from urllib.parse import unquote\n",
    "from urllib.parse import urljoin"
   ]
  },
  {
   "cell_type": "code",
   "execution_count": 3,
   "metadata": {},
   "outputs": [],
   "source": [
    "entry = 'https://www.messari.io'"
   ]
  },
  {
   "cell_type": "code",
   "execution_count": 4,
   "metadata": {},
   "outputs": [],
   "source": [
    "driver = webdriver.Chrome()\n",
    "driver.get(entry)\n",
    "driver.maximize_window()"
   ]
  },
  {
   "cell_type": "code",
   "execution_count": 5,
   "metadata": {},
   "outputs": [],
   "source": [
    "html_source = driver.page_source\n",
    "soup_net = BeautifulSoup(html_source,'html.parser')\n",
    "driver.quit()"
   ]
  },
  {
   "cell_type": "code",
   "execution_count": 8,
   "metadata": {},
   "outputs": [],
   "source": [
    "soup_lxml = BeautifulSoup(html_source,'lxml')"
   ]
  },
  {
   "cell_type": "code",
   "execution_count": 6,
   "metadata": {},
   "outputs": [],
   "source": [
    "tree = html.fromstring(html_source) #use the source directly"
   ]
  },
  {
   "cell_type": "code",
   "execution_count": 56,
   "metadata": {},
   "outputs": [],
   "source": [
    "#This is the long process\n",
    "#tree.xpath('//section[2]/div/div[2]/div[2]/table/tbody/tr/td/div/span/a/text()')\n",
    "#crypto_links = tree.xpath('//section[2]/div/div[2]/div[2]/table/tbody/tr/td/div/span/a/@href')\n",
    "\n",
    "#Trying the shorter Xpath robust process\n",
    "tbod = tree.xpath('//tbody[contains(@class,\"MuiTableBody-root\")]')[0]\n",
    "\n",
    "ecosystem = []\n",
    "for crypto in tbod.xpath('//a/@href')[11:42]:\n",
    "    ecosystem.append(urljoin('https://messari.io/',crypto))"
   ]
  },
  {
   "cell_type": "code",
   "execution_count": 57,
   "metadata": {},
   "outputs": [
    {
     "data": {
      "text/plain": [
       "30"
      ]
     },
     "execution_count": 57,
     "metadata": {},
     "output_type": "execute_result"
    }
   ],
   "source": [
    "cryptos = tbod.xpath('//a/text()')[5:35]\n",
    "len(cryptos)\n",
    "\n",
    "ecosystem.pop(15) # It ejects one of the elements from the list\n",
    "len(ecosystem)"
   ]
  },
  {
   "cell_type": "code",
   "execution_count": 170,
   "metadata": {},
   "outputs": [
    {
     "data": {
      "text/html": [
       "<div>\n",
       "<style scoped>\n",
       "    .dataframe tbody tr th:only-of-type {\n",
       "        vertical-align: middle;\n",
       "    }\n",
       "\n",
       "    .dataframe tbody tr th {\n",
       "        vertical-align: top;\n",
       "    }\n",
       "\n",
       "    .dataframe thead th {\n",
       "        text-align: right;\n",
       "    }\n",
       "</style>\n",
       "<table border=\"1\" class=\"dataframe\">\n",
       "  <thead>\n",
       "    <tr style=\"text-align: right;\">\n",
       "      <th></th>\n",
       "      <th>ecosystems</th>\n",
       "      <th>links</th>\n",
       "    </tr>\n",
       "  </thead>\n",
       "  <tbody>\n",
       "    <tr>\n",
       "      <th>0</th>\n",
       "      <td>Bitcoin</td>\n",
       "      <td>https://messari.io/asset/bitcoin</td>\n",
       "    </tr>\n",
       "    <tr>\n",
       "      <th>1</th>\n",
       "      <td>Ethereum</td>\n",
       "      <td>https://messari.io/asset/ethereum</td>\n",
       "    </tr>\n",
       "    <tr>\n",
       "      <th>2</th>\n",
       "      <td>Tether</td>\n",
       "      <td>https://messari.io/asset/tether</td>\n",
       "    </tr>\n",
       "    <tr>\n",
       "      <th>3</th>\n",
       "      <td>USD Coin</td>\n",
       "      <td>https://messari.io/asset/usd-coin</td>\n",
       "    </tr>\n",
       "    <tr>\n",
       "      <th>4</th>\n",
       "      <td>XRP</td>\n",
       "      <td>https://messari.io/asset/xrp</td>\n",
       "    </tr>\n",
       "  </tbody>\n",
       "</table>\n",
       "</div>"
      ],
      "text/plain": [
       "  ecosystems                              links\n",
       "0    Bitcoin   https://messari.io/asset/bitcoin\n",
       "1   Ethereum  https://messari.io/asset/ethereum\n",
       "2     Tether    https://messari.io/asset/tether\n",
       "3   USD Coin  https://messari.io/asset/usd-coin\n",
       "4        XRP       https://messari.io/asset/xrp"
      ]
     },
     "execution_count": 170,
     "metadata": {},
     "output_type": "execute_result"
    }
   ],
   "source": [
    "#Creating the dataframes with the links and the cryptos/ ecosystem to explore\n",
    "messari_crawler = pd.DataFrame({'ecosystems':cryptos,'links':ecosystem})\n",
    "messari_crawler.head()"
   ]
  },
  {
   "cell_type": "code",
   "execution_count": 41,
   "metadata": {},
   "outputs": [
    {
     "data": {
      "text/plain": [
       "['$55.06', '$3.38B', '+8.28%']"
      ]
     },
     "execution_count": 41,
     "metadata": {},
     "output_type": "execute_result"
    }
   ],
   "source": [
    "#Xpath understanding sputters then dies down\n",
    "tree.xpath('//tbody[@class=\"MuiTableBody-root jss195 jss768\"]/tr[1]/td/div/span/text()')"
   ]
  },
  {
   "cell_type": "code",
   "execution_count": 63,
   "metadata": {},
   "outputs": [
    {
     "data": {
      "text/plain": [
       "'https://messari.io/asset/bitcoin'"
      ]
     },
     "execution_count": 63,
     "metadata": {},
     "output_type": "execute_result"
    }
   ],
   "source": [
    "#let me call one of the crypto profile pages using the selenium, new driver\n",
    "messari_crawler.links[0]"
   ]
  },
  {
   "cell_type": "code",
   "execution_count": 87,
   "metadata": {},
   "outputs": [
    {
     "data": {
      "text/plain": [
       "[]"
      ]
     },
     "execution_count": 87,
     "metadata": {},
     "output_type": "execute_result"
    }
   ],
   "source": [
    "#none of the below work to get the data required, since the website is ReactJS basis\n",
    "tree.xpath('//table/@class')\n",
    "tree.xpath('//section/@class')[:5]\n",
    "tree.xpath('//span[.=\"Top Assets\"]/text()')\n",
    "tree.xpath('//div/@class=jss38') \n",
    "tree.xpath('//div/@class')[:10]\n",
    "tree.xpath('//table/tbody[@class=\"MuiTable-root jss192 jss750\"]')\n",
    "#expression is correct, but no resullt...\n",
    "tree.xpath('//thead/@*')"
   ]
  },
  {
   "cell_type": "code",
   "execution_count": 64,
   "metadata": {},
   "outputs": [],
   "source": [
    "crypto_driver = webdriver.Chrome()\n",
    "crypto_driver.get(messari_crawler.links[0])"
   ]
  },
  {
   "cell_type": "markdown",
   "metadata": {},
   "source": [
    "1) Find the various major tables or sections on the profile page\n",
    "    Extract the information from that page section /table\n",
    "\n",
    "2) Find the tabs on the profile page. \n",
    "    get their links\n",
    "\n",
    "3) Find the Key Areas and list them\n",
    "    Get the details under key metrics, key info and summary\n",
    "\n"
   ]
  },
  {
   "cell_type": "markdown",
   "metadata": {},
   "source": [
    "![](2022-02-21-16-28-05.png)"
   ]
  },
  {
   "cell_type": "code",
   "execution_count": 70,
   "metadata": {},
   "outputs": [
    {
     "name": "stdout",
     "output_type": "stream",
     "text": [
      "Overview\n",
      "Profile\n",
      "Markets\n",
      "Metrics\n",
      "Historical Data\n",
      "Charts\n",
      "Research\n",
      "Events\n",
      "News\n"
     ]
    }
   ],
   "source": [
    "#failed attempts at getting the top_tabs, don't run\n",
    "\n",
    "crypto_driver.find_element_by_xpath('//span').text\n",
    "\n",
    "tabs = crypto_driver.find_elements_by_xpath('//span')\n",
    "for tab in tabs[12:21]:\n",
    "    print(tab.text)"
   ]
  },
  {
   "cell_type": "markdown",
   "metadata": {},
   "source": [
    "Tabs to be clicked on every page by the driver, when it crawls are\n",
    "\n",
    "Overview, \n",
    "Profile\n",
    "Markets\n",
    "Metrics\n",
    "Research\n",
    "News"
   ]
  },
  {
   "cell_type": "code",
   "execution_count": 95,
   "metadata": {},
   "outputs": [],
   "source": [
    "tabs = crypto_driver.find_elements_by_xpath('//a[@role=\"tab\"]')\n",
    "profile_page = []\n",
    "for tab in tabs[1:9]:\n",
    "    profile_page.append(tab.get_attribute('href'))"
   ]
  },
  {
   "cell_type": "code",
   "execution_count": 96,
   "metadata": {},
   "outputs": [
    {
     "data": {
      "text/plain": [
       "['https://messari.io/asset/bitcoin/profile',\n",
       " 'https://messari.io/asset/bitcoin/markets',\n",
       " 'https://messari.io/asset/bitcoin/metrics',\n",
       " 'https://messari.io/asset/bitcoin/research',\n",
       " 'https://messari.io/asset/bitcoin/news']"
      ]
     },
     "execution_count": 96,
     "metadata": {},
     "output_type": "execute_result"
    }
   ],
   "source": [
    "profile_page.pop(3)\n",
    "profile_page.pop(3)\n",
    "profile_page.pop(4)\n",
    "profile_page"
   ]
  },
  {
   "cell_type": "code",
   "execution_count": 97,
   "metadata": {},
   "outputs": [
    {
     "name": "stdout",
     "output_type": "stream",
     "text": [
      "ROI\n",
      "KEY INFO\n",
      "SUMMARY\n",
      "distributed consensus-based\n",
      "full nodes\n",
      "miners\n",
      "game theory\n",
      "cryptography\n",
      "PRICE LOOKUP\n",
      "HISTORICAL DATA\n",
      "\n",
      "\n"
     ]
    }
   ],
   "source": [
    "#Finding the key areas and listing them... which I found were redundant\n",
    "tabs = crypto_driver.find_elements_by_xpath('//a[not(@role=\"tab\")]')\n",
    "for tab in tabs[10:22]:\n",
    "    print(tab.text)"
   ]
  },
  {
   "cell_type": "code",
   "execution_count": 126,
   "metadata": {},
   "outputs": [],
   "source": [
    "#The ends-with option is not working Chrome-browser so need to use substring, not working\n",
    "span_data = crypto_driver.find_elements_by_xpath('//span[\"ion\"=substring(@class,string-length(@class),string-length(@class)-3)]')\n",
    "#//div[substring(@title, string-length(@title) - 2) = 'gle']\n",
    "#//input['name'=substring(@name,5,8)]\n",
    "for dat in span_data:\n",
    "    print(dat.text)"
   ]
  },
  {
   "cell_type": "code",
   "execution_count": 162,
   "metadata": {},
   "outputs": [],
   "source": [
    "#using the simple array manipulation to get the data\n",
    "profile_columns = [] #The columns on which the values will be filled \n",
    "span_data = crypto_driver.find_elements_by_xpath('//span[contains(@class,\"jss\")]')\n",
    "#//div[substring(@title, string-length(@title) - 2) = 'gle']\n",
    "#//input['name'=substring(@name,5,8)]\n",
    "for dat in span_data[35:46]:\n",
    "    profile_columns.append(dat.text)\n",
    "\n",
    "for dat in span_data[89:95]:\n",
    "    profile_columns.append(dat.text)"
   ]
  },
  {
   "cell_type": "code",
   "execution_count": 163,
   "metadata": {},
   "outputs": [
    {
     "data": {
      "text/plain": [
       "'-43.62%'"
      ]
     },
     "execution_count": 163,
     "metadata": {},
     "output_type": "execute_result"
    }
   ],
   "source": [
    "profile_columns.pop(7)"
   ]
  },
  {
   "cell_type": "code",
   "execution_count": 164,
   "metadata": {},
   "outputs": [
    {
     "data": {
      "text/plain": [
       "'Down from ATH'"
      ]
     },
     "execution_count": 164,
     "metadata": {},
     "output_type": "execute_result"
    }
   ],
   "source": [
    "profile_columns.pop(6)#down from ATH"
   ]
  },
  {
   "cell_type": "code",
   "execution_count": 166,
   "metadata": {},
   "outputs": [
    {
     "data": {
      "text/plain": [
       "'Up From Cycle Low'"
      ]
     },
     "execution_count": 166,
     "metadata": {},
     "output_type": "execute_result"
    }
   ],
   "source": [
    "profile_columns.pop(8)"
   ]
  },
  {
   "cell_type": "code",
   "execution_count": 152,
   "metadata": {},
   "outputs": [
    {
     "name": "stdout",
     "output_type": "stream",
     "text": [
      "$4.86B\n",
      "$738B\n",
      "$803B\n",
      "$816B\n",
      "$68,721.93\n",
      "November 10th, 2021\n",
      "$33,116.00\n",
      "January 24th, 2022\n",
      "Currencies\n",
      "Native\n",
      "Payments\n",
      "Proof-of-Work\n",
      "Nakamoto Consensus\n",
      "January 3rd, 2009\n",
      "\n"
     ]
    }
   ],
   "source": [
    "span_data = crypto_driver.find_elements_by_xpath('//span[not(contains(@class,\"jss\"))]')\n",
    "for dat in span_data[10:25]:\n",
    "    print(dat.text)"
   ]
  },
  {
   "cell_type": "code",
   "execution_count": 167,
   "metadata": {},
   "outputs": [
    {
     "data": {
      "text/plain": [
       "14"
      ]
     },
     "execution_count": 167,
     "metadata": {},
     "output_type": "execute_result"
    }
   ],
   "source": [
    "len(profile_columns)"
   ]
  },
  {
   "cell_type": "code",
   "execution_count": 169,
   "metadata": {},
   "outputs": [
    {
     "data": {
      "text/plain": [
       "14"
      ]
     },
     "execution_count": 169,
     "metadata": {},
     "output_type": "execute_result"
    }
   ],
   "source": [
    "len(span_data[10:24])"
   ]
  },
  {
   "cell_type": "code",
   "execution_count": 172,
   "metadata": {},
   "outputs": [
    {
     "name": "stdout",
     "output_type": "stream",
     "text": [
      "Real Volume (24H)\n",
      "Marketcap\n",
      "Y+10 Marketcap\n",
      "Y2050 Marketcap\n",
      "ATH\n",
      "ATH Date\n",
      "Cycle Low\n",
      "Cycle Low Date\n",
      "Sector\n",
      "Token Type\n",
      "Token Usage\n",
      "Consensus Algorithm\n",
      "Precise Consensus Algorithm\n",
      "Genesis Block Date\n"
     ]
    }
   ],
   "source": [
    "for index,cols in enumerate(profile_columns):\n",
    "    print(cols)\n",
    "    messari_crawler.loc[0,cols] = span_data[10:25][index].text"
   ]
  },
  {
   "cell_type": "code",
   "execution_count": 173,
   "metadata": {},
   "outputs": [
    {
     "data": {
      "text/plain": [
       "Index(['ecosystems', 'links', 'Real Volume (24H)', 'Marketcap',\n",
       "       'Y+10 Marketcap', 'Y2050 Marketcap', 'ATH', 'ATH Date', 'Cycle Low',\n",
       "       'Cycle Low Date', 'Sector', 'Token Type', 'Token Usage',\n",
       "       'Consensus Algorithm', 'Precise Consensus Algorithm',\n",
       "       'Genesis Block Date'],\n",
       "      dtype='object')"
      ]
     },
     "execution_count": 173,
     "metadata": {},
     "output_type": "execute_result"
    }
   ],
   "source": [
    "messari_crawler.columns"
   ]
  },
  {
   "cell_type": "code",
   "execution_count": null,
   "metadata": {},
   "outputs": [],
   "source": []
  },
  {
   "cell_type": "code",
   "execution_count": null,
   "metadata": {},
   "outputs": [],
   "source": []
  },
  {
   "cell_type": "code",
   "execution_count": null,
   "metadata": {},
   "outputs": [],
   "source": []
  }
 ],
 "metadata": {
  "interpreter": {
   "hash": "a42c93b5eee6b56421653baa65deacde473063d5c4965d27c7a75f4e31a8d403"
  },
  "kernelspec": {
   "display_name": "Python 3 (ipykernel)",
   "language": "python",
   "name": "python3"
  },
  "language_info": {
   "codemirror_mode": {
    "name": "ipython",
    "version": 3
   },
   "file_extension": ".py",
   "mimetype": "text/x-python",
   "name": "python",
   "nbconvert_exporter": "python",
   "pygments_lexer": "ipython3",
   "version": "3.7.12"
  }
 },
 "nbformat": 4,
 "nbformat_minor": 2
}

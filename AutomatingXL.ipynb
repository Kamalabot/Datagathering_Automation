{
 "cells": [
  {
   "cell_type": "markdown",
   "id": "5fe53d59",
   "metadata": {},
   "source": [
    "### This file is used to resolve issue #5"
   ]
  },
  {
   "cell_type": "code",
   "execution_count": 1,
   "id": "179a2f48",
   "metadata": {
    "extensions": {
     "jupyter_dashboards": {
      "version": 1,
      "views": {
       "default_view": {
        "hidden": true
       }
      }
     }
    }
   },
   "outputs": [],
   "source": [
    "import pandas as pd\n",
    "import numpy as np\n",
    "import os \n",
    "import openpyxl\n",
    "from pathlib import Path\n",
    "import datetime\n",
    "import warnings\n",
    "warnings.filterwarnings('ignore')"
   ]
  },
  {
   "cell_type": "code",
   "execution_count": 2,
   "id": "94127c56",
   "metadata": {
    "extensions": {
     "jupyter_dashboards": {
      "version": 1,
      "views": {
       "default_view": {
        "col": 0,
        "height": 2,
        "row": 2,
        "width": 12
       }
      }
     }
    }
   },
   "outputs": [
    {
     "data": {
      "text/plain": [
       "WindowsPath('C:/WorkFiles/WPy64-37120/notebooks/Datagathering_Automation')"
      ]
     },
     "execution_count": 2,
     "metadata": {},
     "output_type": "execute_result"
    }
   ],
   "source": [
    "file_loc = Path('W38S12BS1B5-07A065_testdata.xlsx').resolve().parent\n",
    "file_loc"
   ]
  },
  {
   "cell_type": "code",
   "execution_count": 3,
   "id": "65e5924c",
   "metadata": {
    "extensions": {
     "jupyter_dashboards": {
      "version": 1,
      "views": {
       "default_view": {
        "col": 0,
        "height": 2,
        "row": 4,
        "width": 12
       }
      }
     }
    }
   },
   "outputs": [
    {
     "data": {
      "text/html": [
       "<div>\n",
       "<style scoped>\n",
       "    .dataframe tbody tr th:only-of-type {\n",
       "        vertical-align: middle;\n",
       "    }\n",
       "\n",
       "    .dataframe tbody tr th {\n",
       "        vertical-align: top;\n",
       "    }\n",
       "\n",
       "    .dataframe thead th {\n",
       "        text-align: right;\n",
       "    }\n",
       "</style>\n",
       "<table border=\"1\" class=\"dataframe\">\n",
       "  <thead>\n",
       "    <tr style=\"text-align: right;\">\n",
       "      <th></th>\n",
       "      <th>Unnamed: 0</th>\n",
       "      <th>Unnamed: 1</th>\n",
       "      <th>Unnamed: 2</th>\n",
       "      <th>Unnamed: 3</th>\n",
       "      <th>Unnamed: 4</th>\n",
       "      <th>Unnamed: 5</th>\n",
       "      <th>Unnamed: 6</th>\n",
       "      <th>Unnamed: 7</th>\n",
       "      <th>Unnamed: 8</th>\n",
       "      <th>Unnamed: 9</th>\n",
       "      <th>Unnamed: 10</th>\n",
       "      <th>Unnamed: 11</th>\n",
       "      <th>Unnamed: 12</th>\n",
       "      <th>Unnamed: 13</th>\n",
       "      <th>Unnamed: 14</th>\n",
       "      <th>Unnamed: 15</th>\n",
       "      <th>Unnamed: 16</th>\n",
       "      <th>Unnamed: 17</th>\n",
       "    </tr>\n",
       "  </thead>\n",
       "  <tbody>\n",
       "    <tr>\n",
       "      <th>0</th>\n",
       "      <td>85℃/-40℃</td>\n",
       "      <td>NaN</td>\n",
       "      <td>NaN</td>\n",
       "      <td>Max</td>\n",
       "      <td>Nominal</td>\n",
       "      <td>Min</td>\n",
       "      <td>NaN</td>\n",
       "      <td>NaN</td>\n",
       "      <td>NaN</td>\n",
       "      <td>NaN</td>\n",
       "      <td>NaN</td>\n",
       "      <td>NaN</td>\n",
       "      <td>NaN</td>\n",
       "      <td>NaN</td>\n",
       "      <td>NaN</td>\n",
       "      <td>NaN</td>\n",
       "      <td>NaN</td>\n",
       "      <td>NaN</td>\n",
       "    </tr>\n",
       "    <tr>\n",
       "      <th>1</th>\n",
       "      <td>轴水平</td>\n",
       "      <td>20%回転数(min-1）</td>\n",
       "      <td>NaN</td>\n",
       "      <td>5500</td>\n",
       "      <td>5000</td>\n",
       "      <td>4500</td>\n",
       "      <td>NaN</td>\n",
       "      <td>NaN</td>\n",
       "      <td>NaN</td>\n",
       "      <td>NaN</td>\n",
       "      <td>NaN</td>\n",
       "      <td>NaN</td>\n",
       "      <td>NaN</td>\n",
       "      <td>NaN</td>\n",
       "      <td>NaN</td>\n",
       "      <td>NaN</td>\n",
       "      <td>NaN</td>\n",
       "      <td>NaN</td>\n",
       "    </tr>\n",
       "    <tr>\n",
       "      <th>2</th>\n",
       "      <td>50台</td>\n",
       "      <td>100%回転数(min-1）</td>\n",
       "      <td>NaN</td>\n",
       "      <td>27500</td>\n",
       "      <td>25000</td>\n",
       "      <td>22500</td>\n",
       "      <td>NaN</td>\n",
       "      <td>NaN</td>\n",
       "      <td>NaN</td>\n",
       "      <td>NaN</td>\n",
       "      <td>NaN</td>\n",
       "      <td>NaN</td>\n",
       "      <td>NaN</td>\n",
       "      <td>NaN</td>\n",
       "      <td>NaN</td>\n",
       "      <td>NaN</td>\n",
       "      <td>NaN</td>\n",
       "      <td>NaN</td>\n",
       "    </tr>\n",
       "    <tr>\n",
       "      <th>3</th>\n",
       "      <td>360H</td>\n",
       "      <td>20%電流値</td>\n",
       "      <td>NaN</td>\n",
       "      <td>0.11</td>\n",
       "      <td>-</td>\n",
       "      <td>-</td>\n",
       "      <td>NaN</td>\n",
       "      <td>NaN</td>\n",
       "      <td>NaN</td>\n",
       "      <td>NaN</td>\n",
       "      <td>NaN</td>\n",
       "      <td>NaN</td>\n",
       "      <td>NaN</td>\n",
       "      <td>NaN</td>\n",
       "      <td>NaN</td>\n",
       "      <td>NaN</td>\n",
       "      <td>NaN</td>\n",
       "      <td>NaN</td>\n",
       "    </tr>\n",
       "    <tr>\n",
       "      <th>4</th>\n",
       "      <td>NaN</td>\n",
       "      <td>100%電流値</td>\n",
       "      <td>NaN</td>\n",
       "      <td>0.84</td>\n",
       "      <td>0.77</td>\n",
       "      <td>-</td>\n",
       "      <td>NaN</td>\n",
       "      <td>NaN</td>\n",
       "      <td>NaN</td>\n",
       "      <td>NaN</td>\n",
       "      <td>NaN</td>\n",
       "      <td>NaN</td>\n",
       "      <td>NaN</td>\n",
       "      <td>NaN</td>\n",
       "      <td>NaN</td>\n",
       "      <td>NaN</td>\n",
       "      <td>NaN</td>\n",
       "      <td>NaN</td>\n",
       "    </tr>\n",
       "    <tr>\n",
       "      <th>5</th>\n",
       "      <td>NaN</td>\n",
       "      <td>NaN</td>\n",
       "      <td>NaN</td>\n",
       "      <td>NaN</td>\n",
       "      <td>NaN</td>\n",
       "      <td>NaN</td>\n",
       "      <td>NaN</td>\n",
       "      <td>NaN</td>\n",
       "      <td>NaN</td>\n",
       "      <td>NaN</td>\n",
       "      <td>NaN</td>\n",
       "      <td>NaN</td>\n",
       "      <td>NaN</td>\n",
       "      <td>NaN</td>\n",
       "      <td>NaN</td>\n",
       "      <td>NaN</td>\n",
       "      <td>NaN</td>\n",
       "      <td>NaN</td>\n",
       "    </tr>\n",
       "    <tr>\n",
       "      <th>6</th>\n",
       "      <td>NaN</td>\n",
       "      <td>No.</td>\n",
       "      <td>NaN</td>\n",
       "      <td>NaN</td>\n",
       "      <td>NaN</td>\n",
       "      <td>NaN</td>\n",
       "      <td>NaN</td>\n",
       "      <td>NaN</td>\n",
       "      <td>NaN</td>\n",
       "      <td>NaN</td>\n",
       "      <td>NaN</td>\n",
       "      <td>NaN</td>\n",
       "      <td>NaN</td>\n",
       "      <td>NaN</td>\n",
       "      <td>NaN</td>\n",
       "      <td>NaN</td>\n",
       "      <td>NaN</td>\n",
       "      <td>NaN</td>\n",
       "    </tr>\n",
       "    <tr>\n",
       "      <th>7</th>\n",
       "      <td>NaN</td>\n",
       "      <td>測定日</td>\n",
       "      <td>2022-01-08 00:00:00</td>\n",
       "      <td>2022-01-09 00:00:00</td>\n",
       "      <td>2022-01-10 00:00:00</td>\n",
       "      <td>2022-01-11 00:00:00</td>\n",
       "      <td>2022-01-12 00:00:00</td>\n",
       "      <td>2022-01-13 00:00:00</td>\n",
       "      <td>2022-01-14 00:00:00</td>\n",
       "      <td>2022-01-15 00:00:00</td>\n",
       "      <td>2022-01-16 00:00:00</td>\n",
       "      <td>2022-01-17 00:00:00</td>\n",
       "      <td>2022-01-18 00:00:00</td>\n",
       "      <td>2022-01-19 00:00:00</td>\n",
       "      <td>2022-01-20 00:00:00</td>\n",
       "      <td>2022-01-21 00:00:00</td>\n",
       "      <td>2022-01-22 00:00:00</td>\n",
       "      <td>2022-01-22 00:00:00</td>\n",
       "    </tr>\n",
       "    <tr>\n",
       "      <th>8</th>\n",
       "      <td>NaN</td>\n",
       "      <td>取付け日</td>\n",
       "      <td>2022-01-08 00:00:00</td>\n",
       "      <td>2022-01-09 00:00:00</td>\n",
       "      <td>2022-01-10 00:00:00</td>\n",
       "      <td>2022-01-11 00:00:00</td>\n",
       "      <td>2022-01-12 00:00:00</td>\n",
       "      <td>2022-01-13 00:00:00</td>\n",
       "      <td>2022-01-14 00:00:00</td>\n",
       "      <td>2022-01-15 00:00:00</td>\n",
       "      <td>2022-01-16 00:00:00</td>\n",
       "      <td>2022-01-17 00:00:00</td>\n",
       "      <td>2022-01-18 00:00:00</td>\n",
       "      <td>2022-01-19 00:00:00</td>\n",
       "      <td>2022-01-20 00:00:00</td>\n",
       "      <td>2022-01-21 00:00:00</td>\n",
       "      <td>2022-01-22 00:00:00</td>\n",
       "      <td>2022-01-22 00:00:00</td>\n",
       "    </tr>\n",
       "    <tr>\n",
       "      <th>9</th>\n",
       "      <td>NaN</td>\n",
       "      <td>测试次数</td>\n",
       "      <td>1</td>\n",
       "      <td>2</td>\n",
       "      <td>3</td>\n",
       "      <td>4</td>\n",
       "      <td>5</td>\n",
       "      <td>6</td>\n",
       "      <td>7</td>\n",
       "      <td>8</td>\n",
       "      <td>9</td>\n",
       "      <td>10</td>\n",
       "      <td>11</td>\n",
       "      <td>12</td>\n",
       "      <td>13</td>\n",
       "      <td>14</td>\n",
       "      <td>15</td>\n",
       "      <td>16</td>\n",
       "    </tr>\n",
       "  </tbody>\n",
       "</table>\n",
       "</div>"
      ],
      "text/plain": [
       "  Unnamed: 0      Unnamed: 1           Unnamed: 2           Unnamed: 3  \\\n",
       "0   85℃/-40℃             NaN                  NaN                  Max   \n",
       "1        轴水平   20%回転数(min-1）                  NaN                 5500   \n",
       "2        50台  100%回転数(min-1）                  NaN                27500   \n",
       "3       360H         20%電流値                   NaN                 0.11   \n",
       "4        NaN        100%電流値                   NaN                 0.84   \n",
       "5        NaN             NaN                  NaN                  NaN   \n",
       "6        NaN             No.                  NaN                  NaN   \n",
       "7        NaN             測定日  2022-01-08 00:00:00  2022-01-09 00:00:00   \n",
       "8        NaN            取付け日  2022-01-08 00:00:00  2022-01-09 00:00:00   \n",
       "9        NaN            测试次数                    1                    2   \n",
       "\n",
       "            Unnamed: 4           Unnamed: 5           Unnamed: 6  \\\n",
       "0              Nominal                  Min                  NaN   \n",
       "1                 5000                 4500                  NaN   \n",
       "2                25000                22500                  NaN   \n",
       "3                    -                    -                  NaN   \n",
       "4                 0.77                    -                  NaN   \n",
       "5                  NaN                  NaN                  NaN   \n",
       "6                  NaN                  NaN                  NaN   \n",
       "7  2022-01-10 00:00:00  2022-01-11 00:00:00  2022-01-12 00:00:00   \n",
       "8  2022-01-10 00:00:00  2022-01-11 00:00:00  2022-01-12 00:00:00   \n",
       "9                    3                    4                    5   \n",
       "\n",
       "            Unnamed: 7           Unnamed: 8           Unnamed: 9  \\\n",
       "0                  NaN                  NaN                  NaN   \n",
       "1                  NaN                  NaN                  NaN   \n",
       "2                  NaN                  NaN                  NaN   \n",
       "3                  NaN                  NaN                  NaN   \n",
       "4                  NaN                  NaN                  NaN   \n",
       "5                  NaN                  NaN                  NaN   \n",
       "6                  NaN                  NaN                  NaN   \n",
       "7  2022-01-13 00:00:00  2022-01-14 00:00:00  2022-01-15 00:00:00   \n",
       "8  2022-01-13 00:00:00  2022-01-14 00:00:00  2022-01-15 00:00:00   \n",
       "9                    6                    7                    8   \n",
       "\n",
       "           Unnamed: 10          Unnamed: 11          Unnamed: 12  \\\n",
       "0                  NaN                  NaN                  NaN   \n",
       "1                  NaN                  NaN                  NaN   \n",
       "2                  NaN                  NaN                  NaN   \n",
       "3                  NaN                  NaN                  NaN   \n",
       "4                  NaN                  NaN                  NaN   \n",
       "5                  NaN                  NaN                  NaN   \n",
       "6                  NaN                  NaN                  NaN   \n",
       "7  2022-01-16 00:00:00  2022-01-17 00:00:00  2022-01-18 00:00:00   \n",
       "8  2022-01-16 00:00:00  2022-01-17 00:00:00  2022-01-18 00:00:00   \n",
       "9                    9                   10                   11   \n",
       "\n",
       "           Unnamed: 13          Unnamed: 14          Unnamed: 15  \\\n",
       "0                  NaN                  NaN                  NaN   \n",
       "1                  NaN                  NaN                  NaN   \n",
       "2                  NaN                  NaN                  NaN   \n",
       "3                  NaN                  NaN                  NaN   \n",
       "4                  NaN                  NaN                  NaN   \n",
       "5                  NaN                  NaN                  NaN   \n",
       "6                  NaN                  NaN                  NaN   \n",
       "7  2022-01-19 00:00:00  2022-01-20 00:00:00  2022-01-21 00:00:00   \n",
       "8  2022-01-19 00:00:00  2022-01-20 00:00:00  2022-01-21 00:00:00   \n",
       "9                   12                   13                   14   \n",
       "\n",
       "           Unnamed: 16          Unnamed: 17  \n",
       "0                  NaN                  NaN  \n",
       "1                  NaN                  NaN  \n",
       "2                  NaN                  NaN  \n",
       "3                  NaN                  NaN  \n",
       "4                  NaN                  NaN  \n",
       "5                  NaN                  NaN  \n",
       "6                  NaN                  NaN  \n",
       "7  2022-01-22 00:00:00  2022-01-22 00:00:00  \n",
       "8  2022-01-22 00:00:00  2022-01-22 00:00:00  \n",
       "9                   15                   16  "
      ]
     },
     "execution_count": 3,
     "metadata": {},
     "output_type": "execute_result"
    }
   ],
   "source": [
    "test_data = pd.read_excel('W38S12BS1B5-07A065_testdata.xlsx',sheet_name=1)\n",
    "test_data.head(10)"
   ]
  },
  {
   "cell_type": "markdown",
   "id": "60d7b266",
   "metadata": {
    "extensions": {
     "jupyter_dashboards": {
      "version": 1,
      "views": {
       "default_view": {
        "col": 0,
        "height": 2,
        "row": 6,
        "width": 12
       }
      }
     }
    }
   },
   "source": [
    "#There are 4 main datasets to be processed\n",
    "\n",
    "1) Speed at 20% PWM. \n",
    "\n",
    "2) Speed at 100% PWM.\n",
    "\n",
    "3) Current at 20% PWM.\n",
    "\n",
    "4) Current at 100% PWM.\n",
    "\n",
    "Each of the data contains, 3 rows of date, 50 rows of data and then there is 8 rows to be skipped.\n",
    "The number of columns remain same at "
   ]
  },
  {
   "cell_type": "code",
   "execution_count": 4,
   "id": "a78258f7",
   "metadata": {
    "extensions": {
     "jupyter_dashboards": {
      "version": 1,
      "views": {
       "default_view": {
        "hidden": true
       }
      }
     }
    }
   },
   "outputs": [],
   "source": [
    "sub_data = test_data[8:234] #maintaining only the raw data that is necessary for processing\n",
    "sub_data.columns = ['Fan_data_type', 'sl.no', datetime.datetime(2022, 1, 8, 0, 0),\n",
    "        datetime.datetime(2022, 1, 9, 0, 0),\n",
    "        datetime.datetime(2022, 1, 10, 0, 0),\n",
    "        datetime.datetime(2022, 1, 11, 0, 0),\n",
    "        datetime.datetime(2022, 1, 12, 0, 0),\n",
    "        datetime.datetime(2022, 1, 13, 0, 0),\n",
    "        datetime.datetime(2022, 1, 14, 0, 0),\n",
    "        datetime.datetime(2022, 1, 15, 0, 0),\n",
    "        datetime.datetime(2022, 1, 16, 0, 0),\n",
    "        datetime.datetime(2022, 1, 17, 0, 0),\n",
    "        datetime.datetime(2022, 1, 18, 0, 0),\n",
    "        datetime.datetime(2022, 1, 19, 0, 0),\n",
    "        datetime.datetime(2022, 1, 20, 0, 0),\n",
    "        datetime.datetime(2022, 1, 21, 0, 0),\n",
    "        datetime.datetime(2022, 1, 22, 0, 0),\n",
    "        datetime.datetime(2022, 1, 22, 0, 0)]"
   ]
  },
  {
   "cell_type": "code",
   "execution_count": 5,
   "id": "3b063294",
   "metadata": {
    "extensions": {
     "jupyter_dashboards": {
      "version": 1,
      "views": {
       "default_view": {
        "col": 0,
        "height": 2,
        "row": 10,
        "width": 12
       }
      }
     }
    }
   },
   "outputs": [
    {
     "data": {
      "text/html": [
       "<div>\n",
       "<style scoped>\n",
       "    .dataframe tbody tr th:only-of-type {\n",
       "        vertical-align: middle;\n",
       "    }\n",
       "\n",
       "    .dataframe tbody tr th {\n",
       "        vertical-align: top;\n",
       "    }\n",
       "\n",
       "    .dataframe thead th {\n",
       "        text-align: right;\n",
       "    }\n",
       "</style>\n",
       "<table border=\"1\" class=\"dataframe\">\n",
       "  <thead>\n",
       "    <tr style=\"text-align: right;\">\n",
       "      <th></th>\n",
       "      <th>Fan_data_type</th>\n",
       "      <th>sl.no</th>\n",
       "      <th>2022-01-08 00:00:00</th>\n",
       "      <th>2022-01-09 00:00:00</th>\n",
       "      <th>2022-01-10 00:00:00</th>\n",
       "      <th>2022-01-11 00:00:00</th>\n",
       "      <th>2022-01-12 00:00:00</th>\n",
       "      <th>2022-01-13 00:00:00</th>\n",
       "      <th>2022-01-14 00:00:00</th>\n",
       "      <th>2022-01-15 00:00:00</th>\n",
       "      <th>2022-01-16 00:00:00</th>\n",
       "      <th>2022-01-17 00:00:00</th>\n",
       "      <th>2022-01-18 00:00:00</th>\n",
       "      <th>2022-01-19 00:00:00</th>\n",
       "      <th>2022-01-20 00:00:00</th>\n",
       "      <th>2022-01-21 00:00:00</th>\n",
       "      <th>2022-01-22 00:00:00</th>\n",
       "      <th>2022-01-22 00:00:00</th>\n",
       "    </tr>\n",
       "  </thead>\n",
       "  <tbody>\n",
       "    <tr>\n",
       "      <th>10</th>\n",
       "      <td>New_fan_Speed_20pwm</td>\n",
       "      <td>1</td>\n",
       "      <td>4992</td>\n",
       "      <td>5007</td>\n",
       "      <td>5025</td>\n",
       "      <td>5001</td>\n",
       "      <td>5007</td>\n",
       "      <td>5016</td>\n",
       "      <td>5001</td>\n",
       "      <td>5016</td>\n",
       "      <td>4989</td>\n",
       "      <td>5016</td>\n",
       "      <td>5043</td>\n",
       "      <td>5025</td>\n",
       "      <td>5007</td>\n",
       "      <td>5006</td>\n",
       "      <td>4999</td>\n",
       "      <td>5031</td>\n",
       "    </tr>\n",
       "    <tr>\n",
       "      <th>11</th>\n",
       "      <td>NaN</td>\n",
       "      <td>2</td>\n",
       "      <td>5007</td>\n",
       "      <td>4944</td>\n",
       "      <td>4986</td>\n",
       "      <td>5022</td>\n",
       "      <td>5001</td>\n",
       "      <td>4959</td>\n",
       "      <td>4938</td>\n",
       "      <td>5028</td>\n",
       "      <td>5055</td>\n",
       "      <td>4953</td>\n",
       "      <td>4959</td>\n",
       "      <td>4986</td>\n",
       "      <td>4995</td>\n",
       "      <td>4943</td>\n",
       "      <td>5065</td>\n",
       "      <td>4935</td>\n",
       "    </tr>\n",
       "    <tr>\n",
       "      <th>12</th>\n",
       "      <td>NaN</td>\n",
       "      <td>3</td>\n",
       "      <td>5054</td>\n",
       "      <td>5013</td>\n",
       "      <td>5049</td>\n",
       "      <td>5013</td>\n",
       "      <td>5004</td>\n",
       "      <td>5022</td>\n",
       "      <td>5055</td>\n",
       "      <td>5073</td>\n",
       "      <td>5037</td>\n",
       "      <td>5034</td>\n",
       "      <td>4953</td>\n",
       "      <td>4971</td>\n",
       "      <td>4962</td>\n",
       "      <td>5024</td>\n",
       "      <td>5047</td>\n",
       "      <td>4974</td>\n",
       "    </tr>\n",
       "    <tr>\n",
       "      <th>13</th>\n",
       "      <td>NaN</td>\n",
       "      <td>4</td>\n",
       "      <td>5035</td>\n",
       "      <td>4965</td>\n",
       "      <td>4986</td>\n",
       "      <td>5001</td>\n",
       "      <td>5004</td>\n",
       "      <td>5004</td>\n",
       "      <td>4986</td>\n",
       "      <td>5085</td>\n",
       "      <td>5022</td>\n",
       "      <td>5016</td>\n",
       "      <td>4986</td>\n",
       "      <td>4989</td>\n",
       "      <td>4989</td>\n",
       "      <td>5006</td>\n",
       "      <td>5032</td>\n",
       "      <td>4962</td>\n",
       "    </tr>\n",
       "    <tr>\n",
       "      <th>14</th>\n",
       "      <td>NaN</td>\n",
       "      <td>5</td>\n",
       "      <td>5084</td>\n",
       "      <td>5073</td>\n",
       "      <td>5019</td>\n",
       "      <td>5049</td>\n",
       "      <td>4965</td>\n",
       "      <td>5079</td>\n",
       "      <td>5043</td>\n",
       "      <td>5049</td>\n",
       "      <td>5037</td>\n",
       "      <td>4977</td>\n",
       "      <td>5082</td>\n",
       "      <td>5034</td>\n",
       "      <td>5016</td>\n",
       "      <td>4967</td>\n",
       "      <td>5047</td>\n",
       "      <td>5028</td>\n",
       "    </tr>\n",
       "  </tbody>\n",
       "</table>\n",
       "</div>"
      ],
      "text/plain": [
       "          Fan_data_type sl.no 2022-01-08 00:00:00 2022-01-09 00:00:00  \\\n",
       "10  New_fan_Speed_20pwm     1                4992                5007   \n",
       "11                  NaN     2                5007                4944   \n",
       "12                  NaN     3                5054                5013   \n",
       "13                  NaN     4                5035                4965   \n",
       "14                  NaN     5                5084                5073   \n",
       "\n",
       "   2022-01-10 00:00:00 2022-01-11 00:00:00 2022-01-12 00:00:00  \\\n",
       "10                5025                5001                5007   \n",
       "11                4986                5022                5001   \n",
       "12                5049                5013                5004   \n",
       "13                4986                5001                5004   \n",
       "14                5019                5049                4965   \n",
       "\n",
       "   2022-01-13 00:00:00 2022-01-14 00:00:00 2022-01-15 00:00:00  \\\n",
       "10                5016                5001                5016   \n",
       "11                4959                4938                5028   \n",
       "12                5022                5055                5073   \n",
       "13                5004                4986                5085   \n",
       "14                5079                5043                5049   \n",
       "\n",
       "   2022-01-16 00:00:00 2022-01-17 00:00:00 2022-01-18 00:00:00  \\\n",
       "10                4989                5016                5043   \n",
       "11                5055                4953                4959   \n",
       "12                5037                5034                4953   \n",
       "13                5022                5016                4986   \n",
       "14                5037                4977                5082   \n",
       "\n",
       "   2022-01-19 00:00:00 2022-01-20 00:00:00 2022-01-21 00:00:00  \\\n",
       "10                5025                5007                5006   \n",
       "11                4986                4995                4943   \n",
       "12                4971                4962                5024   \n",
       "13                4989                4989                5006   \n",
       "14                5034                5016                4967   \n",
       "\n",
       "   2022-01-22 00:00:00 2022-01-22 00:00:00  \n",
       "10                4999                5031  \n",
       "11                5065                4935  \n",
       "12                5047                4974  \n",
       "13                5032                4962  \n",
       "14                5047                5028  "
      ]
     },
     "execution_count": 5,
     "metadata": {},
     "output_type": "execute_result"
    }
   ],
   "source": [
    "sub_data = sub_data[2:]\n",
    "sub_data.head()"
   ]
  },
  {
   "cell_type": "code",
   "execution_count": 6,
   "id": "4e3f0b38",
   "metadata": {
    "extensions": {
     "jupyter_dashboards": {
      "version": 1,
      "views": {
       "default_view": {
        "col": 0,
        "height": 2,
        "row": 12,
        "width": 12
       }
      }
     }
    }
   },
   "outputs": [
    {
     "data": {
      "text/html": [
       "<div>\n",
       "<style scoped>\n",
       "    .dataframe tbody tr th:only-of-type {\n",
       "        vertical-align: middle;\n",
       "    }\n",
       "\n",
       "    .dataframe tbody tr th {\n",
       "        vertical-align: top;\n",
       "    }\n",
       "\n",
       "    .dataframe thead th {\n",
       "        text-align: right;\n",
       "    }\n",
       "</style>\n",
       "<table border=\"1\" class=\"dataframe\">\n",
       "  <thead>\n",
       "    <tr style=\"text-align: right;\">\n",
       "      <th></th>\n",
       "      <th>Fan_data_type</th>\n",
       "      <th>sl.no</th>\n",
       "      <th>2022-01-08 00:00:00</th>\n",
       "      <th>2022-01-09 00:00:00</th>\n",
       "      <th>2022-01-10 00:00:00</th>\n",
       "      <th>2022-01-11 00:00:00</th>\n",
       "      <th>2022-01-12 00:00:00</th>\n",
       "      <th>2022-01-13 00:00:00</th>\n",
       "      <th>2022-01-14 00:00:00</th>\n",
       "      <th>2022-01-15 00:00:00</th>\n",
       "      <th>2022-01-16 00:00:00</th>\n",
       "      <th>2022-01-17 00:00:00</th>\n",
       "      <th>2022-01-18 00:00:00</th>\n",
       "      <th>2022-01-19 00:00:00</th>\n",
       "      <th>2022-01-20 00:00:00</th>\n",
       "      <th>2022-01-21 00:00:00</th>\n",
       "      <th>2022-01-22 00:00:00</th>\n",
       "      <th>2022-01-22 00:00:00</th>\n",
       "    </tr>\n",
       "  </thead>\n",
       "  <tbody>\n",
       "    <tr>\n",
       "      <th>10</th>\n",
       "      <td>New_fan_Speed_20pwm</td>\n",
       "      <td>1</td>\n",
       "      <td>4992</td>\n",
       "      <td>5007</td>\n",
       "      <td>5025</td>\n",
       "      <td>5001</td>\n",
       "      <td>5007</td>\n",
       "      <td>5016</td>\n",
       "      <td>5001</td>\n",
       "      <td>5016</td>\n",
       "      <td>4989</td>\n",
       "      <td>5016</td>\n",
       "      <td>5043</td>\n",
       "      <td>5025</td>\n",
       "      <td>5007</td>\n",
       "      <td>5006</td>\n",
       "      <td>4999</td>\n",
       "      <td>5031</td>\n",
       "    </tr>\n",
       "    <tr>\n",
       "      <th>11</th>\n",
       "      <td>New_fan_Speed_20pwm</td>\n",
       "      <td>2</td>\n",
       "      <td>5007</td>\n",
       "      <td>4944</td>\n",
       "      <td>4986</td>\n",
       "      <td>5022</td>\n",
       "      <td>5001</td>\n",
       "      <td>4959</td>\n",
       "      <td>4938</td>\n",
       "      <td>5028</td>\n",
       "      <td>5055</td>\n",
       "      <td>4953</td>\n",
       "      <td>4959</td>\n",
       "      <td>4986</td>\n",
       "      <td>4995</td>\n",
       "      <td>4943</td>\n",
       "      <td>5065</td>\n",
       "      <td>4935</td>\n",
       "    </tr>\n",
       "    <tr>\n",
       "      <th>12</th>\n",
       "      <td>New_fan_Speed_20pwm</td>\n",
       "      <td>3</td>\n",
       "      <td>5054</td>\n",
       "      <td>5013</td>\n",
       "      <td>5049</td>\n",
       "      <td>5013</td>\n",
       "      <td>5004</td>\n",
       "      <td>5022</td>\n",
       "      <td>5055</td>\n",
       "      <td>5073</td>\n",
       "      <td>5037</td>\n",
       "      <td>5034</td>\n",
       "      <td>4953</td>\n",
       "      <td>4971</td>\n",
       "      <td>4962</td>\n",
       "      <td>5024</td>\n",
       "      <td>5047</td>\n",
       "      <td>4974</td>\n",
       "    </tr>\n",
       "    <tr>\n",
       "      <th>13</th>\n",
       "      <td>New_fan_Speed_20pwm</td>\n",
       "      <td>4</td>\n",
       "      <td>5035</td>\n",
       "      <td>4965</td>\n",
       "      <td>4986</td>\n",
       "      <td>5001</td>\n",
       "      <td>5004</td>\n",
       "      <td>5004</td>\n",
       "      <td>4986</td>\n",
       "      <td>5085</td>\n",
       "      <td>5022</td>\n",
       "      <td>5016</td>\n",
       "      <td>4986</td>\n",
       "      <td>4989</td>\n",
       "      <td>4989</td>\n",
       "      <td>5006</td>\n",
       "      <td>5032</td>\n",
       "      <td>4962</td>\n",
       "    </tr>\n",
       "    <tr>\n",
       "      <th>14</th>\n",
       "      <td>New_fan_Speed_20pwm</td>\n",
       "      <td>5</td>\n",
       "      <td>5084</td>\n",
       "      <td>5073</td>\n",
       "      <td>5019</td>\n",
       "      <td>5049</td>\n",
       "      <td>4965</td>\n",
       "      <td>5079</td>\n",
       "      <td>5043</td>\n",
       "      <td>5049</td>\n",
       "      <td>5037</td>\n",
       "      <td>4977</td>\n",
       "      <td>5082</td>\n",
       "      <td>5034</td>\n",
       "      <td>5016</td>\n",
       "      <td>4967</td>\n",
       "      <td>5047</td>\n",
       "      <td>5028</td>\n",
       "    </tr>\n",
       "  </tbody>\n",
       "</table>\n",
       "</div>"
      ],
      "text/plain": [
       "          Fan_data_type sl.no 2022-01-08 00:00:00 2022-01-09 00:00:00  \\\n",
       "10  New_fan_Speed_20pwm     1                4992                5007   \n",
       "11  New_fan_Speed_20pwm     2                5007                4944   \n",
       "12  New_fan_Speed_20pwm     3                5054                5013   \n",
       "13  New_fan_Speed_20pwm     4                5035                4965   \n",
       "14  New_fan_Speed_20pwm     5                5084                5073   \n",
       "\n",
       "   2022-01-10 00:00:00 2022-01-11 00:00:00 2022-01-12 00:00:00  \\\n",
       "10                5025                5001                5007   \n",
       "11                4986                5022                5001   \n",
       "12                5049                5013                5004   \n",
       "13                4986                5001                5004   \n",
       "14                5019                5049                4965   \n",
       "\n",
       "   2022-01-13 00:00:00 2022-01-14 00:00:00 2022-01-15 00:00:00  \\\n",
       "10                5016                5001                5016   \n",
       "11                4959                4938                5028   \n",
       "12                5022                5055                5073   \n",
       "13                5004                4986                5085   \n",
       "14                5079                5043                5049   \n",
       "\n",
       "   2022-01-16 00:00:00 2022-01-17 00:00:00 2022-01-18 00:00:00  \\\n",
       "10                4989                5016                5043   \n",
       "11                5055                4953                4959   \n",
       "12                5037                5034                4953   \n",
       "13                5022                5016                4986   \n",
       "14                5037                4977                5082   \n",
       "\n",
       "   2022-01-19 00:00:00 2022-01-20 00:00:00 2022-01-21 00:00:00  \\\n",
       "10                5025                5007                5006   \n",
       "11                4986                4995                4943   \n",
       "12                4971                4962                5024   \n",
       "13                4989                4989                5006   \n",
       "14                5034                5016                4967   \n",
       "\n",
       "   2022-01-22 00:00:00 2022-01-22 00:00:00  \n",
       "10                4999                5031  \n",
       "11                5065                4935  \n",
       "12                5047                4974  \n",
       "13                5032                4962  \n",
       "14                5047                5028  "
      ]
     },
     "execution_count": 6,
     "metadata": {},
     "output_type": "execute_result"
    }
   ],
   "source": [
    "sub_data.loc[:,'Fan_data_type'] = sub_data.loc[:,'Fan_data_type'].fillna(method='ffill')\n",
    "sub_data.head()"
   ]
  },
  {
   "cell_type": "code",
   "execution_count": 7,
   "id": "6ff3b8d3",
   "metadata": {
    "extensions": {
     "jupyter_dashboards": {
      "version": 1,
      "views": {
       "default_view": {
        "col": 0,
        "height": 2,
        "row": 14,
        "width": 12
       }
      }
     }
    }
   },
   "outputs": [
    {
     "data": {
      "text/plain": [
       "array(['New_fan_Speed_20pwm', 'Current_fan_Speed_20pwm',\n",
       "       'New_fan_Speed_100pwm', 'current_fan_Speed_100pwm',\n",
       "       'New_fan_Current_100pwm', 'Current__fan_current_100pwm',\n",
       "       'New_fan_Current_20pwm', 'Current__fan_current_20pwm'],\n",
       "      dtype=object)"
      ]
     },
     "execution_count": 7,
     "metadata": {},
     "output_type": "execute_result"
    }
   ],
   "source": [
    "#Let check the fill has worked correctly\n",
    "sub_data.Fan_data_type.unique()"
   ]
  },
  {
   "cell_type": "code",
   "execution_count": 8,
   "id": "eae3f4a0",
   "metadata": {
    "extensions": {
     "jupyter_dashboards": {
      "version": 1,
      "views": {
       "default_view": {
        "hidden": true
       }
      }
     }
    }
   },
   "outputs": [],
   "source": [
    "#Seperate the datasets, so that it can be pivoted and made ready for visualisation\n",
    "def get_dataset(fan_type,data_part):\n",
    "#slicing the data of each fan_type\n",
    "    fan_data = data_part[data_part.Fan_data_type == fan_type].T\n",
    "    fan_data.columns = fan_data.iloc[1]\n",
    "    fan_data = fan_data[2:]\n",
    "    return fan_data"
   ]
  },
  {
   "cell_type": "code",
   "execution_count": 9,
   "id": "9401a726",
   "metadata": {
    "extensions": {
     "jupyter_dashboards": {
      "version": 1,
      "views": {
       "default_view": {
        "hidden": true
       }
      }
     }
    }
   },
   "outputs": [],
   "source": [
    "for number in range(1,4):\n",
    "    locals()[\"group\"+str(number)] = \"abc\""
   ]
  },
  {
   "cell_type": "code",
   "execution_count": 10,
   "id": "0fbaf688",
   "metadata": {
    "extensions": {
     "jupyter_dashboards": {
      "version": 1,
      "views": {
       "default_view": {
        "col": 0,
        "height": 2,
        "row": 20,
        "width": 12
       }
      }
     }
    }
   },
   "outputs": [
    {
     "name": "stdout",
     "output_type": "stream",
     "text": [
      "Create New_fan_Speed_20pwm dataset\n",
      "Dataset shape is (16, 28)\n",
      "Create Current_fan_Speed_20pwm dataset\n",
      "Dataset shape is (16, 30)\n",
      "Create New_fan_Speed_100pwm dataset\n",
      "Dataset shape is (16, 28)\n",
      "Create current_fan_Speed_100pwm dataset\n",
      "Dataset shape is (16, 30)\n",
      "Create New_fan_Current_100pwm dataset\n",
      "Dataset shape is (16, 28)\n",
      "Create Current__fan_current_100pwm dataset\n",
      "Dataset shape is (16, 30)\n",
      "Create New_fan_Current_20pwm dataset\n",
      "Dataset shape is (16, 28)\n",
      "Create Current__fan_current_20pwm dataset\n",
      "Dataset shape is (16, 22)\n"
     ]
    }
   ],
   "source": [
    "for fan_type in sub_data.Fan_data_type.unique():\n",
    "    locals()[fan_type] = get_dataset(fan_type,sub_data)\n",
    "    print('Create {} dataset'.format(fan_type))\n",
    "    print('Dataset shape is {}'.format(locals()[fan_type].shape))"
   ]
  },
  {
   "cell_type": "code",
   "execution_count": 11,
   "id": "1aaaf696",
   "metadata": {
    "extensions": {
     "jupyter_dashboards": {
      "version": 1,
      "views": {
       "default_view": {
        "hidden": true
       }
      }
     }
    }
   },
   "outputs": [],
   "source": [
    "#There are additional columns in the datasets which needs to be dropped\n",
    "Current_fan_Speed_20pwm.drop(['n','AVG','STD','MAX','MIN', 'MAX-AVG', 'AVG-MIN','判定'],\n",
    "                             axis=1,inplace=True)\n",
    "current_fan_Speed_100pwm.drop(['n','AVG','STD','MAX','MIN', 'MAX-AVG', 'AVG-MIN','判定'],\n",
    "                             axis=1,inplace=True)\n",
    "Current__fan_current_100pwm.drop(['n','AVG','STD','MAX','MIN', 'MAX-AVG', 'AVG-MIN','判定'],\n",
    "                             axis=1,inplace=True)"
   ]
  },
  {
   "cell_type": "code",
   "execution_count": 12,
   "id": "c4985435",
   "metadata": {
    "extensions": {
     "jupyter_dashboards": {
      "version": 1,
      "views": {
       "default_view": {
        "hidden": true
       }
      }
     }
    }
   },
   "outputs": [],
   "source": [
    "import plotly.express as px\n",
    "import plotly.graph_objects as go"
   ]
  },
  {
   "cell_type": "code",
   "execution_count": 13,
   "id": "f8b30d82",
   "metadata": {
    "extensions": {
     "jupyter_dashboards": {
      "version": 1,
      "views": {
       "default_view": {
        "hidden": true
       }
      }
     }
    }
   },
   "outputs": [],
   "source": [
    "#creating the visualisation using graph_objects Boxplot\n",
    "def box_plot(dataset,upper_limit, lower_limit,nominal,name,plot_data):\n",
    "    visual = go.Figure()\n",
    "    #enumerate returns 2 variables from the iterable, its index and value. \n",
    "    for index,columns in enumerate(dataset.columns):    \n",
    "        visual.add_trace(go.Box(y=dataset[columns],name=index+1,showlegend=False))\n",
    "    \n",
    "    if upper_limit > 0:\n",
    "        visual.add_trace(go.Scatter(x=[1, len(dataset.columns)],y=[upper_limit, upper_limit],\n",
    "                                    mode=\"lines\",\n",
    "                                    line=go.scatter.Line(color=\"red\"),\n",
    "                                    showlegend=False))\n",
    "    if lower_limit > 0:\n",
    "        #print(lower_limit)\n",
    "        visual.add_trace(go.Scatter(x=[1, len(dataset.columns)],y=[lower_limit, lower_limit],\n",
    "                                mode=\"lines\",\n",
    "                                line=go.scatter.Line(color=\"black\"),\n",
    "                                showlegend=False))\n",
    "    if nominal > 0:\n",
    "        #print(lower_limit)\n",
    "        visual.add_trace(go.Scatter(x=[1, len(dataset.columns)],y=[nominal, nominal],\n",
    "                                mode=\"lines\",\n",
    "                                line=go.scatter.Line(color=\"green\",dash='dot'),\n",
    "                                showlegend=False))\n",
    "    visual.update_layout(title=name,height=500,width=800)\n",
    "    visual.update_yaxes(title=plot_data)\n",
    "    return visual"
   ]
  },
  {
   "cell_type": "code",
   "execution_count": 15,
   "id": "e636fa0d",
   "metadata": {
    "extensions": {
     "jupyter_dashboards": {
      "version": 1,
      "views": {
       "default_view": {
        "col": 0,
        "height": 2,
        "row": 28,
        "width": 12
       }
      }
     }
    }
   },
   "outputs": [
    {
     "data": {
      "application/vnd.plotly.v1+json": {
       "config": {
        "plotlyServerURL": "https://plot.ly"
       },
       "data": [
        {
         "name": "1",
         "showlegend": false,
         "type": "box",
         "y": [
          24920,
          24978,
          24966,
          24969,
          24978,
          24966,
          24954,
          24948,
          24939,
          24951,
          25116,
          25023,
          24948,
          24949,
          24938,
          24948
         ]
        },
        {
         "name": "2",
         "showlegend": false,
         "type": "box",
         "y": [
          25042,
          24981,
          24948,
          24957,
          24963,
          24945,
          24834,
          24951,
          24945,
          24825,
          24972,
          24915,
          24945,
          24955,
          24941,
          24939
         ]
        },
        {
         "name": "3",
         "showlegend": false,
         "type": "box",
         "y": [
          24948,
          24837,
          24816,
          24825,
          24822,
          24822,
          24979,
          24819,
          24813,
          24958,
          24783,
          24903,
          24801,
          24823,
          24809,
          24834
         ]
        },
        {
         "name": "4",
         "showlegend": false,
         "type": "box",
         "y": [
          24962,
          25143,
          25173,
          25179,
          25176,
          25152,
          24948,
          25143,
          25179,
          24963,
          25176,
          25071,
          25191,
          25189,
          25133,
          25185
         ]
        },
        {
         "name": "5",
         "showlegend": false,
         "type": "box",
         "y": [
          25011,
          25014,
          25008,
          24996,
          24978,
          24975,
          24918,
          24981,
          24975,
          24976,
          24963,
          24921,
          24951,
          24985,
          24971,
          25029
         ]
        },
        {
         "name": "6",
         "showlegend": false,
         "type": "box",
         "y": [
          24909,
          24897,
          24891,
          24894,
          24912,
          24903,
          25046,
          24888,
          24903,
          25064,
          24873,
          24942,
          24885,
          24913,
          24878,
          24894
         ]
        },
        {
         "name": "7",
         "showlegend": false,
         "type": "box",
         "y": [
          25043,
          25158,
          25152,
          25161,
          25065,
          25149,
          24978,
          25164,
          25143,
          25125,
          25101,
          24981,
          25113,
          25153,
          25154,
          25128
         ]
        },
        {
         "name": "8",
         "showlegend": false,
         "type": "box",
         "y": [
          25088,
          25125,
          25113,
          25128,
          25101,
          25089,
          25098,
          25095,
          25116,
          25191,
          25083,
          25062,
          25155,
          25126,
          25085,
          25101
         ]
        },
        {
         "name": "9",
         "showlegend": false,
         "type": "box",
         "y": [
          24996,
          25032,
          24996,
          25017,
          25026,
          25008,
          24999,
          25011,
          24999,
          25008,
          24999,
          24975,
          25026,
          25009,
          25001,
          24951
         ]
        },
        {
         "name": "10",
         "showlegend": false,
         "type": "box",
         "y": [
          25075,
          24942,
          24918,
          24921,
          24918,
          24885,
          24903,
          24915,
          24882,
          24918,
          24915,
          24951,
          25059,
          24892,
          24905,
          24918
         ]
        },
        {
         "name": "11",
         "showlegend": false,
         "type": "box",
         "y": [
          25017,
          25035,
          25053,
          25041,
          25056,
          25059,
          25071,
          25029,
          25035,
          25032,
          25029,
          25002,
          25095,
          25045,
          25019,
          25056
         ]
        },
        {
         "name": "12",
         "showlegend": false,
         "type": "box",
         "y": [
          25107,
          25113,
          25098,
          25083,
          25092,
          25071,
          25101,
          25083,
          25098,
          25086,
          25101,
          25056,
          24966,
          25108,
          25073,
          25074
         ]
        },
        {
         "name": "13",
         "showlegend": false,
         "type": "box",
         "y": [
          24994,
          24999,
          24963,
          24984,
          24966,
          25014,
          24978,
          25014,
          25011,
          24975,
          24975,
          24951,
          24991,
          25021,
          25004,
          24978
         ]
        },
        {
         "name": "14",
         "showlegend": false,
         "type": "box",
         "y": [
          24940,
          24924,
          24876,
          24915,
          24903,
          24891,
          24921,
          24894,
          24888,
          24888,
          24888,
          24915,
          24909,
          24898,
          24884,
          24903
         ]
        },
        {
         "name": "15",
         "showlegend": false,
         "type": "box",
         "y": [
          25010,
          24948,
          24933,
          24951,
          24915,
          24903,
          24915,
          24981,
          24903,
          24912,
          24903,
          24966,
          24955,
          24913,
          24971,
          24906
         ]
        },
        {
         "name": "16",
         "showlegend": false,
         "type": "box",
         "y": [
          24912,
          24903,
          24876,
          24903,
          24876,
          24888,
          24894,
          24906,
          24882,
          24888,
          24888,
          24951,
          24951,
          24892,
          24896,
          24891
         ]
        },
        {
         "name": "17",
         "showlegend": false,
         "type": "box",
         "y": [
          24842,
          24969,
          24945,
          24954,
          24945,
          24984,
          24825,
          24957,
          24951,
          24933,
          24936,
          24978,
          25088,
          24961,
          24947,
          24945
         ]
        },
        {
         "name": "18",
         "showlegend": false,
         "type": "box",
         "y": [
          25005,
          25185,
          25185,
          25191,
          25146,
          25191,
          25176,
          25188,
          25188,
          25176,
          25191,
          25215,
          25009,
          25198,
          25178,
          25176
         ]
        },
        {
         "name": "19",
         "showlegend": false,
         "type": "box",
         "y": [
          25016,
          24963,
          24951,
          24951,
          24942,
          24945,
          24945,
          24927,
          24942,
          24915,
          24909,
          24945,
          24948,
          24952,
          24917,
          24927
         ]
        },
        {
         "name": "20",
         "showlegend": false,
         "type": "box",
         "y": [
          24995,
          25062,
          25068,
          25068,
          25068,
          25056,
          25038,
          25053,
          25065,
          25053,
          25056,
          25044,
          24994,
          25075,
          25043,
          25056
         ]
        },
        {
         "name": "21",
         "showlegend": false,
         "type": "box",
         "y": [
          25020,
          25056,
          25104,
          25086,
          25056,
          25098,
          25083,
          25074,
          25089,
          25089,
          25086,
          25056,
          25062,
          25099,
          25064,
          25083
         ]
        },
        {
         "name": "22",
         "showlegend": false,
         "type": "box",
         "y": [
          24991,
          24906,
          24897,
          24906,
          24912,
          24918,
          24918,
          24906,
          24897,
          24888,
          24891,
          24903,
          24909,
          24907,
          24896,
          24906
         ]
        },
        {
         "line": {
          "color": "red"
         },
         "mode": "lines",
         "showlegend": false,
         "type": "scatter",
         "x": [
          1,
          22
         ],
         "y": [
          27500,
          27500
         ]
        },
        {
         "line": {
          "color": "black"
         },
         "mode": "lines",
         "showlegend": false,
         "type": "scatter",
         "x": [
          1,
          22
         ],
         "y": [
          22500,
          22500
         ]
        },
        {
         "line": {
          "color": "green",
          "dash": "dot"
         },
         "mode": "lines",
         "showlegend": false,
         "type": "scatter",
         "x": [
          1,
          22
         ],
         "y": [
          25000,
          25000
         ]
        }
       ],
       "layout": {
        "height": 500,
        "template": {
         "data": {
          "bar": [
           {
            "error_x": {
             "color": "#2a3f5f"
            },
            "error_y": {
             "color": "#2a3f5f"
            },
            "marker": {
             "line": {
              "color": "#E5ECF6",
              "width": 0.5
             },
             "pattern": {
              "fillmode": "overlay",
              "size": 10,
              "solidity": 0.2
             }
            },
            "type": "bar"
           }
          ],
          "barpolar": [
           {
            "marker": {
             "line": {
              "color": "#E5ECF6",
              "width": 0.5
             },
             "pattern": {
              "fillmode": "overlay",
              "size": 10,
              "solidity": 0.2
             }
            },
            "type": "barpolar"
           }
          ],
          "carpet": [
           {
            "aaxis": {
             "endlinecolor": "#2a3f5f",
             "gridcolor": "white",
             "linecolor": "white",
             "minorgridcolor": "white",
             "startlinecolor": "#2a3f5f"
            },
            "baxis": {
             "endlinecolor": "#2a3f5f",
             "gridcolor": "white",
             "linecolor": "white",
             "minorgridcolor": "white",
             "startlinecolor": "#2a3f5f"
            },
            "type": "carpet"
           }
          ],
          "choropleth": [
           {
            "colorbar": {
             "outlinewidth": 0,
             "ticks": ""
            },
            "type": "choropleth"
           }
          ],
          "contour": [
           {
            "colorbar": {
             "outlinewidth": 0,
             "ticks": ""
            },
            "colorscale": [
             [
              0,
              "#0d0887"
             ],
             [
              0.1111111111111111,
              "#46039f"
             ],
             [
              0.2222222222222222,
              "#7201a8"
             ],
             [
              0.3333333333333333,
              "#9c179e"
             ],
             [
              0.4444444444444444,
              "#bd3786"
             ],
             [
              0.5555555555555556,
              "#d8576b"
             ],
             [
              0.6666666666666666,
              "#ed7953"
             ],
             [
              0.7777777777777778,
              "#fb9f3a"
             ],
             [
              0.8888888888888888,
              "#fdca26"
             ],
             [
              1,
              "#f0f921"
             ]
            ],
            "type": "contour"
           }
          ],
          "contourcarpet": [
           {
            "colorbar": {
             "outlinewidth": 0,
             "ticks": ""
            },
            "type": "contourcarpet"
           }
          ],
          "heatmap": [
           {
            "colorbar": {
             "outlinewidth": 0,
             "ticks": ""
            },
            "colorscale": [
             [
              0,
              "#0d0887"
             ],
             [
              0.1111111111111111,
              "#46039f"
             ],
             [
              0.2222222222222222,
              "#7201a8"
             ],
             [
              0.3333333333333333,
              "#9c179e"
             ],
             [
              0.4444444444444444,
              "#bd3786"
             ],
             [
              0.5555555555555556,
              "#d8576b"
             ],
             [
              0.6666666666666666,
              "#ed7953"
             ],
             [
              0.7777777777777778,
              "#fb9f3a"
             ],
             [
              0.8888888888888888,
              "#fdca26"
             ],
             [
              1,
              "#f0f921"
             ]
            ],
            "type": "heatmap"
           }
          ],
          "heatmapgl": [
           {
            "colorbar": {
             "outlinewidth": 0,
             "ticks": ""
            },
            "colorscale": [
             [
              0,
              "#0d0887"
             ],
             [
              0.1111111111111111,
              "#46039f"
             ],
             [
              0.2222222222222222,
              "#7201a8"
             ],
             [
              0.3333333333333333,
              "#9c179e"
             ],
             [
              0.4444444444444444,
              "#bd3786"
             ],
             [
              0.5555555555555556,
              "#d8576b"
             ],
             [
              0.6666666666666666,
              "#ed7953"
             ],
             [
              0.7777777777777778,
              "#fb9f3a"
             ],
             [
              0.8888888888888888,
              "#fdca26"
             ],
             [
              1,
              "#f0f921"
             ]
            ],
            "type": "heatmapgl"
           }
          ],
          "histogram": [
           {
            "marker": {
             "pattern": {
              "fillmode": "overlay",
              "size": 10,
              "solidity": 0.2
             }
            },
            "type": "histogram"
           }
          ],
          "histogram2d": [
           {
            "colorbar": {
             "outlinewidth": 0,
             "ticks": ""
            },
            "colorscale": [
             [
              0,
              "#0d0887"
             ],
             [
              0.1111111111111111,
              "#46039f"
             ],
             [
              0.2222222222222222,
              "#7201a8"
             ],
             [
              0.3333333333333333,
              "#9c179e"
             ],
             [
              0.4444444444444444,
              "#bd3786"
             ],
             [
              0.5555555555555556,
              "#d8576b"
             ],
             [
              0.6666666666666666,
              "#ed7953"
             ],
             [
              0.7777777777777778,
              "#fb9f3a"
             ],
             [
              0.8888888888888888,
              "#fdca26"
             ],
             [
              1,
              "#f0f921"
             ]
            ],
            "type": "histogram2d"
           }
          ],
          "histogram2dcontour": [
           {
            "colorbar": {
             "outlinewidth": 0,
             "ticks": ""
            },
            "colorscale": [
             [
              0,
              "#0d0887"
             ],
             [
              0.1111111111111111,
              "#46039f"
             ],
             [
              0.2222222222222222,
              "#7201a8"
             ],
             [
              0.3333333333333333,
              "#9c179e"
             ],
             [
              0.4444444444444444,
              "#bd3786"
             ],
             [
              0.5555555555555556,
              "#d8576b"
             ],
             [
              0.6666666666666666,
              "#ed7953"
             ],
             [
              0.7777777777777778,
              "#fb9f3a"
             ],
             [
              0.8888888888888888,
              "#fdca26"
             ],
             [
              1,
              "#f0f921"
             ]
            ],
            "type": "histogram2dcontour"
           }
          ],
          "mesh3d": [
           {
            "colorbar": {
             "outlinewidth": 0,
             "ticks": ""
            },
            "type": "mesh3d"
           }
          ],
          "parcoords": [
           {
            "line": {
             "colorbar": {
              "outlinewidth": 0,
              "ticks": ""
             }
            },
            "type": "parcoords"
           }
          ],
          "pie": [
           {
            "automargin": true,
            "type": "pie"
           }
          ],
          "scatter": [
           {
            "marker": {
             "colorbar": {
              "outlinewidth": 0,
              "ticks": ""
             }
            },
            "type": "scatter"
           }
          ],
          "scatter3d": [
           {
            "line": {
             "colorbar": {
              "outlinewidth": 0,
              "ticks": ""
             }
            },
            "marker": {
             "colorbar": {
              "outlinewidth": 0,
              "ticks": ""
             }
            },
            "type": "scatter3d"
           }
          ],
          "scattercarpet": [
           {
            "marker": {
             "colorbar": {
              "outlinewidth": 0,
              "ticks": ""
             }
            },
            "type": "scattercarpet"
           }
          ],
          "scattergeo": [
           {
            "marker": {
             "colorbar": {
              "outlinewidth": 0,
              "ticks": ""
             }
            },
            "type": "scattergeo"
           }
          ],
          "scattergl": [
           {
            "marker": {
             "colorbar": {
              "outlinewidth": 0,
              "ticks": ""
             }
            },
            "type": "scattergl"
           }
          ],
          "scattermapbox": [
           {
            "marker": {
             "colorbar": {
              "outlinewidth": 0,
              "ticks": ""
             }
            },
            "type": "scattermapbox"
           }
          ],
          "scatterpolar": [
           {
            "marker": {
             "colorbar": {
              "outlinewidth": 0,
              "ticks": ""
             }
            },
            "type": "scatterpolar"
           }
          ],
          "scatterpolargl": [
           {
            "marker": {
             "colorbar": {
              "outlinewidth": 0,
              "ticks": ""
             }
            },
            "type": "scatterpolargl"
           }
          ],
          "scatterternary": [
           {
            "marker": {
             "colorbar": {
              "outlinewidth": 0,
              "ticks": ""
             }
            },
            "type": "scatterternary"
           }
          ],
          "surface": [
           {
            "colorbar": {
             "outlinewidth": 0,
             "ticks": ""
            },
            "colorscale": [
             [
              0,
              "#0d0887"
             ],
             [
              0.1111111111111111,
              "#46039f"
             ],
             [
              0.2222222222222222,
              "#7201a8"
             ],
             [
              0.3333333333333333,
              "#9c179e"
             ],
             [
              0.4444444444444444,
              "#bd3786"
             ],
             [
              0.5555555555555556,
              "#d8576b"
             ],
             [
              0.6666666666666666,
              "#ed7953"
             ],
             [
              0.7777777777777778,
              "#fb9f3a"
             ],
             [
              0.8888888888888888,
              "#fdca26"
             ],
             [
              1,
              "#f0f921"
             ]
            ],
            "type": "surface"
           }
          ],
          "table": [
           {
            "cells": {
             "fill": {
              "color": "#EBF0F8"
             },
             "line": {
              "color": "white"
             }
            },
            "header": {
             "fill": {
              "color": "#C8D4E3"
             },
             "line": {
              "color": "white"
             }
            },
            "type": "table"
           }
          ]
         },
         "layout": {
          "annotationdefaults": {
           "arrowcolor": "#2a3f5f",
           "arrowhead": 0,
           "arrowwidth": 1
          },
          "autotypenumbers": "strict",
          "coloraxis": {
           "colorbar": {
            "outlinewidth": 0,
            "ticks": ""
           }
          },
          "colorscale": {
           "diverging": [
            [
             0,
             "#8e0152"
            ],
            [
             0.1,
             "#c51b7d"
            ],
            [
             0.2,
             "#de77ae"
            ],
            [
             0.3,
             "#f1b6da"
            ],
            [
             0.4,
             "#fde0ef"
            ],
            [
             0.5,
             "#f7f7f7"
            ],
            [
             0.6,
             "#e6f5d0"
            ],
            [
             0.7,
             "#b8e186"
            ],
            [
             0.8,
             "#7fbc41"
            ],
            [
             0.9,
             "#4d9221"
            ],
            [
             1,
             "#276419"
            ]
           ],
           "sequential": [
            [
             0,
             "#0d0887"
            ],
            [
             0.1111111111111111,
             "#46039f"
            ],
            [
             0.2222222222222222,
             "#7201a8"
            ],
            [
             0.3333333333333333,
             "#9c179e"
            ],
            [
             0.4444444444444444,
             "#bd3786"
            ],
            [
             0.5555555555555556,
             "#d8576b"
            ],
            [
             0.6666666666666666,
             "#ed7953"
            ],
            [
             0.7777777777777778,
             "#fb9f3a"
            ],
            [
             0.8888888888888888,
             "#fdca26"
            ],
            [
             1,
             "#f0f921"
            ]
           ],
           "sequentialminus": [
            [
             0,
             "#0d0887"
            ],
            [
             0.1111111111111111,
             "#46039f"
            ],
            [
             0.2222222222222222,
             "#7201a8"
            ],
            [
             0.3333333333333333,
             "#9c179e"
            ],
            [
             0.4444444444444444,
             "#bd3786"
            ],
            [
             0.5555555555555556,
             "#d8576b"
            ],
            [
             0.6666666666666666,
             "#ed7953"
            ],
            [
             0.7777777777777778,
             "#fb9f3a"
            ],
            [
             0.8888888888888888,
             "#fdca26"
            ],
            [
             1,
             "#f0f921"
            ]
           ]
          },
          "colorway": [
           "#636efa",
           "#EF553B",
           "#00cc96",
           "#ab63fa",
           "#FFA15A",
           "#19d3f3",
           "#FF6692",
           "#B6E880",
           "#FF97FF",
           "#FECB52"
          ],
          "font": {
           "color": "#2a3f5f"
          },
          "geo": {
           "bgcolor": "white",
           "lakecolor": "white",
           "landcolor": "#E5ECF6",
           "showlakes": true,
           "showland": true,
           "subunitcolor": "white"
          },
          "hoverlabel": {
           "align": "left"
          },
          "hovermode": "closest",
          "mapbox": {
           "style": "light"
          },
          "paper_bgcolor": "white",
          "plot_bgcolor": "#E5ECF6",
          "polar": {
           "angularaxis": {
            "gridcolor": "white",
            "linecolor": "white",
            "ticks": ""
           },
           "bgcolor": "#E5ECF6",
           "radialaxis": {
            "gridcolor": "white",
            "linecolor": "white",
            "ticks": ""
           }
          },
          "scene": {
           "xaxis": {
            "backgroundcolor": "#E5ECF6",
            "gridcolor": "white",
            "gridwidth": 2,
            "linecolor": "white",
            "showbackground": true,
            "ticks": "",
            "zerolinecolor": "white"
           },
           "yaxis": {
            "backgroundcolor": "#E5ECF6",
            "gridcolor": "white",
            "gridwidth": 2,
            "linecolor": "white",
            "showbackground": true,
            "ticks": "",
            "zerolinecolor": "white"
           },
           "zaxis": {
            "backgroundcolor": "#E5ECF6",
            "gridcolor": "white",
            "gridwidth": 2,
            "linecolor": "white",
            "showbackground": true,
            "ticks": "",
            "zerolinecolor": "white"
           }
          },
          "shapedefaults": {
           "line": {
            "color": "#2a3f5f"
           }
          },
          "ternary": {
           "aaxis": {
            "gridcolor": "white",
            "linecolor": "white",
            "ticks": ""
           },
           "baxis": {
            "gridcolor": "white",
            "linecolor": "white",
            "ticks": ""
           },
           "bgcolor": "#E5ECF6",
           "caxis": {
            "gridcolor": "white",
            "linecolor": "white",
            "ticks": ""
           }
          },
          "title": {
           "x": 0.05
          },
          "xaxis": {
           "automargin": true,
           "gridcolor": "white",
           "linecolor": "white",
           "ticks": "",
           "title": {
            "standoff": 15
           },
           "zerolinecolor": "white",
           "zerolinewidth": 2
          },
          "yaxis": {
           "automargin": true,
           "gridcolor": "white",
           "linecolor": "white",
           "ticks": "",
           "title": {
            "standoff": 15
           },
           "zerolinecolor": "white",
           "zerolinewidth": 2
          }
         }
        },
        "title": {
         "text": "current_fan_Speed_100pwm"
        },
        "width": 800,
        "yaxis": {
         "title": {
          "text": "speed"
         }
        }
       }
      }
     },
     "metadata": {},
     "output_type": "display_data"
    }
   ],
   "source": [
    "box_plot(current_fan_Speed_100pwm,upper_limit=27500,lower_limit=22500,\n",
    "                 nominal=25000,name='current_fan_Speed_100pwm',plot_data='speed')"
   ]
  },
  {
   "cell_type": "code",
   "execution_count": 16,
   "id": "bfe0162d",
   "metadata": {
    "extensions": {
     "jupyter_dashboards": {
      "version": 1,
      "views": {
       "default_view": {
        "col": 0,
        "height": 2,
        "row": 30,
        "width": 12
       }
      }
     }
    }
   },
   "outputs": [
    {
     "data": {
      "application/vnd.plotly.v1+json": {
       "config": {
        "plotlyServerURL": "https://plot.ly"
       },
       "data": [
        {
         "name": "1",
         "showlegend": false,
         "type": "box",
         "y": [
          24940,
          25026,
          25038,
          25044,
          25029,
          25041,
          25023,
          25017,
          25023,
          25026,
          25014,
          24981,
          25026,
          25033,
          25007,
          25008
         ]
        },
        {
         "name": "2",
         "showlegend": false,
         "type": "box",
         "y": [
          25015,
          25047,
          25035,
          25023,
          25026,
          25008,
          25005,
          25014,
          25011,
          24993,
          25008,
          25086,
          25014,
          25021,
          25004,
          24996
         ]
        },
        {
         "name": "3",
         "showlegend": false,
         "type": "box",
         "y": [
          25012,
          25083,
          25083,
          25074,
          25071,
          25074,
          25086,
          25074,
          25095,
          25092,
          25092,
          25074,
          25095,
          25105,
          25064,
          25056
         ]
        },
        {
         "name": "4",
         "showlegend": false,
         "type": "box",
         "y": [
          25030,
          25161,
          25161,
          25173,
          25173,
          25161,
          25143,
          25185,
          25191,
          25152,
          25182,
          25185,
          25179,
          25201,
          25175,
          25191
         ]
        },
        {
         "name": "5",
         "showlegend": false,
         "type": "box",
         "y": [
          24917,
          24846,
          24816,
          24804,
          24837,
          24804,
          24798,
          24804,
          24783,
          24807,
          24801,
          24903,
          24825,
          24793,
          24794,
          24726
         ]
        },
        {
         "name": "6",
         "showlegend": false,
         "type": "box",
         "y": [
          24967,
          25086,
          25083,
          25125,
          25083,
          25128,
          25062,
          25074,
          25089,
          25056,
          25095,
          24981,
          25089,
          25099,
          25064,
          25044
         ]
        },
        {
         "name": "7",
         "showlegend": false,
         "type": "box",
         "y": [
          25113,
          25062,
          25047,
          25035,
          25041,
          25026,
          25032,
          25005,
          25038,
          24984,
          25011,
          24956,
          24987,
          25048,
          24995,
          25074
         ]
        },
        {
         "name": "8",
         "showlegend": false,
         "type": "box",
         "y": [
          25011,
          25026,
          25038,
          25041,
          25014,
          25005,
          25023,
          25011,
          25008,
          25005,
          24996,
          24985,
          25011,
          25018,
          25001,
          24996
         ]
        },
        {
         "name": "9",
         "showlegend": false,
         "type": "box",
         "y": [
          24990,
          24972,
          25017,
          24978,
          24978,
          24981,
          24975,
          24978,
          24966,
          24972,
          24966,
          24981,
          24981,
          24976,
          24968,
          24978
         ]
        },
        {
         "name": "10",
         "showlegend": false,
         "type": "box",
         "y": [
          25226,
          25239,
          25245,
          25245,
          25254,
          25239,
          25233,
          25221,
          25245,
          25245,
          25242,
          25191,
          25245,
          25255,
          25211,
          25239
         ]
        },
        {
         "name": "11",
         "showlegend": false,
         "type": "box",
         "y": [
          25048,
          25041,
          25026,
          25026,
          25023,
          25005,
          25011,
          25014,
          25005,
          24996,
          25038,
          24995,
          24993,
          25015,
          25004,
          25008
         ]
        },
        {
         "name": "12",
         "showlegend": false,
         "type": "box",
         "y": [
          24981,
          24975,
          24984,
          24978,
          24978,
          24963,
          24966,
          24972,
          24981,
          24978,
          24966,
          24985,
          24963,
          24991,
          24962,
          24972
         ]
        },
        {
         "name": "13",
         "showlegend": false,
         "type": "box",
         "y": [
          25043,
          24951,
          24939,
          24945,
          24951,
          24948,
          24927,
          24903,
          24948,
          24906,
          24912,
          24885,
          24942,
          24958,
          24893,
          24906
         ]
        },
        {
         "name": "14",
         "showlegend": false,
         "type": "box",
         "y": [
          25046,
          25017,
          25014,
          25008,
          25002,
          25014,
          25005,
          25014,
          24975,
          24993,
          25023,
          24976,
          24981,
          24985,
          25004,
          25011
         ]
        },
        {
         "name": "15",
         "showlegend": false,
         "type": "box",
         "y": [
          25043,
          25056,
          25041,
          25038,
          25038,
          25023,
          25023,
          25044,
          25038,
          24975,
          25041,
          24963,
          24993,
          25048,
          25034,
          25005
         ]
        },
        {
         "name": "16",
         "showlegend": false,
         "type": "box",
         "y": [
          24962,
          24969,
          24978,
          24975,
          24969,
          24972,
          24966,
          24951,
          24948,
          25005,
          24958,
          24921,
          24951,
          24958,
          24941,
          24954
         ]
        },
        {
         "name": "17",
         "showlegend": false,
         "type": "box",
         "y": [
          25009,
          25152,
          25134,
          25146,
          25134,
          25131,
          25125,
          25134,
          25125,
          24951,
          25113,
          25056,
          25164,
          25135,
          25124,
          25107
         ]
        },
        {
         "name": "18",
         "showlegend": false,
         "type": "box",
         "y": [
          25006,
          24936,
          24987,
          24978,
          24963,
          24954,
          24951,
          24963,
          24945,
          25095,
          24957,
          24915,
          24972,
          24955,
          24953,
          24921
         ]
        },
        {
         "name": "19",
         "showlegend": false,
         "type": "box",
         "y": [
          24895,
          24984,
          24996,
          25011,
          25005,
          25011,
          24996,
          25008,
          24999,
          24951,
          25038,
          24981,
          24996,
          25009,
          24998,
          25044
         ]
        },
        {
         "name": "20",
         "showlegend": false,
         "type": "box",
         "y": [
          24889,
          24921,
          24918,
          24915,
          24903,
          24972,
          24909,
          24936,
          24978,
          25002,
          24858,
          24883,
          24906,
          24988,
          24926,
          24945
         ]
        },
        {
         "name": "21",
         "showlegend": false,
         "type": "box",
         "y": [
          25146,
          25056,
          25044,
          25044,
          24975,
          24981,
          25071,
          25026,
          25011,
          25035,
          25026,
          25133,
          25189,
          25021,
          25016,
          25176
         ]
        },
        {
         "name": "22",
         "showlegend": false,
         "type": "box",
         "y": [
          24995,
          25035,
          25068,
          25086,
          25077,
          25083,
          25062,
          25068,
          25053,
          25062,
          25056,
          25032,
          25056,
          25063,
          25058,
          25044
         ]
        },
        {
         "name": "23",
         "showlegend": false,
         "type": "box",
         "y": [
          25010,
          25083,
          25089,
          25071,
          25068,
          25065,
          24981,
          25056,
          25068,
          25071,
          25026,
          25053,
          25068,
          25078,
          25046,
          25074
         ]
        },
        {
         "name": "24",
         "showlegend": false,
         "type": "box",
         "y": [
          24967,
          24984,
          24999,
          24993,
          24987,
          24969,
          25083,
          24951,
          24981,
          24963,
          24984,
          25071,
          24975,
          24991,
          24941,
          25092
         ]
        },
        {
         "name": "25",
         "showlegend": false,
         "type": "box",
         "y": [
          24929,
          25086,
          25083,
          25083,
          25089,
          25065,
          24928,
          25104,
          25065,
          25062,
          25071,
          25026,
          25092,
          25075,
          25094,
          25068
         ]
        },
        {
         "name": "26",
         "showlegend": false,
         "type": "box",
         "y": [
          24967,
          24828,
          24837,
          24831,
          24834,
          24819,
          24792,
          24816,
          24828,
          24825,
          24825,
          24903,
          24831,
          24838,
          24806,
          24842
         ]
        },
        {
         "name": "27",
         "showlegend": false,
         "type": "box",
         "y": [
          24720,
          25101,
          24786,
          24795,
          24828,
          24801,
          25131,
          24849,
          24792,
          24774,
          24783,
          24885,
          24732,
          24802,
          24839,
          24783
         ]
        },
        {
         "name": "28",
         "showlegend": false,
         "type": "box",
         "y": [
          24954,
          25116,
          25116,
          25182,
          25134,
          25185,
          24948,
          25155,
          25062,
          25173,
          25149,
          25116,
          25188,
          25072,
          25145,
          25161
         ]
        },
        {
         "line": {
          "color": "red"
         },
         "mode": "lines",
         "showlegend": false,
         "type": "scatter",
         "x": [
          1,
          28
         ],
         "y": [
          27500,
          27500
         ]
        },
        {
         "line": {
          "color": "black"
         },
         "mode": "lines",
         "showlegend": false,
         "type": "scatter",
         "x": [
          1,
          28
         ],
         "y": [
          22500,
          22500
         ]
        },
        {
         "line": {
          "color": "green",
          "dash": "dot"
         },
         "mode": "lines",
         "showlegend": false,
         "type": "scatter",
         "x": [
          1,
          28
         ],
         "y": [
          25000,
          25000
         ]
        }
       ],
       "layout": {
        "height": 500,
        "template": {
         "data": {
          "bar": [
           {
            "error_x": {
             "color": "#2a3f5f"
            },
            "error_y": {
             "color": "#2a3f5f"
            },
            "marker": {
             "line": {
              "color": "#E5ECF6",
              "width": 0.5
             },
             "pattern": {
              "fillmode": "overlay",
              "size": 10,
              "solidity": 0.2
             }
            },
            "type": "bar"
           }
          ],
          "barpolar": [
           {
            "marker": {
             "line": {
              "color": "#E5ECF6",
              "width": 0.5
             },
             "pattern": {
              "fillmode": "overlay",
              "size": 10,
              "solidity": 0.2
             }
            },
            "type": "barpolar"
           }
          ],
          "carpet": [
           {
            "aaxis": {
             "endlinecolor": "#2a3f5f",
             "gridcolor": "white",
             "linecolor": "white",
             "minorgridcolor": "white",
             "startlinecolor": "#2a3f5f"
            },
            "baxis": {
             "endlinecolor": "#2a3f5f",
             "gridcolor": "white",
             "linecolor": "white",
             "minorgridcolor": "white",
             "startlinecolor": "#2a3f5f"
            },
            "type": "carpet"
           }
          ],
          "choropleth": [
           {
            "colorbar": {
             "outlinewidth": 0,
             "ticks": ""
            },
            "type": "choropleth"
           }
          ],
          "contour": [
           {
            "colorbar": {
             "outlinewidth": 0,
             "ticks": ""
            },
            "colorscale": [
             [
              0,
              "#0d0887"
             ],
             [
              0.1111111111111111,
              "#46039f"
             ],
             [
              0.2222222222222222,
              "#7201a8"
             ],
             [
              0.3333333333333333,
              "#9c179e"
             ],
             [
              0.4444444444444444,
              "#bd3786"
             ],
             [
              0.5555555555555556,
              "#d8576b"
             ],
             [
              0.6666666666666666,
              "#ed7953"
             ],
             [
              0.7777777777777778,
              "#fb9f3a"
             ],
             [
              0.8888888888888888,
              "#fdca26"
             ],
             [
              1,
              "#f0f921"
             ]
            ],
            "type": "contour"
           }
          ],
          "contourcarpet": [
           {
            "colorbar": {
             "outlinewidth": 0,
             "ticks": ""
            },
            "type": "contourcarpet"
           }
          ],
          "heatmap": [
           {
            "colorbar": {
             "outlinewidth": 0,
             "ticks": ""
            },
            "colorscale": [
             [
              0,
              "#0d0887"
             ],
             [
              0.1111111111111111,
              "#46039f"
             ],
             [
              0.2222222222222222,
              "#7201a8"
             ],
             [
              0.3333333333333333,
              "#9c179e"
             ],
             [
              0.4444444444444444,
              "#bd3786"
             ],
             [
              0.5555555555555556,
              "#d8576b"
             ],
             [
              0.6666666666666666,
              "#ed7953"
             ],
             [
              0.7777777777777778,
              "#fb9f3a"
             ],
             [
              0.8888888888888888,
              "#fdca26"
             ],
             [
              1,
              "#f0f921"
             ]
            ],
            "type": "heatmap"
           }
          ],
          "heatmapgl": [
           {
            "colorbar": {
             "outlinewidth": 0,
             "ticks": ""
            },
            "colorscale": [
             [
              0,
              "#0d0887"
             ],
             [
              0.1111111111111111,
              "#46039f"
             ],
             [
              0.2222222222222222,
              "#7201a8"
             ],
             [
              0.3333333333333333,
              "#9c179e"
             ],
             [
              0.4444444444444444,
              "#bd3786"
             ],
             [
              0.5555555555555556,
              "#d8576b"
             ],
             [
              0.6666666666666666,
              "#ed7953"
             ],
             [
              0.7777777777777778,
              "#fb9f3a"
             ],
             [
              0.8888888888888888,
              "#fdca26"
             ],
             [
              1,
              "#f0f921"
             ]
            ],
            "type": "heatmapgl"
           }
          ],
          "histogram": [
           {
            "marker": {
             "pattern": {
              "fillmode": "overlay",
              "size": 10,
              "solidity": 0.2
             }
            },
            "type": "histogram"
           }
          ],
          "histogram2d": [
           {
            "colorbar": {
             "outlinewidth": 0,
             "ticks": ""
            },
            "colorscale": [
             [
              0,
              "#0d0887"
             ],
             [
              0.1111111111111111,
              "#46039f"
             ],
             [
              0.2222222222222222,
              "#7201a8"
             ],
             [
              0.3333333333333333,
              "#9c179e"
             ],
             [
              0.4444444444444444,
              "#bd3786"
             ],
             [
              0.5555555555555556,
              "#d8576b"
             ],
             [
              0.6666666666666666,
              "#ed7953"
             ],
             [
              0.7777777777777778,
              "#fb9f3a"
             ],
             [
              0.8888888888888888,
              "#fdca26"
             ],
             [
              1,
              "#f0f921"
             ]
            ],
            "type": "histogram2d"
           }
          ],
          "histogram2dcontour": [
           {
            "colorbar": {
             "outlinewidth": 0,
             "ticks": ""
            },
            "colorscale": [
             [
              0,
              "#0d0887"
             ],
             [
              0.1111111111111111,
              "#46039f"
             ],
             [
              0.2222222222222222,
              "#7201a8"
             ],
             [
              0.3333333333333333,
              "#9c179e"
             ],
             [
              0.4444444444444444,
              "#bd3786"
             ],
             [
              0.5555555555555556,
              "#d8576b"
             ],
             [
              0.6666666666666666,
              "#ed7953"
             ],
             [
              0.7777777777777778,
              "#fb9f3a"
             ],
             [
              0.8888888888888888,
              "#fdca26"
             ],
             [
              1,
              "#f0f921"
             ]
            ],
            "type": "histogram2dcontour"
           }
          ],
          "mesh3d": [
           {
            "colorbar": {
             "outlinewidth": 0,
             "ticks": ""
            },
            "type": "mesh3d"
           }
          ],
          "parcoords": [
           {
            "line": {
             "colorbar": {
              "outlinewidth": 0,
              "ticks": ""
             }
            },
            "type": "parcoords"
           }
          ],
          "pie": [
           {
            "automargin": true,
            "type": "pie"
           }
          ],
          "scatter": [
           {
            "marker": {
             "colorbar": {
              "outlinewidth": 0,
              "ticks": ""
             }
            },
            "type": "scatter"
           }
          ],
          "scatter3d": [
           {
            "line": {
             "colorbar": {
              "outlinewidth": 0,
              "ticks": ""
             }
            },
            "marker": {
             "colorbar": {
              "outlinewidth": 0,
              "ticks": ""
             }
            },
            "type": "scatter3d"
           }
          ],
          "scattercarpet": [
           {
            "marker": {
             "colorbar": {
              "outlinewidth": 0,
              "ticks": ""
             }
            },
            "type": "scattercarpet"
           }
          ],
          "scattergeo": [
           {
            "marker": {
             "colorbar": {
              "outlinewidth": 0,
              "ticks": ""
             }
            },
            "type": "scattergeo"
           }
          ],
          "scattergl": [
           {
            "marker": {
             "colorbar": {
              "outlinewidth": 0,
              "ticks": ""
             }
            },
            "type": "scattergl"
           }
          ],
          "scattermapbox": [
           {
            "marker": {
             "colorbar": {
              "outlinewidth": 0,
              "ticks": ""
             }
            },
            "type": "scattermapbox"
           }
          ],
          "scatterpolar": [
           {
            "marker": {
             "colorbar": {
              "outlinewidth": 0,
              "ticks": ""
             }
            },
            "type": "scatterpolar"
           }
          ],
          "scatterpolargl": [
           {
            "marker": {
             "colorbar": {
              "outlinewidth": 0,
              "ticks": ""
             }
            },
            "type": "scatterpolargl"
           }
          ],
          "scatterternary": [
           {
            "marker": {
             "colorbar": {
              "outlinewidth": 0,
              "ticks": ""
             }
            },
            "type": "scatterternary"
           }
          ],
          "surface": [
           {
            "colorbar": {
             "outlinewidth": 0,
             "ticks": ""
            },
            "colorscale": [
             [
              0,
              "#0d0887"
             ],
             [
              0.1111111111111111,
              "#46039f"
             ],
             [
              0.2222222222222222,
              "#7201a8"
             ],
             [
              0.3333333333333333,
              "#9c179e"
             ],
             [
              0.4444444444444444,
              "#bd3786"
             ],
             [
              0.5555555555555556,
              "#d8576b"
             ],
             [
              0.6666666666666666,
              "#ed7953"
             ],
             [
              0.7777777777777778,
              "#fb9f3a"
             ],
             [
              0.8888888888888888,
              "#fdca26"
             ],
             [
              1,
              "#f0f921"
             ]
            ],
            "type": "surface"
           }
          ],
          "table": [
           {
            "cells": {
             "fill": {
              "color": "#EBF0F8"
             },
             "line": {
              "color": "white"
             }
            },
            "header": {
             "fill": {
              "color": "#C8D4E3"
             },
             "line": {
              "color": "white"
             }
            },
            "type": "table"
           }
          ]
         },
         "layout": {
          "annotationdefaults": {
           "arrowcolor": "#2a3f5f",
           "arrowhead": 0,
           "arrowwidth": 1
          },
          "autotypenumbers": "strict",
          "coloraxis": {
           "colorbar": {
            "outlinewidth": 0,
            "ticks": ""
           }
          },
          "colorscale": {
           "diverging": [
            [
             0,
             "#8e0152"
            ],
            [
             0.1,
             "#c51b7d"
            ],
            [
             0.2,
             "#de77ae"
            ],
            [
             0.3,
             "#f1b6da"
            ],
            [
             0.4,
             "#fde0ef"
            ],
            [
             0.5,
             "#f7f7f7"
            ],
            [
             0.6,
             "#e6f5d0"
            ],
            [
             0.7,
             "#b8e186"
            ],
            [
             0.8,
             "#7fbc41"
            ],
            [
             0.9,
             "#4d9221"
            ],
            [
             1,
             "#276419"
            ]
           ],
           "sequential": [
            [
             0,
             "#0d0887"
            ],
            [
             0.1111111111111111,
             "#46039f"
            ],
            [
             0.2222222222222222,
             "#7201a8"
            ],
            [
             0.3333333333333333,
             "#9c179e"
            ],
            [
             0.4444444444444444,
             "#bd3786"
            ],
            [
             0.5555555555555556,
             "#d8576b"
            ],
            [
             0.6666666666666666,
             "#ed7953"
            ],
            [
             0.7777777777777778,
             "#fb9f3a"
            ],
            [
             0.8888888888888888,
             "#fdca26"
            ],
            [
             1,
             "#f0f921"
            ]
           ],
           "sequentialminus": [
            [
             0,
             "#0d0887"
            ],
            [
             0.1111111111111111,
             "#46039f"
            ],
            [
             0.2222222222222222,
             "#7201a8"
            ],
            [
             0.3333333333333333,
             "#9c179e"
            ],
            [
             0.4444444444444444,
             "#bd3786"
            ],
            [
             0.5555555555555556,
             "#d8576b"
            ],
            [
             0.6666666666666666,
             "#ed7953"
            ],
            [
             0.7777777777777778,
             "#fb9f3a"
            ],
            [
             0.8888888888888888,
             "#fdca26"
            ],
            [
             1,
             "#f0f921"
            ]
           ]
          },
          "colorway": [
           "#636efa",
           "#EF553B",
           "#00cc96",
           "#ab63fa",
           "#FFA15A",
           "#19d3f3",
           "#FF6692",
           "#B6E880",
           "#FF97FF",
           "#FECB52"
          ],
          "font": {
           "color": "#2a3f5f"
          },
          "geo": {
           "bgcolor": "white",
           "lakecolor": "white",
           "landcolor": "#E5ECF6",
           "showlakes": true,
           "showland": true,
           "subunitcolor": "white"
          },
          "hoverlabel": {
           "align": "left"
          },
          "hovermode": "closest",
          "mapbox": {
           "style": "light"
          },
          "paper_bgcolor": "white",
          "plot_bgcolor": "#E5ECF6",
          "polar": {
           "angularaxis": {
            "gridcolor": "white",
            "linecolor": "white",
            "ticks": ""
           },
           "bgcolor": "#E5ECF6",
           "radialaxis": {
            "gridcolor": "white",
            "linecolor": "white",
            "ticks": ""
           }
          },
          "scene": {
           "xaxis": {
            "backgroundcolor": "#E5ECF6",
            "gridcolor": "white",
            "gridwidth": 2,
            "linecolor": "white",
            "showbackground": true,
            "ticks": "",
            "zerolinecolor": "white"
           },
           "yaxis": {
            "backgroundcolor": "#E5ECF6",
            "gridcolor": "white",
            "gridwidth": 2,
            "linecolor": "white",
            "showbackground": true,
            "ticks": "",
            "zerolinecolor": "white"
           },
           "zaxis": {
            "backgroundcolor": "#E5ECF6",
            "gridcolor": "white",
            "gridwidth": 2,
            "linecolor": "white",
            "showbackground": true,
            "ticks": "",
            "zerolinecolor": "white"
           }
          },
          "shapedefaults": {
           "line": {
            "color": "#2a3f5f"
           }
          },
          "ternary": {
           "aaxis": {
            "gridcolor": "white",
            "linecolor": "white",
            "ticks": ""
           },
           "baxis": {
            "gridcolor": "white",
            "linecolor": "white",
            "ticks": ""
           },
           "bgcolor": "#E5ECF6",
           "caxis": {
            "gridcolor": "white",
            "linecolor": "white",
            "ticks": ""
           }
          },
          "title": {
           "x": 0.05
          },
          "xaxis": {
           "automargin": true,
           "gridcolor": "white",
           "linecolor": "white",
           "ticks": "",
           "title": {
            "standoff": 15
           },
           "zerolinecolor": "white",
           "zerolinewidth": 2
          },
          "yaxis": {
           "automargin": true,
           "gridcolor": "white",
           "linecolor": "white",
           "ticks": "",
           "title": {
            "standoff": 15
           },
           "zerolinecolor": "white",
           "zerolinewidth": 2
          }
         }
        },
        "title": {
         "text": "New_fan_Speed_100pwm"
        },
        "width": 800,
        "yaxis": {
         "title": {
          "text": "speed"
         }
        }
       }
      }
     },
     "metadata": {},
     "output_type": "display_data"
    }
   ],
   "source": [
    "box_plot(New_fan_Speed_100pwm,upper_limit=27500,lower_limit=22500,\n",
    "                 nominal=25000,name='New_fan_Speed_100pwm',plot_data='speed')"
   ]
  },
  {
   "cell_type": "code",
   "execution_count": 17,
   "id": "b659920a",
   "metadata": {
    "extensions": {
     "jupyter_dashboards": {
      "version": 1,
      "views": {
       "default_view": {
        "col": 0,
        "height": 2,
        "row": 32,
        "width": 12
       }
      }
     }
    }
   },
   "outputs": [
    {
     "data": {
      "application/vnd.plotly.v1+json": {
       "config": {
        "plotlyServerURL": "https://plot.ly"
       },
       "data": [
        {
         "name": "1",
         "showlegend": false,
         "type": "box",
         "y": [
          5036,
          5043,
          5061,
          5019,
          5046,
          5025,
          5001,
          5055,
          5001,
          5013,
          5013,
          5016,
          4986,
          5003,
          5011,
          4983
         ]
        },
        {
         "name": "2",
         "showlegend": false,
         "type": "box",
         "y": [
          5040,
          5043,
          5052,
          5046,
          5034,
          5049,
          5049,
          5037,
          5025,
          5025,
          5031,
          5049,
          5025,
          5015,
          5035,
          5043
         ]
        },
        {
         "name": "3",
         "showlegend": false,
         "type": "box",
         "y": [
          5017,
          5034,
          4986,
          4974,
          5031,
          5019,
          5061,
          5034,
          5022,
          5061,
          5079,
          5061,
          5058,
          5051,
          5032,
          5037
         ]
        },
        {
         "name": "4",
         "showlegend": false,
         "type": "box",
         "y": [
          5036,
          4986,
          5013,
          5016,
          5016,
          5016,
          5016,
          5007,
          5016,
          5013,
          5031,
          5037,
          5037,
          5003,
          5026,
          5016
         ]
        },
        {
         "name": "5",
         "showlegend": false,
         "type": "box",
         "y": [
          5024,
          5028,
          5064,
          5082,
          5025,
          5001,
          5004,
          4959,
          5025,
          4995,
          5061,
          5046,
          4953,
          4985,
          5035,
          5019
         ]
        },
        {
         "name": "6",
         "showlegend": false,
         "type": "box",
         "y": [
          5004,
          4965,
          4986,
          4971,
          4992,
          4986,
          4983,
          5022,
          4953,
          4977,
          4989,
          5004,
          4971,
          4967,
          4963,
          4986
         ]
        },
        {
         "name": "7",
         "showlegend": false,
         "type": "box",
         "y": [
          5064,
          4989,
          5025,
          5043,
          5046,
          5076,
          5007,
          4995,
          5073,
          5052,
          5016,
          5046,
          5016,
          5042,
          5083,
          5016
         ]
        },
        {
         "name": "8",
         "showlegend": false,
         "type": "box",
         "y": [
          5017,
          5001,
          4992,
          5025,
          5016,
          5001,
          5016,
          4986,
          5004,
          5004,
          4995,
          5025,
          5004,
          4994,
          5014,
          4986
         ]
        },
        {
         "name": "9",
         "showlegend": false,
         "type": "box",
         "y": [
          5059,
          4992,
          4989,
          4956,
          5067,
          4983,
          5043,
          5046,
          4995,
          4983,
          4986,
          5016,
          4983,
          4973,
          5005,
          5016
         ]
        },
        {
         "name": "10",
         "showlegend": false,
         "type": "box",
         "y": [
          5069,
          5058,
          5049,
          5046,
          5049,
          5043,
          5055,
          5004,
          5034,
          4984,
          5076,
          5055,
          5046,
          4984,
          5044,
          5043
         ]
        },
        {
         "name": "11",
         "showlegend": false,
         "type": "box",
         "y": [
          5060,
          5031,
          5004,
          5073,
          5037,
          5025,
          5016,
          5049,
          5022,
          5043,
          4992,
          5007,
          5016,
          5033,
          5032,
          4965
         ]
        },
        {
         "name": "12",
         "showlegend": false,
         "type": "box",
         "y": [
          5045,
          5049,
          5037,
          4989,
          5028,
          4995,
          5088,
          4944,
          4953,
          5067,
          5034,
          5016,
          5073,
          5057,
          4963,
          5043
         ]
        },
        {
         "name": "13",
         "showlegend": false,
         "type": "box",
         "y": [
          5007,
          4974,
          4992,
          4956,
          4974,
          5016,
          4962,
          4989,
          5004,
          4962,
          4956,
          5004,
          4977,
          4952,
          5014,
          4971
         ]
        },
        {
         "name": "14",
         "showlegend": false,
         "type": "box",
         "y": [
          5016,
          5013,
          4998,
          5004,
          4995,
          5025,
          4968,
          5067,
          4998,
          5016,
          5037,
          4995,
          4971,
          5006,
          5008,
          5016
         ]
        },
        {
         "name": "15",
         "showlegend": false,
         "type": "box",
         "y": [
          5049,
          5046,
          5043,
          5001,
          5019,
          4985,
          5055,
          5058,
          5046,
          4977,
          5064,
          5046,
          5037,
          4967,
          5056,
          5049
         ]
        },
        {
         "name": "16",
         "showlegend": false,
         "type": "box",
         "y": [
          5087,
          5094,
          5064,
          5073,
          5067,
          5049,
          5043,
          4956,
          5001,
          5043,
          5052,
          5019,
          5031,
          5033,
          5011,
          5016
         ]
        },
        {
         "name": "17",
         "showlegend": false,
         "type": "box",
         "y": [
          5017,
          4971,
          4986,
          4986,
          4986,
          4971,
          4995,
          5019,
          4956,
          4983,
          4986,
          5025,
          4962,
          4973,
          4966,
          4983
         ]
        },
        {
         "name": "18",
         "showlegend": false,
         "type": "box",
         "y": [
          5061,
          5049,
          5055,
          5052,
          4998,
          5043,
          5016,
          5004,
          5016,
          5034,
          5043,
          4965,
          5046,
          5024,
          5026,
          5073
         ]
        },
        {
         "name": "19",
         "showlegend": false,
         "type": "box",
         "y": [
          5039,
          5022,
          5031,
          5016,
          5034,
          5019,
          5034,
          5031,
          5019,
          5022,
          5034,
          5049,
          5028,
          5012,
          5029,
          5031
         ]
        },
        {
         "name": "20",
         "showlegend": false,
         "type": "box",
         "y": [
          5062,
          5034,
          5037,
          4995,
          5025,
          5046,
          5022,
          5004,
          5046,
          5013,
          5013,
          5007,
          5016,
          5003,
          5056,
          5022
         ]
        },
        {
         "name": "21",
         "showlegend": false,
         "type": "box",
         "y": [
          5039,
          5004,
          5004,
          5007,
          4986,
          5025,
          5022,
          4992,
          4998,
          5001,
          4995,
          5037,
          5007,
          4991,
          5008,
          4989
         ]
        },
        {
         "name": "22",
         "showlegend": false,
         "type": "box",
         "y": [
          5020,
          5001,
          4986,
          4986,
          5013,
          5004,
          4989,
          5016,
          5019,
          5007,
          5001,
          5016,
          5001,
          4997,
          5029,
          5019
         ]
        },
        {
         "line": {
          "color": "red"
         },
         "mode": "lines",
         "showlegend": false,
         "type": "scatter",
         "x": [
          1,
          22
         ],
         "y": [
          5500,
          5500
         ]
        },
        {
         "line": {
          "color": "black"
         },
         "mode": "lines",
         "showlegend": false,
         "type": "scatter",
         "x": [
          1,
          22
         ],
         "y": [
          4500,
          4500
         ]
        },
        {
         "line": {
          "color": "green",
          "dash": "dot"
         },
         "mode": "lines",
         "showlegend": false,
         "type": "scatter",
         "x": [
          1,
          22
         ],
         "y": [
          5000,
          5000
         ]
        }
       ],
       "layout": {
        "height": 500,
        "template": {
         "data": {
          "bar": [
           {
            "error_x": {
             "color": "#2a3f5f"
            },
            "error_y": {
             "color": "#2a3f5f"
            },
            "marker": {
             "line": {
              "color": "#E5ECF6",
              "width": 0.5
             },
             "pattern": {
              "fillmode": "overlay",
              "size": 10,
              "solidity": 0.2
             }
            },
            "type": "bar"
           }
          ],
          "barpolar": [
           {
            "marker": {
             "line": {
              "color": "#E5ECF6",
              "width": 0.5
             },
             "pattern": {
              "fillmode": "overlay",
              "size": 10,
              "solidity": 0.2
             }
            },
            "type": "barpolar"
           }
          ],
          "carpet": [
           {
            "aaxis": {
             "endlinecolor": "#2a3f5f",
             "gridcolor": "white",
             "linecolor": "white",
             "minorgridcolor": "white",
             "startlinecolor": "#2a3f5f"
            },
            "baxis": {
             "endlinecolor": "#2a3f5f",
             "gridcolor": "white",
             "linecolor": "white",
             "minorgridcolor": "white",
             "startlinecolor": "#2a3f5f"
            },
            "type": "carpet"
           }
          ],
          "choropleth": [
           {
            "colorbar": {
             "outlinewidth": 0,
             "ticks": ""
            },
            "type": "choropleth"
           }
          ],
          "contour": [
           {
            "colorbar": {
             "outlinewidth": 0,
             "ticks": ""
            },
            "colorscale": [
             [
              0,
              "#0d0887"
             ],
             [
              0.1111111111111111,
              "#46039f"
             ],
             [
              0.2222222222222222,
              "#7201a8"
             ],
             [
              0.3333333333333333,
              "#9c179e"
             ],
             [
              0.4444444444444444,
              "#bd3786"
             ],
             [
              0.5555555555555556,
              "#d8576b"
             ],
             [
              0.6666666666666666,
              "#ed7953"
             ],
             [
              0.7777777777777778,
              "#fb9f3a"
             ],
             [
              0.8888888888888888,
              "#fdca26"
             ],
             [
              1,
              "#f0f921"
             ]
            ],
            "type": "contour"
           }
          ],
          "contourcarpet": [
           {
            "colorbar": {
             "outlinewidth": 0,
             "ticks": ""
            },
            "type": "contourcarpet"
           }
          ],
          "heatmap": [
           {
            "colorbar": {
             "outlinewidth": 0,
             "ticks": ""
            },
            "colorscale": [
             [
              0,
              "#0d0887"
             ],
             [
              0.1111111111111111,
              "#46039f"
             ],
             [
              0.2222222222222222,
              "#7201a8"
             ],
             [
              0.3333333333333333,
              "#9c179e"
             ],
             [
              0.4444444444444444,
              "#bd3786"
             ],
             [
              0.5555555555555556,
              "#d8576b"
             ],
             [
              0.6666666666666666,
              "#ed7953"
             ],
             [
              0.7777777777777778,
              "#fb9f3a"
             ],
             [
              0.8888888888888888,
              "#fdca26"
             ],
             [
              1,
              "#f0f921"
             ]
            ],
            "type": "heatmap"
           }
          ],
          "heatmapgl": [
           {
            "colorbar": {
             "outlinewidth": 0,
             "ticks": ""
            },
            "colorscale": [
             [
              0,
              "#0d0887"
             ],
             [
              0.1111111111111111,
              "#46039f"
             ],
             [
              0.2222222222222222,
              "#7201a8"
             ],
             [
              0.3333333333333333,
              "#9c179e"
             ],
             [
              0.4444444444444444,
              "#bd3786"
             ],
             [
              0.5555555555555556,
              "#d8576b"
             ],
             [
              0.6666666666666666,
              "#ed7953"
             ],
             [
              0.7777777777777778,
              "#fb9f3a"
             ],
             [
              0.8888888888888888,
              "#fdca26"
             ],
             [
              1,
              "#f0f921"
             ]
            ],
            "type": "heatmapgl"
           }
          ],
          "histogram": [
           {
            "marker": {
             "pattern": {
              "fillmode": "overlay",
              "size": 10,
              "solidity": 0.2
             }
            },
            "type": "histogram"
           }
          ],
          "histogram2d": [
           {
            "colorbar": {
             "outlinewidth": 0,
             "ticks": ""
            },
            "colorscale": [
             [
              0,
              "#0d0887"
             ],
             [
              0.1111111111111111,
              "#46039f"
             ],
             [
              0.2222222222222222,
              "#7201a8"
             ],
             [
              0.3333333333333333,
              "#9c179e"
             ],
             [
              0.4444444444444444,
              "#bd3786"
             ],
             [
              0.5555555555555556,
              "#d8576b"
             ],
             [
              0.6666666666666666,
              "#ed7953"
             ],
             [
              0.7777777777777778,
              "#fb9f3a"
             ],
             [
              0.8888888888888888,
              "#fdca26"
             ],
             [
              1,
              "#f0f921"
             ]
            ],
            "type": "histogram2d"
           }
          ],
          "histogram2dcontour": [
           {
            "colorbar": {
             "outlinewidth": 0,
             "ticks": ""
            },
            "colorscale": [
             [
              0,
              "#0d0887"
             ],
             [
              0.1111111111111111,
              "#46039f"
             ],
             [
              0.2222222222222222,
              "#7201a8"
             ],
             [
              0.3333333333333333,
              "#9c179e"
             ],
             [
              0.4444444444444444,
              "#bd3786"
             ],
             [
              0.5555555555555556,
              "#d8576b"
             ],
             [
              0.6666666666666666,
              "#ed7953"
             ],
             [
              0.7777777777777778,
              "#fb9f3a"
             ],
             [
              0.8888888888888888,
              "#fdca26"
             ],
             [
              1,
              "#f0f921"
             ]
            ],
            "type": "histogram2dcontour"
           }
          ],
          "mesh3d": [
           {
            "colorbar": {
             "outlinewidth": 0,
             "ticks": ""
            },
            "type": "mesh3d"
           }
          ],
          "parcoords": [
           {
            "line": {
             "colorbar": {
              "outlinewidth": 0,
              "ticks": ""
             }
            },
            "type": "parcoords"
           }
          ],
          "pie": [
           {
            "automargin": true,
            "type": "pie"
           }
          ],
          "scatter": [
           {
            "marker": {
             "colorbar": {
              "outlinewidth": 0,
              "ticks": ""
             }
            },
            "type": "scatter"
           }
          ],
          "scatter3d": [
           {
            "line": {
             "colorbar": {
              "outlinewidth": 0,
              "ticks": ""
             }
            },
            "marker": {
             "colorbar": {
              "outlinewidth": 0,
              "ticks": ""
             }
            },
            "type": "scatter3d"
           }
          ],
          "scattercarpet": [
           {
            "marker": {
             "colorbar": {
              "outlinewidth": 0,
              "ticks": ""
             }
            },
            "type": "scattercarpet"
           }
          ],
          "scattergeo": [
           {
            "marker": {
             "colorbar": {
              "outlinewidth": 0,
              "ticks": ""
             }
            },
            "type": "scattergeo"
           }
          ],
          "scattergl": [
           {
            "marker": {
             "colorbar": {
              "outlinewidth": 0,
              "ticks": ""
             }
            },
            "type": "scattergl"
           }
          ],
          "scattermapbox": [
           {
            "marker": {
             "colorbar": {
              "outlinewidth": 0,
              "ticks": ""
             }
            },
            "type": "scattermapbox"
           }
          ],
          "scatterpolar": [
           {
            "marker": {
             "colorbar": {
              "outlinewidth": 0,
              "ticks": ""
             }
            },
            "type": "scatterpolar"
           }
          ],
          "scatterpolargl": [
           {
            "marker": {
             "colorbar": {
              "outlinewidth": 0,
              "ticks": ""
             }
            },
            "type": "scatterpolargl"
           }
          ],
          "scatterternary": [
           {
            "marker": {
             "colorbar": {
              "outlinewidth": 0,
              "ticks": ""
             }
            },
            "type": "scatterternary"
           }
          ],
          "surface": [
           {
            "colorbar": {
             "outlinewidth": 0,
             "ticks": ""
            },
            "colorscale": [
             [
              0,
              "#0d0887"
             ],
             [
              0.1111111111111111,
              "#46039f"
             ],
             [
              0.2222222222222222,
              "#7201a8"
             ],
             [
              0.3333333333333333,
              "#9c179e"
             ],
             [
              0.4444444444444444,
              "#bd3786"
             ],
             [
              0.5555555555555556,
              "#d8576b"
             ],
             [
              0.6666666666666666,
              "#ed7953"
             ],
             [
              0.7777777777777778,
              "#fb9f3a"
             ],
             [
              0.8888888888888888,
              "#fdca26"
             ],
             [
              1,
              "#f0f921"
             ]
            ],
            "type": "surface"
           }
          ],
          "table": [
           {
            "cells": {
             "fill": {
              "color": "#EBF0F8"
             },
             "line": {
              "color": "white"
             }
            },
            "header": {
             "fill": {
              "color": "#C8D4E3"
             },
             "line": {
              "color": "white"
             }
            },
            "type": "table"
           }
          ]
         },
         "layout": {
          "annotationdefaults": {
           "arrowcolor": "#2a3f5f",
           "arrowhead": 0,
           "arrowwidth": 1
          },
          "autotypenumbers": "strict",
          "coloraxis": {
           "colorbar": {
            "outlinewidth": 0,
            "ticks": ""
           }
          },
          "colorscale": {
           "diverging": [
            [
             0,
             "#8e0152"
            ],
            [
             0.1,
             "#c51b7d"
            ],
            [
             0.2,
             "#de77ae"
            ],
            [
             0.3,
             "#f1b6da"
            ],
            [
             0.4,
             "#fde0ef"
            ],
            [
             0.5,
             "#f7f7f7"
            ],
            [
             0.6,
             "#e6f5d0"
            ],
            [
             0.7,
             "#b8e186"
            ],
            [
             0.8,
             "#7fbc41"
            ],
            [
             0.9,
             "#4d9221"
            ],
            [
             1,
             "#276419"
            ]
           ],
           "sequential": [
            [
             0,
             "#0d0887"
            ],
            [
             0.1111111111111111,
             "#46039f"
            ],
            [
             0.2222222222222222,
             "#7201a8"
            ],
            [
             0.3333333333333333,
             "#9c179e"
            ],
            [
             0.4444444444444444,
             "#bd3786"
            ],
            [
             0.5555555555555556,
             "#d8576b"
            ],
            [
             0.6666666666666666,
             "#ed7953"
            ],
            [
             0.7777777777777778,
             "#fb9f3a"
            ],
            [
             0.8888888888888888,
             "#fdca26"
            ],
            [
             1,
             "#f0f921"
            ]
           ],
           "sequentialminus": [
            [
             0,
             "#0d0887"
            ],
            [
             0.1111111111111111,
             "#46039f"
            ],
            [
             0.2222222222222222,
             "#7201a8"
            ],
            [
             0.3333333333333333,
             "#9c179e"
            ],
            [
             0.4444444444444444,
             "#bd3786"
            ],
            [
             0.5555555555555556,
             "#d8576b"
            ],
            [
             0.6666666666666666,
             "#ed7953"
            ],
            [
             0.7777777777777778,
             "#fb9f3a"
            ],
            [
             0.8888888888888888,
             "#fdca26"
            ],
            [
             1,
             "#f0f921"
            ]
           ]
          },
          "colorway": [
           "#636efa",
           "#EF553B",
           "#00cc96",
           "#ab63fa",
           "#FFA15A",
           "#19d3f3",
           "#FF6692",
           "#B6E880",
           "#FF97FF",
           "#FECB52"
          ],
          "font": {
           "color": "#2a3f5f"
          },
          "geo": {
           "bgcolor": "white",
           "lakecolor": "white",
           "landcolor": "#E5ECF6",
           "showlakes": true,
           "showland": true,
           "subunitcolor": "white"
          },
          "hoverlabel": {
           "align": "left"
          },
          "hovermode": "closest",
          "mapbox": {
           "style": "light"
          },
          "paper_bgcolor": "white",
          "plot_bgcolor": "#E5ECF6",
          "polar": {
           "angularaxis": {
            "gridcolor": "white",
            "linecolor": "white",
            "ticks": ""
           },
           "bgcolor": "#E5ECF6",
           "radialaxis": {
            "gridcolor": "white",
            "linecolor": "white",
            "ticks": ""
           }
          },
          "scene": {
           "xaxis": {
            "backgroundcolor": "#E5ECF6",
            "gridcolor": "white",
            "gridwidth": 2,
            "linecolor": "white",
            "showbackground": true,
            "ticks": "",
            "zerolinecolor": "white"
           },
           "yaxis": {
            "backgroundcolor": "#E5ECF6",
            "gridcolor": "white",
            "gridwidth": 2,
            "linecolor": "white",
            "showbackground": true,
            "ticks": "",
            "zerolinecolor": "white"
           },
           "zaxis": {
            "backgroundcolor": "#E5ECF6",
            "gridcolor": "white",
            "gridwidth": 2,
            "linecolor": "white",
            "showbackground": true,
            "ticks": "",
            "zerolinecolor": "white"
           }
          },
          "shapedefaults": {
           "line": {
            "color": "#2a3f5f"
           }
          },
          "ternary": {
           "aaxis": {
            "gridcolor": "white",
            "linecolor": "white",
            "ticks": ""
           },
           "baxis": {
            "gridcolor": "white",
            "linecolor": "white",
            "ticks": ""
           },
           "bgcolor": "#E5ECF6",
           "caxis": {
            "gridcolor": "white",
            "linecolor": "white",
            "ticks": ""
           }
          },
          "title": {
           "x": 0.05
          },
          "xaxis": {
           "automargin": true,
           "gridcolor": "white",
           "linecolor": "white",
           "ticks": "",
           "title": {
            "standoff": 15
           },
           "zerolinecolor": "white",
           "zerolinewidth": 2
          },
          "yaxis": {
           "automargin": true,
           "gridcolor": "white",
           "linecolor": "white",
           "ticks": "",
           "title": {
            "standoff": 15
           },
           "zerolinecolor": "white",
           "zerolinewidth": 2
          }
         }
        },
        "title": {
         "text": "Current_fan_Speed_20pwm"
        },
        "width": 800,
        "yaxis": {
         "title": {
          "text": "speed"
         }
        }
       }
      }
     },
     "metadata": {},
     "output_type": "display_data"
    }
   ],
   "source": [
    "box_plot(Current_fan_Speed_20pwm,upper_limit=5500,lower_limit=4500,\n",
    "                 nominal=5000,name='Current_fan_Speed_20pwm',plot_data='speed')"
   ]
  },
  {
   "cell_type": "code",
   "execution_count": 18,
   "id": "cd89cd52",
   "metadata": {
    "extensions": {
     "jupyter_dashboards": {
      "version": 1,
      "views": {
       "default_view": {
        "col": 0,
        "height": 2,
        "row": 34,
        "width": 12
       }
      }
     }
    }
   },
   "outputs": [
    {
     "data": {
      "application/vnd.plotly.v1+json": {
       "config": {
        "plotlyServerURL": "https://plot.ly"
       },
       "data": [
        {
         "name": "1",
         "showlegend": false,
         "type": "box",
         "y": [
          4992,
          5007,
          5025,
          5001,
          5007,
          5016,
          5001,
          5016,
          4989,
          5016,
          5043,
          5025,
          5007,
          5006,
          4999,
          5031
         ]
        },
        {
         "name": "2",
         "showlegend": false,
         "type": "box",
         "y": [
          5007,
          4944,
          4986,
          5022,
          5001,
          4959,
          4938,
          5028,
          5055,
          4953,
          4959,
          4986,
          4995,
          4943,
          5065,
          4935
         ]
        },
        {
         "name": "3",
         "showlegend": false,
         "type": "box",
         "y": [
          5054,
          5013,
          5049,
          5013,
          5004,
          5022,
          5055,
          5073,
          5037,
          5034,
          4953,
          4971,
          4962,
          5024,
          5047,
          4974
         ]
        },
        {
         "name": "4",
         "showlegend": false,
         "type": "box",
         "y": [
          5035,
          4965,
          4986,
          5001,
          5004,
          5004,
          4986,
          5085,
          5022,
          5016,
          4986,
          4989,
          4989,
          5006,
          5032,
          4962
         ]
        },
        {
         "name": "5",
         "showlegend": false,
         "type": "box",
         "y": [
          5084,
          5073,
          5019,
          5049,
          4965,
          5079,
          5043,
          5049,
          5037,
          4977,
          5082,
          5034,
          5016,
          4967,
          5047,
          5028
         ]
        },
        {
         "name": "6",
         "showlegend": false,
         "type": "box",
         "y": [
          5040,
          5025,
          5049,
          5004,
          5031,
          5085,
          5016,
          5055,
          5076,
          5034,
          5034,
          5016,
          5049,
          5024,
          5086,
          5016
         ]
        },
        {
         "name": "7",
         "showlegend": false,
         "type": "box",
         "y": [
          5035,
          5046,
          5061,
          5061,
          5049,
          5037,
          5034,
          5061,
          5034,
          5034,
          4971,
          5004,
          5013,
          5024,
          5044,
          5049
         ]
        },
        {
         "name": "8",
         "showlegend": false,
         "type": "box",
         "y": [
          5035,
          4965,
          5004,
          4989,
          5016,
          5052,
          5061,
          5043,
          4998,
          4995,
          5004,
          5013,
          4992,
          4985,
          5008,
          4962
         ]
        },
        {
         "name": "9",
         "showlegend": false,
         "type": "box",
         "y": [
          5003,
          4959,
          4974,
          5004,
          5001,
          4968,
          4953,
          5007,
          4968,
          5013,
          4962,
          4989,
          4971,
          5003,
          4978,
          5004
         ]
        },
        {
         "name": "10",
         "showlegend": false,
         "type": "box",
         "y": [
          5064,
          5073,
          5076,
          5091,
          5079,
          5061,
          5058,
          5076,
          5043,
          5043,
          5073,
          5061,
          5046,
          5033,
          5053,
          5013
         ]
        },
        {
         "name": "11",
         "showlegend": false,
         "type": "box",
         "y": [
          5046,
          4995,
          5013,
          5022,
          5001,
          5004,
          5001,
          5004,
          5064,
          5019,
          4953,
          4926,
          4989,
          5009,
          5074,
          5034
         ]
        },
        {
         "name": "12",
         "showlegend": false,
         "type": "box",
         "y": [
          4969,
          4986,
          5004,
          4998,
          4956,
          4989,
          4968,
          4986,
          4971,
          5001,
          4962,
          4893,
          5022,
          4991,
          4981,
          4974
         ]
        },
        {
         "name": "13",
         "showlegend": false,
         "type": "box",
         "y": [
          5036,
          5022,
          5028,
          5025,
          5013,
          5013,
          5016,
          5046,
          4995,
          5013,
          5016,
          4989,
          5016,
          5003,
          5005,
          5016
         ]
        },
        {
         "name": "14",
         "showlegend": false,
         "type": "box",
         "y": [
          5047,
          5043,
          5004,
          5043,
          5016,
          5046,
          5022,
          5031,
          5037,
          5034,
          5034,
          5004,
          5031,
          5024,
          5047,
          5046
         ]
        },
        {
         "name": "15",
         "showlegend": false,
         "type": "box",
         "y": [
          5053,
          5055,
          5061,
          5061,
          5058,
          5049,
          5025,
          5055,
          5043,
          5025,
          5046,
          5019,
          5046,
          5015,
          5053,
          5055
         ]
        },
        {
         "name": "16",
         "showlegend": false,
         "type": "box",
         "y": [
          5023,
          5001,
          5025,
          5007,
          5001,
          4995,
          4995,
          5022,
          4983,
          5019,
          4998,
          4953,
          5007,
          5009,
          4993,
          5037
         ]
        },
        {
         "name": "17",
         "showlegend": false,
         "type": "box",
         "y": [
          5031,
          4935,
          5034,
          5016,
          4977,
          4989,
          4956,
          5025,
          5025,
          5007,
          5019,
          4986,
          5025,
          4997,
          5035,
          5001
         ]
        },
        {
         "name": "18",
         "showlegend": false,
         "type": "box",
         "y": [
          5017,
          5028,
          4983,
          4974,
          4992,
          4974,
          5004,
          5046,
          4956,
          4992,
          4983,
          5013,
          4935,
          4982,
          4966,
          4987
         ]
        },
        {
         "name": "19",
         "showlegend": false,
         "type": "box",
         "y": [
          5017,
          4968,
          5007,
          5007,
          4995,
          4998,
          5001,
          4992,
          5025,
          5007,
          4977,
          4989,
          4986,
          4997,
          5035,
          4995
         ]
        },
        {
         "name": "20",
         "showlegend": false,
         "type": "box",
         "y": [
          5030,
          5055,
          5034,
          5016,
          4992,
          5013,
          5085,
          5091,
          5091,
          4995,
          5055,
          5061,
          5004,
          4985,
          5101,
          5079
         ]
        },
        {
         "name": "21",
         "showlegend": false,
         "type": "box",
         "y": [
          5062,
          5004,
          4974,
          4986,
          4953,
          4974,
          4962,
          4905,
          4935,
          4908,
          4953,
          4947,
          4953,
          4898,
          4945,
          4905
         ]
        },
        {
         "name": "22",
         "showlegend": false,
         "type": "box",
         "y": [
          5009,
          4956,
          5034,
          4977,
          4974,
          4965,
          5019,
          4947,
          4968,
          4965,
          4989,
          5016,
          4935,
          4955,
          4978,
          4977
         ]
        },
        {
         "name": "23",
         "showlegend": false,
         "type": "box",
         "y": [
          5086,
          5043,
          4995,
          4983,
          5055,
          5052,
          4998,
          5034,
          5049,
          5043,
          5055,
          5073,
          5094,
          5033,
          5059,
          4983
         ]
        },
        {
         "name": "24",
         "showlegend": false,
         "type": "box",
         "y": [
          5016,
          4995,
          5046,
          4986,
          5001,
          4989,
          5025,
          4995,
          4995,
          5085,
          5001,
          5013,
          4983,
          5075,
          5005,
          5043
         ]
        },
        {
         "name": "25",
         "showlegend": false,
         "type": "box",
         "y": [
          5068,
          5058,
          4989,
          4983,
          5031,
          5046,
          4983,
          5034,
          5058,
          5025,
          4995,
          5025,
          5031,
          5015,
          5068,
          5031
         ]
        },
        {
         "name": "26",
         "showlegend": false,
         "type": "box",
         "y": [
          4982,
          4974,
          5055,
          4977,
          4971,
          4935,
          4971,
          4962,
          5007,
          4971,
          4974,
          4986,
          5025,
          4961,
          5017,
          4998
         ]
        },
        {
         "name": "27",
         "showlegend": false,
         "type": "box",
         "y": [
          5065,
          5064,
          5022,
          5043,
          5043,
          5049,
          5037,
          5046,
          5046,
          5046,
          5067,
          5016,
          5016,
          5036,
          5056,
          5073
         ]
        },
        {
         "name": "28",
         "showlegend": false,
         "type": "box",
         "y": [
          5048,
          4995,
          5046,
          5001,
          4995,
          4983,
          5016,
          5034,
          5016,
          5013,
          5004,
          5034,
          5046,
          5003,
          5026,
          5034
         ]
        },
        {
         "line": {
          "color": "red"
         },
         "mode": "lines",
         "showlegend": false,
         "type": "scatter",
         "x": [
          1,
          28
         ],
         "y": [
          5500,
          5500
         ]
        },
        {
         "line": {
          "color": "black"
         },
         "mode": "lines",
         "showlegend": false,
         "type": "scatter",
         "x": [
          1,
          28
         ],
         "y": [
          4500,
          4500
         ]
        },
        {
         "line": {
          "color": "green",
          "dash": "dot"
         },
         "mode": "lines",
         "showlegend": false,
         "type": "scatter",
         "x": [
          1,
          28
         ],
         "y": [
          5000,
          5000
         ]
        }
       ],
       "layout": {
        "height": 500,
        "template": {
         "data": {
          "bar": [
           {
            "error_x": {
             "color": "#2a3f5f"
            },
            "error_y": {
             "color": "#2a3f5f"
            },
            "marker": {
             "line": {
              "color": "#E5ECF6",
              "width": 0.5
             },
             "pattern": {
              "fillmode": "overlay",
              "size": 10,
              "solidity": 0.2
             }
            },
            "type": "bar"
           }
          ],
          "barpolar": [
           {
            "marker": {
             "line": {
              "color": "#E5ECF6",
              "width": 0.5
             },
             "pattern": {
              "fillmode": "overlay",
              "size": 10,
              "solidity": 0.2
             }
            },
            "type": "barpolar"
           }
          ],
          "carpet": [
           {
            "aaxis": {
             "endlinecolor": "#2a3f5f",
             "gridcolor": "white",
             "linecolor": "white",
             "minorgridcolor": "white",
             "startlinecolor": "#2a3f5f"
            },
            "baxis": {
             "endlinecolor": "#2a3f5f",
             "gridcolor": "white",
             "linecolor": "white",
             "minorgridcolor": "white",
             "startlinecolor": "#2a3f5f"
            },
            "type": "carpet"
           }
          ],
          "choropleth": [
           {
            "colorbar": {
             "outlinewidth": 0,
             "ticks": ""
            },
            "type": "choropleth"
           }
          ],
          "contour": [
           {
            "colorbar": {
             "outlinewidth": 0,
             "ticks": ""
            },
            "colorscale": [
             [
              0,
              "#0d0887"
             ],
             [
              0.1111111111111111,
              "#46039f"
             ],
             [
              0.2222222222222222,
              "#7201a8"
             ],
             [
              0.3333333333333333,
              "#9c179e"
             ],
             [
              0.4444444444444444,
              "#bd3786"
             ],
             [
              0.5555555555555556,
              "#d8576b"
             ],
             [
              0.6666666666666666,
              "#ed7953"
             ],
             [
              0.7777777777777778,
              "#fb9f3a"
             ],
             [
              0.8888888888888888,
              "#fdca26"
             ],
             [
              1,
              "#f0f921"
             ]
            ],
            "type": "contour"
           }
          ],
          "contourcarpet": [
           {
            "colorbar": {
             "outlinewidth": 0,
             "ticks": ""
            },
            "type": "contourcarpet"
           }
          ],
          "heatmap": [
           {
            "colorbar": {
             "outlinewidth": 0,
             "ticks": ""
            },
            "colorscale": [
             [
              0,
              "#0d0887"
             ],
             [
              0.1111111111111111,
              "#46039f"
             ],
             [
              0.2222222222222222,
              "#7201a8"
             ],
             [
              0.3333333333333333,
              "#9c179e"
             ],
             [
              0.4444444444444444,
              "#bd3786"
             ],
             [
              0.5555555555555556,
              "#d8576b"
             ],
             [
              0.6666666666666666,
              "#ed7953"
             ],
             [
              0.7777777777777778,
              "#fb9f3a"
             ],
             [
              0.8888888888888888,
              "#fdca26"
             ],
             [
              1,
              "#f0f921"
             ]
            ],
            "type": "heatmap"
           }
          ],
          "heatmapgl": [
           {
            "colorbar": {
             "outlinewidth": 0,
             "ticks": ""
            },
            "colorscale": [
             [
              0,
              "#0d0887"
             ],
             [
              0.1111111111111111,
              "#46039f"
             ],
             [
              0.2222222222222222,
              "#7201a8"
             ],
             [
              0.3333333333333333,
              "#9c179e"
             ],
             [
              0.4444444444444444,
              "#bd3786"
             ],
             [
              0.5555555555555556,
              "#d8576b"
             ],
             [
              0.6666666666666666,
              "#ed7953"
             ],
             [
              0.7777777777777778,
              "#fb9f3a"
             ],
             [
              0.8888888888888888,
              "#fdca26"
             ],
             [
              1,
              "#f0f921"
             ]
            ],
            "type": "heatmapgl"
           }
          ],
          "histogram": [
           {
            "marker": {
             "pattern": {
              "fillmode": "overlay",
              "size": 10,
              "solidity": 0.2
             }
            },
            "type": "histogram"
           }
          ],
          "histogram2d": [
           {
            "colorbar": {
             "outlinewidth": 0,
             "ticks": ""
            },
            "colorscale": [
             [
              0,
              "#0d0887"
             ],
             [
              0.1111111111111111,
              "#46039f"
             ],
             [
              0.2222222222222222,
              "#7201a8"
             ],
             [
              0.3333333333333333,
              "#9c179e"
             ],
             [
              0.4444444444444444,
              "#bd3786"
             ],
             [
              0.5555555555555556,
              "#d8576b"
             ],
             [
              0.6666666666666666,
              "#ed7953"
             ],
             [
              0.7777777777777778,
              "#fb9f3a"
             ],
             [
              0.8888888888888888,
              "#fdca26"
             ],
             [
              1,
              "#f0f921"
             ]
            ],
            "type": "histogram2d"
           }
          ],
          "histogram2dcontour": [
           {
            "colorbar": {
             "outlinewidth": 0,
             "ticks": ""
            },
            "colorscale": [
             [
              0,
              "#0d0887"
             ],
             [
              0.1111111111111111,
              "#46039f"
             ],
             [
              0.2222222222222222,
              "#7201a8"
             ],
             [
              0.3333333333333333,
              "#9c179e"
             ],
             [
              0.4444444444444444,
              "#bd3786"
             ],
             [
              0.5555555555555556,
              "#d8576b"
             ],
             [
              0.6666666666666666,
              "#ed7953"
             ],
             [
              0.7777777777777778,
              "#fb9f3a"
             ],
             [
              0.8888888888888888,
              "#fdca26"
             ],
             [
              1,
              "#f0f921"
             ]
            ],
            "type": "histogram2dcontour"
           }
          ],
          "mesh3d": [
           {
            "colorbar": {
             "outlinewidth": 0,
             "ticks": ""
            },
            "type": "mesh3d"
           }
          ],
          "parcoords": [
           {
            "line": {
             "colorbar": {
              "outlinewidth": 0,
              "ticks": ""
             }
            },
            "type": "parcoords"
           }
          ],
          "pie": [
           {
            "automargin": true,
            "type": "pie"
           }
          ],
          "scatter": [
           {
            "marker": {
             "colorbar": {
              "outlinewidth": 0,
              "ticks": ""
             }
            },
            "type": "scatter"
           }
          ],
          "scatter3d": [
           {
            "line": {
             "colorbar": {
              "outlinewidth": 0,
              "ticks": ""
             }
            },
            "marker": {
             "colorbar": {
              "outlinewidth": 0,
              "ticks": ""
             }
            },
            "type": "scatter3d"
           }
          ],
          "scattercarpet": [
           {
            "marker": {
             "colorbar": {
              "outlinewidth": 0,
              "ticks": ""
             }
            },
            "type": "scattercarpet"
           }
          ],
          "scattergeo": [
           {
            "marker": {
             "colorbar": {
              "outlinewidth": 0,
              "ticks": ""
             }
            },
            "type": "scattergeo"
           }
          ],
          "scattergl": [
           {
            "marker": {
             "colorbar": {
              "outlinewidth": 0,
              "ticks": ""
             }
            },
            "type": "scattergl"
           }
          ],
          "scattermapbox": [
           {
            "marker": {
             "colorbar": {
              "outlinewidth": 0,
              "ticks": ""
             }
            },
            "type": "scattermapbox"
           }
          ],
          "scatterpolar": [
           {
            "marker": {
             "colorbar": {
              "outlinewidth": 0,
              "ticks": ""
             }
            },
            "type": "scatterpolar"
           }
          ],
          "scatterpolargl": [
           {
            "marker": {
             "colorbar": {
              "outlinewidth": 0,
              "ticks": ""
             }
            },
            "type": "scatterpolargl"
           }
          ],
          "scatterternary": [
           {
            "marker": {
             "colorbar": {
              "outlinewidth": 0,
              "ticks": ""
             }
            },
            "type": "scatterternary"
           }
          ],
          "surface": [
           {
            "colorbar": {
             "outlinewidth": 0,
             "ticks": ""
            },
            "colorscale": [
             [
              0,
              "#0d0887"
             ],
             [
              0.1111111111111111,
              "#46039f"
             ],
             [
              0.2222222222222222,
              "#7201a8"
             ],
             [
              0.3333333333333333,
              "#9c179e"
             ],
             [
              0.4444444444444444,
              "#bd3786"
             ],
             [
              0.5555555555555556,
              "#d8576b"
             ],
             [
              0.6666666666666666,
              "#ed7953"
             ],
             [
              0.7777777777777778,
              "#fb9f3a"
             ],
             [
              0.8888888888888888,
              "#fdca26"
             ],
             [
              1,
              "#f0f921"
             ]
            ],
            "type": "surface"
           }
          ],
          "table": [
           {
            "cells": {
             "fill": {
              "color": "#EBF0F8"
             },
             "line": {
              "color": "white"
             }
            },
            "header": {
             "fill": {
              "color": "#C8D4E3"
             },
             "line": {
              "color": "white"
             }
            },
            "type": "table"
           }
          ]
         },
         "layout": {
          "annotationdefaults": {
           "arrowcolor": "#2a3f5f",
           "arrowhead": 0,
           "arrowwidth": 1
          },
          "autotypenumbers": "strict",
          "coloraxis": {
           "colorbar": {
            "outlinewidth": 0,
            "ticks": ""
           }
          },
          "colorscale": {
           "diverging": [
            [
             0,
             "#8e0152"
            ],
            [
             0.1,
             "#c51b7d"
            ],
            [
             0.2,
             "#de77ae"
            ],
            [
             0.3,
             "#f1b6da"
            ],
            [
             0.4,
             "#fde0ef"
            ],
            [
             0.5,
             "#f7f7f7"
            ],
            [
             0.6,
             "#e6f5d0"
            ],
            [
             0.7,
             "#b8e186"
            ],
            [
             0.8,
             "#7fbc41"
            ],
            [
             0.9,
             "#4d9221"
            ],
            [
             1,
             "#276419"
            ]
           ],
           "sequential": [
            [
             0,
             "#0d0887"
            ],
            [
             0.1111111111111111,
             "#46039f"
            ],
            [
             0.2222222222222222,
             "#7201a8"
            ],
            [
             0.3333333333333333,
             "#9c179e"
            ],
            [
             0.4444444444444444,
             "#bd3786"
            ],
            [
             0.5555555555555556,
             "#d8576b"
            ],
            [
             0.6666666666666666,
             "#ed7953"
            ],
            [
             0.7777777777777778,
             "#fb9f3a"
            ],
            [
             0.8888888888888888,
             "#fdca26"
            ],
            [
             1,
             "#f0f921"
            ]
           ],
           "sequentialminus": [
            [
             0,
             "#0d0887"
            ],
            [
             0.1111111111111111,
             "#46039f"
            ],
            [
             0.2222222222222222,
             "#7201a8"
            ],
            [
             0.3333333333333333,
             "#9c179e"
            ],
            [
             0.4444444444444444,
             "#bd3786"
            ],
            [
             0.5555555555555556,
             "#d8576b"
            ],
            [
             0.6666666666666666,
             "#ed7953"
            ],
            [
             0.7777777777777778,
             "#fb9f3a"
            ],
            [
             0.8888888888888888,
             "#fdca26"
            ],
            [
             1,
             "#f0f921"
            ]
           ]
          },
          "colorway": [
           "#636efa",
           "#EF553B",
           "#00cc96",
           "#ab63fa",
           "#FFA15A",
           "#19d3f3",
           "#FF6692",
           "#B6E880",
           "#FF97FF",
           "#FECB52"
          ],
          "font": {
           "color": "#2a3f5f"
          },
          "geo": {
           "bgcolor": "white",
           "lakecolor": "white",
           "landcolor": "#E5ECF6",
           "showlakes": true,
           "showland": true,
           "subunitcolor": "white"
          },
          "hoverlabel": {
           "align": "left"
          },
          "hovermode": "closest",
          "mapbox": {
           "style": "light"
          },
          "paper_bgcolor": "white",
          "plot_bgcolor": "#E5ECF6",
          "polar": {
           "angularaxis": {
            "gridcolor": "white",
            "linecolor": "white",
            "ticks": ""
           },
           "bgcolor": "#E5ECF6",
           "radialaxis": {
            "gridcolor": "white",
            "linecolor": "white",
            "ticks": ""
           }
          },
          "scene": {
           "xaxis": {
            "backgroundcolor": "#E5ECF6",
            "gridcolor": "white",
            "gridwidth": 2,
            "linecolor": "white",
            "showbackground": true,
            "ticks": "",
            "zerolinecolor": "white"
           },
           "yaxis": {
            "backgroundcolor": "#E5ECF6",
            "gridcolor": "white",
            "gridwidth": 2,
            "linecolor": "white",
            "showbackground": true,
            "ticks": "",
            "zerolinecolor": "white"
           },
           "zaxis": {
            "backgroundcolor": "#E5ECF6",
            "gridcolor": "white",
            "gridwidth": 2,
            "linecolor": "white",
            "showbackground": true,
            "ticks": "",
            "zerolinecolor": "white"
           }
          },
          "shapedefaults": {
           "line": {
            "color": "#2a3f5f"
           }
          },
          "ternary": {
           "aaxis": {
            "gridcolor": "white",
            "linecolor": "white",
            "ticks": ""
           },
           "baxis": {
            "gridcolor": "white",
            "linecolor": "white",
            "ticks": ""
           },
           "bgcolor": "#E5ECF6",
           "caxis": {
            "gridcolor": "white",
            "linecolor": "white",
            "ticks": ""
           }
          },
          "title": {
           "x": 0.05
          },
          "xaxis": {
           "automargin": true,
           "gridcolor": "white",
           "linecolor": "white",
           "ticks": "",
           "title": {
            "standoff": 15
           },
           "zerolinecolor": "white",
           "zerolinewidth": 2
          },
          "yaxis": {
           "automargin": true,
           "gridcolor": "white",
           "linecolor": "white",
           "ticks": "",
           "title": {
            "standoff": 15
           },
           "zerolinecolor": "white",
           "zerolinewidth": 2
          }
         }
        },
        "title": {
         "text": "New_fan_Speed_20pwm"
        },
        "width": 800,
        "yaxis": {
         "title": {
          "text": "speed"
         }
        }
       }
      }
     },
     "metadata": {},
     "output_type": "display_data"
    }
   ],
   "source": [
    "box_plot(New_fan_Speed_20pwm,upper_limit=5500,lower_limit=4500,\n",
    "                 nominal=5000,name='New_fan_Speed_20pwm',plot_data='speed')"
   ]
  },
  {
   "cell_type": "code",
   "execution_count": 19,
   "id": "c558e23d",
   "metadata": {
    "extensions": {
     "jupyter_dashboards": {
      "version": 1,
      "views": {
       "default_view": {
        "col": 0,
        "height": 2,
        "row": 36,
        "width": 12
       }
      }
     }
    }
   },
   "outputs": [
    {
     "data": {
      "application/vnd.plotly.v1+json": {
       "config": {
        "plotlyServerURL": "https://plot.ly"
       },
       "data": [
        {
         "name": "1",
         "showlegend": false,
         "type": "box",
         "y": [
          0.055,
          0.069,
          0.082,
          0.076,
          0.074,
          0.081,
          0.082,
          0.073,
          0.082,
          0.078,
          0.082,
          0.085,
          0.079,
          0.07,
          0.076,
          0.076
         ]
        },
        {
         "name": "2",
         "showlegend": false,
         "type": "box",
         "y": [
          0.044,
          0.042,
          0.06,
          0.053,
          0.052,
          0.075,
          0.08,
          0.074,
          0.085,
          0.082,
          0.089,
          0.082,
          0.054,
          0.067,
          0.08,
          0.077
         ]
        },
        {
         "name": "3",
         "showlegend": false,
         "type": "box",
         "y": [
          0.031,
          0.04,
          0.049,
          0.052,
          0.025,
          0.044,
          0.045,
          0.046,
          0.051,
          0.056,
          0.054,
          0.056,
          0.051,
          0.052,
          0.054,
          0.056
         ]
        },
        {
         "name": "4",
         "showlegend": false,
         "type": "box",
         "y": [
          0.037,
          0.038,
          0.055,
          0.059,
          0.029,
          0.046,
          0.05,
          0.048,
          0.054,
          0.058,
          0.058,
          0.059,
          0.053,
          0.056,
          0.056,
          0.057
         ]
        },
        {
         "name": "5",
         "showlegend": false,
         "type": "box",
         "y": [
          0.036,
          0.03,
          0.051,
          0.054,
          0.026,
          0.047,
          0.067,
          0.049,
          0.068,
          0.072,
          0.079,
          0.073,
          0.069,
          0.077,
          0.07,
          0.068
         ]
        },
        {
         "name": "6",
         "showlegend": false,
         "type": "box",
         "y": [
          0.053,
          0.03,
          0.053,
          0.054,
          0.026,
          0.051,
          0.046,
          0.067,
          0.05,
          0.052,
          0.054,
          0.057,
          0.049,
          0.052,
          0.05,
          0.058
         ]
        },
        {
         "name": "7",
         "showlegend": false,
         "type": "box",
         "y": [
          0.059,
          0.071,
          0.065,
          0.076,
          0.045,
          0.064,
          0.061,
          0.052,
          0.072,
          0.07,
          0.085,
          0.072,
          0.073,
          0.083,
          0.068,
          0.057
         ]
        },
        {
         "name": "8",
         "showlegend": false,
         "type": "box",
         "y": [
          0.031,
          0.039,
          0.078,
          0.083,
          0.058,
          0.048,
          0.076,
          0.045,
          0.072,
          0.084,
          0.08,
          0.078,
          0.069,
          0.078,
          0.082,
          0.078
         ]
        },
        {
         "name": "9",
         "showlegend": false,
         "type": "box",
         "y": [
          0.037,
          0.039,
          0.051,
          0.052,
          0.026,
          0.048,
          0.045,
          0.058,
          0.054,
          0.053,
          0.055,
          0.057,
          0.051,
          0.053,
          0.051,
          0.055
         ]
        },
        {
         "name": "10",
         "showlegend": false,
         "type": "box",
         "y": [
          0.048,
          0.047,
          0.076,
          0.061,
          0.036,
          0.08,
          0.053,
          0.051,
          0.061,
          0.079,
          0.064,
          0.062,
          0.067,
          0.062,
          0.077,
          0.058
         ]
        },
        {
         "name": "11",
         "showlegend": false,
         "type": "box",
         "y": [
          0.041,
          0.049,
          0.058,
          0.062,
          0.031,
          0.053,
          0.049,
          0.055,
          0.06,
          0.057,
          0.058,
          0.061,
          0.05,
          0.056,
          0.055,
          0.061
         ]
        },
        {
         "name": "12",
         "showlegend": false,
         "type": "box",
         "y": [
          0.04,
          0.039,
          0.058,
          0.053,
          0.027,
          0.054,
          0.046,
          0.084,
          0.077,
          0.081,
          0.063,
          0.059,
          0.058,
          0.061,
          0.079,
          0.053
         ]
        },
        {
         "name": "13",
         "showlegend": false,
         "type": "box",
         "y": [
          0.033,
          0.035,
          0.061,
          0.072,
          0.027,
          0.058,
          0.066,
          0.056,
          0.081,
          0.061,
          0.082,
          0.079,
          0.077,
          0.08,
          0.059,
          0.06
         ]
        },
        {
         "name": "14",
         "showlegend": false,
         "type": "box",
         "y": [
          0.041,
          0.047,
          0.076,
          0.066,
          0.042,
          0.059,
          0.076,
          0.046,
          0.053,
          0.08,
          0.066,
          0.062,
          0.087,
          0.064,
          0.078,
          0.062
         ]
        },
        {
         "name": "15",
         "showlegend": false,
         "type": "box",
         "y": [
          0.054,
          0.058,
          0.085,
          0.051,
          0.063,
          0.06,
          0.071,
          0.066,
          0.079,
          0.062,
          0.061,
          0.059,
          0.078,
          0.059,
          0.06,
          0.078
         ]
        },
        {
         "name": "16",
         "showlegend": false,
         "type": "box",
         "y": [
          0.061,
          0.059,
          0.054,
          0.055,
          0.026,
          0.051,
          0.067,
          0.046,
          0.062,
          0.059,
          0.075,
          0.072,
          0.049,
          0.073,
          0.057,
          0.06
         ]
        },
        {
         "name": "17",
         "showlegend": false,
         "type": "box",
         "y": [
          0.038,
          0.03,
          0.052,
          0.051,
          0.025,
          0.045,
          0.043,
          0.049,
          0.052,
          0.051,
          0.057,
          0.061,
          0.051,
          0.055,
          0.049,
          0.052
         ]
        },
        {
         "name": "18",
         "showlegend": false,
         "type": "box",
         "y": [
          0.035,
          0.038,
          0.074,
          0.058,
          0.031,
          0.048,
          0.066,
          0.053,
          0.056,
          0.053,
          0.056,
          0.059,
          0.049,
          0.054,
          0.051,
          0.055
         ]
        },
        {
         "name": "19",
         "showlegend": false,
         "type": "box",
         "y": [
          0.041,
          0.048,
          0.055,
          0.059,
          0.029,
          0.052,
          0.052,
          0.081,
          0.056,
          0.055,
          0.062,
          0.06,
          0.053,
          0.06,
          0.053,
          0.056
         ]
        },
        {
         "name": "20",
         "showlegend": false,
         "type": "box",
         "y": [
          0.029,
          0.04,
          0.052,
          0.08,
          0.025,
          0.058,
          0.046,
          0.046,
          0.083,
          0.052,
          0.054,
          0.057,
          0.047,
          0.052,
          0.05,
          0.057
         ]
        },
        {
         "name": "21",
         "showlegend": false,
         "type": "box",
         "y": [
          0.032,
          0.039,
          0.054,
          0.054,
          0.047,
          0.046,
          0.047,
          0.052,
          0.053,
          0.051,
          0.059,
          0.055,
          0.048,
          0.057,
          0.049,
          0.054
         ]
        },
        {
         "name": "22",
         "showlegend": false,
         "type": "box",
         "y": [
          0.055,
          0.057,
          0.057,
          0.063,
          0.035,
          0.059,
          0.057,
          0.05,
          0.059,
          0.053,
          0.065,
          0.061,
          0.051,
          0.063,
          0.051,
          0.068
         ]
        },
        {
         "line": {
          "color": "red"
         },
         "mode": "lines",
         "showlegend": false,
         "type": "scatter",
         "x": [
          1,
          22
         ],
         "y": [
          0.84,
          0.84
         ]
        },
        {
         "line": {
          "color": "green",
          "dash": "dot"
         },
         "mode": "lines",
         "showlegend": false,
         "type": "scatter",
         "x": [
          1,
          22
         ],
         "y": [
          0.77,
          0.77
         ]
        }
       ],
       "layout": {
        "height": 500,
        "template": {
         "data": {
          "bar": [
           {
            "error_x": {
             "color": "#2a3f5f"
            },
            "error_y": {
             "color": "#2a3f5f"
            },
            "marker": {
             "line": {
              "color": "#E5ECF6",
              "width": 0.5
             },
             "pattern": {
              "fillmode": "overlay",
              "size": 10,
              "solidity": 0.2
             }
            },
            "type": "bar"
           }
          ],
          "barpolar": [
           {
            "marker": {
             "line": {
              "color": "#E5ECF6",
              "width": 0.5
             },
             "pattern": {
              "fillmode": "overlay",
              "size": 10,
              "solidity": 0.2
             }
            },
            "type": "barpolar"
           }
          ],
          "carpet": [
           {
            "aaxis": {
             "endlinecolor": "#2a3f5f",
             "gridcolor": "white",
             "linecolor": "white",
             "minorgridcolor": "white",
             "startlinecolor": "#2a3f5f"
            },
            "baxis": {
             "endlinecolor": "#2a3f5f",
             "gridcolor": "white",
             "linecolor": "white",
             "minorgridcolor": "white",
             "startlinecolor": "#2a3f5f"
            },
            "type": "carpet"
           }
          ],
          "choropleth": [
           {
            "colorbar": {
             "outlinewidth": 0,
             "ticks": ""
            },
            "type": "choropleth"
           }
          ],
          "contour": [
           {
            "colorbar": {
             "outlinewidth": 0,
             "ticks": ""
            },
            "colorscale": [
             [
              0,
              "#0d0887"
             ],
             [
              0.1111111111111111,
              "#46039f"
             ],
             [
              0.2222222222222222,
              "#7201a8"
             ],
             [
              0.3333333333333333,
              "#9c179e"
             ],
             [
              0.4444444444444444,
              "#bd3786"
             ],
             [
              0.5555555555555556,
              "#d8576b"
             ],
             [
              0.6666666666666666,
              "#ed7953"
             ],
             [
              0.7777777777777778,
              "#fb9f3a"
             ],
             [
              0.8888888888888888,
              "#fdca26"
             ],
             [
              1,
              "#f0f921"
             ]
            ],
            "type": "contour"
           }
          ],
          "contourcarpet": [
           {
            "colorbar": {
             "outlinewidth": 0,
             "ticks": ""
            },
            "type": "contourcarpet"
           }
          ],
          "heatmap": [
           {
            "colorbar": {
             "outlinewidth": 0,
             "ticks": ""
            },
            "colorscale": [
             [
              0,
              "#0d0887"
             ],
             [
              0.1111111111111111,
              "#46039f"
             ],
             [
              0.2222222222222222,
              "#7201a8"
             ],
             [
              0.3333333333333333,
              "#9c179e"
             ],
             [
              0.4444444444444444,
              "#bd3786"
             ],
             [
              0.5555555555555556,
              "#d8576b"
             ],
             [
              0.6666666666666666,
              "#ed7953"
             ],
             [
              0.7777777777777778,
              "#fb9f3a"
             ],
             [
              0.8888888888888888,
              "#fdca26"
             ],
             [
              1,
              "#f0f921"
             ]
            ],
            "type": "heatmap"
           }
          ],
          "heatmapgl": [
           {
            "colorbar": {
             "outlinewidth": 0,
             "ticks": ""
            },
            "colorscale": [
             [
              0,
              "#0d0887"
             ],
             [
              0.1111111111111111,
              "#46039f"
             ],
             [
              0.2222222222222222,
              "#7201a8"
             ],
             [
              0.3333333333333333,
              "#9c179e"
             ],
             [
              0.4444444444444444,
              "#bd3786"
             ],
             [
              0.5555555555555556,
              "#d8576b"
             ],
             [
              0.6666666666666666,
              "#ed7953"
             ],
             [
              0.7777777777777778,
              "#fb9f3a"
             ],
             [
              0.8888888888888888,
              "#fdca26"
             ],
             [
              1,
              "#f0f921"
             ]
            ],
            "type": "heatmapgl"
           }
          ],
          "histogram": [
           {
            "marker": {
             "pattern": {
              "fillmode": "overlay",
              "size": 10,
              "solidity": 0.2
             }
            },
            "type": "histogram"
           }
          ],
          "histogram2d": [
           {
            "colorbar": {
             "outlinewidth": 0,
             "ticks": ""
            },
            "colorscale": [
             [
              0,
              "#0d0887"
             ],
             [
              0.1111111111111111,
              "#46039f"
             ],
             [
              0.2222222222222222,
              "#7201a8"
             ],
             [
              0.3333333333333333,
              "#9c179e"
             ],
             [
              0.4444444444444444,
              "#bd3786"
             ],
             [
              0.5555555555555556,
              "#d8576b"
             ],
             [
              0.6666666666666666,
              "#ed7953"
             ],
             [
              0.7777777777777778,
              "#fb9f3a"
             ],
             [
              0.8888888888888888,
              "#fdca26"
             ],
             [
              1,
              "#f0f921"
             ]
            ],
            "type": "histogram2d"
           }
          ],
          "histogram2dcontour": [
           {
            "colorbar": {
             "outlinewidth": 0,
             "ticks": ""
            },
            "colorscale": [
             [
              0,
              "#0d0887"
             ],
             [
              0.1111111111111111,
              "#46039f"
             ],
             [
              0.2222222222222222,
              "#7201a8"
             ],
             [
              0.3333333333333333,
              "#9c179e"
             ],
             [
              0.4444444444444444,
              "#bd3786"
             ],
             [
              0.5555555555555556,
              "#d8576b"
             ],
             [
              0.6666666666666666,
              "#ed7953"
             ],
             [
              0.7777777777777778,
              "#fb9f3a"
             ],
             [
              0.8888888888888888,
              "#fdca26"
             ],
             [
              1,
              "#f0f921"
             ]
            ],
            "type": "histogram2dcontour"
           }
          ],
          "mesh3d": [
           {
            "colorbar": {
             "outlinewidth": 0,
             "ticks": ""
            },
            "type": "mesh3d"
           }
          ],
          "parcoords": [
           {
            "line": {
             "colorbar": {
              "outlinewidth": 0,
              "ticks": ""
             }
            },
            "type": "parcoords"
           }
          ],
          "pie": [
           {
            "automargin": true,
            "type": "pie"
           }
          ],
          "scatter": [
           {
            "marker": {
             "colorbar": {
              "outlinewidth": 0,
              "ticks": ""
             }
            },
            "type": "scatter"
           }
          ],
          "scatter3d": [
           {
            "line": {
             "colorbar": {
              "outlinewidth": 0,
              "ticks": ""
             }
            },
            "marker": {
             "colorbar": {
              "outlinewidth": 0,
              "ticks": ""
             }
            },
            "type": "scatter3d"
           }
          ],
          "scattercarpet": [
           {
            "marker": {
             "colorbar": {
              "outlinewidth": 0,
              "ticks": ""
             }
            },
            "type": "scattercarpet"
           }
          ],
          "scattergeo": [
           {
            "marker": {
             "colorbar": {
              "outlinewidth": 0,
              "ticks": ""
             }
            },
            "type": "scattergeo"
           }
          ],
          "scattergl": [
           {
            "marker": {
             "colorbar": {
              "outlinewidth": 0,
              "ticks": ""
             }
            },
            "type": "scattergl"
           }
          ],
          "scattermapbox": [
           {
            "marker": {
             "colorbar": {
              "outlinewidth": 0,
              "ticks": ""
             }
            },
            "type": "scattermapbox"
           }
          ],
          "scatterpolar": [
           {
            "marker": {
             "colorbar": {
              "outlinewidth": 0,
              "ticks": ""
             }
            },
            "type": "scatterpolar"
           }
          ],
          "scatterpolargl": [
           {
            "marker": {
             "colorbar": {
              "outlinewidth": 0,
              "ticks": ""
             }
            },
            "type": "scatterpolargl"
           }
          ],
          "scatterternary": [
           {
            "marker": {
             "colorbar": {
              "outlinewidth": 0,
              "ticks": ""
             }
            },
            "type": "scatterternary"
           }
          ],
          "surface": [
           {
            "colorbar": {
             "outlinewidth": 0,
             "ticks": ""
            },
            "colorscale": [
             [
              0,
              "#0d0887"
             ],
             [
              0.1111111111111111,
              "#46039f"
             ],
             [
              0.2222222222222222,
              "#7201a8"
             ],
             [
              0.3333333333333333,
              "#9c179e"
             ],
             [
              0.4444444444444444,
              "#bd3786"
             ],
             [
              0.5555555555555556,
              "#d8576b"
             ],
             [
              0.6666666666666666,
              "#ed7953"
             ],
             [
              0.7777777777777778,
              "#fb9f3a"
             ],
             [
              0.8888888888888888,
              "#fdca26"
             ],
             [
              1,
              "#f0f921"
             ]
            ],
            "type": "surface"
           }
          ],
          "table": [
           {
            "cells": {
             "fill": {
              "color": "#EBF0F8"
             },
             "line": {
              "color": "white"
             }
            },
            "header": {
             "fill": {
              "color": "#C8D4E3"
             },
             "line": {
              "color": "white"
             }
            },
            "type": "table"
           }
          ]
         },
         "layout": {
          "annotationdefaults": {
           "arrowcolor": "#2a3f5f",
           "arrowhead": 0,
           "arrowwidth": 1
          },
          "autotypenumbers": "strict",
          "coloraxis": {
           "colorbar": {
            "outlinewidth": 0,
            "ticks": ""
           }
          },
          "colorscale": {
           "diverging": [
            [
             0,
             "#8e0152"
            ],
            [
             0.1,
             "#c51b7d"
            ],
            [
             0.2,
             "#de77ae"
            ],
            [
             0.3,
             "#f1b6da"
            ],
            [
             0.4,
             "#fde0ef"
            ],
            [
             0.5,
             "#f7f7f7"
            ],
            [
             0.6,
             "#e6f5d0"
            ],
            [
             0.7,
             "#b8e186"
            ],
            [
             0.8,
             "#7fbc41"
            ],
            [
             0.9,
             "#4d9221"
            ],
            [
             1,
             "#276419"
            ]
           ],
           "sequential": [
            [
             0,
             "#0d0887"
            ],
            [
             0.1111111111111111,
             "#46039f"
            ],
            [
             0.2222222222222222,
             "#7201a8"
            ],
            [
             0.3333333333333333,
             "#9c179e"
            ],
            [
             0.4444444444444444,
             "#bd3786"
            ],
            [
             0.5555555555555556,
             "#d8576b"
            ],
            [
             0.6666666666666666,
             "#ed7953"
            ],
            [
             0.7777777777777778,
             "#fb9f3a"
            ],
            [
             0.8888888888888888,
             "#fdca26"
            ],
            [
             1,
             "#f0f921"
            ]
           ],
           "sequentialminus": [
            [
             0,
             "#0d0887"
            ],
            [
             0.1111111111111111,
             "#46039f"
            ],
            [
             0.2222222222222222,
             "#7201a8"
            ],
            [
             0.3333333333333333,
             "#9c179e"
            ],
            [
             0.4444444444444444,
             "#bd3786"
            ],
            [
             0.5555555555555556,
             "#d8576b"
            ],
            [
             0.6666666666666666,
             "#ed7953"
            ],
            [
             0.7777777777777778,
             "#fb9f3a"
            ],
            [
             0.8888888888888888,
             "#fdca26"
            ],
            [
             1,
             "#f0f921"
            ]
           ]
          },
          "colorway": [
           "#636efa",
           "#EF553B",
           "#00cc96",
           "#ab63fa",
           "#FFA15A",
           "#19d3f3",
           "#FF6692",
           "#B6E880",
           "#FF97FF",
           "#FECB52"
          ],
          "font": {
           "color": "#2a3f5f"
          },
          "geo": {
           "bgcolor": "white",
           "lakecolor": "white",
           "landcolor": "#E5ECF6",
           "showlakes": true,
           "showland": true,
           "subunitcolor": "white"
          },
          "hoverlabel": {
           "align": "left"
          },
          "hovermode": "closest",
          "mapbox": {
           "style": "light"
          },
          "paper_bgcolor": "white",
          "plot_bgcolor": "#E5ECF6",
          "polar": {
           "angularaxis": {
            "gridcolor": "white",
            "linecolor": "white",
            "ticks": ""
           },
           "bgcolor": "#E5ECF6",
           "radialaxis": {
            "gridcolor": "white",
            "linecolor": "white",
            "ticks": ""
           }
          },
          "scene": {
           "xaxis": {
            "backgroundcolor": "#E5ECF6",
            "gridcolor": "white",
            "gridwidth": 2,
            "linecolor": "white",
            "showbackground": true,
            "ticks": "",
            "zerolinecolor": "white"
           },
           "yaxis": {
            "backgroundcolor": "#E5ECF6",
            "gridcolor": "white",
            "gridwidth": 2,
            "linecolor": "white",
            "showbackground": true,
            "ticks": "",
            "zerolinecolor": "white"
           },
           "zaxis": {
            "backgroundcolor": "#E5ECF6",
            "gridcolor": "white",
            "gridwidth": 2,
            "linecolor": "white",
            "showbackground": true,
            "ticks": "",
            "zerolinecolor": "white"
           }
          },
          "shapedefaults": {
           "line": {
            "color": "#2a3f5f"
           }
          },
          "ternary": {
           "aaxis": {
            "gridcolor": "white",
            "linecolor": "white",
            "ticks": ""
           },
           "baxis": {
            "gridcolor": "white",
            "linecolor": "white",
            "ticks": ""
           },
           "bgcolor": "#E5ECF6",
           "caxis": {
            "gridcolor": "white",
            "linecolor": "white",
            "ticks": ""
           }
          },
          "title": {
           "x": 0.05
          },
          "xaxis": {
           "automargin": true,
           "gridcolor": "white",
           "linecolor": "white",
           "ticks": "",
           "title": {
            "standoff": 15
           },
           "zerolinecolor": "white",
           "zerolinewidth": 2
          },
          "yaxis": {
           "automargin": true,
           "gridcolor": "white",
           "linecolor": "white",
           "ticks": "",
           "title": {
            "standoff": 15
           },
           "zerolinecolor": "white",
           "zerolinewidth": 2
          }
         }
        },
        "title": {
         "text": "Current__fan_current_100pwm"
        },
        "width": 800,
        "yaxis": {
         "title": {
          "text": "current"
         }
        }
       }
      }
     },
     "metadata": {},
     "output_type": "display_data"
    }
   ],
   "source": [
    "box_plot(Current__fan_current_100pwm,upper_limit=.84,lower_limit=0,\n",
    "                 nominal=0.77,name='Current__fan_current_100pwm',plot_data='current')"
   ]
  },
  {
   "cell_type": "code",
   "execution_count": 20,
   "id": "2677f24a",
   "metadata": {
    "extensions": {
     "jupyter_dashboards": {
      "version": 1,
      "views": {
       "default_view": {
        "col": 0,
        "height": 2,
        "row": 38,
        "width": 12
       }
      }
     }
    }
   },
   "outputs": [
    {
     "data": {
      "application/vnd.plotly.v1+json": {
       "config": {
        "plotlyServerURL": "https://plot.ly"
       },
       "data": [
        {
         "name": "1",
         "showlegend": false,
         "type": "box",
         "y": [
          0.035,
          0.036,
          0.049,
          0.053,
          0.051,
          0.042,
          0.039,
          0.038,
          0.047,
          0.048,
          0.053,
          0.049,
          0.045,
          0.051,
          0.046,
          0.046
         ]
        },
        {
         "name": "2",
         "showlegend": false,
         "type": "box",
         "y": [
          0.038,
          0.03,
          0.04,
          0.045,
          0.043,
          0.035,
          0.034,
          0.039,
          0.04,
          0.041,
          0.046,
          0.051,
          0.039,
          0.044,
          0.039,
          0.043
         ]
        },
        {
         "name": "3",
         "showlegend": false,
         "type": "box",
         "y": [
          0.042,
          0.04,
          0.049,
          0.051,
          0.05,
          0.043,
          0.039,
          0.042,
          0.05,
          0.046,
          0.052,
          0.053,
          0.046,
          0.05,
          0.044,
          0.049
         ]
        },
        {
         "name": "4",
         "showlegend": false,
         "type": "box",
         "y": [
          0.035,
          0.038,
          0.043,
          0.046,
          0.047,
          0.037,
          0.036,
          0.036,
          0.042,
          0.043,
          0.048,
          0.049,
          0.041,
          0.046,
          0.041,
          0.043
         ]
        },
        {
         "name": "5",
         "showlegend": false,
         "type": "box",
         "y": [
          0.033,
          0.031,
          0.045,
          0.052,
          0.053,
          0.043,
          0.041,
          0.042,
          0.049,
          0.051,
          0.056,
          0.052,
          0.046,
          0.054,
          0.049,
          0.05
         ]
        },
        {
         "name": "6",
         "showlegend": false,
         "type": "box",
         "y": [
          0.04,
          0.039,
          0.054,
          0.061,
          0.06,
          0.05,
          0.053,
          0.052,
          0.058,
          0.06,
          0.063,
          0.06,
          0.055,
          0.061,
          0.058,
          0.058
         ]
        },
        {
         "name": "7",
         "showlegend": false,
         "type": "box",
         "y": [
          0.037,
          0.044,
          0.053,
          0.057,
          0.056,
          0.049,
          0.051,
          0.048,
          0.056,
          0.055,
          0.058,
          0.059,
          0.052,
          0.056,
          0.053,
          0.056
         ]
        },
        {
         "name": "8",
         "showlegend": false,
         "type": "box",
         "y": [
          0.036,
          0.033,
          0.049,
          0.054,
          0.051,
          0.043,
          0.043,
          0.043,
          0.049,
          0.051,
          0.053,
          0.052,
          0.042,
          0.051,
          0.049,
          0.054
         ]
        },
        {
         "name": "9",
         "showlegend": false,
         "type": "box",
         "y": [
          0.033,
          0.043,
          0.044,
          0.058,
          0.056,
          0.035,
          0.039,
          0.038,
          0.053,
          0.042,
          0.048,
          0.051,
          0.039,
          0.046,
          0.04,
          0.044
         ]
        },
        {
         "name": "10",
         "showlegend": false,
         "type": "box",
         "y": [
          0.039,
          0.048,
          0.059,
          0.057,
          0.065,
          0.045,
          0.042,
          0.046,
          0.065,
          0.053,
          0.053,
          0.05,
          0.048,
          0.051,
          0.051,
          0.055
         ]
        },
        {
         "name": "11",
         "showlegend": false,
         "type": "box",
         "y": [
          0.033,
          0.032,
          0.041,
          0.045,
          0.04,
          0.036,
          0.034,
          0.036,
          0.043,
          0.042,
          0.047,
          0.045,
          0.039,
          0.045,
          0.04,
          0.045
         ]
        },
        {
         "name": "12",
         "showlegend": false,
         "type": "box",
         "y": [
          0.035,
          0.039,
          0.045,
          0.051,
          0.048,
          0.041,
          0.038,
          0.042,
          0.048,
          0.046,
          0.053,
          0.05,
          0.045,
          0.051,
          0.044,
          0.048
         ]
        },
        {
         "name": "13",
         "showlegend": false,
         "type": "box",
         "y": [
          0.039,
          0.034,
          0.052,
          0.057,
          0.055,
          0.051,
          0.05,
          0.051,
          0.079,
          0.059,
          0.066,
          0.049,
          0.055,
          0.064,
          0.057,
          0.057
         ]
        },
        {
         "name": "14",
         "showlegend": false,
         "type": "box",
         "y": [
          0.038,
          0.038,
          0.051,
          0.062,
          0.052,
          0.065,
          0.048,
          0.073,
          0.06,
          0.054,
          0.079,
          0.062,
          0.067,
          0.077,
          0.052,
          0.058
         ]
        },
        {
         "name": "15",
         "showlegend": false,
         "type": "box",
         "y": [
          0.035,
          0.037,
          0.051,
          0.057,
          0.052,
          0.048,
          0.045,
          0.046,
          0.05,
          0.042,
          0.054,
          0.049,
          0.047,
          0.052,
          0.04,
          0.052
         ]
        },
        {
         "name": "16",
         "showlegend": false,
         "type": "box",
         "y": [
          0.038,
          0.032,
          0.042,
          0.045,
          0.046,
          0.04,
          0.037,
          0.039,
          0.043,
          0.044,
          0.046,
          0.042,
          0.041,
          0.044,
          0.042,
          0.044
         ]
        },
        {
         "name": "17",
         "showlegend": false,
         "type": "box",
         "y": [
          0.037,
          0.038,
          0.053,
          0.055,
          0.058,
          0.049,
          0.054,
          0.051,
          0.055,
          0.067,
          0.061,
          0.059,
          0.052,
          0.059,
          0.065,
          0.054
         ]
        },
        {
         "name": "18",
         "showlegend": false,
         "type": "box",
         "y": [
          0.035,
          0.041,
          0.044,
          0.047,
          0.044,
          0.038,
          0.036,
          0.04,
          0.047,
          0.045,
          0.05,
          0.048,
          0.043,
          0.048,
          0.043,
          0.062
         ]
        },
        {
         "name": "19",
         "showlegend": false,
         "type": "box",
         "y": [
          0.037,
          0.035,
          0.056,
          0.058,
          0.057,
          0.049,
          0.048,
          0.048,
          0.056,
          0.054,
          0.058,
          0.051,
          0.05,
          0.056,
          0.052,
          0.056
         ]
        },
        {
         "name": "20",
         "showlegend": false,
         "type": "box",
         "y": [
          0.036,
          0.035,
          0.05,
          0.056,
          0.052,
          0.046,
          0.043,
          0.046,
          0.053,
          0.055,
          0.064,
          0.062,
          0.052,
          0.062,
          0.053,
          0.054
         ]
        },
        {
         "name": "21",
         "showlegend": false,
         "type": "box",
         "y": [
          0.035,
          0.032,
          0.05,
          0.048,
          0.045,
          0.042,
          0.042,
          0.042,
          0.043,
          0.044,
          0.04,
          0.045,
          0.047,
          0.038,
          0.042,
          0.045
         ]
        },
        {
         "name": "22",
         "showlegend": false,
         "type": "box",
         "y": [
          0.04,
          0.026,
          0.045,
          0.066,
          0.051,
          0.045,
          0.034,
          0.047,
          0.049,
          0.047,
          0.055,
          0.056,
          0.046,
          0.053,
          0.045,
          0.053
         ]
        },
        {
         "name": "23",
         "showlegend": false,
         "type": "box",
         "y": [
          0.039,
          0.041,
          0.048,
          0.045,
          0.041,
          0.037,
          0.042,
          0.037,
          0.041,
          0.042,
          0.049,
          0.047,
          0.038,
          0.047,
          0.04,
          0.044
         ]
        },
        {
         "name": "24",
         "showlegend": false,
         "type": "box",
         "y": [
          0.042,
          0.055,
          0.042,
          0.054,
          0.048,
          0.044,
          0.033,
          0.043,
          0.051,
          0.051,
          0.055,
          0.052,
          0.048,
          0.053,
          0.049,
          0.05
         ]
        },
        {
         "name": "25",
         "showlegend": false,
         "type": "box",
         "y": [
          0.045,
          0.042,
          0.047,
          0.047,
          0.041,
          0.034,
          0.043,
          0.038,
          0.047,
          0.043,
          0.05,
          0.053,
          0.041,
          0.048,
          0.041,
          0.046
         ]
        },
        {
         "name": "26",
         "showlegend": false,
         "type": "box",
         "y": [
          0.037,
          0.032,
          0.056,
          0.061,
          0.046,
          0.039,
          0.042,
          0.043,
          0.047,
          0.047,
          0.055,
          0.055,
          0.043,
          0.053,
          0.045,
          0.051
         ]
        },
        {
         "name": "27",
         "showlegend": false,
         "type": "box",
         "y": [
          0.041,
          0.038,
          0.058,
          0.06,
          0.059,
          0.055,
          0.049,
          0.051,
          0.059,
          0.056,
          0.061,
          0.053,
          0.049,
          0.059,
          0.054,
          0.056
         ]
        },
        {
         "name": "28",
         "showlegend": false,
         "type": "box",
         "y": [
          0.044,
          0.03,
          0.052,
          0.057,
          0.053,
          0.049,
          0.046,
          0.049,
          0.056,
          0.056,
          0.063,
          0.057,
          0.053,
          0.061,
          0.054,
          0.056
         ]
        },
        {
         "line": {
          "color": "red"
         },
         "mode": "lines",
         "showlegend": false,
         "type": "scatter",
         "x": [
          1,
          28
         ],
         "y": [
          0.84,
          0.84
         ]
        },
        {
         "line": {
          "color": "green",
          "dash": "dot"
         },
         "mode": "lines",
         "showlegend": false,
         "type": "scatter",
         "x": [
          1,
          28
         ],
         "y": [
          0.77,
          0.77
         ]
        }
       ],
       "layout": {
        "height": 500,
        "template": {
         "data": {
          "bar": [
           {
            "error_x": {
             "color": "#2a3f5f"
            },
            "error_y": {
             "color": "#2a3f5f"
            },
            "marker": {
             "line": {
              "color": "#E5ECF6",
              "width": 0.5
             },
             "pattern": {
              "fillmode": "overlay",
              "size": 10,
              "solidity": 0.2
             }
            },
            "type": "bar"
           }
          ],
          "barpolar": [
           {
            "marker": {
             "line": {
              "color": "#E5ECF6",
              "width": 0.5
             },
             "pattern": {
              "fillmode": "overlay",
              "size": 10,
              "solidity": 0.2
             }
            },
            "type": "barpolar"
           }
          ],
          "carpet": [
           {
            "aaxis": {
             "endlinecolor": "#2a3f5f",
             "gridcolor": "white",
             "linecolor": "white",
             "minorgridcolor": "white",
             "startlinecolor": "#2a3f5f"
            },
            "baxis": {
             "endlinecolor": "#2a3f5f",
             "gridcolor": "white",
             "linecolor": "white",
             "minorgridcolor": "white",
             "startlinecolor": "#2a3f5f"
            },
            "type": "carpet"
           }
          ],
          "choropleth": [
           {
            "colorbar": {
             "outlinewidth": 0,
             "ticks": ""
            },
            "type": "choropleth"
           }
          ],
          "contour": [
           {
            "colorbar": {
             "outlinewidth": 0,
             "ticks": ""
            },
            "colorscale": [
             [
              0,
              "#0d0887"
             ],
             [
              0.1111111111111111,
              "#46039f"
             ],
             [
              0.2222222222222222,
              "#7201a8"
             ],
             [
              0.3333333333333333,
              "#9c179e"
             ],
             [
              0.4444444444444444,
              "#bd3786"
             ],
             [
              0.5555555555555556,
              "#d8576b"
             ],
             [
              0.6666666666666666,
              "#ed7953"
             ],
             [
              0.7777777777777778,
              "#fb9f3a"
             ],
             [
              0.8888888888888888,
              "#fdca26"
             ],
             [
              1,
              "#f0f921"
             ]
            ],
            "type": "contour"
           }
          ],
          "contourcarpet": [
           {
            "colorbar": {
             "outlinewidth": 0,
             "ticks": ""
            },
            "type": "contourcarpet"
           }
          ],
          "heatmap": [
           {
            "colorbar": {
             "outlinewidth": 0,
             "ticks": ""
            },
            "colorscale": [
             [
              0,
              "#0d0887"
             ],
             [
              0.1111111111111111,
              "#46039f"
             ],
             [
              0.2222222222222222,
              "#7201a8"
             ],
             [
              0.3333333333333333,
              "#9c179e"
             ],
             [
              0.4444444444444444,
              "#bd3786"
             ],
             [
              0.5555555555555556,
              "#d8576b"
             ],
             [
              0.6666666666666666,
              "#ed7953"
             ],
             [
              0.7777777777777778,
              "#fb9f3a"
             ],
             [
              0.8888888888888888,
              "#fdca26"
             ],
             [
              1,
              "#f0f921"
             ]
            ],
            "type": "heatmap"
           }
          ],
          "heatmapgl": [
           {
            "colorbar": {
             "outlinewidth": 0,
             "ticks": ""
            },
            "colorscale": [
             [
              0,
              "#0d0887"
             ],
             [
              0.1111111111111111,
              "#46039f"
             ],
             [
              0.2222222222222222,
              "#7201a8"
             ],
             [
              0.3333333333333333,
              "#9c179e"
             ],
             [
              0.4444444444444444,
              "#bd3786"
             ],
             [
              0.5555555555555556,
              "#d8576b"
             ],
             [
              0.6666666666666666,
              "#ed7953"
             ],
             [
              0.7777777777777778,
              "#fb9f3a"
             ],
             [
              0.8888888888888888,
              "#fdca26"
             ],
             [
              1,
              "#f0f921"
             ]
            ],
            "type": "heatmapgl"
           }
          ],
          "histogram": [
           {
            "marker": {
             "pattern": {
              "fillmode": "overlay",
              "size": 10,
              "solidity": 0.2
             }
            },
            "type": "histogram"
           }
          ],
          "histogram2d": [
           {
            "colorbar": {
             "outlinewidth": 0,
             "ticks": ""
            },
            "colorscale": [
             [
              0,
              "#0d0887"
             ],
             [
              0.1111111111111111,
              "#46039f"
             ],
             [
              0.2222222222222222,
              "#7201a8"
             ],
             [
              0.3333333333333333,
              "#9c179e"
             ],
             [
              0.4444444444444444,
              "#bd3786"
             ],
             [
              0.5555555555555556,
              "#d8576b"
             ],
             [
              0.6666666666666666,
              "#ed7953"
             ],
             [
              0.7777777777777778,
              "#fb9f3a"
             ],
             [
              0.8888888888888888,
              "#fdca26"
             ],
             [
              1,
              "#f0f921"
             ]
            ],
            "type": "histogram2d"
           }
          ],
          "histogram2dcontour": [
           {
            "colorbar": {
             "outlinewidth": 0,
             "ticks": ""
            },
            "colorscale": [
             [
              0,
              "#0d0887"
             ],
             [
              0.1111111111111111,
              "#46039f"
             ],
             [
              0.2222222222222222,
              "#7201a8"
             ],
             [
              0.3333333333333333,
              "#9c179e"
             ],
             [
              0.4444444444444444,
              "#bd3786"
             ],
             [
              0.5555555555555556,
              "#d8576b"
             ],
             [
              0.6666666666666666,
              "#ed7953"
             ],
             [
              0.7777777777777778,
              "#fb9f3a"
             ],
             [
              0.8888888888888888,
              "#fdca26"
             ],
             [
              1,
              "#f0f921"
             ]
            ],
            "type": "histogram2dcontour"
           }
          ],
          "mesh3d": [
           {
            "colorbar": {
             "outlinewidth": 0,
             "ticks": ""
            },
            "type": "mesh3d"
           }
          ],
          "parcoords": [
           {
            "line": {
             "colorbar": {
              "outlinewidth": 0,
              "ticks": ""
             }
            },
            "type": "parcoords"
           }
          ],
          "pie": [
           {
            "automargin": true,
            "type": "pie"
           }
          ],
          "scatter": [
           {
            "marker": {
             "colorbar": {
              "outlinewidth": 0,
              "ticks": ""
             }
            },
            "type": "scatter"
           }
          ],
          "scatter3d": [
           {
            "line": {
             "colorbar": {
              "outlinewidth": 0,
              "ticks": ""
             }
            },
            "marker": {
             "colorbar": {
              "outlinewidth": 0,
              "ticks": ""
             }
            },
            "type": "scatter3d"
           }
          ],
          "scattercarpet": [
           {
            "marker": {
             "colorbar": {
              "outlinewidth": 0,
              "ticks": ""
             }
            },
            "type": "scattercarpet"
           }
          ],
          "scattergeo": [
           {
            "marker": {
             "colorbar": {
              "outlinewidth": 0,
              "ticks": ""
             }
            },
            "type": "scattergeo"
           }
          ],
          "scattergl": [
           {
            "marker": {
             "colorbar": {
              "outlinewidth": 0,
              "ticks": ""
             }
            },
            "type": "scattergl"
           }
          ],
          "scattermapbox": [
           {
            "marker": {
             "colorbar": {
              "outlinewidth": 0,
              "ticks": ""
             }
            },
            "type": "scattermapbox"
           }
          ],
          "scatterpolar": [
           {
            "marker": {
             "colorbar": {
              "outlinewidth": 0,
              "ticks": ""
             }
            },
            "type": "scatterpolar"
           }
          ],
          "scatterpolargl": [
           {
            "marker": {
             "colorbar": {
              "outlinewidth": 0,
              "ticks": ""
             }
            },
            "type": "scatterpolargl"
           }
          ],
          "scatterternary": [
           {
            "marker": {
             "colorbar": {
              "outlinewidth": 0,
              "ticks": ""
             }
            },
            "type": "scatterternary"
           }
          ],
          "surface": [
           {
            "colorbar": {
             "outlinewidth": 0,
             "ticks": ""
            },
            "colorscale": [
             [
              0,
              "#0d0887"
             ],
             [
              0.1111111111111111,
              "#46039f"
             ],
             [
              0.2222222222222222,
              "#7201a8"
             ],
             [
              0.3333333333333333,
              "#9c179e"
             ],
             [
              0.4444444444444444,
              "#bd3786"
             ],
             [
              0.5555555555555556,
              "#d8576b"
             ],
             [
              0.6666666666666666,
              "#ed7953"
             ],
             [
              0.7777777777777778,
              "#fb9f3a"
             ],
             [
              0.8888888888888888,
              "#fdca26"
             ],
             [
              1,
              "#f0f921"
             ]
            ],
            "type": "surface"
           }
          ],
          "table": [
           {
            "cells": {
             "fill": {
              "color": "#EBF0F8"
             },
             "line": {
              "color": "white"
             }
            },
            "header": {
             "fill": {
              "color": "#C8D4E3"
             },
             "line": {
              "color": "white"
             }
            },
            "type": "table"
           }
          ]
         },
         "layout": {
          "annotationdefaults": {
           "arrowcolor": "#2a3f5f",
           "arrowhead": 0,
           "arrowwidth": 1
          },
          "autotypenumbers": "strict",
          "coloraxis": {
           "colorbar": {
            "outlinewidth": 0,
            "ticks": ""
           }
          },
          "colorscale": {
           "diverging": [
            [
             0,
             "#8e0152"
            ],
            [
             0.1,
             "#c51b7d"
            ],
            [
             0.2,
             "#de77ae"
            ],
            [
             0.3,
             "#f1b6da"
            ],
            [
             0.4,
             "#fde0ef"
            ],
            [
             0.5,
             "#f7f7f7"
            ],
            [
             0.6,
             "#e6f5d0"
            ],
            [
             0.7,
             "#b8e186"
            ],
            [
             0.8,
             "#7fbc41"
            ],
            [
             0.9,
             "#4d9221"
            ],
            [
             1,
             "#276419"
            ]
           ],
           "sequential": [
            [
             0,
             "#0d0887"
            ],
            [
             0.1111111111111111,
             "#46039f"
            ],
            [
             0.2222222222222222,
             "#7201a8"
            ],
            [
             0.3333333333333333,
             "#9c179e"
            ],
            [
             0.4444444444444444,
             "#bd3786"
            ],
            [
             0.5555555555555556,
             "#d8576b"
            ],
            [
             0.6666666666666666,
             "#ed7953"
            ],
            [
             0.7777777777777778,
             "#fb9f3a"
            ],
            [
             0.8888888888888888,
             "#fdca26"
            ],
            [
             1,
             "#f0f921"
            ]
           ],
           "sequentialminus": [
            [
             0,
             "#0d0887"
            ],
            [
             0.1111111111111111,
             "#46039f"
            ],
            [
             0.2222222222222222,
             "#7201a8"
            ],
            [
             0.3333333333333333,
             "#9c179e"
            ],
            [
             0.4444444444444444,
             "#bd3786"
            ],
            [
             0.5555555555555556,
             "#d8576b"
            ],
            [
             0.6666666666666666,
             "#ed7953"
            ],
            [
             0.7777777777777778,
             "#fb9f3a"
            ],
            [
             0.8888888888888888,
             "#fdca26"
            ],
            [
             1,
             "#f0f921"
            ]
           ]
          },
          "colorway": [
           "#636efa",
           "#EF553B",
           "#00cc96",
           "#ab63fa",
           "#FFA15A",
           "#19d3f3",
           "#FF6692",
           "#B6E880",
           "#FF97FF",
           "#FECB52"
          ],
          "font": {
           "color": "#2a3f5f"
          },
          "geo": {
           "bgcolor": "white",
           "lakecolor": "white",
           "landcolor": "#E5ECF6",
           "showlakes": true,
           "showland": true,
           "subunitcolor": "white"
          },
          "hoverlabel": {
           "align": "left"
          },
          "hovermode": "closest",
          "mapbox": {
           "style": "light"
          },
          "paper_bgcolor": "white",
          "plot_bgcolor": "#E5ECF6",
          "polar": {
           "angularaxis": {
            "gridcolor": "white",
            "linecolor": "white",
            "ticks": ""
           },
           "bgcolor": "#E5ECF6",
           "radialaxis": {
            "gridcolor": "white",
            "linecolor": "white",
            "ticks": ""
           }
          },
          "scene": {
           "xaxis": {
            "backgroundcolor": "#E5ECF6",
            "gridcolor": "white",
            "gridwidth": 2,
            "linecolor": "white",
            "showbackground": true,
            "ticks": "",
            "zerolinecolor": "white"
           },
           "yaxis": {
            "backgroundcolor": "#E5ECF6",
            "gridcolor": "white",
            "gridwidth": 2,
            "linecolor": "white",
            "showbackground": true,
            "ticks": "",
            "zerolinecolor": "white"
           },
           "zaxis": {
            "backgroundcolor": "#E5ECF6",
            "gridcolor": "white",
            "gridwidth": 2,
            "linecolor": "white",
            "showbackground": true,
            "ticks": "",
            "zerolinecolor": "white"
           }
          },
          "shapedefaults": {
           "line": {
            "color": "#2a3f5f"
           }
          },
          "ternary": {
           "aaxis": {
            "gridcolor": "white",
            "linecolor": "white",
            "ticks": ""
           },
           "baxis": {
            "gridcolor": "white",
            "linecolor": "white",
            "ticks": ""
           },
           "bgcolor": "#E5ECF6",
           "caxis": {
            "gridcolor": "white",
            "linecolor": "white",
            "ticks": ""
           }
          },
          "title": {
           "x": 0.05
          },
          "xaxis": {
           "automargin": true,
           "gridcolor": "white",
           "linecolor": "white",
           "ticks": "",
           "title": {
            "standoff": 15
           },
           "zerolinecolor": "white",
           "zerolinewidth": 2
          },
          "yaxis": {
           "automargin": true,
           "gridcolor": "white",
           "linecolor": "white",
           "ticks": "",
           "title": {
            "standoff": 15
           },
           "zerolinecolor": "white",
           "zerolinewidth": 2
          }
         }
        },
        "title": {
         "text": "New_fan_Current_100pwm"
        },
        "width": 800,
        "yaxis": {
         "title": {
          "text": "current"
         }
        }
       }
      }
     },
     "metadata": {},
     "output_type": "display_data"
    }
   ],
   "source": [
    "box_plot(New_fan_Current_100pwm,upper_limit=.84,lower_limit=0,\n",
    "                 nominal=0.77,name='New_fan_Current_100pwm',plot_data='current')"
   ]
  },
  {
   "cell_type": "code",
   "execution_count": 21,
   "id": "d19accf4",
   "metadata": {
    "extensions": {
     "jupyter_dashboards": {
      "version": 1,
      "views": {
       "default_view": {
        "col": 0,
        "height": 2,
        "row": 40,
        "width": 12
       }
      }
     }
    }
   },
   "outputs": [
    {
     "data": {
      "application/vnd.plotly.v1+json": {
       "config": {
        "plotlyServerURL": "https://plot.ly"
       },
       "data": [
        {
         "name": "1",
         "showlegend": false,
         "type": "box",
         "y": [
          0.434,
          0.435,
          0.449,
          0.446,
          0.449,
          0.441,
          0.457,
          0.455,
          0.451,
          0.445,
          0.449,
          0.435,
          0.443,
          0.443,
          0.438,
          0.451
         ]
        },
        {
         "name": "2",
         "showlegend": false,
         "type": "box",
         "y": [
          0.426,
          0.416,
          0.428,
          0.421,
          0.418,
          0.421,
          0.416,
          0.42,
          0.429,
          0.427,
          0.436,
          0.437,
          0.427,
          0.425,
          0.418,
          0.418
         ]
        },
        {
         "name": "3",
         "showlegend": false,
         "type": "box",
         "y": [
          0.43,
          0.409,
          0.422,
          0.421,
          0.415,
          0.414,
          0.422,
          0.421,
          0.425,
          0.427,
          0.419,
          0.42,
          0.423,
          0.425,
          0.419,
          0.415
         ]
        },
        {
         "name": "4",
         "showlegend": false,
         "type": "box",
         "y": [
          0.431,
          0.422,
          0.425,
          0.426,
          0.419,
          0.428,
          0.435,
          0.42,
          0.43,
          0.441,
          0.439,
          0.425,
          0.431,
          0.439,
          0.418,
          0.422
         ]
        },
        {
         "name": "5",
         "showlegend": false,
         "type": "box",
         "y": [
          0.439,
          0.432,
          0.441,
          0.437,
          0.449,
          0.431,
          0.451,
          0.439,
          0.443,
          0.443,
          0.446,
          0.438,
          0.448,
          0.438,
          0.437,
          0.427
         ]
        },
        {
         "name": "6",
         "showlegend": false,
         "type": "box",
         "y": [
          0.511,
          0.532,
          0.539,
          0.524,
          0.398,
          0.505,
          0.513,
          0.516,
          0.513,
          0.515,
          0.504,
          0.498,
          0.523,
          0.513,
          0.514,
          0.489
         ]
        },
        {
         "name": "7",
         "showlegend": false,
         "type": "box",
         "y": [
          0.506,
          0.509,
          0.516,
          0.517,
          0.497,
          0.519,
          0.423,
          0.517,
          0.499,
          0.512,
          0.522,
          0.512,
          0.516,
          0.51,
          0.515,
          0.472
         ]
        },
        {
         "name": "8",
         "showlegend": false,
         "type": "box",
         "y": [
          0.478,
          0.461,
          0.475,
          0.474,
          0.457,
          0.48,
          0.471,
          0.476,
          0.49,
          0.478,
          0.498,
          0.487,
          0.485,
          0.476,
          0.474,
          0.479
         ]
        },
        {
         "name": "9",
         "showlegend": false,
         "type": "box",
         "y": [
          0.481,
          0.48,
          0.489,
          0.487,
          0.473,
          0.481,
          0.488,
          0.489,
          0.492,
          0.491,
          0.482,
          0.498,
          0.489,
          0.489,
          0.487,
          0.487
         ]
        },
        {
         "name": "10",
         "showlegend": false,
         "type": "box",
         "y": [
          0.438,
          0.429,
          0.432,
          0.433,
          0.432,
          0.437,
          0.428,
          0.435,
          0.436,
          0.435,
          0.441,
          0.439,
          0.484,
          0.433,
          0.433,
          0.475
         ]
        },
        {
         "name": "11",
         "showlegend": false,
         "type": "box",
         "y": [
          0.486,
          0.478,
          0.482,
          0.481,
          0.465,
          0.484,
          0.478,
          0.483,
          0.483,
          0.49,
          0.494,
          0.497,
          0.495,
          0.488,
          0.481,
          0.475
         ]
        },
        {
         "name": "12",
         "showlegend": false,
         "type": "box",
         "y": [
          0.447,
          0.434,
          0.439,
          0.434,
          0.447,
          0.435,
          0.43,
          0.436,
          0.438,
          0.435,
          0.445,
          0.451,
          0.441,
          0.433,
          0.434,
          0.492
         ]
        },
        {
         "name": "13",
         "showlegend": false,
         "type": "box",
         "y": [
          0.533,
          0.532,
          0.541,
          0.547,
          0.525,
          0.545,
          0.544,
          0.55,
          0.556,
          0.554,
          0.556,
          0.532,
          0.521,
          0.552,
          0.548,
          0.533
         ]
        },
        {
         "name": "14",
         "showlegend": false,
         "type": "box",
         "y": [
          0.498,
          0.494,
          0.491,
          0.498,
          0.494,
          0.495,
          0.497,
          0.496,
          0.486,
          0.499,
          0.502,
          0.498,
          0.485,
          0.497,
          0.494,
          0.489
         ]
        },
        {
         "name": "15",
         "showlegend": false,
         "type": "box",
         "y": [
          0.445,
          0.432,
          0.445,
          0.441,
          0.448,
          0.43,
          0.429,
          0.437,
          0.442,
          0.439,
          0.449,
          0.451,
          0.448,
          0.437,
          0.435,
          0.431
         ]
        },
        {
         "name": "16",
         "showlegend": false,
         "type": "box",
         "y": [
          0.425,
          0.411,
          0.411,
          0.412,
          0.42,
          0.409,
          0.41,
          0.413,
          0.42,
          0.42,
          0.426,
          0.431,
          0.446,
          0.418,
          0.411,
          0.435
         ]
        },
        {
         "name": "17",
         "showlegend": false,
         "type": "box",
         "y": [
          0.449,
          0.441,
          0.448,
          0.447,
          0.431,
          0.45,
          0.439,
          0.449,
          0.454,
          0.451,
          0.457,
          0.462,
          0.435,
          0.449,
          0.447,
          0.437
         ]
        },
        {
         "name": "18",
         "showlegend": false,
         "type": "box",
         "y": [
          0.441,
          0.424,
          0.435,
          0.435,
          0.433,
          0.437,
          0.433,
          0.436,
          0.442,
          0.446,
          0.442,
          0.445,
          0.435,
          0.455,
          0.434,
          0.431
         ]
        },
        {
         "name": "19",
         "showlegend": false,
         "type": "box",
         "y": [
          0.434,
          0.437,
          0.441,
          0.445,
          0.44,
          0.442,
          0.432,
          0.435,
          0.437,
          0.446,
          0.443,
          0.447,
          0.441,
          0.444,
          0.433,
          0.425
         ]
        },
        {
         "name": "20",
         "showlegend": false,
         "type": "box",
         "y": [
          0.429,
          0.418,
          0.432,
          0.431,
          0.437,
          0.428,
          0.426,
          0.417,
          0.429,
          0.438,
          0.439,
          0.431,
          0.439,
          0.436,
          0.415,
          0.418
         ]
        },
        {
         "name": "21",
         "showlegend": false,
         "type": "box",
         "y": [
          0.525,
          0.513,
          0.532,
          0.528,
          0.499,
          0.534,
          0.53,
          0.53,
          0.535,
          0.536,
          0.538,
          0.512,
          0.511,
          0.534,
          0.528,
          0.511
         ]
        },
        {
         "name": "22",
         "showlegend": false,
         "type": "box",
         "y": [
          0.491,
          0.487,
          0.492,
          0.492,
          0.487,
          0.496,
          0.491,
          0.493,
          0.498,
          0.495,
          0.5,
          0.498,
          0.497,
          0.493,
          0.491,
          0.491
         ]
        },
        {
         "line": {
          "color": "black"
         },
         "mode": "lines",
         "showlegend": false,
         "type": "scatter",
         "x": [
          1,
          22
         ],
         "y": [
          0.11,
          0.11
         ]
        },
        {
         "line": {
          "color": "green",
          "dash": "dot"
         },
         "mode": "lines",
         "showlegend": false,
         "type": "scatter",
         "x": [
          1,
          22
         ],
         "y": [
          0.77,
          0.77
         ]
        }
       ],
       "layout": {
        "height": 500,
        "template": {
         "data": {
          "bar": [
           {
            "error_x": {
             "color": "#2a3f5f"
            },
            "error_y": {
             "color": "#2a3f5f"
            },
            "marker": {
             "line": {
              "color": "#E5ECF6",
              "width": 0.5
             },
             "pattern": {
              "fillmode": "overlay",
              "size": 10,
              "solidity": 0.2
             }
            },
            "type": "bar"
           }
          ],
          "barpolar": [
           {
            "marker": {
             "line": {
              "color": "#E5ECF6",
              "width": 0.5
             },
             "pattern": {
              "fillmode": "overlay",
              "size": 10,
              "solidity": 0.2
             }
            },
            "type": "barpolar"
           }
          ],
          "carpet": [
           {
            "aaxis": {
             "endlinecolor": "#2a3f5f",
             "gridcolor": "white",
             "linecolor": "white",
             "minorgridcolor": "white",
             "startlinecolor": "#2a3f5f"
            },
            "baxis": {
             "endlinecolor": "#2a3f5f",
             "gridcolor": "white",
             "linecolor": "white",
             "minorgridcolor": "white",
             "startlinecolor": "#2a3f5f"
            },
            "type": "carpet"
           }
          ],
          "choropleth": [
           {
            "colorbar": {
             "outlinewidth": 0,
             "ticks": ""
            },
            "type": "choropleth"
           }
          ],
          "contour": [
           {
            "colorbar": {
             "outlinewidth": 0,
             "ticks": ""
            },
            "colorscale": [
             [
              0,
              "#0d0887"
             ],
             [
              0.1111111111111111,
              "#46039f"
             ],
             [
              0.2222222222222222,
              "#7201a8"
             ],
             [
              0.3333333333333333,
              "#9c179e"
             ],
             [
              0.4444444444444444,
              "#bd3786"
             ],
             [
              0.5555555555555556,
              "#d8576b"
             ],
             [
              0.6666666666666666,
              "#ed7953"
             ],
             [
              0.7777777777777778,
              "#fb9f3a"
             ],
             [
              0.8888888888888888,
              "#fdca26"
             ],
             [
              1,
              "#f0f921"
             ]
            ],
            "type": "contour"
           }
          ],
          "contourcarpet": [
           {
            "colorbar": {
             "outlinewidth": 0,
             "ticks": ""
            },
            "type": "contourcarpet"
           }
          ],
          "heatmap": [
           {
            "colorbar": {
             "outlinewidth": 0,
             "ticks": ""
            },
            "colorscale": [
             [
              0,
              "#0d0887"
             ],
             [
              0.1111111111111111,
              "#46039f"
             ],
             [
              0.2222222222222222,
              "#7201a8"
             ],
             [
              0.3333333333333333,
              "#9c179e"
             ],
             [
              0.4444444444444444,
              "#bd3786"
             ],
             [
              0.5555555555555556,
              "#d8576b"
             ],
             [
              0.6666666666666666,
              "#ed7953"
             ],
             [
              0.7777777777777778,
              "#fb9f3a"
             ],
             [
              0.8888888888888888,
              "#fdca26"
             ],
             [
              1,
              "#f0f921"
             ]
            ],
            "type": "heatmap"
           }
          ],
          "heatmapgl": [
           {
            "colorbar": {
             "outlinewidth": 0,
             "ticks": ""
            },
            "colorscale": [
             [
              0,
              "#0d0887"
             ],
             [
              0.1111111111111111,
              "#46039f"
             ],
             [
              0.2222222222222222,
              "#7201a8"
             ],
             [
              0.3333333333333333,
              "#9c179e"
             ],
             [
              0.4444444444444444,
              "#bd3786"
             ],
             [
              0.5555555555555556,
              "#d8576b"
             ],
             [
              0.6666666666666666,
              "#ed7953"
             ],
             [
              0.7777777777777778,
              "#fb9f3a"
             ],
             [
              0.8888888888888888,
              "#fdca26"
             ],
             [
              1,
              "#f0f921"
             ]
            ],
            "type": "heatmapgl"
           }
          ],
          "histogram": [
           {
            "marker": {
             "pattern": {
              "fillmode": "overlay",
              "size": 10,
              "solidity": 0.2
             }
            },
            "type": "histogram"
           }
          ],
          "histogram2d": [
           {
            "colorbar": {
             "outlinewidth": 0,
             "ticks": ""
            },
            "colorscale": [
             [
              0,
              "#0d0887"
             ],
             [
              0.1111111111111111,
              "#46039f"
             ],
             [
              0.2222222222222222,
              "#7201a8"
             ],
             [
              0.3333333333333333,
              "#9c179e"
             ],
             [
              0.4444444444444444,
              "#bd3786"
             ],
             [
              0.5555555555555556,
              "#d8576b"
             ],
             [
              0.6666666666666666,
              "#ed7953"
             ],
             [
              0.7777777777777778,
              "#fb9f3a"
             ],
             [
              0.8888888888888888,
              "#fdca26"
             ],
             [
              1,
              "#f0f921"
             ]
            ],
            "type": "histogram2d"
           }
          ],
          "histogram2dcontour": [
           {
            "colorbar": {
             "outlinewidth": 0,
             "ticks": ""
            },
            "colorscale": [
             [
              0,
              "#0d0887"
             ],
             [
              0.1111111111111111,
              "#46039f"
             ],
             [
              0.2222222222222222,
              "#7201a8"
             ],
             [
              0.3333333333333333,
              "#9c179e"
             ],
             [
              0.4444444444444444,
              "#bd3786"
             ],
             [
              0.5555555555555556,
              "#d8576b"
             ],
             [
              0.6666666666666666,
              "#ed7953"
             ],
             [
              0.7777777777777778,
              "#fb9f3a"
             ],
             [
              0.8888888888888888,
              "#fdca26"
             ],
             [
              1,
              "#f0f921"
             ]
            ],
            "type": "histogram2dcontour"
           }
          ],
          "mesh3d": [
           {
            "colorbar": {
             "outlinewidth": 0,
             "ticks": ""
            },
            "type": "mesh3d"
           }
          ],
          "parcoords": [
           {
            "line": {
             "colorbar": {
              "outlinewidth": 0,
              "ticks": ""
             }
            },
            "type": "parcoords"
           }
          ],
          "pie": [
           {
            "automargin": true,
            "type": "pie"
           }
          ],
          "scatter": [
           {
            "marker": {
             "colorbar": {
              "outlinewidth": 0,
              "ticks": ""
             }
            },
            "type": "scatter"
           }
          ],
          "scatter3d": [
           {
            "line": {
             "colorbar": {
              "outlinewidth": 0,
              "ticks": ""
             }
            },
            "marker": {
             "colorbar": {
              "outlinewidth": 0,
              "ticks": ""
             }
            },
            "type": "scatter3d"
           }
          ],
          "scattercarpet": [
           {
            "marker": {
             "colorbar": {
              "outlinewidth": 0,
              "ticks": ""
             }
            },
            "type": "scattercarpet"
           }
          ],
          "scattergeo": [
           {
            "marker": {
             "colorbar": {
              "outlinewidth": 0,
              "ticks": ""
             }
            },
            "type": "scattergeo"
           }
          ],
          "scattergl": [
           {
            "marker": {
             "colorbar": {
              "outlinewidth": 0,
              "ticks": ""
             }
            },
            "type": "scattergl"
           }
          ],
          "scattermapbox": [
           {
            "marker": {
             "colorbar": {
              "outlinewidth": 0,
              "ticks": ""
             }
            },
            "type": "scattermapbox"
           }
          ],
          "scatterpolar": [
           {
            "marker": {
             "colorbar": {
              "outlinewidth": 0,
              "ticks": ""
             }
            },
            "type": "scatterpolar"
           }
          ],
          "scatterpolargl": [
           {
            "marker": {
             "colorbar": {
              "outlinewidth": 0,
              "ticks": ""
             }
            },
            "type": "scatterpolargl"
           }
          ],
          "scatterternary": [
           {
            "marker": {
             "colorbar": {
              "outlinewidth": 0,
              "ticks": ""
             }
            },
            "type": "scatterternary"
           }
          ],
          "surface": [
           {
            "colorbar": {
             "outlinewidth": 0,
             "ticks": ""
            },
            "colorscale": [
             [
              0,
              "#0d0887"
             ],
             [
              0.1111111111111111,
              "#46039f"
             ],
             [
              0.2222222222222222,
              "#7201a8"
             ],
             [
              0.3333333333333333,
              "#9c179e"
             ],
             [
              0.4444444444444444,
              "#bd3786"
             ],
             [
              0.5555555555555556,
              "#d8576b"
             ],
             [
              0.6666666666666666,
              "#ed7953"
             ],
             [
              0.7777777777777778,
              "#fb9f3a"
             ],
             [
              0.8888888888888888,
              "#fdca26"
             ],
             [
              1,
              "#f0f921"
             ]
            ],
            "type": "surface"
           }
          ],
          "table": [
           {
            "cells": {
             "fill": {
              "color": "#EBF0F8"
             },
             "line": {
              "color": "white"
             }
            },
            "header": {
             "fill": {
              "color": "#C8D4E3"
             },
             "line": {
              "color": "white"
             }
            },
            "type": "table"
           }
          ]
         },
         "layout": {
          "annotationdefaults": {
           "arrowcolor": "#2a3f5f",
           "arrowhead": 0,
           "arrowwidth": 1
          },
          "autotypenumbers": "strict",
          "coloraxis": {
           "colorbar": {
            "outlinewidth": 0,
            "ticks": ""
           }
          },
          "colorscale": {
           "diverging": [
            [
             0,
             "#8e0152"
            ],
            [
             0.1,
             "#c51b7d"
            ],
            [
             0.2,
             "#de77ae"
            ],
            [
             0.3,
             "#f1b6da"
            ],
            [
             0.4,
             "#fde0ef"
            ],
            [
             0.5,
             "#f7f7f7"
            ],
            [
             0.6,
             "#e6f5d0"
            ],
            [
             0.7,
             "#b8e186"
            ],
            [
             0.8,
             "#7fbc41"
            ],
            [
             0.9,
             "#4d9221"
            ],
            [
             1,
             "#276419"
            ]
           ],
           "sequential": [
            [
             0,
             "#0d0887"
            ],
            [
             0.1111111111111111,
             "#46039f"
            ],
            [
             0.2222222222222222,
             "#7201a8"
            ],
            [
             0.3333333333333333,
             "#9c179e"
            ],
            [
             0.4444444444444444,
             "#bd3786"
            ],
            [
             0.5555555555555556,
             "#d8576b"
            ],
            [
             0.6666666666666666,
             "#ed7953"
            ],
            [
             0.7777777777777778,
             "#fb9f3a"
            ],
            [
             0.8888888888888888,
             "#fdca26"
            ],
            [
             1,
             "#f0f921"
            ]
           ],
           "sequentialminus": [
            [
             0,
             "#0d0887"
            ],
            [
             0.1111111111111111,
             "#46039f"
            ],
            [
             0.2222222222222222,
             "#7201a8"
            ],
            [
             0.3333333333333333,
             "#9c179e"
            ],
            [
             0.4444444444444444,
             "#bd3786"
            ],
            [
             0.5555555555555556,
             "#d8576b"
            ],
            [
             0.6666666666666666,
             "#ed7953"
            ],
            [
             0.7777777777777778,
             "#fb9f3a"
            ],
            [
             0.8888888888888888,
             "#fdca26"
            ],
            [
             1,
             "#f0f921"
            ]
           ]
          },
          "colorway": [
           "#636efa",
           "#EF553B",
           "#00cc96",
           "#ab63fa",
           "#FFA15A",
           "#19d3f3",
           "#FF6692",
           "#B6E880",
           "#FF97FF",
           "#FECB52"
          ],
          "font": {
           "color": "#2a3f5f"
          },
          "geo": {
           "bgcolor": "white",
           "lakecolor": "white",
           "landcolor": "#E5ECF6",
           "showlakes": true,
           "showland": true,
           "subunitcolor": "white"
          },
          "hoverlabel": {
           "align": "left"
          },
          "hovermode": "closest",
          "mapbox": {
           "style": "light"
          },
          "paper_bgcolor": "white",
          "plot_bgcolor": "#E5ECF6",
          "polar": {
           "angularaxis": {
            "gridcolor": "white",
            "linecolor": "white",
            "ticks": ""
           },
           "bgcolor": "#E5ECF6",
           "radialaxis": {
            "gridcolor": "white",
            "linecolor": "white",
            "ticks": ""
           }
          },
          "scene": {
           "xaxis": {
            "backgroundcolor": "#E5ECF6",
            "gridcolor": "white",
            "gridwidth": 2,
            "linecolor": "white",
            "showbackground": true,
            "ticks": "",
            "zerolinecolor": "white"
           },
           "yaxis": {
            "backgroundcolor": "#E5ECF6",
            "gridcolor": "white",
            "gridwidth": 2,
            "linecolor": "white",
            "showbackground": true,
            "ticks": "",
            "zerolinecolor": "white"
           },
           "zaxis": {
            "backgroundcolor": "#E5ECF6",
            "gridcolor": "white",
            "gridwidth": 2,
            "linecolor": "white",
            "showbackground": true,
            "ticks": "",
            "zerolinecolor": "white"
           }
          },
          "shapedefaults": {
           "line": {
            "color": "#2a3f5f"
           }
          },
          "ternary": {
           "aaxis": {
            "gridcolor": "white",
            "linecolor": "white",
            "ticks": ""
           },
           "baxis": {
            "gridcolor": "white",
            "linecolor": "white",
            "ticks": ""
           },
           "bgcolor": "#E5ECF6",
           "caxis": {
            "gridcolor": "white",
            "linecolor": "white",
            "ticks": ""
           }
          },
          "title": {
           "x": 0.05
          },
          "xaxis": {
           "automargin": true,
           "gridcolor": "white",
           "linecolor": "white",
           "ticks": "",
           "title": {
            "standoff": 15
           },
           "zerolinecolor": "white",
           "zerolinewidth": 2
          },
          "yaxis": {
           "automargin": true,
           "gridcolor": "white",
           "linecolor": "white",
           "ticks": "",
           "title": {
            "standoff": 15
           },
           "zerolinecolor": "white",
           "zerolinewidth": 2
          }
         }
        },
        "title": {
         "text": "Current_fan_current_20pwm"
        },
        "width": 800,
        "yaxis": {
         "title": {
          "text": "current"
         }
        }
       }
      }
     },
     "metadata": {},
     "output_type": "display_data"
    }
   ],
   "source": [
    "box_plot(Current__fan_current_20pwm,upper_limit=0,lower_limit=0.11,\n",
    "                 nominal=0.77,name='Current_fan_current_20pwm',plot_data='current')"
   ]
  },
  {
   "cell_type": "code",
   "execution_count": 22,
   "id": "d8b20022",
   "metadata": {
    "extensions": {
     "jupyter_dashboards": {
      "version": 1,
      "views": {
       "default_view": {
        "col": 0,
        "height": 2,
        "row": 42,
        "width": 12
       }
      }
     }
    }
   },
   "outputs": [
    {
     "data": {
      "application/vnd.plotly.v1+json": {
       "config": {
        "plotlyServerURL": "https://plot.ly"
       },
       "data": [
        {
         "name": "1",
         "showlegend": false,
         "type": "box",
         "y": [
          0.441,
          0.436,
          0.451,
          0.453,
          0.444,
          0.449,
          0.445,
          0.448,
          0.445,
          0.448,
          0.449,
          0.451,
          0.448,
          0.446,
          0.443,
          0.435
         ]
        },
        {
         "name": "2",
         "showlegend": false,
         "type": "box",
         "y": [
          0.443,
          0.451,
          0.457,
          0.455,
          0.446,
          0.444,
          0.443,
          0.45,
          0.448,
          0.458,
          0.461,
          0.459,
          0.447,
          0.456,
          0.448,
          0.445
         ]
        },
        {
         "name": "3",
         "showlegend": false,
         "type": "box",
         "y": [
          0.466,
          0.454,
          0.449,
          0.449,
          0.437,
          0.449,
          0.442,
          0.445,
          0.454,
          0.472,
          0.456,
          0.442,
          0.458,
          0.47,
          0.443,
          0.442
         ]
        },
        {
         "name": "4",
         "showlegend": false,
         "type": "box",
         "y": [
          0.434,
          0.427,
          0.441,
          0.441,
          0.419,
          0.427,
          0.433,
          0.442,
          0.441,
          0.446,
          0.444,
          0.442,
          0.442,
          0.444,
          0.44,
          0.452
         ]
        },
        {
         "name": "5",
         "showlegend": false,
         "type": "box",
         "y": [
          0.43,
          0.418,
          0.429,
          0.42,
          0.414,
          0.421,
          0.417,
          0.424,
          0.421,
          0.43,
          0.431,
          0.43,
          0.426,
          0.428,
          0.422,
          0.412
         ]
        },
        {
         "name": "6",
         "showlegend": false,
         "type": "box",
         "y": [
          0.518,
          0.508,
          0.528,
          0.528,
          0.497,
          0.512,
          0.522,
          0.526,
          0.532,
          0.536,
          0.534,
          0.521,
          0.534,
          0.534,
          0.524,
          0.507
         ]
        },
        {
         "name": "7",
         "showlegend": false,
         "type": "box",
         "y": [
          0.499,
          0.495,
          0.507,
          0.518,
          0.493,
          0.504,
          0.511,
          0.511,
          0.509,
          0.513,
          0.521,
          0.517,
          0.508,
          0.511,
          0.509,
          0.494
         ]
        },
        {
         "name": "8",
         "showlegend": false,
         "type": "box",
         "y": [
          0.439,
          0.418,
          0.445,
          0.441,
          0.435,
          0.438,
          0.437,
          0.432,
          0.447,
          0.444,
          0.451,
          0.449,
          0.549,
          0.442,
          0.43,
          0.445
         ]
        },
        {
         "name": "9",
         "showlegend": false,
         "type": "box",
         "y": [
          0.445,
          0.433,
          0.425,
          0.421,
          0.418,
          0.418,
          0.418,
          0.42,
          0.43,
          0.432,
          0.429,
          0.431,
          0.427,
          0.43,
          0.418,
          0.415
         ]
        },
        {
         "name": "10",
         "showlegend": false,
         "type": "box",
         "y": [
          0.459,
          0.447,
          0.452,
          0.457,
          0.446,
          0.457,
          0.451,
          0.453,
          0.457,
          0.459,
          0.465,
          0.471,
          0.463,
          0.457,
          0.451,
          0.443
         ]
        },
        {
         "name": "11",
         "showlegend": false,
         "type": "box",
         "y": [
          0.417,
          0.409,
          0.423,
          0.419,
          0.415,
          0.421,
          0.415,
          0.417,
          0.425,
          0.427,
          0.431,
          0.427,
          0.425,
          0.425,
          0.415,
          0.407
         ]
        },
        {
         "name": "12",
         "showlegend": false,
         "type": "box",
         "y": [
          0.424,
          0.417,
          0.427,
          0.425,
          0.419,
          0.424,
          0.425,
          0.425,
          0.433,
          0.435,
          0.436,
          0.442,
          0.431,
          0.433,
          0.423,
          0.425
         ]
        },
        {
         "name": "13",
         "showlegend": false,
         "type": "box",
         "y": [
          0.512,
          0.515,
          0.525,
          0.527,
          0.513,
          0.523,
          0.524,
          0.525,
          0.536,
          0.534,
          0.534,
          0.525,
          0.531,
          0.532,
          0.513,
          0.509
         ]
        },
        {
         "name": "14",
         "showlegend": false,
         "type": "box",
         "y": [
          0.515,
          0.493,
          0.503,
          0.499,
          0.498,
          0.503,
          0.498,
          0.496,
          0.507,
          0.511,
          0.515,
          0.51,
          0.51,
          0.509,
          0.494,
          0.492
         ]
        },
        {
         "name": "15",
         "showlegend": false,
         "type": "box",
         "y": [
          0.429,
          0.483,
          0.452,
          0.456,
          0.428,
          0.453,
          0.457,
          0.456,
          0.458,
          0.477,
          0.468,
          0.517,
          0.462,
          0.505,
          0.454,
          0.421
         ]
        },
        {
         "name": "16",
         "showlegend": false,
         "type": "box",
         "y": [
          0.44,
          0.439,
          0.428,
          0.421,
          0.417,
          0.425,
          0.424,
          0.428,
          0.429,
          0.442,
          0.438,
          0.442,
          0.425,
          0.43,
          0.426,
          0.442
         ]
        },
        {
         "name": "17",
         "showlegend": false,
         "type": "box",
         "y": [
          0.463,
          0.459,
          0.457,
          0.453,
          0.441,
          0.451,
          0.452,
          0.45,
          0.451,
          0.437,
          0.46,
          0.451,
          0.459,
          0.435,
          0.448,
          0.441
         ]
        },
        {
         "name": "18",
         "showlegend": false,
         "type": "box",
         "y": [
          0.433,
          0.403,
          0.41,
          0.41,
          0.392,
          0.406,
          0.409,
          0.407,
          0.415,
          0.432,
          0.421,
          0.435,
          0.417,
          0.421,
          0.405,
          0.409
         ]
        },
        {
         "name": "19",
         "showlegend": false,
         "type": "box",
         "y": [
          0.522,
          0.518,
          0.533,
          0.534,
          0.504,
          0.526,
          0.527,
          0.528,
          0.534,
          0.507,
          0.537,
          0.524,
          0.538,
          0.511,
          0.526,
          0.509
         ]
        },
        {
         "name": "20",
         "showlegend": false,
         "type": "box",
         "y": [
          0.511,
          0.492,
          0.495,
          0.495,
          0.498,
          0.497,
          0.498,
          0.498,
          0.509,
          0.502,
          0.518,
          0.507,
          0.498,
          0.5,
          0.496,
          0.491
         ]
        },
        {
         "name": "21",
         "showlegend": false,
         "type": "box",
         "y": [
          0.5,
          0.501,
          0.499,
          0.491,
          0.485,
          0.481,
          0.485,
          0.484,
          0.486,
          0.483,
          0.492,
          0.49,
          0.492,
          0.481,
          0.482,
          0.481
         ]
        },
        {
         "name": "22",
         "showlegend": false,
         "type": "box",
         "y": [
          0.488,
          0.476,
          0.487,
          0.489,
          0.48,
          0.486,
          0.474,
          0.482,
          0.494,
          0.482,
          0.504,
          0.507,
          0.488,
          0.48,
          0.48,
          0.483
         ]
        },
        {
         "name": "23",
         "showlegend": false,
         "type": "box",
         "y": [
          0.433,
          0.413,
          0.432,
          0.433,
          0.4,
          0.431,
          0.488,
          0.431,
          0.445,
          0.432,
          0.45,
          0.451,
          0.443,
          0.43,
          0.429,
          0.438
         ]
        },
        {
         "name": "24",
         "showlegend": false,
         "type": "box",
         "y": [
          0.486,
          0.476,
          0.487,
          0.49,
          0.469,
          0.472,
          0.488,
          0.487,
          0.481,
          0.493,
          0.498,
          0.502,
          0.495,
          0.491,
          0.485,
          0.471
         ]
        },
        {
         "name": "25",
         "showlegend": false,
         "type": "box",
         "y": [
          0.444,
          0.426,
          0.433,
          0.434,
          0.424,
          0.429,
          0.446,
          0.438,
          0.441,
          0.439,
          0.444,
          0.453,
          0.439,
          0.437,
          0.436,
          0.425
         ]
        },
        {
         "name": "26",
         "showlegend": false,
         "type": "box",
         "y": [
          0.495,
          0.482,
          0.498,
          0.505,
          0.476,
          0.498,
          0.504,
          0.493,
          0.504,
          0.504,
          0.502,
          0.509,
          0.505,
          0.502,
          0.491,
          0.488
         ]
        },
        {
         "name": "27",
         "showlegend": false,
         "type": "box",
         "y": [
          0.497,
          0.501,
          0.51,
          0.512,
          0.499,
          0.502,
          0.514,
          0.509,
          0.506,
          0.512,
          0.516,
          0.513,
          0.512,
          0.51,
          0.507,
          0.498
         ]
        },
        {
         "name": "28",
         "showlegend": false,
         "type": "box",
         "y": [
          0.52,
          0.512,
          0.515,
          0.541,
          0.502,
          0.525,
          0.438,
          0.514,
          0.523,
          0.519,
          0.521,
          0.52,
          0.53,
          0.517,
          0.512,
          0.489
         ]
        },
        {
         "line": {
          "color": "black"
         },
         "mode": "lines",
         "showlegend": false,
         "type": "scatter",
         "x": [
          1,
          28
         ],
         "y": [
          0.11,
          0.11
         ]
        },
        {
         "line": {
          "color": "green",
          "dash": "dot"
         },
         "mode": "lines",
         "showlegend": false,
         "type": "scatter",
         "x": [
          1,
          28
         ],
         "y": [
          0.77,
          0.77
         ]
        }
       ],
       "layout": {
        "height": 500,
        "template": {
         "data": {
          "bar": [
           {
            "error_x": {
             "color": "#2a3f5f"
            },
            "error_y": {
             "color": "#2a3f5f"
            },
            "marker": {
             "line": {
              "color": "#E5ECF6",
              "width": 0.5
             },
             "pattern": {
              "fillmode": "overlay",
              "size": 10,
              "solidity": 0.2
             }
            },
            "type": "bar"
           }
          ],
          "barpolar": [
           {
            "marker": {
             "line": {
              "color": "#E5ECF6",
              "width": 0.5
             },
             "pattern": {
              "fillmode": "overlay",
              "size": 10,
              "solidity": 0.2
             }
            },
            "type": "barpolar"
           }
          ],
          "carpet": [
           {
            "aaxis": {
             "endlinecolor": "#2a3f5f",
             "gridcolor": "white",
             "linecolor": "white",
             "minorgridcolor": "white",
             "startlinecolor": "#2a3f5f"
            },
            "baxis": {
             "endlinecolor": "#2a3f5f",
             "gridcolor": "white",
             "linecolor": "white",
             "minorgridcolor": "white",
             "startlinecolor": "#2a3f5f"
            },
            "type": "carpet"
           }
          ],
          "choropleth": [
           {
            "colorbar": {
             "outlinewidth": 0,
             "ticks": ""
            },
            "type": "choropleth"
           }
          ],
          "contour": [
           {
            "colorbar": {
             "outlinewidth": 0,
             "ticks": ""
            },
            "colorscale": [
             [
              0,
              "#0d0887"
             ],
             [
              0.1111111111111111,
              "#46039f"
             ],
             [
              0.2222222222222222,
              "#7201a8"
             ],
             [
              0.3333333333333333,
              "#9c179e"
             ],
             [
              0.4444444444444444,
              "#bd3786"
             ],
             [
              0.5555555555555556,
              "#d8576b"
             ],
             [
              0.6666666666666666,
              "#ed7953"
             ],
             [
              0.7777777777777778,
              "#fb9f3a"
             ],
             [
              0.8888888888888888,
              "#fdca26"
             ],
             [
              1,
              "#f0f921"
             ]
            ],
            "type": "contour"
           }
          ],
          "contourcarpet": [
           {
            "colorbar": {
             "outlinewidth": 0,
             "ticks": ""
            },
            "type": "contourcarpet"
           }
          ],
          "heatmap": [
           {
            "colorbar": {
             "outlinewidth": 0,
             "ticks": ""
            },
            "colorscale": [
             [
              0,
              "#0d0887"
             ],
             [
              0.1111111111111111,
              "#46039f"
             ],
             [
              0.2222222222222222,
              "#7201a8"
             ],
             [
              0.3333333333333333,
              "#9c179e"
             ],
             [
              0.4444444444444444,
              "#bd3786"
             ],
             [
              0.5555555555555556,
              "#d8576b"
             ],
             [
              0.6666666666666666,
              "#ed7953"
             ],
             [
              0.7777777777777778,
              "#fb9f3a"
             ],
             [
              0.8888888888888888,
              "#fdca26"
             ],
             [
              1,
              "#f0f921"
             ]
            ],
            "type": "heatmap"
           }
          ],
          "heatmapgl": [
           {
            "colorbar": {
             "outlinewidth": 0,
             "ticks": ""
            },
            "colorscale": [
             [
              0,
              "#0d0887"
             ],
             [
              0.1111111111111111,
              "#46039f"
             ],
             [
              0.2222222222222222,
              "#7201a8"
             ],
             [
              0.3333333333333333,
              "#9c179e"
             ],
             [
              0.4444444444444444,
              "#bd3786"
             ],
             [
              0.5555555555555556,
              "#d8576b"
             ],
             [
              0.6666666666666666,
              "#ed7953"
             ],
             [
              0.7777777777777778,
              "#fb9f3a"
             ],
             [
              0.8888888888888888,
              "#fdca26"
             ],
             [
              1,
              "#f0f921"
             ]
            ],
            "type": "heatmapgl"
           }
          ],
          "histogram": [
           {
            "marker": {
             "pattern": {
              "fillmode": "overlay",
              "size": 10,
              "solidity": 0.2
             }
            },
            "type": "histogram"
           }
          ],
          "histogram2d": [
           {
            "colorbar": {
             "outlinewidth": 0,
             "ticks": ""
            },
            "colorscale": [
             [
              0,
              "#0d0887"
             ],
             [
              0.1111111111111111,
              "#46039f"
             ],
             [
              0.2222222222222222,
              "#7201a8"
             ],
             [
              0.3333333333333333,
              "#9c179e"
             ],
             [
              0.4444444444444444,
              "#bd3786"
             ],
             [
              0.5555555555555556,
              "#d8576b"
             ],
             [
              0.6666666666666666,
              "#ed7953"
             ],
             [
              0.7777777777777778,
              "#fb9f3a"
             ],
             [
              0.8888888888888888,
              "#fdca26"
             ],
             [
              1,
              "#f0f921"
             ]
            ],
            "type": "histogram2d"
           }
          ],
          "histogram2dcontour": [
           {
            "colorbar": {
             "outlinewidth": 0,
             "ticks": ""
            },
            "colorscale": [
             [
              0,
              "#0d0887"
             ],
             [
              0.1111111111111111,
              "#46039f"
             ],
             [
              0.2222222222222222,
              "#7201a8"
             ],
             [
              0.3333333333333333,
              "#9c179e"
             ],
             [
              0.4444444444444444,
              "#bd3786"
             ],
             [
              0.5555555555555556,
              "#d8576b"
             ],
             [
              0.6666666666666666,
              "#ed7953"
             ],
             [
              0.7777777777777778,
              "#fb9f3a"
             ],
             [
              0.8888888888888888,
              "#fdca26"
             ],
             [
              1,
              "#f0f921"
             ]
            ],
            "type": "histogram2dcontour"
           }
          ],
          "mesh3d": [
           {
            "colorbar": {
             "outlinewidth": 0,
             "ticks": ""
            },
            "type": "mesh3d"
           }
          ],
          "parcoords": [
           {
            "line": {
             "colorbar": {
              "outlinewidth": 0,
              "ticks": ""
             }
            },
            "type": "parcoords"
           }
          ],
          "pie": [
           {
            "automargin": true,
            "type": "pie"
           }
          ],
          "scatter": [
           {
            "marker": {
             "colorbar": {
              "outlinewidth": 0,
              "ticks": ""
             }
            },
            "type": "scatter"
           }
          ],
          "scatter3d": [
           {
            "line": {
             "colorbar": {
              "outlinewidth": 0,
              "ticks": ""
             }
            },
            "marker": {
             "colorbar": {
              "outlinewidth": 0,
              "ticks": ""
             }
            },
            "type": "scatter3d"
           }
          ],
          "scattercarpet": [
           {
            "marker": {
             "colorbar": {
              "outlinewidth": 0,
              "ticks": ""
             }
            },
            "type": "scattercarpet"
           }
          ],
          "scattergeo": [
           {
            "marker": {
             "colorbar": {
              "outlinewidth": 0,
              "ticks": ""
             }
            },
            "type": "scattergeo"
           }
          ],
          "scattergl": [
           {
            "marker": {
             "colorbar": {
              "outlinewidth": 0,
              "ticks": ""
             }
            },
            "type": "scattergl"
           }
          ],
          "scattermapbox": [
           {
            "marker": {
             "colorbar": {
              "outlinewidth": 0,
              "ticks": ""
             }
            },
            "type": "scattermapbox"
           }
          ],
          "scatterpolar": [
           {
            "marker": {
             "colorbar": {
              "outlinewidth": 0,
              "ticks": ""
             }
            },
            "type": "scatterpolar"
           }
          ],
          "scatterpolargl": [
           {
            "marker": {
             "colorbar": {
              "outlinewidth": 0,
              "ticks": ""
             }
            },
            "type": "scatterpolargl"
           }
          ],
          "scatterternary": [
           {
            "marker": {
             "colorbar": {
              "outlinewidth": 0,
              "ticks": ""
             }
            },
            "type": "scatterternary"
           }
          ],
          "surface": [
           {
            "colorbar": {
             "outlinewidth": 0,
             "ticks": ""
            },
            "colorscale": [
             [
              0,
              "#0d0887"
             ],
             [
              0.1111111111111111,
              "#46039f"
             ],
             [
              0.2222222222222222,
              "#7201a8"
             ],
             [
              0.3333333333333333,
              "#9c179e"
             ],
             [
              0.4444444444444444,
              "#bd3786"
             ],
             [
              0.5555555555555556,
              "#d8576b"
             ],
             [
              0.6666666666666666,
              "#ed7953"
             ],
             [
              0.7777777777777778,
              "#fb9f3a"
             ],
             [
              0.8888888888888888,
              "#fdca26"
             ],
             [
              1,
              "#f0f921"
             ]
            ],
            "type": "surface"
           }
          ],
          "table": [
           {
            "cells": {
             "fill": {
              "color": "#EBF0F8"
             },
             "line": {
              "color": "white"
             }
            },
            "header": {
             "fill": {
              "color": "#C8D4E3"
             },
             "line": {
              "color": "white"
             }
            },
            "type": "table"
           }
          ]
         },
         "layout": {
          "annotationdefaults": {
           "arrowcolor": "#2a3f5f",
           "arrowhead": 0,
           "arrowwidth": 1
          },
          "autotypenumbers": "strict",
          "coloraxis": {
           "colorbar": {
            "outlinewidth": 0,
            "ticks": ""
           }
          },
          "colorscale": {
           "diverging": [
            [
             0,
             "#8e0152"
            ],
            [
             0.1,
             "#c51b7d"
            ],
            [
             0.2,
             "#de77ae"
            ],
            [
             0.3,
             "#f1b6da"
            ],
            [
             0.4,
             "#fde0ef"
            ],
            [
             0.5,
             "#f7f7f7"
            ],
            [
             0.6,
             "#e6f5d0"
            ],
            [
             0.7,
             "#b8e186"
            ],
            [
             0.8,
             "#7fbc41"
            ],
            [
             0.9,
             "#4d9221"
            ],
            [
             1,
             "#276419"
            ]
           ],
           "sequential": [
            [
             0,
             "#0d0887"
            ],
            [
             0.1111111111111111,
             "#46039f"
            ],
            [
             0.2222222222222222,
             "#7201a8"
            ],
            [
             0.3333333333333333,
             "#9c179e"
            ],
            [
             0.4444444444444444,
             "#bd3786"
            ],
            [
             0.5555555555555556,
             "#d8576b"
            ],
            [
             0.6666666666666666,
             "#ed7953"
            ],
            [
             0.7777777777777778,
             "#fb9f3a"
            ],
            [
             0.8888888888888888,
             "#fdca26"
            ],
            [
             1,
             "#f0f921"
            ]
           ],
           "sequentialminus": [
            [
             0,
             "#0d0887"
            ],
            [
             0.1111111111111111,
             "#46039f"
            ],
            [
             0.2222222222222222,
             "#7201a8"
            ],
            [
             0.3333333333333333,
             "#9c179e"
            ],
            [
             0.4444444444444444,
             "#bd3786"
            ],
            [
             0.5555555555555556,
             "#d8576b"
            ],
            [
             0.6666666666666666,
             "#ed7953"
            ],
            [
             0.7777777777777778,
             "#fb9f3a"
            ],
            [
             0.8888888888888888,
             "#fdca26"
            ],
            [
             1,
             "#f0f921"
            ]
           ]
          },
          "colorway": [
           "#636efa",
           "#EF553B",
           "#00cc96",
           "#ab63fa",
           "#FFA15A",
           "#19d3f3",
           "#FF6692",
           "#B6E880",
           "#FF97FF",
           "#FECB52"
          ],
          "font": {
           "color": "#2a3f5f"
          },
          "geo": {
           "bgcolor": "white",
           "lakecolor": "white",
           "landcolor": "#E5ECF6",
           "showlakes": true,
           "showland": true,
           "subunitcolor": "white"
          },
          "hoverlabel": {
           "align": "left"
          },
          "hovermode": "closest",
          "mapbox": {
           "style": "light"
          },
          "paper_bgcolor": "white",
          "plot_bgcolor": "#E5ECF6",
          "polar": {
           "angularaxis": {
            "gridcolor": "white",
            "linecolor": "white",
            "ticks": ""
           },
           "bgcolor": "#E5ECF6",
           "radialaxis": {
            "gridcolor": "white",
            "linecolor": "white",
            "ticks": ""
           }
          },
          "scene": {
           "xaxis": {
            "backgroundcolor": "#E5ECF6",
            "gridcolor": "white",
            "gridwidth": 2,
            "linecolor": "white",
            "showbackground": true,
            "ticks": "",
            "zerolinecolor": "white"
           },
           "yaxis": {
            "backgroundcolor": "#E5ECF6",
            "gridcolor": "white",
            "gridwidth": 2,
            "linecolor": "white",
            "showbackground": true,
            "ticks": "",
            "zerolinecolor": "white"
           },
           "zaxis": {
            "backgroundcolor": "#E5ECF6",
            "gridcolor": "white",
            "gridwidth": 2,
            "linecolor": "white",
            "showbackground": true,
            "ticks": "",
            "zerolinecolor": "white"
           }
          },
          "shapedefaults": {
           "line": {
            "color": "#2a3f5f"
           }
          },
          "ternary": {
           "aaxis": {
            "gridcolor": "white",
            "linecolor": "white",
            "ticks": ""
           },
           "baxis": {
            "gridcolor": "white",
            "linecolor": "white",
            "ticks": ""
           },
           "bgcolor": "#E5ECF6",
           "caxis": {
            "gridcolor": "white",
            "linecolor": "white",
            "ticks": ""
           }
          },
          "title": {
           "x": 0.05
          },
          "xaxis": {
           "automargin": true,
           "gridcolor": "white",
           "linecolor": "white",
           "ticks": "",
           "title": {
            "standoff": 15
           },
           "zerolinecolor": "white",
           "zerolinewidth": 2
          },
          "yaxis": {
           "automargin": true,
           "gridcolor": "white",
           "linecolor": "white",
           "ticks": "",
           "title": {
            "standoff": 15
           },
           "zerolinecolor": "white",
           "zerolinewidth": 2
          }
         }
        },
        "title": {
         "text": "New_fan_Current_20pwm"
        },
        "width": 800,
        "yaxis": {
         "title": {
          "text": "current"
         }
        }
       }
      }
     },
     "metadata": {},
     "output_type": "display_data"
    }
   ],
   "source": [
    "box_plot(New_fan_Current_20pwm,upper_limit=0,lower_limit=0.11,\n",
    "                 nominal=0.77,name='New_fan_Current_20pwm',plot_data='current')"
   ]
  },
  {
   "cell_type": "code",
   "execution_count": null,
   "id": "82c7e24d",
   "metadata": {
    "extensions": {
     "jupyter_dashboards": {
      "version": 1,
      "views": {
       "default_view": {
        "hidden": true
       }
      }
     }
    }
   },
   "outputs": [],
   "source": []
  },
  {
   "cell_type": "code",
   "execution_count": null,
   "id": "6162105e",
   "metadata": {
    "extensions": {
     "jupyter_dashboards": {
      "version": 1,
      "views": {
       "default_view": {
        "hidden": true
       }
      }
     }
    }
   },
   "outputs": [],
   "source": []
  }
 ],
 "metadata": {
  "extensions": {
   "jupyter_dashboards": {
    "activeView": "default_view",
    "version": 1,
    "views": {
     "default_view": {
      "cellMargin": 10,
      "defaultCellHeight": 40,
      "maxColumns": 12,
      "name": "active_view",
      "type": "grid"
     }
    }
   }
  },
  "kernelspec": {
   "display_name": "Python 3 (ipykernel)",
   "language": "python",
   "name": "python3"
  },
  "language_info": {
   "codemirror_mode": {
    "name": "ipython",
    "version": 3
   },
   "file_extension": ".py",
   "mimetype": "text/x-python",
   "name": "python",
   "nbconvert_exporter": "python",
   "pygments_lexer": "ipython3",
   "version": "3.7.12"
  }
 },
 "nbformat": 4,
 "nbformat_minor": 5
}

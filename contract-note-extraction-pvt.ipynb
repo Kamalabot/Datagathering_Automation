{
 "cells": [
  {
   "cell_type": "code",
   "execution_count": 1,
   "id": "37b73085",
   "metadata": {
    "_cell_guid": "b1076dfc-b9ad-4769-8c92-a6c4dae69d19",
    "_uuid": "8f2839f25d086af736a60e9eeb907d3b93b6e0e5",
    "execution": {
     "iopub.execute_input": "2022-03-18T15:07:19.524442Z",
     "iopub.status.busy": "2022-03-18T15:07:19.522727Z",
     "iopub.status.idle": "2022-03-18T15:07:19.538814Z",
     "shell.execute_reply": "2022-03-18T15:07:19.538163Z",
     "shell.execute_reply.started": "2022-03-18T14:09:36.938903Z"
    },
    "papermill": {
     "duration": 0.086866,
     "end_time": "2022-03-18T15:07:19.539033",
     "exception": false,
     "start_time": "2022-03-18T15:07:19.452167",
     "status": "completed"
    },
    "tags": []
   },
   "outputs": [
    {
     "name": "stdout",
     "output_type": "stream",
     "text": [
      "/kaggle/input/word2vec-nlp-tutorial/testData.tsv.zip\n",
      "/kaggle/input/word2vec-nlp-tutorial/sampleSubmission.csv\n",
      "/kaggle/input/word2vec-nlp-tutorial/unlabeledTrainData.tsv.zip\n",
      "/kaggle/input/word2vec-nlp-tutorial/labeledTrainData.tsv.zip\n",
      "/kaggle/input/contract-notes/2022-03-08-contract-notes_DM3955.pdf\n",
      "/kaggle/input/contract-notes/2022-03-09-contract-notes_DM3955.pdf\n",
      "/kaggle/input/contract-notes/2022-03-07-contract-notes_DM3955.pdf\n",
      "/kaggle/input/contract-notes/2022-03-17-contract-notes_DM3955.pdf\n",
      "/kaggle/input/contract-notes/2022-03-16-contract-notes_DM3955.pdf\n",
      "/kaggle/input/contract-notes/2022-03-15-contract-notes_DM3955.pdf\n",
      "/kaggle/input/contract-notes/2022-03-11-contract-notes_DM3955.pdf\n",
      "/kaggle/input/contract-notes/2022-03-10-contract-notes_DM3955.pdf\n",
      "/kaggle/input/contract-notes/2022-03-14-contract-notes_DM3955.pdf\n"
     ]
    }
   ],
   "source": [
    "# This Python 3 environment comes with many helpful analytics libraries installed\n",
    "# It is defined by the kaggle/python Docker image: https://github.com/kaggle/docker-python\n",
    "# For example, here's several helpful packages to load\n",
    "\n",
    "import numpy as np # linear algebra\n",
    "import pandas as pd # data processing, CSV file I/O (e.g. pd.read_csv)\n",
    "\n",
    "# Input data files are available in the read-only \"../input/\" directory\n",
    "# For example, running this (by clicking run or pressing Shift+Enter) will list all files under the input directory\n",
    "\n",
    "import os\n",
    "for dirname, _, filenames in os.walk('/kaggle/input'):\n",
    "    for filename in filenames:\n",
    "        print(os.path.join(dirname, filename))\n",
    "\n",
    "# You can write up to 20GB to the current directory (/kaggle/working/) that gets preserved as output when you create a version using \"Save & Run All\" \n",
    "# You can also write temporary files to /kaggle/temp/, but they won't be saved outside of the current session"
   ]
  },
  {
   "cell_type": "code",
   "execution_count": 2,
   "id": "f01b9305",
   "metadata": {
    "execution": {
     "iopub.execute_input": "2022-03-18T15:07:19.659374Z",
     "iopub.status.busy": "2022-03-18T15:07:19.658383Z",
     "iopub.status.idle": "2022-03-18T15:07:21.007445Z",
     "shell.execute_reply": "2022-03-18T15:07:21.008202Z",
     "shell.execute_reply.started": "2022-03-18T14:09:36.984070Z"
    },
    "papermill": {
     "duration": 1.412797,
     "end_time": "2022-03-18T15:07:21.008412",
     "exception": false,
     "start_time": "2022-03-18T15:07:19.595615",
     "status": "completed"
    },
    "tags": []
   },
   "outputs": [],
   "source": [
    "from pdfminer.pdfinterp import PDFResourceManager, PDFPageInterpreter\n",
    "from pdfminer.converter import TextConverter\n",
    "from pdfminer.layout import LAParams\n",
    "from pdfminer.pdfpage import PDFPage\n",
    "import re\n",
    "from io import StringIO\n",
    "\n",
    "#Libraries for feature extraction and topic modeling\n",
    "from sklearn.feature_extraction.text import CountVectorizer,TfidfVectorizer\n",
    "from sklearn.decomposition import LatentDirichletAllocation"
   ]
  },
  {
   "cell_type": "markdown",
   "id": "6a203746",
   "metadata": {
    "papermill": {
     "duration": 0.055912,
     "end_time": "2022-03-18T15:07:21.125142",
     "exception": false,
     "start_time": "2022-03-18T15:07:21.069230",
     "status": "completed"
    },
    "tags": []
   },
   "source": [
    "### Starting the PDF table Extraction"
   ]
  },
  {
   "cell_type": "code",
   "execution_count": 3,
   "id": "6eddbaa4",
   "metadata": {
    "execution": {
     "iopub.execute_input": "2022-03-18T15:07:21.244249Z",
     "iopub.status.busy": "2022-03-18T15:07:21.243507Z",
     "iopub.status.idle": "2022-03-18T15:07:41.497900Z",
     "shell.execute_reply": "2022-03-18T15:07:41.497042Z",
     "shell.execute_reply.started": "2022-03-18T14:09:38.264756Z"
    },
    "papermill": {
     "duration": 20.315855,
     "end_time": "2022-03-18T15:07:41.498055",
     "exception": false,
     "start_time": "2022-03-18T15:07:21.182200",
     "status": "completed"
    },
    "tags": []
   },
   "outputs": [
    {
     "name": "stdout",
     "output_type": "stream",
     "text": [
      "Collecting camelot-py[cv]\r\n",
      "  Downloading camelot_py-0.10.1-py3-none-any.whl (40 kB)\r\n",
      "     |████████████████████████████████| 40 kB 14 kB/s             \r\n",
      "\u001b[?25hCollecting tabula-py\r\n",
      "  Downloading tabula_py-2.3.0-py3-none-any.whl (12.0 MB)\r\n",
      "     |████████████████████████████████| 12.0 MB 1.8 MB/s            \r\n",
      "\u001b[?25hRequirement already satisfied: pandas>=0.23.4 in /opt/conda/lib/python3.7/site-packages (from camelot-py[cv]) (1.3.5)\r\n",
      "Requirement already satisfied: click>=6.7 in /opt/conda/lib/python3.7/site-packages (from camelot-py[cv]) (8.0.3)\r\n",
      "Collecting openpyxl>=2.5.8\r\n",
      "  Downloading openpyxl-3.0.9-py2.py3-none-any.whl (242 kB)\r\n",
      "     |████████████████████████████████| 242 kB 65.9 MB/s            \r\n",
      "\u001b[?25hRequirement already satisfied: chardet>=3.0.4 in /opt/conda/lib/python3.7/site-packages (from camelot-py[cv]) (4.0.0)\r\n",
      "Requirement already satisfied: tabulate>=0.8.9 in /opt/conda/lib/python3.7/site-packages (from camelot-py[cv]) (0.8.9)\r\n",
      "Requirement already satisfied: pdfminer.six>=20200726 in /opt/conda/lib/python3.7/site-packages (from camelot-py[cv]) (20211012)\r\n",
      "Requirement already satisfied: numpy>=1.13.3 in /opt/conda/lib/python3.7/site-packages (from camelot-py[cv]) (1.20.3)\r\n",
      "Collecting PyPDF2>=1.26.0\r\n",
      "  Downloading PyPDF2-1.26.0.tar.gz (77 kB)\r\n",
      "     |████████████████████████████████| 77 kB 4.1 MB/s             \r\n",
      "\u001b[?25h  Preparing metadata (setup.py) ... \u001b[?25l-\b \bdone\r\n",
      "\u001b[?25hCollecting ghostscript>=0.7\r\n",
      "  Downloading ghostscript-0.7-py2.py3-none-any.whl (25 kB)\r\n",
      "Collecting pdftopng>=0.2.3\r\n",
      "  Downloading pdftopng-0.2.3-cp37-cp37m-manylinux2010_x86_64.whl (11.7 MB)\r\n",
      "     |████████████████████████████████| 11.7 MB 64.2 MB/s            \r\n",
      "\u001b[?25hRequirement already satisfied: opencv-python>=3.4.2.17 in /opt/conda/lib/python3.7/site-packages (from camelot-py[cv]) (4.5.4.60)\r\n",
      "Collecting distro\r\n",
      "  Downloading distro-1.7.0-py3-none-any.whl (20 kB)\r\n",
      "Requirement already satisfied: importlib-metadata in /opt/conda/lib/python3.7/site-packages (from click>=6.7->camelot-py[cv]) (4.11.2)\r\n",
      "Requirement already satisfied: setuptools>=38.6.0 in /opt/conda/lib/python3.7/site-packages (from ghostscript>=0.7->camelot-py[cv]) (59.5.0)\r\n",
      "Collecting et-xmlfile\r\n",
      "  Downloading et_xmlfile-1.1.0-py3-none-any.whl (4.7 kB)\r\n",
      "Requirement already satisfied: python-dateutil>=2.7.3 in /opt/conda/lib/python3.7/site-packages (from pandas>=0.23.4->camelot-py[cv]) (2.8.2)\r\n",
      "Requirement already satisfied: pytz>=2017.3 in /opt/conda/lib/python3.7/site-packages (from pandas>=0.23.4->camelot-py[cv]) (2021.3)\r\n",
      "Requirement already satisfied: cryptography in /opt/conda/lib/python3.7/site-packages (from pdfminer.six>=20200726->camelot-py[cv]) (36.0.1)\r\n",
      "Requirement already satisfied: six>=1.5 in /opt/conda/lib/python3.7/site-packages (from python-dateutil>=2.7.3->pandas>=0.23.4->camelot-py[cv]) (1.16.0)\r\n",
      "Requirement already satisfied: cffi>=1.12 in /opt/conda/lib/python3.7/site-packages (from cryptography->pdfminer.six>=20200726->camelot-py[cv]) (1.15.0)\r\n",
      "Requirement already satisfied: zipp>=0.5 in /opt/conda/lib/python3.7/site-packages (from importlib-metadata->click>=6.7->camelot-py[cv]) (3.6.0)\r\n",
      "Requirement already satisfied: typing-extensions>=3.6.4 in /opt/conda/lib/python3.7/site-packages (from importlib-metadata->click>=6.7->camelot-py[cv]) (4.1.1)\r\n",
      "Requirement already satisfied: pycparser in /opt/conda/lib/python3.7/site-packages (from cffi>=1.12->cryptography->pdfminer.six>=20200726->camelot-py[cv]) (2.21)\r\n",
      "Building wheels for collected packages: PyPDF2\r\n",
      "  Building wheel for PyPDF2 (setup.py) ... \u001b[?25l-\b \b\\\b \bdone\r\n",
      "\u001b[?25h  Created wheel for PyPDF2: filename=PyPDF2-1.26.0-py3-none-any.whl size=61101 sha256=f1e3e0355851bae92b5fde67bc541070ddbac36b12be62e16c284f56c4c276c3\r\n",
      "  Stored in directory: /root/.cache/pip/wheels/80/1a/24/648467ade3a77ed20f35cfd2badd32134e96dd25ca811e64b3\r\n",
      "Successfully built PyPDF2\r\n",
      "Installing collected packages: et-xmlfile, PyPDF2, openpyxl, pdftopng, ghostscript, distro, camelot-py, tabula-py\r\n",
      "Successfully installed PyPDF2-1.26.0 camelot-py-0.10.1 distro-1.7.0 et-xmlfile-1.1.0 ghostscript-0.7 openpyxl-3.0.9 pdftopng-0.2.3 tabula-py-2.3.0\r\n",
      "\u001b[33mWARNING: Running pip as the 'root' user can result in broken permissions and conflicting behaviour with the system package manager. It is recommended to use a virtual environment instead: https://pip.pypa.io/warnings/venv\u001b[0m\r\n"
     ]
    }
   ],
   "source": [
    "!pip3 install camelot-py[cv] tabula-py"
   ]
  },
  {
   "cell_type": "code",
   "execution_count": 4,
   "id": "90c6858f",
   "metadata": {
    "execution": {
     "iopub.execute_input": "2022-03-18T15:07:41.679115Z",
     "iopub.status.busy": "2022-03-18T15:07:41.678368Z",
     "iopub.status.idle": "2022-03-18T15:07:42.331099Z",
     "shell.execute_reply": "2022-03-18T15:07:42.329762Z",
     "shell.execute_reply.started": "2022-03-18T14:09:58.902424Z"
    },
    "papermill": {
     "duration": 0.744862,
     "end_time": "2022-03-18T15:07:42.331268",
     "exception": false,
     "start_time": "2022-03-18T15:07:41.586406",
     "status": "completed"
    },
    "tags": []
   },
   "outputs": [],
   "source": [
    "import camelot \n",
    "import tabula"
   ]
  },
  {
   "cell_type": "code",
   "execution_count": 5,
   "id": "2d611b48",
   "metadata": {
    "execution": {
     "iopub.execute_input": "2022-03-18T15:07:42.517405Z",
     "iopub.status.busy": "2022-03-18T15:07:42.516107Z",
     "iopub.status.idle": "2022-03-18T15:07:55.425394Z",
     "shell.execute_reply": "2022-03-18T15:07:55.424673Z",
     "shell.execute_reply.started": "2022-03-18T14:09:59.509351Z"
    },
    "papermill": {
     "duration": 13.007552,
     "end_time": "2022-03-18T15:07:55.425557",
     "exception": false,
     "start_time": "2022-03-18T15:07:42.418005",
     "status": "completed"
    },
    "tags": []
   },
   "outputs": [
    {
     "name": "stdout",
     "output_type": "stream",
     "text": [
      "Collecting pikepdf\r\n",
      "  Downloading pikepdf-5.0.1-cp37-cp37m-manylinux_2_17_x86_64.manylinux2014_x86_64.whl (2.3 MB)\r\n",
      "     |████████████████████████████████| 2.3 MB 287 kB/s            \r\n",
      "\u001b[?25hRequirement already satisfied: lxml>=4.0 in /opt/conda/lib/python3.7/site-packages (from pikepdf) (4.8.0)\r\n",
      "Requirement already satisfied: Pillow<10,>=6.0 in /opt/conda/lib/python3.7/site-packages (from pikepdf) (8.2.0)\r\n",
      "Requirement already satisfied: packaging>=20 in /opt/conda/lib/python3.7/site-packages (from pikepdf) (21.3)\r\n",
      "Requirement already satisfied: pyparsing!=3.0.5,>=2.0.2 in /opt/conda/lib/python3.7/site-packages (from packaging>=20->pikepdf) (3.0.6)\r\n",
      "Installing collected packages: pikepdf\r\n",
      "Successfully installed pikepdf-5.0.1\r\n",
      "\u001b[33mWARNING: Running pip as the 'root' user can result in broken permissions and conflicting behaviour with the system package manager. It is recommended to use a virtual environment instead: https://pip.pypa.io/warnings/venv\u001b[0m\r\n"
     ]
    }
   ],
   "source": [
    "!pip install pikepdf"
   ]
  },
  {
   "cell_type": "code",
   "execution_count": 6,
   "id": "6790992c",
   "metadata": {
    "execution": {
     "iopub.execute_input": "2022-03-18T15:07:55.624983Z",
     "iopub.status.busy": "2022-03-18T15:07:55.623789Z",
     "iopub.status.idle": "2022-03-18T15:07:56.084224Z",
     "shell.execute_reply": "2022-03-18T15:07:56.083606Z",
     "shell.execute_reply.started": "2022-03-18T14:10:12.982415Z"
    },
    "papermill": {
     "duration": 0.561455,
     "end_time": "2022-03-18T15:07:56.084370",
     "exception": false,
     "start_time": "2022-03-18T15:07:55.522915",
     "status": "completed"
    },
    "tags": []
   },
   "outputs": [],
   "source": [
    "import pikepdf\n",
    "import pandas as pd\n",
    "import numpy as np\n",
    "#pdf = pikepdf.open(file,password='ABDPM5030G')\n",
    "#pdf.save('book_without_pass.pdf')\n",
    "import warnings\n",
    "warnings.filterwarnings('ignore')"
   ]
  },
  {
   "cell_type": "code",
   "execution_count": 7,
   "id": "0759924b",
   "metadata": {
    "execution": {
     "iopub.execute_input": "2022-03-18T15:07:56.280385Z",
     "iopub.status.busy": "2022-03-18T15:07:56.279609Z",
     "iopub.status.idle": "2022-03-18T15:07:56.282730Z",
     "shell.execute_reply": "2022-03-18T15:07:56.282095Z",
     "shell.execute_reply.started": "2022-03-18T14:10:13.493235Z"
    },
    "papermill": {
     "duration": 0.102287,
     "end_time": "2022-03-18T15:07:56.282905",
     "exception": false,
     "start_time": "2022-03-18T15:07:56.180618",
     "status": "completed"
    },
    "tags": []
   },
   "outputs": [],
   "source": [
    "def clean_df(my_table):\n",
    "    my_table = my_table[2:]\n",
    "    my_table.drop([0,1,3,8,12],axis=1,inplace=True)\n",
    "    return my_table"
   ]
  },
  {
   "cell_type": "code",
   "execution_count": 8,
   "id": "4b84ab41",
   "metadata": {
    "execution": {
     "iopub.execute_input": "2022-03-18T15:07:56.477489Z",
     "iopub.status.busy": "2022-03-18T15:07:56.476321Z",
     "iopub.status.idle": "2022-03-18T15:07:56.482182Z",
     "shell.execute_reply": "2022-03-18T15:07:56.481375Z",
     "shell.execute_reply.started": "2022-03-18T14:10:13.502364Z"
    },
    "papermill": {
     "duration": 0.104049,
     "end_time": "2022-03-18T15:07:56.482338",
     "exception": false,
     "start_time": "2022-03-18T15:07:56.378289",
     "status": "completed"
    },
    "tags": []
   },
   "outputs": [],
   "source": [
    "def select_tables(ca_table):\n",
    "    calc_tab = pd.DataFrame()\n",
    "    for table in ca_table:\n",
    "        if table.df.shape[1] == 13:\n",
    "            calc_tab = pd.concat([calc_tab,table.df])\n",
    "    calc_tab = clean_df(calc_tab)\n",
    "    return calc_tab"
   ]
  },
  {
   "cell_type": "code",
   "execution_count": 9,
   "id": "4a171b7a",
   "metadata": {
    "execution": {
     "iopub.execute_input": "2022-03-18T15:07:56.675522Z",
     "iopub.status.busy": "2022-03-18T15:07:56.674877Z",
     "iopub.status.idle": "2022-03-18T15:07:56.679909Z",
     "shell.execute_reply": "2022-03-18T15:07:56.680420Z",
     "shell.execute_reply.started": "2022-03-18T14:10:13.518919Z"
    },
    "papermill": {
     "duration": 0.10044,
     "end_time": "2022-03-18T15:07:56.680604",
     "exception": false,
     "start_time": "2022-03-18T15:07:56.580164",
     "status": "completed"
    },
    "tags": []
   },
   "outputs": [],
   "source": [
    "def correct_txn(dataframe):\n",
    "    for index,trans in enumerate(dataframe.transaction):\n",
    "        if '\\n' in trans:\n",
    "            txn_len = len(trans.split('\\n'))\n",
    "            #print(index)\n",
    "            for i in range(txn_len):\n",
    "                dataframe.loc[index+i,'transaction'] = trans.split('\\n')[i]\n",
    "    return dataframe"
   ]
  },
  {
   "cell_type": "code",
   "execution_count": 10,
   "id": "3469c3ba",
   "metadata": {
    "execution": {
     "iopub.execute_input": "2022-03-18T15:07:56.873686Z",
     "iopub.status.busy": "2022-03-18T15:07:56.872976Z",
     "iopub.status.idle": "2022-03-18T15:07:56.878363Z",
     "shell.execute_reply": "2022-03-18T15:07:56.878933Z",
     "shell.execute_reply.started": "2022-03-18T14:10:13.533281Z"
    },
    "papermill": {
     "duration": 0.104162,
     "end_time": "2022-03-18T15:07:56.879121",
     "exception": false,
     "start_time": "2022-03-18T15:07:56.774959",
     "status": "completed"
    },
    "tags": []
   },
   "outputs": [],
   "source": [
    "def correct_qty(dataframe):\n",
    "    for index,qty in enumerate(dataframe.qty):\n",
    "        if '\\n' in qty:\n",
    "            txn_len = len(qty.split('\\n'))\n",
    "            #print(index)\n",
    "            for i in range(txn_len):\n",
    "                dataframe.loc[index+i,'qty'] = qty.split('\\n')[i]\n",
    "    return dataframe"
   ]
  },
  {
   "cell_type": "code",
   "execution_count": 11,
   "id": "7d122e06",
   "metadata": {
    "execution": {
     "iopub.execute_input": "2022-03-18T15:07:57.080977Z",
     "iopub.status.busy": "2022-03-18T15:07:57.080271Z",
     "iopub.status.idle": "2022-03-18T15:07:57.087052Z",
     "shell.execute_reply": "2022-03-18T15:07:57.087548Z",
     "shell.execute_reply.started": "2022-03-18T14:10:13.547907Z"
    },
    "papermill": {
     "duration": 0.110746,
     "end_time": "2022-03-18T15:07:57.087728",
     "exception": false,
     "start_time": "2022-03-18T15:07:56.976982",
     "status": "completed"
    },
    "tags": []
   },
   "outputs": [],
   "source": [
    "#The below function takes the raw file and outputs the cleaned dataframe\n",
    "def get_data(file):\n",
    "    pdf = pikepdf.open(file,password='ABTHESOAB')\n",
    "    pdf.save('book_without_pass.pdf')\n",
    "    ca_tables = camelot.read_pdf('./book_without_pass.pdf',pages='all')\n",
    "    my_data = select_tables(ca_tables)\n",
    "    my_data.columns = ['order_no','script','transaction',\n",
    "                   'qty','price','price_d','price_close','PnL']\n",
    "    my_data = my_data[my_data.order_no != '']\n",
    "    my_data = my_data.reset_index()\n",
    "    my_data.drop('index',axis=1,inplace=True)\n",
    "    my_data = correct_qty(my_data)\n",
    "    my_data = correct_txn(my_data)\n",
    "    my_data.qty = my_data.qty.astype('int')\n",
    "    my_data.price = my_data.price.astype('float')\n",
    "    return my_data # Try to take the raw data as much as possible, to avoid losing control"
   ]
  },
  {
   "cell_type": "code",
   "execution_count": 12,
   "id": "8b0b5bfb",
   "metadata": {
    "execution": {
     "iopub.execute_input": "2022-03-18T15:07:57.284661Z",
     "iopub.status.busy": "2022-03-18T15:07:57.283964Z",
     "iopub.status.idle": "2022-03-18T15:08:22.285138Z",
     "shell.execute_reply": "2022-03-18T15:08:22.285660Z",
     "shell.execute_reply.started": "2022-03-18T14:10:13.563306Z"
    },
    "papermill": {
     "duration": 25.101244,
     "end_time": "2022-03-18T15:08:22.285857",
     "exception": false,
     "start_time": "2022-03-18T15:07:57.184613",
     "status": "completed"
    },
    "tags": []
   },
   "outputs": [
    {
     "name": "stderr",
     "output_type": "stream",
     "text": [
      "2022-03-18T15:08:05 - INFO - Processing page-1\n",
      "2022-03-18T15:08:09 - INFO - Processing page-2\n",
      "2022-03-18T15:08:15 - INFO - Processing page-3\n",
      "2022-03-18T15:08:19 - INFO - Processing page-4\n",
      "2022-03-18T15:08:21 - INFO - Processing page-5\n"
     ]
    },
    {
     "data": {
      "text/html": [
       "<div>\n",
       "<style scoped>\n",
       "    .dataframe tbody tr th:only-of-type {\n",
       "        vertical-align: middle;\n",
       "    }\n",
       "\n",
       "    .dataframe tbody tr th {\n",
       "        vertical-align: top;\n",
       "    }\n",
       "\n",
       "    .dataframe thead th {\n",
       "        text-align: right;\n",
       "    }\n",
       "</style>\n",
       "<table border=\"1\" class=\"dataframe\">\n",
       "  <thead>\n",
       "    <tr style=\"text-align: right;\">\n",
       "      <th></th>\n",
       "      <th>order_no</th>\n",
       "      <th>script</th>\n",
       "      <th>transaction</th>\n",
       "      <th>qty</th>\n",
       "      <th>price</th>\n",
       "      <th>price_d</th>\n",
       "      <th>price_close</th>\n",
       "      <th>PnL</th>\n",
       "    </tr>\n",
       "  </thead>\n",
       "  <tbody>\n",
       "    <tr>\n",
       "      <th>0</th>\n",
       "      <td>0</td>\n",
       "      <td>SILVERM22APRFUT</td>\n",
       "      <td>B</td>\n",
       "      <td>5</td>\n",
       "      <td>70080.0</td>\n",
       "      <td>70080.0000</td>\n",
       "      <td>71442.0000</td>\n",
       "      <td>(1585.00)</td>\n",
       "    </tr>\n",
       "    <tr>\n",
       "      <th>1</th>\n",
       "      <td>0</td>\n",
       "      <td>SILVERM22JUNFUT</td>\n",
       "      <td>S</td>\n",
       "      <td>5</td>\n",
       "      <td>70809.0</td>\n",
       "      <td>70809.0000</td>\n",
       "      <td>72218.0000</td>\n",
       "      <td>(5210.00)</td>\n",
       "    </tr>\n",
       "    <tr>\n",
       "      <th>2</th>\n",
       "      <td>0</td>\n",
       "      <td>SILVERMIC22APRFUT</td>\n",
       "      <td>B</td>\n",
       "      <td>4</td>\n",
       "      <td>70069.0</td>\n",
       "      <td>70069.0000</td>\n",
       "      <td>71418.0000</td>\n",
       "      <td>(443.00)</td>\n",
       "    </tr>\n",
       "    <tr>\n",
       "      <th>3</th>\n",
       "      <td>0</td>\n",
       "      <td>SILVERMIC22JUNFUT</td>\n",
       "      <td>S</td>\n",
       "      <td>4</td>\n",
       "      <td>70758.0</td>\n",
       "      <td>70758.0000</td>\n",
       "      <td>72211.0000</td>\n",
       "      <td>2672.00</td>\n",
       "    </tr>\n",
       "    <tr>\n",
       "      <th>4</th>\n",
       "      <td>210000850</td>\n",
       "      <td>SILVERM22APRFUT</td>\n",
       "      <td>S</td>\n",
       "      <td>5</td>\n",
       "      <td>69986.0</td>\n",
       "      <td>69986.0000</td>\n",
       "      <td>71442.0000</td>\n",
       "      <td>349930.00</td>\n",
       "    </tr>\n",
       "    <tr>\n",
       "      <th>...</th>\n",
       "      <td>...</td>\n",
       "      <td>...</td>\n",
       "      <td>...</td>\n",
       "      <td>...</td>\n",
       "      <td>...</td>\n",
       "      <td>...</td>\n",
       "      <td>...</td>\n",
       "      <td>...</td>\n",
       "    </tr>\n",
       "    <tr>\n",
       "      <th>110</th>\n",
       "      <td>210090301</td>\n",
       "      <td>SILVERMIC22JUNFUT</td>\n",
       "      <td>S</td>\n",
       "      <td>1</td>\n",
       "      <td>71959.0</td>\n",
       "      <td>71959.0000</td>\n",
       "      <td>72211.0000</td>\n",
       "      <td>71959.00</td>\n",
       "    </tr>\n",
       "    <tr>\n",
       "      <th>111</th>\n",
       "      <td>210092158</td>\n",
       "      <td>SILVERMIC22JUNFUT</td>\n",
       "      <td>B</td>\n",
       "      <td>1</td>\n",
       "      <td>72194.0</td>\n",
       "      <td>72194.0000</td>\n",
       "      <td>72211.0000</td>\n",
       "      <td>(72194.00)</td>\n",
       "    </tr>\n",
       "    <tr>\n",
       "      <th>112</th>\n",
       "      <td>210128021</td>\n",
       "      <td>SILVERMIC22JUNFUT</td>\n",
       "      <td>S</td>\n",
       "      <td>1</td>\n",
       "      <td>72251.0</td>\n",
       "      <td>72251.0000</td>\n",
       "      <td>72211.0000</td>\n",
       "      <td>72251.00</td>\n",
       "    </tr>\n",
       "    <tr>\n",
       "      <th>113</th>\n",
       "      <td>210165776</td>\n",
       "      <td>SILVERMIC22JUNFUT</td>\n",
       "      <td>S</td>\n",
       "      <td>1</td>\n",
       "      <td>72323.0</td>\n",
       "      <td>72323.0000</td>\n",
       "      <td>72211.0000</td>\n",
       "      <td>72323.00</td>\n",
       "    </tr>\n",
       "    <tr>\n",
       "      <th>114</th>\n",
       "      <td>210176401</td>\n",
       "      <td>SILVERMIC22JUNFUT</td>\n",
       "      <td>B</td>\n",
       "      <td>1</td>\n",
       "      <td>72290.0</td>\n",
       "      <td>72290.0000</td>\n",
       "      <td>72211.0000</td>\n",
       "      <td>(72290.00)</td>\n",
       "    </tr>\n",
       "  </tbody>\n",
       "</table>\n",
       "<p>115 rows × 8 columns</p>\n",
       "</div>"
      ],
      "text/plain": [
       "      order_no             script transaction  qty    price     price_d  \\\n",
       "0            0    SILVERM22APRFUT           B    5  70080.0  70080.0000   \n",
       "1            0    SILVERM22JUNFUT           S    5  70809.0  70809.0000   \n",
       "2            0  SILVERMIC22APRFUT           B    4  70069.0  70069.0000   \n",
       "3            0  SILVERMIC22JUNFUT           S    4  70758.0  70758.0000   \n",
       "4    210000850    SILVERM22APRFUT           S    5  69986.0  69986.0000   \n",
       "..         ...                ...         ...  ...      ...         ...   \n",
       "110  210090301  SILVERMIC22JUNFUT           S    1  71959.0  71959.0000   \n",
       "111  210092158  SILVERMIC22JUNFUT           B    1  72194.0  72194.0000   \n",
       "112  210128021  SILVERMIC22JUNFUT           S    1  72251.0  72251.0000   \n",
       "113  210165776  SILVERMIC22JUNFUT           S    1  72323.0  72323.0000   \n",
       "114  210176401  SILVERMIC22JUNFUT           B    1  72290.0  72290.0000   \n",
       "\n",
       "    price_close         PnL  \n",
       "0    71442.0000   (1585.00)  \n",
       "1    72218.0000   (5210.00)  \n",
       "2    71418.0000    (443.00)  \n",
       "3    72211.0000     2672.00  \n",
       "4    71442.0000   349930.00  \n",
       "..          ...         ...  \n",
       "110  72211.0000    71959.00  \n",
       "111  72211.0000  (72194.00)  \n",
       "112  72211.0000    72251.00  \n",
       "113  72211.0000    72323.00  \n",
       "114  72211.0000  (72290.00)  \n",
       "\n",
       "[115 rows x 8 columns]"
      ]
     },
     "execution_count": 12,
     "metadata": {},
     "output_type": "execute_result"
    }
   ],
   "source": [
    "my_table = get_data('../input/contract-notes/2022-03-08-contract-notes_DM3955.pdf')\n",
    "my_table"
   ]
  },
  {
   "cell_type": "code",
   "execution_count": 13,
   "id": "0de1a925",
   "metadata": {
    "execution": {
     "iopub.execute_input": "2022-03-18T15:08:22.491803Z",
     "iopub.status.busy": "2022-03-18T15:08:22.491113Z",
     "iopub.status.idle": "2022-03-18T15:08:22.495320Z",
     "shell.execute_reply": "2022-03-18T15:08:22.495886Z",
     "shell.execute_reply.started": "2022-03-18T14:10:39.725582Z"
    },
    "papermill": {
     "duration": 0.112804,
     "end_time": "2022-03-18T15:08:22.496070",
     "exception": false,
     "start_time": "2022-03-18T15:08:22.383266",
     "status": "completed"
    },
    "tags": []
   },
   "outputs": [
    {
     "data": {
      "text/plain": [
       "array(['B', 'S'], dtype=object)"
      ]
     },
     "execution_count": 13,
     "metadata": {},
     "output_type": "execute_result"
    }
   ],
   "source": [
    "#important is check the unique transaction types. Funny things can happen\n",
    "my_table.transaction.unique()"
   ]
  },
  {
   "cell_type": "code",
   "execution_count": 14,
   "id": "71f1caa1",
   "metadata": {
    "execution": {
     "iopub.execute_input": "2022-03-18T15:08:22.704531Z",
     "iopub.status.busy": "2022-03-18T15:08:22.703779Z",
     "iopub.status.idle": "2022-03-18T15:08:22.707703Z",
     "shell.execute_reply": "2022-03-18T15:08:22.707058Z",
     "shell.execute_reply.started": "2022-03-18T14:10:39.737037Z"
    },
    "papermill": {
     "duration": 0.11499,
     "end_time": "2022-03-18T15:08:22.707863",
     "exception": false,
     "start_time": "2022-03-18T15:08:22.592873",
     "status": "completed"
    },
    "tags": []
   },
   "outputs": [],
   "source": [
    "def todays_forward(carry_forward, day_df):\n",
    "    trade_count = day_df.groupby(['script','transaction'])['qty'].sum().reset_index()\n",
    "    #Cancelling out the trades of the day\n",
    "    traded_scripts = trade_count.script.unique()\n",
    "    transaction = []\n",
    "    txn_qty = []\n",
    "    for script in traded_scripts:\n",
    "        temp = trade_count[trade_count.script == script]\n",
    "        #which is more?\n",
    "        if (temp.qty.values[0] > temp.qty.values[-1]):\n",
    "            x = temp.qty.values[0] - temp.qty.values[-1]\n",
    "            transaction.append('B')\n",
    "            txn_qty.append(x)\n",
    "        else:    \n",
    "            x = temp.qty.values[-1] - temp.qty.values[0]\n",
    "            transaction.append('S')\n",
    "            txn_qty.append(x)\n",
    "    #Creating the pending trades of the day\n",
    "    traded_df = pd.DataFrame({'script' : traded_scripts,\n",
    "                         'txn_type' : transaction,\n",
    "                         'txn_qty' : txn_qty\n",
    "                         })\n",
    "    final_df = traded_df.merge(right=carry_f,left_on='script',right_on='script',how='left')\n",
    "    final_df['remaining_qty'] = abs(final_df.txn_qty - final_df.qty)\n",
    "    final_df.drop(['order_no','price','price_d','price_close','PnL'],axis=1,inplace=True)\n",
    "    return final_df"
   ]
  },
  {
   "cell_type": "code",
   "execution_count": 15,
   "id": "30260676",
   "metadata": {
    "execution": {
     "iopub.execute_input": "2022-03-18T15:08:22.909902Z",
     "iopub.status.busy": "2022-03-18T15:08:22.908910Z",
     "iopub.status.idle": "2022-03-18T15:08:22.913245Z",
     "shell.execute_reply": "2022-03-18T15:08:22.912560Z",
     "shell.execute_reply.started": "2022-03-18T14:10:39.758219Z"
    },
    "papermill": {
     "duration": 0.107803,
     "end_time": "2022-03-18T15:08:22.913392",
     "exception": false,
     "start_time": "2022-03-18T15:08:22.805589",
     "status": "completed"
    },
    "tags": []
   },
   "outputs": [],
   "source": [
    "#decide the script\n",
    "def locate_script(day_df,script,qty,transaction):\n",
    "    locating = day_df[(day_df.script == script)&(day_df.transaction == transaction)]\n",
    "    return locating.iloc[-qty:,:]\n",
    "            #day_dy[-3:,:] will only work"
   ]
  },
  {
   "cell_type": "code",
   "execution_count": 16,
   "id": "522ab2f1",
   "metadata": {
    "execution": {
     "iopub.execute_input": "2022-03-18T15:08:23.128292Z",
     "iopub.status.busy": "2022-03-18T15:08:23.127618Z",
     "iopub.status.idle": "2022-03-18T15:08:23.132563Z",
     "shell.execute_reply": "2022-03-18T15:08:23.131971Z",
     "shell.execute_reply.started": "2022-03-18T14:10:39.785757Z"
    },
    "papermill": {
     "duration": 0.120043,
     "end_time": "2022-03-18T15:08:23.132723",
     "exception": false,
     "start_time": "2022-03-18T15:08:23.012680",
     "status": "completed"
    },
    "tags": []
   },
   "outputs": [
    {
     "data": {
      "text/html": [
       "<div>\n",
       "<style scoped>\n",
       "    .dataframe tbody tr th:only-of-type {\n",
       "        vertical-align: middle;\n",
       "    }\n",
       "\n",
       "    .dataframe tbody tr th {\n",
       "        vertical-align: top;\n",
       "    }\n",
       "\n",
       "    .dataframe thead th {\n",
       "        text-align: right;\n",
       "    }\n",
       "</style>\n",
       "<table border=\"1\" class=\"dataframe\">\n",
       "  <thead>\n",
       "    <tr style=\"text-align: right;\">\n",
       "      <th></th>\n",
       "      <th>order_no</th>\n",
       "      <th>script</th>\n",
       "      <th>transaction</th>\n",
       "      <th>qty</th>\n",
       "      <th>price</th>\n",
       "      <th>price_d</th>\n",
       "      <th>price_close</th>\n",
       "      <th>PnL</th>\n",
       "    </tr>\n",
       "  </thead>\n",
       "  <tbody>\n",
       "    <tr>\n",
       "      <th>0</th>\n",
       "      <td>0</td>\n",
       "      <td>SILVERM22APRFUT</td>\n",
       "      <td>B</td>\n",
       "      <td>5</td>\n",
       "      <td>70080.0</td>\n",
       "      <td>70080.0000</td>\n",
       "      <td>71442.0000</td>\n",
       "      <td>(1585.00)</td>\n",
       "    </tr>\n",
       "    <tr>\n",
       "      <th>1</th>\n",
       "      <td>0</td>\n",
       "      <td>SILVERM22JUNFUT</td>\n",
       "      <td>S</td>\n",
       "      <td>5</td>\n",
       "      <td>70809.0</td>\n",
       "      <td>70809.0000</td>\n",
       "      <td>72218.0000</td>\n",
       "      <td>(5210.00)</td>\n",
       "    </tr>\n",
       "    <tr>\n",
       "      <th>2</th>\n",
       "      <td>0</td>\n",
       "      <td>SILVERMIC22APRFUT</td>\n",
       "      <td>B</td>\n",
       "      <td>4</td>\n",
       "      <td>70069.0</td>\n",
       "      <td>70069.0000</td>\n",
       "      <td>71418.0000</td>\n",
       "      <td>(443.00)</td>\n",
       "    </tr>\n",
       "    <tr>\n",
       "      <th>3</th>\n",
       "      <td>0</td>\n",
       "      <td>SILVERMIC22JUNFUT</td>\n",
       "      <td>S</td>\n",
       "      <td>4</td>\n",
       "      <td>70758.0</td>\n",
       "      <td>70758.0000</td>\n",
       "      <td>72211.0000</td>\n",
       "      <td>2672.00</td>\n",
       "    </tr>\n",
       "  </tbody>\n",
       "</table>\n",
       "</div>"
      ],
      "text/plain": [
       "  order_no             script transaction  qty    price     price_d  \\\n",
       "0        0    SILVERM22APRFUT           B    5  70080.0  70080.0000   \n",
       "1        0    SILVERM22JUNFUT           S    5  70809.0  70809.0000   \n",
       "2        0  SILVERMIC22APRFUT           B    4  70069.0  70069.0000   \n",
       "3        0  SILVERMIC22JUNFUT           S    4  70758.0  70758.0000   \n",
       "\n",
       "  price_close        PnL  \n",
       "0  71442.0000  (1585.00)  \n",
       "1  72218.0000  (5210.00)  \n",
       "2  71418.0000   (443.00)  \n",
       "3  72211.0000    2672.00  "
      ]
     },
     "execution_count": 16,
     "metadata": {},
     "output_type": "execute_result"
    }
   ],
   "source": [
    "#Seperating the carry forwarded scripts\n",
    "carry_f = my_table[my_table.order_no == '0']\n",
    "carry_f"
   ]
  },
  {
   "cell_type": "code",
   "execution_count": 17,
   "id": "6d01699c",
   "metadata": {
    "execution": {
     "iopub.execute_input": "2022-03-18T15:08:23.335346Z",
     "iopub.status.busy": "2022-03-18T15:08:23.334280Z",
     "iopub.status.idle": "2022-03-18T15:08:23.357018Z",
     "shell.execute_reply": "2022-03-18T15:08:23.357750Z",
     "shell.execute_reply.started": "2022-03-18T14:10:39.817940Z"
    },
    "papermill": {
     "duration": 0.127003,
     "end_time": "2022-03-18T15:08:23.357963",
     "exception": false,
     "start_time": "2022-03-18T15:08:23.230960",
     "status": "completed"
    },
    "tags": []
   },
   "outputs": [
    {
     "data": {
      "text/html": [
       "<div>\n",
       "<style scoped>\n",
       "    .dataframe tbody tr th:only-of-type {\n",
       "        vertical-align: middle;\n",
       "    }\n",
       "\n",
       "    .dataframe tbody tr th {\n",
       "        vertical-align: top;\n",
       "    }\n",
       "\n",
       "    .dataframe thead th {\n",
       "        text-align: right;\n",
       "    }\n",
       "</style>\n",
       "<table border=\"1\" class=\"dataframe\">\n",
       "  <thead>\n",
       "    <tr style=\"text-align: right;\">\n",
       "      <th></th>\n",
       "      <th>order_no</th>\n",
       "      <th>script</th>\n",
       "      <th>transaction</th>\n",
       "      <th>qty</th>\n",
       "      <th>price</th>\n",
       "      <th>price_d</th>\n",
       "      <th>price_close</th>\n",
       "      <th>PnL</th>\n",
       "    </tr>\n",
       "  </thead>\n",
       "  <tbody>\n",
       "    <tr>\n",
       "      <th>4</th>\n",
       "      <td>210000850</td>\n",
       "      <td>SILVERM22APRFUT</td>\n",
       "      <td>S</td>\n",
       "      <td>5</td>\n",
       "      <td>69986.0</td>\n",
       "      <td>69986.0000</td>\n",
       "      <td>71442.0000</td>\n",
       "      <td>349930.00</td>\n",
       "    </tr>\n",
       "    <tr>\n",
       "      <th>5</th>\n",
       "      <td>210019577</td>\n",
       "      <td>SILVERM22APRFUT</td>\n",
       "      <td>S</td>\n",
       "      <td>5</td>\n",
       "      <td>70540.0</td>\n",
       "      <td>70540.0000</td>\n",
       "      <td>71442.0000</td>\n",
       "      <td>352700.00</td>\n",
       "    </tr>\n",
       "    <tr>\n",
       "      <th>6</th>\n",
       "      <td>210034390</td>\n",
       "      <td>SILVERM22APRFUT</td>\n",
       "      <td>S</td>\n",
       "      <td>5</td>\n",
       "      <td>71129.0</td>\n",
       "      <td>71129.0000</td>\n",
       "      <td>71442.0000</td>\n",
       "      <td>355645.00</td>\n",
       "    </tr>\n",
       "    <tr>\n",
       "      <th>7</th>\n",
       "      <td>210086664</td>\n",
       "      <td>SILVERM22APRFUT</td>\n",
       "      <td>B</td>\n",
       "      <td>5</td>\n",
       "      <td>71168.0</td>\n",
       "      <td>71168.0000</td>\n",
       "      <td>71442.0000</td>\n",
       "      <td>(355840.00)</td>\n",
       "    </tr>\n",
       "    <tr>\n",
       "      <th>8</th>\n",
       "      <td>210170387</td>\n",
       "      <td>SILVERM22APRFUT</td>\n",
       "      <td>B</td>\n",
       "      <td>5</td>\n",
       "      <td>71720.0</td>\n",
       "      <td>71720.0000</td>\n",
       "      <td>71442.0000</td>\n",
       "      <td>(358600.00)</td>\n",
       "    </tr>\n",
       "    <tr>\n",
       "      <th>...</th>\n",
       "      <td>...</td>\n",
       "      <td>...</td>\n",
       "      <td>...</td>\n",
       "      <td>...</td>\n",
       "      <td>...</td>\n",
       "      <td>...</td>\n",
       "      <td>...</td>\n",
       "      <td>...</td>\n",
       "    </tr>\n",
       "    <tr>\n",
       "      <th>110</th>\n",
       "      <td>210090301</td>\n",
       "      <td>SILVERMIC22JUNFUT</td>\n",
       "      <td>S</td>\n",
       "      <td>1</td>\n",
       "      <td>71959.0</td>\n",
       "      <td>71959.0000</td>\n",
       "      <td>72211.0000</td>\n",
       "      <td>71959.00</td>\n",
       "    </tr>\n",
       "    <tr>\n",
       "      <th>111</th>\n",
       "      <td>210092158</td>\n",
       "      <td>SILVERMIC22JUNFUT</td>\n",
       "      <td>B</td>\n",
       "      <td>1</td>\n",
       "      <td>72194.0</td>\n",
       "      <td>72194.0000</td>\n",
       "      <td>72211.0000</td>\n",
       "      <td>(72194.00)</td>\n",
       "    </tr>\n",
       "    <tr>\n",
       "      <th>112</th>\n",
       "      <td>210128021</td>\n",
       "      <td>SILVERMIC22JUNFUT</td>\n",
       "      <td>S</td>\n",
       "      <td>1</td>\n",
       "      <td>72251.0</td>\n",
       "      <td>72251.0000</td>\n",
       "      <td>72211.0000</td>\n",
       "      <td>72251.00</td>\n",
       "    </tr>\n",
       "    <tr>\n",
       "      <th>113</th>\n",
       "      <td>210165776</td>\n",
       "      <td>SILVERMIC22JUNFUT</td>\n",
       "      <td>S</td>\n",
       "      <td>1</td>\n",
       "      <td>72323.0</td>\n",
       "      <td>72323.0000</td>\n",
       "      <td>72211.0000</td>\n",
       "      <td>72323.00</td>\n",
       "    </tr>\n",
       "    <tr>\n",
       "      <th>114</th>\n",
       "      <td>210176401</td>\n",
       "      <td>SILVERMIC22JUNFUT</td>\n",
       "      <td>B</td>\n",
       "      <td>1</td>\n",
       "      <td>72290.0</td>\n",
       "      <td>72290.0000</td>\n",
       "      <td>72211.0000</td>\n",
       "      <td>(72290.00)</td>\n",
       "    </tr>\n",
       "  </tbody>\n",
       "</table>\n",
       "<p>111 rows × 8 columns</p>\n",
       "</div>"
      ],
      "text/plain": [
       "      order_no             script transaction  qty    price     price_d  \\\n",
       "4    210000850    SILVERM22APRFUT           S    5  69986.0  69986.0000   \n",
       "5    210019577    SILVERM22APRFUT           S    5  70540.0  70540.0000   \n",
       "6    210034390    SILVERM22APRFUT           S    5  71129.0  71129.0000   \n",
       "7    210086664    SILVERM22APRFUT           B    5  71168.0  71168.0000   \n",
       "8    210170387    SILVERM22APRFUT           B    5  71720.0  71720.0000   \n",
       "..         ...                ...         ...  ...      ...         ...   \n",
       "110  210090301  SILVERMIC22JUNFUT           S    1  71959.0  71959.0000   \n",
       "111  210092158  SILVERMIC22JUNFUT           B    1  72194.0  72194.0000   \n",
       "112  210128021  SILVERMIC22JUNFUT           S    1  72251.0  72251.0000   \n",
       "113  210165776  SILVERMIC22JUNFUT           S    1  72323.0  72323.0000   \n",
       "114  210176401  SILVERMIC22JUNFUT           B    1  72290.0  72290.0000   \n",
       "\n",
       "    price_close          PnL  \n",
       "4    71442.0000    349930.00  \n",
       "5    71442.0000    352700.00  \n",
       "6    71442.0000    355645.00  \n",
       "7    71442.0000  (355840.00)  \n",
       "8    71442.0000  (358600.00)  \n",
       "..          ...          ...  \n",
       "110  72211.0000     71959.00  \n",
       "111  72211.0000   (72194.00)  \n",
       "112  72211.0000     72251.00  \n",
       "113  72211.0000     72323.00  \n",
       "114  72211.0000   (72290.00)  \n",
       "\n",
       "[111 rows x 8 columns]"
      ]
     },
     "execution_count": 17,
     "metadata": {},
     "output_type": "execute_result"
    }
   ],
   "source": [
    "day_df = my_table[my_table.order_no != '0']\n",
    "day_df"
   ]
  },
  {
   "cell_type": "code",
   "execution_count": 18,
   "id": "5d5cdc7a",
   "metadata": {
    "execution": {
     "iopub.execute_input": "2022-03-18T15:08:23.602188Z",
     "iopub.status.busy": "2022-03-18T15:08:23.577126Z",
     "iopub.status.idle": "2022-03-18T15:08:23.605313Z",
     "shell.execute_reply": "2022-03-18T15:08:23.605988Z",
     "shell.execute_reply.started": "2022-03-18T14:10:39.851505Z"
    },
    "papermill": {
     "duration": 0.141429,
     "end_time": "2022-03-18T15:08:23.606191",
     "exception": false,
     "start_time": "2022-03-18T15:08:23.464762",
     "status": "completed"
    },
    "tags": []
   },
   "outputs": [
    {
     "data": {
      "text/html": [
       "<div>\n",
       "<style scoped>\n",
       "    .dataframe tbody tr th:only-of-type {\n",
       "        vertical-align: middle;\n",
       "    }\n",
       "\n",
       "    .dataframe tbody tr th {\n",
       "        vertical-align: top;\n",
       "    }\n",
       "\n",
       "    .dataframe thead th {\n",
       "        text-align: right;\n",
       "    }\n",
       "</style>\n",
       "<table border=\"1\" class=\"dataframe\">\n",
       "  <thead>\n",
       "    <tr style=\"text-align: right;\">\n",
       "      <th></th>\n",
       "      <th>script</th>\n",
       "      <th>txn_type</th>\n",
       "      <th>txn_qty</th>\n",
       "      <th>transaction</th>\n",
       "      <th>qty</th>\n",
       "      <th>remaining_qty</th>\n",
       "    </tr>\n",
       "  </thead>\n",
       "  <tbody>\n",
       "    <tr>\n",
       "      <th>0</th>\n",
       "      <td>SILVERM22APRFUT</td>\n",
       "      <td>S</td>\n",
       "      <td>5</td>\n",
       "      <td>B</td>\n",
       "      <td>5</td>\n",
       "      <td>0</td>\n",
       "    </tr>\n",
       "    <tr>\n",
       "      <th>1</th>\n",
       "      <td>SILVERM22JUNFUT</td>\n",
       "      <td>B</td>\n",
       "      <td>5</td>\n",
       "      <td>S</td>\n",
       "      <td>5</td>\n",
       "      <td>0</td>\n",
       "    </tr>\n",
       "    <tr>\n",
       "      <th>2</th>\n",
       "      <td>SILVERMIC22APRFUT</td>\n",
       "      <td>S</td>\n",
       "      <td>1</td>\n",
       "      <td>B</td>\n",
       "      <td>4</td>\n",
       "      <td>3</td>\n",
       "    </tr>\n",
       "    <tr>\n",
       "      <th>3</th>\n",
       "      <td>SILVERMIC22JUNFUT</td>\n",
       "      <td>B</td>\n",
       "      <td>1</td>\n",
       "      <td>S</td>\n",
       "      <td>4</td>\n",
       "      <td>3</td>\n",
       "    </tr>\n",
       "  </tbody>\n",
       "</table>\n",
       "</div>"
      ],
      "text/plain": [
       "              script txn_type  txn_qty transaction  qty  remaining_qty\n",
       "0    SILVERM22APRFUT        S        5           B    5              0\n",
       "1    SILVERM22JUNFUT        B        5           S    5              0\n",
       "2  SILVERMIC22APRFUT        S        1           B    4              3\n",
       "3  SILVERMIC22JUNFUT        B        1           S    4              3"
      ]
     },
     "execution_count": 18,
     "metadata": {},
     "output_type": "execute_result"
    }
   ],
   "source": [
    "today_forward = todays_forward(carry_forward=carry_f,day_df=day_df)\n",
    "today_forward"
   ]
  },
  {
   "cell_type": "markdown",
   "id": "358279c3",
   "metadata": {
    "papermill": {
     "duration": 0.103714,
     "end_time": "2022-03-18T15:08:23.814228",
     "exception": false,
     "start_time": "2022-03-18T15:08:23.710514",
     "status": "completed"
    },
    "tags": []
   },
   "source": [
    "### Now we know which scripts are finally pending at the day's end\n",
    "\n",
    "Locate the final trades in that script"
   ]
  },
  {
   "cell_type": "code",
   "execution_count": 19,
   "id": "14c36195",
   "metadata": {
    "execution": {
     "iopub.execute_input": "2022-03-18T15:08:24.025406Z",
     "iopub.status.busy": "2022-03-18T15:08:24.024617Z",
     "iopub.status.idle": "2022-03-18T15:08:24.036365Z",
     "shell.execute_reply": "2022-03-18T15:08:24.036902Z",
     "shell.execute_reply.started": "2022-03-18T14:10:39.899620Z"
    },
    "papermill": {
     "duration": 0.120635,
     "end_time": "2022-03-18T15:08:24.037079",
     "exception": false,
     "start_time": "2022-03-18T15:08:23.916444",
     "status": "completed"
    },
    "tags": []
   },
   "outputs": [],
   "source": [
    "script_dataframe = pd.DataFrame()\n",
    "for script in today_forward.loc[today_forward.remaining_qty != 0,'script']:\n",
    "    qty_tofun = today_forward.loc[today_forward.script == script,'remaining_qty'].values[0]\n",
    "    #print(qty_tofun)\n",
    "    txn_tofun = today_forward.loc[today_forward.script == script,'transaction'].values[0]\n",
    "    #print(txn_tofun)\n",
    "    temp = locate_script(day_df=day_df,script=script,qty=qty_tofun,transaction=txn_tofun)\n",
    "    script_dataframe = script_dataframe.append([temp])"
   ]
  },
  {
   "cell_type": "code",
   "execution_count": 20,
   "id": "0ef62e14",
   "metadata": {
    "execution": {
     "iopub.execute_input": "2022-03-18T15:08:24.244929Z",
     "iopub.status.busy": "2022-03-18T15:08:24.243924Z",
     "iopub.status.idle": "2022-03-18T15:08:24.261751Z",
     "shell.execute_reply": "2022-03-18T15:08:24.262434Z",
     "shell.execute_reply.started": "2022-03-18T14:10:39.922123Z"
    },
    "papermill": {
     "duration": 0.122617,
     "end_time": "2022-03-18T15:08:24.262616",
     "exception": false,
     "start_time": "2022-03-18T15:08:24.139999",
     "status": "completed"
    },
    "tags": []
   },
   "outputs": [
    {
     "data": {
      "text/html": [
       "<div>\n",
       "<style scoped>\n",
       "    .dataframe tbody tr th:only-of-type {\n",
       "        vertical-align: middle;\n",
       "    }\n",
       "\n",
       "    .dataframe tbody tr th {\n",
       "        vertical-align: top;\n",
       "    }\n",
       "\n",
       "    .dataframe thead th {\n",
       "        text-align: right;\n",
       "    }\n",
       "</style>\n",
       "<table border=\"1\" class=\"dataframe\">\n",
       "  <thead>\n",
       "    <tr style=\"text-align: right;\">\n",
       "      <th></th>\n",
       "      <th>order_no</th>\n",
       "      <th>script</th>\n",
       "      <th>transaction</th>\n",
       "      <th>qty</th>\n",
       "      <th>price</th>\n",
       "      <th>price_d</th>\n",
       "      <th>price_close</th>\n",
       "      <th>PnL</th>\n",
       "    </tr>\n",
       "  </thead>\n",
       "  <tbody>\n",
       "    <tr>\n",
       "      <th>78</th>\n",
       "      <td>210206632</td>\n",
       "      <td>SILVERMIC22APRFUT</td>\n",
       "      <td>B</td>\n",
       "      <td>1</td>\n",
       "      <td>72372.0</td>\n",
       "      <td>72372.0000</td>\n",
       "      <td>71418.0</td>\n",
       "      <td>954.0</td>\n",
       "    </tr>\n",
       "    <tr>\n",
       "      <th>80</th>\n",
       "      <td>210232989</td>\n",
       "      <td>SILVERMIC22APRFUT</td>\n",
       "      <td>B</td>\n",
       "      <td>1</td>\n",
       "      <td>72525.0</td>\n",
       "      <td>72525.0000</td>\n",
       "      <td>71418.0</td>\n",
       "      <td>1107.0</td>\n",
       "    </tr>\n",
       "    <tr>\n",
       "      <th>81</th>\n",
       "      <td>210238100</td>\n",
       "      <td>SILVERMIC22APRFUT</td>\n",
       "      <td>B</td>\n",
       "      <td>1</td>\n",
       "      <td>72599.0</td>\n",
       "      <td>72599.0000</td>\n",
       "      <td>71418.0</td>\n",
       "      <td>1181.0</td>\n",
       "    </tr>\n",
       "    <tr>\n",
       "      <th>110</th>\n",
       "      <td>210090301</td>\n",
       "      <td>SILVERMIC22JUNFUT</td>\n",
       "      <td>S</td>\n",
       "      <td>1</td>\n",
       "      <td>71959.0</td>\n",
       "      <td>71959.0000</td>\n",
       "      <td>72211.0</td>\n",
       "      <td>-252.0</td>\n",
       "    </tr>\n",
       "    <tr>\n",
       "      <th>112</th>\n",
       "      <td>210128021</td>\n",
       "      <td>SILVERMIC22JUNFUT</td>\n",
       "      <td>S</td>\n",
       "      <td>1</td>\n",
       "      <td>72251.0</td>\n",
       "      <td>72251.0000</td>\n",
       "      <td>72211.0</td>\n",
       "      <td>40.0</td>\n",
       "    </tr>\n",
       "    <tr>\n",
       "      <th>113</th>\n",
       "      <td>210165776</td>\n",
       "      <td>SILVERMIC22JUNFUT</td>\n",
       "      <td>S</td>\n",
       "      <td>1</td>\n",
       "      <td>72323.0</td>\n",
       "      <td>72323.0000</td>\n",
       "      <td>72211.0</td>\n",
       "      <td>112.0</td>\n",
       "    </tr>\n",
       "  </tbody>\n",
       "</table>\n",
       "</div>"
      ],
      "text/plain": [
       "      order_no             script transaction  qty    price     price_d  \\\n",
       "78   210206632  SILVERMIC22APRFUT           B    1  72372.0  72372.0000   \n",
       "80   210232989  SILVERMIC22APRFUT           B    1  72525.0  72525.0000   \n",
       "81   210238100  SILVERMIC22APRFUT           B    1  72599.0  72599.0000   \n",
       "110  210090301  SILVERMIC22JUNFUT           S    1  71959.0  71959.0000   \n",
       "112  210128021  SILVERMIC22JUNFUT           S    1  72251.0  72251.0000   \n",
       "113  210165776  SILVERMIC22JUNFUT           S    1  72323.0  72323.0000   \n",
       "\n",
       "     price_close     PnL  \n",
       "78       71418.0   954.0  \n",
       "80       71418.0  1107.0  \n",
       "81       71418.0  1181.0  \n",
       "110      72211.0  -252.0  \n",
       "112      72211.0    40.0  \n",
       "113      72211.0   112.0  "
      ]
     },
     "execution_count": 20,
     "metadata": {},
     "output_type": "execute_result"
    }
   ],
   "source": [
    "script_dataframe.price = script_dataframe.price.astype('float')\n",
    "script_dataframe.price_close = script_dataframe.price_close.astype('float') \n",
    "script_dataframe['PnL'] = script_dataframe.price - script_dataframe.price_close\n",
    "script_dataframe"
   ]
  },
  {
   "cell_type": "code",
   "execution_count": 21,
   "id": "d69b1ef3",
   "metadata": {
    "execution": {
     "iopub.execute_input": "2022-03-18T15:08:24.498189Z",
     "iopub.status.busy": "2022-03-18T15:08:24.496668Z",
     "iopub.status.idle": "2022-03-18T15:08:24.510618Z",
     "shell.execute_reply": "2022-03-18T15:08:24.511517Z",
     "shell.execute_reply.started": "2022-03-18T14:10:39.952373Z"
    },
    "papermill": {
     "duration": 0.137718,
     "end_time": "2022-03-18T15:08:24.511769",
     "exception": false,
     "start_time": "2022-03-18T15:08:24.374051",
     "status": "completed"
    },
    "tags": []
   },
   "outputs": [],
   "source": [
    "def closing_scripts(file):\n",
    "    my_table = get_data(file)\n",
    "    \n",
    "    my_table = correct_txn(my_table) # correct the transaction errors\n",
    "    print('corrected transactions')\n",
    "    carry_f = my_table[my_table.order_no == '0'] # get carry forwarded tables\n",
    "    \n",
    "    day_df = my_table[my_table.order_no != '0'] # get day's trade\n",
    "    \n",
    "    today_forward = todays_forward(carry_forward=carry_f,day_df=day_df) # get day's forwarded trade table\n",
    "    print('got today forwarded table')\n",
    "    #Iterating over the trade table to locate the final trades of the day\n",
    "    script_dataframe = pd.DataFrame()\n",
    "    for script in today_forward.loc[today_forward.remaining_qty != 0,'script']:\n",
    "        qty_tofun = today_forward.loc[today_forward.script == script,'remaining_qty'].values[0]\n",
    "        #print(qty_tofun)\n",
    "        txn_tofun = today_forward.loc[today_forward.script == script,'transaction'].values[0]\n",
    "        #print(txn_tofun)\n",
    "        temp = locate_script(day_df=day_df,script=script,qty=qty_tofun,transaction=txn_tofun)\n",
    "        script_dataframe = script_dataframe.append([temp])\n",
    "    print('Got the script data frame for final processing')\n",
    "    #final leg of the calculation to get the list of trades getting forwarded\n",
    "    script_dataframe.price = script_dataframe.price.astype('float')\n",
    "    script_dataframe.price_close = script_dataframe.price_close.astype('float') \n",
    "    script_dataframe['PnL'] = script_dataframe.price - script_dataframe.price_close\n",
    "    print('returning the solution')\n",
    "    return script_dataframe"
   ]
  },
  {
   "cell_type": "code",
   "execution_count": 22,
   "id": "cbae3fec",
   "metadata": {
    "execution": {
     "iopub.execute_input": "2022-03-18T15:08:24.808393Z",
     "iopub.status.busy": "2022-03-18T15:08:24.807678Z",
     "iopub.status.idle": "2022-03-18T15:08:41.180120Z",
     "shell.execute_reply": "2022-03-18T15:08:41.178745Z",
     "shell.execute_reply.started": "2022-03-18T14:10:39.968184Z"
    },
    "papermill": {
     "duration": 16.504939,
     "end_time": "2022-03-18T15:08:41.180291",
     "exception": false,
     "start_time": "2022-03-18T15:08:24.675352",
     "status": "completed"
    },
    "tags": []
   },
   "outputs": [
    {
     "name": "stderr",
     "output_type": "stream",
     "text": [
      "2022-03-18T15:08:29 - INFO - Processing page-1\n",
      "2022-03-18T15:08:33 - INFO - Processing page-2\n",
      "2022-03-18T15:08:38 - INFO - Processing page-3\n",
      "2022-03-18T15:08:40 - INFO - Processing page-4\n"
     ]
    }
   ],
   "source": [
    "contact11 = get_data('../input/contract-notes/2022-03-11-contract-notes_DM3955.pdf')"
   ]
  },
  {
   "cell_type": "code",
   "execution_count": 23,
   "id": "2cf9a9bf",
   "metadata": {
    "execution": {
     "iopub.execute_input": "2022-03-18T15:08:41.397863Z",
     "iopub.status.busy": "2022-03-18T15:08:41.397171Z",
     "iopub.status.idle": "2022-03-18T15:08:53.254338Z",
     "shell.execute_reply": "2022-03-18T15:08:53.253473Z",
     "shell.execute_reply.started": "2022-03-18T14:10:56.653935Z"
    },
    "papermill": {
     "duration": 11.96779,
     "end_time": "2022-03-18T15:08:53.254547",
     "exception": false,
     "start_time": "2022-03-18T15:08:41.286757",
     "status": "completed"
    },
    "tags": []
   },
   "outputs": [
    {
     "name": "stderr",
     "output_type": "stream",
     "text": [
      "2022-03-18T15:08:45 - INFO - Processing page-1\n",
      "2022-03-18T15:08:49 - INFO - Processing page-2\n",
      "2022-03-18T15:08:52 - INFO - Processing page-3\n"
     ]
    }
   ],
   "source": [
    "contact17 = get_data('../input/contract-notes/2022-03-17-contract-notes_DM3955.pdf')"
   ]
  },
  {
   "cell_type": "code",
   "execution_count": 24,
   "id": "0b78578d",
   "metadata": {
    "execution": {
     "iopub.execute_input": "2022-03-18T15:08:53.473786Z",
     "iopub.status.busy": "2022-03-18T15:08:53.473085Z",
     "iopub.status.idle": "2022-03-18T15:08:53.476970Z",
     "shell.execute_reply": "2022-03-18T15:08:53.477525Z",
     "shell.execute_reply.started": "2022-03-18T14:11:08.815972Z"
    },
    "papermill": {
     "duration": 0.117246,
     "end_time": "2022-03-18T15:08:53.477712",
     "exception": false,
     "start_time": "2022-03-18T15:08:53.360466",
     "status": "completed"
    },
    "tags": []
   },
   "outputs": [
    {
     "data": {
      "text/plain": [
       "array(['GOLDGUINEA22APRFUT', 'SILVERMIC22APRFUT'], dtype=object)"
      ]
     },
     "execution_count": 24,
     "metadata": {},
     "output_type": "execute_result"
    }
   ],
   "source": [
    "contact11.script.unique()"
   ]
  },
  {
   "cell_type": "code",
   "execution_count": 25,
   "id": "61a44a5c",
   "metadata": {
    "execution": {
     "iopub.execute_input": "2022-03-18T15:08:53.692370Z",
     "iopub.status.busy": "2022-03-18T15:08:53.691573Z",
     "iopub.status.idle": "2022-03-18T15:08:53.696342Z",
     "shell.execute_reply": "2022-03-18T15:08:53.697076Z",
     "shell.execute_reply.started": "2022-03-18T14:11:08.826670Z"
    },
    "papermill": {
     "duration": 0.111421,
     "end_time": "2022-03-18T15:08:53.697258",
     "exception": false,
     "start_time": "2022-03-18T15:08:53.585837",
     "status": "completed"
    },
    "tags": []
   },
   "outputs": [
    {
     "data": {
      "text/plain": [
       "array(['SILVERMIC22APRFUT', 'SILVERMIC22JUNFUT'], dtype=object)"
      ]
     },
     "execution_count": 25,
     "metadata": {},
     "output_type": "execute_result"
    }
   ],
   "source": [
    "contact17.script.unique()"
   ]
  },
  {
   "cell_type": "code",
   "execution_count": 26,
   "id": "c63e8c88",
   "metadata": {
    "execution": {
     "iopub.execute_input": "2022-03-18T15:08:53.915541Z",
     "iopub.status.busy": "2022-03-18T15:08:53.914767Z",
     "iopub.status.idle": "2022-03-18T15:08:53.929794Z",
     "shell.execute_reply": "2022-03-18T15:08:53.929246Z",
     "shell.execute_reply.started": "2022-03-18T14:11:08.839585Z"
    },
    "papermill": {
     "duration": 0.124795,
     "end_time": "2022-03-18T15:08:53.929970",
     "exception": false,
     "start_time": "2022-03-18T15:08:53.805175",
     "status": "completed"
    },
    "tags": []
   },
   "outputs": [],
   "source": [
    "temp = contact11[contact11.script == 'SILVERMIC22APRFUT']\n",
    "buy = temp[temp.transaction == 'B'].reset_index()\n",
    "buy.drop(['index','PnL','price_close','price_d'],axis=1,inplace=True)\n",
    "buy.order_no = buy.order_no.astype('int') \n",
    "sell = temp[temp.transaction == 'S'].reset_index()\n",
    "sell.drop(['index','PnL','price_close','price_d'],axis=1,inplace=True)\n",
    "sell.order_no = sell.order_no.astype('int') "
   ]
  },
  {
   "cell_type": "code",
   "execution_count": 27,
   "id": "65b48fb5",
   "metadata": {
    "execution": {
     "iopub.execute_input": "2022-03-18T15:08:54.155628Z",
     "iopub.status.busy": "2022-03-18T15:08:54.154564Z",
     "iopub.status.idle": "2022-03-18T15:08:54.163435Z",
     "shell.execute_reply": "2022-03-18T15:08:54.163961Z",
     "shell.execute_reply.started": "2022-03-18T14:11:08.862913Z"
    },
    "papermill": {
     "duration": 0.120219,
     "end_time": "2022-03-18T15:08:54.164182",
     "exception": false,
     "start_time": "2022-03-18T15:08:54.043963",
     "status": "completed"
    },
    "tags": []
   },
   "outputs": [],
   "source": [
    "temp = contact17[contact17.script == 'SILVERMIC22APRFUT']\n",
    "buy = temp[temp.transaction == 'B'].reset_index()\n",
    "buy.drop(['index','PnL','price_close','price_d'],axis=1,inplace=True)\n",
    "buy.order_no = buy.order_no.astype('int') \n",
    "sell = temp[temp.transaction == 'S'].reset_index()\n",
    "sell.drop(['index','PnL','price_close','price_d'],axis=1,inplace=True)\n",
    "sell.order_no = sell.order_no.astype('int') "
   ]
  },
  {
   "cell_type": "code",
   "execution_count": 28,
   "id": "8121e3d4",
   "metadata": {
    "execution": {
     "iopub.execute_input": "2022-03-18T15:08:54.385543Z",
     "iopub.status.busy": "2022-03-18T15:08:54.384504Z",
     "iopub.status.idle": "2022-03-18T15:09:05.270187Z",
     "shell.execute_reply": "2022-03-18T15:09:05.269430Z",
     "shell.execute_reply.started": "2022-03-18T14:11:08.892004Z"
    },
    "papermill": {
     "duration": 11.001124,
     "end_time": "2022-03-18T15:09:05.270346",
     "exception": false,
     "start_time": "2022-03-18T15:08:54.269222",
     "status": "completed"
    },
    "tags": []
   },
   "outputs": [
    {
     "name": "stdout",
     "output_type": "stream",
     "text": [
      "Collecting xlwt\r\n",
      "  Downloading xlwt-1.3.0-py2.py3-none-any.whl (99 kB)\r\n",
      "     |████████████████████████████████| 99 kB 379 kB/s            \r\n",
      "\u001b[?25hInstalling collected packages: xlwt\r\n",
      "Successfully installed xlwt-1.3.0\r\n",
      "\u001b[33mWARNING: Running pip as the 'root' user can result in broken permissions and conflicting behaviour with the system package manager. It is recommended to use a virtual environment instead: https://pip.pypa.io/warnings/venv\u001b[0m\r\n"
     ]
    }
   ],
   "source": [
    "!pip install xlwt"
   ]
  },
  {
   "cell_type": "code",
   "execution_count": 29,
   "id": "49dfc628",
   "metadata": {
    "execution": {
     "iopub.execute_input": "2022-03-18T15:09:05.500110Z",
     "iopub.status.busy": "2022-03-18T15:09:05.498896Z",
     "iopub.status.idle": "2022-03-18T15:09:05.535012Z",
     "shell.execute_reply": "2022-03-18T15:09:05.535541Z",
     "shell.execute_reply.started": "2022-03-18T14:11:20.314093Z"
    },
    "papermill": {
     "duration": 0.152742,
     "end_time": "2022-03-18T15:09:05.535737",
     "exception": false,
     "start_time": "2022-03-18T15:09:05.382995",
     "status": "completed"
    },
    "tags": []
   },
   "outputs": [],
   "source": [
    "import xlwt\n",
    "sell.to_excel('sell_silver_Apr_raw_17.xls')\n",
    "buy.to_excel('buy_silver_Apr_raw_17.xls')"
   ]
  },
  {
   "cell_type": "markdown",
   "id": "432b5f2f",
   "metadata": {
    "papermill": {
     "duration": 0.107219,
     "end_time": "2022-03-18T15:09:05.754181",
     "exception": false,
     "start_time": "2022-03-18T15:09:05.646962",
     "status": "completed"
    },
    "tags": []
   },
   "source": [
    "Using df.iloc[1] = ['India', 'Shivam', 'Pandey'] can let you add the values to the data frames.\n",
    "\n",
    "Next question is how to insert rows into the dataframes.. \n",
    "\n",
    "df.loc[df.shape[0]] = [None, None, None] this is the interesting twist.. found at \n",
    "\n",
    "https://www.stackvidhya.com/add-row-to-dataframe/"
   ]
  },
  {
   "cell_type": "code",
   "execution_count": 30,
   "id": "63496ddb",
   "metadata": {
    "execution": {
     "iopub.execute_input": "2022-03-18T15:09:05.982327Z",
     "iopub.status.busy": "2022-03-18T15:09:05.981637Z",
     "iopub.status.idle": "2022-03-18T15:09:05.984462Z",
     "shell.execute_reply": "2022-03-18T15:09:05.983726Z",
     "shell.execute_reply.started": "2022-03-18T14:11:20.358735Z"
    },
    "papermill": {
     "duration": 0.120143,
     "end_time": "2022-03-18T15:09:05.984624",
     "exception": false,
     "start_time": "2022-03-18T15:09:05.864481",
     "status": "completed"
    },
    "tags": []
   },
   "outputs": [],
   "source": [
    "#There is a easier and correct method. In this case, the source data frame gets overwritten\n",
    "def make_single(dataf,qty,index):\n",
    "    values = dataf.loc[index]\n",
    "    values[3] = 1 #Here i am changing the qty to 1\n",
    "    values=pd.DataFrame([values.values],columns=values.index)\n",
    "    df = pd.DataFrame()\n",
    "    for q in range(qty):\n",
    "        df = df.append(values)\n",
    "    return df"
   ]
  },
  {
   "cell_type": "code",
   "execution_count": 31,
   "id": "917d7cb6",
   "metadata": {
    "execution": {
     "iopub.execute_input": "2022-03-18T15:09:06.214682Z",
     "iopub.status.busy": "2022-03-18T15:09:06.213778Z",
     "iopub.status.idle": "2022-03-18T15:09:06.219035Z",
     "shell.execute_reply": "2022-03-18T15:09:06.218301Z",
     "shell.execute_reply.started": "2022-03-18T14:17:53.239307Z"
    },
    "papermill": {
     "duration": 0.122726,
     "end_time": "2022-03-18T15:09:06.219187",
     "exception": false,
     "start_time": "2022-03-18T15:09:06.096461",
     "status": "completed"
    },
    "tags": []
   },
   "outputs": [
    {
     "data": {
      "text/plain": [
       "[210015963, 'SILVERMIC22APRFUT', 'B', 1, 68557.0]"
      ]
     },
     "execution_count": 31,
     "metadata": {},
     "output_type": "execute_result"
    }
   ],
   "source": [
    "list(buy.loc[2].values)"
   ]
  },
  {
   "cell_type": "code",
   "execution_count": 32,
   "id": "5e6424d6",
   "metadata": {
    "execution": {
     "iopub.execute_input": "2022-03-18T15:09:06.452370Z",
     "iopub.status.busy": "2022-03-18T15:09:06.451624Z",
     "iopub.status.idle": "2022-03-18T15:09:06.455184Z",
     "shell.execute_reply": "2022-03-18T15:09:06.454622Z",
     "shell.execute_reply.started": "2022-03-18T14:18:17.878220Z"
    },
    "papermill": {
     "duration": 0.121907,
     "end_time": "2022-03-18T15:09:06.455331",
     "exception": false,
     "start_time": "2022-03-18T15:09:06.333424",
     "status": "completed"
    },
    "tags": []
   },
   "outputs": [
    {
     "data": {
      "text/plain": [
       "array([210015963, 'SILVERMIC22APRFUT', 'B', 1, 68557.0], dtype=object)"
      ]
     },
     "execution_count": 32,
     "metadata": {},
     "output_type": "execute_result"
    }
   ],
   "source": [
    "buy.loc[2].values"
   ]
  },
  {
   "cell_type": "code",
   "execution_count": 33,
   "id": "37e3be3a",
   "metadata": {
    "execution": {
     "iopub.execute_input": "2022-03-18T15:09:06.686757Z",
     "iopub.status.busy": "2022-03-18T15:09:06.685592Z",
     "iopub.status.idle": "2022-03-18T15:09:06.688200Z",
     "shell.execute_reply": "2022-03-18T15:09:06.687545Z",
     "shell.execute_reply.started": "2022-03-18T14:11:20.368750Z"
    },
    "papermill": {
     "duration": 0.116474,
     "end_time": "2022-03-18T15:09:06.688366",
     "exception": false,
     "start_time": "2022-03-18T15:09:06.571892",
     "status": "completed"
    },
    "tags": []
   },
   "outputs": [],
   "source": [
    "def make_single_1(dataf,qty,index):\n",
    "    values = dataf.loc[index]\n",
    "    values[3] = 1 #Here i am changing the qty to 1\n",
    "    values=pd.DataFrame([values.values],columns=values.index)\n",
    "    values = values.reindex(list(range(index,index+qty)),method='ffill')\n",
    "    return values"
   ]
  },
  {
   "cell_type": "code",
   "execution_count": 34,
   "id": "ad0be0e3",
   "metadata": {
    "execution": {
     "iopub.execute_input": "2022-03-18T15:09:06.917860Z",
     "iopub.status.busy": "2022-03-18T15:09:06.916716Z",
     "iopub.status.idle": "2022-03-18T15:09:06.919692Z",
     "shell.execute_reply": "2022-03-18T15:09:06.919044Z",
     "shell.execute_reply.started": "2022-03-18T14:11:20.381260Z"
    },
    "papermill": {
     "duration": 0.119305,
     "end_time": "2022-03-18T15:09:06.919872",
     "exception": false,
     "start_time": "2022-03-18T15:09:06.800567",
     "status": "completed"
    },
    "tags": []
   },
   "outputs": [],
   "source": [
    "mult_buy = buy[buy.qty > 1]\n",
    "mult_sell = sell[sell.qty > 1]"
   ]
  },
  {
   "cell_type": "code",
   "execution_count": 35,
   "id": "28faec1a",
   "metadata": {
    "execution": {
     "iopub.execute_input": "2022-03-18T15:09:07.141638Z",
     "iopub.status.busy": "2022-03-18T15:09:07.140704Z",
     "iopub.status.idle": "2022-03-18T15:09:07.143670Z",
     "shell.execute_reply": "2022-03-18T15:09:07.143121Z",
     "shell.execute_reply.started": "2022-03-18T14:11:20.397327Z"
    },
    "papermill": {
     "duration": 0.115779,
     "end_time": "2022-03-18T15:09:07.143815",
     "exception": false,
     "start_time": "2022-03-18T15:09:07.028036",
     "status": "completed"
    },
    "tags": []
   },
   "outputs": [],
   "source": [
    "def insert_row(idx, df, df_insert):\n",
    "    dfA = df.iloc[:idx, ]\n",
    "    dfB = df.iloc[idx:, ]\n",
    "\n",
    "    df = dfA.append(df_insert).append(dfB).reset_index(drop = True)\n",
    "\n",
    "    return df"
   ]
  },
  {
   "cell_type": "code",
   "execution_count": 36,
   "id": "808918eb",
   "metadata": {
    "execution": {
     "iopub.execute_input": "2022-03-18T15:09:07.367550Z",
     "iopub.status.busy": "2022-03-18T15:09:07.366647Z",
     "iopub.status.idle": "2022-03-18T15:09:07.370161Z",
     "shell.execute_reply": "2022-03-18T15:09:07.370645Z",
     "shell.execute_reply.started": "2022-03-18T14:11:20.407974Z"
    },
    "papermill": {
     "duration": 0.119325,
     "end_time": "2022-03-18T15:09:07.370838",
     "exception": false,
     "start_time": "2022-03-18T15:09:07.251513",
     "status": "completed"
    },
    "tags": []
   },
   "outputs": [
    {
     "data": {
      "text/plain": [
       "[13, 14, 15, 16, 17, 18, 19, 20]"
      ]
     },
     "execution_count": 36,
     "metadata": {},
     "output_type": "execute_result"
    }
   ],
   "source": [
    "index = [x for x in pd.RangeIndex(13,21,1)]\n",
    "index"
   ]
  },
  {
   "cell_type": "code",
   "execution_count": 37,
   "id": "ae74e383",
   "metadata": {
    "execution": {
     "iopub.execute_input": "2022-03-18T15:09:07.606435Z",
     "iopub.status.busy": "2022-03-18T15:09:07.605440Z",
     "iopub.status.idle": "2022-03-18T15:09:07.608645Z",
     "shell.execute_reply": "2022-03-18T15:09:07.608032Z",
     "shell.execute_reply.started": "2022-03-18T14:11:20.425836Z"
    },
    "papermill": {
     "duration": 0.124058,
     "end_time": "2022-03-18T15:09:07.608782",
     "exception": false,
     "start_time": "2022-03-18T15:09:07.484724",
     "status": "completed"
    },
    "tags": []
   },
   "outputs": [],
   "source": [
    "buy.drop(mult_buy.index,inplace=True)\n",
    "sell.drop(mult_sell.index,inplace=True)"
   ]
  },
  {
   "cell_type": "code",
   "execution_count": 38,
   "id": "49ebcd2c",
   "metadata": {
    "execution": {
     "iopub.execute_input": "2022-03-18T15:09:07.827781Z",
     "iopub.status.busy": "2022-03-18T15:09:07.826905Z",
     "iopub.status.idle": "2022-03-18T15:09:07.830472Z",
     "shell.execute_reply": "2022-03-18T15:09:07.829911Z",
     "shell.execute_reply.started": "2022-03-18T14:11:20.448668Z"
    },
    "papermill": {
     "duration": 0.115253,
     "end_time": "2022-03-18T15:09:07.830613",
     "exception": false,
     "start_time": "2022-03-18T15:09:07.715360",
     "status": "completed"
    },
    "tags": []
   },
   "outputs": [],
   "source": [
    "for i,qty in mult_buy['qty'].iteritems():\n",
    "    print(i,qty)"
   ]
  },
  {
   "cell_type": "code",
   "execution_count": 39,
   "id": "de7ceed4",
   "metadata": {
    "execution": {
     "iopub.execute_input": "2022-03-18T15:09:08.054611Z",
     "iopub.status.busy": "2022-03-18T15:09:08.053923Z",
     "iopub.status.idle": "2022-03-18T15:09:08.056229Z",
     "shell.execute_reply": "2022-03-18T15:09:08.055557Z",
     "shell.execute_reply.started": "2022-03-18T14:11:20.460000Z"
    },
    "papermill": {
     "duration": 0.117654,
     "end_time": "2022-03-18T15:09:08.056377",
     "exception": false,
     "start_time": "2022-03-18T15:09:07.938723",
     "status": "completed"
    },
    "tags": []
   },
   "outputs": [],
   "source": [
    "for i,qty in mult_buy['qty'].iteritems():\n",
    "    temp = make_single_1(dataf=mult_buy,qty=qty,index=i)\n",
    "    update_buy = insert_row(i,buy,temp)\n",
    "    buy = update_buy\n",
    "    print('exit loop')\n",
    "    \n",
    "for i,qty in mult_sell['qty'].iteritems():\n",
    "    temp = make_single_1(dataf=mult_sell,qty=qty,index=i)\n",
    "    update_buy = insert_row(i,sell,temp)\n",
    "    sell = update_buy\n",
    "    print('exit loop')"
   ]
  },
  {
   "cell_type": "code",
   "execution_count": 40,
   "id": "318f619b",
   "metadata": {
    "execution": {
     "iopub.execute_input": "2022-03-18T15:09:08.283339Z",
     "iopub.status.busy": "2022-03-18T15:09:08.282614Z",
     "iopub.status.idle": "2022-03-18T15:09:08.285073Z",
     "shell.execute_reply": "2022-03-18T15:09:08.284490Z",
     "shell.execute_reply.started": "2022-03-18T14:11:20.471172Z"
    },
    "papermill": {
     "duration": 0.12399,
     "end_time": "2022-03-18T15:09:08.285217",
     "exception": false,
     "start_time": "2022-03-18T15:09:08.161227",
     "status": "completed"
    },
    "tags": []
   },
   "outputs": [],
   "source": [
    "#This function finally provides the corrected dataframe for each script, transaction wise\n",
    "def get_trades(df,script):\n",
    "    temp = df[df.script == script]\n",
    "    buy = temp[temp.transaction == 'B'].reset_index()\n",
    "    buy.drop(['index','PnL','price_close','price_d'],axis=1,inplace=True)\n",
    "    buy.order_no = buy.order_no.astype('int') \n",
    "    sell = temp[temp.transaction == 'S'].reset_index()\n",
    "    sell.drop(['index','PnL','price_close','price_d'],axis=1,inplace=True)\n",
    "    sell.order_no = sell.order_no.astype('int') \n",
    "    mult_buy = buy[buy.qty > 1]\n",
    "    mult_sell = sell[sell.qty > 1]\n",
    "    buy.drop(mult_buy.index,inplace=True)\n",
    "    sell.drop(mult_sell.index,inplace=True)\n",
    "    return buy, sell,mult_buy,mult_sell"
   ]
  },
  {
   "cell_type": "code",
   "execution_count": 41,
   "id": "c0f06146",
   "metadata": {
    "execution": {
     "iopub.execute_input": "2022-03-18T15:09:08.516725Z",
     "iopub.status.busy": "2022-03-18T15:09:08.516056Z",
     "iopub.status.idle": "2022-03-18T15:09:08.518343Z",
     "shell.execute_reply": "2022-03-18T15:09:08.518878Z",
     "shell.execute_reply.started": "2022-03-18T14:35:04.295154Z"
    },
    "papermill": {
     "duration": 0.125193,
     "end_time": "2022-03-18T15:09:08.519102",
     "exception": false,
     "start_time": "2022-03-18T15:09:08.393909",
     "status": "completed"
    },
    "tags": []
   },
   "outputs": [],
   "source": [
    "#Next is to introduce the scripts that are carried forward for the day. \n",
    "#This function to makes the dataframe for the carried forward to this day.\n",
    "\n",
    "def carried_forward(order_no,script,transaction,qty,price):\n",
    "    loc_qty = 1\n",
    "    values=pd.DataFrame({'order_no':order_no,'script':script,\n",
    "                         'transaction':transaction,'qty':loc_qty,\n",
    "                         'price':price},index=[0])\n",
    "    values = values.reindex(list(range(qty)),method='ffill')\n",
    "    return values"
   ]
  },
  {
   "cell_type": "code",
   "execution_count": 42,
   "id": "86afa93f",
   "metadata": {
    "execution": {
     "iopub.execute_input": "2022-03-18T15:09:08.759067Z",
     "iopub.status.busy": "2022-03-18T15:09:08.758344Z",
     "iopub.status.idle": "2022-03-18T15:09:08.770667Z",
     "shell.execute_reply": "2022-03-18T15:09:08.771184Z",
     "shell.execute_reply.started": "2022-03-18T14:58:52.459979Z"
    },
    "papermill": {
     "duration": 0.127638,
     "end_time": "2022-03-18T15:09:08.771370",
     "exception": false,
     "start_time": "2022-03-18T15:09:08.643732",
     "status": "completed"
    },
    "tags": []
   },
   "outputs": [],
   "source": [
    "buy,sell,mult_buy,mult_sell = get_trades(df=contact17,script='SILVERMIC22APRFUT')\n",
    "\n",
    "#calculate sell items\n",
    "for i,qty in mult_sell['qty'].iteritems():\n",
    "    temp = make_single_1(dataf=mult_sell,qty=qty,index=i)\n",
    "    update_buy = insert_row(i,sell,temp)\n",
    "    sell = update_buy\n",
    "    print('exit loop')\n",
    "\n",
    "#calculate buy items\n",
    "for i,qty in mult_buy['qty'].iteritems():\n",
    "    temp = make_single_1(dataf=mult_buy,qty=qty,index=i)\n",
    "    update_buy = insert_row(i,buy,temp)\n",
    "    buy = update_buy\n",
    "    print('exit loop')\n",
    "buy.sort_values('order_no',inplace=True)\n",
    "sell.sort_values('order_no',inplace=True)"
   ]
  },
  {
   "cell_type": "code",
   "execution_count": 43,
   "id": "03861c06",
   "metadata": {
    "execution": {
     "iopub.execute_input": "2022-03-18T15:09:09.010053Z",
     "iopub.status.busy": "2022-03-18T15:09:09.009159Z",
     "iopub.status.idle": "2022-03-18T15:09:09.013844Z",
     "shell.execute_reply": "2022-03-18T15:09:09.013277Z",
     "shell.execute_reply.started": "2022-03-18T14:58:54.616993Z"
    },
    "papermill": {
     "duration": 0.130757,
     "end_time": "2022-03-18T15:09:09.013999",
     "exception": false,
     "start_time": "2022-03-18T15:09:08.883242",
     "status": "completed"
    },
    "tags": []
   },
   "outputs": [],
   "source": [
    "apr_forward = carried_forward(order_no='forward',script='SILVERMIC22APRFUT',transaction='S',\n",
    "                              qty=6,price=67517)\n",
    "sell = insert_row(0,sell,apr_forward)"
   ]
  },
  {
   "cell_type": "code",
   "execution_count": 44,
   "id": "fc828642",
   "metadata": {
    "execution": {
     "iopub.execute_input": "2022-03-18T15:09:09.244253Z",
     "iopub.status.busy": "2022-03-18T15:09:09.241754Z",
     "iopub.status.idle": "2022-03-18T15:09:09.247073Z",
     "shell.execute_reply": "2022-03-18T15:09:09.247658Z",
     "shell.execute_reply.started": "2022-03-18T14:58:57.009112Z"
    },
    "papermill": {
     "duration": 0.121252,
     "end_time": "2022-03-18T15:09:09.247852",
     "exception": false,
     "start_time": "2022-03-18T15:09:09.126600",
     "status": "completed"
    },
    "tags": []
   },
   "outputs": [],
   "source": [
    "apr_forward_close = carried_forward(order_no='close',script='SILVERMIC22APRFUT',transaction='B',\n",
    "                              qty=6,price=68625)\n",
    "buy = insert_row(0,buy,apr_forward_close)"
   ]
  },
  {
   "cell_type": "code",
   "execution_count": 45,
   "id": "9a18049c",
   "metadata": {
    "execution": {
     "iopub.execute_input": "2022-03-18T15:09:09.471391Z",
     "iopub.status.busy": "2022-03-18T15:09:09.469701Z",
     "iopub.status.idle": "2022-03-18T15:09:09.480088Z",
     "shell.execute_reply": "2022-03-18T15:09:09.480937Z",
     "shell.execute_reply.started": "2022-03-18T14:59:07.919757Z"
    },
    "papermill": {
     "duration": 0.125407,
     "end_time": "2022-03-18T15:09:09.481141",
     "exception": false,
     "start_time": "2022-03-18T15:09:09.355734",
     "status": "completed"
    },
    "tags": []
   },
   "outputs": [],
   "source": [
    "final_comp_APR = buy.merge(right=sell,right_index=True,left_index=True,how='left')\n",
    "final_comp_APR['PnL'] = final_comp_APR.price_y - final_comp_APR.price_x\n",
    "final_comp_APR.to_excel('Apr_Script.xls')"
   ]
  },
  {
   "cell_type": "code",
   "execution_count": 46,
   "id": "bf51165d",
   "metadata": {
    "execution": {
     "iopub.execute_input": "2022-03-18T15:09:09.700307Z",
     "iopub.status.busy": "2022-03-18T15:09:09.699576Z",
     "iopub.status.idle": "2022-03-18T15:09:09.718382Z",
     "shell.execute_reply": "2022-03-18T15:09:09.718938Z",
     "shell.execute_reply.started": "2022-03-18T14:59:12.970806Z"
    },
    "papermill": {
     "duration": 0.128888,
     "end_time": "2022-03-18T15:09:09.719114",
     "exception": false,
     "start_time": "2022-03-18T15:09:09.590226",
     "status": "completed"
    },
    "tags": []
   },
   "outputs": [
    {
     "data": {
      "text/html": [
       "<div>\n",
       "<style scoped>\n",
       "    .dataframe tbody tr th:only-of-type {\n",
       "        vertical-align: middle;\n",
       "    }\n",
       "\n",
       "    .dataframe tbody tr th {\n",
       "        vertical-align: top;\n",
       "    }\n",
       "\n",
       "    .dataframe thead th {\n",
       "        text-align: right;\n",
       "    }\n",
       "</style>\n",
       "<table border=\"1\" class=\"dataframe\">\n",
       "  <thead>\n",
       "    <tr style=\"text-align: right;\">\n",
       "      <th></th>\n",
       "      <th>order_no_x</th>\n",
       "      <th>script_x</th>\n",
       "      <th>transaction_x</th>\n",
       "      <th>qty_x</th>\n",
       "      <th>price_x</th>\n",
       "      <th>order_no_y</th>\n",
       "      <th>script_y</th>\n",
       "      <th>transaction_y</th>\n",
       "      <th>qty_y</th>\n",
       "      <th>price_y</th>\n",
       "      <th>PnL</th>\n",
       "    </tr>\n",
       "  </thead>\n",
       "  <tbody>\n",
       "    <tr>\n",
       "      <th>0</th>\n",
       "      <td>close</td>\n",
       "      <td>SILVERMIC22APRFUT</td>\n",
       "      <td>B</td>\n",
       "      <td>1</td>\n",
       "      <td>68625.0</td>\n",
       "      <td>forward</td>\n",
       "      <td>SILVERMIC22APRFUT</td>\n",
       "      <td>S</td>\n",
       "      <td>1</td>\n",
       "      <td>67517.0</td>\n",
       "      <td>-1108.0</td>\n",
       "    </tr>\n",
       "    <tr>\n",
       "      <th>1</th>\n",
       "      <td>close</td>\n",
       "      <td>SILVERMIC22APRFUT</td>\n",
       "      <td>B</td>\n",
       "      <td>1</td>\n",
       "      <td>68625.0</td>\n",
       "      <td>forward</td>\n",
       "      <td>SILVERMIC22APRFUT</td>\n",
       "      <td>S</td>\n",
       "      <td>1</td>\n",
       "      <td>67517.0</td>\n",
       "      <td>-1108.0</td>\n",
       "    </tr>\n",
       "    <tr>\n",
       "      <th>2</th>\n",
       "      <td>close</td>\n",
       "      <td>SILVERMIC22APRFUT</td>\n",
       "      <td>B</td>\n",
       "      <td>1</td>\n",
       "      <td>68625.0</td>\n",
       "      <td>forward</td>\n",
       "      <td>SILVERMIC22APRFUT</td>\n",
       "      <td>S</td>\n",
       "      <td>1</td>\n",
       "      <td>67517.0</td>\n",
       "      <td>-1108.0</td>\n",
       "    </tr>\n",
       "    <tr>\n",
       "      <th>3</th>\n",
       "      <td>close</td>\n",
       "      <td>SILVERMIC22APRFUT</td>\n",
       "      <td>B</td>\n",
       "      <td>1</td>\n",
       "      <td>68625.0</td>\n",
       "      <td>forward</td>\n",
       "      <td>SILVERMIC22APRFUT</td>\n",
       "      <td>S</td>\n",
       "      <td>1</td>\n",
       "      <td>67517.0</td>\n",
       "      <td>-1108.0</td>\n",
       "    </tr>\n",
       "    <tr>\n",
       "      <th>4</th>\n",
       "      <td>close</td>\n",
       "      <td>SILVERMIC22APRFUT</td>\n",
       "      <td>B</td>\n",
       "      <td>1</td>\n",
       "      <td>68625.0</td>\n",
       "      <td>forward</td>\n",
       "      <td>SILVERMIC22APRFUT</td>\n",
       "      <td>S</td>\n",
       "      <td>1</td>\n",
       "      <td>67517.0</td>\n",
       "      <td>-1108.0</td>\n",
       "    </tr>\n",
       "    <tr>\n",
       "      <th>5</th>\n",
       "      <td>close</td>\n",
       "      <td>SILVERMIC22APRFUT</td>\n",
       "      <td>B</td>\n",
       "      <td>1</td>\n",
       "      <td>68625.0</td>\n",
       "      <td>forward</td>\n",
       "      <td>SILVERMIC22APRFUT</td>\n",
       "      <td>S</td>\n",
       "      <td>1</td>\n",
       "      <td>67517.0</td>\n",
       "      <td>-1108.0</td>\n",
       "    </tr>\n",
       "    <tr>\n",
       "      <th>6</th>\n",
       "      <td>210014749</td>\n",
       "      <td>SILVERMIC22APRFUT</td>\n",
       "      <td>B</td>\n",
       "      <td>1</td>\n",
       "      <td>68600.0</td>\n",
       "      <td>210046921</td>\n",
       "      <td>SILVERMIC22APRFUT</td>\n",
       "      <td>S</td>\n",
       "      <td>1</td>\n",
       "      <td>68532.0</td>\n",
       "      <td>-68.0</td>\n",
       "    </tr>\n",
       "    <tr>\n",
       "      <th>7</th>\n",
       "      <td>210014750</td>\n",
       "      <td>SILVERMIC22APRFUT</td>\n",
       "      <td>B</td>\n",
       "      <td>1</td>\n",
       "      <td>68604.0</td>\n",
       "      <td>210053852</td>\n",
       "      <td>SILVERMIC22APRFUT</td>\n",
       "      <td>S</td>\n",
       "      <td>1</td>\n",
       "      <td>68674.0</td>\n",
       "      <td>70.0</td>\n",
       "    </tr>\n",
       "    <tr>\n",
       "      <th>8</th>\n",
       "      <td>210015963</td>\n",
       "      <td>SILVERMIC22APRFUT</td>\n",
       "      <td>B</td>\n",
       "      <td>1</td>\n",
       "      <td>68557.0</td>\n",
       "      <td>210055200</td>\n",
       "      <td>SILVERMIC22APRFUT</td>\n",
       "      <td>S</td>\n",
       "      <td>1</td>\n",
       "      <td>68703.0</td>\n",
       "      <td>146.0</td>\n",
       "    </tr>\n",
       "    <tr>\n",
       "      <th>9</th>\n",
       "      <td>210028459</td>\n",
       "      <td>SILVERMIC22APRFUT</td>\n",
       "      <td>B</td>\n",
       "      <td>1</td>\n",
       "      <td>68425.0</td>\n",
       "      <td>210056894</td>\n",
       "      <td>SILVERMIC22APRFUT</td>\n",
       "      <td>S</td>\n",
       "      <td>1</td>\n",
       "      <td>68785.0</td>\n",
       "      <td>360.0</td>\n",
       "    </tr>\n",
       "    <tr>\n",
       "      <th>10</th>\n",
       "      <td>210060975</td>\n",
       "      <td>SILVERMIC22APRFUT</td>\n",
       "      <td>B</td>\n",
       "      <td>1</td>\n",
       "      <td>68621.0</td>\n",
       "      <td>210068429</td>\n",
       "      <td>SILVERMIC22APRFUT</td>\n",
       "      <td>S</td>\n",
       "      <td>1</td>\n",
       "      <td>68772.0</td>\n",
       "      <td>151.0</td>\n",
       "    </tr>\n",
       "  </tbody>\n",
       "</table>\n",
       "</div>"
      ],
      "text/plain": [
       "   order_no_x           script_x transaction_x  qty_x  price_x order_no_y  \\\n",
       "0       close  SILVERMIC22APRFUT             B      1  68625.0    forward   \n",
       "1       close  SILVERMIC22APRFUT             B      1  68625.0    forward   \n",
       "2       close  SILVERMIC22APRFUT             B      1  68625.0    forward   \n",
       "3       close  SILVERMIC22APRFUT             B      1  68625.0    forward   \n",
       "4       close  SILVERMIC22APRFUT             B      1  68625.0    forward   \n",
       "5       close  SILVERMIC22APRFUT             B      1  68625.0    forward   \n",
       "6   210014749  SILVERMIC22APRFUT             B      1  68600.0  210046921   \n",
       "7   210014750  SILVERMIC22APRFUT             B      1  68604.0  210053852   \n",
       "8   210015963  SILVERMIC22APRFUT             B      1  68557.0  210055200   \n",
       "9   210028459  SILVERMIC22APRFUT             B      1  68425.0  210056894   \n",
       "10  210060975  SILVERMIC22APRFUT             B      1  68621.0  210068429   \n",
       "\n",
       "             script_y transaction_y  qty_y  price_y     PnL  \n",
       "0   SILVERMIC22APRFUT             S      1  67517.0 -1108.0  \n",
       "1   SILVERMIC22APRFUT             S      1  67517.0 -1108.0  \n",
       "2   SILVERMIC22APRFUT             S      1  67517.0 -1108.0  \n",
       "3   SILVERMIC22APRFUT             S      1  67517.0 -1108.0  \n",
       "4   SILVERMIC22APRFUT             S      1  67517.0 -1108.0  \n",
       "5   SILVERMIC22APRFUT             S      1  67517.0 -1108.0  \n",
       "6   SILVERMIC22APRFUT             S      1  68532.0   -68.0  \n",
       "7   SILVERMIC22APRFUT             S      1  68674.0    70.0  \n",
       "8   SILVERMIC22APRFUT             S      1  68703.0   146.0  \n",
       "9   SILVERMIC22APRFUT             S      1  68785.0   360.0  \n",
       "10  SILVERMIC22APRFUT             S      1  68772.0   151.0  "
      ]
     },
     "execution_count": 46,
     "metadata": {},
     "output_type": "execute_result"
    }
   ],
   "source": [
    "final_comp_APR"
   ]
  },
  {
   "cell_type": "code",
   "execution_count": 47,
   "id": "2d77eb3b",
   "metadata": {
    "execution": {
     "iopub.execute_input": "2022-03-18T15:09:09.938665Z",
     "iopub.status.busy": "2022-03-18T15:09:09.937932Z",
     "iopub.status.idle": "2022-03-18T15:09:09.961626Z",
     "shell.execute_reply": "2022-03-18T15:09:09.962373Z",
     "shell.execute_reply.started": "2022-03-18T14:54:42.210513Z"
    },
    "papermill": {
     "duration": 0.137043,
     "end_time": "2022-03-18T15:09:09.962612",
     "exception": false,
     "start_time": "2022-03-18T15:09:09.825569",
     "status": "completed"
    },
    "tags": []
   },
   "outputs": [
    {
     "name": "stdout",
     "output_type": "stream",
     "text": [
      "exit loop\n"
     ]
    }
   ],
   "source": [
    "buy, sell,mult_buy,mult_sell = get_trades(df=contact17,script='SILVERMIC22JUNFUT')\n",
    "\n",
    "#calculate sell items\n",
    "for i,qty in mult_sell['qty'].iteritems():\n",
    "    temp = make_single_1(dataf=mult_sell,qty=qty,index=i)\n",
    "    update_buy = insert_row(i,sell,temp)\n",
    "    sell = update_buy\n",
    "    print('exit loop')\n",
    "\n",
    "#calculate buy items\n",
    "for i,qty in mult_buy['qty'].iteritems():\n",
    "    temp = make_single_1(dataf=mult_buy,qty=qty,index=i)\n",
    "    update_buy = insert_row(i,buy,temp)\n",
    "    buy = update_buy\n",
    "    print('exit loop')\n",
    "buy.sort_values('order_no',inplace=True)\n",
    "sell.sort_values('order_no',inplace=True)"
   ]
  },
  {
   "cell_type": "code",
   "execution_count": 48,
   "id": "a3e0d64c",
   "metadata": {
    "execution": {
     "iopub.execute_input": "2022-03-18T15:09:10.193704Z",
     "iopub.status.busy": "2022-03-18T15:09:10.192778Z",
     "iopub.status.idle": "2022-03-18T15:09:10.195570Z",
     "shell.execute_reply": "2022-03-18T15:09:10.195069Z",
     "shell.execute_reply.started": "2022-03-18T14:55:39.889833Z"
    },
    "papermill": {
     "duration": 0.122996,
     "end_time": "2022-03-18T15:09:10.195711",
     "exception": false,
     "start_time": "2022-03-18T15:09:10.072715",
     "status": "completed"
    },
    "tags": []
   },
   "outputs": [],
   "source": [
    "jun_forward = carried_forward(order_no='forwarded',script='SILVERMIC22JUNFUT',transaction='B',\n",
    "                              qty=6,price=68327)\n",
    "jun_forward_close= carried_forward(order_no='close',script='SILVERMIC22JUNFUT',transaction='B',\n",
    "                              qty=6,price=69410)"
   ]
  },
  {
   "cell_type": "code",
   "execution_count": 49,
   "id": "465640ec",
   "metadata": {
    "execution": {
     "iopub.execute_input": "2022-03-18T15:09:10.431870Z",
     "iopub.status.busy": "2022-03-18T15:09:10.428292Z",
     "iopub.status.idle": "2022-03-18T15:09:10.450745Z",
     "shell.execute_reply": "2022-03-18T15:09:10.451335Z",
     "shell.execute_reply.started": "2022-03-18T14:56:14.278390Z"
    },
    "papermill": {
     "duration": 0.143466,
     "end_time": "2022-03-18T15:09:10.451534",
     "exception": false,
     "start_time": "2022-03-18T15:09:10.308068",
     "status": "completed"
    },
    "tags": []
   },
   "outputs": [],
   "source": [
    "sell = insert_row(0,sell,jun_forward)\n",
    "buy = insert_row(0,buy,jun_forward_close)\n",
    "\n",
    "final_comp_Jun = buy.merge(right=sell,right_index=True,left_index=True,how='left')\n",
    "final_comp_Jun['PnL'] = final_comp_Jun.price_x - final_comp_Jun.price_y\n",
    "final_comp_Jun.to_excel('Jun_Script.xls')"
   ]
  },
  {
   "cell_type": "code",
   "execution_count": 50,
   "id": "033562aa",
   "metadata": {
    "execution": {
     "iopub.execute_input": "2022-03-18T15:09:10.685314Z",
     "iopub.status.busy": "2022-03-18T15:09:10.684613Z",
     "iopub.status.idle": "2022-03-18T15:09:10.711224Z",
     "shell.execute_reply": "2022-03-18T15:09:10.711798Z",
     "shell.execute_reply.started": "2022-03-18T14:59:29.534272Z"
    },
    "papermill": {
     "duration": 0.144485,
     "end_time": "2022-03-18T15:09:10.711988",
     "exception": false,
     "start_time": "2022-03-18T15:09:10.567503",
     "status": "completed"
    },
    "tags": []
   },
   "outputs": [
    {
     "data": {
      "text/html": [
       "<div>\n",
       "<style scoped>\n",
       "    .dataframe tbody tr th:only-of-type {\n",
       "        vertical-align: middle;\n",
       "    }\n",
       "\n",
       "    .dataframe tbody tr th {\n",
       "        vertical-align: top;\n",
       "    }\n",
       "\n",
       "    .dataframe thead th {\n",
       "        text-align: right;\n",
       "    }\n",
       "</style>\n",
       "<table border=\"1\" class=\"dataframe\">\n",
       "  <thead>\n",
       "    <tr style=\"text-align: right;\">\n",
       "      <th></th>\n",
       "      <th>order_no_x</th>\n",
       "      <th>script_x</th>\n",
       "      <th>transaction_x</th>\n",
       "      <th>qty_x</th>\n",
       "      <th>price_x</th>\n",
       "      <th>order_no_y</th>\n",
       "      <th>script_y</th>\n",
       "      <th>transaction_y</th>\n",
       "      <th>qty_y</th>\n",
       "      <th>price_y</th>\n",
       "      <th>PnL</th>\n",
       "    </tr>\n",
       "  </thead>\n",
       "  <tbody>\n",
       "    <tr>\n",
       "      <th>0</th>\n",
       "      <td>close</td>\n",
       "      <td>SILVERMIC22JUNFUT</td>\n",
       "      <td>B</td>\n",
       "      <td>1</td>\n",
       "      <td>69410.0</td>\n",
       "      <td>forwarded</td>\n",
       "      <td>SILVERMIC22JUNFUT</td>\n",
       "      <td>B</td>\n",
       "      <td>1</td>\n",
       "      <td>68327.0</td>\n",
       "      <td>1083.0</td>\n",
       "    </tr>\n",
       "    <tr>\n",
       "      <th>1</th>\n",
       "      <td>close</td>\n",
       "      <td>SILVERMIC22JUNFUT</td>\n",
       "      <td>B</td>\n",
       "      <td>1</td>\n",
       "      <td>69410.0</td>\n",
       "      <td>forwarded</td>\n",
       "      <td>SILVERMIC22JUNFUT</td>\n",
       "      <td>B</td>\n",
       "      <td>1</td>\n",
       "      <td>68327.0</td>\n",
       "      <td>1083.0</td>\n",
       "    </tr>\n",
       "    <tr>\n",
       "      <th>2</th>\n",
       "      <td>close</td>\n",
       "      <td>SILVERMIC22JUNFUT</td>\n",
       "      <td>B</td>\n",
       "      <td>1</td>\n",
       "      <td>69410.0</td>\n",
       "      <td>forwarded</td>\n",
       "      <td>SILVERMIC22JUNFUT</td>\n",
       "      <td>B</td>\n",
       "      <td>1</td>\n",
       "      <td>68327.0</td>\n",
       "      <td>1083.0</td>\n",
       "    </tr>\n",
       "    <tr>\n",
       "      <th>3</th>\n",
       "      <td>close</td>\n",
       "      <td>SILVERMIC22JUNFUT</td>\n",
       "      <td>B</td>\n",
       "      <td>1</td>\n",
       "      <td>69410.0</td>\n",
       "      <td>forwarded</td>\n",
       "      <td>SILVERMIC22JUNFUT</td>\n",
       "      <td>B</td>\n",
       "      <td>1</td>\n",
       "      <td>68327.0</td>\n",
       "      <td>1083.0</td>\n",
       "    </tr>\n",
       "    <tr>\n",
       "      <th>4</th>\n",
       "      <td>close</td>\n",
       "      <td>SILVERMIC22JUNFUT</td>\n",
       "      <td>B</td>\n",
       "      <td>1</td>\n",
       "      <td>69410.0</td>\n",
       "      <td>forwarded</td>\n",
       "      <td>SILVERMIC22JUNFUT</td>\n",
       "      <td>B</td>\n",
       "      <td>1</td>\n",
       "      <td>68327.0</td>\n",
       "      <td>1083.0</td>\n",
       "    </tr>\n",
       "    <tr>\n",
       "      <th>5</th>\n",
       "      <td>close</td>\n",
       "      <td>SILVERMIC22JUNFUT</td>\n",
       "      <td>B</td>\n",
       "      <td>1</td>\n",
       "      <td>69410.0</td>\n",
       "      <td>forwarded</td>\n",
       "      <td>SILVERMIC22JUNFUT</td>\n",
       "      <td>B</td>\n",
       "      <td>1</td>\n",
       "      <td>68327.0</td>\n",
       "      <td>1083.0</td>\n",
       "    </tr>\n",
       "    <tr>\n",
       "      <th>6</th>\n",
       "      <td>210014685</td>\n",
       "      <td>SILVERMIC22JUNFUT</td>\n",
       "      <td>B</td>\n",
       "      <td>1</td>\n",
       "      <td>69387.0</td>\n",
       "      <td>210015627</td>\n",
       "      <td>SILVERMIC22JUNFUT</td>\n",
       "      <td>S</td>\n",
       "      <td>1</td>\n",
       "      <td>69342.0</td>\n",
       "      <td>45.0</td>\n",
       "    </tr>\n",
       "    <tr>\n",
       "      <th>7</th>\n",
       "      <td>210015708</td>\n",
       "      <td>SILVERMIC22JUNFUT</td>\n",
       "      <td>B</td>\n",
       "      <td>1</td>\n",
       "      <td>69346.0</td>\n",
       "      <td>210015628</td>\n",
       "      <td>SILVERMIC22JUNFUT</td>\n",
       "      <td>S</td>\n",
       "      <td>1</td>\n",
       "      <td>69341.0</td>\n",
       "      <td>5.0</td>\n",
       "    </tr>\n",
       "    <tr>\n",
       "      <th>8</th>\n",
       "      <td>210015729</td>\n",
       "      <td>SILVERMIC22JUNFUT</td>\n",
       "      <td>B</td>\n",
       "      <td>1</td>\n",
       "      <td>69340.0</td>\n",
       "      <td>210015629</td>\n",
       "      <td>SILVERMIC22JUNFUT</td>\n",
       "      <td>S</td>\n",
       "      <td>1</td>\n",
       "      <td>69340.0</td>\n",
       "      <td>0.0</td>\n",
       "    </tr>\n",
       "    <tr>\n",
       "      <th>9</th>\n",
       "      <td>210015768</td>\n",
       "      <td>SILVERMIC22JUNFUT</td>\n",
       "      <td>B</td>\n",
       "      <td>1</td>\n",
       "      <td>69340.0</td>\n",
       "      <td>210015630</td>\n",
       "      <td>SILVERMIC22JUNFUT</td>\n",
       "      <td>S</td>\n",
       "      <td>1</td>\n",
       "      <td>69340.0</td>\n",
       "      <td>0.0</td>\n",
       "    </tr>\n",
       "    <tr>\n",
       "      <th>10</th>\n",
       "      <td>210015853</td>\n",
       "      <td>SILVERMIC22JUNFUT</td>\n",
       "      <td>B</td>\n",
       "      <td>1</td>\n",
       "      <td>69338.0</td>\n",
       "      <td>210016028</td>\n",
       "      <td>SILVERMIC22JUNFUT</td>\n",
       "      <td>S</td>\n",
       "      <td>1</td>\n",
       "      <td>69330.0</td>\n",
       "      <td>8.0</td>\n",
       "    </tr>\n",
       "    <tr>\n",
       "      <th>11</th>\n",
       "      <td>210016183</td>\n",
       "      <td>SILVERMIC22JUNFUT</td>\n",
       "      <td>B</td>\n",
       "      <td>1</td>\n",
       "      <td>69338.0</td>\n",
       "      <td>210016029</td>\n",
       "      <td>SILVERMIC22JUNFUT</td>\n",
       "      <td>S</td>\n",
       "      <td>1</td>\n",
       "      <td>69330.0</td>\n",
       "      <td>8.0</td>\n",
       "    </tr>\n",
       "    <tr>\n",
       "      <th>12</th>\n",
       "      <td>210016335</td>\n",
       "      <td>SILVERMIC22JUNFUT</td>\n",
       "      <td>B</td>\n",
       "      <td>1</td>\n",
       "      <td>69330.0</td>\n",
       "      <td>210016030</td>\n",
       "      <td>SILVERMIC22JUNFUT</td>\n",
       "      <td>S</td>\n",
       "      <td>1</td>\n",
       "      <td>69326.0</td>\n",
       "      <td>4.0</td>\n",
       "    </tr>\n",
       "    <tr>\n",
       "      <th>13</th>\n",
       "      <td>210017505</td>\n",
       "      <td>SILVERMIC22JUNFUT</td>\n",
       "      <td>B</td>\n",
       "      <td>1</td>\n",
       "      <td>69276.0</td>\n",
       "      <td>210017528</td>\n",
       "      <td>SILVERMIC22JUNFUT</td>\n",
       "      <td>S</td>\n",
       "      <td>1</td>\n",
       "      <td>69268.0</td>\n",
       "      <td>8.0</td>\n",
       "    </tr>\n",
       "    <tr>\n",
       "      <th>14</th>\n",
       "      <td>210017831</td>\n",
       "      <td>SILVERMIC22JUNFUT</td>\n",
       "      <td>B</td>\n",
       "      <td>1</td>\n",
       "      <td>69298.0</td>\n",
       "      <td>210057513</td>\n",
       "      <td>SILVERMIC22JUNFUT</td>\n",
       "      <td>S</td>\n",
       "      <td>1</td>\n",
       "      <td>69555.0</td>\n",
       "      <td>-257.0</td>\n",
       "    </tr>\n",
       "    <tr>\n",
       "      <th>15</th>\n",
       "      <td>210058174</td>\n",
       "      <td>SILVERMIC22JUNFUT</td>\n",
       "      <td>B</td>\n",
       "      <td>1</td>\n",
       "      <td>69533.0</td>\n",
       "      <td>210057938</td>\n",
       "      <td>SILVERMIC22JUNFUT</td>\n",
       "      <td>S</td>\n",
       "      <td>1</td>\n",
       "      <td>69517.0</td>\n",
       "      <td>16.0</td>\n",
       "    </tr>\n",
       "    <tr>\n",
       "      <th>16</th>\n",
       "      <td>210058174</td>\n",
       "      <td>SILVERMIC22JUNFUT</td>\n",
       "      <td>B</td>\n",
       "      <td>1</td>\n",
       "      <td>69533.0</td>\n",
       "      <td>210057939</td>\n",
       "      <td>SILVERMIC22JUNFUT</td>\n",
       "      <td>S</td>\n",
       "      <td>1</td>\n",
       "      <td>69516.0</td>\n",
       "      <td>17.0</td>\n",
       "    </tr>\n",
       "    <tr>\n",
       "      <th>17</th>\n",
       "      <td>210058174</td>\n",
       "      <td>SILVERMIC22JUNFUT</td>\n",
       "      <td>B</td>\n",
       "      <td>1</td>\n",
       "      <td>69533.0</td>\n",
       "      <td>210057940</td>\n",
       "      <td>SILVERMIC22JUNFUT</td>\n",
       "      <td>S</td>\n",
       "      <td>1</td>\n",
       "      <td>69515.0</td>\n",
       "      <td>18.0</td>\n",
       "    </tr>\n",
       "    <tr>\n",
       "      <th>18</th>\n",
       "      <td>210058512</td>\n",
       "      <td>SILVERMIC22JUNFUT</td>\n",
       "      <td>B</td>\n",
       "      <td>1</td>\n",
       "      <td>69482.0</td>\n",
       "      <td>210058331</td>\n",
       "      <td>SILVERMIC22JUNFUT</td>\n",
       "      <td>S</td>\n",
       "      <td>1</td>\n",
       "      <td>69495.0</td>\n",
       "      <td>-13.0</td>\n",
       "    </tr>\n",
       "    <tr>\n",
       "      <th>19</th>\n",
       "      <td>210116021</td>\n",
       "      <td>SILVERMIC22JUNFUT</td>\n",
       "      <td>B</td>\n",
       "      <td>1</td>\n",
       "      <td>69589.0</td>\n",
       "      <td>210115927</td>\n",
       "      <td>SILVERMIC22JUNFUT</td>\n",
       "      <td>S</td>\n",
       "      <td>1</td>\n",
       "      <td>69596.0</td>\n",
       "      <td>-7.0</td>\n",
       "    </tr>\n",
       "    <tr>\n",
       "      <th>20</th>\n",
       "      <td>210116052</td>\n",
       "      <td>SILVERMIC22JUNFUT</td>\n",
       "      <td>B</td>\n",
       "      <td>1</td>\n",
       "      <td>69592.0</td>\n",
       "      <td>210115928</td>\n",
       "      <td>SILVERMIC22JUNFUT</td>\n",
       "      <td>S</td>\n",
       "      <td>1</td>\n",
       "      <td>69592.0</td>\n",
       "      <td>0.0</td>\n",
       "    </tr>\n",
       "    <tr>\n",
       "      <th>21</th>\n",
       "      <td>210116080</td>\n",
       "      <td>SILVERMIC22JUNFUT</td>\n",
       "      <td>B</td>\n",
       "      <td>1</td>\n",
       "      <td>69600.0</td>\n",
       "      <td>210115929</td>\n",
       "      <td>SILVERMIC22JUNFUT</td>\n",
       "      <td>S</td>\n",
       "      <td>1</td>\n",
       "      <td>69591.0</td>\n",
       "      <td>9.0</td>\n",
       "    </tr>\n",
       "    <tr>\n",
       "      <th>22</th>\n",
       "      <td>210122082</td>\n",
       "      <td>SILVERMIC22JUNFUT</td>\n",
       "      <td>B</td>\n",
       "      <td>1</td>\n",
       "      <td>69566.0</td>\n",
       "      <td>210121707</td>\n",
       "      <td>SILVERMIC22JUNFUT</td>\n",
       "      <td>S</td>\n",
       "      <td>1</td>\n",
       "      <td>69548.0</td>\n",
       "      <td>18.0</td>\n",
       "    </tr>\n",
       "    <tr>\n",
       "      <th>23</th>\n",
       "      <td>210122377</td>\n",
       "      <td>SILVERMIC22JUNFUT</td>\n",
       "      <td>B</td>\n",
       "      <td>1</td>\n",
       "      <td>69586.0</td>\n",
       "      <td>210122294</td>\n",
       "      <td>SILVERMIC22JUNFUT</td>\n",
       "      <td>S</td>\n",
       "      <td>1</td>\n",
       "      <td>69566.0</td>\n",
       "      <td>20.0</td>\n",
       "    </tr>\n",
       "    <tr>\n",
       "      <th>24</th>\n",
       "      <td>210122398</td>\n",
       "      <td>SILVERMIC22JUNFUT</td>\n",
       "      <td>B</td>\n",
       "      <td>1</td>\n",
       "      <td>69589.0</td>\n",
       "      <td>210122295</td>\n",
       "      <td>SILVERMIC22JUNFUT</td>\n",
       "      <td>S</td>\n",
       "      <td>1</td>\n",
       "      <td>69565.0</td>\n",
       "      <td>24.0</td>\n",
       "    </tr>\n",
       "  </tbody>\n",
       "</table>\n",
       "</div>"
      ],
      "text/plain": [
       "   order_no_x           script_x transaction_x  qty_x  price_x order_no_y  \\\n",
       "0       close  SILVERMIC22JUNFUT             B      1  69410.0  forwarded   \n",
       "1       close  SILVERMIC22JUNFUT             B      1  69410.0  forwarded   \n",
       "2       close  SILVERMIC22JUNFUT             B      1  69410.0  forwarded   \n",
       "3       close  SILVERMIC22JUNFUT             B      1  69410.0  forwarded   \n",
       "4       close  SILVERMIC22JUNFUT             B      1  69410.0  forwarded   \n",
       "5       close  SILVERMIC22JUNFUT             B      1  69410.0  forwarded   \n",
       "6   210014685  SILVERMIC22JUNFUT             B      1  69387.0  210015627   \n",
       "7   210015708  SILVERMIC22JUNFUT             B      1  69346.0  210015628   \n",
       "8   210015729  SILVERMIC22JUNFUT             B      1  69340.0  210015629   \n",
       "9   210015768  SILVERMIC22JUNFUT             B      1  69340.0  210015630   \n",
       "10  210015853  SILVERMIC22JUNFUT             B      1  69338.0  210016028   \n",
       "11  210016183  SILVERMIC22JUNFUT             B      1  69338.0  210016029   \n",
       "12  210016335  SILVERMIC22JUNFUT             B      1  69330.0  210016030   \n",
       "13  210017505  SILVERMIC22JUNFUT             B      1  69276.0  210017528   \n",
       "14  210017831  SILVERMIC22JUNFUT             B      1  69298.0  210057513   \n",
       "15  210058174  SILVERMIC22JUNFUT             B      1  69533.0  210057938   \n",
       "16  210058174  SILVERMIC22JUNFUT             B      1  69533.0  210057939   \n",
       "17  210058174  SILVERMIC22JUNFUT             B      1  69533.0  210057940   \n",
       "18  210058512  SILVERMIC22JUNFUT             B      1  69482.0  210058331   \n",
       "19  210116021  SILVERMIC22JUNFUT             B      1  69589.0  210115927   \n",
       "20  210116052  SILVERMIC22JUNFUT             B      1  69592.0  210115928   \n",
       "21  210116080  SILVERMIC22JUNFUT             B      1  69600.0  210115929   \n",
       "22  210122082  SILVERMIC22JUNFUT             B      1  69566.0  210121707   \n",
       "23  210122377  SILVERMIC22JUNFUT             B      1  69586.0  210122294   \n",
       "24  210122398  SILVERMIC22JUNFUT             B      1  69589.0  210122295   \n",
       "\n",
       "             script_y transaction_y  qty_y  price_y     PnL  \n",
       "0   SILVERMIC22JUNFUT             B      1  68327.0  1083.0  \n",
       "1   SILVERMIC22JUNFUT             B      1  68327.0  1083.0  \n",
       "2   SILVERMIC22JUNFUT             B      1  68327.0  1083.0  \n",
       "3   SILVERMIC22JUNFUT             B      1  68327.0  1083.0  \n",
       "4   SILVERMIC22JUNFUT             B      1  68327.0  1083.0  \n",
       "5   SILVERMIC22JUNFUT             B      1  68327.0  1083.0  \n",
       "6   SILVERMIC22JUNFUT             S      1  69342.0    45.0  \n",
       "7   SILVERMIC22JUNFUT             S      1  69341.0     5.0  \n",
       "8   SILVERMIC22JUNFUT             S      1  69340.0     0.0  \n",
       "9   SILVERMIC22JUNFUT             S      1  69340.0     0.0  \n",
       "10  SILVERMIC22JUNFUT             S      1  69330.0     8.0  \n",
       "11  SILVERMIC22JUNFUT             S      1  69330.0     8.0  \n",
       "12  SILVERMIC22JUNFUT             S      1  69326.0     4.0  \n",
       "13  SILVERMIC22JUNFUT             S      1  69268.0     8.0  \n",
       "14  SILVERMIC22JUNFUT             S      1  69555.0  -257.0  \n",
       "15  SILVERMIC22JUNFUT             S      1  69517.0    16.0  \n",
       "16  SILVERMIC22JUNFUT             S      1  69516.0    17.0  \n",
       "17  SILVERMIC22JUNFUT             S      1  69515.0    18.0  \n",
       "18  SILVERMIC22JUNFUT             S      1  69495.0   -13.0  \n",
       "19  SILVERMIC22JUNFUT             S      1  69596.0    -7.0  \n",
       "20  SILVERMIC22JUNFUT             S      1  69592.0     0.0  \n",
       "21  SILVERMIC22JUNFUT             S      1  69591.0     9.0  \n",
       "22  SILVERMIC22JUNFUT             S      1  69548.0    18.0  \n",
       "23  SILVERMIC22JUNFUT             S      1  69566.0    20.0  \n",
       "24  SILVERMIC22JUNFUT             S      1  69565.0    24.0  "
      ]
     },
     "execution_count": 50,
     "metadata": {},
     "output_type": "execute_result"
    }
   ],
   "source": [
    "final_comp_Jun"
   ]
  },
  {
   "cell_type": "markdown",
   "id": "c1091f13",
   "metadata": {
    "papermill": {
     "duration": 0.115911,
     "end_time": "2022-03-18T15:09:10.940673",
     "exception": false,
     "start_time": "2022-03-18T15:09:10.824762",
     "status": "completed"
    },
    "tags": []
   },
   "source": [
    "Things I have learnt:\n",
    "\n",
    "Insert method needs values in numpy array format.\n",
    "\n",
    "In order to convert the series values in dataframe, have to encapsulate the Series inside []  and then pass into pd.dataframe()\n",
    "\n",
    "When the index is referred for the existing dataframe, the location of the data insertion is not always correct. Need to use alternate method\n",
    "\n",
    "The way of iterating the dataframe is using df.iteritems() method. This will give the complete row of the data frame, and df.index() will refer to index in the dataframe\n",
    "\n",
    "Droping the row is simply df.drop(row_index,inplace=True)\n",
    "\n",
    "index = [x for x in pd.RangeIndex(13,21,1)] using this route \n",
    "\n",
    "What I need to learn is, there a way to position the data exactly in the location we want.\n",
    "\n",
    "Using the Re-index and the append method in tandem with loc indexes, the rows can be effectively inserted into the dataframe... That is a long ardous way to learn about data frame manipulations... "
   ]
  },
  {
   "cell_type": "code",
   "execution_count": 51,
   "id": "a16445e7",
   "metadata": {
    "execution": {
     "iopub.execute_input": "2022-03-18T15:09:11.171632Z",
     "iopub.status.busy": "2022-03-18T15:09:11.170960Z",
     "iopub.status.idle": "2022-03-18T15:09:11.177394Z",
     "shell.execute_reply": "2022-03-18T15:09:11.178091Z",
     "shell.execute_reply.started": "2022-03-18T14:11:20.627244Z"
    },
    "papermill": {
     "duration": 0.121261,
     "end_time": "2022-03-18T15:09:11.178282",
     "exception": false,
     "start_time": "2022-03-18T15:09:11.057021",
     "status": "completed"
    },
    "tags": []
   },
   "outputs": [],
   "source": [
    "# extract the lines that having qty more than one,using the make_single()\n",
    "#get qty first\n",
    "for i, qty in enumerate(buy.qty):\n",
    "    if qty > 1:\n",
    "        values = buy.iloc[i]\n",
    "        values[3] = 1 #Here i am changing the qty to 1\n",
    "        df=pd.DataFrame()\n",
    "        for q in range(qty-1):\n",
    "            df = pd.concat([df,values])\n",
    "        buy.drop(loc_i+1,inplace=True)"
   ]
  },
  {
   "cell_type": "code",
   "execution_count": 52,
   "id": "d3b84b15",
   "metadata": {
    "execution": {
     "iopub.execute_input": "2022-03-18T15:09:11.406800Z",
     "iopub.status.busy": "2022-03-18T15:09:11.406119Z",
     "iopub.status.idle": "2022-03-18T15:09:11.413190Z",
     "shell.execute_reply": "2022-03-18T15:09:11.413807Z",
     "shell.execute_reply.started": "2022-03-18T14:11:20.636417Z"
    },
    "papermill": {
     "duration": 0.121789,
     "end_time": "2022-03-18T15:09:11.414009",
     "exception": false,
     "start_time": "2022-03-18T15:09:11.292220",
     "status": "completed"
    },
    "tags": []
   },
   "outputs": [],
   "source": [
    "# extract the lines that having qty more than one,using the make_single()\n",
    "#get qty first\n",
    "for i, qty in enumerate(buy.qty):\n",
    "    if qty > 1:\n",
    "        print('entry index {}'.format(i))\n",
    "        print(qty)\n",
    "        values = buy.iloc[i]\n",
    "        values[3] = 1 #Here i am changing the qty to 1\n",
    "        loc_i = i\n",
    "        for q in range(qty-1):\n",
    "            df = pd.DataFrame(np.insert(buy.values, loc_i, values=values, axis=0))\n",
    "            df.columns = buy.columns\n",
    "            buy = df #re-assign to the source dataframe\n",
    "            loc_i = loc_i+1\n",
    "        print('local index {}'.format(loc_i))\n",
    "        buy.drop(loc_i+1,inplace=True)"
   ]
  },
  {
   "cell_type": "code",
   "execution_count": 53,
   "id": "8921d8ba",
   "metadata": {
    "execution": {
     "iopub.execute_input": "2022-03-18T15:09:11.639624Z",
     "iopub.status.busy": "2022-03-18T15:09:11.638962Z",
     "iopub.status.idle": "2022-03-18T15:09:11.644875Z",
     "shell.execute_reply": "2022-03-18T15:09:11.645573Z",
     "shell.execute_reply.started": "2022-03-18T14:11:20.647346Z"
    },
    "papermill": {
     "duration": 0.121615,
     "end_time": "2022-03-18T15:09:11.645809",
     "exception": false,
     "start_time": "2022-03-18T15:09:11.524194",
     "status": "completed"
    },
    "tags": []
   },
   "outputs": [
    {
     "name": "stdout",
     "output_type": "stream",
     "text": [
      "../input/contract-notes/2022-03-08-contract-notes_DM3955.pdf\n",
      "../input/contract-notes/2022-03-09-contract-notes_DM3955.pdf\n",
      "../input/contract-notes/2022-03-07-contract-notes_DM3955.pdf\n",
      "../input/contract-notes/2022-03-17-contract-notes_DM3955.pdf\n",
      "../input/contract-notes/2022-03-16-contract-notes_DM3955.pdf\n",
      "../input/contract-notes/2022-03-15-contract-notes_DM3955.pdf\n",
      "../input/contract-notes/2022-03-11-contract-notes_DM3955.pdf\n",
      "../input/contract-notes/2022-03-10-contract-notes_DM3955.pdf\n",
      "../input/contract-notes/2022-03-14-contract-notes_DM3955.pdf\n"
     ]
    }
   ],
   "source": [
    "import os\n",
    "directory = '../input/contract-notes'\n",
    "for filename in os.listdir(directory):\n",
    "    if filename.endswith(\".pdf\"): \n",
    "         print(os.path.join(directory, filename))"
   ]
  }
 ],
 "metadata": {
  "kernelspec": {
   "display_name": "Python 3",
   "language": "python",
   "name": "python3"
  },
  "language_info": {
   "codemirror_mode": {
    "name": "ipython",
    "version": 3
   },
   "file_extension": ".py",
   "mimetype": "text/x-python",
   "name": "python",
   "nbconvert_exporter": "python",
   "pygments_lexer": "ipython3",
   "version": "3.7.12"
  },
  "papermill": {
   "default_parameters": {},
   "duration": 124.243966,
   "end_time": "2022-03-18T15:09:12.667234",
   "environment_variables": {},
   "exception": null,
   "input_path": "__notebook__.ipynb",
   "output_path": "__notebook__.ipynb",
   "parameters": {},
   "start_time": "2022-03-18T15:07:08.423268",
   "version": "2.3.3"
  }
 },
 "nbformat": 4,
 "nbformat_minor": 5
}

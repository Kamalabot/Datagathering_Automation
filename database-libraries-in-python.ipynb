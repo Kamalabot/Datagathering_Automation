{
 "cells": [
  {
   "cell_type": "markdown",
   "metadata": {
    "_kg_hide-input": true,
    "papermill": {
     "duration": 0.028839,
     "end_time": "2022-02-16T16:52:16.190698",
     "exception": false,
     "start_time": "2022-02-16T16:52:16.161859",
     "status": "completed"
    },
    "tags": []
   },
   "source": [
    "### Inspiration to work with SMALL DATA\n",
    "\n",
    "Being new to Datascience, I was fascinated with the dearth of data in Google Big Data repository. The intro courses on SQL gave hands on with the couple of databases that are hosted on the Google cloud. \n",
    "\n",
    "To access the Bigdata databases, there is the Big Query library with many wrapper functions. I wanted to dive a bit deeper and setup the Bigquery library in my local machine VS Code environment. But library was not installing and working as expected. There could be some environment conflicts, which I was unable to figure out. I also wanted to learn SQL query more deeply, and keep notes of my learnings.\n",
    "\n",
    "When I searched around there were many notebooks which used Big query only. I felt that, before accessing more complex database, baby steps needs to be taken by working with traditional SMALL DATA. So the notebook came into existence...\n",
    "\n",
    "(I used this notebook as an opportunity to refresh my memory too...)"
   ]
  },
  {
   "cell_type": "markdown",
   "metadata": {
    "papermill": {
     "duration": 0.025294,
     "end_time": "2022-02-16T16:52:16.245066",
     "exception": false,
     "start_time": "2022-02-16T16:52:16.219772",
     "status": "completed"
    },
    "tags": []
   },
   "source": [
    "### What to expect? \n",
    "\n",
    "1) 3 ways to access SQLite databases, create tables, insert and read data\n",
    "\n",
    "2) This notebook is like a memory hooks, or heuristic to create quick and dirty databases, and ways to access it. Those who have completed the Intro SQL and Advanced SQL in Kaggle, looking for setting up databases, that they can query themselves \n",
    "\n",
    "3) To the point commands to \n",
    "\n",
    "    Creating Database files\n",
    "    \n",
    "    Setup connection to database\n",
    "    \n",
    "    Creating tables \n",
    "    \n",
    "    Inserting data into tables\n",
    "    \n",
    "    Querying the tables\n",
    "    \n",
    "    Wrapper functions\n",
    "\n",
    "### What not to expect?\n",
    "\n",
    "    Indepth consideration of the libraries mentioned\n",
    "\n",
    "    Advanced SQL queries or receipes\n",
    "\n",
    "Lets Query in...Come on"
   ]
  },
  {
   "cell_type": "markdown",
   "metadata": {
    "papermill": {
     "duration": 0.026852,
     "end_time": "2022-02-16T16:52:16.297138",
     "exception": false,
     "start_time": "2022-02-16T16:52:16.270286",
     "status": "completed"
    },
    "tags": []
   },
   "source": [
    "Acknowledgements\n",
    "\n",
    "https://dataset.readthedocs.io/en/latest/\n",
    "\n",
    "https://docs.python.org/3/library/sqlite3.html\n",
    "\n",
    "https://docs.sqlalchemy.org/en/14/core/connections.html\n",
    "\n",
    "Thanks to Tutorialspoint for their information on SQLite implementations..."
   ]
  },
  {
   "cell_type": "code",
   "execution_count": 1,
   "metadata": {
    "_kg_hide-input": true,
    "_kg_hide-output": true,
    "execution": {
     "iopub.execute_input": "2022-02-16T16:52:16.351863Z",
     "iopub.status.busy": "2022-02-16T16:52:16.351227Z",
     "iopub.status.idle": "2022-02-16T16:52:24.707292Z",
     "shell.execute_reply": "2022-02-16T16:52:24.706261Z",
     "shell.execute_reply.started": "2022-02-16T16:06:06.987390Z"
    },
    "papermill": {
     "duration": 8.385097,
     "end_time": "2022-02-16T16:52:24.707516",
     "exception": false,
     "start_time": "2022-02-16T16:52:16.322419",
     "status": "completed"
    },
    "tags": []
   },
   "outputs": [
    {
     "name": "stdout",
     "output_type": "stream",
     "text": [
      "Collecting dataset\r\n",
      "  Downloading dataset-1.5.2-py2.py3-none-any.whl (18 kB)\r\n",
      "Requirement already satisfied: sqlalchemy>=1.3.2 in /opt/conda/lib/python3.7/site-packages (from dataset) (1.3.22)\r\n",
      "Requirement already satisfied: alembic>=0.6.2 in /opt/conda/lib/python3.7/site-packages (from dataset) (1.5.4)\r\n",
      "Collecting banal>=1.0.1\r\n",
      "  Downloading banal-1.0.6-py2.py3-none-any.whl (6.1 kB)\r\n",
      "Requirement already satisfied: python-dateutil in /opt/conda/lib/python3.7/site-packages (from alembic>=0.6.2->dataset) (2.8.1)\r\n",
      "Requirement already satisfied: Mako in /opt/conda/lib/python3.7/site-packages (from alembic>=0.6.2->dataset) (1.1.4)\r\n",
      "Requirement already satisfied: python-editor>=0.3 in /opt/conda/lib/python3.7/site-packages (from alembic>=0.6.2->dataset) (1.0.4)\r\n",
      "Requirement already satisfied: MarkupSafe>=0.9.2 in /opt/conda/lib/python3.7/site-packages (from Mako->alembic>=0.6.2->dataset) (1.1.1)\r\n",
      "Requirement already satisfied: six>=1.5 in /opt/conda/lib/python3.7/site-packages (from python-dateutil->alembic>=0.6.2->dataset) (1.15.0)\r\n",
      "Installing collected packages: banal, dataset\r\n",
      "Successfully installed banal-1.0.6 dataset-1.5.2\r\n",
      "\u001b[33mWARNING: You are using pip version 21.0.1; however, version 22.0.3 is available.\r\n",
      "You should consider upgrading via the '/opt/conda/bin/python -m pip install --upgrade pip' command.\u001b[0m\r\n",
      "Note: you may need to restart the kernel to use updated packages.\n"
     ]
    }
   ],
   "source": [
    "%pip install dataset"
   ]
  },
  {
   "cell_type": "code",
   "execution_count": 2,
   "metadata": {
    "execution": {
     "iopub.execute_input": "2022-02-16T16:52:24.769826Z",
     "iopub.status.busy": "2022-02-16T16:52:24.769191Z",
     "iopub.status.idle": "2022-02-16T16:52:24.926003Z",
     "shell.execute_reply": "2022-02-16T16:52:24.925460Z",
     "shell.execute_reply.started": "2022-02-16T16:06:49.608138Z"
    },
    "papermill": {
     "duration": 0.189892,
     "end_time": "2022-02-16T16:52:24.926180",
     "exception": false,
     "start_time": "2022-02-16T16:52:24.736288",
     "status": "completed"
    },
    "tags": []
   },
   "outputs": [],
   "source": [
    "import sqlite3\n",
    "from sqlite3 import Error #\n",
    "\n",
    "import sqlalchemy # This is required for running the queries directly on the notebook\n",
    "\n",
    "import dataset # Bringing in the dataset library\n"
   ]
  },
  {
   "cell_type": "markdown",
   "metadata": {
    "papermill": {
     "duration": 0.028235,
     "end_time": "2022-02-16T16:52:24.983213",
     "exception": false,
     "start_time": "2022-02-16T16:52:24.954978",
     "status": "completed"
    },
    "tags": []
   },
   "source": [
    "# Method 1: Using dataset Library"
   ]
  },
  {
   "cell_type": "code",
   "execution_count": 3,
   "metadata": {
    "_cell_guid": "b1076dfc-b9ad-4769-8c92-a6c4dae69d19",
    "_uuid": "8f2839f25d086af736a60e9eeb907d3b93b6e0e5",
    "execution": {
     "iopub.execute_input": "2022-02-16T16:52:25.045129Z",
     "iopub.status.busy": "2022-02-16T16:52:25.044391Z",
     "iopub.status.idle": "2022-02-16T16:52:25.056281Z",
     "shell.execute_reply": "2022-02-16T16:52:25.055726Z",
     "shell.execute_reply.started": "2022-02-16T15:19:00.153615Z"
    },
    "papermill": {
     "duration": 0.045093,
     "end_time": "2022-02-16T16:52:25.056432",
     "exception": false,
     "start_time": "2022-02-16T16:52:25.011339",
     "status": "completed"
    },
    "tags": []
   },
   "outputs": [],
   "source": [
    "db1 = dataset.connect('sqlite:///exampleDB1.db') # creating and connecting to database library"
   ]
  },
  {
   "cell_type": "code",
   "execution_count": 4,
   "metadata": {
    "execution": {
     "iopub.execute_input": "2022-02-16T16:52:25.120002Z",
     "iopub.status.busy": "2022-02-16T16:52:25.119130Z",
     "iopub.status.idle": "2022-02-16T16:52:25.147475Z",
     "shell.execute_reply": "2022-02-16T16:52:25.146871Z",
     "shell.execute_reply.started": "2022-02-16T15:19:03.544050Z"
    },
    "papermill": {
     "duration": 0.062115,
     "end_time": "2022-02-16T16:52:25.147616",
     "exception": false,
     "start_time": "2022-02-16T16:52:25.085501",
     "status": "completed"
    },
    "tags": []
   },
   "outputs": [
    {
     "data": {
      "text/plain": [
       "<Table(mytable)>"
      ]
     },
     "execution_count": 4,
     "metadata": {},
     "output_type": "execute_result"
    }
   ],
   "source": [
    "#Creating table with dataset library. It is very similar to Pandas Dataframe.\n",
    "db1['mytable'] # using the API method to create and instantiate the new table  "
   ]
  },
  {
   "cell_type": "code",
   "execution_count": 5,
   "metadata": {
    "execution": {
     "iopub.execute_input": "2022-02-16T16:52:25.208598Z",
     "iopub.status.busy": "2022-02-16T16:52:25.207967Z",
     "iopub.status.idle": "2022-02-16T16:52:25.210728Z",
     "shell.execute_reply": "2022-02-16T16:52:25.210272Z",
     "shell.execute_reply.started": "2022-02-16T15:19:08.027531Z"
    },
    "papermill": {
     "duration": 0.034584,
     "end_time": "2022-02-16T16:52:25.210842",
     "exception": false,
     "start_time": "2022-02-16T16:52:25.176258",
     "status": "completed"
    },
    "tags": []
   },
   "outputs": [],
   "source": [
    "#Creating instance of the database table\n",
    "tbl = db1['mytable']"
   ]
  },
  {
   "cell_type": "code",
   "execution_count": 6,
   "metadata": {
    "execution": {
     "iopub.execute_input": "2022-02-16T16:52:25.272405Z",
     "iopub.status.busy": "2022-02-16T16:52:25.271730Z",
     "iopub.status.idle": "2022-02-16T16:52:25.299411Z",
     "shell.execute_reply": "2022-02-16T16:52:25.298764Z",
     "shell.execute_reply.started": "2022-02-16T15:20:04.373369Z"
    },
    "papermill": {
     "duration": 0.060339,
     "end_time": "2022-02-16T16:52:25.299562",
     "exception": false,
     "start_time": "2022-02-16T16:52:25.239223",
     "status": "completed"
    },
    "tags": []
   },
   "outputs": [
    {
     "data": {
      "text/plain": [
       "1"
      ]
     },
     "execution_count": 6,
     "metadata": {},
     "output_type": "execute_result"
    }
   ],
   "source": [
    "#Method 1 to Insert data. \n",
    "tbl.insert({ 'text' : 'Teddy','status' : 'Toy' })"
   ]
  },
  {
   "cell_type": "code",
   "execution_count": 7,
   "metadata": {
    "execution": {
     "iopub.execute_input": "2022-02-16T16:52:25.362547Z",
     "iopub.status.busy": "2022-02-16T16:52:25.361941Z",
     "iopub.status.idle": "2022-02-16T16:52:25.370761Z",
     "shell.execute_reply": "2022-02-16T16:52:25.370237Z",
     "shell.execute_reply.started": "2022-02-16T15:20:06.378511Z"
    },
    "papermill": {
     "duration": 0.042191,
     "end_time": "2022-02-16T16:52:25.370886",
     "exception": false,
     "start_time": "2022-02-16T16:52:25.328695",
     "status": "completed"
    },
    "tags": []
   },
   "outputs": [
    {
     "data": {
      "text/plain": [
       "2"
      ]
     },
     "execution_count": 7,
     "metadata": {},
     "output_type": "execute_result"
    }
   ],
   "source": [
    "tbl.insert({ 'text' : 'Bear','status' : 'Animal' })"
   ]
  },
  {
   "cell_type": "code",
   "execution_count": 8,
   "metadata": {
    "execution": {
     "iopub.execute_input": "2022-02-16T16:52:25.434081Z",
     "iopub.status.busy": "2022-02-16T16:52:25.433514Z",
     "iopub.status.idle": "2022-02-16T16:52:25.445956Z",
     "shell.execute_reply": "2022-02-16T16:52:25.445477Z",
     "shell.execute_reply.started": "2022-02-16T15:20:10.148587Z"
    },
    "papermill": {
     "duration": 0.046201,
     "end_time": "2022-02-16T16:52:25.446105",
     "exception": false,
     "start_time": "2022-02-16T16:52:25.399904",
     "status": "completed"
    },
    "tags": []
   },
   "outputs": [],
   "source": [
    "#Method 2 to insert data.\n",
    "m_id = db1['mytable'].insert({ 'text' : 'mailing',\n",
    "                                         'status' : 'Done' })\n",
    "m_id = db1['mytable'].insert({ 'text' : 'writing',\n",
    "                                         'status' : 'Progress' })"
   ]
  },
  {
   "cell_type": "code",
   "execution_count": 9,
   "metadata": {
    "execution": {
     "iopub.execute_input": "2022-02-16T16:52:25.507062Z",
     "iopub.status.busy": "2022-02-16T16:52:25.506458Z",
     "iopub.status.idle": "2022-02-16T16:52:25.511256Z",
     "shell.execute_reply": "2022-02-16T16:52:25.510753Z",
     "shell.execute_reply.started": "2022-02-16T15:20:21.268967Z"
    },
    "papermill": {
     "duration": 0.036716,
     "end_time": "2022-02-16T16:52:25.511382",
     "exception": false,
     "start_time": "2022-02-16T16:52:25.474666",
     "status": "completed"
    },
    "tags": []
   },
   "outputs": [
    {
     "data": {
      "text/plain": [
       "['mytable']"
      ]
     },
     "execution_count": 9,
     "metadata": {},
     "output_type": "execute_result"
    }
   ],
   "source": [
    "#Listing the tables in the database\n",
    "db1.tables"
   ]
  },
  {
   "cell_type": "code",
   "execution_count": 10,
   "metadata": {
    "execution": {
     "iopub.execute_input": "2022-02-16T16:52:25.575479Z",
     "iopub.status.busy": "2022-02-16T16:52:25.574867Z",
     "iopub.status.idle": "2022-02-16T16:52:25.578604Z",
     "shell.execute_reply": "2022-02-16T16:52:25.578070Z",
     "shell.execute_reply.started": "2022-02-16T16:47:09.289861Z"
    },
    "papermill": {
     "duration": 0.037251,
     "end_time": "2022-02-16T16:52:25.578730",
     "exception": false,
     "start_time": "2022-02-16T16:52:25.541479",
     "status": "completed"
    },
    "tags": []
   },
   "outputs": [
    {
     "data": {
      "text/plain": [
       "['id', 'text', 'status']"
      ]
     },
     "execution_count": 10,
     "metadata": {},
     "output_type": "execute_result"
    }
   ],
   "source": [
    "#Listing the columns in the selected table\n",
    "tbl.columns"
   ]
  },
  {
   "cell_type": "code",
   "execution_count": 11,
   "metadata": {
    "execution": {
     "iopub.execute_input": "2022-02-16T16:52:25.642788Z",
     "iopub.status.busy": "2022-02-16T16:52:25.642213Z",
     "iopub.status.idle": "2022-02-16T16:52:25.646881Z",
     "shell.execute_reply": "2022-02-16T16:52:25.646303Z",
     "shell.execute_reply.started": "2022-02-16T15:20:42.258693Z"
    },
    "papermill": {
     "duration": 0.038296,
     "end_time": "2022-02-16T16:52:25.647003",
     "exception": false,
     "start_time": "2022-02-16T16:52:25.608707",
     "status": "completed"
    },
    "tags": []
   },
   "outputs": [
    {
     "name": "stdout",
     "output_type": "stream",
     "text": [
      "OrderedDict([('id', 1), ('text', 'Teddy'), ('status', 'Toy')])\n",
      "OrderedDict([('id', 2), ('text', 'Bear'), ('status', 'Animal')])\n",
      "OrderedDict([('id', 3), ('text', 'mailing'), ('status', 'Done')])\n",
      "OrderedDict([('id', 4), ('text', 'writing'), ('status', 'Progress')])\n"
     ]
    }
   ],
   "source": [
    "#Now comes the interesting part, the way you query the table contents. Use the query function... \n",
    "statement = 'SELECT * FROM mytable' #the sql query that you use in database is used here\n",
    "\n",
    "for row in db1.query(statement):\n",
    "    print(row) #output is an Ordered dict"
   ]
  },
  {
   "cell_type": "markdown",
   "metadata": {
    "papermill": {
     "duration": 0.029753,
     "end_time": "2022-02-16T16:52:25.706816",
     "exception": false,
     "start_time": "2022-02-16T16:52:25.677063",
     "status": "completed"
    },
    "tags": []
   },
   "source": [
    "There you go, database is setup, table is created, data is inserted and it is queried. You will find that using dataset library in your projects for web scraping, storing information that needs to be read by scripts or programs written in other languages much easier."
   ]
  },
  {
   "cell_type": "markdown",
   "metadata": {
    "papermill": {
     "duration": 0.029639,
     "end_time": "2022-02-16T16:52:25.766106",
     "exception": false,
     "start_time": "2022-02-16T16:52:25.736467",
     "status": "completed"
    },
    "tags": []
   },
   "source": [
    "# METHOD 2: sqlalchemy engine... "
   ]
  },
  {
   "cell_type": "code",
   "execution_count": 12,
   "metadata": {
    "execution": {
     "iopub.execute_input": "2022-02-16T16:52:25.831202Z",
     "iopub.status.busy": "2022-02-16T16:52:25.830563Z",
     "iopub.status.idle": "2022-02-16T16:52:25.834571Z",
     "shell.execute_reply": "2022-02-16T16:52:25.833924Z",
     "shell.execute_reply.started": "2022-02-16T15:22:03.208840Z"
    },
    "papermill": {
     "duration": 0.038779,
     "end_time": "2022-02-16T16:52:25.834702",
     "exception": false,
     "start_time": "2022-02-16T16:52:25.795923",
     "status": "completed"
    },
    "tags": []
   },
   "outputs": [
    {
     "data": {
      "text/plain": [
       "Engine(sqlite:///exampleDB1.db)"
      ]
     },
     "execution_count": 12,
     "metadata": {},
     "output_type": "execute_result"
    }
   ],
   "source": [
    "#Creating an sql engine to query using python command\n",
    "sqlalchemy.create_engine('sqlite:///exampleDB1.db')"
   ]
  },
  {
   "cell_type": "markdown",
   "metadata": {
    "papermill": {
     "duration": 0.030024,
     "end_time": "2022-02-16T16:52:25.894763",
     "exception": false,
     "start_time": "2022-02-16T16:52:25.864739",
     "status": "completed"
    },
    "tags": []
   },
   "source": [
    "Then we start using the sql magic for querying the table directly. Then let the engine to establish connection with the database"
   ]
  },
  {
   "cell_type": "code",
   "execution_count": 13,
   "metadata": {
    "execution": {
     "iopub.execute_input": "2022-02-16T16:52:25.960918Z",
     "iopub.status.busy": "2022-02-16T16:52:25.960346Z",
     "iopub.status.idle": "2022-02-16T16:52:25.965465Z",
     "shell.execute_reply": "2022-02-16T16:52:25.964948Z",
     "shell.execute_reply.started": "2022-02-16T15:22:06.142860Z"
    },
    "papermill": {
     "duration": 0.040179,
     "end_time": "2022-02-16T16:52:25.965606",
     "exception": false,
     "start_time": "2022-02-16T16:52:25.925427",
     "status": "completed"
    },
    "tags": []
   },
   "outputs": [
    {
     "name": "stdout",
     "output_type": "stream",
     "text": [
      "The sql extension is already loaded. To reload it, use:\n",
      "  %reload_ext sql\n"
     ]
    }
   ],
   "source": [
    "%load_ext sql"
   ]
  },
  {
   "cell_type": "code",
   "execution_count": 14,
   "metadata": {
    "execution": {
     "iopub.execute_input": "2022-02-16T16:52:26.030767Z",
     "iopub.status.busy": "2022-02-16T16:52:26.030200Z",
     "iopub.status.idle": "2022-02-16T16:52:26.035732Z",
     "shell.execute_reply": "2022-02-16T16:52:26.036173Z",
     "shell.execute_reply.started": "2022-02-16T15:22:21.908965Z"
    },
    "papermill": {
     "duration": 0.040465,
     "end_time": "2022-02-16T16:52:26.036326",
     "exception": false,
     "start_time": "2022-02-16T16:52:25.995861",
     "status": "completed"
    },
    "tags": []
   },
   "outputs": [
    {
     "data": {
      "text/plain": [
       "'Connected: @exampleDB1.db'"
      ]
     },
     "execution_count": 14,
     "metadata": {},
     "output_type": "execute_result"
    }
   ],
   "source": [
    "%sql sqlite:///exampleDB1.db"
   ]
  },
  {
   "cell_type": "markdown",
   "metadata": {
    "papermill": {
     "duration": 0.030747,
     "end_time": "2022-02-16T16:52:26.097323",
     "exception": false,
     "start_time": "2022-02-16T16:52:26.066576",
     "status": "completed"
    },
    "tags": []
   },
   "source": [
    "We can write the query directly in the Cell to view the output below. Biggest advantage is, it simulates the database output itself. "
   ]
  },
  {
   "cell_type": "code",
   "execution_count": 15,
   "metadata": {
    "execution": {
     "iopub.execute_input": "2022-02-16T16:52:26.165053Z",
     "iopub.status.busy": "2022-02-16T16:52:26.163018Z",
     "iopub.status.idle": "2022-02-16T16:52:26.171238Z",
     "shell.execute_reply": "2022-02-16T16:52:26.170695Z",
     "shell.execute_reply.started": "2022-02-16T15:22:24.292062Z"
    },
    "papermill": {
     "duration": 0.043244,
     "end_time": "2022-02-16T16:52:26.171357",
     "exception": false,
     "start_time": "2022-02-16T16:52:26.128113",
     "status": "completed"
    },
    "tags": []
   },
   "outputs": [
    {
     "name": "stdout",
     "output_type": "stream",
     "text": [
      " * sqlite:///exampleDB1.db\n",
      "Done.\n"
     ]
    },
    {
     "data": {
      "text/html": [
       "<table>\n",
       "    <thead>\n",
       "        <tr>\n",
       "            <th>id</th>\n",
       "            <th>text</th>\n",
       "            <th>status</th>\n",
       "        </tr>\n",
       "    </thead>\n",
       "    <tbody>\n",
       "        <tr>\n",
       "            <td>1</td>\n",
       "            <td>Teddy</td>\n",
       "            <td>Toy</td>\n",
       "        </tr>\n",
       "        <tr>\n",
       "            <td>2</td>\n",
       "            <td>Bear</td>\n",
       "            <td>Animal</td>\n",
       "        </tr>\n",
       "        <tr>\n",
       "            <td>3</td>\n",
       "            <td>mailing</td>\n",
       "            <td>Done</td>\n",
       "        </tr>\n",
       "        <tr>\n",
       "            <td>4</td>\n",
       "            <td>writing</td>\n",
       "            <td>Progress</td>\n",
       "        </tr>\n",
       "    </tbody>\n",
       "</table>"
      ],
      "text/plain": [
       "[(1, 'Teddy', 'Toy'),\n",
       " (2, 'Bear', 'Animal'),\n",
       " (3, 'mailing', 'Done'),\n",
       " (4, 'writing', 'Progress')]"
      ]
     },
     "execution_count": 15,
     "metadata": {},
     "output_type": "execute_result"
    }
   ],
   "source": [
    "%%sql \n",
    "\n",
    "SELECT *\n",
    "FROM mytable"
   ]
  },
  {
   "cell_type": "markdown",
   "metadata": {
    "execution": {
     "iopub.execute_input": "2022-02-16T15:27:07.853697Z",
     "iopub.status.busy": "2022-02-16T15:27:07.853284Z",
     "iopub.status.idle": "2022-02-16T15:27:07.858579Z",
     "shell.execute_reply": "2022-02-16T15:27:07.857213Z",
     "shell.execute_reply.started": "2022-02-16T15:27:07.853663Z"
    },
    "papermill": {
     "duration": 0.031289,
     "end_time": "2022-02-16T16:52:26.233794",
     "exception": false,
     "start_time": "2022-02-16T16:52:26.202505",
     "status": "completed"
    },
    "tags": []
   },
   "source": [
    "### We can create tables using the engine as shown below\n",
    "Note, multiple queries cannot be executed in the same cell. Also the using the magic %sql alters how the cell behaves, even the #ed comments throw error. \n"
   ]
  },
  {
   "cell_type": "markdown",
   "metadata": {
    "papermill": {
     "duration": 0.030922,
     "end_time": "2022-02-16T16:52:26.296141",
     "exception": false,
     "start_time": "2022-02-16T16:52:26.265219",
     "status": "completed"
    },
    "tags": []
   },
   "source": [
    "### Creating Table"
   ]
  },
  {
   "cell_type": "code",
   "execution_count": 16,
   "metadata": {
    "execution": {
     "iopub.execute_input": "2022-02-16T16:52:26.365600Z",
     "iopub.status.busy": "2022-02-16T16:52:26.364944Z",
     "iopub.status.idle": "2022-02-16T16:52:26.378206Z",
     "shell.execute_reply": "2022-02-16T16:52:26.377623Z",
     "shell.execute_reply.started": "2022-02-16T15:27:59.482202Z"
    },
    "papermill": {
     "duration": 0.050279,
     "end_time": "2022-02-16T16:52:26.378334",
     "exception": false,
     "start_time": "2022-02-16T16:52:26.328055",
     "status": "completed"
    },
    "tags": []
   },
   "outputs": [
    {
     "name": "stdout",
     "output_type": "stream",
     "text": [
      " * sqlite:///exampleDB1.db\n",
      "Done.\n"
     ]
    },
    {
     "data": {
      "text/plain": [
       "[]"
      ]
     },
     "execution_count": 16,
     "metadata": {},
     "output_type": "execute_result"
    }
   ],
   "source": [
    "%%sql \n",
    "CREATE TABLE DEPT\n",
    "       (DEPTNO integer,\n",
    "        DNAME VARCHAR(14),\n",
    "        LOC VARCHAR(13) )"
   ]
  },
  {
   "cell_type": "markdown",
   "metadata": {
    "papermill": {
     "duration": 0.031887,
     "end_time": "2022-02-16T16:52:26.443142",
     "exception": false,
     "start_time": "2022-02-16T16:52:26.411255",
     "status": "completed"
    },
    "tags": []
   },
   "source": [
    "### Inserting data into created table in next 3 cells"
   ]
  },
  {
   "cell_type": "code",
   "execution_count": 17,
   "metadata": {
    "execution": {
     "iopub.execute_input": "2022-02-16T16:52:26.513225Z",
     "iopub.status.busy": "2022-02-16T16:52:26.512616Z",
     "iopub.status.idle": "2022-02-16T16:52:26.523576Z",
     "shell.execute_reply": "2022-02-16T16:52:26.523146Z",
     "shell.execute_reply.started": "2022-02-16T15:28:23.096192Z"
    },
    "papermill": {
     "duration": 0.048182,
     "end_time": "2022-02-16T16:52:26.523699",
     "exception": false,
     "start_time": "2022-02-16T16:52:26.475517",
     "status": "completed"
    },
    "tags": []
   },
   "outputs": [
    {
     "name": "stdout",
     "output_type": "stream",
     "text": [
      " * sqlite:///exampleDB1.db\n",
      "1 rows affected.\n"
     ]
    },
    {
     "data": {
      "text/plain": [
       "[]"
      ]
     },
     "execution_count": 17,
     "metadata": {},
     "output_type": "execute_result"
    }
   ],
   "source": [
    "%%sql\n",
    "INSERT INTO DEPT VALUES (10, 'ACCOUNTING', 'NEW YORK')"
   ]
  },
  {
   "cell_type": "code",
   "execution_count": 18,
   "metadata": {
    "execution": {
     "iopub.execute_input": "2022-02-16T16:52:26.595528Z",
     "iopub.status.busy": "2022-02-16T16:52:26.594819Z",
     "iopub.status.idle": "2022-02-16T16:52:26.605476Z",
     "shell.execute_reply": "2022-02-16T16:52:26.604853Z",
     "shell.execute_reply.started": "2022-02-16T15:28:46.261300Z"
    },
    "papermill": {
     "duration": 0.048918,
     "end_time": "2022-02-16T16:52:26.605610",
     "exception": false,
     "start_time": "2022-02-16T16:52:26.556692",
     "status": "completed"
    },
    "tags": []
   },
   "outputs": [
    {
     "name": "stdout",
     "output_type": "stream",
     "text": [
      " * sqlite:///exampleDB1.db\n",
      "1 rows affected.\n"
     ]
    },
    {
     "data": {
      "text/plain": [
       "[]"
      ]
     },
     "execution_count": 18,
     "metadata": {},
     "output_type": "execute_result"
    }
   ],
   "source": [
    "%%sql\n",
    "INSERT INTO DEPT VALUES (20, 'MARKETING', 'DALLAS')"
   ]
  },
  {
   "cell_type": "code",
   "execution_count": 19,
   "metadata": {
    "execution": {
     "iopub.execute_input": "2022-02-16T16:52:26.679051Z",
     "iopub.status.busy": "2022-02-16T16:52:26.678444Z",
     "iopub.status.idle": "2022-02-16T16:52:26.689010Z",
     "shell.execute_reply": "2022-02-16T16:52:26.688481Z",
     "shell.execute_reply.started": "2022-02-16T15:29:10.150031Z"
    },
    "papermill": {
     "duration": 0.04926,
     "end_time": "2022-02-16T16:52:26.689162",
     "exception": false,
     "start_time": "2022-02-16T16:52:26.639902",
     "status": "completed"
    },
    "tags": []
   },
   "outputs": [
    {
     "name": "stdout",
     "output_type": "stream",
     "text": [
      " * sqlite:///exampleDB1.db\n",
      "1 rows affected.\n"
     ]
    },
    {
     "data": {
      "text/plain": [
       "[]"
      ]
     },
     "execution_count": 19,
     "metadata": {},
     "output_type": "execute_result"
    }
   ],
   "source": [
    "%%sql\n",
    "INSERT INTO DEPT VALUES (30, 'MANAGEMENT', 'WASHINGTON')"
   ]
  },
  {
   "cell_type": "markdown",
   "metadata": {
    "papermill": {
     "duration": 0.035343,
     "end_time": "2022-02-16T16:52:26.759659",
     "exception": false,
     "start_time": "2022-02-16T16:52:26.724316",
     "status": "completed"
    },
    "tags": []
   },
   "source": [
    "### Querying the data from the table"
   ]
  },
  {
   "cell_type": "code",
   "execution_count": 20,
   "metadata": {
    "execution": {
     "iopub.execute_input": "2022-02-16T16:52:26.836527Z",
     "iopub.status.busy": "2022-02-16T16:52:26.835851Z",
     "iopub.status.idle": "2022-02-16T16:52:26.840319Z",
     "shell.execute_reply": "2022-02-16T16:52:26.839792Z",
     "shell.execute_reply.started": "2022-02-16T15:29:29.216643Z"
    },
    "papermill": {
     "duration": 0.045124,
     "end_time": "2022-02-16T16:52:26.840616",
     "exception": false,
     "start_time": "2022-02-16T16:52:26.795492",
     "status": "completed"
    },
    "tags": []
   },
   "outputs": [
    {
     "name": "stdout",
     "output_type": "stream",
     "text": [
      " * sqlite:///exampleDB1.db\n",
      "Done.\n"
     ]
    },
    {
     "data": {
      "text/html": [
       "<table>\n",
       "    <thead>\n",
       "        <tr>\n",
       "            <th>DEPTNO</th>\n",
       "            <th>DNAME</th>\n",
       "            <th>LOC</th>\n",
       "        </tr>\n",
       "    </thead>\n",
       "    <tbody>\n",
       "        <tr>\n",
       "            <td>10</td>\n",
       "            <td>ACCOUNTING</td>\n",
       "            <td>NEW YORK</td>\n",
       "        </tr>\n",
       "        <tr>\n",
       "            <td>20</td>\n",
       "            <td>MARKETING</td>\n",
       "            <td>DALLAS</td>\n",
       "        </tr>\n",
       "        <tr>\n",
       "            <td>30</td>\n",
       "            <td>MANAGEMENT</td>\n",
       "            <td>WASHINGTON</td>\n",
       "        </tr>\n",
       "    </tbody>\n",
       "</table>"
      ],
      "text/plain": [
       "[(10, 'ACCOUNTING', 'NEW YORK'),\n",
       " (20, 'MARKETING', 'DALLAS'),\n",
       " (30, 'MANAGEMENT', 'WASHINGTON')]"
      ]
     },
     "execution_count": 20,
     "metadata": {},
     "output_type": "execute_result"
    }
   ],
   "source": [
    "%%sql\n",
    "\n",
    "SELECT *\n",
    "FROM DEPT"
   ]
  },
  {
   "cell_type": "markdown",
   "metadata": {
    "papermill": {
     "duration": 0.035145,
     "end_time": "2022-02-16T16:52:26.910857",
     "exception": false,
     "start_time": "2022-02-16T16:52:26.875712",
     "status": "completed"
    },
    "tags": []
   },
   "source": [
    "The jupyter notebook turned into SQL querying shell, with the help of SQLAlchemy. No wonder it is called \"Alchemy\". Think about the power the library provides, to those who want to show the results of the queries in structured way. Even to document the examples of the unique queries you learn, or try can be super easy. "
   ]
  },
  {
   "cell_type": "markdown",
   "metadata": {
    "papermill": {
     "duration": 0.035564,
     "end_time": "2022-02-16T16:52:26.982739",
     "exception": false,
     "start_time": "2022-02-16T16:52:26.947175",
     "status": "completed"
    },
    "tags": []
   },
   "source": [
    "# Method 3: SQLite library"
   ]
  },
  {
   "cell_type": "code",
   "execution_count": 21,
   "metadata": {
    "execution": {
     "iopub.execute_input": "2022-02-16T16:52:27.059242Z",
     "iopub.status.busy": "2022-02-16T16:52:27.058635Z",
     "iopub.status.idle": "2022-02-16T16:52:27.061601Z",
     "shell.execute_reply": "2022-02-16T16:52:27.060987Z",
     "shell.execute_reply.started": "2022-02-16T15:32:04.857086Z"
    },
    "papermill": {
     "duration": 0.042744,
     "end_time": "2022-02-16T16:52:27.061736",
     "exception": false,
     "start_time": "2022-02-16T16:52:27.018992",
     "status": "completed"
    },
    "tags": []
   },
   "outputs": [],
   "source": [
    "#Connecting with sqlite3 library connection gives flexibility to create wrappers as below\n",
    "conn = sqlite3.connect('exampleDB1.db')\n",
    "c = conn.cursor()"
   ]
  },
  {
   "cell_type": "code",
   "execution_count": 22,
   "metadata": {
    "execution": {
     "iopub.execute_input": "2022-02-16T16:52:27.141355Z",
     "iopub.status.busy": "2022-02-16T16:52:27.140724Z",
     "iopub.status.idle": "2022-02-16T16:52:27.143483Z",
     "shell.execute_reply": "2022-02-16T16:52:27.142951Z",
     "shell.execute_reply.started": "2022-02-16T15:35:17.421445Z"
    },
    "papermill": {
     "duration": 0.046247,
     "end_time": "2022-02-16T16:52:27.143603",
     "exception": false,
     "start_time": "2022-02-16T16:52:27.097356",
     "status": "completed"
    },
    "tags": []
   },
   "outputs": [],
   "source": [
    "#Wrapper Functions using sqlite3 library methods\n",
    "def create_table():\n",
    "    c.execute('CREATE TABLE IF NOT EXISTS Rone (Number REAL, Name TEXT)')\n",
    " \n",
    "def data_entry():\n",
    "    number = 1234\n",
    "    name = \"Kagglers_Galore\"\n",
    "    c.execute(\"INSERT INTO Rone (Number, Name) VALUES(?, ?)\", (number, name))\n",
    "    conn.commit()\n",
    "\n",
    "def query_table():\n",
    "    return c.execute(\"SELECT DEPTNO, DNAME FROM DEPT WHERE DEPTNO = 10\").fetchall()\n",
    "\n",
    "def query_gen(query_input): #The query can be modified\n",
    "    return c.execute(query_input).fetchall() #Each row is a list inside a list\n",
    "\n",
    "def ret_byRow(query_input): #This method ensures the memory is not used heavily by loading by the row\n",
    "    cursor = c.execute(query_input)\n",
    "    for row in cursor:\n",
    "              print(row) # each row is a seperate list"
   ]
  },
  {
   "cell_type": "code",
   "execution_count": 23,
   "metadata": {
    "execution": {
     "iopub.execute_input": "2022-02-16T16:52:27.218803Z",
     "iopub.status.busy": "2022-02-16T16:52:27.218255Z",
     "iopub.status.idle": "2022-02-16T16:52:27.227302Z",
     "shell.execute_reply": "2022-02-16T16:52:27.226731Z",
     "shell.execute_reply.started": "2022-02-16T15:35:34.897155Z"
    },
    "papermill": {
     "duration": 0.048648,
     "end_time": "2022-02-16T16:52:27.227438",
     "exception": false,
     "start_time": "2022-02-16T16:52:27.178790",
     "status": "completed"
    },
    "tags": []
   },
   "outputs": [],
   "source": [
    "#Creating table\n",
    "create_table()"
   ]
  },
  {
   "cell_type": "code",
   "execution_count": 24,
   "metadata": {
    "execution": {
     "iopub.execute_input": "2022-02-16T16:52:27.300718Z",
     "iopub.status.busy": "2022-02-16T16:52:27.300161Z",
     "iopub.status.idle": "2022-02-16T16:52:27.308852Z",
     "shell.execute_reply": "2022-02-16T16:52:27.309445Z",
     "shell.execute_reply.started": "2022-02-16T15:35:46.617673Z"
    },
    "papermill": {
     "duration": 0.04671,
     "end_time": "2022-02-16T16:52:27.309601",
     "exception": false,
     "start_time": "2022-02-16T16:52:27.262891",
     "status": "completed"
    },
    "tags": []
   },
   "outputs": [],
   "source": [
    "#inserting data\n",
    "data_entry()"
   ]
  },
  {
   "cell_type": "code",
   "execution_count": 25,
   "metadata": {
    "execution": {
     "iopub.execute_input": "2022-02-16T16:52:27.383686Z",
     "iopub.status.busy": "2022-02-16T16:52:27.383117Z",
     "iopub.status.idle": "2022-02-16T16:52:27.388365Z",
     "shell.execute_reply": "2022-02-16T16:52:27.388802Z",
     "shell.execute_reply.started": "2022-02-16T15:36:09.027596Z"
    },
    "papermill": {
     "duration": 0.04361,
     "end_time": "2022-02-16T16:52:27.388953",
     "exception": false,
     "start_time": "2022-02-16T16:52:27.345343",
     "status": "completed"
    },
    "tags": []
   },
   "outputs": [
    {
     "data": {
      "text/plain": [
       "[(10, 'ACCOUNTING')]"
      ]
     },
     "execution_count": 25,
     "metadata": {},
     "output_type": "execute_result"
    }
   ],
   "source": [
    "query_table()"
   ]
  },
  {
   "cell_type": "code",
   "execution_count": 26,
   "metadata": {
    "execution": {
     "iopub.execute_input": "2022-02-16T16:52:27.462282Z",
     "iopub.status.busy": "2022-02-16T16:52:27.461018Z",
     "iopub.status.idle": "2022-02-16T16:52:27.465863Z",
     "shell.execute_reply": "2022-02-16T16:52:27.466315Z",
     "shell.execute_reply.started": "2022-02-16T15:36:31.247872Z"
    },
    "papermill": {
     "duration": 0.043082,
     "end_time": "2022-02-16T16:52:27.466471",
     "exception": false,
     "start_time": "2022-02-16T16:52:27.423389",
     "status": "completed"
    },
    "tags": []
   },
   "outputs": [
    {
     "data": {
      "text/plain": [
       "[(1, 'Teddy', 'Toy'),\n",
       " (2, 'Bear', 'Animal'),\n",
       " (3, 'mailing', 'Done'),\n",
       " (4, 'writing', 'Progress')]"
      ]
     },
     "execution_count": 26,
     "metadata": {},
     "output_type": "execute_result"
    }
   ],
   "source": [
    "q1='SELECT * FROM mytable'\n",
    "query_gen(q1) #Output will be list of lists"
   ]
  },
  {
   "cell_type": "code",
   "execution_count": 27,
   "metadata": {
    "execution": {
     "iopub.execute_input": "2022-02-16T16:52:27.541431Z",
     "iopub.status.busy": "2022-02-16T16:52:27.540536Z",
     "iopub.status.idle": "2022-02-16T16:52:27.546572Z",
     "shell.execute_reply": "2022-02-16T16:52:27.547194Z",
     "shell.execute_reply.started": "2022-02-16T15:37:17.137308Z"
    },
    "papermill": {
     "duration": 0.044982,
     "end_time": "2022-02-16T16:52:27.547353",
     "exception": false,
     "start_time": "2022-02-16T16:52:27.502371",
     "status": "completed"
    },
    "tags": []
   },
   "outputs": [
    {
     "name": "stdout",
     "output_type": "stream",
     "text": [
      "(1, 'Teddy', 'Toy')\n",
      "(2, 'Bear', 'Animal')\n",
      "(3, 'mailing', 'Done')\n",
      "(4, 'writing', 'Progress')\n"
     ]
    }
   ],
   "source": [
    "q2 = 'SELECT * FROM mytable'\n",
    "ret_byRow(q2) #Here the output is seperate lists. "
   ]
  },
  {
   "cell_type": "markdown",
   "metadata": {
    "papermill": {
     "duration": 0.036003,
     "end_time": "2022-02-16T16:52:27.619703",
     "exception": false,
     "start_time": "2022-02-16T16:52:27.583700",
     "status": "completed"
    },
    "tags": []
   },
   "source": [
    "3rd method provides the most power, in terms of writing wrapper functions, providing execution environment, and returning python friendly datatypes which in turn can be used in the way you see fit. \n",
    "Hope the notebook is helpful...."
   ]
  }
 ],
 "metadata": {
  "kernelspec": {
   "display_name": "Python 3",
   "language": "python",
   "name": "python3"
  },
  "language_info": {
   "codemirror_mode": {
    "name": "ipython",
    "version": 3
   },
   "file_extension": ".py",
   "mimetype": "text/x-python",
   "name": "python",
   "nbconvert_exporter": "python",
   "pygments_lexer": "ipython3",
   "version": "3.7.9"
  },
  "papermill": {
   "default_parameters": {},
   "duration": 17.217794,
   "end_time": "2022-02-16T16:52:28.164411",
   "environment_variables": {},
   "exception": null,
   "input_path": "__notebook__.ipynb",
   "output_path": "__notebook__.ipynb",
   "parameters": {},
   "start_time": "2022-02-16T16:52:10.946617",
   "version": "2.2.2"
  }
 },
 "nbformat": 4,
 "nbformat_minor": 4
}

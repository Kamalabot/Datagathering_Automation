{
 "cells": [
  {
   "cell_type": "code",
   "execution_count": 2,
   "id": "b99e6fc7",
   "metadata": {},
   "outputs": [],
   "source": [
    "import pandas as pd\n",
    "import numpy as np\n",
    "import plotly.express as px\n",
    "import plotly.graph_objects as go\n",
    "import dataset\n",
    "from bs4 import BeautifulSoup \n",
    "import requests\n",
    "from urllib.parse import unquote\n",
    "from urllib.parse import urljoin"
   ]
  },
  {
   "cell_type": "code",
   "execution_count": 3,
   "id": "a8f73fa2",
   "metadata": {},
   "outputs": [],
   "source": [
    "e = scrape.get(entry)\n",
    "soup_main = BeautifulSoup(e.text,'html.parser')"
   ]
  },
  {
   "cell_type": "code",
   "execution_count": 4,
   "id": "4de1cc77",
   "metadata": {},
   "outputs": [],
   "source": [
    "#get the links\n",
    "main_link = soup_main.find_all('a',class_='nav-a')"
   ]
  },
  {
   "cell_type": "code",
   "execution_count": 5,
   "id": "cb22aec5",
   "metadata": {},
   "outputs": [],
   "source": [
    "links=[]\n",
    "for main in main_link:\n",
    "    links.append(main.get('href'))"
   ]
  },
  {
   "cell_type": "code",
   "execution_count": 6,
   "id": "8bf76721",
   "metadata": {},
   "outputs": [
    {
     "name": "stdout",
     "output_type": "stream",
     "text": [
      "There are total 32 links collected from amazon main page\n"
     ]
    }
   ],
   "source": [
    "#select those links that start with '/'\n",
    "collected = []\n",
    "for link in links[3:]:\n",
    "    temp = urljoin(entry,link)\n",
    "    collected.append(temp)\n",
    "        \n",
    "print('There are total {} links collected from amazon main page'.format(len(collected)))"
   ]
  },
  {
   "cell_type": "code",
   "execution_count": 7,
   "id": "786b0422",
   "metadata": {},
   "outputs": [],
   "source": [
    "#There is a pattern to the links. End of every link is having the clue to where the link is heading.\n",
    "main_dict = {}\n",
    "for links in collected:\n",
    "    temp = links.split('=')\n",
    "    #split the link, take the heading\n",
    "    main_dict[temp[-1]] = links"
   ]
  },
  {
   "cell_type": "code",
   "execution_count": 8,
   "id": "2400fd83",
   "metadata": {},
   "outputs": [
    {
     "data": {
      "text/plain": [
       "dict_keys(['nav_orders_first', 'nav_cart', 'nav_cs_bestsellers', 'nav_cs_mobiles', 'nav_cs_gb', 'nav_cs_help', 'nav_cs_electronics', 'nav_cs_primelink_nonmember', 'nav_cs_books', 'nav_cs_fashion', 'nav_cs_newreleases', 'nav_cs_home', 'nav_cs_apay', 'nav_cs_pc', 'nav_cs_coupons', 'nav_cs_toys', 'nav_cs_sell', 'nav_cs_gc', 'nav_cs_automotive', 'nav_cs_beauty', 'nav_cs_grocery', 'nav_cs_video_games', 'nav_cs_sports', 'nav_cs_hpc', 'nav_cs_baby', 'nav_cs_pets', 'nav_cs_kindle_books', 'nav_cs_hi', 'nav_cs_giftfinder', 'nav_cs_amazonbasics', 'nav_cs_audible', 'nav_cs_sns'])"
      ]
     },
     "execution_count": 8,
     "metadata": {},
     "output_type": "execute_result"
    }
   ],
   "source": [
    "main_dict.keys()"
   ]
  },
  {
   "cell_type": "code",
   "execution_count": 9,
   "id": "6db4988c",
   "metadata": {},
   "outputs": [
    {
     "data": {
      "text/plain": [
       "'https://www.amazon.in/gp/sva/dashboard?ref_=nav_cs_apay'"
      ]
     },
     "execution_count": 9,
     "metadata": {},
     "output_type": "execute_result"
    }
   ],
   "source": [
    "#There are couple of links that lead to personal areas, that require sign-in. Poping them from the dict\n",
    "main_dict.pop('nav_orders_first')\n",
    "main_dict.pop('nav_cart')\n",
    "main_dict.pop('nav_cs_primelink_nonmember')\n",
    "main_dict.pop('nav_cs_help')\n",
    "main_dict.pop('nav_cs_sns')\n",
    "main_dict.pop('nav_cs_apay')"
   ]
  },
  {
   "cell_type": "code",
   "execution_count": 10,
   "id": "c2090a28",
   "metadata": {
    "scrolled": true
   },
   "outputs": [],
   "source": [
    "#making dataframe from the dictionary of links\n",
    "link_collector = pd.DataFrame(list(main_dict.items()),columns=['topics','links'])"
   ]
  },
  {
   "cell_type": "code",
   "execution_count": 11,
   "id": "15bbf90a",
   "metadata": {},
   "outputs": [],
   "source": [
    "#Creating headers so the Amazon website can be accessed\n",
    "my_headers = {\n",
    "'User-Agent': 'Mozilla/5.0 (Windows NT 10.0; Win64; x64) AppleWebKit/537.36 ' + ' (KHTML, like Gecko) Chrome/61.0.3163.100 Safari/537.36',\n",
    "'referer':'http://localhost:8888/'    \n",
    "}"
   ]
  },
  {
   "cell_type": "code",
   "execution_count": 12,
   "id": "fbbd85ca",
   "metadata": {},
   "outputs": [
    {
     "data": {
      "text/plain": [
       "'https://www.amazon.in/gp/bestsellers/?ref_=nav_cs_bestsellers'"
      ]
     },
     "execution_count": 12,
     "metadata": {},
     "output_type": "execute_result"
    }
   ],
   "source": [
    "link_collector.links[0]"
   ]
  },
  {
   "cell_type": "code",
   "execution_count": 13,
   "id": "16d835a9",
   "metadata": {},
   "outputs": [],
   "source": [
    "#The below routine fails since the headers don't work with Amazon correctly. So not very useful, \n",
    "link_collector_dict = {} #dict to hold the list of links collected from each links\n",
    "\n",
    "\n",
    "for index, crawl in enumerate(link_collector.links):\n",
    "    link_hrf = []\n",
    "    #print(index,crawl)\n",
    "    lev = scrape.get(crawl,headers=my_headers)\n",
    "    lev_soup = BeautifulSoup(lev.text,'html.parser')\n",
    "    for hrf in lev_soup.find_all('a', attrs={'class':'a-link-normal'}):     \n",
    "        temp = hrf.get('href')\n",
    "        link_hrf.append(temp)\n",
    "\n",
    "    link_collector_dict[link_collector.topics[index]] = link_hrf"
   ]
  },
  {
   "cell_type": "code",
   "execution_count": 14,
   "id": "a10bfcba",
   "metadata": {},
   "outputs": [],
   "source": [
    "link_list_df = pd.DataFrame(list(link_collector_dict.items()),columns=['topics','links_list'])\n",
    "link_list_df['link_len'] = link_list_df.links_list.apply(lambda x: len(x))\n",
    "link_list_df = link_list_df[link_list_df.link_len > 60]"
   ]
  },
  {
   "cell_type": "code",
   "execution_count": 15,
   "id": "dc74c053",
   "metadata": {},
   "outputs": [
    {
     "data": {
      "text/html": [
       "<div>\n",
       "<style scoped>\n",
       "    .dataframe tbody tr th:only-of-type {\n",
       "        vertical-align: middle;\n",
       "    }\n",
       "\n",
       "    .dataframe tbody tr th {\n",
       "        vertical-align: top;\n",
       "    }\n",
       "\n",
       "    .dataframe thead th {\n",
       "        text-align: right;\n",
       "    }\n",
       "</style>\n",
       "<table border=\"1\" class=\"dataframe\">\n",
       "  <thead>\n",
       "    <tr style=\"text-align: right;\">\n",
       "      <th></th>\n",
       "      <th>topics</th>\n",
       "      <th>links_list</th>\n",
       "      <th>link_len</th>\n",
       "    </tr>\n",
       "  </thead>\n",
       "  <tbody>\n",
       "    <tr>\n",
       "      <th>0</th>\n",
       "      <td>nav_cs_bestsellers</td>\n",
       "      <td>[/gp/bestsellers/luggage, /Priority-Disney-Pri...</td>\n",
       "      <td>146</td>\n",
       "    </tr>\n",
       "    <tr>\n",
       "      <th>6</th>\n",
       "      <td>nav_cs_newreleases</td>\n",
       "      <td>[/gp/new-releases/luggage, /WILDHORN-Leather-S...</td>\n",
       "      <td>144</td>\n",
       "    </tr>\n",
       "  </tbody>\n",
       "</table>\n",
       "</div>"
      ],
      "text/plain": [
       "               topics                                         links_list  \\\n",
       "0  nav_cs_bestsellers  [/gp/bestsellers/luggage, /Priority-Disney-Pri...   \n",
       "6  nav_cs_newreleases  [/gp/new-releases/luggage, /WILDHORN-Leather-S...   \n",
       "\n",
       "   link_len  \n",
       "0       146  \n",
       "6       144  "
      ]
     },
     "execution_count": 15,
     "metadata": {},
     "output_type": "execute_result"
    }
   ],
   "source": [
    "link_list_df"
   ]
  },
  {
   "cell_type": "markdown",
   "id": "37658581",
   "metadata": {},
   "source": [
    "Out of 28 links only 3 pages loaded with default referer and settings. Rest of page needs more info. \n",
    "I am planning to go ahead scrape the links under bestsellers first\n",
    "\n",
    "1) Start by making the list of links under best sellers as full links and see if they provide the content\n",
    "\n",
    "2) If it provides the content, then check the tags, class, id that can be used to get the data.\n",
    "\n",
    "3) Create the dataframe and store the data directly in the dataframe."
   ]
  },
  {
   "cell_type": "markdown",
   "id": "22c7c799",
   "metadata": {},
   "source": [
    "learn more about the usage\n",
    "\n",
    "driver.execute_script(\"window.scrollBy(0, document.body.scrollHeight-400)\")"
   ]
  },
  {
   "cell_type": "code",
   "execution_count": 40,
   "id": "0ae76629",
   "metadata": {},
   "outputs": [],
   "source": [
    "#Initiating the Selenium Drivers\n",
    "from selenium import webdriver\n",
    "import time as time\n",
    "from selenium.common.exceptions import NoSuchElementException\n",
    "from selenium.common.exceptions import ElementNotInteractableException\n",
    "from selenium.webdriver.chrome.options import Options\n",
    "import warnings\n",
    "warnings.filterwarnings('ignore')"
   ]
  },
  {
   "cell_type": "code",
   "execution_count": 88,
   "id": "25bb1902",
   "metadata": {},
   "outputs": [],
   "source": [
    "driver = webdriver.Chrome()\n",
    "driver.get('https://www.linkedin.com')\n",
    "driver.maximize_window()\n",
    "driver.find_element_by_class_name('nav__button-secondary').click()\n",
    "driver.find_element_by_id('username').send_keys('kamaljp@gmail.com')\n",
    "driver.find_element_by_id('password').send_keys('SepdL!n7')\n",
    "driver.find_element_by_class_name('login__form_action_container').click()\n",
    "driver.find_element_by_id('ember19').click()"
   ]
  },
  {
   "cell_type": "code",
   "execution_count": 89,
   "id": "aeab70be",
   "metadata": {},
   "outputs": [],
   "source": [
    "conn_tot = driver.find_element_by_class_name('pl3').text"
   ]
  },
  {
   "cell_type": "code",
   "execution_count": 90,
   "id": "1481f5fb",
   "metadata": {},
   "outputs": [],
   "source": [
    "driver.find_element_by_class_name('pl3').click()"
   ]
  },
  {
   "cell_type": "code",
   "execution_count": 91,
   "id": "a9733cb1",
   "metadata": {},
   "outputs": [
    {
     "data": {
      "text/plain": [
       "191"
      ]
     },
     "execution_count": 91,
     "metadata": {},
     "output_type": "execute_result"
    }
   ],
   "source": [
    "conn_tot = int(conn_tot)\n",
    "tot_scroll = int(np.floor(conn_tot/5))\n",
    "tot_scroll"
   ]
  },
  {
   "cell_type": "code",
   "execution_count": 92,
   "id": "5c1da443",
   "metadata": {},
   "outputs": [
    {
     "name": "stdout",
     "output_type": "stream",
     "text": [
      "1\n",
      "2\n",
      "3\n",
      "4\n",
      "5\n",
      "6\n",
      "7\n",
      "8\n",
      "9\n"
     ]
    }
   ],
   "source": [
    "for i in range(1,10):\n",
    "    driver.execute_script(\"window.scrollTo(0, document.body.scrollHeight);\")\n",
    "    time.sleep(2)\n",
    "    print(i)\n",
    "    if i==4:\n",
    "        driver.execute_script(\"window.scrollTo(document.body.scrollHeight,window.innerHeight);\")\n",
    "    else:\n",
    "        continue\n",
    "html_source = driver.page_source\n",
    "soup_net = BeautifulSoup(html_source,'html.parser')"
   ]
  },
  {
   "cell_type": "code",
   "execution_count": 93,
   "id": "a92e415f",
   "metadata": {},
   "outputs": [],
   "source": [
    "t1 = soup_net.find_all('li',attrs={'class':'mn-connection-card artdeco-list'})"
   ]
  },
  {
   "cell_type": "code",
   "execution_count": 113,
   "id": "57c34ff4",
   "metadata": {},
   "outputs": [
    {
     "data": {
      "text/plain": [
       "'/in/dhivya-perumal-a0198b1b/'"
      ]
     },
     "execution_count": 113,
     "metadata": {},
     "output_type": "execute_result"
    }
   ],
   "source": [
    "t1[0].select('a')[1].get('href')"
   ]
  },
  {
   "cell_type": "code",
   "execution_count": 114,
   "id": "36fe7853",
   "metadata": {},
   "outputs": [
    {
     "data": {
      "text/plain": [
       "'Dhivya Perumal'"
      ]
     },
     "execution_count": 114,
     "metadata": {},
     "output_type": "execute_result"
    }
   ],
   "source": [
    "t1[0].select('span')[2].get_text().strip()"
   ]
  },
  {
   "cell_type": "code",
   "execution_count": 115,
   "id": "36fe7853",
   "metadata": {},
   "outputs": [
    {
     "data": {
      "text/plain": [
       "'Assistant Consultant at Tata Consultancy Services'"
      ]
     },
     "execution_count": 115,
     "metadata": {},
     "output_type": "execute_result"
    }
   ],
   "source": [
    "t1[0].select('span')[4].get_text().strip()"
   ]
  },
  {
   "cell_type": "code",
   "execution_count": 116,
   "id": "b983162e",
   "metadata": {},
   "outputs": [],
   "source": [
    "def get_connLevel_data(beauty_soup, df):\n",
    "    trial_L1 = beauty_soup.find_all('li',attrs={'class':'mn-connection-card artdeco-list'})\n",
    "    start = len(df)\n",
    "    for index,trial in enumerate(trial_L1):\n",
    "        df.loc[start+index,'Name'] = trial.select('span')[2].get_text().strip()\n",
    "        df.loc[start+index,'Occupation'] = trial.select('span')[4].get_text().strip()\n",
    "        df.loc[start+index,'Link'] = trial.select('a')[1].get('href')\n",
    "    end = len(df)\n",
    "    print('Total links got is {}'.format(end-start))"
   ]
  },
  {
   "cell_type": "code",
   "execution_count": 117,
   "id": "ccd3359c",
   "metadata": {},
   "outputs": [
    {
     "name": "stdout",
     "output_type": "stream",
     "text": [
      "Total links got is 279\n"
     ]
    },
    {
     "data": {
      "text/html": [
       "<div>\n",
       "<style scoped>\n",
       "    .dataframe tbody tr th:only-of-type {\n",
       "        vertical-align: middle;\n",
       "    }\n",
       "\n",
       "    .dataframe tbody tr th {\n",
       "        vertical-align: top;\n",
       "    }\n",
       "\n",
       "    .dataframe thead th {\n",
       "        text-align: right;\n",
       "    }\n",
       "</style>\n",
       "<table border=\"1\" class=\"dataframe\">\n",
       "  <thead>\n",
       "    <tr style=\"text-align: right;\">\n",
       "      <th></th>\n",
       "      <th>Name</th>\n",
       "      <th>Occupation</th>\n",
       "      <th>Link</th>\n",
       "    </tr>\n",
       "  </thead>\n",
       "  <tbody>\n",
       "    <tr>\n",
       "      <th>0</th>\n",
       "      <td>Dhivya Perumal</td>\n",
       "      <td>Assistant Consultant at Tata Consultancy Services</td>\n",
       "      <td>/in/dhivya-perumal-a0198b1b/</td>\n",
       "    </tr>\n",
       "    <tr>\n",
       "      <th>1</th>\n",
       "      <td>Lakshmana Kumar</td>\n",
       "      <td>Assistant Professor at Sona College of Technology</td>\n",
       "      <td>/in/lakshmana-kumar-9b80aab/</td>\n",
       "    </tr>\n",
       "    <tr>\n",
       "      <th>2</th>\n",
       "      <td>karthikeyan Balasubramani</td>\n",
       "      <td>Deputy Delivery Manager [SDS2/Tekla] at TRC Wo...</td>\n",
       "      <td>/in/karthikeyan-balasubramani-a3180458/</td>\n",
       "    </tr>\n",
       "    <tr>\n",
       "      <th>3</th>\n",
       "      <td>Hitansha Bhatia (she/her)</td>\n",
       "      <td>Pastry Chef | French Tutor | Psychology Enthus...</td>\n",
       "      <td>/in/hitansha-bhatia-she-her-b69252187/</td>\n",
       "    </tr>\n",
       "    <tr>\n",
       "      <th>4</th>\n",
       "      <td>Prakhar Chauhan (PC)</td>\n",
       "      <td>Building state-of-the-art in patients safety a...</td>\n",
       "      <td>/in/prakhar-chauhan-pc-3aa10417/</td>\n",
       "    </tr>\n",
       "  </tbody>\n",
       "</table>\n",
       "</div>"
      ],
      "text/plain": [
       "                        Name  \\\n",
       "0             Dhivya Perumal   \n",
       "1            Lakshmana Kumar   \n",
       "2  karthikeyan Balasubramani   \n",
       "3  Hitansha Bhatia (she/her)   \n",
       "4       Prakhar Chauhan (PC)   \n",
       "\n",
       "                                          Occupation  \\\n",
       "0  Assistant Consultant at Tata Consultancy Services   \n",
       "1  Assistant Professor at Sona College of Technology   \n",
       "2  Deputy Delivery Manager [SDS2/Tekla] at TRC Wo...   \n",
       "3  Pastry Chef | French Tutor | Psychology Enthus...   \n",
       "4  Building state-of-the-art in patients safety a...   \n",
       "\n",
       "                                      Link  \n",
       "0             /in/dhivya-perumal-a0198b1b/  \n",
       "1             /in/lakshmana-kumar-9b80aab/  \n",
       "2  /in/karthikeyan-balasubramani-a3180458/  \n",
       "3   /in/hitansha-bhatia-she-her-b69252187/  \n",
       "4         /in/prakhar-chauhan-pc-3aa10417/  "
      ]
     },
     "execution_count": 117,
     "metadata": {},
     "output_type": "execute_result"
    }
   ],
   "source": [
    "data_conn_linkedin = pd.DataFrame()\n",
    "get_connLevel_data(soup_net,data_conn_linkedin)\n",
    "data_conn_linkedin.head()"
   ]
  },
  {
   "cell_type": "code",
   "execution_count": 17,
   "id": "a5eea481",
   "metadata": {},
   "outputs": [],
   "source": [
    "#Creating a subroutine to get page\n",
    "def get_page(main_driver):\n",
    "    element = main_driver.find_element_by_class_name('a-last')\n",
    "    main_driver.execute_script(\"arguments[0].scrollIntoView();\",element)\n",
    "    time.sleep(5)\n",
    "    soup = main_driver.page_source\n",
    "    trial = BeautifulSoup(soup,'html.parser')\n",
    "    return trial"
   ]
  },
  {
   "cell_type": "code",
   "execution_count": 18,
   "id": "05256ea5",
   "metadata": {},
   "outputs": [],
   "source": [
    "#get the pages that are still un-selected. These many clicks will be required to traverse the site\n",
    "def get_page_avbl(page_soup):\n",
    "    return len(page_soup.find_all('li',attrs={'class':'a-normal'}))"
   ]
  },
  {
   "cell_type": "code",
   "execution_count": 20,
   "id": "09d00e7a",
   "metadata": {},
   "outputs": [],
   "source": [
    "def crawler(page_url):\n",
    "    driver = webdriver.Chrome()\n",
    "    driver.get(page_url)\n",
    "    driver.maximize_window()\n",
    "    stor_dataframe = pd.DataFrame()\n",
    "    #Above code initialises the selenium driver and opens the browser\n",
    "    \n",
    "    firstpage = get_page(driver) #gets the first page\n",
    "    get_pagelevel_data(firstpage,stor_dataframe) # gets the data in the first page\n",
    "    page_avbl = get_page_avbl(firstpage) #gets the number of pages\n",
    "    print('This url contains {} pages'.format(page_avbl+1))\n",
    "    for page in range(page_avbl):#looping the pages available\n",
    "        print('Moving to {} page for scraping'.format(page+2))\n",
    "        try:\n",
    "            driver.find_element_by_class_name('a-last').click() #moving to the next page\n",
    "            page_next = get_page(driver) #getting next page data\n",
    "            get_pagelevel_data(page_next,stor_dataframe) # collecting the next page data\n",
    "        except NoSuchElementException as nse:\n",
    "            print('Element not found, breaking')\n",
    "    print('ending crawler for {} and returning payload'.format(page_url))\n",
    "    print('Links collected is {} and quitting driver'.format(stor_dataframe.shape[0]))\n",
    "    driver.quit()\n",
    "    return stor_dataframe #returning the dataframe"
   ]
  },
  {
   "cell_type": "code",
   "execution_count": 40,
   "id": "09d00e7a",
   "metadata": {},
   "outputs": [],
   "source": [
    "#Even though the crawler is headless, the printing messages will feedback on the status\n",
    "def headless_crawler(page_url):\n",
    "    options = Options()\n",
    "    options.headless = True #making this driver headless so it can work in the background\n",
    "    driver = webdriver.Chrome(options=options, executable_path=r'chromedriver.exe')\n",
    "    driver.get(page_url)\n",
    "    driver.maximize_window()\n",
    "    stor_dataframe = pd.DataFrame()\n",
    "    #Above code initialises the selenium driver and opens the browser\n",
    "    \n",
    "    firstpage = get_page(driver) #gets the first page\n",
    "    get_pagelevel_data(firstpage,stor_dataframe) # gets the data in the first page\n",
    "    page_avbl = get_page_avbl(firstpage) #gets the number of pages\n",
    "    print('This url contains {} pages'.format(page_avbl+1))\n",
    "    for page in range(page_avbl):#looping the pages available\n",
    "        print('Moving to {} page for scraping'.format(page+2))\n",
    "        try:\n",
    "            driver.find_element_by_class_name('a-last').click() #moving to the next page\n",
    "            page_next = get_page(driver) #getting next page data\n",
    "            get_pagelevel_data(page_next,stor_dataframe) # collecting the next page data\n",
    "        except NoSuchElementException as nse:\n",
    "            print('Element not found, breaking')\n",
    "    print('ending crawler for {} and returning payload'.format(page_url))\n",
    "    print('Links collected is {} and quitting driver'.format(stor_dataframe.shape[0]))\n",
    "    driver.quit()\n",
    "    return stor_dataframe #returning the dataframe"
   ]
  },
  {
   "cell_type": "code",
   "execution_count": 41,
   "id": "89108247",
   "metadata": {},
   "outputs": [],
   "source": [
    "vid_url = 'https://www.amazon.in/gp/bestsellers/videogames'"
   ]
  },
  {
   "cell_type": "code",
   "execution_count": 42,
   "id": "ee838379",
   "metadata": {},
   "outputs": [
    {
     "name": "stderr",
     "output_type": "stream",
     "text": [
      "C:\\WorkFiles\\WPy64-37120\\pypy3.7-v7.3.7-win64\\site-packages\\ipykernel_launcher.py:5: DeprecationWarning: executable_path has been deprecated, please pass in a Service object\n",
      "  \"\"\"\n",
      "C:\\WorkFiles\\WPy64-37120\\pypy3.7-v7.3.7-win64\\site-packages\\ipykernel_launcher.py:3: DeprecationWarning: find_element_by_* commands are deprecated. Please use find_element() instead\n",
      "  This is separate from the ipykernel package so we can avoid doing imports until\n"
     ]
    },
    {
     "name": "stdout",
     "output_type": "stream",
     "text": [
      "Total data got is 50\n",
      "This url contains 2 pages\n",
      "Moving to 2 page for scraping\n"
     ]
    },
    {
     "name": "stderr",
     "output_type": "stream",
     "text": [
      "C:\\WorkFiles\\WPy64-37120\\pypy3.7-v7.3.7-win64\\site-packages\\ipykernel_launcher.py:18: DeprecationWarning: find_element_by_* commands are deprecated. Please use find_element() instead\n"
     ]
    },
    {
     "name": "stdout",
     "output_type": "stream",
     "text": [
      "Total data got is 50\n",
      "ending crawler for https://www.amazon.in/gp/bestsellers/videogames and returning payload\n",
      "Links collected is 100 and quitting driver\n"
     ]
    }
   ],
   "source": [
    "#The headless works.... :D\n",
    "vid_games = headless_crawler(vid_url)"
   ]
  },
  {
   "cell_type": "code",
   "execution_count": 43,
   "id": "1ee1f8b7",
   "metadata": {},
   "outputs": [
    {
     "data": {
      "text/html": [
       "<div>\n",
       "<style scoped>\n",
       "    .dataframe tbody tr th:only-of-type {\n",
       "        vertical-align: middle;\n",
       "    }\n",
       "\n",
       "    .dataframe tbody tr th {\n",
       "        vertical-align: top;\n",
       "    }\n",
       "\n",
       "    .dataframe thead th {\n",
       "        text-align: right;\n",
       "    }\n",
       "</style>\n",
       "<table border=\"1\" class=\"dataframe\">\n",
       "  <thead>\n",
       "    <tr style=\"text-align: right;\">\n",
       "      <th></th>\n",
       "      <th>Name</th>\n",
       "      <th>reviews</th>\n",
       "      <th>stars</th>\n",
       "      <th>price</th>\n",
       "      <th>link_in</th>\n",
       "    </tr>\n",
       "  </thead>\n",
       "  <tbody>\n",
       "    <tr>\n",
       "      <th>0</th>\n",
       "      <td>AmazonBasics Extended Gaming Mouse Pad,Black</td>\n",
       "      <td>35,808</td>\n",
       "      <td>4.5 out of 5 stars</td>\n",
       "      <td>₹469.00</td>\n",
       "      <td>/AmazonBasics-Extended-Gaming-Mouse-Black/dp/B...</td>\n",
       "    </tr>\n",
       "    <tr>\n",
       "      <th>1</th>\n",
       "      <td>Rs.1000 Sony PlayStation Network Wallet Top-Up...</td>\n",
       "      <td>4.7 out of 5 stars</td>\n",
       "      <td>Sony Interactive Entertainment Europe</td>\n",
       "      <td>3,115</td>\n",
       "      <td>/Rs-1000-Sony-PlayStation-Network-Delivery/dp/...</td>\n",
       "    </tr>\n",
       "    <tr>\n",
       "      <th>2</th>\n",
       "      <td>Rs.500 Sony PlayStation Network Wallet Top-Up ...</td>\n",
       "      <td>4.7 out of 5 stars</td>\n",
       "      <td>Sony Interactive Entertainment Europe</td>\n",
       "      <td>3,107</td>\n",
       "      <td>/Sony-PlayStation-Network-Delivery-Digital/dp/...</td>\n",
       "    </tr>\n",
       "    <tr>\n",
       "      <th>3</th>\n",
       "      <td>JBL Quantum 100, Wired Over Ear Gaming Headpho...</td>\n",
       "      <td>3,473</td>\n",
       "      <td>4.0 out of 5 stars</td>\n",
       "      <td>₹2,299.00</td>\n",
       "      <td>/JBL-Quantum-Over-Ear-Headset-Detachable/dp/B0...</td>\n",
       "    </tr>\n",
       "    <tr>\n",
       "      <th>4</th>\n",
       "      <td>Cosmic Byte GS410 Wired Over-ear Headphones wi...</td>\n",
       "      <td>4.0 out of 5 stars</td>\n",
       "      <td>Cosmic Byte</td>\n",
       "      <td>18,977</td>\n",
       "      <td>/Cosmic-Byte-Headphones-Laptop-Android/dp/B074...</td>\n",
       "    </tr>\n",
       "  </tbody>\n",
       "</table>\n",
       "</div>"
      ],
      "text/plain": [
       "                                                Name             reviews  \\\n",
       "0       AmazonBasics Extended Gaming Mouse Pad,Black              35,808   \n",
       "1  Rs.1000 Sony PlayStation Network Wallet Top-Up...  4.7 out of 5 stars   \n",
       "2  Rs.500 Sony PlayStation Network Wallet Top-Up ...  4.7 out of 5 stars   \n",
       "3  JBL Quantum 100, Wired Over Ear Gaming Headpho...               3,473   \n",
       "4  Cosmic Byte GS410 Wired Over-ear Headphones wi...  4.0 out of 5 stars   \n",
       "\n",
       "                                   stars      price  \\\n",
       "0                     4.5 out of 5 stars    ₹469.00   \n",
       "1  Sony Interactive Entertainment Europe      3,115   \n",
       "2  Sony Interactive Entertainment Europe      3,107   \n",
       "3                     4.0 out of 5 stars  ₹2,299.00   \n",
       "4                            Cosmic Byte     18,977   \n",
       "\n",
       "                                             link_in  \n",
       "0  /AmazonBasics-Extended-Gaming-Mouse-Black/dp/B...  \n",
       "1  /Rs-1000-Sony-PlayStation-Network-Delivery/dp/...  \n",
       "2  /Sony-PlayStation-Network-Delivery-Digital/dp/...  \n",
       "3  /JBL-Quantum-Over-Ear-Headset-Detachable/dp/B0...  \n",
       "4  /Cosmic-Byte-Headphones-Laptop-Android/dp/B074...  "
      ]
     },
     "execution_count": 43,
     "metadata": {},
     "output_type": "execute_result"
    }
   ],
   "source": [
    "vid_games.head()"
   ]
  },
  {
   "cell_type": "markdown",
   "id": "6a31d193",
   "metadata": {},
   "source": [
    "Next step is to join the URLs and get the product level details. \n",
    "\n",
    "Join the link of each product, by creating the function for that purpose and send the created dataframe\n",
    "\n",
    "scrape the product page of the information\n",
    "\n",
    "store it back in the initial dataframe itself"
   ]
  },
  {
   "cell_type": "code",
   "execution_count": 23,
   "id": "939d746b",
   "metadata": {},
   "outputs": [],
   "source": [
    "#creating full_linkins for products\n",
    "def f_link_create(df):\n",
    "    for index,links in enumerate(df.link_in):\n",
    "        #print(links)\n",
    "        df.loc[index,'f_link'] = urljoin('https://www.amazon.in/',links)\n",
    "\n",
    "    return df"
   ]
  },
  {
   "cell_type": "code",
   "execution_count": 12,
   "id": "ccb714ef",
   "metadata": {},
   "outputs": [
    {
     "ename": "AttributeError",
     "evalue": "'DataFrame' object has no attribute 'link_in'",
     "output_type": "error",
     "traceback": [
      "\u001b[1;31m---------------------------------------------------------------------------\u001b[0m",
      "\u001b[1;31mAttributeError\u001b[0m                            Traceback (most recent call last)",
      "\u001b[1;32mC:\\Users\\D30001~1\\AppData\\Local\\Temp/ipykernel_15132/163071742.py\u001b[0m in \u001b[0;36m<module>\u001b[1;34m\u001b[0m\n\u001b[1;32m----> 1\u001b[1;33m \u001b[0mvid_games\u001b[0m \u001b[1;33m=\u001b[0m \u001b[0mf_link_create\u001b[0m\u001b[1;33m(\u001b[0m\u001b[0mvid_games\u001b[0m\u001b[1;33m)\u001b[0m\u001b[1;33m\u001b[0m\u001b[1;33m\u001b[0m\u001b[0m\n\u001b[0m",
      "\u001b[1;32mC:\\Users\\D30001~1\\AppData\\Local\\Temp/ipykernel_15132/3133996171.py\u001b[0m in \u001b[0;36mf_link_create\u001b[1;34m(df)\u001b[0m\n\u001b[0;32m      1\u001b[0m \u001b[1;31m#creating full_linkins for products\u001b[0m\u001b[1;33m\u001b[0m\u001b[1;33m\u001b[0m\u001b[1;33m\u001b[0m\u001b[0m\n\u001b[0;32m      2\u001b[0m \u001b[1;32mdef\u001b[0m \u001b[0mf_link_create\u001b[0m\u001b[1;33m(\u001b[0m\u001b[0mdf\u001b[0m\u001b[1;33m)\u001b[0m\u001b[1;33m:\u001b[0m\u001b[1;33m\u001b[0m\u001b[1;33m\u001b[0m\u001b[0m\n\u001b[1;32m----> 3\u001b[1;33m     \u001b[1;32mfor\u001b[0m \u001b[0mindex\u001b[0m\u001b[1;33m,\u001b[0m\u001b[0mlinks\u001b[0m \u001b[1;32min\u001b[0m \u001b[0menumerate\u001b[0m\u001b[1;33m(\u001b[0m\u001b[0mdf\u001b[0m\u001b[1;33m.\u001b[0m\u001b[0mlink_in\u001b[0m\u001b[1;33m)\u001b[0m\u001b[1;33m:\u001b[0m\u001b[1;33m\u001b[0m\u001b[1;33m\u001b[0m\u001b[0m\n\u001b[0m\u001b[0;32m      4\u001b[0m         \u001b[1;31m#print(links)\u001b[0m\u001b[1;33m\u001b[0m\u001b[1;33m\u001b[0m\u001b[1;33m\u001b[0m\u001b[0m\n\u001b[0;32m      5\u001b[0m         \u001b[0mdf\u001b[0m\u001b[1;33m.\u001b[0m\u001b[0mloc\u001b[0m\u001b[1;33m[\u001b[0m\u001b[0mindex\u001b[0m\u001b[1;33m,\u001b[0m\u001b[1;34m'f_link'\u001b[0m\u001b[1;33m]\u001b[0m \u001b[1;33m=\u001b[0m \u001b[0murljoin\u001b[0m\u001b[1;33m(\u001b[0m\u001b[1;34m'https://www.amazon.in/'\u001b[0m\u001b[1;33m,\u001b[0m\u001b[0mlinks\u001b[0m\u001b[1;33m)\u001b[0m\u001b[1;33m\u001b[0m\u001b[1;33m\u001b[0m\u001b[0m\n",
      "\u001b[1;32mC:\\WorkFiles\\WPy64-37120\\pypy3.7-v7.3.7-win64\\site-packages\\pandas\\core\\generic.py\u001b[0m in \u001b[0;36m__getattr__\u001b[1;34m(self, name)\u001b[0m\n\u001b[0;32m   5463\u001b[0m             \u001b[1;32mif\u001b[0m \u001b[0mself\u001b[0m\u001b[1;33m.\u001b[0m\u001b[0m_info_axis\u001b[0m\u001b[1;33m.\u001b[0m\u001b[0m_can_hold_identifiers_and_holds_name\u001b[0m\u001b[1;33m(\u001b[0m\u001b[0mname\u001b[0m\u001b[1;33m)\u001b[0m\u001b[1;33m:\u001b[0m\u001b[1;33m\u001b[0m\u001b[1;33m\u001b[0m\u001b[0m\n\u001b[0;32m   5464\u001b[0m                 \u001b[1;32mreturn\u001b[0m \u001b[0mself\u001b[0m\u001b[1;33m[\u001b[0m\u001b[0mname\u001b[0m\u001b[1;33m]\u001b[0m\u001b[1;33m\u001b[0m\u001b[1;33m\u001b[0m\u001b[0m\n\u001b[1;32m-> 5465\u001b[1;33m             \u001b[1;32mreturn\u001b[0m \u001b[0mobject\u001b[0m\u001b[1;33m.\u001b[0m\u001b[0m__getattribute__\u001b[0m\u001b[1;33m(\u001b[0m\u001b[0mself\u001b[0m\u001b[1;33m,\u001b[0m \u001b[0mname\u001b[0m\u001b[1;33m)\u001b[0m\u001b[1;33m\u001b[0m\u001b[1;33m\u001b[0m\u001b[0m\n\u001b[0m\u001b[0;32m   5466\u001b[0m \u001b[1;33m\u001b[0m\u001b[0m\n\u001b[0;32m   5467\u001b[0m     \u001b[1;32mdef\u001b[0m \u001b[0m__setattr__\u001b[0m\u001b[1;33m(\u001b[0m\u001b[0mself\u001b[0m\u001b[1;33m,\u001b[0m \u001b[0mname\u001b[0m\u001b[1;33m:\u001b[0m \u001b[0mstr\u001b[0m\u001b[1;33m,\u001b[0m \u001b[0mvalue\u001b[0m\u001b[1;33m)\u001b[0m \u001b[1;33m->\u001b[0m \u001b[1;32mNone\u001b[0m\u001b[1;33m:\u001b[0m\u001b[1;33m\u001b[0m\u001b[1;33m\u001b[0m\u001b[0m\n",
      "\u001b[1;31mAttributeError\u001b[0m: 'DataFrame' object has no attribute 'link_in'"
     ]
    }
   ],
   "source": [
    "vid_games = f_link_create(vid_games)"
   ]
  },
  {
   "cell_type": "code",
   "execution_count": 22,
   "id": "6a84fa9b",
   "metadata": {},
   "outputs": [],
   "source": [
    "def crawler_product(page_url,df,indexF):\n",
    "    driver = webdriver.Chrome()\n",
    "    driver.get(page_url)\n",
    "    driver.maximize_window()\n",
    "    prod_soup = driver.page_source\n",
    "    prod_nugs = BeautifulSoup(prod_soup,'html.parser')\n",
    "   \n",
    "    #Populating the dataframe directly with the below commands. The details were found using \n",
    "    table_prod_1 = prod_nugs.find('table',attrs={'id':'productDetails_techSpec_section_1'})\n",
    "    table_prod_2 = prod_nugs.find('table',attrs={'id':'productDetails_detailBullets_sections1'})\n",
    "    review_table = prod_nugs.find_all('table',attrs={'id':'histogramTable'})[1]\n",
    "    if table_prod_1 == None or table_prod_2 == None :\n",
    "        review_table = prod_nugs.find_all('table',attrs={'id':'histogramTable'})[1]\n",
    "            #Scraping of the data from the tables\n",
    "        df.loc[indexF,'brand'] = 'voucher_or_program'\n",
    "        df.loc[indexF,'color'] = 'voucher_or_program'\n",
    "        df.loc[indexF,'Pdt_dimension'] = 'voucher_or_program'\n",
    "        df.loc[indexF,'Weight'] = 'voucher_or_program'\n",
    "        df.loc[indexF,'origin'] = 'voucher_or_program'\n",
    "        df.loc[indexF,'ASIN'] = 'voucher_or_program'\n",
    "        df.loc[indexF,'category'] = 'voucher_or_program'\n",
    "        df.loc[indexF,'5Star'] = review_table.find_all('tr')[0].find_all('span',attrs={'class':'a-size-base'})[1].get_text().strip()\n",
    "        df.loc[indexF,'4Star'] = review_table.find_all('tr')[1].find_all('span',attrs={'class':'a-size-base'})[1].get_text().strip()\n",
    "        df.loc[indexF,'3Star'] = review_table.find_all('tr')[2].find_all('span',attrs={'class':'a-size-base'})[1].get_text().strip()\n",
    "        df.loc[indexF,'2Star'] = review_table.find_all('tr')[3].find_all('span',attrs={'class':'a-size-base'})[1].get_text().strip()\n",
    "        df.loc[indexF,'1Star'] = review_table.find_all('tr')[4].find_all('span',attrs={'class':'a-size-base'})[1].get_text().strip()\n",
    "    else:\n",
    "        #Scraping of the data from the tables\n",
    "        df.loc[indexF,'brand'] = table_prod_1.find_all('td')[0].get_text().strip()\n",
    "        df.loc[indexF,'color'] = table_prod_1.find_all('td')[2].get_text().strip()\n",
    "        df.loc[indexF,'Pdt_dimension'] = table_prod_2.find_all('td')[-2].get_text().strip()\n",
    "        df.loc[indexF,'Weight'] = table_prod_2.find_all('td')[-1].get_text().strip()\n",
    "        df.loc[indexF,'origin'] = table_prod_1.find_all('td')[-1].get_text().strip()\n",
    "        df.loc[indexF,'ASIN'] = table_prod_2.find_all('td')[0].get_text().strip()\n",
    "        df.loc[indexF,'category'] = table_prod_2.find_all('td')[-1].get_text().strip()\n",
    "        df.loc[indexF,'5Star'] = review_table.find_all('tr')[0].find_all('span',attrs={'class':'a-size-base'})[1].get_text().strip()\n",
    "        df.loc[indexF,'4Star'] = review_table.find_all('tr')[1].find_all('span',attrs={'class':'a-size-base'})[1].get_text().strip()\n",
    "        df.loc[indexF,'3Star'] = review_table.find_all('tr')[2].find_all('span',attrs={'class':'a-size-base'})[1].get_text().strip()\n",
    "        df.loc[indexF,'2Star'] = review_table.find_all('tr')[3].find_all('span',attrs={'class':'a-size-base'})[1].get_text().strip()\n",
    "        df.loc[indexF,'1Star'] = review_table.find_all('tr')[4].find_all('span',attrs={'class':'a-size-base'})[1].get_text().strip()\n",
    "    \n",
    "    print('Completed the data collection')\n",
    "    driver.quit()"
   ]
  },
  {
   "cell_type": "code",
   "execution_count": 200,
   "id": "140faeaa",
   "metadata": {},
   "outputs": [
    {
     "name": "stdout",
     "output_type": "stream",
     "text": [
      "Completed the data collection\n",
      "Completed the data collection\n",
      "Completed the data collection\n",
      "Completed the data collection\n",
      "Completed the data collection\n",
      "Completed the data collection\n"
     ]
    }
   ],
   "source": [
    "for indexF,prod_link in enumerate(vid_games.f_link[94:]):\n",
    "    crawler_product(prod_link,vid_games,indexF)"
   ]
  },
  {
   "cell_type": "code",
   "execution_count": 187,
   "id": "95d76b00",
   "metadata": {},
   "outputs": [
    {
     "data": {
      "text/plain": [
       "'66%'"
      ]
     },
     "execution_count": 187,
     "metadata": {},
     "output_type": "execute_result"
    }
   ],
   "source": [
    "review_table.find_all('tr')[0].find_all('span',attrs={'class':'a-size-base'})[1].get_text().strip()"
   ]
  },
  {
   "cell_type": "code",
   "execution_count": 201,
   "id": "124d3ef2",
   "metadata": {},
   "outputs": [
    {
     "data": {
      "text/html": [
       "<div>\n",
       "<style scoped>\n",
       "    .dataframe tbody tr th:only-of-type {\n",
       "        vertical-align: middle;\n",
       "    }\n",
       "\n",
       "    .dataframe tbody tr th {\n",
       "        vertical-align: top;\n",
       "    }\n",
       "\n",
       "    .dataframe thead th {\n",
       "        text-align: right;\n",
       "    }\n",
       "</style>\n",
       "<table border=\"1\" class=\"dataframe\">\n",
       "  <thead>\n",
       "    <tr style=\"text-align: right;\">\n",
       "      <th></th>\n",
       "      <th>Name</th>\n",
       "      <th>reviews</th>\n",
       "      <th>stars</th>\n",
       "      <th>price</th>\n",
       "      <th>link_in</th>\n",
       "      <th>f_link</th>\n",
       "      <th>brand</th>\n",
       "      <th>color</th>\n",
       "      <th>Pdt_dimension</th>\n",
       "      <th>Weight</th>\n",
       "      <th>origin</th>\n",
       "      <th>ASIN</th>\n",
       "      <th>category</th>\n",
       "      <th>5Star</th>\n",
       "      <th>4Star</th>\n",
       "      <th>3Star</th>\n",
       "      <th>2Star</th>\n",
       "      <th>1Star</th>\n",
       "    </tr>\n",
       "  </thead>\n",
       "  <tbody>\n",
       "    <tr>\n",
       "      <th>94</th>\n",
       "      <td>Sony Horizon: Zero Dawn - Complete Edition (Pl...</td>\n",
       "      <td>4.5 out of 5 stars</td>\n",
       "      <td>Sony</td>\n",
       "      <td>1,528</td>\n",
       "      <td>/Horizon-Zero-Dawn-Complete-PS4/dp/B07D2NY7RW/...</td>\n",
       "      <td>https://www.amazon.in/Horizon-Zero-Dawn-Comple...</td>\n",
       "      <td>NaN</td>\n",
       "      <td>NaN</td>\n",
       "      <td>NaN</td>\n",
       "      <td>NaN</td>\n",
       "      <td>NaN</td>\n",
       "      <td>NaN</td>\n",
       "      <td>NaN</td>\n",
       "      <td>NaN</td>\n",
       "      <td>NaN</td>\n",
       "      <td>NaN</td>\n",
       "      <td>NaN</td>\n",
       "      <td>NaN</td>\n",
       "    </tr>\n",
       "    <tr>\n",
       "      <th>95</th>\n",
       "      <td>Cosmic Byte GS410 Headphones with Mic and for ...</td>\n",
       "      <td>4.1 out of 5 stars</td>\n",
       "      <td>Cosmic Byte</td>\n",
       "      <td>18,705</td>\n",
       "      <td>/Cosmic-Byte-GS410-Headphones-Grey/dp/B07K7XRJ...</td>\n",
       "      <td>https://www.amazon.in/Cosmic-Byte-GS410-Headph...</td>\n",
       "      <td>NaN</td>\n",
       "      <td>NaN</td>\n",
       "      <td>NaN</td>\n",
       "      <td>NaN</td>\n",
       "      <td>NaN</td>\n",
       "      <td>NaN</td>\n",
       "      <td>NaN</td>\n",
       "      <td>NaN</td>\n",
       "      <td>NaN</td>\n",
       "      <td>NaN</td>\n",
       "      <td>NaN</td>\n",
       "      <td>NaN</td>\n",
       "    </tr>\n",
       "    <tr>\n",
       "      <th>96</th>\n",
       "      <td>Microsoft Xbox Series X/S Wireless Controller ...</td>\n",
       "      <td>4.3 out of 5 stars</td>\n",
       "      <td>Microsoft</td>\n",
       "      <td>255</td>\n",
       "      <td>/Microsoft-Wireless-Controller-USB-C-Cable/dp/...</td>\n",
       "      <td>https://www.amazon.in/Microsoft-Wireless-Contr...</td>\n",
       "      <td>NaN</td>\n",
       "      <td>NaN</td>\n",
       "      <td>NaN</td>\n",
       "      <td>NaN</td>\n",
       "      <td>NaN</td>\n",
       "      <td>NaN</td>\n",
       "      <td>NaN</td>\n",
       "      <td>NaN</td>\n",
       "      <td>NaN</td>\n",
       "      <td>NaN</td>\n",
       "      <td>NaN</td>\n",
       "      <td>NaN</td>\n",
       "    </tr>\n",
       "    <tr>\n",
       "      <th>97</th>\n",
       "      <td>Nitho Switch Armour Case Lite for Nintendo Swi...</td>\n",
       "      <td>4.5 out of 5 stars</td>\n",
       "      <td>Nitho</td>\n",
       "      <td>19</td>\n",
       "      <td>/Nitho-NITHO-NSW-ACLT-K-Switch-Armour-Case/dp/...</td>\n",
       "      <td>https://www.amazon.in/Nitho-NITHO-NSW-ACLT-K-S...</td>\n",
       "      <td>NaN</td>\n",
       "      <td>NaN</td>\n",
       "      <td>NaN</td>\n",
       "      <td>NaN</td>\n",
       "      <td>NaN</td>\n",
       "      <td>NaN</td>\n",
       "      <td>NaN</td>\n",
       "      <td>NaN</td>\n",
       "      <td>NaN</td>\n",
       "      <td>NaN</td>\n",
       "      <td>NaN</td>\n",
       "      <td>NaN</td>\n",
       "    </tr>\n",
       "    <tr>\n",
       "      <th>98</th>\n",
       "      <td>Blue Yeti USB Microphone for Recording, Stream...</td>\n",
       "      <td>15,241</td>\n",
       "      <td>4.3 out of 5 stars</td>\n",
       "      <td>₹10,995.00</td>\n",
       "      <td>/Blue-Yeti-USB-Microphone-Midnight/dp/B01LY6Z2...</td>\n",
       "      <td>https://www.amazon.in/Blue-Yeti-USB-Microphone...</td>\n",
       "      <td>NaN</td>\n",
       "      <td>NaN</td>\n",
       "      <td>NaN</td>\n",
       "      <td>NaN</td>\n",
       "      <td>NaN</td>\n",
       "      <td>NaN</td>\n",
       "      <td>NaN</td>\n",
       "      <td>NaN</td>\n",
       "      <td>NaN</td>\n",
       "      <td>NaN</td>\n",
       "      <td>NaN</td>\n",
       "      <td>NaN</td>\n",
       "    </tr>\n",
       "    <tr>\n",
       "      <th>99</th>\n",
       "      <td>Marvel's Spider Man (PS4)</td>\n",
       "      <td>4.6 out of 5 stars</td>\n",
       "      <td>Sony</td>\n",
       "      <td>2,837</td>\n",
       "      <td>/Sony-195229-Marvels-Spider-Man/dp/B07CR4GQD3/...</td>\n",
       "      <td>https://www.amazon.in/Sony-195229-Marvels-Spid...</td>\n",
       "      <td>NaN</td>\n",
       "      <td>NaN</td>\n",
       "      <td>NaN</td>\n",
       "      <td>NaN</td>\n",
       "      <td>NaN</td>\n",
       "      <td>NaN</td>\n",
       "      <td>NaN</td>\n",
       "      <td>NaN</td>\n",
       "      <td>NaN</td>\n",
       "      <td>NaN</td>\n",
       "      <td>NaN</td>\n",
       "      <td>NaN</td>\n",
       "    </tr>\n",
       "  </tbody>\n",
       "</table>\n",
       "</div>"
      ],
      "text/plain": [
       "                                                 Name             reviews  \\\n",
       "94  Sony Horizon: Zero Dawn - Complete Edition (Pl...  4.5 out of 5 stars   \n",
       "95  Cosmic Byte GS410 Headphones with Mic and for ...  4.1 out of 5 stars   \n",
       "96  Microsoft Xbox Series X/S Wireless Controller ...  4.3 out of 5 stars   \n",
       "97  Nitho Switch Armour Case Lite for Nintendo Swi...  4.5 out of 5 stars   \n",
       "98  Blue Yeti USB Microphone for Recording, Stream...              15,241   \n",
       "99                          Marvel's Spider Man (PS4)  4.6 out of 5 stars   \n",
       "\n",
       "                 stars       price  \\\n",
       "94                Sony       1,528   \n",
       "95         Cosmic Byte      18,705   \n",
       "96           Microsoft         255   \n",
       "97               Nitho          19   \n",
       "98  4.3 out of 5 stars  ₹10,995.00   \n",
       "99                Sony       2,837   \n",
       "\n",
       "                                              link_in  \\\n",
       "94  /Horizon-Zero-Dawn-Complete-PS4/dp/B07D2NY7RW/...   \n",
       "95  /Cosmic-Byte-GS410-Headphones-Grey/dp/B07K7XRJ...   \n",
       "96  /Microsoft-Wireless-Controller-USB-C-Cable/dp/...   \n",
       "97  /Nitho-NITHO-NSW-ACLT-K-Switch-Armour-Case/dp/...   \n",
       "98  /Blue-Yeti-USB-Microphone-Midnight/dp/B01LY6Z2...   \n",
       "99  /Sony-195229-Marvels-Spider-Man/dp/B07CR4GQD3/...   \n",
       "\n",
       "                                               f_link brand color  \\\n",
       "94  https://www.amazon.in/Horizon-Zero-Dawn-Comple...   NaN   NaN   \n",
       "95  https://www.amazon.in/Cosmic-Byte-GS410-Headph...   NaN   NaN   \n",
       "96  https://www.amazon.in/Microsoft-Wireless-Contr...   NaN   NaN   \n",
       "97  https://www.amazon.in/Nitho-NITHO-NSW-ACLT-K-S...   NaN   NaN   \n",
       "98  https://www.amazon.in/Blue-Yeti-USB-Microphone...   NaN   NaN   \n",
       "99  https://www.amazon.in/Sony-195229-Marvels-Spid...   NaN   NaN   \n",
       "\n",
       "   Pdt_dimension Weight origin ASIN category 5Star 4Star 3Star 2Star 1Star  \n",
       "94           NaN    NaN    NaN  NaN      NaN   NaN   NaN   NaN   NaN   NaN  \n",
       "95           NaN    NaN    NaN  NaN      NaN   NaN   NaN   NaN   NaN   NaN  \n",
       "96           NaN    NaN    NaN  NaN      NaN   NaN   NaN   NaN   NaN   NaN  \n",
       "97           NaN    NaN    NaN  NaN      NaN   NaN   NaN   NaN   NaN   NaN  \n",
       "98           NaN    NaN    NaN  NaN      NaN   NaN   NaN   NaN   NaN   NaN  \n",
       "99           NaN    NaN    NaN  NaN      NaN   NaN   NaN   NaN   NaN   NaN  "
      ]
     },
     "execution_count": 201,
     "metadata": {},
     "output_type": "execute_result"
    }
   ],
   "source": [
    "vid_games[vid_games.brand.isna()]"
   ]
  },
  {
   "cell_type": "code",
   "execution_count": 194,
   "id": "da8180ae",
   "metadata": {},
   "outputs": [
    {
     "data": {
      "text/html": [
       "<div>\n",
       "<style scoped>\n",
       "    .dataframe tbody tr th:only-of-type {\n",
       "        vertical-align: middle;\n",
       "    }\n",
       "\n",
       "    .dataframe tbody tr th {\n",
       "        vertical-align: top;\n",
       "    }\n",
       "\n",
       "    .dataframe thead th {\n",
       "        text-align: right;\n",
       "    }\n",
       "</style>\n",
       "<table border=\"1\" class=\"dataframe\">\n",
       "  <thead>\n",
       "    <tr style=\"text-align: right;\">\n",
       "      <th></th>\n",
       "      <th>Name</th>\n",
       "      <th>reviews</th>\n",
       "      <th>stars</th>\n",
       "      <th>price</th>\n",
       "      <th>link_in</th>\n",
       "      <th>f_link</th>\n",
       "      <th>brand</th>\n",
       "      <th>color</th>\n",
       "      <th>Pdt_dimension</th>\n",
       "      <th>Weight</th>\n",
       "      <th>origin</th>\n",
       "      <th>ASIN</th>\n",
       "      <th>category</th>\n",
       "      <th>5Star</th>\n",
       "      <th>4Star</th>\n",
       "      <th>3Star</th>\n",
       "      <th>2Star</th>\n",
       "      <th>1Star</th>\n",
       "    </tr>\n",
       "  </thead>\n",
       "  <tbody>\n",
       "    <tr>\n",
       "      <th>57</th>\n",
       "      <td>Call of Duty: Infinite Warfare (PS4)</td>\n",
       "      <td>4.2 out of 5 stars</td>\n",
       "      <td>ACTIVISION</td>\n",
       "      <td>1,876</td>\n",
       "      <td>/Call-Duty-Infinite-Warfare-PS4/dp/B01JG2VZFQ/...</td>\n",
       "      <td>https://www.amazon.in/Call-Duty-Infinite-Warfa...</td>\n",
       "      <td>diff_product</td>\n",
       "      <td>diff_product</td>\n",
       "      <td>diff_product</td>\n",
       "      <td>diff_product</td>\n",
       "      <td>diff_product</td>\n",
       "      <td>diff_product</td>\n",
       "      <td>diff_product</td>\n",
       "      <td>57%</td>\n",
       "      <td>21%</td>\n",
       "      <td>10%</td>\n",
       "      <td>5%</td>\n",
       "      <td>7%</td>\n",
       "    </tr>\n",
       "  </tbody>\n",
       "</table>\n",
       "</div>"
      ],
      "text/plain": [
       "                                    Name             reviews       stars  \\\n",
       "57  Call of Duty: Infinite Warfare (PS4)  4.2 out of 5 stars  ACTIVISION   \n",
       "\n",
       "    price                                            link_in  \\\n",
       "57  1,876  /Call-Duty-Infinite-Warfare-PS4/dp/B01JG2VZFQ/...   \n",
       "\n",
       "                                               f_link         brand  \\\n",
       "57  https://www.amazon.in/Call-Duty-Infinite-Warfa...  diff_product   \n",
       "\n",
       "           color Pdt_dimension        Weight        origin          ASIN  \\\n",
       "57  diff_product  diff_product  diff_product  diff_product  diff_product   \n",
       "\n",
       "        category 5Star 4Star 3Star 2Star 1Star  \n",
       "57  diff_product   57%   21%   10%    5%    7%  "
      ]
     },
     "execution_count": 194,
     "metadata": {},
     "output_type": "execute_result"
    }
   ],
   "source": [
    "vid_games[vid_games.f_link == 'https://www.amazon.in/Call-Duty-Infinite-Warfare-PS4/dp/B01JG2VZFQ/ref=zg_bs_videogames_58/260-6571345-4071009?pd_rd_i=B01JG2VZFQ&psc=1']"
   ]
  },
  {
   "cell_type": "code",
   "execution_count": 45,
   "id": "f4d76934",
   "metadata": {},
   "outputs": [],
   "source": [
    "driver.quit()"
   ]
  },
  {
   "cell_type": "code",
   "execution_count": null,
   "id": "e8d481bf",
   "metadata": {},
   "outputs": [],
   "source": []
  },
  {
   "cell_type": "code",
   "execution_count": null,
   "id": "def5a5eb",
   "metadata": {},
   "outputs": [],
   "source": []
  },
  {
   "cell_type": "code",
   "execution_count": null,
   "id": "0447e0cb",
   "metadata": {},
   "outputs": [],
   "source": []
  },
  {
   "cell_type": "code",
   "execution_count": null,
   "id": "3cd7b910",
   "metadata": {},
   "outputs": [],
   "source": []
  },
  {
   "cell_type": "code",
   "execution_count": null,
   "id": "9413833e",
   "metadata": {},
   "outputs": [],
   "source": []
  },
  {
   "cell_type": "code",
   "execution_count": null,
   "id": "0ff65bc4",
   "metadata": {},
   "outputs": [],
   "source": []
  },
  {
   "cell_type": "code",
   "execution_count": null,
   "id": "4f01ec92",
   "metadata": {},
   "outputs": [],
   "source": []
  },
  {
   "cell_type": "code",
   "execution_count": null,
   "id": "99568c6a",
   "metadata": {},
   "outputs": [],
   "source": []
  },
  {
   "cell_type": "code",
   "execution_count": null,
   "id": "d29312ce",
   "metadata": {},
   "outputs": [],
   "source": []
  }
 ],
 "metadata": {
  "kernelspec": {
   "display_name": "Python 3 (ipykernel)",
   "language": "python",
   "name": "python3"
  },
  "language_info": {
   "codemirror_mode": {
    "name": "ipython",
    "version": 3
   },
   "file_extension": ".py",
   "mimetype": "text/x-python",
   "name": "python",
   "nbconvert_exporter": "python",
   "pygments_lexer": "ipython3",
   "version": "3.7.12"
  }
 },
 "nbformat": 4,
 "nbformat_minor": 5
}

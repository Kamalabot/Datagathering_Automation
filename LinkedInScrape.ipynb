{
 "cells": [
  {
   "cell_type": "code",
   "execution_count": 246,
   "id": "b99e6fc7",
   "metadata": {},
   "outputs": [],
   "source": [
    "import pandas as pd\n",
    "import numpy as np\n",
    "import plotly.express as px\n",
    "import plotly.graph_objects as go\n",
    "import dataset\n",
    "from bs4 import BeautifulSoup \n",
    "import requests\n",
    "from urllib.parse import unquote\n",
    "from urllib.parse import urljoin"
   ]
  },
  {
   "cell_type": "markdown",
   "id": "37658581",
   "metadata": {},
   "source": [
    "Get to the Network page in the profile \n",
    "\n",
    "Scrape the links of the network of professionals connected to you\n",
    "\n",
    "Build the links into full links to reach their profiles without sign-in\n",
    "\n",
    "Build Profile_scraper() to get the details inside the profile. Build the function in a way that, much of the code can be re-used for other kind of profile scrapings, \n",
    "    Blockchain NFT, Currencies, Chains, Brides / grooms information... to mention some examples\n",
    "\n",
    "Build dataset of connections' connections. This is where the entire linked-in site can be easily scraped, if the users allow to see their connections...\n",
    "\n",
    "Without sign-in we can only see the links who are in someway similar to person opened through the link. These may not be connected to your connection. In short the data, coming out of the profile is much limited, without sign-in\n",
    "Data that can be scraped is listed \n",
    "\n",
    "After working on the data from linked-in for for 4 hours, there are couple of points to remember.\n",
    "\n",
    "    always get the sources of atleast 50 pages and try out to find all the types of errors that can occur.\n",
    "\n",
    "    list the error observation and find out what kind of x_path mismatch might create the error\n",
    "\n",
    "    find alternate solution to these errors\n",
    "\n",
    "    Finally when running the details for the entire list of connections be sure to again, get the source and filter through it\n",
    "\n",
    "Work on the next step to scrape the messari IO website.... "
   ]
  },
  {
   "cell_type": "markdown",
   "id": "22c7c799",
   "metadata": {},
   "source": [
    "learn more about the usage\n",
    "\n",
    "driver.execute_script(\"window.scrollBy(0, document.body.scrollHeight-400)\")"
   ]
  },
  {
   "cell_type": "code",
   "execution_count": 247,
   "id": "0ae76629",
   "metadata": {},
   "outputs": [],
   "source": [
    "#Initiating the Selenium Drivers\n",
    "from selenium import webdriver\n",
    "import time as time\n",
    "from selenium.common.exceptions import NoSuchElementException\n",
    "from selenium.common.exceptions import ElementNotInteractableException\n",
    "from selenium.webdriver.chrome.options import Options\n",
    "import warnings\n",
    "warnings.filterwarnings('ignore')"
   ]
  },
  {
   "cell_type": "code",
   "execution_count": 248,
   "id": "a8938cc3",
   "metadata": {},
   "outputs": [],
   "source": [
    "entry = 'https://www.linkedin.com'"
   ]
  },
  {
   "cell_type": "code",
   "execution_count": 249,
   "id": "25bb1902",
   "metadata": {},
   "outputs": [],
   "source": [
    "driver = webdriver.Chrome()\n",
    "driver.get(entry)\n",
    "driver.maximize_window()\n",
    "driver.find_element_by_class_name('nav__button-secondary').click()\n",
    "driver.find_element_by_id('username').send_keys('kamaljp@gmail.com')\n",
    "driver.find_element_by_id('password').send_keys('SepdL!n7')\n",
    "driver.find_element_by_class_name('login__form_action_container').click()\n",
    "driver.find_element_by_id('ember19').click()"
   ]
  },
  {
   "cell_type": "code",
   "execution_count": 250,
   "id": "aeab70be",
   "metadata": {},
   "outputs": [],
   "source": [
    "conn_tot = driver.find_element_by_class_name('pl3').text"
   ]
  },
  {
   "cell_type": "code",
   "execution_count": 251,
   "id": "1481f5fb",
   "metadata": {},
   "outputs": [],
   "source": [
    "driver.find_element_by_class_name('pl3').click()"
   ]
  },
  {
   "cell_type": "code",
   "execution_count": 252,
   "id": "a9733cb1",
   "metadata": {},
   "outputs": [
    {
     "data": {
      "text/plain": [
       "95"
      ]
     },
     "execution_count": 252,
     "metadata": {},
     "output_type": "execute_result"
    }
   ],
   "source": [
    "conn_tot = int(conn_tot)\n",
    "tot_scroll = int(np.floor(conn_tot/10))\n",
    "tot_scroll"
   ]
  },
  {
   "cell_type": "code",
   "execution_count": 24,
   "id": "5c1da443",
   "metadata": {},
   "outputs": [],
   "source": [
    "for i in range(1,tot_scroll):\n",
    "    driver.execute_script(\"window.scrollTo(0, document.body.scrollHeight);\")\n",
    "    time.sleep(2)\n",
    "    #print(i)\n",
    "    if i==4:\n",
    "        driver.execute_script(\"window.scrollTo(document.body.scrollHeight,window.innerHeight);\")\n",
    "    else:\n",
    "        continue\n",
    "html_source = driver.page_source\n",
    "soup_net = BeautifulSoup(html_source,'html.parser')\n",
    "driver.quit()"
   ]
  },
  {
   "cell_type": "code",
   "execution_count": 81,
   "id": "f4983894",
   "metadata": {},
   "outputs": [
    {
     "name": "stdout",
     "output_type": "stream",
     "text": [
      ".linkedin.com\n",
      "False\n"
     ]
    }
   ],
   "source": [
    "# Don't execute, the program tries to load the cookies from a different session. Errors out\n",
    "import json\n",
    "\n",
    "import pickle\n",
    "\n",
    "browser_cookie = driver.get_cookies()\n",
    "pickle.dump(driver.get_cookies(),open(\"cookies_1.pkl\",\"wb\"))\n",
    "\n",
    "with open('cookies', 'w') as j_out:\n",
    "    json.dump(browser_cookie, j_out)\n",
    "with open('cookies') as j:\n",
    "    saved_cookie = json.load(j)\n",
    "#print(saved_cookie) # The whole cookie as a list with dictionaries \n",
    "print(saved_cookie[0]['domain'])\n",
    "print(saved_cookie[0]['httpOnly'])\n",
    "\n",
    "#new driver\n",
    "driver1 = webdriver.Chrome()\n",
    "\n",
    "# loading the stored cookies\n",
    "for cookie in saved_cookie:\n",
    "    driver1.add_cookie(cookie)"
   ]
  },
  {
   "cell_type": "code",
   "execution_count": 93,
   "id": "a92e415f",
   "metadata": {},
   "outputs": [],
   "source": [
    "#Don't execute, only reference\n",
    "t1 = soup_net.find_all('li',attrs={'class':'mn-connection-card artdeco-list'})"
   ]
  },
  {
   "cell_type": "code",
   "execution_count": 113,
   "id": "57c34ff4",
   "metadata": {},
   "outputs": [
    {
     "data": {
      "text/plain": [
       "'/in/dhivya-perumal-a0198b1b/'"
      ]
     },
     "execution_count": 113,
     "metadata": {},
     "output_type": "execute_result"
    }
   ],
   "source": [
    "#Don't execute, only reference\n",
    "t1[0].select('a')[1].get('href')"
   ]
  },
  {
   "cell_type": "code",
   "execution_count": 114,
   "id": "36fe7853",
   "metadata": {},
   "outputs": [
    {
     "data": {
      "text/plain": [
       "'Dhivya Perumal'"
      ]
     },
     "execution_count": 114,
     "metadata": {},
     "output_type": "execute_result"
    }
   ],
   "source": [
    "#Don't execute, only reference\n",
    "t1[0].select('span')[2].get_text().strip()"
   ]
  },
  {
   "cell_type": "code",
   "execution_count": 115,
   "id": "36fe7853",
   "metadata": {},
   "outputs": [
    {
     "data": {
      "text/plain": [
       "'Assistant Consultant at Tata Consultancy Services'"
      ]
     },
     "execution_count": 115,
     "metadata": {},
     "output_type": "execute_result"
    }
   ],
   "source": [
    "#Don't execute, only reference\n",
    "t1[0].select('span')[4].get_text().strip()"
   ]
  },
  {
   "cell_type": "code",
   "execution_count": 253,
   "id": "b983162e",
   "metadata": {},
   "outputs": [],
   "source": [
    "def get_connLevel_data(beauty_soup, df):\n",
    "    trial_L1 = beauty_soup.find_all('li',attrs={'class':'mn-connection-card artdeco-list'})\n",
    "    start = len(df)\n",
    "    for index,trial in enumerate(trial_L1):\n",
    "        df.loc[start+index,'Name'] = trial.select('span')[2].get_text().strip()\n",
    "        df.loc[start+index,'Occupation'] = trial.select('span')[4].get_text().strip()\n",
    "        df.loc[start+index,'Link'] = urljoin(entry,trial.select('a')[1].get('href'))\n",
    "    end = len(df)\n",
    "    print('Total links got is {}'.format(end-start))"
   ]
  },
  {
   "cell_type": "code",
   "execution_count": 25,
   "id": "ccd3359c",
   "metadata": {},
   "outputs": [
    {
     "name": "stdout",
     "output_type": "stream",
     "text": [
      "Total links got is 947\n"
     ]
    }
   ],
   "source": [
    "data_conn_linkedin = pd.DataFrame()\n",
    "get_connLevel_data(soup_net,data_conn_linkedin)\n",
    "data_conn_linkedin.head()\n",
    "data_conn_linkedin.to_csv('linked_connection.csv')"
   ]
  },
  {
   "cell_type": "code",
   "execution_count": 254,
   "id": "4f34628a",
   "metadata": {},
   "outputs": [],
   "source": [
    "data_conn_linkedin = pd.read_csv('linked_connection.csv')"
   ]
  },
  {
   "cell_type": "code",
   "execution_count": 256,
   "id": "398e3b85",
   "metadata": {},
   "outputs": [
    {
     "data": {
      "text/html": [
       "<div>\n",
       "<style scoped>\n",
       "    .dataframe tbody tr th:only-of-type {\n",
       "        vertical-align: middle;\n",
       "    }\n",
       "\n",
       "    .dataframe tbody tr th {\n",
       "        vertical-align: top;\n",
       "    }\n",
       "\n",
       "    .dataframe thead th {\n",
       "        text-align: right;\n",
       "    }\n",
       "</style>\n",
       "<table border=\"1\" class=\"dataframe\">\n",
       "  <thead>\n",
       "    <tr style=\"text-align: right;\">\n",
       "      <th></th>\n",
       "      <th>Name</th>\n",
       "      <th>Occupation</th>\n",
       "      <th>Link</th>\n",
       "    </tr>\n",
       "  </thead>\n",
       "  <tbody>\n",
       "    <tr>\n",
       "      <th>0</th>\n",
       "      <td>Dhivya Perumal</td>\n",
       "      <td>Assistant Consultant at Tata Consultancy Services</td>\n",
       "      <td>https://www.linkedin.com/in/dhivya-perumal-a01...</td>\n",
       "    </tr>\n",
       "    <tr>\n",
       "      <th>1</th>\n",
       "      <td>Lakshmana Kumar</td>\n",
       "      <td>Assistant Professor at Sona College of Technology</td>\n",
       "      <td>https://www.linkedin.com/in/lakshmana-kumar-9b...</td>\n",
       "    </tr>\n",
       "    <tr>\n",
       "      <th>2</th>\n",
       "      <td>karthikeyan Balasubramani</td>\n",
       "      <td>Deputy Delivery Manager [SDS2/Tekla] at TRC Wo...</td>\n",
       "      <td>https://www.linkedin.com/in/karthikeyan-balasu...</td>\n",
       "    </tr>\n",
       "    <tr>\n",
       "      <th>3</th>\n",
       "      <td>Hitansha Bhatia (she/her)</td>\n",
       "      <td>Pastry Chef | French Tutor | Psychology Enthus...</td>\n",
       "      <td>https://www.linkedin.com/in/hitansha-bhatia-sh...</td>\n",
       "    </tr>\n",
       "    <tr>\n",
       "      <th>4</th>\n",
       "      <td>Prakhar Chauhan (PC)</td>\n",
       "      <td>Building state-of-the-art in patients safety a...</td>\n",
       "      <td>https://www.linkedin.com/in/prakhar-chauhan-pc...</td>\n",
       "    </tr>\n",
       "  </tbody>\n",
       "</table>\n",
       "</div>"
      ],
      "text/plain": [
       "                        Name  \\\n",
       "0             Dhivya Perumal   \n",
       "1            Lakshmana Kumar   \n",
       "2  karthikeyan Balasubramani   \n",
       "3  Hitansha Bhatia (she/her)   \n",
       "4       Prakhar Chauhan (PC)   \n",
       "\n",
       "                                          Occupation  \\\n",
       "0  Assistant Consultant at Tata Consultancy Services   \n",
       "1  Assistant Professor at Sona College of Technology   \n",
       "2  Deputy Delivery Manager [SDS2/Tekla] at TRC Wo...   \n",
       "3  Pastry Chef | French Tutor | Psychology Enthus...   \n",
       "4  Building state-of-the-art in patients safety a...   \n",
       "\n",
       "                                                Link  \n",
       "0  https://www.linkedin.com/in/dhivya-perumal-a01...  \n",
       "1  https://www.linkedin.com/in/lakshmana-kumar-9b...  \n",
       "2  https://www.linkedin.com/in/karthikeyan-balasu...  \n",
       "3  https://www.linkedin.com/in/hitansha-bhatia-sh...  \n",
       "4  https://www.linkedin.com/in/prakhar-chauhan-pc...  "
      ]
     },
     "execution_count": 256,
     "metadata": {},
     "output_type": "execute_result"
    }
   ],
   "source": [
    "data_conn_linkedin.drop('Unnamed: 0',axis=1,inplace=True)\n",
    "data_conn_linkedin.head()"
   ]
  },
  {
   "cell_type": "code",
   "execution_count": 257,
   "id": "a5eea481",
   "metadata": {},
   "outputs": [],
   "source": [
    "#Creating a subroutine to get page\n",
    "def get_page(main_driver):\n",
    "    soup = main_driver.page_source\n",
    "    ready_soup = BeautifulSoup(soup,'html.parser')\n",
    "    return ready_soup"
   ]
  },
  {
   "cell_type": "code",
   "execution_count": 85,
   "id": "bfaa3ca9",
   "metadata": {},
   "outputs": [],
   "source": [
    "# Open a new window, and try to use the same browser but sign-out. NOT WORKS\n",
    "driver.execute_script(\"window.open('');\")\n",
    "# Switch to the new window\n",
    "driver.switch_to.window(driver.window_handles[1])\n",
    "driver.get(page_url)\n",
    "time.sleep(3)"
   ]
  },
  {
   "cell_type": "code",
   "execution_count": 88,
   "id": "aca5d345",
   "metadata": {},
   "outputs": [],
   "source": [
    "profile_page = get_page(driver)"
   ]
  },
  {
   "cell_type": "code",
   "execution_count": 97,
   "id": "104b0939",
   "metadata": {},
   "outputs": [
    {
     "data": {
      "text/plain": [
       "'46'"
      ]
     },
     "execution_count": 97,
     "metadata": {},
     "output_type": "execute_result"
    }
   ],
   "source": [
    "#getting total connections\n",
    "profile_page.find_all('li',attrs={'class':'text-body-small'})[0].select('span')[1].get_text()"
   ]
  },
  {
   "cell_type": "code",
   "execution_count": 104,
   "id": "da6892c3",
   "metadata": {},
   "outputs": [
    {
     "data": {
      "text/plain": [
       "'Charlotte, North Carolina, United States'"
      ]
     },
     "execution_count": 104,
     "metadata": {},
     "output_type": "execute_result"
    }
   ],
   "source": [
    "#getting loctions\n",
    "profile_page.find_all('div',attrs={'class':'mt2 relative'})[0].select('span')[3].get_text().strip()"
   ]
  },
  {
   "cell_type": "code",
   "execution_count": 110,
   "id": "da6892c3",
   "metadata": {},
   "outputs": [
    {
     "data": {
      "text/plain": [
       "'12 years of mainframe experience in Banking and Healthcare domain.\\nHave very good experenice in Hogan -CIS application '"
      ]
     },
     "execution_count": 110,
     "metadata": {},
     "output_type": "execute_result"
    }
   ],
   "source": [
    "#getting About\n",
    "profile_page.find_all('div',attrs={'class':'display-flex ph5 pv3'})[0].select('span')[2].get_text()"
   ]
  },
  {
   "cell_type": "code",
   "execution_count": 231,
   "id": "da6892c3",
   "metadata": {},
   "outputs": [
    {
     "data": {
      "text/plain": [
       "'15'"
      ]
     },
     "execution_count": 231,
     "metadata": {},
     "output_type": "execute_result"
    }
   ],
   "source": [
    "#getting Mutual Connection\n",
    "profile_page.find_all('span',attrs={'class':'t-normal t-black--light t-14 hoverable-link-text'})[0].get_text().strip()[:2]"
   ]
  },
  {
   "cell_type": "code",
   "execution_count": 123,
   "id": "da6892c3",
   "metadata": {},
   "outputs": [
    {
     "data": {
      "text/plain": [
       "'https://www.linkedin.com/search/results/people/?facetNetwork=%22F%22&facetConnectionOf=%22ACoAAAQ88-EBjk3L7ghJ3-bHzR9UboxdBnzVac4%22&origin=MEMBER_PROFILE_CANNED_SEARCH'"
      ]
     },
     "execution_count": 123,
     "metadata": {},
     "output_type": "execute_result"
    }
   ],
   "source": [
    "#getting Mutual Connection\n",
    "profile_page.find('a',attrs={'class':'app-aware-link display-flex pv1 align-items-center link-without-hover-visited'}).get('href')"
   ]
  },
  {
   "cell_type": "code",
   "execution_count": 212,
   "id": "da6892c3",
   "metadata": {},
   "outputs": [
    {
     "data": {
      "text/plain": [
       "'Tata Consultancy Services'"
      ]
     },
     "execution_count": 212,
     "metadata": {},
     "output_type": "execute_result"
    }
   ],
   "source": [
    "#getting Working Currently\n",
    "profile_page.find_all('ul',attrs={'class':'pvs-list'})[1].find('span',attrs={'aria-hidden':'true'}).get_text().strip()"
   ]
  },
  {
   "cell_type": "code",
   "execution_count": 136,
   "id": "da6892c3",
   "metadata": {},
   "outputs": [
    {
     "data": {
      "text/plain": [
       "'Tata Consultancy Services'"
      ]
     },
     "execution_count": 136,
     "metadata": {},
     "output_type": "execute_result"
    }
   ],
   "source": [
    "#getting working currently in another way...\n",
    "profile_page.find_all('div',attrs={'class':'pvs-list__outer-container'})[1].select('span')[1].get_text()"
   ]
  },
  {
   "cell_type": "code",
   "execution_count": 144,
   "id": "da6892c3",
   "metadata": {},
   "outputs": [
    {
     "data": {
      "text/plain": [
       "'9'"
      ]
     },
     "execution_count": 144,
     "metadata": {},
     "output_type": "execute_result"
    }
   ],
   "source": [
    "#getting Tot_Skills from \"See all Skills\"\n",
    "profile_page.find_all('div',attrs={'class':'pvs-list__outer-container'})[4].select('span')[-1].get_text().strip()[-8]"
   ]
  },
  {
   "cell_type": "code",
   "execution_count": null,
   "id": "612da7d2",
   "metadata": {},
   "outputs": [],
   "source": [
    "#getting Education...\n",
    "profile_page.find_all('div',attrs={'class':'pvs-list__outer-container'})[3].select('span')[1].get_text()"
   ]
  },
  {
   "cell_type": "code",
   "execution_count": 258,
   "id": "1c0a8e2e",
   "metadata": {},
   "outputs": [],
   "source": [
    "def get_skills(main_driver,tot_skills):\n",
    "    try:\n",
    "        main_driver.find_elements_by_class_name('pvs-list__footer-wrapper')[2].click() #Clicking show skills\n",
    "    except NoSuchElementException as nse:\n",
    "        print('no skills page')\n",
    "    skill_soup = get_page(driver)\n",
    "    skill_set = []\n",
    "    for skill_span in skill_soup.find_all('span',attrs={'aria-hidden':'true'}):\n",
    "        skill_set.append(skill_span.get_text().strip())\n",
    "    #While returning, the tot_skills that was collected earlier is used \n",
    "    return skill_set[1:int(tot_skills)+1]"
   ]
  },
  {
   "cell_type": "code",
   "execution_count": 278,
   "id": "b983162e",
   "metadata": {},
   "outputs": [],
   "source": [
    "def get_profilevel_data(profile_soup, df,conn_index):\n",
    "    try:\n",
    "        df.loc[conn_index,'location'] = profile_soup.find_all('div',attrs={'class':'mt2 relative'})[0].select('span')[3].get_text().strip()\n",
    "    except (IndexError, ValueError,AttributeError):\n",
    "        df.loc[conn_index,'location'] = 'null'\n",
    "    \n",
    "    try:\n",
    "        df.loc[conn_index,'MuConn_link'] = profile_soup.find('a',attrs={'class':'app-aware-link display-flex pv1 align-items-center link-without-hover-visited'}).get('href')\n",
    "    except (IndexError, ValueError,AttributeError):\n",
    "        df.loc[conn_index,'MuConn_link'] = 'null'\n",
    "    \n",
    "    #Seperate try and except is required to catch the error from each assignment\n",
    "    try:\n",
    "        df.loc[conn_index,'tot_MuConn'] = profile_soup.find_all('span',attrs={'class':'t-normal t-black--light t-14 hoverable-link-text'})[0].get_text().strip()[:2]\n",
    "    except (IndexError, ValueError,AttributeError):\n",
    "        df.loc[conn_index,'tot_MuConn'] = 'null'    \n",
    "    try:\n",
    "        df.loc[conn_index,'tot_conn'] = profile_soup.find_all('li',attrs={'class':'text-body-small'})[0].select('span')[1].get_text()\n",
    "    except (IndexError, ValueError,AttributeError):\n",
    "        df.loc[conn_index,'tot_conn'] = 'null'\n",
    "    try:\n",
    "        df.loc[conn_index,'Working_Currently'] = profile_soup.find_all('ul',attrs={'class':'pvs-list'})[1].find('span',attrs={'aria-hidden':'true'}).get_text().strip() \n",
    "    except (IndexError, ValueError,AttributeError):\n",
    "        df.loc[conn_index,'Working_Currently'] = 'null'\n",
    "    try:\n",
    "        df.loc[conn_index,'About'] = profile_soup.find_all('div',attrs={'class':'display-flex ph5 pv3'})[0].select('span')[2].get_text() \n",
    "    except (IndexError, ValueError,AttributeError):\n",
    "        df.loc[conn_index,'About'] = 'null'\n",
    "    try:\n",
    "        df.loc[conn_index,'Education'] = profile_soup.find_all('div',attrs={'class':'pvs-list__outer-container'})[3].select('span')[1].get_text()\n",
    "    except (IndexError, ValueError,AttributeError):\n",
    "        df.loc[conn_index,'Education'] = 'null'\n",
    "    try:\n",
    "        df.loc[conn_index,'tot_skills']= profile_soup.find_all('div',attrs={'class':'pvs-list__outer-container'})[4].select('span')[-1].get_text().strip()\n",
    "    except (IndexError, ValueError,AttributeError):\n",
    "        df.loc[conn_index,'tot_skills'] = 'null'"
   ]
  },
  {
   "cell_type": "code",
   "execution_count": 264,
   "id": "09d00e7a",
   "metadata": {},
   "outputs": [],
   "source": [
    "sources=[] #stores the profiles locally\n",
    "def profile_collector(page_url,conn_index,main_driver,stor_dataframe):\n",
    "    main_driver.get(page_url) #send the existing driver, don't create new\n",
    "\n",
    "    main_driver.execute_script(\"window.scrollTo(0, document.body.scrollHeight);\")\n",
    "    #Above code initialises the selenium driver and opens the browser and scrolls to the end and captures all information\n",
    "    \n",
    "    firstpage = get_page(main_driver) #gets the first page\n",
    "    sources.append(firstpage)"
   ]
  },
  {
   "cell_type": "code",
   "execution_count": 266,
   "id": "770fd8ff",
   "metadata": {},
   "outputs": [
    {
     "name": "stdout",
     "output_type": "stream",
     "text": [
      "0\n",
      "1\n",
      "2\n",
      "3\n",
      "4\n"
     ]
    },
    {
     "ename": "KeyboardInterrupt",
     "evalue": "",
     "output_type": "error",
     "traceback": [
      "\u001b[1;31m---------------------------------------------------------------------------\u001b[0m",
      "\u001b[1;31mKeyboardInterrupt\u001b[0m                         Traceback (most recent call last)",
      "\u001b[1;32mC:\\Users\\D30001~1\\AppData\\Local\\Temp/ipykernel_5044/3826170428.py\u001b[0m in \u001b[0;36m<module>\u001b[1;34m\u001b[0m\n\u001b[0;32m      4\u001b[0m     \u001b[0mprint\u001b[0m\u001b[1;33m(\u001b[0m\u001b[0mindex\u001b[0m\u001b[1;33m)\u001b[0m\u001b[1;33m\u001b[0m\u001b[1;33m\u001b[0m\u001b[0m\n\u001b[0;32m      5\u001b[0m     \u001b[1;31m#print(link)\u001b[0m\u001b[1;33m\u001b[0m\u001b[1;33m\u001b[0m\u001b[1;33m\u001b[0m\u001b[0m\n\u001b[1;32m----> 6\u001b[1;33m     \u001b[0mprofile_collector\u001b[0m\u001b[1;33m(\u001b[0m\u001b[0mlink\u001b[0m\u001b[1;33m,\u001b[0m\u001b[0mindex\u001b[0m\u001b[1;33m,\u001b[0m\u001b[0mmain_driver\u001b[0m\u001b[1;33m=\u001b[0m\u001b[0mdriver\u001b[0m\u001b[1;33m,\u001b[0m\u001b[0mstor_dataframe\u001b[0m\u001b[1;33m=\u001b[0m\u001b[0mstor_dataframe\u001b[0m\u001b[1;33m)\u001b[0m\u001b[1;33m\u001b[0m\u001b[1;33m\u001b[0m\u001b[0m\n\u001b[0m",
      "\u001b[1;32mC:\\Users\\D30001~1\\AppData\\Local\\Temp/ipykernel_5044/2231268490.py\u001b[0m in \u001b[0;36mprofile_collector\u001b[1;34m(page_url, conn_index, main_driver, stor_dataframe)\u001b[0m\n\u001b[0;32m      2\u001b[0m \u001b[0msources\u001b[0m\u001b[1;33m=\u001b[0m\u001b[1;33m[\u001b[0m\u001b[1;33m]\u001b[0m \u001b[1;31m#stores the profiles locally\u001b[0m\u001b[1;33m\u001b[0m\u001b[1;33m\u001b[0m\u001b[0m\n\u001b[0;32m      3\u001b[0m \u001b[1;32mdef\u001b[0m \u001b[0mprofile_collector\u001b[0m\u001b[1;33m(\u001b[0m\u001b[0mpage_url\u001b[0m\u001b[1;33m,\u001b[0m\u001b[0mconn_index\u001b[0m\u001b[1;33m,\u001b[0m\u001b[0mmain_driver\u001b[0m\u001b[1;33m,\u001b[0m\u001b[0mstor_dataframe\u001b[0m\u001b[1;33m)\u001b[0m\u001b[1;33m:\u001b[0m\u001b[1;33m\u001b[0m\u001b[1;33m\u001b[0m\u001b[0m\n\u001b[1;32m----> 4\u001b[1;33m     \u001b[0mmain_driver\u001b[0m\u001b[1;33m.\u001b[0m\u001b[0mget\u001b[0m\u001b[1;33m(\u001b[0m\u001b[0mpage_url\u001b[0m\u001b[1;33m)\u001b[0m \u001b[1;31m#send the existing driver, don't create new\u001b[0m\u001b[1;33m\u001b[0m\u001b[1;33m\u001b[0m\u001b[0m\n\u001b[0m\u001b[0;32m      5\u001b[0m \u001b[1;33m\u001b[0m\u001b[0m\n\u001b[0;32m      6\u001b[0m     \u001b[0mmain_driver\u001b[0m\u001b[1;33m.\u001b[0m\u001b[0mexecute_script\u001b[0m\u001b[1;33m(\u001b[0m\u001b[1;34m\"window.scrollTo(0, document.body.scrollHeight);\"\u001b[0m\u001b[1;33m)\u001b[0m\u001b[1;33m\u001b[0m\u001b[1;33m\u001b[0m\u001b[0m\n",
      "\u001b[1;32mC:\\WorkFiles\\WPy64-37120\\pypy3.7-v7.3.7-win64\\site-packages\\selenium\\webdriver\\remote\\webdriver.py\u001b[0m in \u001b[0;36mget\u001b[1;34m(self, url)\u001b[0m\n\u001b[0;32m    434\u001b[0m         \u001b[0mLoads\u001b[0m \u001b[0ma\u001b[0m \u001b[0mweb\u001b[0m \u001b[0mpage\u001b[0m \u001b[1;32min\u001b[0m \u001b[0mthe\u001b[0m \u001b[0mcurrent\u001b[0m \u001b[0mbrowser\u001b[0m \u001b[0msession\u001b[0m\u001b[1;33m.\u001b[0m\u001b[1;33m\u001b[0m\u001b[1;33m\u001b[0m\u001b[0m\n\u001b[0;32m    435\u001b[0m         \"\"\"\n\u001b[1;32m--> 436\u001b[1;33m         \u001b[0mself\u001b[0m\u001b[1;33m.\u001b[0m\u001b[0mexecute\u001b[0m\u001b[1;33m(\u001b[0m\u001b[0mCommand\u001b[0m\u001b[1;33m.\u001b[0m\u001b[0mGET\u001b[0m\u001b[1;33m,\u001b[0m \u001b[1;33m{\u001b[0m\u001b[1;34m'url'\u001b[0m\u001b[1;33m:\u001b[0m \u001b[0murl\u001b[0m\u001b[1;33m}\u001b[0m\u001b[1;33m)\u001b[0m\u001b[1;33m\u001b[0m\u001b[1;33m\u001b[0m\u001b[0m\n\u001b[0m\u001b[0;32m    437\u001b[0m \u001b[1;33m\u001b[0m\u001b[0m\n\u001b[0;32m    438\u001b[0m     \u001b[1;33m@\u001b[0m\u001b[0mproperty\u001b[0m\u001b[1;33m\u001b[0m\u001b[1;33m\u001b[0m\u001b[0m\n",
      "\u001b[1;32mC:\\WorkFiles\\WPy64-37120\\pypy3.7-v7.3.7-win64\\site-packages\\selenium\\webdriver\\remote\\webdriver.py\u001b[0m in \u001b[0;36mexecute\u001b[1;34m(self, driver_command, params)\u001b[0m\n\u001b[0;32m    420\u001b[0m \u001b[1;33m\u001b[0m\u001b[0m\n\u001b[0;32m    421\u001b[0m         \u001b[0mparams\u001b[0m \u001b[1;33m=\u001b[0m \u001b[0mself\u001b[0m\u001b[1;33m.\u001b[0m\u001b[0m_wrap_value\u001b[0m\u001b[1;33m(\u001b[0m\u001b[0mparams\u001b[0m\u001b[1;33m)\u001b[0m\u001b[1;33m\u001b[0m\u001b[1;33m\u001b[0m\u001b[0m\n\u001b[1;32m--> 422\u001b[1;33m         \u001b[0mresponse\u001b[0m \u001b[1;33m=\u001b[0m \u001b[0mself\u001b[0m\u001b[1;33m.\u001b[0m\u001b[0mcommand_executor\u001b[0m\u001b[1;33m.\u001b[0m\u001b[0mexecute\u001b[0m\u001b[1;33m(\u001b[0m\u001b[0mdriver_command\u001b[0m\u001b[1;33m,\u001b[0m \u001b[0mparams\u001b[0m\u001b[1;33m)\u001b[0m\u001b[1;33m\u001b[0m\u001b[1;33m\u001b[0m\u001b[0m\n\u001b[0m\u001b[0;32m    423\u001b[0m         \u001b[1;32mif\u001b[0m \u001b[0mresponse\u001b[0m\u001b[1;33m:\u001b[0m\u001b[1;33m\u001b[0m\u001b[1;33m\u001b[0m\u001b[0m\n\u001b[0;32m    424\u001b[0m             \u001b[0mself\u001b[0m\u001b[1;33m.\u001b[0m\u001b[0merror_handler\u001b[0m\u001b[1;33m.\u001b[0m\u001b[0mcheck_response\u001b[0m\u001b[1;33m(\u001b[0m\u001b[0mresponse\u001b[0m\u001b[1;33m)\u001b[0m\u001b[1;33m\u001b[0m\u001b[1;33m\u001b[0m\u001b[0m\n",
      "\u001b[1;32mC:\\WorkFiles\\WPy64-37120\\pypy3.7-v7.3.7-win64\\site-packages\\selenium\\webdriver\\remote\\remote_connection.py\u001b[0m in \u001b[0;36mexecute\u001b[1;34m(self, command, params)\u001b[0m\n\u001b[0;32m    419\u001b[0m         \u001b[0mdata\u001b[0m \u001b[1;33m=\u001b[0m \u001b[0mutils\u001b[0m\u001b[1;33m.\u001b[0m\u001b[0mdump_json\u001b[0m\u001b[1;33m(\u001b[0m\u001b[0mparams\u001b[0m\u001b[1;33m)\u001b[0m\u001b[1;33m\u001b[0m\u001b[1;33m\u001b[0m\u001b[0m\n\u001b[0;32m    420\u001b[0m         \u001b[0murl\u001b[0m \u001b[1;33m=\u001b[0m \u001b[1;34mf\"{self._url}{path}\"\u001b[0m\u001b[1;33m\u001b[0m\u001b[1;33m\u001b[0m\u001b[0m\n\u001b[1;32m--> 421\u001b[1;33m         \u001b[1;32mreturn\u001b[0m \u001b[0mself\u001b[0m\u001b[1;33m.\u001b[0m\u001b[0m_request\u001b[0m\u001b[1;33m(\u001b[0m\u001b[0mcommand_info\u001b[0m\u001b[1;33m[\u001b[0m\u001b[1;36m0\u001b[0m\u001b[1;33m]\u001b[0m\u001b[1;33m,\u001b[0m \u001b[0murl\u001b[0m\u001b[1;33m,\u001b[0m \u001b[0mbody\u001b[0m\u001b[1;33m=\u001b[0m\u001b[0mdata\u001b[0m\u001b[1;33m)\u001b[0m\u001b[1;33m\u001b[0m\u001b[1;33m\u001b[0m\u001b[0m\n\u001b[0m\u001b[0;32m    422\u001b[0m \u001b[1;33m\u001b[0m\u001b[0m\n\u001b[0;32m    423\u001b[0m     \u001b[1;32mdef\u001b[0m \u001b[0m_request\u001b[0m\u001b[1;33m(\u001b[0m\u001b[0mself\u001b[0m\u001b[1;33m,\u001b[0m \u001b[0mmethod\u001b[0m\u001b[1;33m,\u001b[0m \u001b[0murl\u001b[0m\u001b[1;33m,\u001b[0m \u001b[0mbody\u001b[0m\u001b[1;33m=\u001b[0m\u001b[1;32mNone\u001b[0m\u001b[1;33m)\u001b[0m\u001b[1;33m:\u001b[0m\u001b[1;33m\u001b[0m\u001b[1;33m\u001b[0m\u001b[0m\n",
      "\u001b[1;32mC:\\WorkFiles\\WPy64-37120\\pypy3.7-v7.3.7-win64\\site-packages\\selenium\\webdriver\\remote\\remote_connection.py\u001b[0m in \u001b[0;36m_request\u001b[1;34m(self, method, url, body)\u001b[0m\n\u001b[0;32m    441\u001b[0m \u001b[1;33m\u001b[0m\u001b[0m\n\u001b[0;32m    442\u001b[0m         \u001b[1;32mif\u001b[0m \u001b[0mself\u001b[0m\u001b[1;33m.\u001b[0m\u001b[0mkeep_alive\u001b[0m\u001b[1;33m:\u001b[0m\u001b[1;33m\u001b[0m\u001b[1;33m\u001b[0m\u001b[0m\n\u001b[1;32m--> 443\u001b[1;33m             \u001b[0mresp\u001b[0m \u001b[1;33m=\u001b[0m \u001b[0mself\u001b[0m\u001b[1;33m.\u001b[0m\u001b[0m_conn\u001b[0m\u001b[1;33m.\u001b[0m\u001b[0mrequest\u001b[0m\u001b[1;33m(\u001b[0m\u001b[0mmethod\u001b[0m\u001b[1;33m,\u001b[0m \u001b[0murl\u001b[0m\u001b[1;33m,\u001b[0m \u001b[0mbody\u001b[0m\u001b[1;33m=\u001b[0m\u001b[0mbody\u001b[0m\u001b[1;33m,\u001b[0m \u001b[0mheaders\u001b[0m\u001b[1;33m=\u001b[0m\u001b[0mheaders\u001b[0m\u001b[1;33m)\u001b[0m\u001b[1;33m\u001b[0m\u001b[1;33m\u001b[0m\u001b[0m\n\u001b[0m\u001b[0;32m    444\u001b[0m             \u001b[0mstatuscode\u001b[0m \u001b[1;33m=\u001b[0m \u001b[0mresp\u001b[0m\u001b[1;33m.\u001b[0m\u001b[0mstatus\u001b[0m\u001b[1;33m\u001b[0m\u001b[1;33m\u001b[0m\u001b[0m\n\u001b[0;32m    445\u001b[0m         \u001b[1;32melse\u001b[0m\u001b[1;33m:\u001b[0m\u001b[1;33m\u001b[0m\u001b[1;33m\u001b[0m\u001b[0m\n",
      "\u001b[1;32mC:\\WorkFiles\\WPy64-37120\\pypy3.7-v7.3.7-win64\\site-packages\\urllib3\\request.py\u001b[0m in \u001b[0;36mrequest\u001b[1;34m(self, method, url, fields, headers, **urlopen_kw)\u001b[0m\n\u001b[0;32m     77\u001b[0m         \u001b[1;32melse\u001b[0m\u001b[1;33m:\u001b[0m\u001b[1;33m\u001b[0m\u001b[1;33m\u001b[0m\u001b[0m\n\u001b[0;32m     78\u001b[0m             return self.request_encode_body(\n\u001b[1;32m---> 79\u001b[1;33m                 \u001b[0mmethod\u001b[0m\u001b[1;33m,\u001b[0m \u001b[0murl\u001b[0m\u001b[1;33m,\u001b[0m \u001b[0mfields\u001b[0m\u001b[1;33m=\u001b[0m\u001b[0mfields\u001b[0m\u001b[1;33m,\u001b[0m \u001b[0mheaders\u001b[0m\u001b[1;33m=\u001b[0m\u001b[0mheaders\u001b[0m\u001b[1;33m,\u001b[0m \u001b[1;33m**\u001b[0m\u001b[0murlopen_kw\u001b[0m\u001b[1;33m\u001b[0m\u001b[1;33m\u001b[0m\u001b[0m\n\u001b[0m\u001b[0;32m     80\u001b[0m             )\n\u001b[0;32m     81\u001b[0m \u001b[1;33m\u001b[0m\u001b[0m\n",
      "\u001b[1;32mC:\\WorkFiles\\WPy64-37120\\pypy3.7-v7.3.7-win64\\site-packages\\urllib3\\request.py\u001b[0m in \u001b[0;36mrequest_encode_body\u001b[1;34m(self, method, url, fields, headers, encode_multipart, multipart_boundary, **urlopen_kw)\u001b[0m\n\u001b[0;32m    168\u001b[0m         \u001b[0mextra_kw\u001b[0m\u001b[1;33m.\u001b[0m\u001b[0mupdate\u001b[0m\u001b[1;33m(\u001b[0m\u001b[0murlopen_kw\u001b[0m\u001b[1;33m)\u001b[0m\u001b[1;33m\u001b[0m\u001b[1;33m\u001b[0m\u001b[0m\n\u001b[0;32m    169\u001b[0m \u001b[1;33m\u001b[0m\u001b[0m\n\u001b[1;32m--> 170\u001b[1;33m         \u001b[1;32mreturn\u001b[0m \u001b[0mself\u001b[0m\u001b[1;33m.\u001b[0m\u001b[0murlopen\u001b[0m\u001b[1;33m(\u001b[0m\u001b[0mmethod\u001b[0m\u001b[1;33m,\u001b[0m \u001b[0murl\u001b[0m\u001b[1;33m,\u001b[0m \u001b[1;33m**\u001b[0m\u001b[0mextra_kw\u001b[0m\u001b[1;33m)\u001b[0m\u001b[1;33m\u001b[0m\u001b[1;33m\u001b[0m\u001b[0m\n\u001b[0m",
      "\u001b[1;32mC:\\WorkFiles\\WPy64-37120\\pypy3.7-v7.3.7-win64\\site-packages\\urllib3\\poolmanager.py\u001b[0m in \u001b[0;36murlopen\u001b[1;34m(self, method, url, redirect, **kw)\u001b[0m\n\u001b[0;32m    373\u001b[0m             \u001b[0mresponse\u001b[0m \u001b[1;33m=\u001b[0m \u001b[0mconn\u001b[0m\u001b[1;33m.\u001b[0m\u001b[0murlopen\u001b[0m\u001b[1;33m(\u001b[0m\u001b[0mmethod\u001b[0m\u001b[1;33m,\u001b[0m \u001b[0murl\u001b[0m\u001b[1;33m,\u001b[0m \u001b[1;33m**\u001b[0m\u001b[0mkw\u001b[0m\u001b[1;33m)\u001b[0m\u001b[1;33m\u001b[0m\u001b[1;33m\u001b[0m\u001b[0m\n\u001b[0;32m    374\u001b[0m         \u001b[1;32melse\u001b[0m\u001b[1;33m:\u001b[0m\u001b[1;33m\u001b[0m\u001b[1;33m\u001b[0m\u001b[0m\n\u001b[1;32m--> 375\u001b[1;33m             \u001b[0mresponse\u001b[0m \u001b[1;33m=\u001b[0m \u001b[0mconn\u001b[0m\u001b[1;33m.\u001b[0m\u001b[0murlopen\u001b[0m\u001b[1;33m(\u001b[0m\u001b[0mmethod\u001b[0m\u001b[1;33m,\u001b[0m \u001b[0mu\u001b[0m\u001b[1;33m.\u001b[0m\u001b[0mrequest_uri\u001b[0m\u001b[1;33m,\u001b[0m \u001b[1;33m**\u001b[0m\u001b[0mkw\u001b[0m\u001b[1;33m)\u001b[0m\u001b[1;33m\u001b[0m\u001b[1;33m\u001b[0m\u001b[0m\n\u001b[0m\u001b[0;32m    376\u001b[0m \u001b[1;33m\u001b[0m\u001b[0m\n\u001b[0;32m    377\u001b[0m         \u001b[0mredirect_location\u001b[0m \u001b[1;33m=\u001b[0m \u001b[0mredirect\u001b[0m \u001b[1;32mand\u001b[0m \u001b[0mresponse\u001b[0m\u001b[1;33m.\u001b[0m\u001b[0mget_redirect_location\u001b[0m\u001b[1;33m(\u001b[0m\u001b[1;33m)\u001b[0m\u001b[1;33m\u001b[0m\u001b[1;33m\u001b[0m\u001b[0m\n",
      "\u001b[1;32mC:\\WorkFiles\\WPy64-37120\\pypy3.7-v7.3.7-win64\\site-packages\\urllib3\\connectionpool.py\u001b[0m in \u001b[0;36murlopen\u001b[1;34m(self, method, url, body, headers, retries, redirect, assert_same_host, timeout, pool_timeout, release_conn, chunked, body_pos, **response_kw)\u001b[0m\n\u001b[0;32m    708\u001b[0m                 \u001b[0mbody\u001b[0m\u001b[1;33m=\u001b[0m\u001b[0mbody\u001b[0m\u001b[1;33m,\u001b[0m\u001b[1;33m\u001b[0m\u001b[1;33m\u001b[0m\u001b[0m\n\u001b[0;32m    709\u001b[0m                 \u001b[0mheaders\u001b[0m\u001b[1;33m=\u001b[0m\u001b[0mheaders\u001b[0m\u001b[1;33m,\u001b[0m\u001b[1;33m\u001b[0m\u001b[1;33m\u001b[0m\u001b[0m\n\u001b[1;32m--> 710\u001b[1;33m                 \u001b[0mchunked\u001b[0m\u001b[1;33m=\u001b[0m\u001b[0mchunked\u001b[0m\u001b[1;33m,\u001b[0m\u001b[1;33m\u001b[0m\u001b[1;33m\u001b[0m\u001b[0m\n\u001b[0m\u001b[0;32m    711\u001b[0m             )\n\u001b[0;32m    712\u001b[0m \u001b[1;33m\u001b[0m\u001b[0m\n",
      "\u001b[1;32mC:\\WorkFiles\\WPy64-37120\\pypy3.7-v7.3.7-win64\\site-packages\\urllib3\\connectionpool.py\u001b[0m in \u001b[0;36m_make_request\u001b[1;34m(self, conn, method, url, timeout, chunked, **httplib_request_kw)\u001b[0m\n\u001b[0;32m    447\u001b[0m                     \u001b[1;31m# Python 3 (including for exceptions like SystemExit).\u001b[0m\u001b[1;33m\u001b[0m\u001b[1;33m\u001b[0m\u001b[1;33m\u001b[0m\u001b[0m\n\u001b[0;32m    448\u001b[0m                     \u001b[1;31m# Otherwise it looks like a bug in the code.\u001b[0m\u001b[1;33m\u001b[0m\u001b[1;33m\u001b[0m\u001b[1;33m\u001b[0m\u001b[0m\n\u001b[1;32m--> 449\u001b[1;33m                     \u001b[0msix\u001b[0m\u001b[1;33m.\u001b[0m\u001b[0mraise_from\u001b[0m\u001b[1;33m(\u001b[0m\u001b[0me\u001b[0m\u001b[1;33m,\u001b[0m \u001b[1;32mNone\u001b[0m\u001b[1;33m)\u001b[0m\u001b[1;33m\u001b[0m\u001b[1;33m\u001b[0m\u001b[0m\n\u001b[0m\u001b[0;32m    450\u001b[0m         \u001b[1;32mexcept\u001b[0m \u001b[1;33m(\u001b[0m\u001b[0mSocketTimeout\u001b[0m\u001b[1;33m,\u001b[0m \u001b[0mBaseSSLError\u001b[0m\u001b[1;33m,\u001b[0m \u001b[0mSocketError\u001b[0m\u001b[1;33m)\u001b[0m \u001b[1;32mas\u001b[0m \u001b[0me\u001b[0m\u001b[1;33m:\u001b[0m\u001b[1;33m\u001b[0m\u001b[1;33m\u001b[0m\u001b[0m\n\u001b[0;32m    451\u001b[0m             \u001b[0mself\u001b[0m\u001b[1;33m.\u001b[0m\u001b[0m_raise_timeout\u001b[0m\u001b[1;33m(\u001b[0m\u001b[0merr\u001b[0m\u001b[1;33m=\u001b[0m\u001b[0me\u001b[0m\u001b[1;33m,\u001b[0m \u001b[0murl\u001b[0m\u001b[1;33m=\u001b[0m\u001b[0murl\u001b[0m\u001b[1;33m,\u001b[0m \u001b[0mtimeout_value\u001b[0m\u001b[1;33m=\u001b[0m\u001b[0mread_timeout\u001b[0m\u001b[1;33m)\u001b[0m\u001b[1;33m\u001b[0m\u001b[1;33m\u001b[0m\u001b[0m\n",
      "\u001b[1;32mC:\\WorkFiles\\WPy64-37120\\pypy3.7-v7.3.7-win64\\site-packages\\urllib3\\packages\\six.py\u001b[0m in \u001b[0;36mraise_from\u001b[1;34m(value, from_value)\u001b[0m\n",
      "\u001b[1;32mC:\\WorkFiles\\WPy64-37120\\pypy3.7-v7.3.7-win64\\site-packages\\urllib3\\connectionpool.py\u001b[0m in \u001b[0;36m_make_request\u001b[1;34m(self, conn, method, url, timeout, chunked, **httplib_request_kw)\u001b[0m\n\u001b[0;32m    442\u001b[0m                 \u001b[1;31m# Python 3\u001b[0m\u001b[1;33m\u001b[0m\u001b[1;33m\u001b[0m\u001b[1;33m\u001b[0m\u001b[0m\n\u001b[0;32m    443\u001b[0m                 \u001b[1;32mtry\u001b[0m\u001b[1;33m:\u001b[0m\u001b[1;33m\u001b[0m\u001b[1;33m\u001b[0m\u001b[0m\n\u001b[1;32m--> 444\u001b[1;33m                     \u001b[0mhttplib_response\u001b[0m \u001b[1;33m=\u001b[0m \u001b[0mconn\u001b[0m\u001b[1;33m.\u001b[0m\u001b[0mgetresponse\u001b[0m\u001b[1;33m(\u001b[0m\u001b[1;33m)\u001b[0m\u001b[1;33m\u001b[0m\u001b[1;33m\u001b[0m\u001b[0m\n\u001b[0m\u001b[0;32m    445\u001b[0m                 \u001b[1;32mexcept\u001b[0m \u001b[0mBaseException\u001b[0m \u001b[1;32mas\u001b[0m \u001b[0me\u001b[0m\u001b[1;33m:\u001b[0m\u001b[1;33m\u001b[0m\u001b[1;33m\u001b[0m\u001b[0m\n\u001b[0;32m    446\u001b[0m                     \u001b[1;31m# Remove the TypeError from the exception chain in\u001b[0m\u001b[1;33m\u001b[0m\u001b[1;33m\u001b[0m\u001b[1;33m\u001b[0m\u001b[0m\n",
      "\u001b[1;32mC:\\WorkFiles\\WPy64-37120\\pypy3.7-v7.3.7-win64\\lib-python\\3\\http\\client.py\u001b[0m in \u001b[0;36mgetresponse\u001b[1;34m(self)\u001b[0m\n\u001b[0;32m   1371\u001b[0m         \u001b[1;32mtry\u001b[0m\u001b[1;33m:\u001b[0m\u001b[1;33m\u001b[0m\u001b[1;33m\u001b[0m\u001b[0m\n\u001b[0;32m   1372\u001b[0m             \u001b[1;32mtry\u001b[0m\u001b[1;33m:\u001b[0m\u001b[1;33m\u001b[0m\u001b[1;33m\u001b[0m\u001b[0m\n\u001b[1;32m-> 1373\u001b[1;33m                 \u001b[0mresponse\u001b[0m\u001b[1;33m.\u001b[0m\u001b[0mbegin\u001b[0m\u001b[1;33m(\u001b[0m\u001b[1;33m)\u001b[0m\u001b[1;33m\u001b[0m\u001b[1;33m\u001b[0m\u001b[0m\n\u001b[0m\u001b[0;32m   1374\u001b[0m             \u001b[1;32mexcept\u001b[0m \u001b[0mConnectionError\u001b[0m\u001b[1;33m:\u001b[0m\u001b[1;33m\u001b[0m\u001b[1;33m\u001b[0m\u001b[0m\n\u001b[0;32m   1375\u001b[0m                 \u001b[0mself\u001b[0m\u001b[1;33m.\u001b[0m\u001b[0mclose\u001b[0m\u001b[1;33m(\u001b[0m\u001b[1;33m)\u001b[0m\u001b[1;33m\u001b[0m\u001b[1;33m\u001b[0m\u001b[0m\n",
      "\u001b[1;32mC:\\WorkFiles\\WPy64-37120\\pypy3.7-v7.3.7-win64\\lib-python\\3\\http\\client.py\u001b[0m in \u001b[0;36mbegin\u001b[1;34m(self)\u001b[0m\n\u001b[0;32m    317\u001b[0m         \u001b[1;31m# read until we get a non-100 response\u001b[0m\u001b[1;33m\u001b[0m\u001b[1;33m\u001b[0m\u001b[1;33m\u001b[0m\u001b[0m\n\u001b[0;32m    318\u001b[0m         \u001b[1;32mwhile\u001b[0m \u001b[1;32mTrue\u001b[0m\u001b[1;33m:\u001b[0m\u001b[1;33m\u001b[0m\u001b[1;33m\u001b[0m\u001b[0m\n\u001b[1;32m--> 319\u001b[1;33m             \u001b[0mversion\u001b[0m\u001b[1;33m,\u001b[0m \u001b[0mstatus\u001b[0m\u001b[1;33m,\u001b[0m \u001b[0mreason\u001b[0m \u001b[1;33m=\u001b[0m \u001b[0mself\u001b[0m\u001b[1;33m.\u001b[0m\u001b[0m_read_status\u001b[0m\u001b[1;33m(\u001b[0m\u001b[1;33m)\u001b[0m\u001b[1;33m\u001b[0m\u001b[1;33m\u001b[0m\u001b[0m\n\u001b[0m\u001b[0;32m    320\u001b[0m             \u001b[1;32mif\u001b[0m \u001b[0mstatus\u001b[0m \u001b[1;33m!=\u001b[0m \u001b[0mCONTINUE\u001b[0m\u001b[1;33m:\u001b[0m\u001b[1;33m\u001b[0m\u001b[1;33m\u001b[0m\u001b[0m\n\u001b[0;32m    321\u001b[0m                 \u001b[1;32mbreak\u001b[0m\u001b[1;33m\u001b[0m\u001b[1;33m\u001b[0m\u001b[0m\n",
      "\u001b[1;32mC:\\WorkFiles\\WPy64-37120\\pypy3.7-v7.3.7-win64\\lib-python\\3\\http\\client.py\u001b[0m in \u001b[0;36m_read_status\u001b[1;34m(self)\u001b[0m\n\u001b[0;32m    278\u001b[0m \u001b[1;33m\u001b[0m\u001b[0m\n\u001b[0;32m    279\u001b[0m     \u001b[1;32mdef\u001b[0m \u001b[0m_read_status\u001b[0m\u001b[1;33m(\u001b[0m\u001b[0mself\u001b[0m\u001b[1;33m)\u001b[0m\u001b[1;33m:\u001b[0m\u001b[1;33m\u001b[0m\u001b[1;33m\u001b[0m\u001b[0m\n\u001b[1;32m--> 280\u001b[1;33m         \u001b[0mline\u001b[0m \u001b[1;33m=\u001b[0m \u001b[0mstr\u001b[0m\u001b[1;33m(\u001b[0m\u001b[0mself\u001b[0m\u001b[1;33m.\u001b[0m\u001b[0mfp\u001b[0m\u001b[1;33m.\u001b[0m\u001b[0mreadline\u001b[0m\u001b[1;33m(\u001b[0m\u001b[0m_MAXLINE\u001b[0m \u001b[1;33m+\u001b[0m \u001b[1;36m1\u001b[0m\u001b[1;33m)\u001b[0m\u001b[1;33m,\u001b[0m \u001b[1;34m\"iso-8859-1\"\u001b[0m\u001b[1;33m)\u001b[0m\u001b[1;33m\u001b[0m\u001b[1;33m\u001b[0m\u001b[0m\n\u001b[0m\u001b[0;32m    281\u001b[0m         \u001b[1;32mif\u001b[0m \u001b[0mlen\u001b[0m\u001b[1;33m(\u001b[0m\u001b[0mline\u001b[0m\u001b[1;33m)\u001b[0m \u001b[1;33m>\u001b[0m \u001b[0m_MAXLINE\u001b[0m\u001b[1;33m:\u001b[0m\u001b[1;33m\u001b[0m\u001b[1;33m\u001b[0m\u001b[0m\n\u001b[0;32m    282\u001b[0m             \u001b[1;32mraise\u001b[0m \u001b[0mLineTooLong\u001b[0m\u001b[1;33m(\u001b[0m\u001b[1;34m\"status line\"\u001b[0m\u001b[1;33m)\u001b[0m\u001b[1;33m\u001b[0m\u001b[1;33m\u001b[0m\u001b[0m\n",
      "\u001b[1;32mC:\\WorkFiles\\WPy64-37120\\pypy3.7-v7.3.7-win64\\lib-python\\3\\socket.py\u001b[0m in \u001b[0;36mreadinto\u001b[1;34m(self, b)\u001b[0m\n\u001b[0;32m    587\u001b[0m         \u001b[1;32mwhile\u001b[0m \u001b[1;32mTrue\u001b[0m\u001b[1;33m:\u001b[0m\u001b[1;33m\u001b[0m\u001b[1;33m\u001b[0m\u001b[0m\n\u001b[0;32m    588\u001b[0m             \u001b[1;32mtry\u001b[0m\u001b[1;33m:\u001b[0m\u001b[1;33m\u001b[0m\u001b[1;33m\u001b[0m\u001b[0m\n\u001b[1;32m--> 589\u001b[1;33m                 \u001b[1;32mreturn\u001b[0m \u001b[0mself\u001b[0m\u001b[1;33m.\u001b[0m\u001b[0m_sock\u001b[0m\u001b[1;33m.\u001b[0m\u001b[0mrecv_into\u001b[0m\u001b[1;33m(\u001b[0m\u001b[0mb\u001b[0m\u001b[1;33m)\u001b[0m\u001b[1;33m\u001b[0m\u001b[1;33m\u001b[0m\u001b[0m\n\u001b[0m\u001b[0;32m    590\u001b[0m             \u001b[1;32mexcept\u001b[0m \u001b[0mtimeout\u001b[0m\u001b[1;33m:\u001b[0m\u001b[1;33m\u001b[0m\u001b[1;33m\u001b[0m\u001b[0m\n\u001b[0;32m    591\u001b[0m                 \u001b[0mself\u001b[0m\u001b[1;33m.\u001b[0m\u001b[0m_timeout_occurred\u001b[0m \u001b[1;33m=\u001b[0m \u001b[1;32mTrue\u001b[0m\u001b[1;33m\u001b[0m\u001b[1;33m\u001b[0m\u001b[0m\n",
      "\u001b[1;31mKeyboardInterrupt\u001b[0m: "
     ]
    }
   ],
   "source": [
    "stor_dataframe = pd.DataFrame() #Stordataframe is only referring, doesn't alter main_dataframe\n",
    "\n",
    "for index, link in enumerate(data_conn_linkedin.Link):\n",
    "    print(index)\n",
    "    #print(link)\n",
    "    profile_collector(link,index,main_driver=driver,stor_dataframe=stor_dataframe)"
   ]
  },
  {
   "cell_type": "code",
   "execution_count": 279,
   "id": "0f5a0f38",
   "metadata": {},
   "outputs": [
    {
     "name": "stdout",
     "output_type": "stream",
     "text": [
      "0\n",
      "1\n",
      "2\n",
      "3\n",
      "4\n",
      "5\n",
      "6\n",
      "7\n",
      "8\n",
      "9\n",
      "10\n",
      "11\n",
      "12\n",
      "13\n",
      "14\n",
      "15\n",
      "16\n",
      "17\n",
      "18\n",
      "19\n",
      "20\n",
      "21\n",
      "22\n",
      "23\n",
      "24\n",
      "25\n",
      "26\n",
      "27\n",
      "28\n",
      "29\n",
      "30\n",
      "31\n",
      "32\n",
      "33\n",
      "34\n",
      "35\n",
      "36\n",
      "37\n",
      "38\n",
      "39\n",
      "40\n",
      "41\n",
      "42\n",
      "43\n",
      "44\n",
      "45\n",
      "46\n",
      "47\n",
      "48\n",
      "49\n",
      "50\n",
      "51\n",
      "52\n",
      "53\n"
     ]
    }
   ],
   "source": [
    "stor_dataframe = pd.DataFrame()\n",
    "for index, source in enumerate(sources):\n",
    "    print(index)\n",
    "    get_profilevel_data(source,df=stor_dataframe,conn_index=index)"
   ]
  },
  {
   "cell_type": "code",
   "execution_count": 281,
   "id": "939d746b",
   "metadata": {},
   "outputs": [
    {
     "data": {
      "text/html": [
       "<div>\n",
       "<style scoped>\n",
       "    .dataframe tbody tr th:only-of-type {\n",
       "        vertical-align: middle;\n",
       "    }\n",
       "\n",
       "    .dataframe tbody tr th {\n",
       "        vertical-align: top;\n",
       "    }\n",
       "\n",
       "    .dataframe thead th {\n",
       "        text-align: right;\n",
       "    }\n",
       "</style>\n",
       "<table border=\"1\" class=\"dataframe\">\n",
       "  <thead>\n",
       "    <tr style=\"text-align: right;\">\n",
       "      <th></th>\n",
       "      <th>location</th>\n",
       "      <th>MuConn_link</th>\n",
       "      <th>tot_MuConn</th>\n",
       "      <th>tot_conn</th>\n",
       "      <th>Working_Currently</th>\n",
       "      <th>About</th>\n",
       "      <th>Education</th>\n",
       "      <th>tot_skills</th>\n",
       "    </tr>\n",
       "  </thead>\n",
       "  <tbody>\n",
       "    <tr>\n",
       "      <th>0</th>\n",
       "      <td>Charlotte, North Carolina, United States</td>\n",
       "      <td>https://www.linkedin.com/search/results/people...</td>\n",
       "      <td>15</td>\n",
       "      <td>47</td>\n",
       "      <td>Tata Consultancy Services</td>\n",
       "      <td>12 years of mainframe experience in Banking an...</td>\n",
       "      <td>Sona College of Technology</td>\n",
       "      <td>See all 9 skills</td>\n",
       "    </tr>\n",
       "    <tr>\n",
       "      <th>1</th>\n",
       "      <td>Salem, Tamil Nadu, India</td>\n",
       "      <td>https://www.linkedin.com/search/results/people...</td>\n",
       "      <td>14</td>\n",
       "      <td>155</td>\n",
       "      <td>Assistant Professor</td>\n",
       "      <td>null</td>\n",
       "      <td>Teaching</td>\n",
       "      <td>Endorse</td>\n",
       "    </tr>\n",
       "    <tr>\n",
       "      <th>2</th>\n",
       "      <td>Mysore, Karnataka, India</td>\n",
       "      <td>https://www.linkedin.com/search/results/people...</td>\n",
       "      <td>34</td>\n",
       "      <td>500+</td>\n",
       "      <td>TRC Worldwide Engineering, Inc.</td>\n",
       "      <td>null</td>\n",
       "      <td>JainUniversity</td>\n",
       "      <td>Grade: First Class</td>\n",
       "    </tr>\n",
       "    <tr>\n",
       "      <th>3</th>\n",
       "      <td>South Delhi, Delhi, India</td>\n",
       "      <td>https://www.linkedin.com/search/results/people...</td>\n",
       "      <td>7</td>\n",
       "      <td>88</td>\n",
       "      <td>Voice Over Artist</td>\n",
       "      <td>I’m a Pastry Chef with passion for flavor and ...</td>\n",
       "      <td></td>\n",
       "      <td>Issued Dec 2016 · No Expiration Date</td>\n",
       "    </tr>\n",
       "    <tr>\n",
       "      <th>4</th>\n",
       "      <td>Greater Delhi Area</td>\n",
       "      <td>https://www.linkedin.com/search/results/people...</td>\n",
       "      <td>14</td>\n",
       "      <td>500+</td>\n",
       "      <td>null</td>\n",
       "      <td>null</td>\n",
       "      <td>Procurement Lead</td>\n",
       "      <td>3PP procurement</td>\n",
       "    </tr>\n",
       "  </tbody>\n",
       "</table>\n",
       "</div>"
      ],
      "text/plain": [
       "                                   location  \\\n",
       "0  Charlotte, North Carolina, United States   \n",
       "1                  Salem, Tamil Nadu, India   \n",
       "2                  Mysore, Karnataka, India   \n",
       "3                 South Delhi, Delhi, India   \n",
       "4                        Greater Delhi Area   \n",
       "\n",
       "                                         MuConn_link tot_MuConn tot_conn  \\\n",
       "0  https://www.linkedin.com/search/results/people...         15       47   \n",
       "1  https://www.linkedin.com/search/results/people...         14      155   \n",
       "2  https://www.linkedin.com/search/results/people...         34     500+   \n",
       "3  https://www.linkedin.com/search/results/people...         7        88   \n",
       "4  https://www.linkedin.com/search/results/people...         14     500+   \n",
       "\n",
       "                 Working_Currently  \\\n",
       "0        Tata Consultancy Services   \n",
       "1              Assistant Professor   \n",
       "2  TRC Worldwide Engineering, Inc.   \n",
       "3                Voice Over Artist   \n",
       "4                             null   \n",
       "\n",
       "                                               About  \\\n",
       "0  12 years of mainframe experience in Banking an...   \n",
       "1                                               null   \n",
       "2                                               null   \n",
       "3  I’m a Pastry Chef with passion for flavor and ...   \n",
       "4                                               null   \n",
       "\n",
       "                    Education                            tot_skills  \n",
       "0  Sona College of Technology                      See all 9 skills  \n",
       "1                    Teaching                               Endorse  \n",
       "2              JainUniversity                    Grade: First Class  \n",
       "3                              Issued Dec 2016 · No Expiration Date  \n",
       "4            Procurement Lead                       3PP procurement  "
      ]
     },
     "execution_count": 281,
     "metadata": {},
     "output_type": "execute_result"
    }
   ],
   "source": [
    "stor_dataframe.head()"
   ]
  },
  {
   "cell_type": "code",
   "execution_count": 282,
   "id": "e8d481bf",
   "metadata": {},
   "outputs": [],
   "source": [
    "driver.quit()"
   ]
  },
  {
   "cell_type": "code",
   "execution_count": 283,
   "id": "05d04d75",
   "metadata": {},
   "outputs": [
    {
     "data": {
      "text/html": [
       "<div>\n",
       "<style scoped>\n",
       "    .dataframe tbody tr th:only-of-type {\n",
       "        vertical-align: middle;\n",
       "    }\n",
       "\n",
       "    .dataframe tbody tr th {\n",
       "        vertical-align: top;\n",
       "    }\n",
       "\n",
       "    .dataframe thead th {\n",
       "        text-align: right;\n",
       "    }\n",
       "</style>\n",
       "<table border=\"1\" class=\"dataframe\">\n",
       "  <thead>\n",
       "    <tr style=\"text-align: right;\">\n",
       "      <th></th>\n",
       "      <th>location</th>\n",
       "      <th>MuConn_link</th>\n",
       "      <th>tot_MuConn</th>\n",
       "      <th>tot_conn</th>\n",
       "      <th>Working_Currently</th>\n",
       "      <th>About</th>\n",
       "      <th>Education</th>\n",
       "      <th>tot_skills</th>\n",
       "    </tr>\n",
       "  </thead>\n",
       "  <tbody>\n",
       "    <tr>\n",
       "      <th>count</th>\n",
       "      <td>54</td>\n",
       "      <td>54</td>\n",
       "      <td>54</td>\n",
       "      <td>54</td>\n",
       "      <td>54</td>\n",
       "      <td>54</td>\n",
       "      <td>54</td>\n",
       "      <td>54</td>\n",
       "    </tr>\n",
       "    <tr>\n",
       "      <th>unique</th>\n",
       "      <td>37</td>\n",
       "      <td>48</td>\n",
       "      <td>19</td>\n",
       "      <td>10</td>\n",
       "      <td>35</td>\n",
       "      <td>17</td>\n",
       "      <td>39</td>\n",
       "      <td>38</td>\n",
       "    </tr>\n",
       "    <tr>\n",
       "      <th>top</th>\n",
       "      <td>Bengaluru, Karnataka, India</td>\n",
       "      <td>null</td>\n",
       "      <td>7</td>\n",
       "      <td>500+</td>\n",
       "      <td>null</td>\n",
       "      <td>null</td>\n",
       "      <td></td>\n",
       "      <td></td>\n",
       "    </tr>\n",
       "    <tr>\n",
       "      <th>freq</th>\n",
       "      <td>7</td>\n",
       "      <td>3</td>\n",
       "      <td>7</td>\n",
       "      <td>28</td>\n",
       "      <td>16</td>\n",
       "      <td>24</td>\n",
       "      <td>12</td>\n",
       "      <td>10</td>\n",
       "    </tr>\n",
       "  </tbody>\n",
       "</table>\n",
       "</div>"
      ],
      "text/plain": [
       "                           location MuConn_link tot_MuConn tot_conn  \\\n",
       "count                            54          54         54       54   \n",
       "unique                           37          48         19       10   \n",
       "top     Bengaluru, Karnataka, India        null         7      500+   \n",
       "freq                              7           3          7       28   \n",
       "\n",
       "       Working_Currently About Education tot_skills  \n",
       "count                 54    54        54         54  \n",
       "unique                35    17        39         38  \n",
       "top                 null  null                       \n",
       "freq                  16    24        12         10  "
      ]
     },
     "execution_count": 283,
     "metadata": {},
     "output_type": "execute_result"
    }
   ],
   "source": [
    "stor_dataframe.describe()"
   ]
  },
  {
   "cell_type": "code",
   "execution_count": 291,
   "id": "def5a5eb",
   "metadata": {},
   "outputs": [
    {
     "data": {
      "text/html": [
       "<div>\n",
       "<style scoped>\n",
       "    .dataframe tbody tr th:only-of-type {\n",
       "        vertical-align: middle;\n",
       "    }\n",
       "\n",
       "    .dataframe tbody tr th {\n",
       "        vertical-align: top;\n",
       "    }\n",
       "\n",
       "    .dataframe thead th {\n",
       "        text-align: right;\n",
       "    }\n",
       "</style>\n",
       "<table border=\"1\" class=\"dataframe\">\n",
       "  <thead>\n",
       "    <tr style=\"text-align: right;\">\n",
       "      <th></th>\n",
       "      <th>location</th>\n",
       "      <th>MuConn_link</th>\n",
       "      <th>tot_MuConn</th>\n",
       "      <th>tot_conn</th>\n",
       "      <th>Working_Currently</th>\n",
       "      <th>About</th>\n",
       "      <th>Education</th>\n",
       "      <th>tot_skills</th>\n",
       "    </tr>\n",
       "  </thead>\n",
       "  <tbody>\n",
       "    <tr>\n",
       "      <th>0</th>\n",
       "      <td>Charlotte, North Carolina, United States</td>\n",
       "      <td>https://www.linkedin.com/search/results/people...</td>\n",
       "      <td>15</td>\n",
       "      <td>47</td>\n",
       "      <td>Tata Consultancy Services</td>\n",
       "      <td>12 years of mainframe experience in Banking an...</td>\n",
       "      <td>Sona College of Technology</td>\n",
       "      <td>See all 9 skills</td>\n",
       "    </tr>\n",
       "    <tr>\n",
       "      <th>18</th>\n",
       "      <td>Indore, Madhya Pradesh, India</td>\n",
       "      <td>https://www.linkedin.com/search/results/people...</td>\n",
       "      <td>3</td>\n",
       "      <td>null</td>\n",
       "      <td>rashmi Saini posted this • 4h</td>\n",
       "      <td>null</td>\n",
       "      <td>Shri Shai Nath Higher Secondry School</td>\n",
       "      <td>See all 5 skills</td>\n",
       "    </tr>\n",
       "    <tr>\n",
       "      <th>24</th>\n",
       "      <td>Greater Chennai Area</td>\n",
       "      <td>https://www.linkedin.com/search/results/people...</td>\n",
       "      <td>1</td>\n",
       "      <td>72</td>\n",
       "      <td>Sales Coordinator</td>\n",
       "      <td>null</td>\n",
       "      <td>Email Marketing</td>\n",
       "      <td>See all 8 skills</td>\n",
       "    </tr>\n",
       "    <tr>\n",
       "      <th>29</th>\n",
       "      <td>Chennai, Tamil Nadu, India</td>\n",
       "      <td>https://www.linkedin.com/search/results/people...</td>\n",
       "      <td>27</td>\n",
       "      <td>500+</td>\n",
       "      <td>Malathi Dileepan, Pursuing CIOP posted this • 22h</td>\n",
       "      <td>null</td>\n",
       "      <td>Periyar Maniammai University</td>\n",
       "      <td>See all 6 skills</td>\n",
       "    </tr>\n",
       "    <tr>\n",
       "      <th>50</th>\n",
       "      <td>Charlotte, North Carolina, United States</td>\n",
       "      <td>https://www.linkedin.com/search/results/people...</td>\n",
       "      <td>15</td>\n",
       "      <td>47</td>\n",
       "      <td>Tata Consultancy Services</td>\n",
       "      <td>12 years of mainframe experience in Banking an...</td>\n",
       "      <td>Sona College of Technology</td>\n",
       "      <td>See all 9 skills</td>\n",
       "    </tr>\n",
       "  </tbody>\n",
       "</table>\n",
       "</div>"
      ],
      "text/plain": [
       "                                    location  \\\n",
       "0   Charlotte, North Carolina, United States   \n",
       "18             Indore, Madhya Pradesh, India   \n",
       "24                      Greater Chennai Area   \n",
       "29                Chennai, Tamil Nadu, India   \n",
       "50  Charlotte, North Carolina, United States   \n",
       "\n",
       "                                          MuConn_link tot_MuConn tot_conn  \\\n",
       "0   https://www.linkedin.com/search/results/people...         15       47   \n",
       "18  https://www.linkedin.com/search/results/people...         3      null   \n",
       "24  https://www.linkedin.com/search/results/people...         1        72   \n",
       "29  https://www.linkedin.com/search/results/people...         27     500+   \n",
       "50  https://www.linkedin.com/search/results/people...         15       47   \n",
       "\n",
       "                                    Working_Currently  \\\n",
       "0                           Tata Consultancy Services   \n",
       "18                      rashmi Saini posted this • 4h   \n",
       "24                                  Sales Coordinator   \n",
       "29  Malathi Dileepan, Pursuing CIOP posted this • 22h   \n",
       "50                          Tata Consultancy Services   \n",
       "\n",
       "                                                About  \\\n",
       "0   12 years of mainframe experience in Banking an...   \n",
       "18                                               null   \n",
       "24                                               null   \n",
       "29                                               null   \n",
       "50  12 years of mainframe experience in Banking an...   \n",
       "\n",
       "                                Education        tot_skills  \n",
       "0              Sona College of Technology  See all 9 skills  \n",
       "18  Shri Shai Nath Higher Secondry School  See all 5 skills  \n",
       "24                        Email Marketing  See all 8 skills  \n",
       "29           Periyar Maniammai University  See all 6 skills  \n",
       "50             Sona College of Technology  See all 9 skills  "
      ]
     },
     "execution_count": 291,
     "metadata": {},
     "output_type": "execute_result"
    }
   ],
   "source": [
    "stor_dataframe[stor_dataframe.tot_skills.str.contains('skills')]"
   ]
  },
  {
   "cell_type": "code",
   "execution_count": 297,
   "id": "0447e0cb",
   "metadata": {},
   "outputs": [
    {
     "data": {
      "text/html": [
       "<div>\n",
       "<style scoped>\n",
       "    .dataframe tbody tr th:only-of-type {\n",
       "        vertical-align: middle;\n",
       "    }\n",
       "\n",
       "    .dataframe tbody tr th {\n",
       "        vertical-align: top;\n",
       "    }\n",
       "\n",
       "    .dataframe thead th {\n",
       "        text-align: right;\n",
       "    }\n",
       "</style>\n",
       "<table border=\"1\" class=\"dataframe\">\n",
       "  <thead>\n",
       "    <tr style=\"text-align: right;\">\n",
       "      <th></th>\n",
       "      <th>location</th>\n",
       "      <th>MuConn_link</th>\n",
       "      <th>tot_MuConn</th>\n",
       "      <th>tot_conn</th>\n",
       "      <th>Working_Currently</th>\n",
       "      <th>About</th>\n",
       "      <th>Education</th>\n",
       "      <th>tot_skills</th>\n",
       "    </tr>\n",
       "  </thead>\n",
       "  <tbody>\n",
       "    <tr>\n",
       "      <th>7</th>\n",
       "      <td>Talks about #data, #python, #datascience, #mac...</td>\n",
       "      <td>null</td>\n",
       "      <td>null</td>\n",
       "      <td>null</td>\n",
       "      <td>Data Science And AI Content Writer</td>\n",
       "      <td>I am a data science content writer with small ...</td>\n",
       "      <td>Writing weekly articles for the NVIDIA Develop...</td>\n",
       "      <td>Became the first-ever Kaggle Master from Uzbek...</td>\n",
       "    </tr>\n",
       "    <tr>\n",
       "      <th>22</th>\n",
       "      <td>Greater St. Louis</td>\n",
       "      <td>null</td>\n",
       "      <td>null</td>\n",
       "      <td>null</td>\n",
       "      <td>null</td>\n",
       "      <td>null</td>\n",
       "      <td>null</td>\n",
       "      <td>null</td>\n",
       "    </tr>\n",
       "    <tr>\n",
       "      <th>40</th>\n",
       "      <td>Mumbai, Maharashtra, India</td>\n",
       "      <td>null</td>\n",
       "      <td>null</td>\n",
       "      <td>500+</td>\n",
       "      <td>Producer</td>\n",
       "      <td></td>\n",
       "      <td>• Founding member of the International Youth C...</td>\n",
       "      <td></td>\n",
       "    </tr>\n",
       "  </tbody>\n",
       "</table>\n",
       "</div>"
      ],
      "text/plain": [
       "                                             location MuConn_link tot_MuConn  \\\n",
       "7   Talks about #data, #python, #datascience, #mac...        null       null   \n",
       "22                                  Greater St. Louis        null       null   \n",
       "40                         Mumbai, Maharashtra, India        null       null   \n",
       "\n",
       "   tot_conn                   Working_Currently  \\\n",
       "7      null  Data Science And AI Content Writer   \n",
       "22     null                                null   \n",
       "40     500+                            Producer   \n",
       "\n",
       "                                                About  \\\n",
       "7   I am a data science content writer with small ...   \n",
       "22                                               null   \n",
       "40                                                      \n",
       "\n",
       "                                            Education  \\\n",
       "7   Writing weekly articles for the NVIDIA Develop...   \n",
       "22                                               null   \n",
       "40  • Founding member of the International Youth C...   \n",
       "\n",
       "                                           tot_skills  \n",
       "7   Became the first-ever Kaggle Master from Uzbek...  \n",
       "22                                               null  \n",
       "40                                                     "
      ]
     },
     "execution_count": 297,
     "metadata": {},
     "output_type": "execute_result"
    }
   ],
   "source": [
    "stor_dataframe[stor_dataframe.tot_MuConn == 'null']"
   ]
  },
  {
   "cell_type": "code",
   "execution_count": null,
   "id": "3cd7b910",
   "metadata": {},
   "outputs": [],
   "source": []
  },
  {
   "cell_type": "code",
   "execution_count": null,
   "id": "9413833e",
   "metadata": {},
   "outputs": [],
   "source": []
  },
  {
   "cell_type": "code",
   "execution_count": null,
   "id": "0ff65bc4",
   "metadata": {},
   "outputs": [],
   "source": []
  },
  {
   "cell_type": "code",
   "execution_count": null,
   "id": "4f01ec92",
   "metadata": {},
   "outputs": [],
   "source": []
  },
  {
   "cell_type": "code",
   "execution_count": null,
   "id": "99568c6a",
   "metadata": {},
   "outputs": [],
   "source": []
  },
  {
   "cell_type": "code",
   "execution_count": null,
   "id": "d29312ce",
   "metadata": {},
   "outputs": [],
   "source": []
  }
 ],
 "metadata": {
  "kernelspec": {
   "display_name": "Python 3 (ipykernel)",
   "language": "python",
   "name": "python3"
  },
  "language_info": {
   "codemirror_mode": {
    "name": "ipython",
    "version": 3
   },
   "file_extension": ".py",
   "mimetype": "text/x-python",
   "name": "python",
   "nbconvert_exporter": "python",
   "pygments_lexer": "ipython3",
   "version": "3.7.12"
  }
 },
 "nbformat": 4,
 "nbformat_minor": 5
}

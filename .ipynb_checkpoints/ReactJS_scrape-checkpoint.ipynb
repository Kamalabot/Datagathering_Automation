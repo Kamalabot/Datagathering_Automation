{
 "cells": [
  {
   "cell_type": "markdown",
   "metadata": {},
   "source": [
    "There were lessons learnt from Amazon, Sourashtramatrimoni, Linkedin websites. There were unique challenges in each cases and the scraping was not exactly very successful. \n",
    "\n",
    "There are couple of ideas still not fully explored, \n",
    "\n",
    "    Using XSLT or XML libraries to scrape the sources\n",
    "\n",
    "    Using Xpath to pinpoint the text required\n",
    "\n",
    "The challenge is only in locating a reliable reference point to the texts in the website sources. It is about time I used the X_path and X_query effectively for my next project. \n",
    "\n",
    "Then extend that to earlier implementations..."
   ]
  },
  {
   "cell_type": "code",
   "execution_count": 1,
   "metadata": {},
   "outputs": [],
   "source": [
    "#Initiating the Selenium Drivers\n",
    "from selenium import webdriver\n",
    "import time as time\n",
    "from selenium.common.exceptions import NoSuchElementException\n",
    "from selenium.common.exceptions import ElementNotInteractableException\n",
    "from selenium.webdriver.chrome.options import Options\n",
    "import warnings\n",
    "warnings.filterwarnings('ignore')"
   ]
  },
  {
   "cell_type": "code",
   "execution_count": 12,
   "metadata": {},
   "outputs": [],
   "source": [
    "import pandas as pd\n",
    "import numpy as np\n",
    "import plotly.express as px\n",
    "import plotly.graph_objects as go\n",
    "import dataset\n",
    "from bs4 import BeautifulSoup \n",
    "from lxml import html\n",
    "import requests\n",
    "from urllib.parse import unquote\n",
    "from urllib.parse import urljoin"
   ]
  },
  {
   "cell_type": "code",
   "execution_count": 3,
   "metadata": {},
   "outputs": [],
   "source": [
    "entry = 'https://www.messari.io'"
   ]
  },
  {
   "cell_type": "code",
   "execution_count": 4,
   "metadata": {},
   "outputs": [],
   "source": [
    "driver = webdriver.Chrome()\n",
    "driver.get(entry)\n",
    "driver.maximize_window()"
   ]
  },
  {
   "cell_type": "code",
   "execution_count": 6,
   "metadata": {},
   "outputs": [],
   "source": [
    "html_source = driver.page_source\n",
    "soup_net = BeautifulSoup(html_source,'html.parser')\n",
    "driver.quit()"
   ]
  },
  {
   "cell_type": "code",
   "execution_count": 8,
   "metadata": {},
   "outputs": [],
   "source": [
    "soup_lxml = BeautifulSoup(html_source,'lxml')"
   ]
  },
  {
   "cell_type": "code",
   "execution_count": 15,
   "metadata": {},
   "outputs": [],
   "source": [
    "tree = html.fromstring(html_source) #use the source directly"
   ]
  },
  {
   "cell_type": "code",
   "execution_count": 21,
   "metadata": {},
   "outputs": [
    {
     "data": {
      "text/plain": [
       "['Bitcoin',\n",
       " 'Ethereum',\n",
       " 'Tether',\n",
       " 'USD Coin',\n",
       " 'XRP',\n",
       " 'Cardano',\n",
       " 'Solana',\n",
       " 'Avalanche',\n",
       " 'Terra',\n",
       " 'Binance USD',\n",
       " 'Polkadot',\n",
       " 'Shiba Inu',\n",
       " 'TerraUSD',\n",
       " 'Polygon',\n",
       " 'Crypto.com Chain']"
      ]
     },
     "execution_count": 21,
     "metadata": {},
     "output_type": "execute_result"
    }
   ],
   "source": [
    "tree.xpath('//section[2]/div/div[2]/div[2]/table/tbody/tr/td/div/span/a/text()')"
   ]
  },
  {
   "cell_type": "code",
   "execution_count": 92,
   "metadata": {},
   "outputs": [],
   "source": [
    "crypto_links = tree.xpath('//section[2]/div/div[2]/div[2]/table/tbody/tr/td/div/span/a/@href')"
   ]
  },
  {
   "cell_type": "code",
   "execution_count": 93,
   "metadata": {},
   "outputs": [],
   "source": [
    "ecosystem = []\n",
    "for crypto in crypto_links:\n",
    "    ecosystem.append(urljoin('https://messari.io/',crypto))"
   ]
  },
  {
   "cell_type": "code",
   "execution_count": 94,
   "metadata": {},
   "outputs": [
    {
     "data": {
      "text/plain": [
       "'https://messari.io/asset/ethereum'"
      ]
     },
     "execution_count": 94,
     "metadata": {},
     "output_type": "execute_result"
    }
   ],
   "source": [
    "#let me call one of the crypto profile pages using the selenium, new driver\n",
    "ecosystem[1]"
   ]
  },
  {
   "cell_type": "code",
   "execution_count": 45,
   "metadata": {},
   "outputs": [
    {
     "data": {
      "text/plain": [
       "['jss4',\n",
       " 'MuiContainer-root',\n",
       " 'MuiBox-root jss6',\n",
       " 'MuiBox-root jss7',\n",
       " 'MuiBox-root jss8',\n",
       " 'jss36',\n",
       " 'jss38',\n",
       " 'MuiBox-root jss121',\n",
       " 'jss41',\n",
       " 'jss42']"
      ]
     },
     "execution_count": 45,
     "metadata": {},
     "output_type": "execute_result"
    }
   ],
   "source": [
    "tree.xpath('//div/@class')[:10]"
   ]
  },
  {
   "cell_type": "code",
   "execution_count": 51,
   "metadata": {},
   "outputs": [
    {
     "data": {
      "text/plain": [
       "False"
      ]
     },
     "execution_count": 51,
     "metadata": {},
     "output_type": "execute_result"
    }
   ],
   "source": [
    "tree.xpath('//div/@class=jss38') "
   ]
  },
  {
   "cell_type": "code",
   "execution_count": 59,
   "metadata": {},
   "outputs": [
    {
     "data": {
      "text/plain": [
       "['jss37', 'jss37', 'jss37', 'jss37', 'jss37']"
      ]
     },
     "execution_count": 59,
     "metadata": {},
     "output_type": "execute_result"
    }
   ],
   "source": [
    "tree.xpath('//section/@class')[:5]"
   ]
  },
  {
   "cell_type": "code",
   "execution_count": 62,
   "metadata": {},
   "outputs": [
    {
     "data": {
      "text/plain": [
       "['MuiTable-root jss192 jss319',\n",
       " 'MuiTable-root jss192 jss478',\n",
       " 'MuiTable-root jss192 jss869',\n",
       " 'MuiTable-root jss192 jss268',\n",
       " 'MuiTable-root jss192 jss439',\n",
       " 'MuiTable-root jss192 jss198',\n",
       " 'MuiTable-root jss192 jss1168',\n",
       " 'MuiTable-root jss192 jss699',\n",
       " 'MuiTable-root jss192 jss597',\n",
       " 'MuiTable-root jss192 jss750']"
      ]
     },
     "execution_count": 62,
     "metadata": {},
     "output_type": "execute_result"
    }
   ],
   "source": [
    "tree.xpath('//table/@class')"
   ]
  },
  {
   "cell_type": "code",
   "execution_count": 87,
   "metadata": {},
   "outputs": [
    {
     "data": {
      "text/plain": [
       "[]"
      ]
     },
     "execution_count": 87,
     "metadata": {},
     "output_type": "execute_result"
    }
   ],
   "source": [
    "tree.xpath('//table/tbody[@class=\"MuiTable-root jss192 jss750\"]')\n",
    "#expression is correct, but no resullt..."
   ]
  },
  {
   "cell_type": "code",
   "execution_count": 91,
   "metadata": {},
   "outputs": [
    {
     "data": {
      "text/plain": [
       "['MuiTableHead-root jss193 jss320',\n",
       " 'MuiTableHead-root jss193 jss479',\n",
       " 'MuiTableHead-root jss193 jss870',\n",
       " 'MuiTableHead-root jss193 jss269 jss194',\n",
       " 'MuiTableHead-root jss193 jss440 jss194',\n",
       " 'MuiTableHead-root jss193 jss199',\n",
       " 'MuiTableHead-root jss193 jss1169',\n",
       " 'MuiTableHead-root jss193 jss700',\n",
       " 'MuiTableHead-root jss193 jss598',\n",
       " 'MuiTableHead-root jss193 jss751']"
      ]
     },
     "execution_count": 91,
     "metadata": {},
     "output_type": "execute_result"
    }
   ],
   "source": [
    "tree.xpath('//thead/@*')"
   ]
  },
  {
   "cell_type": "code",
   "execution_count": null,
   "metadata": {},
   "outputs": [],
   "source": [
    "tree.xpath()"
   ]
  },
  {
   "cell_type": "code",
   "execution_count": 99,
   "metadata": {},
   "outputs": [],
   "source": [
    "crypto_driver = webdriver.Chrome()\n",
    "crypto_driver.get(ecosystem[1])\n",
    "profile_source = crypto_driver.page_source\n",
    "profile_tree = html.fromstring(profile_source) #use the source directly\n",
    "crypto_driver.quit()"
   ]
  },
  {
   "cell_type": "code",
   "execution_count": 100,
   "metadata": {},
   "outputs": [
    {
     "data": {
      "text/plain": [
       "['MuiLinearProgress-root MuiLinearProgress-colorPrimary jss2 MuiLinearProgress-indeterminate',\n",
       " 'MuiLinearProgress-bar MuiLinearProgress-barColorPrimary MuiLinearProgress-bar1Indeterminate',\n",
       " 'MuiLinearProgress-bar MuiLinearProgress-bar2Indeterminate MuiLinearProgress-barColorPrimary',\n",
       " 'jss1',\n",
       " 'MuiContainer-root',\n",
       " 'MuiBox-root jss3',\n",
       " 'MuiBox-root jss4',\n",
       " 'MuiBox-root jss5',\n",
       " 'jss6 jss7 undefined',\n",
       " 'MuiBox-root jss8',\n",
       " 'MuiCircularProgress-root MuiCircularProgress-colorPrimary MuiCircularProgress-indeterminate']"
      ]
     },
     "execution_count": 100,
     "metadata": {},
     "output_type": "execute_result"
    }
   ],
   "source": [
    "profile_tree.xpath(\"//div/@class\")"
   ]
  },
  {
   "cell_type": "code",
   "execution_count": 108,
   "metadata": {},
   "outputs": [
    {
     "data": {
      "text/plain": [
       "['MuiBox-root jss3',\n",
       " 'MuiBox-root jss4',\n",
       " 'MuiBox-root jss5',\n",
       " 'MuiCircularProgress-root MuiCircularProgress-colorPrimary MuiCircularProgress-indeterminate',\n",
       " 'progressbar',\n",
       " 'width: 40px; height: 40px;']"
      ]
     },
     "execution_count": 108,
     "metadata": {},
     "output_type": "execute_result"
    }
   ],
   "source": [
    "profile_tree.xpath(\"//div[@class]/div/div/@*\")"
   ]
  },
  {
   "cell_type": "code",
   "execution_count": 114,
   "metadata": {},
   "outputs": [
    {
     "data": {
      "text/plain": [
       "['jss9',\n",
       " '/',\n",
       " 'jss19',\n",
       " '/screener',\n",
       " 'jss19',\n",
       " '/research',\n",
       " 'jss19',\n",
       " '/intel',\n",
       " 'jss19',\n",
       " '/governor',\n",
       " 'jss19',\n",
       " '/news',\n",
       " 'jss19',\n",
       " '/crypto-theses-for-2022',\n",
       " 'jss25',\n",
       " '/search',\n",
       " 'MuiButtonBase-root MuiButton-root MuiButton-contained jss28 MuiButton-containedPrimary MuiButton-disableElevation',\n",
       " '0',\n",
       " 'button',\n",
       " 'false',\n",
       " '/signup']"
      ]
     },
     "execution_count": 114,
     "metadata": {},
     "output_type": "execute_result"
    }
   ],
   "source": [
    "profile_tree.xpath(\"//a/@*\")"
   ]
  },
  {
   "cell_type": "code",
   "execution_count": 119,
   "metadata": {},
   "outputs": [],
   "source": [
    "attri = profile_tree.xpath('//attribute::class')"
   ]
  },
  {
   "cell_type": "code",
   "execution_count": 120,
   "metadata": {},
   "outputs": [
    {
     "data": {
      "text/plain": [
       "['/',\n",
       " '/screener',\n",
       " '/research',\n",
       " '/intel',\n",
       " '/governor',\n",
       " '/news',\n",
       " '/crypto-theses-for-2022',\n",
       " '/search',\n",
       " '/signup']"
      ]
     },
     "execution_count": 120,
     "metadata": {},
     "output_type": "execute_result"
    }
   ],
   "source": [
    "profile_tree.xpath('/descendant::a/@href')"
   ]
  },
  {
   "cell_type": "code",
   "execution_count": 121,
   "metadata": {},
   "outputs": [
    {
     "data": {
      "text/plain": [
       "['theme-night',\n",
       " 'MuiLinearProgress-root MuiLinearProgress-colorPrimary jss2 MuiLinearProgress-indeterminate',\n",
       " 'MuiLinearProgress-bar MuiLinearProgress-barColorPrimary MuiLinearProgress-bar1Indeterminate',\n",
       " 'MuiLinearProgress-bar MuiLinearProgress-bar2Indeterminate MuiLinearProgress-barColorPrimary',\n",
       " 'jss1',\n",
       " 'MuiContainer-root',\n",
       " 'MuiBox-root jss3',\n",
       " 'MuiBox-root jss4',\n",
       " 'jss9',\n",
       " 'jss10 jss12',\n",
       " 'jss14',\n",
       " 'jss15',\n",
       " 'jss17',\n",
       " 'jss19',\n",
       " 'jss17',\n",
       " 'jss19',\n",
       " 'jss17',\n",
       " 'jss19',\n",
       " 'jss17',\n",
       " 'jss19',\n",
       " 'MuiBadge-root jss23',\n",
       " 'MuiBadge-badge jss24 MuiBadge-anchorOriginTopRightRectangle MuiBadge-colorPrimary',\n",
       " 'jss17',\n",
       " 'jss19',\n",
       " 'jss17',\n",
       " 'jss19',\n",
       " 'jss17 jss20',\n",
       " 'MuiBox-root jss5',\n",
       " 'jss25',\n",
       " 'MuiSvgIcon-root MuiSvgIcon-fontSizeInherit',\n",
       " 'MuiButtonBase-root MuiButton-root MuiButton-text jss27',\n",
       " 'MuiButton-label',\n",
       " 'MuiTouchRipple-root',\n",
       " 'MuiButtonBase-root MuiButton-root MuiButton-contained jss28 MuiButton-containedPrimary MuiButton-disableElevation',\n",
       " 'MuiButton-label',\n",
       " 'MuiTouchRipple-root',\n",
       " 'jss6 jss7 undefined',\n",
       " 'MuiBox-root jss8',\n",
       " 'MuiCircularProgress-root MuiCircularProgress-colorPrimary MuiCircularProgress-indeterminate',\n",
       " 'MuiCircularProgress-svg',\n",
       " 'MuiCircularProgress-circle MuiCircularProgress-circleIndeterminate']"
      ]
     },
     "execution_count": 121,
     "metadata": {},
     "output_type": "execute_result"
    }
   ],
   "source": [
    "profile_tree.xpath('//attribute::class')"
   ]
  },
  {
   "cell_type": "code",
   "execution_count": 133,
   "metadata": {},
   "outputs": [
    {
     "data": {
      "text/plain": [
       "['You need to enable JavaScript to run this app.']"
      ]
     },
     "execution_count": 133,
     "metadata": {},
     "output_type": "execute_result"
    }
   ],
   "source": [
    "profile_tree.xpath('//noscript/text()')"
   ]
  },
  {
   "cell_type": "code",
   "execution_count": 141,
   "metadata": {},
   "outputs": [
    {
     "data": {
      "text/plain": [
       "['MuiBox-root jss3',\n",
       " 'MuiCircularProgress-root MuiCircularProgress-colorPrimary MuiCircularProgress-indeterminate']"
      ]
     },
     "execution_count": 141,
     "metadata": {},
     "output_type": "execute_result"
    }
   ],
   "source": [
    "profile_tree.xpath('//*[@id=\"root\"]/div/div[1]/div[1]/@class')"
   ]
  },
  {
   "cell_type": "code",
   "execution_count": 148,
   "metadata": {},
   "outputs": [
    {
     "data": {
      "text/plain": [
       "['MuiLinearProgress-root MuiLinearProgress-colorPrimary jss2 MuiLinearProgress-indeterminate',\n",
       " 'jss1',\n",
       " 'jss6 jss7 undefined']"
      ]
     },
     "execution_count": 148,
     "metadata": {},
     "output_type": "execute_result"
    }
   ],
   "source": [
    "profile_tree.xpath('//*[@id=\"root\"]/div/@class')"
   ]
  },
  {
   "cell_type": "code",
   "execution_count": 183,
   "metadata": {},
   "outputs": [
    {
     "data": {
      "text/plain": [
       "['MuiLinearProgress-bar MuiLinearProgress-barColorPrimary MuiLinearProgress-bar1Indeterminate',\n",
       " 'MuiLinearProgress-bar MuiLinearProgress-bar2Indeterminate MuiLinearProgress-barColorPrimary',\n",
       " 'MuiContainer-root',\n",
       " 'MuiBox-root jss4',\n",
       " 'MuiBox-root jss5',\n",
       " 'MuiBox-root jss8']"
      ]
     },
     "execution_count": 183,
     "metadata": {},
     "output_type": "execute_result"
    }
   ],
   "source": [
    "profile_tree.xpath('//div[1]/div/div/@class')"
   ]
  },
  {
   "cell_type": "code",
   "execution_count": 207,
   "metadata": {},
   "outputs": [
    {
     "data": {
      "text/plain": [
       "['/']"
      ]
     },
     "execution_count": 207,
     "metadata": {},
     "output_type": "execute_result"
    }
   ],
   "source": [
    "profile_tree.xpath('//div[1]/div/div[@class=\"MuiBox-root jss4\"]/a/@href')"
   ]
  },
  {
   "cell_type": "code",
   "execution_count": 206,
   "metadata": {},
   "outputs": [
    {
     "data": {
      "text/plain": [
       "['/search', '/signup']"
      ]
     },
     "execution_count": 206,
     "metadata": {},
     "output_type": "execute_result"
    }
   ],
   "source": [
    "profile_tree.xpath('//div[1]/div/div[@class=\"MuiBox-root jss5\"]/a/@href')"
   ]
  },
  {
   "cell_type": "code",
   "execution_count": null,
   "metadata": {},
   "outputs": [],
   "source": [
    "profile_tree.xpath('//div[1]/div/div[@class=\"MuiBox-root jss5\"]/a/@href')"
   ]
  },
  {
   "cell_type": "code",
   "execution_count": null,
   "metadata": {},
   "outputs": [],
   "source": []
  },
  {
   "cell_type": "code",
   "execution_count": 208,
   "metadata": {},
   "outputs": [],
   "source": [
    "### Some code that was taken from Internet for reference.\n",
    "\n",
    "def test_evaluations(self):\n",
    "        self.browser.get(f\"{self.live_server_url}/\")\n",
    "        self.wait_until_element_found(\"//h1[.='Log in or Sign up']\")\n",
    "        # Accept Cookie Consent\n",
    "        self.wait_until_element_found(\"//a[.='Got it!']\")\n",
    "        self.browser.find_element_by_xpath(\"//a[.='Got it!']\").click()\n",
    "        # Log in\n",
    "        self.browser.find_element_by_id(\"id_email\").send_keys(self.USER1_EMAIL)\n",
    "        self.browser.find_element_by_id(\"id_password\").send_keys(self.USER1_PASSWORD)\n",
    "        self.browser.find_element_by_xpath('//button[text()=\"Log in\"]').send_keys(\n",
    "            \"\\n\"\n",
    "        )  # submit the form\n",
    "\n",
    "        self.wait_until_element_found(\"//h1[.='Projects']\")\n",
    "\n",
    "        # Click on \"Add new project\"\n",
    "        self.wait_until_element_found(\"//a[.='Add new project']\")\n",
    "\n",
    "        self.wait_a_little()\n",
    "        self.browser.find_element_by_xpath(\"//a[.='Add new project']\").send_keys(\"\\n\")\n",
    "\n",
    "        self.wait_until_element_found(\"//div[@aria-label='Blank']\")\n",
    "\n",
    "        # Create a project from the project template \"Blank\"\n",
    "        self.wait_a_little()\n",
    "        self.browser.find_element_by_xpath(\"//div[@aria-label='Blank']\").send_keys(\"\\n\")\n",
    "\n",
    "        # Enter project title and description\n",
    "        self.wait_until_element_found(\"//input[@id='id_title']\")\n",
    "        self.browser.find_element_by_xpath(\"//input[@id='id_title']\").send_keys(\n",
    "            \"Urgent and Important Activities\"\n",
    "        )\n",
    "        self.browser.find_element_by_xpath(\n",
    "            \"//textarea[@id='id_description']\"\n",
    "        ).send_keys(\"I want to find which things to do and which to skip.\")\n",
    "        self.browser.find_element_by_xpath(\"//button[.='Next']\").send_keys(\"\\n\")\n",
    "\n",
    "        # Keep the default verbose names for the criteria and initiatives\n",
    "        self.wait_until_element_found(\"//input[@id='id_initiative_verbose_name_plural']\")\n",
    "        self.wait_a_little()\n",
    "        self.browser.find_element_by_xpath(\"//button[.='Next']\").send_keys(\"\\n\")"
   ]
  },
  {
   "cell_type": "code",
   "execution_count": null,
   "metadata": {},
   "outputs": [],
   "source": [
    "self.wait_until_element_found(\"//h2[.='Criteria']\")\n",
    "\n",
    "        # Add new criterion \"Urgent\" with the evaluation type Yes/No/Maybe\n",
    "        self.wait_until_element_found(\"//a[.='Add new criterion']\")\n",
    "        self.browser.find_element_by_xpath(\"//a[.='Add new criterion']\").send_keys(\"\\n\")\n",
    "        self.wait_until_element_found(\"//input[@id='id_title']\")\n",
    "        self.browser.find_element_by_xpath(\"//input[@id='id_title']\").send_keys(\n",
    "            \"Urgent\"\n",
    "        )\n",
    "        self.browser.find_element_by_xpath(\"//input[@id='widget_y']\").send_keys(\" \")\n",
    "        self.browser.find_element_by_xpath(\"//button[.='Save']\").send_keys(\"\\n\")\n",
    "\n",
    "        # Add new criterion \"Important\" with the evaluation type Yes/No/Maybe\n",
    "        self.wait_until_element_found(\"//a[.='Add new criterion']\")\n",
    "        self.browser.find_element_by_xpath(\"//a[.='Add new criterion']\").send_keys(\"\\n\")\n",
    "        self.wait_until_element_found(\"//input[@id='id_title']\")\n",
    "        self.browser.find_element_by_xpath(\"//input[@id='id_title']\").send_keys(\n",
    "            \"Important\"\n",
    "        )\n",
    "        self.browser.find_element_by_xpath(\"//input[@id='widget_y']\").send_keys(\" \")\n",
    "        self.browser.find_element_by_xpath(\"//button[.='Save']\").send_keys(\"\\n\")\n",
    "\n",
    "        # Click on the button \"Done\"\n",
    "        self.wait_until_element_found(\"//a[.='Done']\")\n",
    "        self.browser.find_element_by_xpath(\"//a[.='Done']\").send_keys(\"\\n\")"
   ]
  },
  {
   "cell_type": "code",
   "execution_count": null,
   "metadata": {},
   "outputs": [],
   "source": [
    "self.wait_until_element_found(\"//h2[.='Things']\")\n",
    "\n",
    "        # Add new thing \"Write a blog post\"\n",
    "        self.wait_until_element_found(\"//a[.='Add new thing']\")\n",
    "        self.browser.find_element_by_xpath(\"//a[.='Add new thing']\").send_keys(\"\\n\")\n",
    "        self.wait_until_element_found(\"//input[@id='id_title']\")\n",
    "        self.browser.find_element_by_xpath(\"//input[@id='id_title']\").send_keys(\n",
    "            \"Write a blog post\"\n",
    "        )\n",
    "        self.browser.find_element_by_xpath(\"//textarea[@id='id_description']\").send_keys(\n",
    "            \"I have an idea of a blog post that I want to write.\"\n",
    "        )\n",
    "        self.browser.find_element_by_xpath(\"//button[.='Save']\").send_keys(\"\\n\")\n",
    "\n",
    "        # Add new thing \"Fix a bug\"\n",
    "        self.wait_until_element_found(\"//a[.='Add new thing']\")\n",
    "        self.browser.find_element_by_xpath(\"//a[.='Add new thing']\").send_keys(\"\\n\")\n",
    "        self.wait_until_element_found(\"//input[@id='id_title']\")\n",
    "        self.browser.find_element_by_xpath(\"//input[@id='id_title']\").send_keys(\n",
    "            \"Fix a bug\"\n",
    "        )\n",
    "        self.browser.find_element_by_xpath(\"//textarea[@id='id_description']\").send_keys(\n",
    "            \"There is a critical bug that bothers our clients.\"\n",
    "        )\n",
    "        self.browser.find_element_by_xpath(\"//button[.='Save']\").send_keys(\"\\n\")\n",
    "\n",
    "        # Add new thing \"Binge-watch a series\"\n",
    "        self.wait_until_element_found(\"//a[.='Add new thing']\")\n",
    "        self.browser.find_element_by_xpath(\"//a[.='Add new thing']\").send_keys(\"\\n\")\n",
    "        self.wait_until_element_found(\"//input[@id='id_title']\")\n",
    "        self.browser.find_element_by_xpath(\"//input[@id='id_title']\").send_keys(\n",
    "            \"Binge-watch a series\"\n",
    "        )\n",
    "        self.browser.find_element_by_xpath(\"//textarea[@id='id_description']\").send_keys(\n",
    "            \"There is an exciting series that I would like to watch.\"\n",
    "        )\n",
    "        self.browser.find_element_by_xpath(\"//button[.='Save']\").send_keys(\"\\n\")\n",
    "\n",
    "        # Click on the button \"Done\"\n",
    "        self.wait_until_element_found(\"//a[.='Done']\")\n",
    "    self.browser.find_element_by_xpath(\"//a[.='Done']\").send_keys(\"\\n\")"
   ]
  }
 ],
 "metadata": {
  "interpreter": {
   "hash": "a42c93b5eee6b56421653baa65deacde473063d5c4965d27c7a75f4e31a8d403"
  },
  "kernelspec": {
   "display_name": "Python 3 (ipykernel)",
   "language": "python",
   "name": "python3"
  },
  "language_info": {
   "codemirror_mode": {
    "name": "ipython",
    "version": 3
   },
   "file_extension": ".py",
   "mimetype": "text/x-python",
   "name": "python",
   "nbconvert_exporter": "python",
   "pygments_lexer": "ipython3",
   "version": "3.7.12"
  }
 },
 "nbformat": 4,
 "nbformat_minor": 2
}

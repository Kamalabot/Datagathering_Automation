{
 "cells": [
  {
   "cell_type": "code",
   "execution_count": 1,
   "metadata": {},
   "outputs": [],
   "source": [
    "import pdfkit"
   ]
  },
  {
   "cell_type": "code",
   "execution_count": 8,
   "metadata": {},
   "outputs": [],
   "source": [
    "import urllib\n",
    "import requests\n",
    "from bs4 import BeautifulSoup as bs"
   ]
  },
  {
   "cell_type": "code",
   "execution_count": 9,
   "metadata": {},
   "outputs": [],
   "source": [
    "links = [\"https://www.d3indepth.com/introduction\",\n",
    "  \"https://www.d3indepth.com/gettingstarted\",\n",
    "  \"https://www.d3indepth.com/selections\",\n",
    "  \"https://www.d3indepth.com/datajoins\",\n",
    "  \"https://www.d3indepth.com/enterexit\",\n",
    "  \"https://www.d3indepth.com/scales\",\n",
    "  \"https://www.d3indepth.com/shapes\",\n",
    "  \"https://www.d3indepth.com/axes\",\n",
    "  \"https://www.d3indepth.com/hierarchies\",\n",
    "  \"https://www.d3indepth.com/chords\",\n",
    "  \"https://www.d3indepth.com/force-layout\",\n",
    "  \"https://www.d3indepth.com/geographic\",\n",
    "  \"https://www.d3indepth.com/requests\",\n",
    "  \"https://www.d3indepth.com/transitions\",\n",
    "  \"https://www.d3indepth.com/interaction\",\n",
    "  \"https://www.d3indepth.com/zoom-and-pan\"]"
   ]
  },
  {
   "cell_type": "code",
   "execution_count": 6,
   "metadata": {},
   "outputs": [
    {
     "name": "stdout",
     "output_type": "stream",
     "text": [
      "introduction downloaded\n",
      "gettingstarted downloaded\n",
      "selections downloaded\n",
      "datajoins downloaded\n",
      "enterexit downloaded\n",
      "scales downloaded\n",
      "shapes downloaded\n",
      "axes downloaded\n",
      "hierarchies downloaded\n",
      "chords downloaded\n",
      "force-layout downloaded\n",
      "geographic downloaded\n",
      "requests downloaded\n",
      "transitions downloaded\n",
      "interaction downloaded\n",
      "zoom-and-pan downloaded\n"
     ]
    }
   ],
   "source": [
    "for link in links:\n",
    "    page = requests.get(link)\n",
    "    name = link.split('/')[-1]\n",
    "    pdf = open(f'{name}.html', 'wb')\n",
    "    pdf.write(page.content)\n",
    "    pdf.close()\n",
    "    print(f'{name} downloaded')"
   ]
  },
  {
   "cell_type": "code",
   "execution_count": 13,
   "metadata": {},
   "outputs": [],
   "source": [
    "config = pdfkit.configuration(wkhtmltopdf=\"wkhtmltopdf.exe\")\n",
    "\n"
   ]
  },
  {
   "cell_type": "code",
   "execution_count": 14,
   "metadata": {},
   "outputs": [
    {
     "name": "stdout",
     "output_type": "stream",
     "text": [
      "introduction downloaded getting ready for conversion\n",
      "introduction converted to pdf\n",
      "gettingstarted downloaded getting ready for conversion\n",
      "gettingstarted converted to pdf\n",
      "selections downloaded getting ready for conversion\n",
      "selections converted to pdf\n",
      "datajoins downloaded getting ready for conversion\n",
      "datajoins converted to pdf\n",
      "enterexit downloaded getting ready for conversion\n",
      "enterexit converted to pdf\n",
      "scales downloaded getting ready for conversion\n",
      "scales converted to pdf\n",
      "shapes downloaded getting ready for conversion\n",
      "shapes converted to pdf\n",
      "axes downloaded getting ready for conversion\n",
      "axes converted to pdf\n",
      "hierarchies downloaded getting ready for conversion\n",
      "hierarchies converted to pdf\n",
      "chords downloaded getting ready for conversion\n",
      "chords converted to pdf\n",
      "force-layout downloaded getting ready for conversion\n",
      "force-layout converted to pdf\n",
      "geographic downloaded getting ready for conversion\n",
      "geographic converted to pdf\n",
      "requests downloaded getting ready for conversion\n",
      "requests converted to pdf\n",
      "transitions downloaded getting ready for conversion\n",
      "transitions converted to pdf\n",
      "interaction downloaded getting ready for conversion\n",
      "interaction converted to pdf\n",
      "zoom-and-pan downloaded getting ready for conversion\n",
      "zoom-and-pan converted to pdf\n"
     ]
    }
   ],
   "source": [
    "for link in links:\n",
    "    page = requests.get(link)\n",
    "    name = link.split('/')[-1]\n",
    "    pdf = open(f'{name}.html', 'wb')\n",
    "    pdf.write(page.content)\n",
    "    pdf.close()\n",
    "\n",
    "    print(f'{name} downloaded getting ready for conversion')\n",
    "\n",
    "    try:\n",
    "        pdfkit.from_file(f'{name}.html', f'{name}.pdf',configuration=config)\n",
    "    except OSError:\n",
    "        pass\n",
    "\n",
    "    print(f'{name} converted to pdf')"
   ]
  },
  {
   "cell_type": "code",
   "execution_count": 4,
   "metadata": {},
   "outputs": [],
   "source": [
    "from PyPDF2 import PdfFileMerger, PdfFileReader"
   ]
  },
  {
   "cell_type": "code",
   "execution_count": 6,
   "metadata": {},
   "outputs": [],
   "source": [
    "# Call the PdfFileMerger\n",
    "mergedObject = PdfFileMerger()"
   ]
  },
  {
   "cell_type": "code",
   "execution_count": 20,
   "metadata": {},
   "outputs": [],
   "source": [
    "trib = PdfFileReader('force-layout.pdf')"
   ]
  },
  {
   "cell_type": "code",
   "execution_count": 24,
   "metadata": {},
   "outputs": [],
   "source": [
    "mergedObject.append(trib,import_bookmarks=False)"
   ]
  },
  {
   "cell_type": "code",
   "execution_count": 37,
   "metadata": {},
   "outputs": [],
   "source": [
    "for link in links:\n",
    "    name = link.split('/')[-1]\n",
    "    temp = PdfFileReader(f'{name}.pdf',strict=False)\n",
    "    mergedObject.append(temp, import_bookmarks=False)"
   ]
  },
  {
   "cell_type": "code",
   "execution_count": 40,
   "metadata": {},
   "outputs": [
    {
     "ename": "AttributeError",
     "evalue": "'NoneType' object has no attribute 'addPage'",
     "output_type": "error",
     "traceback": [
      "\u001b[1;31m---------------------------------------------------------------------------\u001b[0m",
      "\u001b[1;31mAttributeError\u001b[0m                            Traceback (most recent call last)",
      "\u001b[1;32mC:\\Users\\D30001~1\\AppData\\Local\\Temp/ipykernel_13864/3377060315.py\u001b[0m in \u001b[0;36m<module>\u001b[1;34m\u001b[0m\n\u001b[1;32m----> 1\u001b[1;33m \u001b[0mmergedObject\u001b[0m\u001b[1;33m.\u001b[0m\u001b[0mwrite\u001b[0m\u001b[1;33m(\u001b[0m\u001b[1;34m'd3inDepth98.pdf'\u001b[0m\u001b[1;33m)\u001b[0m\u001b[1;33m\u001b[0m\u001b[1;33m\u001b[0m\u001b[0m\n\u001b[0m",
      "\u001b[1;32mC:\\WorkFiles\\WPy64-37120\\pypy3.7-v7.3.7-win64\\site-packages\\PyPDF2\\merger.py\u001b[0m in \u001b[0;36mwrite\u001b[1;34m(self, fileobj)\u001b[0m\n\u001b[0;32m    218\u001b[0m         \u001b[1;31m# The commented out line below was replaced with the two lines below it to allow PdfFileMerger to work with PyPdf 1.13\u001b[0m\u001b[1;33m\u001b[0m\u001b[1;33m\u001b[0m\u001b[1;33m\u001b[0m\u001b[0m\n\u001b[0;32m    219\u001b[0m         \u001b[1;32mfor\u001b[0m \u001b[0mpage\u001b[0m \u001b[1;32min\u001b[0m \u001b[0mself\u001b[0m\u001b[1;33m.\u001b[0m\u001b[0mpages\u001b[0m\u001b[1;33m:\u001b[0m\u001b[1;33m\u001b[0m\u001b[1;33m\u001b[0m\u001b[0m\n\u001b[1;32m--> 220\u001b[1;33m             \u001b[0mself\u001b[0m\u001b[1;33m.\u001b[0m\u001b[0moutput\u001b[0m\u001b[1;33m.\u001b[0m\u001b[0maddPage\u001b[0m\u001b[1;33m(\u001b[0m\u001b[0mpage\u001b[0m\u001b[1;33m.\u001b[0m\u001b[0mpagedata\u001b[0m\u001b[1;33m)\u001b[0m\u001b[1;33m\u001b[0m\u001b[1;33m\u001b[0m\u001b[0m\n\u001b[0m\u001b[0;32m    221\u001b[0m             \u001b[0mpage\u001b[0m\u001b[1;33m.\u001b[0m\u001b[0mout_pagedata\u001b[0m \u001b[1;33m=\u001b[0m \u001b[0mself\u001b[0m\u001b[1;33m.\u001b[0m\u001b[0moutput\u001b[0m\u001b[1;33m.\u001b[0m\u001b[0mgetReference\u001b[0m\u001b[1;33m(\u001b[0m\u001b[0mself\u001b[0m\u001b[1;33m.\u001b[0m\u001b[0moutput\u001b[0m\u001b[1;33m.\u001b[0m\u001b[0m_pages\u001b[0m\u001b[1;33m.\u001b[0m\u001b[0mgetObject\u001b[0m\u001b[1;33m(\u001b[0m\u001b[1;33m)\u001b[0m\u001b[1;33m[\u001b[0m\u001b[1;34m\"/Kids\"\u001b[0m\u001b[1;33m]\u001b[0m\u001b[1;33m[\u001b[0m\u001b[1;33m-\u001b[0m\u001b[1;36m1\u001b[0m\u001b[1;33m]\u001b[0m\u001b[1;33m.\u001b[0m\u001b[0mgetObject\u001b[0m\u001b[1;33m(\u001b[0m\u001b[1;33m)\u001b[0m\u001b[1;33m)\u001b[0m\u001b[1;33m\u001b[0m\u001b[1;33m\u001b[0m\u001b[0m\n\u001b[0;32m    222\u001b[0m             \u001b[1;31m#idnum = self.output._objects.index(self.output._pages.getObject()[\"/Kids\"][-1].getObject()) + 1\u001b[0m\u001b[1;33m\u001b[0m\u001b[1;33m\u001b[0m\u001b[1;33m\u001b[0m\u001b[0m\n",
      "\u001b[1;31mAttributeError\u001b[0m: 'NoneType' object has no attribute 'addPage'"
     ]
    }
   ],
   "source": [
    "mergedObject.write('d3inDepth98.pdf')"
   ]
  }
 ],
 "metadata": {
  "interpreter": {
   "hash": "a42c93b5eee6b56421653baa65deacde473063d5c4965d27c7a75f4e31a8d403"
  },
  "kernelspec": {
   "display_name": "Python 3 (ipykernel)",
   "language": "python",
   "name": "python3"
  },
  "language_info": {
   "codemirror_mode": {
    "name": "ipython",
    "version": 3
   },
   "file_extension": ".py",
   "mimetype": "text/x-python",
   "name": "python",
   "nbconvert_exporter": "python",
   "pygments_lexer": "ipython3",
   "version": "3.10.8"
  }
 },
 "nbformat": 4,
 "nbformat_minor": 2
}

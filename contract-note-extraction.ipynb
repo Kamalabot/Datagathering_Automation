{
 "cells": [
  {
   "cell_type": "code",
   "execution_count": 1,
   "id": "29094f5e",
   "metadata": {
    "execution": {
     "iopub.execute_input": "2022-03-19T05:13:05.190414Z",
     "iopub.status.busy": "2022-03-19T05:13:05.187367Z",
     "iopub.status.idle": "2022-03-19T05:13:23.354021Z",
     "shell.execute_reply": "2022-03-19T05:13:23.353050Z",
     "shell.execute_reply.started": "2022-03-19T03:36:15.754166Z"
    },
    "papermill": {
     "duration": 18.205998,
     "end_time": "2022-03-19T05:13:23.354236",
     "exception": false,
     "start_time": "2022-03-19T05:13:05.148238",
     "status": "completed"
    },
    "tags": []
   },
   "outputs": [
    {
     "name": "stdout",
     "output_type": "stream",
     "text": [
      "Collecting camelot-py[cv]\r\n",
      "  Downloading camelot_py-0.10.1-py3-none-any.whl (40 kB)\r\n",
      "     |████████████████████████████████| 40 kB 15 kB/s             \r\n",
      "\u001b[?25hCollecting tabula-py\r\n",
      "  Downloading tabula_py-2.3.0-py3-none-any.whl (12.0 MB)\r\n",
      "     |████████████████████████████████| 12.0 MB 1.2 MB/s            \r\n",
      "\u001b[?25hRequirement already satisfied: tabulate>=0.8.9 in /opt/conda/lib/python3.7/site-packages (from camelot-py[cv]) (0.8.9)\r\n",
      "Collecting openpyxl>=2.5.8\r\n",
      "  Downloading openpyxl-3.0.9-py2.py3-none-any.whl (242 kB)\r\n",
      "     |████████████████████████████████| 242 kB 48.3 MB/s            \r\n",
      "\u001b[?25hRequirement already satisfied: click>=6.7 in /opt/conda/lib/python3.7/site-packages (from camelot-py[cv]) (8.0.3)\r\n",
      "Requirement already satisfied: numpy>=1.13.3 in /opt/conda/lib/python3.7/site-packages (from camelot-py[cv]) (1.20.3)\r\n",
      "Collecting PyPDF2>=1.26.0\r\n",
      "  Downloading PyPDF2-1.26.0.tar.gz (77 kB)\r\n",
      "     |████████████████████████████████| 77 kB 4.3 MB/s             \r\n",
      "\u001b[?25h  Preparing metadata (setup.py) ... \u001b[?25l-\b \bdone\r\n",
      "\u001b[?25hRequirement already satisfied: pandas>=0.23.4 in /opt/conda/lib/python3.7/site-packages (from camelot-py[cv]) (1.3.5)\r\n",
      "Requirement already satisfied: pdfminer.six>=20200726 in /opt/conda/lib/python3.7/site-packages (from camelot-py[cv]) (20211012)\r\n",
      "Requirement already satisfied: chardet>=3.0.4 in /opt/conda/lib/python3.7/site-packages (from camelot-py[cv]) (4.0.0)\r\n",
      "Requirement already satisfied: opencv-python>=3.4.2.17 in /opt/conda/lib/python3.7/site-packages (from camelot-py[cv]) (4.5.4.60)\r\n",
      "Collecting ghostscript>=0.7\r\n",
      "  Downloading ghostscript-0.7-py2.py3-none-any.whl (25 kB)\r\n",
      "Collecting pdftopng>=0.2.3\r\n",
      "  Downloading pdftopng-0.2.3-cp37-cp37m-manylinux2010_x86_64.whl (11.7 MB)\r\n",
      "     |████████████████████████████████| 11.7 MB 48.2 MB/s            \r\n",
      "\u001b[?25hCollecting distro\r\n",
      "  Downloading distro-1.7.0-py3-none-any.whl (20 kB)\r\n",
      "Requirement already satisfied: importlib-metadata in /opt/conda/lib/python3.7/site-packages (from click>=6.7->camelot-py[cv]) (4.11.2)\r\n",
      "Requirement already satisfied: setuptools>=38.6.0 in /opt/conda/lib/python3.7/site-packages (from ghostscript>=0.7->camelot-py[cv]) (59.5.0)\r\n",
      "Collecting et-xmlfile\r\n",
      "  Downloading et_xmlfile-1.1.0-py3-none-any.whl (4.7 kB)\r\n",
      "Requirement already satisfied: python-dateutil>=2.7.3 in /opt/conda/lib/python3.7/site-packages (from pandas>=0.23.4->camelot-py[cv]) (2.8.2)\r\n",
      "Requirement already satisfied: pytz>=2017.3 in /opt/conda/lib/python3.7/site-packages (from pandas>=0.23.4->camelot-py[cv]) (2021.3)\r\n",
      "Requirement already satisfied: cryptography in /opt/conda/lib/python3.7/site-packages (from pdfminer.six>=20200726->camelot-py[cv]) (36.0.1)\r\n",
      "Requirement already satisfied: six>=1.5 in /opt/conda/lib/python3.7/site-packages (from python-dateutil>=2.7.3->pandas>=0.23.4->camelot-py[cv]) (1.16.0)\r\n",
      "Requirement already satisfied: cffi>=1.12 in /opt/conda/lib/python3.7/site-packages (from cryptography->pdfminer.six>=20200726->camelot-py[cv]) (1.15.0)\r\n",
      "Requirement already satisfied: zipp>=0.5 in /opt/conda/lib/python3.7/site-packages (from importlib-metadata->click>=6.7->camelot-py[cv]) (3.6.0)\r\n",
      "Requirement already satisfied: typing-extensions>=3.6.4 in /opt/conda/lib/python3.7/site-packages (from importlib-metadata->click>=6.7->camelot-py[cv]) (4.1.1)\r\n",
      "Requirement already satisfied: pycparser in /opt/conda/lib/python3.7/site-packages (from cffi>=1.12->cryptography->pdfminer.six>=20200726->camelot-py[cv]) (2.21)\r\n",
      "Building wheels for collected packages: PyPDF2\r\n",
      "  Building wheel for PyPDF2 (setup.py) ... \u001b[?25l-\b \b\\\b \bdone\r\n",
      "\u001b[?25h  Created wheel for PyPDF2: filename=PyPDF2-1.26.0-py3-none-any.whl size=61101 sha256=520c7772aec6e79a4347f5749c48079df692a111baf7042756b3d17ac8861714\r\n",
      "  Stored in directory: /root/.cache/pip/wheels/80/1a/24/648467ade3a77ed20f35cfd2badd32134e96dd25ca811e64b3\r\n",
      "Successfully built PyPDF2\r\n",
      "Installing collected packages: et-xmlfile, PyPDF2, openpyxl, pdftopng, ghostscript, distro, camelot-py, tabula-py\r\n",
      "Successfully installed PyPDF2-1.26.0 camelot-py-0.10.1 distro-1.7.0 et-xmlfile-1.1.0 ghostscript-0.7 openpyxl-3.0.9 pdftopng-0.2.3 tabula-py-2.3.0\r\n",
      "\u001b[33mWARNING: Running pip as the 'root' user can result in broken permissions and conflicting behaviour with the system package manager. It is recommended to use a virtual environment instead: https://pip.pypa.io/warnings/venv\u001b[0m\r\n"
     ]
    }
   ],
   "source": [
    "!pip3 install camelot-py[cv] tabula-py"
   ]
  },
  {
   "cell_type": "code",
   "execution_count": 2,
   "id": "d75f4b4c",
   "metadata": {
    "execution": {
     "iopub.execute_input": "2022-03-19T05:13:23.479225Z",
     "iopub.status.busy": "2022-03-19T05:13:23.478355Z",
     "iopub.status.idle": "2022-03-19T05:13:35.340869Z",
     "shell.execute_reply": "2022-03-19T05:13:35.339921Z",
     "shell.execute_reply.started": "2022-03-19T03:36:33.609112Z"
    },
    "papermill": {
     "duration": 11.932108,
     "end_time": "2022-03-19T05:13:35.341082",
     "exception": false,
     "start_time": "2022-03-19T05:13:23.408974",
     "status": "completed"
    },
    "tags": []
   },
   "outputs": [
    {
     "name": "stdout",
     "output_type": "stream",
     "text": [
      "Collecting pikepdf\r\n",
      "  Downloading pikepdf-5.0.1-cp37-cp37m-manylinux_2_17_x86_64.manylinux2014_x86_64.whl (2.3 MB)\r\n",
      "     |████████████████████████████████| 2.3 MB 707 kB/s            \r\n",
      "\u001b[?25hRequirement already satisfied: packaging>=20 in /opt/conda/lib/python3.7/site-packages (from pikepdf) (21.3)\r\n",
      "Requirement already satisfied: lxml>=4.0 in /opt/conda/lib/python3.7/site-packages (from pikepdf) (4.8.0)\r\n",
      "Requirement already satisfied: Pillow<10,>=6.0 in /opt/conda/lib/python3.7/site-packages (from pikepdf) (8.2.0)\r\n",
      "Requirement already satisfied: pyparsing!=3.0.5,>=2.0.2 in /opt/conda/lib/python3.7/site-packages (from packaging>=20->pikepdf) (3.0.6)\r\n",
      "Installing collected packages: pikepdf\r\n",
      "Successfully installed pikepdf-5.0.1\r\n",
      "\u001b[33mWARNING: Running pip as the 'root' user can result in broken permissions and conflicting behaviour with the system package manager. It is recommended to use a virtual environment instead: https://pip.pypa.io/warnings/venv\u001b[0m\r\n"
     ]
    }
   ],
   "source": [
    "!pip install pikepdf"
   ]
  },
  {
   "cell_type": "code",
   "execution_count": 3,
   "id": "6b6b6f8a",
   "metadata": {
    "execution": {
     "iopub.execute_input": "2022-03-19T05:13:35.476954Z",
     "iopub.status.busy": "2022-03-19T05:13:35.463420Z",
     "iopub.status.idle": "2022-03-19T05:13:45.782863Z",
     "shell.execute_reply": "2022-03-19T05:13:45.781776Z",
     "shell.execute_reply.started": "2022-03-19T03:36:45.151008Z"
    },
    "papermill": {
     "duration": 10.382641,
     "end_time": "2022-03-19T05:13:45.783045",
     "exception": false,
     "start_time": "2022-03-19T05:13:35.400404",
     "status": "completed"
    },
    "tags": []
   },
   "outputs": [
    {
     "name": "stdout",
     "output_type": "stream",
     "text": [
      "Collecting xlwt\r\n",
      "  Downloading xlwt-1.3.0-py2.py3-none-any.whl (99 kB)\r\n",
      "     |████████████████████████████████| 99 kB 971 kB/s            \r\n",
      "\u001b[?25hInstalling collected packages: xlwt\r\n",
      "Successfully installed xlwt-1.3.0\r\n",
      "\u001b[33mWARNING: Running pip as the 'root' user can result in broken permissions and conflicting behaviour with the system package manager. It is recommended to use a virtual environment instead: https://pip.pypa.io/warnings/venv\u001b[0m\r\n"
     ]
    }
   ],
   "source": [
    "!pip install xlwt"
   ]
  },
  {
   "cell_type": "code",
   "execution_count": 4,
   "id": "bcd099fd",
   "metadata": {
    "_cell_guid": "b1076dfc-b9ad-4769-8c92-a6c4dae69d19",
    "_uuid": "8f2839f25d086af736a60e9eeb907d3b93b6e0e5",
    "execution": {
     "iopub.execute_input": "2022-03-19T05:13:45.917540Z",
     "iopub.status.busy": "2022-03-19T05:13:45.916359Z",
     "iopub.status.idle": "2022-03-19T05:13:47.038356Z",
     "shell.execute_reply": "2022-03-19T05:13:47.037685Z",
     "shell.execute_reply.started": "2022-03-19T03:36:55.109171Z"
    },
    "papermill": {
     "duration": 1.194219,
     "end_time": "2022-03-19T05:13:47.038547",
     "exception": false,
     "start_time": "2022-03-19T05:13:45.844328",
     "status": "completed"
    },
    "tags": []
   },
   "outputs": [
    {
     "name": "stdout",
     "output_type": "stream",
     "text": [
      "/kaggle/input/word2vec-nlp-tutorial/testData.tsv.zip\n",
      "/kaggle/input/word2vec-nlp-tutorial/sampleSubmission.csv\n",
      "/kaggle/input/word2vec-nlp-tutorial/unlabeledTrainData.tsv.zip\n",
      "/kaggle/input/word2vec-nlp-tutorial/labeledTrainData.tsv.zip\n",
      "/kaggle/input/contract-notes/2022-03-08-contract-notes_DM3955.pdf\n",
      "/kaggle/input/contract-notes/2022-03-09-contract-notes_DM3955.pdf\n",
      "/kaggle/input/contract-notes/2022-03-07-contract-notes_DM3955.pdf\n",
      "/kaggle/input/contract-notes/2022-03-17-contract-notes_DM3955.pdf\n",
      "/kaggle/input/contract-notes/2022-03-04-contract-notes_DM3955.pdf\n",
      "/kaggle/input/contract-notes/2022-03-16-contract-notes_DM3955.pdf\n",
      "/kaggle/input/contract-notes/2022-03-15-contract-notes_DM3955.pdf\n",
      "/kaggle/input/contract-notes/2022-03-18-contract-notes_DM3955.pdf\n",
      "/kaggle/input/contract-notes/2022-03-11-contract-notes_DM3955.pdf\n",
      "/kaggle/input/contract-notes/2022-03-10-contract-notes_DM3955.pdf\n",
      "/kaggle/input/contract-notes/2022-03-14-contract-notes_DM3955.pdf\n"
     ]
    }
   ],
   "source": [
    "# This Python 3 environment comes with many helpful analytics libraries installed\n",
    "# It is defined by the kaggle/python Docker image: https://github.com/kaggle/docker-python\n",
    "# For example, here's several helpful packages to load\n",
    "import xlwt\n",
    "import numpy as np # linear algebra\n",
    "import pandas as pd # data processing, CSV file I/O (e.g. pd.read_csv)\n",
    "\n",
    "# Input data files are available in the read-only \"../input/\" directory\n",
    "# For example, running this (by clicking run or pressing Shift+Enter) will list all files under the input directory\n",
    "\n",
    "import os\n",
    "for dirname, _, filenames in os.walk('/kaggle/input'):\n",
    "    for filename in filenames:\n",
    "        print(os.path.join(dirname, filename))\n",
    "\n",
    "import camelot \n",
    "import tabula\n",
    "import pikepdf\n",
    "#pdf = pikepdf.open(file,password='ABDPM5030G')\n",
    "#pdf.save('book_without_pass.pdf')\n",
    "import warnings\n",
    "warnings.filterwarnings('ignore')\n",
    "# You can write up to 20GB to the current directory (/kaggle/working/) that gets preserved as output when you create a version using \"Save & Run All\" \n",
    "# You can also write temporary files to /kaggle/temp/, but they won't be saved outside of the current session"
   ]
  },
  {
   "cell_type": "markdown",
   "id": "7c340e3d",
   "metadata": {
    "papermill": {
     "duration": 0.059722,
     "end_time": "2022-03-19T05:13:47.158618",
     "exception": false,
     "start_time": "2022-03-19T05:13:47.098896",
     "status": "completed"
    },
    "tags": []
   },
   "source": [
    "### Starting the PDF table Extraction, and the helper function used for the same"
   ]
  },
  {
   "cell_type": "code",
   "execution_count": 5,
   "id": "84f71e9f",
   "metadata": {
    "execution": {
     "iopub.execute_input": "2022-03-19T05:13:47.308513Z",
     "iopub.status.busy": "2022-03-19T05:13:47.307010Z",
     "iopub.status.idle": "2022-03-19T05:13:47.309482Z",
     "shell.execute_reply": "2022-03-19T05:13:47.310047Z",
     "shell.execute_reply.started": "2022-03-19T03:36:56.178487Z"
    },
    "papermill": {
     "duration": 0.089687,
     "end_time": "2022-03-19T05:13:47.310319",
     "exception": false,
     "start_time": "2022-03-19T05:13:47.220632",
     "status": "completed"
    },
    "tags": []
   },
   "outputs": [],
   "source": [
    "def clean_df(my_table):\n",
    "    my_table = my_table[2:]\n",
    "    my_table.drop([0,1,3,8,12],axis=1,inplace=True)\n",
    "    return my_table"
   ]
  },
  {
   "cell_type": "code",
   "execution_count": 6,
   "id": "5ab17e88",
   "metadata": {
    "execution": {
     "iopub.execute_input": "2022-03-19T05:13:47.449989Z",
     "iopub.status.busy": "2022-03-19T05:13:47.448957Z",
     "iopub.status.idle": "2022-03-19T05:13:47.453114Z",
     "shell.execute_reply": "2022-03-19T05:13:47.453812Z",
     "shell.execute_reply.started": "2022-03-19T03:36:56.188637Z"
    },
    "papermill": {
     "duration": 0.074624,
     "end_time": "2022-03-19T05:13:47.454078",
     "exception": false,
     "start_time": "2022-03-19T05:13:47.379454",
     "status": "completed"
    },
    "tags": []
   },
   "outputs": [],
   "source": [
    "def select_tables(ca_table):\n",
    "    calc_tab = pd.DataFrame()\n",
    "    for table in ca_table:\n",
    "        if table.df.shape[1] == 13:\n",
    "            calc_tab = pd.concat([calc_tab,table.df])\n",
    "    calc_tab = clean_df(calc_tab)\n",
    "    return calc_tab"
   ]
  },
  {
   "cell_type": "code",
   "execution_count": 7,
   "id": "ce135b39",
   "metadata": {
    "execution": {
     "iopub.execute_input": "2022-03-19T05:13:47.591596Z",
     "iopub.status.busy": "2022-03-19T05:13:47.590560Z",
     "iopub.status.idle": "2022-03-19T05:13:47.592378Z",
     "shell.execute_reply": "2022-03-19T05:13:47.592895Z",
     "shell.execute_reply.started": "2022-03-19T03:36:56.201612Z"
    },
    "papermill": {
     "duration": 0.073839,
     "end_time": "2022-03-19T05:13:47.593095",
     "exception": false,
     "start_time": "2022-03-19T05:13:47.519256",
     "status": "completed"
    },
    "tags": []
   },
   "outputs": [],
   "source": [
    "def correct_txn(dataframe):\n",
    "    for index,trans in enumerate(dataframe.transaction):\n",
    "        if '\\n' in trans:\n",
    "            txn_len = len(trans.split('\\n'))\n",
    "            #print(index)\n",
    "            for i in range(txn_len):\n",
    "                dataframe.loc[index+i,'transaction'] = trans.split('\\n')[i]\n",
    "    return dataframe"
   ]
  },
  {
   "cell_type": "code",
   "execution_count": 8,
   "id": "29cb7f67",
   "metadata": {
    "execution": {
     "iopub.execute_input": "2022-03-19T05:13:47.726650Z",
     "iopub.status.busy": "2022-03-19T05:13:47.725548Z",
     "iopub.status.idle": "2022-03-19T05:13:47.731578Z",
     "shell.execute_reply": "2022-03-19T05:13:47.732236Z",
     "shell.execute_reply.started": "2022-03-19T03:36:56.213761Z"
    },
    "papermill": {
     "duration": 0.072582,
     "end_time": "2022-03-19T05:13:47.732453",
     "exception": false,
     "start_time": "2022-03-19T05:13:47.659871",
     "status": "completed"
    },
    "tags": []
   },
   "outputs": [],
   "source": [
    "def correct_qty(dataframe):\n",
    "    for index,qty in enumerate(dataframe.qty):\n",
    "        if '\\n' in qty:\n",
    "            txn_len = len(qty.split('\\n'))\n",
    "            #print(index)\n",
    "            for i in range(txn_len):\n",
    "                dataframe.loc[index+i,'qty'] = qty.split('\\n')[i]\n",
    "    return dataframe"
   ]
  },
  {
   "cell_type": "code",
   "execution_count": 9,
   "id": "efc1c461",
   "metadata": {
    "execution": {
     "iopub.execute_input": "2022-03-19T05:13:47.865592Z",
     "iopub.status.busy": "2022-03-19T05:13:47.864527Z",
     "iopub.status.idle": "2022-03-19T05:13:47.869705Z",
     "shell.execute_reply": "2022-03-19T05:13:47.871082Z",
     "shell.execute_reply.started": "2022-03-19T03:36:56.224464Z"
    },
    "papermill": {
     "duration": 0.077832,
     "end_time": "2022-03-19T05:13:47.871323",
     "exception": false,
     "start_time": "2022-03-19T05:13:47.793491",
     "status": "completed"
    },
    "tags": []
   },
   "outputs": [],
   "source": [
    "def un_pass(file):\n",
    "    directory = '../input/contract-notes/'\n",
    "    full_path = os.path.join(directory,file)\n",
    "    pdf = pikepdf.open(full_path,password='ABDPM5030G')\n",
    "    pdf.save(file)"
   ]
  },
  {
   "cell_type": "code",
   "execution_count": 10,
   "id": "1ac50bbd",
   "metadata": {
    "execution": {
     "iopub.execute_input": "2022-03-19T05:13:48.005816Z",
     "iopub.status.busy": "2022-03-19T05:13:48.004838Z",
     "iopub.status.idle": "2022-03-19T05:13:48.009263Z",
     "shell.execute_reply": "2022-03-19T05:13:48.008399Z",
     "shell.execute_reply.started": "2022-03-19T03:36:56.244591Z"
    },
    "papermill": {
     "duration": 0.075844,
     "end_time": "2022-03-19T05:13:48.009511",
     "exception": false,
     "start_time": "2022-03-19T05:13:47.933667",
     "status": "completed"
    },
    "tags": []
   },
   "outputs": [],
   "source": [
    "#The below function takes the raw file and outputs the cleaned dataframe\n",
    "def get_data(file):\n",
    "    pdf = pikepdf.open(file,password='ABDPM5030G')\n",
    "    pdf.save('book_without_pass.pdf')\n",
    "    ca_tables = camelot.read_pdf('./book_without_pass.pdf',pages='all')\n",
    "    my_data = select_tables(ca_tables)\n",
    "    my_data.columns = ['order_no','script','transaction',\n",
    "                   'qty','price','price_d','price_close','PnL']\n",
    "    my_data = my_data[my_data.order_no != '']\n",
    "    my_data = my_data.reset_index()\n",
    "    my_data.drop('index',axis=1,inplace=True)\n",
    "    my_data = correct_qty(my_data)\n",
    "    my_data = correct_txn(my_data)\n",
    "    my_data.qty = my_data.qty.astype('int')\n",
    "    my_data.price = my_data.price.astype('float')\n",
    "    return my_data # Try to take the raw data as much as possible, to avoid losing control"
   ]
  },
  {
   "cell_type": "code",
   "execution_count": 11,
   "id": "4ce78110",
   "metadata": {
    "execution": {
     "iopub.execute_input": "2022-03-19T05:13:48.154755Z",
     "iopub.status.busy": "2022-03-19T05:13:48.153884Z",
     "iopub.status.idle": "2022-03-19T05:13:48.158806Z",
     "shell.execute_reply": "2022-03-19T05:13:48.159365Z",
     "shell.execute_reply.started": "2022-03-19T03:36:56.255712Z"
    },
    "papermill": {
     "duration": 0.078529,
     "end_time": "2022-03-19T05:13:48.159578",
     "exception": false,
     "start_time": "2022-03-19T05:13:48.081049",
     "status": "completed"
    },
    "tags": []
   },
   "outputs": [],
   "source": [
    "def todays_forward(carry_forward, day_df):\n",
    "    trade_count = day_df.groupby(['script','transaction'])['qty'].sum().reset_index()\n",
    "    #Cancelling out the trades of the day\n",
    "    traded_scripts = trade_count.script.unique()\n",
    "    transaction = []\n",
    "    txn_qty = []\n",
    "    for script in traded_scripts:\n",
    "        temp = trade_count[trade_count.script == script]\n",
    "        #which is more?\n",
    "        if (temp.qty.values[0] > temp.qty.values[-1]):\n",
    "            x = temp.qty.values[0] - temp.qty.values[-1]\n",
    "            transaction.append('B')\n",
    "            txn_qty.append(x)\n",
    "        else:    \n",
    "            x = temp.qty.values[-1] - temp.qty.values[0]\n",
    "            transaction.append('S')\n",
    "            txn_qty.append(x)\n",
    "    #Creating the pending trades of the day\n",
    "    traded_df = pd.DataFrame({'script' : traded_scripts,\n",
    "                         'txn_type' : transaction,\n",
    "                         'txn_qty' : txn_qty\n",
    "                         })\n",
    "    final_df = traded_df.merge(right=carry_f,left_on='script',right_on='script',how='left')\n",
    "    final_df['remaining_qty'] = abs(final_df.txn_qty - final_df.qty)\n",
    "    final_df.drop(['order_no','price','price_d','price_close','PnL'],axis=1,inplace=True)\n",
    "    return final_df"
   ]
  },
  {
   "cell_type": "code",
   "execution_count": 12,
   "id": "b4d59d9d",
   "metadata": {
    "execution": {
     "iopub.execute_input": "2022-03-19T05:13:48.287319Z",
     "iopub.status.busy": "2022-03-19T05:13:48.286507Z",
     "iopub.status.idle": "2022-03-19T05:13:48.291468Z",
     "shell.execute_reply": "2022-03-19T05:13:48.292078Z",
     "shell.execute_reply.started": "2022-03-19T03:36:56.271913Z"
    },
    "papermill": {
     "duration": 0.070544,
     "end_time": "2022-03-19T05:13:48.292303",
     "exception": false,
     "start_time": "2022-03-19T05:13:48.221759",
     "status": "completed"
    },
    "tags": []
   },
   "outputs": [],
   "source": [
    "#decide the script\n",
    "def locate_script(day_df,script,qty,transaction):\n",
    "    locating = day_df[(day_df.script == script)&(day_df.transaction == transaction)]\n",
    "    return locating.iloc[-qty:,:]\n",
    "            #day_dy[-3:,:] will only work"
   ]
  },
  {
   "cell_type": "markdown",
   "id": "c58c3cbb",
   "metadata": {
    "papermill": {
     "duration": 0.060437,
     "end_time": "2022-03-19T05:13:48.414013",
     "exception": false,
     "start_time": "2022-03-19T05:13:48.353576",
     "status": "completed"
    },
    "tags": []
   },
   "source": [
    "### Now we know which scripts are finally pending at the day's end\n",
    "\n",
    "Locate the final trades in that script"
   ]
  },
  {
   "cell_type": "code",
   "execution_count": 13,
   "id": "908f21b8",
   "metadata": {
    "execution": {
     "iopub.execute_input": "2022-03-19T05:13:48.541908Z",
     "iopub.status.busy": "2022-03-19T05:13:48.541128Z",
     "iopub.status.idle": "2022-03-19T05:13:48.547384Z",
     "shell.execute_reply": "2022-03-19T05:13:48.548055Z",
     "shell.execute_reply.started": "2022-03-19T03:36:56.291414Z"
    },
    "papermill": {
     "duration": 0.073347,
     "end_time": "2022-03-19T05:13:48.548294",
     "exception": false,
     "start_time": "2022-03-19T05:13:48.474947",
     "status": "completed"
    },
    "tags": []
   },
   "outputs": [],
   "source": [
    "#Next is to introduce the scripts that are carried forward for the day. \n",
    "#This function to makes the dataframe for the carried forward to this day.\n",
    "\n",
    "def carried_forward(order_no,script,transaction,qty,price):\n",
    "    loc_qty = 1\n",
    "    values=pd.DataFrame({'order_no':order_no,'script':script,\n",
    "                         'transaction':transaction,'qty':loc_qty,\n",
    "                         'price':price},index=[0])\n",
    "    values = values.reindex(list(range(qty)),method='ffill')\n",
    "    return values"
   ]
  },
  {
   "cell_type": "code",
   "execution_count": 14,
   "id": "c62be4c3",
   "metadata": {
    "execution": {
     "iopub.execute_input": "2022-03-19T05:13:48.677034Z",
     "iopub.status.busy": "2022-03-19T05:13:48.676277Z",
     "iopub.status.idle": "2022-03-19T05:13:48.681578Z",
     "shell.execute_reply": "2022-03-19T05:13:48.682215Z",
     "shell.execute_reply.started": "2022-03-19T03:36:56.304753Z"
    },
    "papermill": {
     "duration": 0.072976,
     "end_time": "2022-03-19T05:13:48.682464",
     "exception": false,
     "start_time": "2022-03-19T05:13:48.609488",
     "status": "completed"
    },
    "tags": []
   },
   "outputs": [],
   "source": [
    "def insert_row(idx, df, df_insert):\n",
    "    dfA = df.iloc[:idx, ]\n",
    "    dfB = df.iloc[idx:, ]\n",
    "\n",
    "    df = dfA.append(df_insert).append(dfB).reset_index(drop = True)\n",
    "\n",
    "    return df"
   ]
  },
  {
   "cell_type": "code",
   "execution_count": 15,
   "id": "7af9cc94",
   "metadata": {
    "execution": {
     "iopub.execute_input": "2022-03-19T05:13:48.807533Z",
     "iopub.status.busy": "2022-03-19T05:13:48.806701Z",
     "iopub.status.idle": "2022-03-19T05:13:48.812235Z",
     "shell.execute_reply": "2022-03-19T05:13:48.812801Z",
     "shell.execute_reply.started": "2022-03-19T03:36:56.318296Z"
    },
    "papermill": {
     "duration": 0.069771,
     "end_time": "2022-03-19T05:13:48.813018",
     "exception": false,
     "start_time": "2022-03-19T05:13:48.743247",
     "status": "completed"
    },
    "tags": []
   },
   "outputs": [],
   "source": [
    "def make_single_1(dataf,qty,index):\n",
    "    values = dataf.loc[index]\n",
    "    values[3] = 1 #Here i am changing the qty to 1\n",
    "    values=pd.DataFrame([values.values],columns=values.index)\n",
    "    values = values.reindex(list(range(index,index+qty)),method='ffill')\n",
    "    return values"
   ]
  },
  {
   "cell_type": "code",
   "execution_count": 16,
   "id": "39bf59d0",
   "metadata": {
    "execution": {
     "iopub.execute_input": "2022-03-19T05:13:48.950091Z",
     "iopub.status.busy": "2022-03-19T05:13:48.949215Z",
     "iopub.status.idle": "2022-03-19T05:13:48.951834Z",
     "shell.execute_reply": "2022-03-19T05:13:48.951274Z",
     "shell.execute_reply.started": "2022-03-19T03:36:56.335158Z"
    },
    "papermill": {
     "duration": 0.077128,
     "end_time": "2022-03-19T05:13:48.952002",
     "exception": false,
     "start_time": "2022-03-19T05:13:48.874874",
     "status": "completed"
    },
    "tags": []
   },
   "outputs": [],
   "source": [
    "#This function finally provides the corrected dataframe for each script, transaction wise\n",
    "def get_trades(df,script):\n",
    "    df = df[df.order_no != '0'] #Don't take the forwarded trades\n",
    "    temp = df[df.script == script]\n",
    "    buy = temp[temp.transaction == 'B'].reset_index()\n",
    "    buy.drop(['index','PnL','price_close','price_d'],axis=1,inplace=True)\n",
    "    buy.order_no = buy.order_no.astype('int') \n",
    "    sell = temp[temp.transaction == 'S'].reset_index()\n",
    "    sell.drop(['index','PnL','price_close','price_d'],axis=1,inplace=True)\n",
    "    sell.order_no = sell.order_no.astype('int') \n",
    "    mult_buy = buy[buy.qty > 1]\n",
    "    mult_sell = sell[sell.qty > 1]\n",
    "    buy.drop(mult_buy.index,inplace=True)\n",
    "    sell.drop(mult_sell.index,inplace=True)\n",
    "    \n",
    "    #calculate sell items\n",
    "    for i,qty in mult_sell['qty'].iteritems():\n",
    "        temp = make_single_1(dataf=mult_sell,qty=qty,index=i)\n",
    "        update_buy = insert_row(i,sell,temp)\n",
    "        sell = update_buy\n",
    "        #print('exit loop')\n",
    "\n",
    "    #calculate buy items\n",
    "    for i,qty in mult_buy['qty'].iteritems():\n",
    "        temp = make_single_1(dataf=mult_buy,qty=qty,index=i)\n",
    "        update_buy = insert_row(i,buy,temp)\n",
    "        buy = update_buy\n",
    "        #print('exit loop')\n",
    "    \n",
    "    buy.sort_values('order_no',inplace=True)\n",
    "    sell.sort_values('order_no',inplace=True)\n",
    "    \n",
    "    return buy,sell"
   ]
  },
  {
   "cell_type": "code",
   "execution_count": 17,
   "id": "54607174",
   "metadata": {
    "execution": {
     "iopub.execute_input": "2022-03-19T05:13:49.093850Z",
     "iopub.status.busy": "2022-03-19T05:13:49.092995Z",
     "iopub.status.idle": "2022-03-19T05:13:49.096271Z",
     "shell.execute_reply": "2022-03-19T05:13:49.095660Z",
     "shell.execute_reply.started": "2022-03-19T03:37:20.892979Z"
    },
    "papermill": {
     "duration": 0.080744,
     "end_time": "2022-03-19T05:13:49.096455",
     "exception": false,
     "start_time": "2022-03-19T05:13:49.015711",
     "status": "completed"
    },
    "tags": []
   },
   "outputs": [],
   "source": [
    "def get_script_frame(dataf,script,fwd_txn,fwd_qty,fwd_price):\n",
    "    buy_scr,sell_scr = get_trades(df=dataf,script=script)\n",
    "    print(buy_scr.shape,sell_scr.shape)\n",
    "    scr_forward = carried_forward(order_no='forward',script=script,transaction=fwd_txn,\n",
    "                                  qty=fwd_qty,price=fwd_price)\n",
    "    print(scr_forward.shape)\n",
    "    #scr_forward_close = carried_forward(order_no='close',script=script,transaction=cls_txn,\n",
    "                                  #qty=cls_qty,price=cls_price)\n",
    "    if fwd_txn == 'B':\n",
    "        buy_scr = insert_row(0,buy_scr,scr_forward)\n",
    "        #sell_scr = insert_row(0,sell_scr,scr_forward_close)\n",
    "    else:\n",
    "        sell_scr = insert_row(0,sell_scr,scr_forward)\n",
    "        #buy_scr = insert_row(0,buy_scr,scr_forward_close)\n",
    "    print('final trade script buy and sell',buy_scr.shape,sell_scr.shape)\n",
    "    if (buy_scr.shape[0] != 0) and (sell_scr.shape[0] != 0): #Check if the dataframe have data for merge\n",
    "        if fwd_txn == 'B': #The buy script forward has to be on the top\n",
    "            final_comp_scr = buy_scr.merge(right=sell_scr,right_index=True,left_index=True,how='left')\n",
    "            final_comp_scr['PnL'] = final_comp_scr.price_y - final_comp_scr.price_x\n",
    "        else:#The sell script forward has to be on the top\n",
    "            final_comp_scr = sell_scr.merge(right=buy_scr,right_index=True,left_index=True,how='left')\n",
    "            final_comp_scr['PnL'] = final_comp_scr.price_x - final_comp_scr.price_y\n",
    "        print('entered')\n",
    "        return final_comp_scr\n",
    "        \n",
    "    elif buy_scr.shape[0] != 0:\n",
    "        final_comp_scr = buy_scr\n",
    "        print('entered elif')\n",
    "        return final_comp_scr\n",
    "    else:\n",
    "        final_comp_scr = sell_scr\n",
    "        print('entered else')\n",
    "        return final_comp_scr\n",
    "    "
   ]
  },
  {
   "cell_type": "code",
   "execution_count": 18,
   "id": "d4154a5b",
   "metadata": {
    "execution": {
     "iopub.execute_input": "2022-03-19T05:13:49.227021Z",
     "iopub.status.busy": "2022-03-19T05:13:49.226233Z",
     "iopub.status.idle": "2022-03-19T05:13:49.229372Z",
     "shell.execute_reply": "2022-03-19T05:13:49.228830Z",
     "shell.execute_reply.started": "2022-03-19T03:50:08.381591Z"
    },
    "papermill": {
     "duration": 0.071614,
     "end_time": "2022-03-19T05:13:49.229553",
     "exception": false,
     "start_time": "2022-03-19T05:13:49.157939",
     "status": "completed"
    },
    "tags": []
   },
   "outputs": [],
   "source": [
    "import os\n",
    "directory = '../input/contract-notes'\n",
    "scripts = ['SILVERMIC22JUNFUT','SILVERMIC22APRFUT']\n",
    "APR_FWD = [0,69257,70069,71418,69692,70500,70412,68993,68466,67517,68625]\n",
    "JUN_FWD = [0,69918,70758,72211,70443,71246,71170,69805,69256,68327,69410]"
   ]
  },
  {
   "cell_type": "code",
   "execution_count": 19,
   "id": "e18cfe6e",
   "metadata": {
    "execution": {
     "iopub.execute_input": "2022-03-19T05:13:49.358287Z",
     "iopub.status.busy": "2022-03-19T05:13:49.357441Z",
     "iopub.status.idle": "2022-03-19T05:13:49.360779Z",
     "shell.execute_reply": "2022-03-19T05:13:49.360096Z",
     "shell.execute_reply.started": "2022-03-19T05:12:28.428260Z"
    },
    "papermill": {
     "duration": 0.071287,
     "end_time": "2022-03-19T05:13:49.360941",
     "exception": false,
     "start_time": "2022-03-19T05:13:49.289654",
     "status": "completed"
    },
    "tags": []
   },
   "outputs": [],
   "source": [
    "APR_txn = ['S','B','B','B','S','S','S','S','S','S','S']\n",
    "JUN_txn = ['S','S','S','S','B','B','B','B','B','B','B']\n",
    "APR_qty = [0,2,4,3,5,6,6,6,6,6,6]\n",
    "JUN_qty = [0,2,4,3,6,6,6,6,6,6,6]\n",
    "dates = []\n",
    "files = []"
   ]
  },
  {
   "cell_type": "code",
   "execution_count": 20,
   "id": "b9ef39fe",
   "metadata": {
    "execution": {
     "iopub.execute_input": "2022-03-19T05:13:49.490106Z",
     "iopub.status.busy": "2022-03-19T05:13:49.489374Z",
     "iopub.status.idle": "2022-03-19T05:13:49.493158Z",
     "shell.execute_reply": "2022-03-19T05:13:49.492532Z",
     "shell.execute_reply.started": "2022-03-19T03:50:16.032676Z"
    },
    "papermill": {
     "duration": 0.071656,
     "end_time": "2022-03-19T05:13:49.493364",
     "exception": false,
     "start_time": "2022-03-19T05:13:49.421708",
     "status": "completed"
    },
    "tags": []
   },
   "outputs": [],
   "source": [
    "for filename in os.listdir(directory):\n",
    "    files.append(filename)\n",
    "    temp = filename.split('-')\n",
    "    new_date = temp[0]+'-'+temp[1]+'-'+temp[2]\n",
    "    dates.append(new_date)"
   ]
  },
  {
   "cell_type": "code",
   "execution_count": 21,
   "id": "d1ba1370",
   "metadata": {
    "execution": {
     "iopub.execute_input": "2022-03-19T05:13:49.624739Z",
     "iopub.status.busy": "2022-03-19T05:13:49.623986Z",
     "iopub.status.idle": "2022-03-19T05:13:49.645816Z",
     "shell.execute_reply": "2022-03-19T05:13:49.645037Z",
     "shell.execute_reply.started": "2022-03-19T03:50:19.302115Z"
    },
    "papermill": {
     "duration": 0.092308,
     "end_time": "2022-03-19T05:13:49.645993",
     "exception": false,
     "start_time": "2022-03-19T05:13:49.553685",
     "status": "completed"
    },
    "tags": []
   },
   "outputs": [],
   "source": [
    "contract_df = pd.DataFrame({'filename':files,'dates':dates})\n",
    "contract_df.dates = pd.to_datetime(contract_df.dates)\n",
    "contract_df.sort_values('dates',inplace=True)\n",
    "contract_df['Jun_close'] = JUN_FWD\n",
    "contract_df['Apr_close'] = APR_FWD\n",
    "contract_df['Apr_txn'] = APR_txn\n",
    "contract_df['Jun_txn'] = JUN_txn\n",
    "contract_df['Apr_qty'] = APR_qty\n",
    "contract_df['Jun_qty'] = JUN_qty"
   ]
  },
  {
   "cell_type": "code",
   "execution_count": 22,
   "id": "6bcf1fe1",
   "metadata": {
    "execution": {
     "iopub.execute_input": "2022-03-19T05:13:49.777020Z",
     "iopub.status.busy": "2022-03-19T05:13:49.772948Z",
     "iopub.status.idle": "2022-03-19T05:13:49.779865Z",
     "shell.execute_reply": "2022-03-19T05:13:49.779095Z",
     "shell.execute_reply.started": "2022-03-19T03:50:36.591895Z"
    },
    "papermill": {
     "duration": 0.073102,
     "end_time": "2022-03-19T05:13:49.780028",
     "exception": false,
     "start_time": "2022-03-19T05:13:49.706926",
     "status": "completed"
    },
    "tags": []
   },
   "outputs": [],
   "source": [
    "contract_df.reset_index(inplace=True)\n",
    "contract_df.drop('index',inplace=True,axis=1)"
   ]
  },
  {
   "cell_type": "code",
   "execution_count": 23,
   "id": "b49346ff",
   "metadata": {
    "_kg_hide-output": true,
    "execution": {
     "iopub.execute_input": "2022-03-19T05:13:49.911982Z",
     "iopub.status.busy": "2022-03-19T05:13:49.910806Z",
     "iopub.status.idle": "2022-03-19T05:13:49.929210Z",
     "shell.execute_reply": "2022-03-19T05:13:49.929769Z",
     "shell.execute_reply.started": "2022-03-19T04:17:02.081319Z"
    },
    "papermill": {
     "duration": 0.088423,
     "end_time": "2022-03-19T05:13:49.929976",
     "exception": false,
     "start_time": "2022-03-19T05:13:49.841553",
     "status": "completed"
    },
    "tags": []
   },
   "outputs": [
    {
     "data": {
      "text/html": [
       "<div>\n",
       "<style scoped>\n",
       "    .dataframe tbody tr th:only-of-type {\n",
       "        vertical-align: middle;\n",
       "    }\n",
       "\n",
       "    .dataframe tbody tr th {\n",
       "        vertical-align: top;\n",
       "    }\n",
       "\n",
       "    .dataframe thead th {\n",
       "        text-align: right;\n",
       "    }\n",
       "</style>\n",
       "<table border=\"1\" class=\"dataframe\">\n",
       "  <thead>\n",
       "    <tr style=\"text-align: right;\">\n",
       "      <th></th>\n",
       "      <th>filename</th>\n",
       "      <th>dates</th>\n",
       "      <th>Jun_close</th>\n",
       "      <th>Apr_close</th>\n",
       "      <th>Apr_txn</th>\n",
       "      <th>Jun_txn</th>\n",
       "      <th>Apr_qty</th>\n",
       "      <th>Jun_qty</th>\n",
       "    </tr>\n",
       "  </thead>\n",
       "  <tbody>\n",
       "    <tr>\n",
       "      <th>0</th>\n",
       "      <td>2022-03-04-contract-notes_DM3955.pdf</td>\n",
       "      <td>2022-03-04</td>\n",
       "      <td>0</td>\n",
       "      <td>0</td>\n",
       "      <td>S</td>\n",
       "      <td>S</td>\n",
       "      <td>0</td>\n",
       "      <td>0</td>\n",
       "    </tr>\n",
       "    <tr>\n",
       "      <th>1</th>\n",
       "      <td>2022-03-07-contract-notes_DM3955.pdf</td>\n",
       "      <td>2022-03-07</td>\n",
       "      <td>69918</td>\n",
       "      <td>69257</td>\n",
       "      <td>B</td>\n",
       "      <td>S</td>\n",
       "      <td>2</td>\n",
       "      <td>2</td>\n",
       "    </tr>\n",
       "    <tr>\n",
       "      <th>2</th>\n",
       "      <td>2022-03-08-contract-notes_DM3955.pdf</td>\n",
       "      <td>2022-03-08</td>\n",
       "      <td>70758</td>\n",
       "      <td>70069</td>\n",
       "      <td>B</td>\n",
       "      <td>S</td>\n",
       "      <td>4</td>\n",
       "      <td>4</td>\n",
       "    </tr>\n",
       "    <tr>\n",
       "      <th>3</th>\n",
       "      <td>2022-03-09-contract-notes_DM3955.pdf</td>\n",
       "      <td>2022-03-09</td>\n",
       "      <td>72211</td>\n",
       "      <td>71418</td>\n",
       "      <td>B</td>\n",
       "      <td>S</td>\n",
       "      <td>3</td>\n",
       "      <td>3</td>\n",
       "    </tr>\n",
       "    <tr>\n",
       "      <th>4</th>\n",
       "      <td>2022-03-10-contract-notes_DM3955.pdf</td>\n",
       "      <td>2022-03-10</td>\n",
       "      <td>70443</td>\n",
       "      <td>69692</td>\n",
       "      <td>S</td>\n",
       "      <td>B</td>\n",
       "      <td>5</td>\n",
       "      <td>6</td>\n",
       "    </tr>\n",
       "    <tr>\n",
       "      <th>5</th>\n",
       "      <td>2022-03-11-contract-notes_DM3955.pdf</td>\n",
       "      <td>2022-03-11</td>\n",
       "      <td>71246</td>\n",
       "      <td>70500</td>\n",
       "      <td>S</td>\n",
       "      <td>B</td>\n",
       "      <td>6</td>\n",
       "      <td>6</td>\n",
       "    </tr>\n",
       "    <tr>\n",
       "      <th>6</th>\n",
       "      <td>2022-03-14-contract-notes_DM3955.pdf</td>\n",
       "      <td>2022-03-14</td>\n",
       "      <td>71170</td>\n",
       "      <td>70412</td>\n",
       "      <td>S</td>\n",
       "      <td>B</td>\n",
       "      <td>6</td>\n",
       "      <td>6</td>\n",
       "    </tr>\n",
       "    <tr>\n",
       "      <th>7</th>\n",
       "      <td>2022-03-15-contract-notes_DM3955.pdf</td>\n",
       "      <td>2022-03-15</td>\n",
       "      <td>69805</td>\n",
       "      <td>68993</td>\n",
       "      <td>S</td>\n",
       "      <td>B</td>\n",
       "      <td>6</td>\n",
       "      <td>6</td>\n",
       "    </tr>\n",
       "    <tr>\n",
       "      <th>8</th>\n",
       "      <td>2022-03-16-contract-notes_DM3955.pdf</td>\n",
       "      <td>2022-03-16</td>\n",
       "      <td>69256</td>\n",
       "      <td>68466</td>\n",
       "      <td>S</td>\n",
       "      <td>B</td>\n",
       "      <td>6</td>\n",
       "      <td>6</td>\n",
       "    </tr>\n",
       "    <tr>\n",
       "      <th>9</th>\n",
       "      <td>2022-03-17-contract-notes_DM3955.pdf</td>\n",
       "      <td>2022-03-17</td>\n",
       "      <td>68327</td>\n",
       "      <td>67517</td>\n",
       "      <td>S</td>\n",
       "      <td>B</td>\n",
       "      <td>6</td>\n",
       "      <td>6</td>\n",
       "    </tr>\n",
       "    <tr>\n",
       "      <th>10</th>\n",
       "      <td>2022-03-18-contract-notes_DM3955.pdf</td>\n",
       "      <td>2022-03-18</td>\n",
       "      <td>69410</td>\n",
       "      <td>68625</td>\n",
       "      <td>S</td>\n",
       "      <td>B</td>\n",
       "      <td>6</td>\n",
       "      <td>6</td>\n",
       "    </tr>\n",
       "  </tbody>\n",
       "</table>\n",
       "</div>"
      ],
      "text/plain": [
       "                                filename      dates  Jun_close  Apr_close  \\\n",
       "0   2022-03-04-contract-notes_DM3955.pdf 2022-03-04          0          0   \n",
       "1   2022-03-07-contract-notes_DM3955.pdf 2022-03-07      69918      69257   \n",
       "2   2022-03-08-contract-notes_DM3955.pdf 2022-03-08      70758      70069   \n",
       "3   2022-03-09-contract-notes_DM3955.pdf 2022-03-09      72211      71418   \n",
       "4   2022-03-10-contract-notes_DM3955.pdf 2022-03-10      70443      69692   \n",
       "5   2022-03-11-contract-notes_DM3955.pdf 2022-03-11      71246      70500   \n",
       "6   2022-03-14-contract-notes_DM3955.pdf 2022-03-14      71170      70412   \n",
       "7   2022-03-15-contract-notes_DM3955.pdf 2022-03-15      69805      68993   \n",
       "8   2022-03-16-contract-notes_DM3955.pdf 2022-03-16      69256      68466   \n",
       "9   2022-03-17-contract-notes_DM3955.pdf 2022-03-17      68327      67517   \n",
       "10  2022-03-18-contract-notes_DM3955.pdf 2022-03-18      69410      68625   \n",
       "\n",
       "   Apr_txn Jun_txn  Apr_qty  Jun_qty  \n",
       "0        S       S        0        0  \n",
       "1        B       S        2        2  \n",
       "2        B       S        4        4  \n",
       "3        B       S        3        3  \n",
       "4        S       B        5        6  \n",
       "5        S       B        6        6  \n",
       "6        S       B        6        6  \n",
       "7        S       B        6        6  \n",
       "8        S       B        6        6  \n",
       "9        S       B        6        6  \n",
       "10       S       B        6        6  "
      ]
     },
     "execution_count": 23,
     "metadata": {},
     "output_type": "execute_result"
    }
   ],
   "source": [
    "#Checking the built dataframe\n",
    "contract_df"
   ]
  },
  {
   "cell_type": "code",
   "execution_count": 24,
   "id": "bcb915a8",
   "metadata": {
    "_kg_hide-output": true,
    "execution": {
     "iopub.execute_input": "2022-03-19T05:13:50.062789Z",
     "iopub.status.busy": "2022-03-19T05:13:50.061931Z",
     "iopub.status.idle": "2022-03-19T05:13:50.895972Z",
     "shell.execute_reply": "2022-03-19T05:13:50.896607Z",
     "shell.execute_reply.started": "2022-03-19T03:50:39.441207Z"
    },
    "papermill": {
     "duration": 0.904518,
     "end_time": "2022-03-19T05:13:50.896831",
     "exception": false,
     "start_time": "2022-03-19T05:13:49.992313",
     "status": "completed"
    },
    "tags": []
   },
   "outputs": [
    {
     "name": "stdout",
     "output_type": "stream",
     "text": [
      "2022-03-04-contract-notes_DM3955.pdf\n",
      "2022-03-07-contract-notes_DM3955.pdf\n",
      "2022-03-08-contract-notes_DM3955.pdf\n",
      "2022-03-09-contract-notes_DM3955.pdf\n",
      "2022-03-10-contract-notes_DM3955.pdf\n",
      "2022-03-11-contract-notes_DM3955.pdf\n",
      "2022-03-14-contract-notes_DM3955.pdf\n",
      "2022-03-15-contract-notes_DM3955.pdf\n",
      "2022-03-16-contract-notes_DM3955.pdf\n",
      "2022-03-17-contract-notes_DM3955.pdf\n",
      "2022-03-18-contract-notes_DM3955.pdf\n"
     ]
    }
   ],
   "source": [
    "for files in contract_df.filename:\n",
    "    print(files)\n",
    "    un_pass(files)"
   ]
  },
  {
   "cell_type": "code",
   "execution_count": 25,
   "id": "0c6f29a5",
   "metadata": {
    "_kg_hide-output": true,
    "execution": {
     "iopub.execute_input": "2022-03-19T05:13:51.036950Z",
     "iopub.status.busy": "2022-03-19T05:13:51.036058Z",
     "iopub.status.idle": "2022-03-19T05:16:12.845638Z",
     "shell.execute_reply": "2022-03-19T05:16:12.846404Z"
    },
    "papermill": {
     "duration": 141.887288,
     "end_time": "2022-03-19T05:16:12.846717",
     "exception": false,
     "start_time": "2022-03-19T05:13:50.959429",
     "status": "completed"
    },
    "tags": []
   },
   "outputs": [
    {
     "name": "stdout",
     "output_type": "stream",
     "text": [
      "0\n",
      "full_path is ../input/contract-notes/2022-03-04-contract-notes_DM3955.pdf --\n"
     ]
    },
    {
     "name": "stderr",
     "output_type": "stream",
     "text": [
      "2022-03-19T05:13:53 - INFO - Processing page-1\n",
      "2022-03-19T05:13:55 - INFO - Processing page-2\n"
     ]
    },
    {
     "name": "stdout",
     "output_type": "stream",
     "text": [
      "complete contract data shape is (18, 8)\n",
      "(0, 5) (2, 5)\n",
      "(0, 5)\n",
      "final trade script buy and sell (0, 5) (2, 5)\n",
      "entered else\n",
      "collect jun data shape is (2, 5)\n",
      "(6, 5) (4, 5)\n",
      "(0, 5)\n",
      "final trade script buy and sell (6, 5) (4, 5)\n",
      "entered\n",
      "collect apr data shape is (4, 11)\n",
      "Written the excel file for the 2022-03-04-contract-notes_DM3955.pdf dataset\n",
      "1\n",
      "full_path is ../input/contract-notes/2022-03-07-contract-notes_DM3955.pdf --\n"
     ]
    },
    {
     "name": "stderr",
     "output_type": "stream",
     "text": [
      "2022-03-19T05:14:00 - INFO - Processing page-1\n",
      "2022-03-19T05:14:05 - INFO - Processing page-2\n",
      "2022-03-19T05:14:08 - INFO - Processing page-3\n",
      "2022-03-19T05:14:10 - INFO - Processing page-4\n"
     ]
    },
    {
     "name": "stdout",
     "output_type": "stream",
     "text": [
      "complete contract data shape is (58, 8)\n",
      "(0, 5) (2, 5)\n",
      "(2, 5)\n",
      "final trade script buy and sell (0, 5) (4, 5)\n",
      "entered else\n",
      "collect jun data shape is (4, 5)\n",
      "(22, 5) (20, 5)\n",
      "(2, 5)\n",
      "final trade script buy and sell (24, 5) (20, 5)\n",
      "entered\n",
      "collect apr data shape is (24, 11)\n",
      "Written the excel file for the 2022-03-07-contract-notes_DM3955.pdf dataset\n",
      "2\n",
      "full_path is ../input/contract-notes/2022-03-08-contract-notes_DM3955.pdf --\n"
     ]
    },
    {
     "name": "stderr",
     "output_type": "stream",
     "text": [
      "2022-03-19T05:14:19 - INFO - Processing page-1\n",
      "2022-03-19T05:14:24 - INFO - Processing page-2\n",
      "2022-03-19T05:14:30 - INFO - Processing page-3\n",
      "2022-03-19T05:14:35 - INFO - Processing page-4\n",
      "2022-03-19T05:14:36 - INFO - Processing page-5\n"
     ]
    },
    {
     "name": "stdout",
     "output_type": "stream",
     "text": [
      "complete contract data shape is (115, 8)\n",
      "(16, 5) (15, 5)\n",
      "(4, 5)\n",
      "final trade script buy and sell (16, 5) (19, 5)\n",
      "entered\n",
      "collect jun data shape is (19, 11)\n",
      "(28, 5) (29, 5)\n",
      "(4, 5)\n",
      "final trade script buy and sell (32, 5) (29, 5)\n",
      "entered\n",
      "collect apr data shape is (32, 11)\n",
      "Written the excel file for the 2022-03-08-contract-notes_DM3955.pdf dataset\n",
      "3\n",
      "full_path is ../input/contract-notes/2022-03-09-contract-notes_DM3955.pdf --\n"
     ]
    },
    {
     "name": "stderr",
     "output_type": "stream",
     "text": [
      "2022-03-19T05:14:42 - INFO - Processing page-1\n",
      "2022-03-19T05:14:47 - INFO - Processing page-2\n",
      "2022-03-19T05:14:51 - INFO - Processing page-3\n",
      "2022-03-19T05:14:52 - INFO - Processing page-4\n"
     ]
    },
    {
     "name": "stdout",
     "output_type": "stream",
     "text": [
      "complete contract data shape is (64, 8)\n",
      "(10, 5) (1, 5)\n",
      "(3, 5)\n",
      "final trade script buy and sell (10, 5) (4, 5)\n",
      "entered\n",
      "collect jun data shape is (4, 11)\n",
      "(23, 5) (31, 5)\n",
      "(3, 5)\n",
      "final trade script buy and sell (26, 5) (31, 5)\n",
      "entered\n",
      "collect apr data shape is (26, 11)\n",
      "Written the excel file for the 2022-03-09-contract-notes_DM3955.pdf dataset\n",
      "4\n",
      "full_path is ../input/contract-notes/2022-03-10-contract-notes_DM3955.pdf --\n"
     ]
    },
    {
     "name": "stderr",
     "output_type": "stream",
     "text": [
      "2022-03-19T05:14:56 - INFO - Processing page-1\n",
      "2022-03-19T05:15:00 - INFO - Processing page-2\n",
      "2022-03-19T05:15:02 - INFO - Processing page-3\n"
     ]
    },
    {
     "name": "stdout",
     "output_type": "stream",
     "text": [
      "complete contract data shape is (35, 8)\n",
      "(0, 5) (0, 5)\n",
      "(6, 5)\n",
      "final trade script buy and sell (6, 5) (0, 5)\n",
      "entered elif\n",
      "collect jun data shape is (6, 5)\n",
      "(20, 5) (21, 5)\n",
      "(5, 5)\n",
      "final trade script buy and sell (20, 5) (26, 5)\n",
      "entered\n",
      "collect apr data shape is (26, 11)\n",
      "Written the excel file for the 2022-03-10-contract-notes_DM3955.pdf dataset\n",
      "5\n",
      "full_path is ../input/contract-notes/2022-03-11-contract-notes_DM3955.pdf --\n"
     ]
    },
    {
     "name": "stderr",
     "output_type": "stream",
     "text": [
      "2022-03-19T05:15:09 - INFO - Processing page-1\n",
      "2022-03-19T05:15:13 - INFO - Processing page-2\n",
      "2022-03-19T05:15:18 - INFO - Processing page-3\n",
      "2022-03-19T05:15:20 - INFO - Processing page-4\n"
     ]
    },
    {
     "name": "stdout",
     "output_type": "stream",
     "text": [
      "complete contract data shape is (70, 8)\n",
      "(0, 5) (0, 5)\n",
      "(6, 5)\n",
      "final trade script buy and sell (6, 5) (0, 5)\n",
      "entered elif\n",
      "collect jun data shape is (6, 5)\n",
      "(45, 5) (45, 5)\n",
      "(6, 5)\n",
      "final trade script buy and sell (45, 5) (51, 5)\n",
      "entered\n",
      "collect apr data shape is (51, 11)\n",
      "Written the excel file for the 2022-03-11-contract-notes_DM3955.pdf dataset\n",
      "6\n",
      "full_path is ../input/contract-notes/2022-03-14-contract-notes_DM3955.pdf --\n"
     ]
    },
    {
     "name": "stderr",
     "output_type": "stream",
     "text": [
      "2022-03-19T05:15:26 - INFO - Processing page-1\n",
      "2022-03-19T05:15:31 - INFO - Processing page-2\n",
      "2022-03-19T05:15:34 - INFO - Processing page-3\n",
      "2022-03-19T05:15:36 - INFO - Processing page-4\n"
     ]
    },
    {
     "name": "stdout",
     "output_type": "stream",
     "text": [
      "complete contract data shape is (58, 8)\n",
      "(6, 5) (6, 5)\n",
      "(6, 5)\n",
      "final trade script buy and sell (12, 5) (6, 5)\n",
      "entered\n",
      "collect jun data shape is (12, 11)\n",
      "(24, 5) (24, 5)\n",
      "(6, 5)\n",
      "final trade script buy and sell (24, 5) (30, 5)\n",
      "entered\n",
      "collect apr data shape is (30, 11)\n",
      "Written the excel file for the 2022-03-14-contract-notes_DM3955.pdf dataset\n",
      "7\n",
      "full_path is ../input/contract-notes/2022-03-15-contract-notes_DM3955.pdf --\n"
     ]
    },
    {
     "name": "stderr",
     "output_type": "stream",
     "text": [
      "2022-03-19T05:15:38 - INFO - Processing page-1\n",
      "2022-03-19T05:15:40 - INFO - Processing page-2\n",
      "2022-03-19T05:15:42 - INFO - Processing page-3\n"
     ]
    },
    {
     "name": "stdout",
     "output_type": "stream",
     "text": [
      "complete contract data shape is (21, 8)\n",
      "(1, 5) (1, 5)\n",
      "(6, 5)\n",
      "final trade script buy and sell (7, 5) (1, 5)\n",
      "entered\n",
      "collect jun data shape is (7, 11)\n",
      "(10, 5) (10, 5)\n",
      "(6, 5)\n",
      "final trade script buy and sell (10, 5) (16, 5)\n",
      "entered\n",
      "collect apr data shape is (16, 11)\n",
      "Written the excel file for the 2022-03-15-contract-notes_DM3955.pdf dataset\n",
      "8\n",
      "full_path is ../input/contract-notes/2022-03-16-contract-notes_DM3955.pdf --\n"
     ]
    },
    {
     "name": "stderr",
     "output_type": "stream",
     "text": [
      "2022-03-19T05:15:47 - INFO - Processing page-1\n",
      "2022-03-19T05:15:51 - INFO - Processing page-2\n",
      "2022-03-19T05:15:54 - INFO - Processing page-3\n"
     ]
    },
    {
     "name": "stdout",
     "output_type": "stream",
     "text": [
      "complete contract data shape is (46, 8)\n",
      "(12, 5) (12, 5)\n",
      "(6, 5)\n",
      "final trade script buy and sell (18, 5) (12, 5)\n",
      "entered\n",
      "collect jun data shape is (18, 11)\n",
      "(10, 5) (10, 5)\n",
      "(6, 5)\n",
      "final trade script buy and sell (10, 5) (16, 5)\n",
      "entered\n",
      "collect apr data shape is (16, 11)\n",
      "Written the excel file for the 2022-03-16-contract-notes_DM3955.pdf dataset\n",
      "9\n",
      "full_path is ../input/contract-notes/2022-03-17-contract-notes_DM3955.pdf --\n"
     ]
    },
    {
     "name": "stderr",
     "output_type": "stream",
     "text": [
      "2022-03-19T05:16:00 - INFO - Processing page-1\n",
      "2022-03-19T05:16:04 - INFO - Processing page-2\n",
      "2022-03-19T05:16:07 - INFO - Processing page-3\n"
     ]
    },
    {
     "name": "stdout",
     "output_type": "stream",
     "text": [
      "complete contract data shape is (46, 8)\n",
      "(19, 5) (19, 5)\n",
      "(6, 5)\n",
      "final trade script buy and sell (25, 5) (19, 5)\n",
      "entered\n",
      "collect jun data shape is (25, 11)\n",
      "(5, 5) (5, 5)\n",
      "(6, 5)\n",
      "final trade script buy and sell (5, 5) (11, 5)\n",
      "entered\n",
      "collect apr data shape is (11, 11)\n",
      "Written the excel file for the 2022-03-17-contract-notes_DM3955.pdf dataset\n",
      "10\n",
      "full_path is ../input/contract-notes/2022-03-18-contract-notes_DM3955.pdf --\n"
     ]
    },
    {
     "name": "stderr",
     "output_type": "stream",
     "text": [
      "2022-03-19T05:16:10 - INFO - Processing page-1\n",
      "2022-03-19T05:16:11 - INFO - Processing page-2\n"
     ]
    },
    {
     "name": "stdout",
     "output_type": "stream",
     "text": [
      "complete contract data shape is (12, 8)\n",
      "(1, 5) (2, 5)\n",
      "(6, 5)\n",
      "final trade script buy and sell (7, 5) (2, 5)\n",
      "entered\n",
      "collect jun data shape is (7, 11)\n",
      "(5, 5) (4, 5)\n",
      "(6, 5)\n",
      "final trade script buy and sell (5, 5) (10, 5)\n",
      "entered\n",
      "collect apr data shape is (10, 11)\n",
      "Written the excel file for the 2022-03-18-contract-notes_DM3955.pdf dataset\n"
     ]
    }
   ],
   "source": [
    "directory = '../input/contract-notes/'\n",
    "for index,row in contract_df.iterrows():\n",
    "    print(index)\n",
    "    full_path = os.path.join(directory,row['filename'])\n",
    "    print('full_path is {} --'.format(full_path))\n",
    "    contract = get_data(full_path) #get the contract converted to data frame\n",
    "    print('complete contract data shape is {}'.format(contract.shape))\n",
    "    collect_jun = get_script_frame(dataf=contract,script='SILVERMIC22JUNFUT',\n",
    "                              fwd_txn=row['Jun_txn'],fwd_qty=row['Jun_qty'],fwd_price=row['Jun_close'])\n",
    "    print('collect jun data shape is {}'.format(collect_jun.shape))\n",
    "    collect_apr = get_script_frame(dataf=contract,script='SILVERMIC22APRFUT',\n",
    "                              fwd_txn=row['Apr_txn'],fwd_qty=row['Apr_qty'],fwd_price=row['Apr_close'])\n",
    "    print('collect apr data shape is {}'.format(collect_apr.shape))\n",
    "    #build the excel file name\n",
    "    excel = row['filename'].split('-')\n",
    "    xl_file_name_jun = 'file_name_jun'+excel[2]+'.xls'\n",
    "    xl_file_name_apr = 'file_name_apr'+excel[2]+'.xls'\n",
    "    \n",
    "    #create excel files from collected data frames\n",
    "    collect_apr.to_excel(xl_file_name_apr)\n",
    "    collect_apr.to_excel(xl_file_name_jun)\n",
    "    print('Written the excel file for the {} dataset'.format(row['filename']))"
   ]
  },
  {
   "cell_type": "markdown",
   "id": "0b9008c1",
   "metadata": {
    "execution": {
     "iopub.execute_input": "2022-03-18T17:55:28.985013Z",
     "iopub.status.busy": "2022-03-18T17:55:28.984641Z",
     "iopub.status.idle": "2022-03-18T17:57:31.771278Z",
     "shell.execute_reply": "2022-03-18T17:57:31.770093Z",
     "shell.execute_reply.started": "2022-03-18T17:55:28.984979Z"
    },
    "papermill": {
     "duration": 0.081863,
     "end_time": "2022-03-19T05:16:13.013309",
     "exception": false,
     "start_time": "2022-03-19T05:16:12.931446",
     "status": "completed"
    },
    "tags": []
   },
   "source": [
    "for index, row in contract_df.iterrows():\n",
    "    #getting the raw file into the list\n",
    "    notes_data.append(get_data(os.path.join(directory,row['filename'])))\n",
    "    print('completed collecting {} data'.format(row['filename']))"
   ]
  }
 ],
 "metadata": {
  "kernelspec": {
   "display_name": "Python 3",
   "language": "python",
   "name": "python3"
  },
  "language_info": {
   "codemirror_mode": {
    "name": "ipython",
    "version": 3
   },
   "file_extension": ".py",
   "mimetype": "text/x-python",
   "name": "python",
   "nbconvert_exporter": "python",
   "pygments_lexer": "ipython3",
   "version": "3.7.12"
  },
  "papermill": {
   "default_parameters": {},
   "duration": 200.385944,
   "end_time": "2022-03-19T05:16:14.108389",
   "environment_variables": {},
   "exception": null,
   "input_path": "__notebook__.ipynb",
   "output_path": "__notebook__.ipynb",
   "parameters": {},
   "start_time": "2022-03-19T05:12:53.722445",
   "version": "2.3.3"
  }
 },
 "nbformat": 4,
 "nbformat_minor": 5
}
